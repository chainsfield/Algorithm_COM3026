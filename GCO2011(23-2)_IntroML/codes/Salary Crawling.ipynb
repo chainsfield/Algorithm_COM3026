{
 "cells": [
  {
   "cell_type": "code",
   "execution_count": 1,
   "id": "bc15a0b5",
   "metadata": {},
   "outputs": [],
   "source": [
    "from selenium import webdriver\n",
    "from selenium.webdriver.common.keys import Keys\n",
    "import time\n",
    "import pandas as pd\n",
    "import numpy as np\n",
    "from selenium.webdriver.common.by import By\n",
    "from selenium.webdriver.support.ui import WebDriverWait\n",
    "from selenium.webdriver.support import expected_conditions as EC"
   ]
  },
  {
   "cell_type": "code",
   "execution_count": 2,
   "id": "93ed1f1b",
   "metadata": {},
   "outputs": [
    {
     "name": "stderr",
     "output_type": "stream",
     "text": [
      "C:\\Users\\huhsu\\AppData\\Local\\Temp\\ipykernel_52092\\4236383956.py:3: DeprecationWarning: executable_path has been deprecated, please pass in a Service object\n",
      "  driver = webdriver.Chrome(ChromeDriverManager().install())\n"
     ]
    }
   ],
   "source": [
    "from webdriver_manager.chrome import ChromeDriverManager\n",
    "\n",
    "driver = webdriver.Chrome(ChromeDriverManager().install())\n",
    "\n",
    "te=['기아','삼성','두산','SSG','LG','롯데','한화','키움','NC','KT']\n"
   ]
  },
  {
   "cell_type": "code",
   "execution_count": 20,
   "id": "26ba60ff",
   "metadata": {},
   "outputs": [],
   "source": [
    "import pandas as pd\n",
    "import numpy as np\n",
    "from selenium import webdriver\n",
    "from selenium.webdriver.common.by import By\n",
    "\n",
    "for year in range(2016, 2023):\n",
    "    salary = pd.DataFrame(columns=['선수', '연도', '팀', '연봉', 'WAR'])\n",
    "    for team in range(1, 11):\n",
    "        team_salary = pd.DataFrame(columns=['선수', '연도', '팀', '연봉', 'WAR'])\n",
    "        url = 'http://www.statiz.co.kr/salary.php?opt=0&sopt=' + str(year) + '&cnv=&pos=&te=' + str(team)\n",
    "        driver.get(url)\n",
    "\n",
    "        xpath = '/html/body/div/div[1]/div/section[2]/div/div[2]/div[2]/div/div/div[2]/table'\n",
    "        data = driver.find_element(By.XPATH, xpath).text\n",
    "\n",
    "        data.split(sep = '\\n')\n",
    "        lines = data.split('\\n')\n",
    "        data_list = [line.split() for line in lines]\n",
    "\n",
    "        for i in range(1, len(data_list)):\n",
    "            if len(data_list[i]) < 5:\n",
    "                data_list[i].append(np.nan)\n",
    "            team_salary.loc[len(team_salary)] = data_list[i]\n",
    "\n",
    "        salary = pd.concat([salary, team_salary], ignore_index = True)\n",
    "\n",
    "    salary.to_csv('../raw_data/' + str(year) + ' salary.csv', index = False)\n"
   ]
  }
 ],
 "metadata": {
  "kernelspec": {
   "display_name": "Python 3 (ipykernel)",
   "language": "python",
   "name": "python3"
  },
  "language_info": {
   "codemirror_mode": {
    "name": "ipython",
    "version": 3
   },
   "file_extension": ".py",
   "mimetype": "text/x-python",
   "name": "python",
   "nbconvert_exporter": "python",
   "pygments_lexer": "ipython3",
   "version": "3.9.13"
  }
 },
 "nbformat": 4,
 "nbformat_minor": 5
}
