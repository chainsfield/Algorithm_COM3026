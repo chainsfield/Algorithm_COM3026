{
  "cells": [
    {
      "cell_type": "code",
      "execution_count": 1,
      "metadata": {
        "id": "cYxIPgUQQMMw"
      },
      "outputs": [],
      "source": [
        "import pandas as pd\n",
        "import numpy as np\n",
        "import networkx as nx\n",
        "import matplotlib.pyplot as plt"
      ]
    },
    {
      "cell_type": "code",
      "execution_count": 2,
      "metadata": {
        "id": "2WNe3FsGmhtn"
      },
      "outputs": [],
      "source": [
        "import warnings\n",
        "warnings.simplefilter(action = 'ignore', category = FutureWarning) # FutureWarning 제거"
      ]
    },
    {
      "cell_type": "code",
      "execution_count": 3,
      "metadata": {
        "colab": {
          "base_uri": "https://localhost:8080/",
          "height": 301
        },
        "id": "wNDyfaKiRCXy",
        "outputId": "6784f5b1-3080-42ee-b67f-ce46161f24d4"
      },
      "outputs": [
        {
          "data": {
            "text/html": [
              "<div>\n",
              "<style scoped>\n",
              "    .dataframe tbody tr th:only-of-type {\n",
              "        vertical-align: middle;\n",
              "    }\n",
              "\n",
              "    .dataframe tbody tr th {\n",
              "        vertical-align: top;\n",
              "    }\n",
              "\n",
              "    .dataframe thead th {\n",
              "        text-align: right;\n",
              "    }\n",
              "</style>\n",
              "<table border=\"1\" class=\"dataframe\">\n",
              "  <thead>\n",
              "    <tr style=\"text-align: right;\">\n",
              "      <th></th>\n",
              "      <th>이름</th>\n",
              "      <th>한자명</th>\n",
              "      <th>영문명칭</th>\n",
              "      <th>음/양력</th>\n",
              "      <th>생년월일</th>\n",
              "      <th>정당명</th>\n",
              "      <th>선거구</th>\n",
              "      <th>대표 위원회</th>\n",
              "      <th>재선</th>\n",
              "      <th>당선</th>\n",
              "      <th>...</th>\n",
              "      <th>이메일</th>\n",
              "      <th>홈페이지</th>\n",
              "      <th>보좌관</th>\n",
              "      <th>비서관</th>\n",
              "      <th>비서</th>\n",
              "      <th>재직구분</th>\n",
              "      <th>직업</th>\n",
              "      <th>학력</th>\n",
              "      <th>경력</th>\n",
              "      <th>득표수</th>\n",
              "    </tr>\n",
              "  </thead>\n",
              "  <tbody>\n",
              "    <tr>\n",
              "      <th>0</th>\n",
              "      <td>강기윤</td>\n",
              "      <td>姜起潤</td>\n",
              "      <td>KANG GIYUN</td>\n",
              "      <td>양</td>\n",
              "      <td>1960-06-04</td>\n",
              "      <td>국민의힘</td>\n",
              "      <td>경남 창원시성산구</td>\n",
              "      <td>보건복지위원회</td>\n",
              "      <td>재선</td>\n",
              "      <td>제19대, 제21대</td>\n",
              "      <td>...</td>\n",
              "      <td>ggotop@naver.com</td>\n",
              "      <td>http://blog.naver.com/ggotop</td>\n",
              "      <td>한영애</td>\n",
              "      <td>김샛별, 장원종</td>\n",
              "      <td>안효상, 빈자영, 이유진, 김지훈, 조옥자</td>\n",
              "      <td>60001</td>\n",
              "      <td>정당인</td>\n",
              "      <td>창원대학교 대학원 졸업(행정학 박사)</td>\n",
              "      <td>(전)19대 국회의원\\n(현)미래통합당 경남도당 민생위원회 위원장</td>\n",
              "      <td>61,782\\n(47.30)</td>\n",
              "    </tr>\n",
              "  </tbody>\n",
              "</table>\n",
              "<p>1 rows × 24 columns</p>\n",
              "</div>"
            ],
            "text/plain": [
              "    이름  한자명        영문명칭 음/양력        생년월일   정당명        선거구   대표 위원회  재선  \\\n",
              "0  강기윤  姜起潤  KANG GIYUN    양  1960-06-04  국민의힘  경남 창원시성산구  보건복지위원회  재선   \n",
              "\n",
              "           당선  ...               이메일                          홈페이지  보좌관  \\\n",
              "0  제19대, 제21대  ...  ggotop@naver.com  http://blog.naver.com/ggotop  한영애   \n",
              "\n",
              "        비서관                       비서   재직구분   직업                    학력  \\\n",
              "0  김샛별, 장원종  안효상, 빈자영, 이유진, 김지훈, 조옥자  60001  정당인  창원대학교 대학원 졸업(행정학 박사)   \n",
              "\n",
              "                                     경력              득표수  \n",
              "0  (전)19대 국회의원\\n(현)미래통합당 경남도당 민생위원회 위원장  61,782\\n(47.30)  \n",
              "\n",
              "[1 rows x 24 columns]"
            ]
          },
          "execution_count": 3,
          "metadata": {},
          "output_type": "execute_result"
        }
      ],
      "source": [
        "# 국회의원 298명에 대한 정보를 담고 있는 member df, node가 될 예정\n",
        "member = pd.read_excel('./raw_data/member_of_Congress.xlsx')\n",
        "member.head(1)"
      ]
    },
    {
      "cell_type": "code",
      "execution_count": 4,
      "metadata": {
        "colab": {
          "base_uri": "https://localhost:8080/",
          "height": 143
        },
        "id": "xVbTPF6WXYA7",
        "outputId": "93b38c5d-3123-4c9f-b46c-6f7a796cfa25"
      },
      "outputs": [
        {
          "data": {
            "text/html": [
              "<div>\n",
              "<style scoped>\n",
              "    .dataframe tbody tr th:only-of-type {\n",
              "        vertical-align: middle;\n",
              "    }\n",
              "\n",
              "    .dataframe tbody tr th {\n",
              "        vertical-align: top;\n",
              "    }\n",
              "\n",
              "    .dataframe thead th {\n",
              "        text-align: right;\n",
              "    }\n",
              "</style>\n",
              "<table border=\"1\" class=\"dataframe\">\n",
              "  <thead>\n",
              "    <tr style=\"text-align: right;\">\n",
              "      <th></th>\n",
              "      <th>이름</th>\n",
              "      <th>생년월일</th>\n",
              "      <th>정당명</th>\n",
              "      <th>선거구</th>\n",
              "      <th>재선</th>\n",
              "      <th>소속 위원회 목록</th>\n",
              "      <th>성별</th>\n",
              "      <th>학력</th>\n",
              "    </tr>\n",
              "  </thead>\n",
              "  <tbody>\n",
              "    <tr>\n",
              "      <th>0</th>\n",
              "      <td>강기윤(姜起潤)</td>\n",
              "      <td>1960-06-04</td>\n",
              "      <td>국민의힘</td>\n",
              "      <td>경남 창원시성산구</td>\n",
              "      <td>재선</td>\n",
              "      <td>보건복지위원회</td>\n",
              "      <td>남</td>\n",
              "      <td>창원대학교 대학원 졸업(행정학 박사)</td>\n",
              "    </tr>\n",
              "    <tr>\n",
              "      <th>1</th>\n",
              "      <td>강대식(姜大植)</td>\n",
              "      <td>1959-11-02</td>\n",
              "      <td>국민의힘</td>\n",
              "      <td>대구 동구을</td>\n",
              "      <td>초선</td>\n",
              "      <td>국토교통위원회</td>\n",
              "      <td>남</td>\n",
              "      <td>영남대학교 대학원 경영학과 졸업(경영학박사)</td>\n",
              "    </tr>\n",
              "    <tr>\n",
              "      <th>2</th>\n",
              "      <td>강득구(姜得求)</td>\n",
              "      <td>1963-05-27</td>\n",
              "      <td>더불어민주당</td>\n",
              "      <td>경기 안양시만안구</td>\n",
              "      <td>초선</td>\n",
              "      <td>인구위기특별위원회, 교육위원회</td>\n",
              "      <td>남</td>\n",
              "      <td>연세대학교 행정대학원 졸업(행정학석사)</td>\n",
              "    </tr>\n",
              "  </tbody>\n",
              "</table>\n",
              "</div>"
            ],
            "text/plain": [
              "         이름        생년월일     정당명        선거구  재선         소속 위원회 목록 성별  \\\n",
              "0  강기윤(姜起潤)  1960-06-04    국민의힘  경남 창원시성산구  재선           보건복지위원회  남   \n",
              "1  강대식(姜大植)  1959-11-02    국민의힘     대구 동구을  초선           국토교통위원회  남   \n",
              "2  강득구(姜得求)  1963-05-27  더불어민주당  경기 안양시만안구  초선  인구위기특별위원회, 교육위원회  남   \n",
              "\n",
              "                         학력  \n",
              "0      창원대학교 대학원 졸업(행정학 박사)  \n",
              "1  영남대학교 대학원 경영학과 졸업(경영학박사)  \n",
              "2     연세대학교 행정대학원 졸업(행정학석사)  "
            ]
          },
          "execution_count": 4,
          "metadata": {},
          "output_type": "execute_result"
        }
      ],
      "source": [
        "# member df 전처리 과정\n",
        "member.loc[member['이름'] == '양원영', ['이름']] = '양이원영' # 이름 오류 수정\n",
        "member['이름'] = member['이름'] + '(' + member['한자명'] + ')' # primary key인 이름(한자) 생성\n",
        "member.sort_values(by = '이름', inplace = True) # 동명이인의 한자명에 따른 정렬 순서 이상 때문에 정렬 한 번\n",
        "member.reset_index(drop = True, inplace = True) # 정렬에 따른 인덱스 이상 때문에 인덱스 정렬 한 번\n",
        "member = member[['이름','생년월일','정당명','선거구','재선','소속 위원회 목록','성별','학력']]\n",
        "member.head(3) # 필요 없는 데이터 잠깐 지우겠슴다"
      ]
    },
    {
      "cell_type": "code",
      "execution_count": 6,
      "metadata": {
        "colab": {
          "base_uri": "https://localhost:8080/"
        },
        "id": "02G-rKP9aEDU",
        "outputId": "66cce4e9-100b-48da-a890-6ce4e0366b29"
      },
      "outputs": [
        {
          "data": {
            "text/plain": [
              "1    155\n",
              "2     69\n",
              "3     41\n",
              "4     20\n",
              "5     12\n",
              "6      1\n",
              "Name: 당선, dtype: int64"
            ]
          },
          "execution_count": 6,
          "metadata": {},
          "output_type": "execute_result"
        }
      ],
      "source": [
        "# 그래프에서 feature로 활용하기 위해 당선횟수를 숫자로\n",
        "member.rename(columns = {'재선' : '당선'}, inplace = True)\n",
        "member['당선'] = member['당선'].str.replace('초', '1')\n",
        "member['당선'] = member['당선'].str.replace('재', '2')\n",
        "member['당선'] = member['당선'].str.replace('선', '')\n",
        "member['당선'] = member['당선'].apply(pd.to_numeric)\n",
        "member['당선'].value_counts()"
      ]
    },
    {
      "cell_type": "code",
      "execution_count": 7,
      "metadata": {
        "colab": {
          "base_uri": "https://localhost:8080/",
          "height": 143
        },
        "id": "z6KnoyGUfG6F",
        "outputId": "a76fb19a-1119-4384-a279-667152d70bcc"
      },
      "outputs": [
        {
          "data": {
            "text/html": [
              "<div>\n",
              "<style scoped>\n",
              "    .dataframe tbody tr th:only-of-type {\n",
              "        vertical-align: middle;\n",
              "    }\n",
              "\n",
              "    .dataframe tbody tr th {\n",
              "        vertical-align: top;\n",
              "    }\n",
              "\n",
              "    .dataframe thead th {\n",
              "        text-align: right;\n",
              "    }\n",
              "</style>\n",
              "<table border=\"1\" class=\"dataframe\">\n",
              "  <thead>\n",
              "    <tr style=\"text-align: right;\">\n",
              "      <th></th>\n",
              "      <th>이름</th>\n",
              "      <th>나이</th>\n",
              "      <th>정당명</th>\n",
              "      <th>선거구</th>\n",
              "      <th>당선</th>\n",
              "      <th>소속 위원회 목록</th>\n",
              "      <th>성별</th>\n",
              "      <th>학력</th>\n",
              "    </tr>\n",
              "  </thead>\n",
              "  <tbody>\n",
              "    <tr>\n",
              "      <th>0</th>\n",
              "      <td>강기윤(姜起潤)</td>\n",
              "      <td>63</td>\n",
              "      <td>국민의힘</td>\n",
              "      <td>경남 창원시성산구</td>\n",
              "      <td>2</td>\n",
              "      <td>보건복지위원회</td>\n",
              "      <td>남</td>\n",
              "      <td>창원대학교 대학원 졸업(행정학 박사)</td>\n",
              "    </tr>\n",
              "    <tr>\n",
              "      <th>1</th>\n",
              "      <td>강대식(姜大植)</td>\n",
              "      <td>64</td>\n",
              "      <td>국민의힘</td>\n",
              "      <td>대구 동구을</td>\n",
              "      <td>1</td>\n",
              "      <td>국토교통위원회</td>\n",
              "      <td>남</td>\n",
              "      <td>영남대학교 대학원 경영학과 졸업(경영학박사)</td>\n",
              "    </tr>\n",
              "    <tr>\n",
              "      <th>2</th>\n",
              "      <td>강득구(姜得求)</td>\n",
              "      <td>60</td>\n",
              "      <td>더불어민주당</td>\n",
              "      <td>경기 안양시만안구</td>\n",
              "      <td>1</td>\n",
              "      <td>인구위기특별위원회, 교육위원회</td>\n",
              "      <td>남</td>\n",
              "      <td>연세대학교 행정대학원 졸업(행정학석사)</td>\n",
              "    </tr>\n",
              "  </tbody>\n",
              "</table>\n",
              "</div>"
            ],
            "text/plain": [
              "         이름  나이     정당명        선거구  당선         소속 위원회 목록 성별  \\\n",
              "0  강기윤(姜起潤)  63    국민의힘  경남 창원시성산구   2           보건복지위원회  남   \n",
              "1  강대식(姜大植)  64    국민의힘     대구 동구을   1           국토교통위원회  남   \n",
              "2  강득구(姜得求)  60  더불어민주당  경기 안양시만안구   1  인구위기특별위원회, 교육위원회  남   \n",
              "\n",
              "                         학력  \n",
              "0      창원대학교 대학원 졸업(행정학 박사)  \n",
              "1  영남대학교 대학원 경영학과 졸업(경영학박사)  \n",
              "2     연세대학교 행정대학원 졸업(행정학석사)  "
            ]
          },
          "execution_count": 7,
          "metadata": {},
          "output_type": "execute_result"
        }
      ],
      "source": [
        "# 그래프에서 feature로 활용하기 위해 생년월일 to 나이\n",
        "from datetime import datetime\n",
        "\n",
        "member['생년월일'] = member['생년월일'].str.replace('-', '')\n",
        "member['생년월일'] = pd.to_numeric(member['생년월일'])\n",
        "today = int(datetime.now().strftime(\"%Y%m%d\"))\n",
        "member['생년월일'] = (today - member['생년월일'])//10000\n",
        "member.rename(columns = {'생년월일' : '나이'}, inplace = True)\n",
        "member.head(3)"
      ]
    },
    {
      "cell_type": "code",
      "execution_count": 8,
      "metadata": {
        "colab": {
          "base_uri": "https://localhost:8080/"
        },
        "id": "1BCqpquurmFT",
        "outputId": "1fd92d3c-0cee-401f-f4b7-1217884f92eb"
      },
      "outputs": [
        {
          "data": {
            "text/plain": [
              "대졸       122\n",
              "석사        84\n",
              "박사        66\n",
              "박사 수료     18\n",
              "석사 수료      6\n",
              "고졸         2\n",
              "Name: 학력, dtype: int64"
            ]
          },
          "execution_count": 8,
          "metadata": {},
          "output_type": "execute_result"
        }
      ],
      "source": [
        "# 그래프에서 feature로 활용하기 위해 학력 표준화\n",
        "arr = []\n",
        "for edu in member['학력']:\n",
        "  edu = str(edu)\n",
        "  if '박사' in edu and '수료' in edu:\n",
        "    arr.append('박사 수료')\n",
        "  elif '박사' in edu:\n",
        "    arr.append('박사')\n",
        "  elif '수료' in edu and '석사' in edu:\n",
        "    arr.append('석사 수료')\n",
        "  elif '석사' in edu:\n",
        "    arr.append('석사')\n",
        "  elif '중퇴' in edu or '고등학교' in edu:\n",
        "    arr.append('고졸')\n",
        "  else:\n",
        "    arr.append('대졸')\n",
        "\n",
        "member['학력'] = arr\n",
        "member['학력'].value_counts()"
      ]
    },
    {
      "cell_type": "code",
      "execution_count": 9,
      "metadata": {
        "colab": {
          "base_uri": "https://localhost:8080/"
        },
        "id": "MiXz5rHHgWbY",
        "outputId": "cfe11d06-c3ee-4a8a-b2fe-06270cff47d3"
      },
      "outputs": [
        {
          "name": "stdout",
          "output_type": "stream",
          "text": [
            "['과학기술정보방송통신위원회', '교육위원회', '국방위원회', '국토교통위원회', '국회 2030 부산세계박람회 유치지원 특별위원회', '국회운영위원회', '기획재정위원회', '기후위기특별위원회', '농림축산식품해양수산위원회', '문화체육관광위원회', '법제사법위원회', '보건복지위원회', '산업통상자원중소벤처기업위원회', '여성가족위원회', '연금개혁특별위원회', '예산결산특별위원회', '외교통일위원회', '윤리특별위원회', '인구위기특별위원회', '정무위원회', '정보위원회', '정치개혁특별위원회', '첨단전략산업특별위원회', '행정안전위원회', '헌법재판소장(이종석)임명동의에관한인사청문특별위원회', '환경노동위원회']\n"
          ]
        }
      ],
      "source": [
        "# 그래프에서 feature로 활용하기 위해 위원회 정리...를 어떻게 할까\n",
        "committee = member['소속 위원회 목록'][member['소속 위원회 목록'].notnull()].str.split(', ')\n",
        "comm = sorted(list(set([data for inner_list in committee for data in inner_list])))\n",
        "print(comm, sep = ' ')"
      ]
    },
    {
      "cell_type": "code",
      "execution_count": 10,
      "metadata": {
        "colab": {
          "base_uri": "https://localhost:8080/",
          "height": 233
        },
        "id": "5RugEurrc1l9",
        "outputId": "665803d1-5574-4dea-b106-bfad354bafe8"
      },
      "outputs": [
        {
          "name": "stderr",
          "output_type": "stream",
          "text": [
            "C:\\Users\\parkg\\AppData\\Local\\Temp\\ipykernel_31476\\64595070.py:5: SettingWithCopyWarning: \n",
            "A value is trying to be set on a copy of a slice from a DataFrame\n",
            "\n",
            "See the caveats in the documentation: https://pandas.pydata.org/pandas-docs/stable/user_guide/indexing.html#returning-a-view-versus-a-copy\n",
            "  member.loc[idx_temp]['위원회'] = 0\n"
          ]
        },
        {
          "data": {
            "text/html": [
              "<div>\n",
              "<style scoped>\n",
              "    .dataframe tbody tr th:only-of-type {\n",
              "        vertical-align: middle;\n",
              "    }\n",
              "\n",
              "    .dataframe tbody tr th {\n",
              "        vertical-align: top;\n",
              "    }\n",
              "\n",
              "    .dataframe thead th {\n",
              "        text-align: right;\n",
              "    }\n",
              "</style>\n",
              "<table border=\"1\" class=\"dataframe\">\n",
              "  <thead>\n",
              "    <tr style=\"text-align: right;\">\n",
              "      <th></th>\n",
              "      <th>이름</th>\n",
              "      <th>나이</th>\n",
              "      <th>정당명</th>\n",
              "      <th>선거구</th>\n",
              "      <th>당선</th>\n",
              "      <th>소속 위원회 목록</th>\n",
              "      <th>성별</th>\n",
              "      <th>학력</th>\n",
              "      <th>위원회</th>\n",
              "    </tr>\n",
              "  </thead>\n",
              "  <tbody>\n",
              "    <tr>\n",
              "      <th>0</th>\n",
              "      <td>강기윤(姜起潤)</td>\n",
              "      <td>63</td>\n",
              "      <td>국민의힘</td>\n",
              "      <td>경남 창원시성산구</td>\n",
              "      <td>2</td>\n",
              "      <td>보건복지위원회</td>\n",
              "      <td>남</td>\n",
              "      <td>박사</td>\n",
              "      <td>1</td>\n",
              "    </tr>\n",
              "    <tr>\n",
              "      <th>1</th>\n",
              "      <td>강대식(姜大植)</td>\n",
              "      <td>64</td>\n",
              "      <td>국민의힘</td>\n",
              "      <td>대구 동구을</td>\n",
              "      <td>1</td>\n",
              "      <td>국토교통위원회</td>\n",
              "      <td>남</td>\n",
              "      <td>박사</td>\n",
              "      <td>1</td>\n",
              "    </tr>\n",
              "    <tr>\n",
              "      <th>2</th>\n",
              "      <td>강득구(姜得求)</td>\n",
              "      <td>60</td>\n",
              "      <td>더불어민주당</td>\n",
              "      <td>경기 안양시만안구</td>\n",
              "      <td>1</td>\n",
              "      <td>인구위기특별위원회, 교육위원회</td>\n",
              "      <td>남</td>\n",
              "      <td>석사</td>\n",
              "      <td>1</td>\n",
              "    </tr>\n",
              "  </tbody>\n",
              "</table>\n",
              "</div>"
            ],
            "text/plain": [
              "         이름  나이     정당명        선거구  당선         소속 위원회 목록 성별  학력  위원회\n",
              "0  강기윤(姜起潤)  63    국민의힘  경남 창원시성산구   2           보건복지위원회  남  박사    1\n",
              "1  강대식(姜大植)  64    국민의힘     대구 동구을   1           국토교통위원회  남  박사    1\n",
              "2  강득구(姜得求)  60  더불어민주당  경기 안양시만안구   1  인구위기특별위원회, 교육위원회  남  석사    1"
            ]
          },
          "execution_count": 10,
          "metadata": {},
          "output_type": "execute_result"
        }
      ],
      "source": [
        "idx_temp = member[member['소속 위원회 목록'].isna()].index[0]\n",
        "for i in member.index:\n",
        "    if i != idx_temp:\n",
        "        member['위원회'] = member.loc[i, '소속 위원회 목록'].count(',') + 1\n",
        "member.loc[idx_temp]['위원회'] = 0\n",
        "member.head(3)"
      ]
    },
    {
      "cell_type": "code",
      "execution_count": 11,
      "metadata": {
        "colab": {
          "base_uri": "https://localhost:8080/",
          "height": 143
        },
        "id": "YRIwbkTu03JD",
        "outputId": "1602c0f0-54ba-47b7-b7ff-f9d112983c67"
      },
      "outputs": [
        {
          "data": {
            "text/html": [
              "<div>\n",
              "<style scoped>\n",
              "    .dataframe tbody tr th:only-of-type {\n",
              "        vertical-align: middle;\n",
              "    }\n",
              "\n",
              "    .dataframe tbody tr th {\n",
              "        vertical-align: top;\n",
              "    }\n",
              "\n",
              "    .dataframe thead th {\n",
              "        text-align: right;\n",
              "    }\n",
              "</style>\n",
              "<table border=\"1\" class=\"dataframe\">\n",
              "  <thead>\n",
              "    <tr style=\"text-align: right;\">\n",
              "      <th></th>\n",
              "      <th>PRC_M2L3N1N0M2L5J1S4Q3R7Q3O5W3V5U3</th>\n",
              "      <th>이용우</th>\n",
              "      <th>더불어민주당</th>\n",
              "      <th>李龍雨</th>\n",
              "      <th>9771184</th>\n",
              "    </tr>\n",
              "  </thead>\n",
              "  <tbody>\n",
              "    <tr>\n",
              "      <th>0</th>\n",
              "      <td>PRC_M2L3N1N0M2L5J1S4Q3R7Q3O5W3V5U3</td>\n",
              "      <td>강훈식</td>\n",
              "      <td>더불어민주당</td>\n",
              "      <td>姜勳植</td>\n",
              "      <td>9771007.0</td>\n",
              "    </tr>\n",
              "    <tr>\n",
              "      <th>1</th>\n",
              "      <td>PRC_M2L3N1N0M2L5J1S4Q3R7Q3O5W3V5U3</td>\n",
              "      <td>김상희</td>\n",
              "      <td>더불어민주당</td>\n",
              "      <td>金相姬</td>\n",
              "      <td>9770527.0</td>\n",
              "    </tr>\n",
              "    <tr>\n",
              "      <th>2</th>\n",
              "      <td>PRC_M2L3N1N0M2L5J1S4Q3R7Q3O5W3V5U3</td>\n",
              "      <td>김한규</td>\n",
              "      <td>더불어민주당</td>\n",
              "      <td>金翰奎</td>\n",
              "      <td>9771296.0</td>\n",
              "    </tr>\n",
              "  </tbody>\n",
              "</table>\n",
              "</div>"
            ],
            "text/plain": [
              "   PRC_M2L3N1N0M2L5J1S4Q3R7Q3O5W3V5U3  이용우  더불어민주당  李龍雨    9771184\n",
              "0  PRC_M2L3N1N0M2L5J1S4Q3R7Q3O5W3V5U3  강훈식  더불어민주당  姜勳植  9771007.0\n",
              "1  PRC_M2L3N1N0M2L5J1S4Q3R7Q3O5W3V5U3  김상희  더불어민주당  金相姬  9770527.0\n",
              "2  PRC_M2L3N1N0M2L5J1S4Q3R7Q3O5W3V5U3  김한규  더불어민주당  金翰奎  9771296.0"
            ]
          },
          "execution_count": 11,
          "metadata": {},
          "output_type": "execute_result"
        }
      ],
      "source": [
        "# 가장 문제인 법안을 함께 작업한 국회의원 state\n",
        "relation_raw = pd.read_csv('./raw_data/scraped_data_3.csv')\n",
        "relation_raw.head(3)"
      ]
    },
    {
      "cell_type": "code",
      "execution_count": 12,
      "metadata": {
        "colab": {
          "base_uri": "https://localhost:8080/",
          "height": 143
        },
        "id": "FJC-FU5NR0JW",
        "outputId": "3b22f44b-09b2-4ddd-80ad-b273fd2fa1a6"
      },
      "outputs": [
        {
          "data": {
            "text/html": [
              "<div>\n",
              "<style scoped>\n",
              "    .dataframe tbody tr th:only-of-type {\n",
              "        vertical-align: middle;\n",
              "    }\n",
              "\n",
              "    .dataframe tbody tr th {\n",
              "        vertical-align: top;\n",
              "    }\n",
              "\n",
              "    .dataframe thead th {\n",
              "        text-align: right;\n",
              "    }\n",
              "</style>\n",
              "<table border=\"1\" class=\"dataframe\">\n",
              "  <thead>\n",
              "    <tr style=\"text-align: right;\">\n",
              "      <th></th>\n",
              "      <th>인덱스</th>\n",
              "      <th>이름</th>\n",
              "      <th>정당명</th>\n",
              "      <th>한자명</th>\n",
              "      <th>번호</th>\n",
              "    </tr>\n",
              "  </thead>\n",
              "  <tbody>\n",
              "    <tr>\n",
              "      <th>0</th>\n",
              "      <td>PRC_M2L3N1N0M2L5J1S4Q3R7Q3O5W3V5U3</td>\n",
              "      <td>이용우</td>\n",
              "      <td>더불어민주당</td>\n",
              "      <td>李龍雨</td>\n",
              "      <td>9771184</td>\n",
              "    </tr>\n",
              "    <tr>\n",
              "      <th>1</th>\n",
              "      <td>PRC_M2L3N1N0M2L5J1S4Q3R7Q3O5W3V5U3</td>\n",
              "      <td>강훈식</td>\n",
              "      <td>더불어민주당</td>\n",
              "      <td>姜勳植</td>\n",
              "      <td>9771007.0</td>\n",
              "    </tr>\n",
              "    <tr>\n",
              "      <th>2</th>\n",
              "      <td>PRC_M2L3N1N0M2L5J1S4Q3R7Q3O5W3V5U3</td>\n",
              "      <td>김상희</td>\n",
              "      <td>더불어민주당</td>\n",
              "      <td>金相姬</td>\n",
              "      <td>9770527.0</td>\n",
              "    </tr>\n",
              "  </tbody>\n",
              "</table>\n",
              "</div>"
            ],
            "text/plain": [
              "                                  인덱스   이름     정당명  한자명         번호\n",
              "0  PRC_M2L3N1N0M2L5J1S4Q3R7Q3O5W3V5U3  이용우  더불어민주당  李龍雨    9771184\n",
              "1  PRC_M2L3N1N0M2L5J1S4Q3R7Q3O5W3V5U3  강훈식  더불어민주당  姜勳植  9771007.0\n",
              "2  PRC_M2L3N1N0M2L5J1S4Q3R7Q3O5W3V5U3  김상희  더불어민주당  金相姬  9770527.0"
            ]
          },
          "execution_count": 12,
          "metadata": {},
          "output_type": "execute_result"
        }
      ],
      "source": [
        "# 컬럼명이 없어서 전처리\n",
        "tmp1 = ['인덱스','이름','정당명','한자명','번호']\n",
        "tmp2 = list(relation_raw.columns)\n",
        "tmp3 = pd.DataFrame([tmp2], columns = tmp1)\n",
        "relation_raw.columns = tmp3.columns.copy()\n",
        "relation = pd.concat([tmp3, relation_raw], axis = 0)\n",
        "relation.reset_index(drop = True, inplace = True)\n",
        "relation.dropna(subset = ['이름','한자명'], inplace = True) # 이름이 없는 데이터는 살릴 수 없어 과감히 drop\n",
        "relation.head(3)"
      ]
    },
    {
      "cell_type": "code",
      "execution_count": 13,
      "metadata": {
        "colab": {
          "base_uri": "https://localhost:8080/",
          "height": 143
        },
        "id": "S2m5zhBDVUxo",
        "outputId": "68e9a034-10ae-4292-febf-348b0453f397"
      },
      "outputs": [
        {
          "data": {
            "text/html": [
              "<div>\n",
              "<style scoped>\n",
              "    .dataframe tbody tr th:only-of-type {\n",
              "        vertical-align: middle;\n",
              "    }\n",
              "\n",
              "    .dataframe tbody tr th {\n",
              "        vertical-align: top;\n",
              "    }\n",
              "\n",
              "    .dataframe thead th {\n",
              "        text-align: right;\n",
              "    }\n",
              "</style>\n",
              "<table border=\"1\" class=\"dataframe\">\n",
              "  <thead>\n",
              "    <tr style=\"text-align: right;\">\n",
              "      <th></th>\n",
              "      <th>인덱스</th>\n",
              "      <th>이름</th>\n",
              "      <th>정당명</th>\n",
              "      <th>번호</th>\n",
              "    </tr>\n",
              "  </thead>\n",
              "  <tbody>\n",
              "    <tr>\n",
              "      <th>0</th>\n",
              "      <td>PRC_M2L3N1N0M2L5J1S4Q3R7Q3O5W3V5U3</td>\n",
              "      <td>이용우(李龍雨)</td>\n",
              "      <td>더불어민주당</td>\n",
              "      <td>9771184</td>\n",
              "    </tr>\n",
              "    <tr>\n",
              "      <th>1</th>\n",
              "      <td>PRC_M2L3N1N0M2L5J1S4Q3R7Q3O5W3V5U3</td>\n",
              "      <td>강훈식(姜勳植)</td>\n",
              "      <td>더불어민주당</td>\n",
              "      <td>9771007.0</td>\n",
              "    </tr>\n",
              "    <tr>\n",
              "      <th>2</th>\n",
              "      <td>PRC_M2L3N1N0M2L5J1S4Q3R7Q3O5W3V5U3</td>\n",
              "      <td>김상희(金相姬)</td>\n",
              "      <td>더불어민주당</td>\n",
              "      <td>9770527.0</td>\n",
              "    </tr>\n",
              "  </tbody>\n",
              "</table>\n",
              "</div>"
            ],
            "text/plain": [
              "                                  인덱스        이름     정당명         번호\n",
              "0  PRC_M2L3N1N0M2L5J1S4Q3R7Q3O5W3V5U3  이용우(李龍雨)  더불어민주당    9771184\n",
              "1  PRC_M2L3N1N0M2L5J1S4Q3R7Q3O5W3V5U3  강훈식(姜勳植)  더불어민주당  9771007.0\n",
              "2  PRC_M2L3N1N0M2L5J1S4Q3R7Q3O5W3V5U3  김상희(金相姬)  더불어민주당  9770527.0"
            ]
          },
          "execution_count": 13,
          "metadata": {},
          "output_type": "execute_result"
        }
      ],
      "source": [
        "# primary key인 이름(한자) 생성\n",
        "relation['이름'] = relation['이름'] + '(' + relation['한자명'] + ')'\n",
        "relation.drop(columns = ['한자명'], inplace = True)\n",
        "relation.drop_duplicates(inplace = True) # 중복 데이터를 제거\n",
        "relation.head(3)"
      ]
    },
    {
      "cell_type": "code",
      "execution_count": 14,
      "metadata": {
        "colab": {
          "base_uri": "https://localhost:8080/"
        },
        "id": "DHx_kqqOwzh4",
        "outputId": "bbef9787-3e17-44fb-8281-c927217c5f15"
      },
      "outputs": [
        {
          "name": "stdout",
          "output_type": "stream",
          "text": [
            "법안의 의원 명수: 323. 실제 의원 명수: 298. 법안에 있는 의원이 아닌 사람 수: 26\n"
          ]
        }
      ],
      "source": [
        "# relation에는 지금은 없는 의원과 이름이 잘못된 의원이 존재\n",
        "name_arr1 = sorted(relation['이름'].unique())\n",
        "name_arr2 = sorted(list(member['이름'].copy()))\n",
        "name_arr3 = []\n",
        "for i in name_arr1:\n",
        "  if i not in name_arr2:\n",
        "    name_arr3.append(i)\n",
        "print(f'법안의 의원 명수: {len(name_arr1)}. 실제 의원 명수: {len(name_arr2)}. 법안에 있는 의원이 아닌 사람 수: {len(name_arr3)}')"
      ]
    },
    {
      "cell_type": "code",
      "execution_count": 15,
      "metadata": {
        "colab": {
          "base_uri": "https://localhost:8080/"
        },
        "id": "u5IClAJ_w4F-",
        "outputId": "d8cf567e-408b-4232-fac4-7bcedc5057ea"
      },
      "outputs": [
        {
          "name": "stdout",
          "output_type": "stream",
          "text": [
            "{'고민정(IOUAiO)': '고민정(高旼廷)', '고용진(高榕진)': '고용진(高榕禛)', '김종민(金鍾民)': '김종민(金鐘民)', '박정하(朴正何)': '박정하(朴正河)', '심상정(沈相정)': '심상정(沈相奵)', '이종성(李鐘成)': '이종성(李鍾成)', '지성호(地成浩)': '지성호(池成浩)'}\n"
          ]
        }
      ],
      "source": [
        "# 이름 고쳐줄 의원들 딕셔너리\n",
        "mem_dict = {}\n",
        "for i in name_arr2:\n",
        "  for j in name_arr3:\n",
        "    if i[0:3] == j[0:3]:\n",
        "      mem_dict[j] = i\n",
        "print(mem_dict, sep = ' ')"
      ]
    },
    {
      "cell_type": "code",
      "execution_count": 16,
      "metadata": {
        "colab": {
          "base_uri": "https://localhost:8080/"
        },
        "id": "0nmwc2iLw6Vt",
        "outputId": "fdc92d34-00a8-4e8b-a8c6-570b6fd9c340"
      },
      "outputs": [
        {
          "name": "stdout",
          "output_type": "stream",
          "text": [
            "['곽상도(郭尙道)', '김선교(金善敎)', '김은혜(金恩慧)', '김진애(金鎭愛)', '김태흠(金泰欽)', '박완수(朴完洙)', '송영길(宋永吉)', '오영훈(吳怜勳)', '윤희숙(尹喜淑)', '이광재(李光宰)', '이규민(李圭閔)', '이낙연(李洛淵)', '이상직(李相稷)', '이영(李永)', '정정순(鄭正淳)', '정찬민(鄭燦敏)', '조태용(趙太庸)', '최강욱(崔康旭)', '홍준표(洪準杓)']\n"
          ]
        }
      ],
      "source": [
        "ban_list = [] # 지금은 없어서 제거해줄 의원들 리스트\n",
        "for i in name_arr3:\n",
        "  if i not in mem_dict:\n",
        "    ban_list.append(i)\n",
        "print(ban_list, sep = ' ')"
      ]
    },
    {
      "cell_type": "code",
      "execution_count": 17,
      "metadata": {
        "colab": {
          "base_uri": "https://localhost:8080/",
          "height": 143
        },
        "id": "jnTGnJOXxI7E",
        "outputId": "b688346e-9cb4-4c7f-8745-fc06dcc78710"
      },
      "outputs": [
        {
          "data": {
            "text/html": [
              "<div>\n",
              "<style scoped>\n",
              "    .dataframe tbody tr th:only-of-type {\n",
              "        vertical-align: middle;\n",
              "    }\n",
              "\n",
              "    .dataframe tbody tr th {\n",
              "        vertical-align: top;\n",
              "    }\n",
              "\n",
              "    .dataframe thead th {\n",
              "        text-align: right;\n",
              "    }\n",
              "</style>\n",
              "<table border=\"1\" class=\"dataframe\">\n",
              "  <thead>\n",
              "    <tr style=\"text-align: right;\">\n",
              "      <th></th>\n",
              "      <th>인덱스</th>\n",
              "      <th>이름</th>\n",
              "      <th>정당명</th>\n",
              "      <th>번호</th>\n",
              "    </tr>\n",
              "  </thead>\n",
              "  <tbody>\n",
              "    <tr>\n",
              "      <th>0</th>\n",
              "      <td>PRC_M2L3N1N0M2L5J1S4Q3R7Q3O5W3V5U3</td>\n",
              "      <td>이용우(李龍雨)</td>\n",
              "      <td>더불어민주당</td>\n",
              "      <td>9771184</td>\n",
              "    </tr>\n",
              "    <tr>\n",
              "      <th>1</th>\n",
              "      <td>PRC_M2L3N1N0M2L5J1S4Q3R7Q3O5W3V5U3</td>\n",
              "      <td>강훈식(姜勳植)</td>\n",
              "      <td>더불어민주당</td>\n",
              "      <td>9771007.0</td>\n",
              "    </tr>\n",
              "    <tr>\n",
              "      <th>2</th>\n",
              "      <td>PRC_M2L3N1N0M2L5J1S4Q3R7Q3O5W3V5U3</td>\n",
              "      <td>김상희(金相姬)</td>\n",
              "      <td>더불어민주당</td>\n",
              "      <td>9770527.0</td>\n",
              "    </tr>\n",
              "  </tbody>\n",
              "</table>\n",
              "</div>"
            ],
            "text/plain": [
              "                                  인덱스        이름     정당명         번호\n",
              "0  PRC_M2L3N1N0M2L5J1S4Q3R7Q3O5W3V5U3  이용우(李龍雨)  더불어민주당    9771184\n",
              "1  PRC_M2L3N1N0M2L5J1S4Q3R7Q3O5W3V5U3  강훈식(姜勳植)  더불어민주당  9771007.0\n",
              "2  PRC_M2L3N1N0M2L5J1S4Q3R7Q3O5W3V5U3  김상희(金相姬)  더불어민주당  9770527.0"
            ]
          },
          "execution_count": 17,
          "metadata": {},
          "output_type": "execute_result"
        }
      ],
      "source": [
        "relation.reset_index(inplace = True, drop = True)\n",
        "for i in range(len(relation)): # 이름 잘못된 거 처리\n",
        "  if relation['이름'][i] in mem_dict:\n",
        "      relation['이름'][i] = mem_dict[relation['이름'][i]]\n",
        "relation.head(3)"
      ]
    },
    {
      "cell_type": "code",
      "execution_count": 18,
      "metadata": {
        "colab": {
          "base_uri": "https://localhost:8080/",
          "height": 175
        },
        "id": "kbUSjOQhyFh8",
        "outputId": "32270509-4a32-4410-85e1-6624f88dea6f"
      },
      "outputs": [
        {
          "data": {
            "text/html": [
              "<div>\n",
              "<style scoped>\n",
              "    .dataframe tbody tr th:only-of-type {\n",
              "        vertical-align: middle;\n",
              "    }\n",
              "\n",
              "    .dataframe tbody tr th {\n",
              "        vertical-align: top;\n",
              "    }\n",
              "\n",
              "    .dataframe thead th {\n",
              "        text-align: right;\n",
              "    }\n",
              "</style>\n",
              "<table border=\"1\" class=\"dataframe\">\n",
              "  <thead>\n",
              "    <tr style=\"text-align: right;\">\n",
              "      <th></th>\n",
              "      <th>인덱스</th>\n",
              "      <th>정당명</th>\n",
              "      <th>번호</th>\n",
              "    </tr>\n",
              "    <tr>\n",
              "      <th>이름</th>\n",
              "      <th></th>\n",
              "      <th></th>\n",
              "      <th></th>\n",
              "    </tr>\n",
              "  </thead>\n",
              "  <tbody>\n",
              "    <tr>\n",
              "      <th>이용우(李龍雨)</th>\n",
              "      <td>PRC_M2L3N1N0M2L5J1S4Q3R7Q3O5W3V5U3</td>\n",
              "      <td>더불어민주당</td>\n",
              "      <td>9771184</td>\n",
              "    </tr>\n",
              "    <tr>\n",
              "      <th>강훈식(姜勳植)</th>\n",
              "      <td>PRC_M2L3N1N0M2L5J1S4Q3R7Q3O5W3V5U3</td>\n",
              "      <td>더불어민주당</td>\n",
              "      <td>9771007.0</td>\n",
              "    </tr>\n",
              "    <tr>\n",
              "      <th>김상희(金相姬)</th>\n",
              "      <td>PRC_M2L3N1N0M2L5J1S4Q3R7Q3O5W3V5U3</td>\n",
              "      <td>더불어민주당</td>\n",
              "      <td>9770527.0</td>\n",
              "    </tr>\n",
              "  </tbody>\n",
              "</table>\n",
              "</div>"
            ],
            "text/plain": [
              "                                         인덱스     정당명         번호\n",
              "이름                                                             \n",
              "이용우(李龍雨)  PRC_M2L3N1N0M2L5J1S4Q3R7Q3O5W3V5U3  더불어민주당    9771184\n",
              "강훈식(姜勳植)  PRC_M2L3N1N0M2L5J1S4Q3R7Q3O5W3V5U3  더불어민주당  9771007.0\n",
              "김상희(金相姬)  PRC_M2L3N1N0M2L5J1S4Q3R7Q3O5W3V5U3  더불어민주당  9770527.0"
            ]
          },
          "execution_count": 18,
          "metadata": {},
          "output_type": "execute_result"
        }
      ],
      "source": [
        "relation.set_index('이름', inplace = True) # 인덱스로 처리하면 속도가 빠르다\n",
        "relation.drop(ban_list, axis = 0, inplace = True) # 없는 의원들 제거\n",
        "relation.head(3)"
      ]
    },
    {
      "cell_type": "code",
      "execution_count": 19,
      "metadata": {
        "colab": {
          "base_uri": "https://localhost:8080/"
        },
        "id": "7xjdFJFiy-2k",
        "outputId": "f471720b-09a9-4b76-961d-4f4f21127f66"
      },
      "outputs": [
        {
          "name": "stdout",
          "output_type": "stream",
          "text": [
            "강기윤(姜起潤) 강대식(姜大植) 강민국(姜旻局) 강민정(姜旼姃) 구자근(具滋根) 권명호(權明浩) 권성동(權性東) 권영세(權寧世) 권은희(權垠希) 김기현(金起炫) 김남국(金南局) 김도읍(金度邑) 김미애(金美愛) 김병욱(金炳旭) 김병욱(金炳旭) 김상훈(金相勳) 김석기(金碩基) 김성원(金成願) 김승수(金承洙) 김영식(金英植) 김예지(金睿智) 김용판(金用判) 김웅(金雄) 김의겸(金宜謙) 김정재(金汀才) 김진표(金振杓) 김태호(金台鎬) 김형동(金亨東) 김홍걸(金弘傑) 김희곤(金熙坤) 김희국(金熙國) 류성걸(柳性杰) 민형배(閔馨培) 박대수(朴大壽) 박대출(朴大出) 박덕흠(朴德欽) 박병석(朴炳錫) 박성민(朴聖敏) 박성중(朴成重) 박수영(朴洙瑩) 박완주(朴完柱) 박진(朴振) 박형수(朴亨修) 배준영(裵俊英) 배현진(裵賢鎭) 백종헌(白宗憲) 서범수(徐範洙) 서병수(徐秉洙) 서일준(徐一俊) 서정숙(徐正淑) 성일종(成一鍾) 송석준(宋錫俊) 송언석(宋彦錫) 신원식(申源湜) 안병길(安炳吉) 양금희(梁琴喜) 양이원영(梁李媛瑛) 양향자(梁香子) 엄태영(嚴泰永) 유경준(兪京濬) 유상범(劉相凡) 유의동(兪義東) 윤관석(尹官石) 윤두현(尹斗鉉) 윤미향(尹美香) 윤상현(尹相現) 윤영석(尹永碩) 윤재옥(尹在玉) 윤주경(尹柱卿) 윤창현(尹暢賢) 윤한홍(尹漢洪) 이달곤(李達坤) 이만희(李晩熙) 이명수(李明洙) 이성만(李成萬) 이양수(李亮壽) 이용(李鏞) 이용호(李容鎬) 이종배(李鍾培) 이종성(李鍾成) 이주환(李周桓) 이채익(李埰益) 이철규(李喆圭) 이태규(李泰珪) 이헌승(李憲昇) 임병헌(林炳憲) 임이자(林利子) 장제원(張濟元) 전봉민(田奉珉) 전주혜(全珠惠) 정경희(丁慶姬) 정동만(鄭東萬) 정운천(鄭雲天) 정점식(鄭点植) 정진석(鄭鎭碩) 정희용(鄭熙溶) 조경태(趙慶泰) 조명희(曺明姬) 조수진(趙修眞) 조해진(曺海珍) 주호영(朱豪英) 지성호(池成浩) 최승재(崔承宰) 최연숙(崔姸淑) 최춘식(崔春植) 최형두(崔炯斗) 추경호(秋慶鎬) 태영호(太永浩) 하영제(河榮帝) 하태경(河泰慶) 한기호(韓起鎬) 한무경(韓茂景) 허은아(許垠娥) 홍문표(洪文杓) 홍석준(洪碩晙) 황보승희(皇甫承希) "
          ]
        }
      ],
      "source": [
        "for i in member['이름']:\n",
        "    if len(relation.loc[i]['정당명'].unique()) != 1:\n",
        "        print(i, end = ' ')"
      ]
    },
    {
      "cell_type": "code",
      "execution_count": 20,
      "metadata": {
        "colab": {
          "base_uri": "https://localhost:8080/",
          "height": 112
        },
        "id": "RU_rRi0F1-cG",
        "outputId": "a578a2ad-6692-4012-cda3-52e3cb947df4"
      },
      "outputs": [
        {
          "data": {
            "text/html": [
              "<div>\n",
              "<style scoped>\n",
              "    .dataframe tbody tr th:only-of-type {\n",
              "        vertical-align: middle;\n",
              "    }\n",
              "\n",
              "    .dataframe tbody tr th {\n",
              "        vertical-align: top;\n",
              "    }\n",
              "\n",
              "    .dataframe thead th {\n",
              "        text-align: right;\n",
              "    }\n",
              "</style>\n",
              "<table border=\"1\" class=\"dataframe\">\n",
              "  <thead>\n",
              "    <tr style=\"text-align: right;\">\n",
              "      <th></th>\n",
              "      <th>이름</th>\n",
              "      <th>나이</th>\n",
              "      <th>정당명</th>\n",
              "      <th>선거구</th>\n",
              "      <th>당선</th>\n",
              "      <th>소속 위원회 목록</th>\n",
              "      <th>성별</th>\n",
              "      <th>학력</th>\n",
              "      <th>위원회</th>\n",
              "    </tr>\n",
              "  </thead>\n",
              "  <tbody>\n",
              "    <tr>\n",
              "      <th>34</th>\n",
              "      <td>김병욱(金炳旭)</td>\n",
              "      <td>58</td>\n",
              "      <td>더불어민주당</td>\n",
              "      <td>경기 성남시분당구을</td>\n",
              "      <td>2</td>\n",
              "      <td>국토교통위원회, 예산결산특별위원회</td>\n",
              "      <td>남</td>\n",
              "      <td>석사</td>\n",
              "      <td>1</td>\n",
              "    </tr>\n",
              "    <tr>\n",
              "      <th>35</th>\n",
              "      <td>김병욱(金炳旭)</td>\n",
              "      <td>46</td>\n",
              "      <td>국민의힘</td>\n",
              "      <td>경북 포항시남구울릉군</td>\n",
              "      <td>1</td>\n",
              "      <td>과학기술정보방송통신위원회</td>\n",
              "      <td>남</td>\n",
              "      <td>석사</td>\n",
              "      <td>1</td>\n",
              "    </tr>\n",
              "  </tbody>\n",
              "</table>\n",
              "</div>"
            ],
            "text/plain": [
              "          이름  나이     정당명          선거구  당선           소속 위원회 목록 성별  학력  위원회\n",
              "34  김병욱(金炳旭)  58  더불어민주당   경기 성남시분당구을   2  국토교통위원회, 예산결산특별위원회  남  석사    1\n",
              "35  김병욱(金炳旭)  46    국민의힘  경북 포항시남구울릉군   1       과학기술정보방송통신위원회  남  석사    1"
            ]
          },
          "execution_count": 20,
          "metadata": {},
          "output_type": "execute_result"
        }
      ],
      "source": [
        "member[member['이름'].duplicated(keep = False)]"
      ]
    },
    {
      "cell_type": "code",
      "execution_count": 21,
      "metadata": {
        "colab": {
          "base_uri": "https://localhost:8080/",
          "height": 112
        },
        "id": "lR0heI8419ui",
        "outputId": "0c44b9d9-0760-4771-bdd1-d94ab57cc1a8"
      },
      "outputs": [
        {
          "data": {
            "text/html": [
              "<div>\n",
              "<style scoped>\n",
              "    .dataframe tbody tr th:only-of-type {\n",
              "        vertical-align: middle;\n",
              "    }\n",
              "\n",
              "    .dataframe tbody tr th {\n",
              "        vertical-align: top;\n",
              "    }\n",
              "\n",
              "    .dataframe thead th {\n",
              "        text-align: right;\n",
              "    }\n",
              "</style>\n",
              "<table border=\"1\" class=\"dataframe\">\n",
              "  <thead>\n",
              "    <tr style=\"text-align: right;\">\n",
              "      <th></th>\n",
              "      <th>이름</th>\n",
              "      <th>나이</th>\n",
              "      <th>정당명</th>\n",
              "      <th>선거구</th>\n",
              "      <th>당선</th>\n",
              "      <th>소속 위원회 목록</th>\n",
              "      <th>성별</th>\n",
              "      <th>학력</th>\n",
              "      <th>위원회</th>\n",
              "    </tr>\n",
              "  </thead>\n",
              "  <tbody>\n",
              "    <tr>\n",
              "      <th>34</th>\n",
              "      <td>김병욱A(金炳旭)</td>\n",
              "      <td>58</td>\n",
              "      <td>더불어민주당</td>\n",
              "      <td>경기 성남시분당구을</td>\n",
              "      <td>2</td>\n",
              "      <td>국토교통위원회, 예산결산특별위원회</td>\n",
              "      <td>남</td>\n",
              "      <td>석사</td>\n",
              "      <td>1</td>\n",
              "    </tr>\n",
              "    <tr>\n",
              "      <th>35</th>\n",
              "      <td>김병욱B(金炳旭)</td>\n",
              "      <td>46</td>\n",
              "      <td>국민의힘</td>\n",
              "      <td>경북 포항시남구울릉군</td>\n",
              "      <td>1</td>\n",
              "      <td>과학기술정보방송통신위원회</td>\n",
              "      <td>남</td>\n",
              "      <td>석사</td>\n",
              "      <td>1</td>\n",
              "    </tr>\n",
              "  </tbody>\n",
              "</table>\n",
              "</div>"
            ],
            "text/plain": [
              "           이름  나이     정당명          선거구  당선           소속 위원회 목록 성별  학력  위원회\n",
              "34  김병욱A(金炳旭)  58  더불어민주당   경기 성남시분당구을   2  국토교통위원회, 예산결산특별위원회  남  석사    1\n",
              "35  김병욱B(金炳旭)  46    국민의힘  경북 포항시남구울릉군   1       과학기술정보방송통신위원회  남  석사    1"
            ]
          },
          "execution_count": 21,
          "metadata": {},
          "output_type": "execute_result"
        }
      ],
      "source": [
        "idx_temp = member[member['이름'].duplicated(keep = False)].index\n",
        "name_temp1 = member.loc[idx_temp[0], '이름']\n",
        "member.loc[idx_temp[0], '이름'] = name_temp1[0:3] + 'A' + name_temp1[3:]\n",
        "name_temp1 = member.loc[idx_temp[1], '이름']\n",
        "member.loc[idx_temp[1], '이름'] = name_temp1[0:3] + 'B' + name_temp1[3:]\n",
        "member.loc[idx_temp]"
      ]
    },
    {
      "cell_type": "code",
      "execution_count": 22,
      "metadata": {
        "colab": {
          "base_uri": "https://localhost:8080/",
          "height": 53
        },
        "id": "fQBuS9K63GUs",
        "outputId": "93b109d4-425b-4de6-fd05-5fae210d0da0"
      },
      "outputs": [
        {
          "data": {
            "text/html": [
              "<div>\n",
              "<style scoped>\n",
              "    .dataframe tbody tr th:only-of-type {\n",
              "        vertical-align: middle;\n",
              "    }\n",
              "\n",
              "    .dataframe tbody tr th {\n",
              "        vertical-align: top;\n",
              "    }\n",
              "\n",
              "    .dataframe thead th {\n",
              "        text-align: right;\n",
              "    }\n",
              "</style>\n",
              "<table border=\"1\" class=\"dataframe\">\n",
              "  <thead>\n",
              "    <tr style=\"text-align: right;\">\n",
              "      <th></th>\n",
              "      <th>이름</th>\n",
              "      <th>인덱스</th>\n",
              "      <th>정당명</th>\n",
              "      <th>번호</th>\n",
              "    </tr>\n",
              "  </thead>\n",
              "  <tbody>\n",
              "  </tbody>\n",
              "</table>\n",
              "</div>"
            ],
            "text/plain": [
              "Empty DataFrame\n",
              "Columns: [이름, 인덱스, 정당명, 번호]\n",
              "Index: []"
            ]
          },
          "execution_count": 22,
          "metadata": {},
          "output_type": "execute_result"
        }
      ],
      "source": [
        "relation.reset_index(inplace = True)\n",
        "relation.loc[(relation['이름'] == '김병욱(金炳旭)') & (relation['정당명'] == '더불어민주당'), '이름'] = '김병욱A(金炳旭)'\n",
        "relation.loc[(relation['이름'] == '김병욱(金炳旭)') & (relation['정당명'] == '무소속'), '정당명'] = '국민의힘'\n",
        "relation.loc[(relation['이름'] == '김병욱(金炳旭)') & (relation['정당명'] == '미래통합당'), '정당명'] = '국민의힘'\n",
        "relation.loc[(relation['이름'] == '김병욱(金炳旭)') & (relation['정당명'] == '국민의힘'), '이름'] = '김병욱B(金炳旭)'\n",
        "relation.loc[relation['이름'] == '김병욱(金炳旭)'].head(3)"
      ]
    },
    {
      "cell_type": "code",
      "execution_count": 23,
      "metadata": {
        "colab": {
          "base_uri": "https://localhost:8080/",
          "height": 175
        },
        "id": "M-_Ym7rtLMXQ",
        "outputId": "abfc32b9-d33a-4ab8-f26a-09f7fe0fd4c0"
      },
      "outputs": [
        {
          "data": {
            "text/html": [
              "<div>\n",
              "<style scoped>\n",
              "    .dataframe tbody tr th:only-of-type {\n",
              "        vertical-align: middle;\n",
              "    }\n",
              "\n",
              "    .dataframe tbody tr th {\n",
              "        vertical-align: top;\n",
              "    }\n",
              "\n",
              "    .dataframe thead th {\n",
              "        text-align: right;\n",
              "    }\n",
              "</style>\n",
              "<table border=\"1\" class=\"dataframe\">\n",
              "  <thead>\n",
              "    <tr style=\"text-align: right;\">\n",
              "      <th></th>\n",
              "      <th>인덱스</th>\n",
              "      <th>정당명</th>\n",
              "      <th>번호</th>\n",
              "    </tr>\n",
              "    <tr>\n",
              "      <th>이름</th>\n",
              "      <th></th>\n",
              "      <th></th>\n",
              "      <th></th>\n",
              "    </tr>\n",
              "  </thead>\n",
              "  <tbody>\n",
              "    <tr>\n",
              "      <th>이용우(李龍雨)</th>\n",
              "      <td>PRC_M2L3N1N0M2L5J1S4Q3R7Q3O5W3V5U3</td>\n",
              "      <td>더불어민주당</td>\n",
              "      <td>9771184</td>\n",
              "    </tr>\n",
              "    <tr>\n",
              "      <th>강훈식(姜勳植)</th>\n",
              "      <td>PRC_M2L3N1N0M2L5J1S4Q3R7Q3O5W3V5U3</td>\n",
              "      <td>더불어민주당</td>\n",
              "      <td>9771007.0</td>\n",
              "    </tr>\n",
              "    <tr>\n",
              "      <th>김상희(金相姬)</th>\n",
              "      <td>PRC_M2L3N1N0M2L5J1S4Q3R7Q3O5W3V5U3</td>\n",
              "      <td>더불어민주당</td>\n",
              "      <td>9770527.0</td>\n",
              "    </tr>\n",
              "  </tbody>\n",
              "</table>\n",
              "</div>"
            ],
            "text/plain": [
              "                                         인덱스     정당명         번호\n",
              "이름                                                             \n",
              "이용우(李龍雨)  PRC_M2L3N1N0M2L5J1S4Q3R7Q3O5W3V5U3  더불어민주당    9771184\n",
              "강훈식(姜勳植)  PRC_M2L3N1N0M2L5J1S4Q3R7Q3O5W3V5U3  더불어민주당  9771007.0\n",
              "김상희(金相姬)  PRC_M2L3N1N0M2L5J1S4Q3R7Q3O5W3V5U3  더불어민주당  9770527.0"
            ]
          },
          "execution_count": 23,
          "metadata": {},
          "output_type": "execute_result"
        }
      ],
      "source": [
        "relation.set_index('이름', inplace = True)\n",
        "for i in range(len(member)):\n",
        "    relation.loc[member.loc[i, '이름'], '정당명'] = member.loc[i, '정당명']\n",
        "relation.head(3)"
      ]
    },
    {
      "cell_type": "code",
      "execution_count": 24,
      "metadata": {
        "id": "D9mgRj7X0y_N"
      },
      "outputs": [],
      "source": [
        "for i in member['이름']:\n",
        "    if len(relation.loc[i]['정당명'].unique()) != 1:\n",
        "        print(i, end = ' ')"
      ]
    },
    {
      "cell_type": "code",
      "execution_count": 25,
      "metadata": {
        "colab": {
          "base_uri": "https://localhost:8080/",
          "height": 143
        },
        "id": "gAWCm5wcUgnw",
        "outputId": "82b0d2f1-fac6-4a22-db69-81b24cae771c"
      },
      "outputs": [
        {
          "data": {
            "text/html": [
              "<div>\n",
              "<style scoped>\n",
              "    .dataframe tbody tr th:only-of-type {\n",
              "        vertical-align: middle;\n",
              "    }\n",
              "\n",
              "    .dataframe tbody tr th {\n",
              "        vertical-align: top;\n",
              "    }\n",
              "\n",
              "    .dataframe thead th {\n",
              "        text-align: right;\n",
              "    }\n",
              "</style>\n",
              "<table border=\"1\" class=\"dataframe\">\n",
              "  <thead>\n",
              "    <tr style=\"text-align: right;\">\n",
              "      <th></th>\n",
              "      <th>제목</th>\n",
              "      <th>담당</th>\n",
              "      <th>날짜</th>\n",
              "      <th>임시</th>\n",
              "      <th>임시2</th>\n",
              "      <th>임시3</th>\n",
              "      <th>상태</th>\n",
              "      <th>계류</th>\n",
              "      <th>인덱스</th>\n",
              "    </tr>\n",
              "  </thead>\n",
              "  <tbody>\n",
              "    <tr>\n",
              "      <th>2125205</th>\n",
              "      <td>자본시장과 금융투자업에 관한 법률 일부개정법률안(이용우의원 등 11인)</td>\n",
              "      <td>의원</td>\n",
              "      <td>2023-10-30</td>\n",
              "      <td>NaN</td>\n",
              "      <td>NaN</td>\n",
              "      <td>NaN</td>\n",
              "      <td>접수</td>\n",
              "      <td>계</td>\n",
              "      <td>PRC_M2L3N1N0M2L5J1S4Q3R7Q3O5W3V5U3</td>\n",
              "    </tr>\n",
              "    <tr>\n",
              "      <th>2125204</th>\n",
              "      <td>공유재산 및 물품 관리법 일부개정법률안(황희의원 등 12인)</td>\n",
              "      <td>의원</td>\n",
              "      <td>2023-10-30</td>\n",
              "      <td>NaN</td>\n",
              "      <td>NaN</td>\n",
              "      <td>NaN</td>\n",
              "      <td>접수</td>\n",
              "      <td>계</td>\n",
              "      <td>PRC_O2T3B1B0Z2Z4F1E3C3Z9Y4H8G7F4M3</td>\n",
              "    </tr>\n",
              "    <tr>\n",
              "      <th>2125203</th>\n",
              "      <td>학교용지 확보 등에 관한 특례법 일부개정법률안(황희의원 등 12인)</td>\n",
              "      <td>의원</td>\n",
              "      <td>2023-10-30</td>\n",
              "      <td>NaN</td>\n",
              "      <td>NaN</td>\n",
              "      <td>NaN</td>\n",
              "      <td>접수</td>\n",
              "      <td>계</td>\n",
              "      <td>PRC_Z2X3W1X0W2R4Q1Y3X4W1V3D3B6I0G7</td>\n",
              "    </tr>\n",
              "  </tbody>\n",
              "</table>\n",
              "</div>"
            ],
            "text/plain": [
              "                                                제목  담당          날짜   임시  임시2  \\\n",
              "2125205    자본시장과 금융투자업에 관한 법률 일부개정법률안(이용우의원 등 11인)  의원  2023-10-30  NaN  NaN   \n",
              "2125204          공유재산 및 물품 관리법 일부개정법률안(황희의원 등 12인)  의원  2023-10-30  NaN  NaN   \n",
              "2125203      학교용지 확보 등에 관한 특례법 일부개정법률안(황희의원 등 12인)  의원  2023-10-30  NaN  NaN   \n",
              "\n",
              "         임시3  상태 계류                                 인덱스  \n",
              "2125205  NaN  접수  계  PRC_M2L3N1N0M2L5J1S4Q3R7Q3O5W3V5U3  \n",
              "2125204  NaN  접수  계  PRC_O2T3B1B0Z2Z4F1E3C3Z9Y4H8G7F4M3  \n",
              "2125203  NaN  접수  계  PRC_Z2X3W1X0W2R4Q1Y3X4W1V3D3B6I0G7  "
            ]
          },
          "execution_count": 25,
          "metadata": {},
          "output_type": "execute_result"
        }
      ],
      "source": [
        "# 아직은 상태 feature만을 가져오기 위한 state\n",
        "custom_column_names = ['제목','담당','날짜','임시','임시2','임시3','상태','계류','인덱스']\n",
        "state = pd.read_csv('./raw_data/scraped_data.csv', names = custom_column_names, skiprows = 1)\n",
        "state.dropna(subset = ['상태'], inplace = True) # 상태가 없으면 쓸모가 없지요\n",
        "state.head(3)"
      ]
    },
    {
      "cell_type": "code",
      "execution_count": 26,
      "metadata": {
        "colab": {
          "base_uri": "https://localhost:8080/",
          "height": 143
        },
        "id": "QjAIWBCvcYeY",
        "outputId": "8a16f9d8-4924-48bf-c0e2-4d06a55d61f8"
      },
      "outputs": [
        {
          "data": {
            "text/html": [
              "<div>\n",
              "<style scoped>\n",
              "    .dataframe tbody tr th:only-of-type {\n",
              "        vertical-align: middle;\n",
              "    }\n",
              "\n",
              "    .dataframe tbody tr th {\n",
              "        vertical-align: top;\n",
              "    }\n",
              "\n",
              "    .dataframe thead th {\n",
              "        text-align: right;\n",
              "    }\n",
              "</style>\n",
              "<table border=\"1\" class=\"dataframe\">\n",
              "  <thead>\n",
              "    <tr style=\"text-align: right;\">\n",
              "      <th></th>\n",
              "      <th>인덱스</th>\n",
              "      <th>상태</th>\n",
              "      <th>제목</th>\n",
              "    </tr>\n",
              "  </thead>\n",
              "  <tbody>\n",
              "    <tr>\n",
              "      <th>0</th>\n",
              "      <td>PRC_M2L3N1N0M2L5J1S4Q3R7Q3O5W3V5U3</td>\n",
              "      <td>접수</td>\n",
              "      <td>자본시장과 금융투자업에 관한 법률 일부개정법률안(이용우의원 등 11인)</td>\n",
              "    </tr>\n",
              "    <tr>\n",
              "      <th>1</th>\n",
              "      <td>PRC_O2T3B1B0Z2Z4F1E3C3Z9Y4H8G7F4M3</td>\n",
              "      <td>접수</td>\n",
              "      <td>공유재산 및 물품 관리법 일부개정법률안(황희의원 등 12인)</td>\n",
              "    </tr>\n",
              "    <tr>\n",
              "      <th>2</th>\n",
              "      <td>PRC_Z2X3W1X0W2R4Q1Y3X4W1V3D3B6I0G7</td>\n",
              "      <td>접수</td>\n",
              "      <td>학교용지 확보 등에 관한 특례법 일부개정법률안(황희의원 등 12인)</td>\n",
              "    </tr>\n",
              "  </tbody>\n",
              "</table>\n",
              "</div>"
            ],
            "text/plain": [
              "                                  인덱스  상태  \\\n",
              "0  PRC_M2L3N1N0M2L5J1S4Q3R7Q3O5W3V5U3  접수   \n",
              "1  PRC_O2T3B1B0Z2Z4F1E3C3Z9Y4H8G7F4M3  접수   \n",
              "2  PRC_Z2X3W1X0W2R4Q1Y3X4W1V3D3B6I0G7  접수   \n",
              "\n",
              "                                          제목  \n",
              "0    자본시장과 금융투자업에 관한 법률 일부개정법률안(이용우의원 등 11인)  \n",
              "1          공유재산 및 물품 관리법 일부개정법률안(황희의원 등 12인)  \n",
              "2      학교용지 확보 등에 관한 특례법 일부개정법률안(황희의원 등 12인)  "
            ]
          },
          "execution_count": 26,
          "metadata": {},
          "output_type": "execute_result"
        }
      ],
      "source": [
        "# join 해주기 위해 전처리\n",
        "state_temp = state.loc[:, ['인덱스','상태','제목']]\n",
        "state_temp.reset_index(inplace = True)\n",
        "state_temp.drop(columns = ['index'], inplace = True)\n",
        "state_temp.head(3)"
      ]
    },
    {
      "cell_type": "code",
      "execution_count": 27,
      "metadata": {
        "colab": {
          "base_uri": "https://localhost:8080/",
          "height": 143
        },
        "id": "I43ZHk88do5g",
        "outputId": "ccb4c594-2857-42c2-b159-232e49029d77"
      },
      "outputs": [
        {
          "data": {
            "text/html": [
              "<div>\n",
              "<style scoped>\n",
              "    .dataframe tbody tr th:only-of-type {\n",
              "        vertical-align: middle;\n",
              "    }\n",
              "\n",
              "    .dataframe tbody tr th {\n",
              "        vertical-align: top;\n",
              "    }\n",
              "\n",
              "    .dataframe thead th {\n",
              "        text-align: right;\n",
              "    }\n",
              "</style>\n",
              "<table border=\"1\" class=\"dataframe\">\n",
              "  <thead>\n",
              "    <tr style=\"text-align: right;\">\n",
              "      <th></th>\n",
              "      <th>이름</th>\n",
              "      <th>인덱스</th>\n",
              "      <th>정당명</th>\n",
              "      <th>번호</th>\n",
              "      <th>상태</th>\n",
              "      <th>제목</th>\n",
              "    </tr>\n",
              "  </thead>\n",
              "  <tbody>\n",
              "    <tr>\n",
              "      <th>0</th>\n",
              "      <td>이용우(李龍雨)</td>\n",
              "      <td>PRC_M2L3N1N0M2L5J1S4Q3R7Q3O5W3V5U3</td>\n",
              "      <td>더불어민주당</td>\n",
              "      <td>9771184</td>\n",
              "      <td>접수</td>\n",
              "      <td>자본시장과 금융투자업에 관한 법률 일부개정법률안(이용우의원 등 11인)</td>\n",
              "    </tr>\n",
              "    <tr>\n",
              "      <th>1</th>\n",
              "      <td>강훈식(姜勳植)</td>\n",
              "      <td>PRC_M2L3N1N0M2L5J1S4Q3R7Q3O5W3V5U3</td>\n",
              "      <td>더불어민주당</td>\n",
              "      <td>9771007.0</td>\n",
              "      <td>접수</td>\n",
              "      <td>자본시장과 금융투자업에 관한 법률 일부개정법률안(이용우의원 등 11인)</td>\n",
              "    </tr>\n",
              "    <tr>\n",
              "      <th>2</th>\n",
              "      <td>김상희(金相姬)</td>\n",
              "      <td>PRC_M2L3N1N0M2L5J1S4Q3R7Q3O5W3V5U3</td>\n",
              "      <td>더불어민주당</td>\n",
              "      <td>9770527.0</td>\n",
              "      <td>접수</td>\n",
              "      <td>자본시장과 금융투자업에 관한 법률 일부개정법률안(이용우의원 등 11인)</td>\n",
              "    </tr>\n",
              "  </tbody>\n",
              "</table>\n",
              "</div>"
            ],
            "text/plain": [
              "         이름                                 인덱스     정당명         번호  상태  \\\n",
              "0  이용우(李龍雨)  PRC_M2L3N1N0M2L5J1S4Q3R7Q3O5W3V5U3  더불어민주당    9771184  접수   \n",
              "1  강훈식(姜勳植)  PRC_M2L3N1N0M2L5J1S4Q3R7Q3O5W3V5U3  더불어민주당  9771007.0  접수   \n",
              "2  김상희(金相姬)  PRC_M2L3N1N0M2L5J1S4Q3R7Q3O5W3V5U3  더불어민주당  9770527.0  접수   \n",
              "\n",
              "                                          제목  \n",
              "0    자본시장과 금융투자업에 관한 법률 일부개정법률안(이용우의원 등 11인)  \n",
              "1    자본시장과 금융투자업에 관한 법률 일부개정법률안(이용우의원 등 11인)  \n",
              "2    자본시장과 금융투자업에 관한 법률 일부개정법률안(이용우의원 등 11인)  "
            ]
          },
          "execution_count": 27,
          "metadata": {},
          "output_type": "execute_result"
        }
      ],
      "source": [
        "# inner join\n",
        "relation.reset_index(inplace = True)\n",
        "relation_state = pd.merge(relation, state_temp, how = 'inner', on = '인덱스')\n",
        "relation_state.drop_duplicates(inplace = True) # 중복 데이터를 제거\n",
        "relation_state.reset_index(drop = True, inplace = True)\n",
        "relation_state.head(3)"
      ]
    },
    {
      "cell_type": "code",
      "execution_count": 28,
      "metadata": {
        "colab": {
          "base_uri": "https://localhost:8080/"
        },
        "id": "6_teODEQmrYE",
        "outputId": "583b6817-c73a-4fb3-9f95-c69c21b917b8"
      },
      "outputs": [
        {
          "name": "stdout",
          "output_type": "stream",
          "text": [
            "['이름', '소관위심사', '철회', '체계자구심사', '소관위접수', '정부이송', '본희의의결', '접수', '본회의부의안건', '공포', '수정안반영폐기', '본회의불부의', '대안반영폐기', '본회의의결', '폐기']\n"
          ]
        }
      ],
      "source": [
        "column_temp = ['이름']\n",
        "column_temp += list(set(relation_state['상태']))\n",
        "column_temp_new = [x for x in column_temp if pd.isnull(x) == False]\n",
        "print(column_temp_new , sep = ' ')"
      ]
    },
    {
      "cell_type": "code",
      "execution_count": 29,
      "metadata": {
        "colab": {
          "base_uri": "https://localhost:8080/",
          "height": 213
        },
        "id": "QjByybqvm5rX",
        "outputId": "e958f89a-eb10-458f-c86d-c9235d95c821"
      },
      "outputs": [
        {
          "data": {
            "text/html": [
              "<div>\n",
              "<style scoped>\n",
              "    .dataframe tbody tr th:only-of-type {\n",
              "        vertical-align: middle;\n",
              "    }\n",
              "\n",
              "    .dataframe tbody tr th {\n",
              "        vertical-align: top;\n",
              "    }\n",
              "\n",
              "    .dataframe thead th {\n",
              "        text-align: right;\n",
              "    }\n",
              "</style>\n",
              "<table border=\"1\" class=\"dataframe\">\n",
              "  <thead>\n",
              "    <tr style=\"text-align: right;\">\n",
              "      <th></th>\n",
              "      <th>이름</th>\n",
              "      <th>소관위심사</th>\n",
              "      <th>철회</th>\n",
              "      <th>체계자구심사</th>\n",
              "      <th>소관위접수</th>\n",
              "      <th>정부이송</th>\n",
              "      <th>본희의의결</th>\n",
              "      <th>접수</th>\n",
              "      <th>본회의부의안건</th>\n",
              "      <th>공포</th>\n",
              "      <th>수정안반영폐기</th>\n",
              "      <th>본회의불부의</th>\n",
              "      <th>대안반영폐기</th>\n",
              "      <th>본회의의결</th>\n",
              "      <th>폐기</th>\n",
              "      <th>상호작용</th>\n",
              "    </tr>\n",
              "  </thead>\n",
              "  <tbody>\n",
              "    <tr>\n",
              "      <th>0</th>\n",
              "      <td>강기윤(姜起潤)</td>\n",
              "      <td>673</td>\n",
              "      <td>17</td>\n",
              "      <td>4</td>\n",
              "      <td>178</td>\n",
              "      <td>1</td>\n",
              "      <td>0</td>\n",
              "      <td>8</td>\n",
              "      <td>0</td>\n",
              "      <td>51</td>\n",
              "      <td>15</td>\n",
              "      <td>4</td>\n",
              "      <td>223</td>\n",
              "      <td>54</td>\n",
              "      <td>8</td>\n",
              "      <td>1236</td>\n",
              "    </tr>\n",
              "    <tr>\n",
              "      <th>1</th>\n",
              "      <td>강대식(姜大植)</td>\n",
              "      <td>558</td>\n",
              "      <td>8</td>\n",
              "      <td>4</td>\n",
              "      <td>139</td>\n",
              "      <td>0</td>\n",
              "      <td>0</td>\n",
              "      <td>12</td>\n",
              "      <td>0</td>\n",
              "      <td>41</td>\n",
              "      <td>28</td>\n",
              "      <td>2</td>\n",
              "      <td>184</td>\n",
              "      <td>53</td>\n",
              "      <td>4</td>\n",
              "      <td>1033</td>\n",
              "    </tr>\n",
              "    <tr>\n",
              "      <th>2</th>\n",
              "      <td>강득구(姜得求)</td>\n",
              "      <td>985</td>\n",
              "      <td>23</td>\n",
              "      <td>1</td>\n",
              "      <td>164</td>\n",
              "      <td>2</td>\n",
              "      <td>0</td>\n",
              "      <td>6</td>\n",
              "      <td>0</td>\n",
              "      <td>52</td>\n",
              "      <td>12</td>\n",
              "      <td>10</td>\n",
              "      <td>250</td>\n",
              "      <td>73</td>\n",
              "      <td>2</td>\n",
              "      <td>1580</td>\n",
              "    </tr>\n",
              "  </tbody>\n",
              "</table>\n",
              "</div>"
            ],
            "text/plain": [
              "         이름  소관위심사  철회  체계자구심사  소관위접수  정부이송  본희의의결  접수  본회의부의안건  공포  수정안반영폐기  \\\n",
              "0  강기윤(姜起潤)    673  17       4    178     1      0   8        0  51       15   \n",
              "1  강대식(姜大植)    558   8       4    139     0      0  12        0  41       28   \n",
              "2  강득구(姜得求)    985  23       1    164     2      0   6        0  52       12   \n",
              "\n",
              "   본회의불부의  대안반영폐기  본회의의결  폐기  상호작용  \n",
              "0       4     223     54   8  1236  \n",
              "1       2     184     53   4  1033  \n",
              "2      10     250     73   2  1580  "
            ]
          },
          "execution_count": 29,
          "metadata": {},
          "output_type": "execute_result"
        }
      ],
      "source": [
        "myArr = np.zeros((len(member), len(column_temp_new)), dtype = int)\n",
        "df = pd.DataFrame(myArr, columns = column_temp_new)\n",
        "df['이름'] = member['이름'].copy()\n",
        "df.set_index(['이름'], inplace = True)\n",
        "for a, b in zip(relation_state['이름'], relation_state['상태']):\n",
        "  df.loc[a, b] += 1\n",
        "df['상호작용'] = df.loc[:][:].sum(axis = 1)\n",
        "df.reset_index(inplace = True)\n",
        "df.head(3)"
      ]
    },
    {
      "cell_type": "code",
      "execution_count": 30,
      "metadata": {
        "colab": {
          "base_uri": "https://localhost:8080/",
          "height": 143
        },
        "id": "pP2lne8Ek-S3",
        "outputId": "bdcfdd8d-9335-49a9-d2b9-dfaf27f590df"
      },
      "outputs": [
        {
          "data": {
            "text/html": [
              "<div>\n",
              "<style scoped>\n",
              "    .dataframe tbody tr th:only-of-type {\n",
              "        vertical-align: middle;\n",
              "    }\n",
              "\n",
              "    .dataframe tbody tr th {\n",
              "        vertical-align: top;\n",
              "    }\n",
              "\n",
              "    .dataframe thead th {\n",
              "        text-align: right;\n",
              "    }\n",
              "</style>\n",
              "<table border=\"1\" class=\"dataframe\">\n",
              "  <thead>\n",
              "    <tr style=\"text-align: right;\">\n",
              "      <th></th>\n",
              "      <th>이름</th>\n",
              "      <th>상호작용</th>\n",
              "      <th>positive</th>\n",
              "      <th>neutral</th>\n",
              "      <th>negative</th>\n",
              "      <th>remain</th>\n",
              "    </tr>\n",
              "  </thead>\n",
              "  <tbody>\n",
              "    <tr>\n",
              "      <th>0</th>\n",
              "      <td>강기윤(姜起潤)</td>\n",
              "      <td>1236</td>\n",
              "      <td>105</td>\n",
              "      <td>238</td>\n",
              "      <td>8</td>\n",
              "      <td>885</td>\n",
              "    </tr>\n",
              "    <tr>\n",
              "      <th>1</th>\n",
              "      <td>강대식(姜大植)</td>\n",
              "      <td>1033</td>\n",
              "      <td>94</td>\n",
              "      <td>212</td>\n",
              "      <td>4</td>\n",
              "      <td>723</td>\n",
              "    </tr>\n",
              "    <tr>\n",
              "      <th>2</th>\n",
              "      <td>강득구(姜得求)</td>\n",
              "      <td>1580</td>\n",
              "      <td>125</td>\n",
              "      <td>262</td>\n",
              "      <td>2</td>\n",
              "      <td>1191</td>\n",
              "    </tr>\n",
              "  </tbody>\n",
              "</table>\n",
              "</div>"
            ],
            "text/plain": [
              "         이름  상호작용  positive  neutral  negative  remain\n",
              "0  강기윤(姜起潤)  1236       105      238         8     885\n",
              "1  강대식(姜大植)  1033        94      212         4     723\n",
              "2  강득구(姜得求)  1580       125      262         2    1191"
            ]
          },
          "execution_count": 30,
          "metadata": {},
          "output_type": "execute_result"
        }
      ],
      "source": [
        "df['positive'] = df['공포'] + df['본회의의결']\n",
        "df['neutral'] = df['수정안반영폐기'] + df['대안반영폐기']\n",
        "df['negative'] = df['폐기']\n",
        "df['remain'] = df['정부이송'] + df['본회의불부의'] + df['체계자구심사'] + df['소관위심사'] + df['소관위접수'] + df['철회'] + df['본회의부의안건'] + df['접수']\n",
        "df = df[['이름','상호작용','positive','neutral','negative','remain']]\n",
        "df.head(3)"
      ]
    },
    {
      "cell_type": "code",
      "execution_count": 31,
      "metadata": {
        "colab": {
          "base_uri": "https://localhost:8080/"
        },
        "id": "_XulqTq3eJqz",
        "outputId": "0da4a5d1-29d7-476f-a774-dd6a1c748665"
      },
      "outputs": [
        {
          "name": "stdout",
          "output_type": "stream",
          "text": [
            "['의원A', '의원B', '소관위심사', '철회', '체계자구심사', '소관위접수', '정부이송', '본희의의결', '접수', '본회의부의안건', '공포', '수정안반영폐기', '본회의불부의', '대안반영폐기', '본회의의결', '폐기']\n"
          ]
        }
      ],
      "source": [
        "# edge list가 될 df_graph를 위한 전처리\n",
        "column_temp2 = ['의원A', '의원B']\n",
        "column_temp2 += list(set(relation_state['상태']))\n",
        "column_temp2_new = [x for x in column_temp2 if pd.isnull(x) == False]\n",
        "print(column_temp2_new, sep = ' ') # feature list 입니다"
      ]
    },
    {
      "cell_type": "code",
      "execution_count": 32,
      "metadata": {
        "colab": {
          "base_uri": "https://localhost:8080/",
          "height": 143
        },
        "id": "Efe9eEShzuiv",
        "outputId": "b4021f7c-27d7-422e-e50c-2461f52d7537"
      },
      "outputs": [
        {
          "data": {
            "text/html": [
              "<div>\n",
              "<style scoped>\n",
              "    .dataframe tbody tr th:only-of-type {\n",
              "        vertical-align: middle;\n",
              "    }\n",
              "\n",
              "    .dataframe tbody tr th {\n",
              "        vertical-align: top;\n",
              "    }\n",
              "\n",
              "    .dataframe thead th {\n",
              "        text-align: right;\n",
              "    }\n",
              "</style>\n",
              "<table border=\"1\" class=\"dataframe\">\n",
              "  <thead>\n",
              "    <tr style=\"text-align: right;\">\n",
              "      <th></th>\n",
              "      <th>의원A</th>\n",
              "      <th>의원B</th>\n",
              "      <th>소관위심사</th>\n",
              "      <th>철회</th>\n",
              "      <th>체계자구심사</th>\n",
              "      <th>소관위접수</th>\n",
              "      <th>정부이송</th>\n",
              "      <th>본희의의결</th>\n",
              "      <th>접수</th>\n",
              "      <th>본회의부의안건</th>\n",
              "      <th>공포</th>\n",
              "      <th>수정안반영폐기</th>\n",
              "      <th>본회의불부의</th>\n",
              "      <th>대안반영폐기</th>\n",
              "      <th>본회의의결</th>\n",
              "      <th>폐기</th>\n",
              "    </tr>\n",
              "  </thead>\n",
              "  <tbody>\n",
              "    <tr>\n",
              "      <th>0</th>\n",
              "      <td>0</td>\n",
              "      <td>0</td>\n",
              "      <td>0</td>\n",
              "      <td>0</td>\n",
              "      <td>0</td>\n",
              "      <td>0</td>\n",
              "      <td>0</td>\n",
              "      <td>0</td>\n",
              "      <td>0</td>\n",
              "      <td>0</td>\n",
              "      <td>0</td>\n",
              "      <td>0</td>\n",
              "      <td>0</td>\n",
              "      <td>0</td>\n",
              "      <td>0</td>\n",
              "      <td>0</td>\n",
              "    </tr>\n",
              "    <tr>\n",
              "      <th>1</th>\n",
              "      <td>0</td>\n",
              "      <td>0</td>\n",
              "      <td>0</td>\n",
              "      <td>0</td>\n",
              "      <td>0</td>\n",
              "      <td>0</td>\n",
              "      <td>0</td>\n",
              "      <td>0</td>\n",
              "      <td>0</td>\n",
              "      <td>0</td>\n",
              "      <td>0</td>\n",
              "      <td>0</td>\n",
              "      <td>0</td>\n",
              "      <td>0</td>\n",
              "      <td>0</td>\n",
              "      <td>0</td>\n",
              "    </tr>\n",
              "    <tr>\n",
              "      <th>2</th>\n",
              "      <td>0</td>\n",
              "      <td>0</td>\n",
              "      <td>0</td>\n",
              "      <td>0</td>\n",
              "      <td>0</td>\n",
              "      <td>0</td>\n",
              "      <td>0</td>\n",
              "      <td>0</td>\n",
              "      <td>0</td>\n",
              "      <td>0</td>\n",
              "      <td>0</td>\n",
              "      <td>0</td>\n",
              "      <td>0</td>\n",
              "      <td>0</td>\n",
              "      <td>0</td>\n",
              "      <td>0</td>\n",
              "    </tr>\n",
              "  </tbody>\n",
              "</table>\n",
              "</div>"
            ],
            "text/plain": [
              "   의원A  의원B  소관위심사  철회  체계자구심사  소관위접수  정부이송  본희의의결  접수  본회의부의안건  공포  수정안반영폐기  \\\n",
              "0    0    0      0   0       0      0     0      0   0        0   0        0   \n",
              "1    0    0      0   0       0      0     0      0   0        0   0        0   \n",
              "2    0    0      0   0       0      0     0      0   0        0   0        0   \n",
              "\n",
              "   본회의불부의  대안반영폐기  본회의의결  폐기  \n",
              "0       0       0      0   0  \n",
              "1       0       0      0   0  \n",
              "2       0       0      0   0  "
            ]
          },
          "execution_count": 32,
          "metadata": {},
          "output_type": "execute_result"
        }
      ],
      "source": [
        "num = len(member)\n",
        "myArr = np.zeros((num*(num-1)//2, len(column_temp2_new)), dtype = int)\n",
        "df_graph = pd.DataFrame(myArr, columns = column_temp2_new)\n",
        "df_graph.head(3)"
      ]
    },
    {
      "cell_type": "code",
      "execution_count": 33,
      "metadata": {
        "colab": {
          "base_uri": "https://localhost:8080/",
          "height": 334
        },
        "id": "k8hSNOGfzIqJ",
        "outputId": "73e11b29-e4c0-4ca7-c4ba-dcfd7bf0ee98"
      },
      "outputs": [
        {
          "name": "stderr",
          "output_type": "stream",
          "text": [
            "C:\\Users\\parkg\\AppData\\Local\\Temp\\ipykernel_31476\\3936427423.py:6: SettingWithCopyWarning: \n",
            "A value is trying to be set on a copy of a slice from a DataFrame\n",
            "\n",
            "See the caveats in the documentation: https://pandas.pydata.org/pandas-docs/stable/user_guide/indexing.html#returning-a-view-versus-a-copy\n",
            "  df_graph['의원A'][cnt], df_graph['의원B'][cnt] = member['이름'][i], member['이름'][j]# df_graph에 의원 이름을 인덱스로 넣어주기\n"
          ]
        },
        {
          "data": {
            "text/html": [
              "<div>\n",
              "<style scoped>\n",
              "    .dataframe tbody tr th:only-of-type {\n",
              "        vertical-align: middle;\n",
              "    }\n",
              "\n",
              "    .dataframe tbody tr th {\n",
              "        vertical-align: top;\n",
              "    }\n",
              "\n",
              "    .dataframe thead th {\n",
              "        text-align: right;\n",
              "    }\n",
              "</style>\n",
              "<table border=\"1\" class=\"dataframe\">\n",
              "  <thead>\n",
              "    <tr style=\"text-align: right;\">\n",
              "      <th></th>\n",
              "      <th></th>\n",
              "      <th>소관위심사</th>\n",
              "      <th>철회</th>\n",
              "      <th>체계자구심사</th>\n",
              "      <th>소관위접수</th>\n",
              "      <th>정부이송</th>\n",
              "      <th>본희의의결</th>\n",
              "      <th>접수</th>\n",
              "      <th>본회의부의안건</th>\n",
              "      <th>공포</th>\n",
              "      <th>수정안반영폐기</th>\n",
              "      <th>본회의불부의</th>\n",
              "      <th>대안반영폐기</th>\n",
              "      <th>본회의의결</th>\n",
              "      <th>폐기</th>\n",
              "    </tr>\n",
              "    <tr>\n",
              "      <th>의원A</th>\n",
              "      <th>의원B</th>\n",
              "      <th></th>\n",
              "      <th></th>\n",
              "      <th></th>\n",
              "      <th></th>\n",
              "      <th></th>\n",
              "      <th></th>\n",
              "      <th></th>\n",
              "      <th></th>\n",
              "      <th></th>\n",
              "      <th></th>\n",
              "      <th></th>\n",
              "      <th></th>\n",
              "      <th></th>\n",
              "      <th></th>\n",
              "    </tr>\n",
              "  </thead>\n",
              "  <tbody>\n",
              "    <tr>\n",
              "      <th rowspan=\"3\" valign=\"top\">강기윤(姜起潤)</th>\n",
              "      <th>강대식(姜大植)</th>\n",
              "      <td>0</td>\n",
              "      <td>0</td>\n",
              "      <td>0</td>\n",
              "      <td>0</td>\n",
              "      <td>0</td>\n",
              "      <td>0</td>\n",
              "      <td>0</td>\n",
              "      <td>0</td>\n",
              "      <td>0</td>\n",
              "      <td>0</td>\n",
              "      <td>0</td>\n",
              "      <td>0</td>\n",
              "      <td>0</td>\n",
              "      <td>0</td>\n",
              "    </tr>\n",
              "    <tr>\n",
              "      <th>강득구(姜得求)</th>\n",
              "      <td>0</td>\n",
              "      <td>0</td>\n",
              "      <td>0</td>\n",
              "      <td>0</td>\n",
              "      <td>0</td>\n",
              "      <td>0</td>\n",
              "      <td>0</td>\n",
              "      <td>0</td>\n",
              "      <td>0</td>\n",
              "      <td>0</td>\n",
              "      <td>0</td>\n",
              "      <td>0</td>\n",
              "      <td>0</td>\n",
              "      <td>0</td>\n",
              "    </tr>\n",
              "    <tr>\n",
              "      <th>강민국(姜旻局)</th>\n",
              "      <td>0</td>\n",
              "      <td>0</td>\n",
              "      <td>0</td>\n",
              "      <td>0</td>\n",
              "      <td>0</td>\n",
              "      <td>0</td>\n",
              "      <td>0</td>\n",
              "      <td>0</td>\n",
              "      <td>0</td>\n",
              "      <td>0</td>\n",
              "      <td>0</td>\n",
              "      <td>0</td>\n",
              "      <td>0</td>\n",
              "      <td>0</td>\n",
              "    </tr>\n",
              "  </tbody>\n",
              "</table>\n",
              "</div>"
            ],
            "text/plain": [
              "                   소관위심사  철회  체계자구심사  소관위접수  정부이송  본희의의결  접수  본회의부의안건  공포  \\\n",
              "의원A      의원B                                                                \n",
              "강기윤(姜起潤) 강대식(姜大植)      0   0       0      0     0      0   0        0   0   \n",
              "         강득구(姜得求)      0   0       0      0     0      0   0        0   0   \n",
              "         강민국(姜旻局)      0   0       0      0     0      0   0        0   0   \n",
              "\n",
              "                   수정안반영폐기  본회의불부의  대안반영폐기  본회의의결  폐기  \n",
              "의원A      의원B                                           \n",
              "강기윤(姜起潤) 강대식(姜大植)        0       0       0      0   0  \n",
              "         강득구(姜得求)        0       0       0      0   0  \n",
              "         강민국(姜旻局)        0       0       0      0   0  "
            ]
          },
          "execution_count": 33,
          "metadata": {},
          "output_type": "execute_result"
        }
      ],
      "source": [
        "# 파이썬스러운 날먹 방법이 분명 있을 것 같은데 생각이 안 난다...\n",
        "df_graph = df_graph.astype({'의원A':'object', '의원B':'object'})\n",
        "cnt = 0\n",
        "for i in range(num):\n",
        "  for j in range(i + 1, num):\n",
        "    df_graph['의원A'][cnt], df_graph['의원B'][cnt] = member['이름'][i], member['이름'][j]# df_graph에 의원 이름을 인덱스로 넣어주기\n",
        "    cnt+=1\n",
        "df_graph.set_index(['의원A', '의원B'], inplace = True) # 속도를 위해 의원 이름을 index로\n",
        "df_graph.head(3) # (298*297/2) * (14+2)개의 목록이다"
      ]
    },
    {
      "cell_type": "code",
      "execution_count": 34,
      "metadata": {
        "colab": {
          "base_uri": "https://localhost:8080/"
        },
        "id": "dJSSBpyCg-qL",
        "outputId": "46849f8d-d273-4725-8631-8db41ac1f078"
      },
      "outputs": [
        {
          "name": "stdout",
          "output_type": "stream",
          "text": [
            "[0, 11, 23, 35, 47, 59, 70, 80, 91, 103, 113, 124, 135, 145, 160, 173, 183, 193, 203, 214, 224, 235, 246, 256, 282, 292, 309, 319, 331, 341, 351, 364, 375, 556, 566, 576, 586, 596, 606, 616, 628, 638, 648, 658, 668, 679, 689, 702, 713, 723, 735, 745, 755, 766, 776, 787, 798, 808, 818, 828, 838, 848, 858, 869, 880, 890, 904, 915, 926, 937, 948, 959, 970, 980, 991, 1001, 1011, 1021, 1031, 1042, 1052, 1062, 1072, 1082, 1093, 1103, 1114, 1115, 1125, 1136, 1146, 1156, 1167, 1179, 1190, 1201, 1213, 1233, 1244, 1256, 1267, 1278, 1289, 1305, 1320, 1330, 1340, 1351, 1366, 1377, 1398, 1409, 1419, 1454, 1468, 1479, 1490, 1501, 1512, 1523, 1534, 1545, 1556, 1567, 1577, 1587, 1598, 1610, 1620, 1630, 1641, 1651, 1663, 1673, 1683, 1693, 1704, 1714, 1724, 1734, 1744, 1754, 1767, 1780, 1790, 1802, 1813, 1823, 1833, 1843, 1844, 1854, 1865, 1875, 1885, 1896, 1907, 1919, 1929, 1941, 1954, 1964, 1979, 1989, 2031, 2041, 2052, 2063, 2073, 2083, 2093, 2103, 2115, 2129, 2139, 2149, 2165, 2175, 2185, 2195, 2207, 2217, 2227, 2237, 2250, 2260, 2273, 2286, 2296, 2306, 2316, 2326, 2336, 2346, 2362, 2372, 2382, 2397, 2409, 2420, 2431, 2441, 2451, 2461, 2471, 2485, 2497, 2507, 2517, 2532, 2547, 2561, 2572, 2585, 2595, 2606, 2616, 2627, 2638, 2648, 2662, 2672, 2682, 2694, 2707, 2718, 2729, 2742, 2752, 2768, 2778, 2793, 2808, 2818, 2828, 2838, 2852, 2863, 2875, 2889, 2905, 2915, 2925, 2935, 2948, 2960, 2973, 2983, 2993, 3004, 3016, 3027, 3050, 3063, 3073, 3086, 3096, 3106, 3116, 3126, 3136, 3148, 3160, 3171, 3185, 3196, 3206, 3220, 3230, 3240, 3251, 3263, 3277, 3287, 3297, 3307, 3320, 3330, 3340, 3350, 3365, 3382, 3392, 3402, 3415, 3425, 3435, 3449, 3459, 3473, 3487, 3497, 3509, 3520, 3532, 3546, 3559, 3578, 3589, 3601, 3613, 3623, 3639, 3651, 3663, 3679, 3691, 3701, 3712, 3722, 3732, 3747, 3760, 3772, 3785, 3798, 3808, 3820, 3848, 3861, 3874, 3884, 3897, 3912, 3924, 3934, 3945, 3956, 3966, 3979, 3989, 4001, 4011, 4023, 4035, 4047, 4059, 4073, 4089, 4102, 4112, 4124, 4138, 4148, 4158, 4168, 4179, 4190, 4200, 4211, 4224, 4235, 4245, 4255, 4268, 4279, 4291, 4303, 4313, 4325, 4335, 4347, 4360, 4372, 4384, 4396, 4408, 4418, 4429, 4439, 4453, 4465, 4477, 4489, 4503, 4521, 4531, 4543, 4553, 4563, 4579, 4589, 4601, 4614, 4628, 4641, 4652, 4674, 4684, 4695, 4705, 4724, 4742, 4754, 4767, 4778, 4788, 4799, 4812, 4822, 4835, 4847, 4859, 4873, 4884, 4896, 4907, 4920, 4931, 4944, 4955, 4965, 4975, 4985, 4995, 5005, 5018, 5029, 5041, 5054, 5068, 5081, 5096, 5110, 5120, 5130, 5141, 5151, 5161, 5171, 5181, 5194, 5207, 5217, 5230, 5264, 5280, 5292, 5302, 5313, 5328, 5338, 5348, 5359, 5372, 5384, 5395, 5405, 5415, 5425, 5437, 5447, 5458, 5478, 5494, 5507, 5522, 5538, 5548, 5563, 5577, 5590, 5603, 5613, 5626, 5639, 5652, 5664, 5677, 5689, 5699, 5712, 5730, 5741, 5752, 5764, 5774, 5786, 5799, 5809, 5820, 5890, 5902, 5912, 5922, 5934, 5945, 5955, 5965, 5975, 5985, 5996, 6006, 6016, 6030, 6040, 6056, 6066, 6077, 6087, 6097, 6110, 6120, 6130, 6140, 6150, 6160, 6170, 6180, 6191, 6201, 6215, 6228, 6241, 6251, 6261, 6271, 6282, 6292, 6304, 6314, 6335, 6347, 6358, 6369, 6379, 6389, 6402, 6412, 6422, 6432, 6443, 6455, 6467, 6477, 6489, 6499, 6509, 6524, 6534, 6544, 6554, 6566, 6576, 6586, 6597, 6611, 6621, 6633, 6643, 6654, 6835, 6848, 6858, 6868, 6878, 6912, 6958, 7005, 7016, 7027, 7037, 7048, 7060, 7073, 7084, 7096, 7108, 7118, 7128, 7138, 7148, 7158, 7173, 7185, 7199, 7266, 7276, 7382, 7393, 7404, 7415, 7426, 7440, 7454, 7468, 7483, 7498, 7513, 7528, 7543, 7558, 7568, 7578, 7590, 7600, 7614, 7625, 7638, 7648, 7658, 7668, 7680, 7690, 7701, 7711, 7721, 7732, 7742, 7752, 7764, 7780, 7792, 7959, 7970, 7987, 7998, 8008, 8023, 8037, 8052, 8067, 8079, 8092, 8102, 8112, 8122, 8132, 8142, 8153, 8163, 8173, 8184, 8195, 8205, 8218, 8228, 8239, 8252, 8262, 8272, 8282, 8293, 8307, 8322, 8335, 8348, 8361, 8371, 8381, 8392, 8404, 8416, 8428, 8438, 8448, 8458, 8468, 8478, 8488, 8498, 8510, 8525, 8535, 8546, 8558, 8574, 8590, 8606, 8622, 8632, 8643, 8654, 8664, 8677, 8698, 8713, 8728, 8743, 8757, 8767, 8778, 8787, 8800, 8810, 8820, 8830, 8842, 8854, 8865, 8876, 8895, 8905, 8918, 8938, 8948, 8958, 8978, 8990, 9003, 9018, 9030, 9040, 9050, 9062, 9075, 9086, 9096, 9110, 9120, 9132, 9145, 9155, 9167, 9177, 9188, 9200, 9210, 9220, 9255, 9268, 9291, 9303, 9314, 9327, 9337, 9352, 9362, 9373, 9383, 9401, 9413, 9424, 9435, 9446, 9458, 9469, 9480, 9491, 9504, 9515, 9527, 9537, 9549, 9561, 9571, 9581, 9597, 9609, 9619, 9635, 9645, 9662, 9673, 9683, 9693, 9707, 9717, 9729, 9740, 9754, 9765, 9782, 9793, 9803, 9817, 9827, 9838, 9848, 9859, 9869, 9883, 9893, 9903, 9914, 9924, 9950, 9961, 9971, 9981, 9992, 10002, 10012, 10022, 10043, 10064, 10101, 10116, 10138, 10152, 10167, 10177, 10198, 10208, 10219, 10234, 10248, 10258, 10269, 10279, 10289, 10299, 10309, 10319, 10329, 10339, 10349, 10360, 10370, 10380, 10403, 10417, 10428, 10439, 10453, 10463, 10477, 10491, 10501, 10516, 10526, 10542, 10553, 10563, 10573, 10583, 10594, 10604, 10616, 10629, 10645, 10656, 10667, 10677, 10689, 10700, 10710, 10720, 10731, 10741, 10751, 10762, 10772, 10782, 10792, 10802, 10812, 10823, 10833, 10843, 10853, 10863, 10874, 10884, 10895, 10905, 10915, 10926, 10936, 10947, 10961, 10972, 10983, 10994, 11004, 11014, 11026, 11040, 11051, 11065, 11076, 11090, 11101, 11111, 11125, 11137, 11153, 11164, 11179, 11190, 11206, 11221, 11231, 11248, 11263, 11275, 11287, 11297, 11307, 11317, 11328, 11338, 11349, 11362, 11372, 11385, 11396, 11407, 11417, 11429, 11441, 11456, 11466, 11476, 11497, 11507, 11517, 11528, 11540, 11550, 11566, 11577, 11593, 11604, 11621, 11638, 11651, 11663, 11674, 11684, 11694, 11706, 11716, 11727, 11739, 11750, 11761, 11771, 11782, 11792, 11802, 11827, 11839, 11854, 11864, 11874, 11889, 11899, 11908, 12186, 12196, 12474, 12752, 12762, 12763, 12774, 12784, 12796, 12808, 12818, 12828, 12839, 12850, 12860, 12872, 12884, 12896, 12906, 12922, 12936, 12948, 12959, 12972, 12996, 13005, 13022, 13033, 13043, 13054, 13064, 13074, 13085, 13095, 13107, 13122, 13134, 13146, 13156, 13169, 13181, 13191, 13201, 13218, 13230, 13240, 13251, 13261, 13272, 13550, 13828, 14106, 14116, 14394, 14672, 14682, 14704, 14714, 14724, 14735, 14747, 14757, 14767, 14777, 14788, 14800, 14812, 14822, 14832, 14844, 14856, 14867, 14878, 14888, 14906, 14921, 14935, 14947, 14957, 14967, 14980, 14993, 15009, 15019, 15029, 15039, 15049, 15059, 15069, 15079, 15089, 15100, 15111, 15123, 15135, 15144, 15156, 15167, 15179, 15204, 15214, 15224, 15234, 15246, 15269, 15281, 15313, 15324, 15335, 15345, 15355, 15365, 15380, 15393, 15403, 15413, 15427, 15438, 15449, 15459, 15469, 15486, 15496, 15506, 15518, 15528, 15544, 15559, 15570, 15581, 15592, 15605, 15616, 15628, 15656, 15823, 15834, 15844, 15854, 15864, 15874, 15884, 15894, 15904, 15917, 15927, 15951, 15963, 15976, 15991, 16002, 16012, 16025, 16035, 16049, 16063, 16077, 16093, 16108, 16118, 16128, 16139, 16149, 16159, 16170, 16180, 16190, 16200, 16210, 16220, 16230, 16240, 16250, 16260, 16270, 16287, 16547, 16556, 16576, 16586, 16597, 16606, 16617, 16640, 16651, 16662, 16674, 16686, 16696, 16707, 16751, 16777, 16800, 16813, 16824, 16838, 16852, 16863, 16874, 16884, 16897, 16907, 16918, 16930, 16940, 16951, 16961, 16971, 16983, 16993, 17003, 17013, 17024, 17034, 17044, 17054, 17065, 17075, 17090, 17104, 17119, 17133, 17147, 17161, 17171, 17181, 17191, 17202, 17213, 17224, 17234, 17244, 17254, 17264, 17275, 17294, 17305, 17315, 17325, 17335, 17345, 17356, 17366, 17380, 17390, 17400, 17412, 17422, 17432, 17445, 17455, 17468, 17481, 17490, 17512, 17522, 17537, 17546, 17557, 17568, 17580, 17592, 17602, 17612, 17622, 17632, 17646, 17658, 17670, 17683, 17693, 17703, 17713, 17731, 17751, 17761, 17773, 17786, 17797, 17807, 17817, 17827, 17838, 17848, 17860, 17870, 17881, 17890, 17900, 17910, 17920, 17931, 17941, 17952, 17964, 17974, 17986, 17996, 18007, 18017, 18028, 18043, 18053, 18063, 18073, 18083, 18095, 18105, 18118, 18129, 18143, 18154, 18164, 18175, 18186, 18196, 18206, 18216, 18226, 18236, 18247, 18257, 18267, 18278, 18288, 18298, 18308, 18319, 18332, 18342, 18355, 18367, 18377, 18388, 18398, 18408, 18425, 18438, 18449, 18459, 18471, 18483, 18495, 18507, 18543, 18554, 18566, 18579, 18590, 18600, 18611, 18621, 18631, 18641, 18651, 18664, 18677, 18691, 18702, 18712, 18724, 18737, 18755, 18765, 18777, 18787, 18799, 18811, 18821, 18830, 18845, 18856, 18866, 18876, 18916, 18926, 18936, 18975, 18989, 18999, 19009, 19021, 19031, 19042, 19052, 19065, 19075, 19085, 19099, 19113, 19123, 19137, 19151, 19161, 19178, 19188, 19201, 19211, 19221, 19234, 19250, 19260, 19270, 19280, 19290, 19301, 19311, 19321, 19332, 19342, 19352, 19362, 19373, 19385, 19395, 19405, 19416, 19426, 19436, 19447, 19458, 19468, 19479, 19489, 19499, 19509, 19519, 19529, 19539, 19550, 19563, 19573, 19585, 19597, 19608, 19619, 19629, 19640, 19650, 19661, 19673, 19683, 19696, 19706, 19716, 19727, 19738, 19750, 19764, 19776, 19786, 19797, 19807, 19817, 19827, 19837, 19849, 19860, 19875, 19886, 19897, 19906, 19917, 19929, 19941, 19953, 19963, 19974, 19984, 19994, 20004, 20014, 20024, 20035, 20045, 20055, 20067, 20079, 20089, 20099, 20112, 20123, 20136, 20153, 20164, 20181, 20194, 20207, 20218, 20229, 20239, 20251, 20261, 20271, 20281, 20291, 20311, 20327, 20340, 20354, 20367, 20377, 20394, 20407, 20420, 20433, 20443, 20458, 20469, 20487, 20497, 20507, 20517, 20527, 20537, 20588, 20605, 20618, 20631, 20646, 20662, 20672, 20686, 20697, 20711, 20722, 20733, 20744, 20754, 20764, 20774, 20784, 20794, 20804, 20815, 20825, 20837, 20848, 20859, 20870, 20881, 20895, 20905, 20917, 20934, 20951, 20967, 20979, 20991, 21002, 21013, 21028, 21040, 21062, 21086, 21109, 21121, 21144, 21159, 21170, 21182, 21198, 21212, 21271, 21282, 21303, 21313, 21330, 21441, 21452, 21473, 21484, 21494, 21504, 21517, 21528, 21541, 21554, 21564, 21574, 21584, 21751, 21761, 21771, 21780, 21793, 21804, 21814, 21829, 21839, 21850, 21866, 21878, 21893, 21908, 21922, 21934, 21945, 21955, 21965, 21975, 21985, 21998, 22008, 22018, 22028, 22039, 22050, 22067, 22077, 22087, 22097, 22107, 22117, 22127, 22139, 22149, 22159, 22170, 22181, 22191, 22208, 22218, 22228, 22238, 22248, 22258, 22269, 22283, 22293, 22303, 22316, 22326, 22336, 22349, 22360, 22371, 22382, 22393, 22416, 22426, 22436, 22446, 22458, 22468, 22478, 22492, 22502, 22512, 22523, 22533, 22544, 22554, 22564, 22577, 22593, 22604, 22615, 22627, 22639, 22650, 22666, 22680, 22691, 22701, 22716, 22730, 22744, 22757, 22772, 22782, 22793, 22803, 22813, 22823, 22833, 22845, 22856, 22867, 22878, 22888, 22901, 22911, 22921, 22931, 22941, 22952, 22962, 22972, 22982, 22993, 23007, 23017, 23028, 23038, 23049, 23059, 23069, 23080, 23090, 23101, 23111, 23121, 23131, 23141, 23152, 23163, 23174, 23184, 23194, 23205, 23215, 23225, 23236, 23247, 23258, 23269, 23281, 23293, 23306, 23318, 23333, 23344, 23354, 23365, 23375, 23387, 23398, 23409, 23422, 23437, 23447, 23457, 23470, 23481, 23491, 23503, 23513, 23525, 23537, 23548, 23558, 23569, 23579, 23589, 23599, 23610, 23625, 23637, 23648, 23661, 23671, 23681, 23691, 23702, 23714, 23724, 23734, 23744, 23755, 23922, 23938, 23948, 23958, 23968, 23981, 23992, 24002, 24012, 24023, 24033, 24043, 24053, 24063, 24077, 24088, 24098, 24108, 24118, 24130, 24140, 24150, 24160, 24171, 24182, 24192, 24202, 24212, 24222, 24232, 24242, 24252, 24262, 24274, 24289, 24299, 24311, 24323, 24332, 24345, 24355, 24368, 24380, 24391, 24403, 24413, 24424, 24434, 24446, 24463, 24481, 24491, 24501, 24514, 24530, 24543, 24555, 24566, 24578, 24588, 24599, 24609, 24621, 24654, 24664, 24676, 24687, 24698, 24710, 24721, 24731, 24741, 24757, 24767, 24777, 24793, 24809, 24836, 24846, 24856, 24866, 24882, 24892, 24902, 24912, 24928, 24938, 24949, 24959, 24970, 24979, 24992, 25002, 25012, 25022, 25032, 25045, 25054, 25065, 25077, 25087, 25105, 25132, 25142, 25151, 25161, 25173, 25183, 25201, 25217, 25227, 25237, 25246, 25256, 25265, 25274, 25283, 25292, 25301, 25310, 25319, 25328, 25337, 25346, 25358, 25374, 25384, 25394, 25408, 25417, 25460, 25479, 25498, 25508, 25521, 25533, 25546, 25555, 25565, 25574, 25584, 25593, 25602, 25611, 25620, 25629, 25638, 25647, 25656, 25666, 25675, 25684, 25697, 25706, 25716, 25724, 25734, 25743, 25753, 25769, 25779, 25789, 25804, 25816, 25828, 25839, 25853, 25870, 25884, 25900, 25916, 25932, 25948, 25958, 25970, 25982, 25991, 26000, 26009, 26018, 26030, 26042, 26055, 26064, 26073, 26082, 26091, 26100, 26109, 26117, 26127, 26145, 26158, 26171, 26215, 26251, 26260, 26270, 26280, 26291, 26300, 26312, 26325, 26336, 26348, 26356, 26366, 26376, 26388, 26397, 26407, 26417, 26428, 26438, 26447, 26456, 26465, 26477, 26487, 26496, 26510, 26519, 26535, 26546, 26556, 26565, 26574, 26583, 26594, 26603, 26612, 26621, 26630, 26639, 26649, 26784, 26794, 26805, 26815, 26824, 26834, 26844, 26853, 26863, 26876, 26890, 26904, 26917, 26927, 26937, 26951, 26963, 26976, 26990, 27005, 27015, 27029, 27043, 27057, 27081, 27094, 27103, 27112, 27125, 27139, 27150, 27159, 27169, 27178, 27187, 27196, 27205, 27214, 27223, 27232, 27241, 27250, 27259, 27271, 27280, 27289, 27298, 27311, 27324, 27334, 27348, 27358, 27368, 27393, 27407, 27418, 27443, 27459, 27469, 27478, 27487, 27497, 27507, 27517, 27527, 27537, 27547, 27557, 27567, 27577, 27591, 27604, 27615, 27624, 27634, 27645, 27655, 27665, 27674, 27684, 27694, 27712, 27730, 27741, 27752, 27762, 27780, 27790, 27800, 27809, 27819, 27830, 27839, 27849, 27863, 27875, 27885, 27894, 27903, 27913, 27927, 27937, 27948, 27957, 27966, 27976, 27986, 28004, 28016, 28029, 28038, 28053, 28062, 28071, 28082, 28093, 28108, 28118, 28130, 28140, 28148, 28164, 28173, 28192, 28200, 28211, 28221, 28231, 28241, 28252, 28262, 28275, 28285, 28296, 28318, 28339, 28349, 28359, 28380, 28395, 28405, 28429, 28438, 28449, 28458, 28468, 28478, 28487, 28496, 28506, 28518, 28529, 28550, 28564, 28578, 28588, 28598, 28607, 28617, 28632, 28643, 28654, 28664, 28675, 28685, 28696, 28706, 28716, 28727, 28737, 28746, 28756, 28767, 28778, 28788, 28797, 28807, 28817, 28829, 28839, 28851, 28874, 28884, 28894, 28904, 28915, 28926, 28935, 28954, 28964, 28974, 28984, 28998, 29009, 29019, 29032, 29043, 29053, 29072, 29082, 29094, 29105, 29115, 29125, 29135, 29153, 29172, 29185, 29197, 29207, 29217, 29228, 29238, 29249, 29260, 29269, 29279, 29288, 29300, 29316, 29328, 29338, 29350, 29358, 29368, 29378, 29387, 29400, 29410, 29424, 29435, 29446, 29455, 29464, 29475, 29485, 29496, 29507, 29518, 29529, 29539, 29549, 29563, 29574, 29586, 29599, 29611, 29625, 29636, 29650, 29662, 29674, 29707, 29718, 29728, 29738, 29749, 29758, 29768, 29777, 29790, 29802, 29815, 29828, 29837, 29846, 29854, 29863, 29873, 29886, 29898, 29911, 29921, 29929, 29943, 29952, 29961, 29971, 29981, 29991, 30001, 30011, 30023, 30033, 30043, 30053, 30062, 30085, 30095, 30107, 30119, 30131, 30146, 30157, 30168, 30181, 30191, 30205, 30226, 30236, 30245, 30254, 30264, 30273, 30282, 30292, 30301, 30315, 30325, 30334, 30348, 30358, 30369, 30379, 30391, 30401, 30411, 30425, 30436, 30444, 30454, 30465, 30475, 30488, 30546, 30559, 30572, 30585, 30598, 30608, 30619, 30635, 30650, 30664, 30678, 30689, 30701, 30753, 30804, 30814, 30824, 30836, 30846, 30856, 30867, 30877, 30887, 30895, 30908, 30918, 30931, 30941, 30953, 30961, 30970, 30981, 30990, 31001, 31011, 31021, 31031, 31041, 31068, 31077, 31087, 31098, 31109, 31116, 31126, 31136, 31163, 31174, 31184, 31194, 31205, 31222, 31232, 31241, 31251, 31267, 31282, 31298, 31309, 31322, 31336, 31346, 31356, 31366, 31376, 31386, 31396, 31407, 31417, 31427, 31439, 31449, 31461, 31471, 31484, 31496, 31506, 31515, 31525, 31535, 31547, 31558, 31569, 31579, 31590, 31600, 31610, 31624, 31634, 31644, 31654, 31664, 31676, 31688, 31698, 31708, 31718, 31729, 31742, 31752, 31762, 31772, 31783, 31793, 31803, 31813, 31824, 31834, 31845, 31856, 31871, 31886, 31896, 31908, 31918, 31929, 31940, 31951, 31962, 31972, 31982, 31992, 32002, 32012, 32021, 32031, 32042, 32053, 32064, 32074, 32083, 32093, 32103, 32114, 32124, 32134, 32145, 32157, 32167, 32179, 32189, 32200, 32210, 32220, 32232, 32244, 32412, 32428, 32438, 32450, 32460, 32470, 32482, 32494, 32506, 32519, 32529, 32540, 32550, 32561, 32729, 32740, 32750, 32760, 32769, 32779, 32789, 32799, 32808, 32820, 32832, 32844, 32856, 32868, 32878, 32886, 32896, 32913, 32923, 32933, 32945, 32957, 32969, 32981, 32991, 33003, 33013, 33026, 33039, 33051, 33061, 33071, 33080, 33100, 33110, 33120, 33130, 33140, 33150, 33160, 33172, 33182, 33192, 33202, 33212, 33222, 33232, 33242, 33253, 33264, 33274, 33284, 33294, 33304, 33314, 33324, 33334, 33344, 33352, 33362, 33371, 33383, 33393, 33403, 33413, 33442, 33452, 33462, 33477, 33493, 33504, 33514, 33523, 33535, 33544, 33558, 33570, 33582, 33592, 33602, 33611, 33622, 33632, 33645, 33658, 33667, 33676, 33717, 33726, 33764, 33774, 33783, 33821, 33859, 33870, 33907, 33917, 33927, 33937, 33947, 33958, 33969, 33981, 34001, 34016, 34026, 34037, 34049, 34084, 34099, 34111, 34125, 34141, 34157, 34167, 34178, 34194, 34204, 34215, 34225, 34235, 34248, 34260, 34270, 34279, 34289, 34300, 34311, 34322, 34331, 34342, 34354, 34366, 34377, 34389, 34400, 34411, 34430, 34440, 34450, 34460, 34470, 34480, 34491, 34500, 34509, 34523, 34572, 34582, 34592, 34602, 34619, 34630, 34642, 34652, 34664, 34675, 34690, 34700, 34711, 34721, 34732, 34788, 34799, 34810, 34820, 34832, 34842, 34851, 34863, 34874, 34883, 34893, 34902, 34914, 34924, 34937, 34947, 34976, 35007, 35017, 35027, 35037, 35047, 35056, 35066, 35103, 35114, 35132, 35145, 35158, 35172, 35183, 35194, 35207, 35216, 35225, 35235, 35244, 35255, 35266, 35279, 35288, 35299, 35311, 35322, 35333, 35343, 35356, 35366, 35380, 35390, 35400, 35411, 35421, 35436, 35445, 35459, 35473, 35483, 35496, 35507, 35517, 35527, 35537, 35545, 35553, 35564, 35575, 35585, 35595, 35605, 35618, 35630, 35642, 35654, 35665, 35677, 35687, 35709, 35719, 35729, 35741, 35751, 35761, 35771, 35784, 35793, 35804, 35815, 35826, 35837, 35846, 35858, 35870, 35881, 35893, 35904, 35918, 35929, 35941, 35953, 35965, 35976, 35986, 36000, 36012, 36023, 36033, 36042, 36055, 36068, 36078, 36091, 36103, 36113, 36124, 36134, 36145, 36156, 36165, 36174, 36184, 36194, 36204, 36212, 36222, 36231, 36240, 36251, 36262, 36273, 36284, 36294, 36331, 36341, 36350, 36360, 36374, 36385, 36396, 36407, 36418, 36429, 36456, 36467, 36478, 36489, 36501, 36512, 36523, 36534, 36546, 36555, 36565, 36577, 36588, 36597, 36610, 36619, 36628, 36637, 36647, 36658, 36668, 36678, 36688, 36699, 36711, 36722, 36733, 36744, 36754, 36766, 36776, 36788, 36797, 36808, 36817, 36826, 36836, 36845, 36853, 36865, 36882, 36893, 36902, 36911, 36923, 36933, 36945, 36958, 36969, 36984, 36993, 37003, 37013, 37023, 37034, 37043, 37060, 37075, 37090, 37107, 37121, 37134, 37147, 37156, 37165, 37176, 37187, 37196, 37208, 37218, 37228, 37237, 37247, 37256, 37270, 37287, 37297, 37309, 37319, 37332, 37342, 37352, 37362, 37372, 37382, 37392, 37403, 37416, 37427, 37441, 37457, 37477, 37487, 37496, 37505, 37514, 37523, 37532, 37554, 37574, 37591, 37609, 37627, 37645, 37662, 37675, 37709, 37738, 37753, 37763, 37773, 37782, 37791, 37801, 37813, 37825, 37837, 37848, 37863, 37872, 37882, 37926, 37936, 37979, 37989, 37999, 38009, 38023, 38033, 38044, 38054, 38064, 38074, 38084, 38095, 38105, 38115, 38126, 38209, 38220, 38243, 38266, 38277, 38288, 38298, 38309, 38324, 38334, 38357, 38380, 38403, 38422, 38433, 38442, 38452, 38462, 38472, 38482, 38491, 38503, 38513, 38524, 38535, 38613, 38624, 38636, 38637, 38638, 38650, 38671, 38692, 38702, 38712, 38726, 38744, 38762, 38783, 38802, 38812, 38827, 38841, 38853, 38863, 38883, 38893, 38906, 38927, 38939, 38952, 38964, 39005, 39018, 39029, 39040, 39048, 39063, 39073, 39084, 39094, 39103, 39113, 39123, 39135, 39146, 39157, 39168, 39201, 39214, 39230, 39245, 39255, 39266, 39276, 39287, 39298, 39309, 39319, 39331, 39341, 39350, 39365, 39376, 39385, 39397, 39406, 39415, 39427, 39440, 39451, 39461, 39470, 39479, 39488, 39497, 39506, 39515, 39525, 39544, 39556, 39570, 39580, 39590, 39602, 39627, 39637, 39647, 39657, 39673, 39683, 39693, 39704, 39715, 39828, 39838, 39848, 39858, 39868, 39879, 39889, 39900, 39909, 39921, 39931, 39946, 39961, 39976, 39987, 39998, 40008, 40018, 40030, 40044, 40067, 40078, 40089, 40103, 40118, 40131, 40140, 40151, 40165, 40175, 40184, 40194, 40203, 40221, 40233, 40246, 40310, 40320, 40344, 40354, 40367, 40377, 40401, 40412, 40424, 40435, 40448, 40460, 40473, 40484, 40495, 40505, 40516, 40526, 40541, 40551, 40561, 40571, 40584, 40596, 40609, 40621, 40633, 40643, 40656, 40674, 40693, 40705, 40717, 40732, 40742, 40757, 40772, 40780, 40802, 40813, 40824, 40836, 40847, 40858, 40868, 40878, 40888, 40901, 40917, 40931, 40942, 40963, 40973, 40987, 40997, 41008, 41018, 41028, 41038, 41048, 41057, 41067, 41077, 41089, 41101, 41111, 41121, 41130, 41141, 41152, 41163, 41174, 41187, 41213, 41222, 41232, 41257, 41266, 41274, 41284, 41301, 41319, 41329, 41341, 41352, 41361, 41374, 41383, 41393, 41402, 41414, 41424, 41434, 41449, 41464, 41478, 41490, 41510, 41552, 41565, 41576, 41587, 41596, 41606, 41616, 41626, 41636, 41649, 41659, 41669, 41684, 41711, 41721, 41733, 41745, 41756, 41766, 41778, 41804, 41816, 41827, 41838, 41853, 41867, 41878, 41899, 41909, 41921, 41931, 41943, 41962, 41972, 41984, 41994, 42005, 42015, 42027, 42040, 42051, 42067, 42086, 42099, 42112, 42122, 42132, 42142, 42152, 42163, 42173, 42185, 42195, 42208, 42221, 42231, 42245, 42259, 42273, 42286, 42296, 42309, 42322, 42338, 42348, 42367, 42377, 42389, 42399, 42433, 42446, 42456, 42467, 42477, 42488, 42501, 42510, 42521, 42533, 42542, 42551, 42563, 42578, 42594, 42603, 42617, 42629, 42641, 42652, 42665, 42676, 42686, 42708, 42721, 42746, 42757, 42767, 42777, 42787, 42802, 42818, 42834, 42844, 42858, 42869, 42889, 42904, 42914, 42924, 42936, 42948, 42964, 42977, 42987, 42997, 43007, 43017, 43027, 43037, 43047, 43057, 43070, 43081, 43094, 43107, 43120, 43130, 43157, 43183, 43194, 43204, 43214, 43224, 43234, 43244, 43255, 43270, 43280, 43294, 43316, 43326, 43345, 43364, 43382, 43401, 43420, 43429, 43448, 43459, 43469, 43480, 43490, 43500, 43510, 43520, 43529, 43539, 43548, 43561, 43570, 43581, 43590, 43608, 43617, 43626, 43641, 43651, 43660, 43669, 43685, 43695, 43715, 43727, 43738, 43755, 43763, 43773, 43783, 43792, 43818, 43828, 43838, 43849, 43860, 43871, 43881, 43900, 43910, 43927, 43938, 43949, 43960, 43979, 43989, 44007, 44021, 44031, 44042, 44052, 44065, 44099, 44109, 44119, 44130, 44142, 44161, 44171, 44195, 44206, 44216, 44226, 44236, 44246, 44256, 44268, 44283, 44298, 44307, 44318, 44328, 44338, 44349, 44367, 44376, 44385, 44409, 44432, 44457, 44481, 44492, 44509, 44533, 44542, 44558, 44573, 44588, 44603, 44612, 44625, 44635, 44650, 44661, 44672, 44688, 44701, 44714, 44725, 44742, 44757, 44769, 44779, 44791, 44803, 44813, 44827, 44842, 44855, 44870, 44886, 44902, 44918, 44938, 44949, 44960, 44970, 44979, 44988, 44999, 45008, 45019, 45029, 45043, 45053, 45066, 45079, 45090, 45103, 45114, 45128, 45140, 45151, 45161, 45171, 45181, 45191, 45202, 45212, 45222, 45232, 45249, 45259, 45270, 45281, 45293, 45305, 45319, 45333, 45343, 45353, 45363, 45373, 45390, 45401, 45411, 45441, 45451, 45467, 45487, 45521, 45539, 45557, 45571, 45582, 45593, 45611, 45622, 45633, 45642, 45652, 45666, 45681, 45692, 45702, 45712, 45727, 45737, 45748, 45758, 45768, 45778, 45789, 45799, 45810, 45820, 45833, 45843, 45856, 45866, 45876, 45889, 45900, 45910, 45927, 45937, 45947, 45961, 45972, 45982, 45992, 46006, 46016, 46029, 46042, 46052, 46062, 46082, 46095, 46105, 46118, 46132, 46150, 46170, 46189, 46198, 46210, 46222, 46234, 46253, 46272, 46282, 46294, 46305, 46315, 46325, 46336, 46348, 46358, 46369, 46381, 46391, 46403, 46415, 46427, 46439, 46449, 46458, 46468, 46478, 46488, 46499, 46509, 46519, 46531, 46543, 46555, 46567, 46577, 46587, 46598, 46612, 46626, 46648, 46663, 46673, 46683, 46694, 46710, 46719, 46736, 46746, 46757, 46767, 46777, 46788, 46798, 46809, 46833, 46854, 46866, 46875, 46887, 46900, 46910, 46921, 46931, 46942, 46950, 46962, 46974, 46984, 46998, 47007, 47016, 47026, 47036, 47045, 47055, 47068, 47080, 47093, 47102, 47116, 47125, 47140, 47151, 47163, 47176, 47187, 47198, 47214, 47224, 47239, 47248, 47259, 47273, 47283, 47293, 47306, 47316, 47326, 47337, 47349, 47360, 47371, 47382, 47418, 47452, 47487, 47514, 47527, 47539, 47552, 47563, 47576, 47591, 47601, 47610, 47621, 47636, 47649, 47659, 47677, 47688, 47697, 47721, 47734, 47751, 47765, 47777, 47790, 47799, 47812, 47828, 47841, 47854, 47866, 47878, 47891, 47901, 47912, 47929, 47941, 47954, 47966, 47980, 47992, 48005, 48014, 48024, 48040, 48057, 48072, 48086, 48096, 48106, 48120, 48130, 48140, 48150, 48163, 48173, 48189, 48202, 48213, 48225, 48241, 48252, 48268, 48278, 48296, 48306, 48315, 48324, 48341, 48352, 48365, 48374, 48383, 48394, 48404, 48417, 48428, 48438, 48448, 48458, 48472, 48483, 48493, 48504, 48514, 48522, 48532, 48542, 48552, 48562, 48580, 48590, 48600, 48617, 48627, 48637, 48647, 48656, 48665, 48674, 48685, 48695, 48705, 48715, 48724, 48734, 48744, 48754, 48764, 48784, 48802, 48812, 48821, 48832, 48841, 48854, 48872, 48890, 48900, 48909, 48918, 48928, 48940, 48950, 48988, 48998, 49008, 49024, 49034, 49047, 49059, 49069, 49082, 49094, 49107, 49118, 49131, 49141, 49151, 49161, 49171, 49181, 49192, 49202, 49213, 49223, 49233, 49243, 49261, 49273, 49285, 49295, 49354, 49370, 49382, 49393, 49405, 49417, 49429, 49441, 49453, 49465, 49477, 49489, 49500, 49510, 49521, 49532, 49543, 49554, 49572, 49591, 49605, 49615, 49623, 49633, 49642, 49652, 49666, 49679, 49689, 49698, 49710, 49720, 49734, 49745, 49755, 49765, 49776, 49785, 49794, 49806, 49817, 49827, 49840, 49852, 49865, 49875, 49884, 49894, 49904, 49916, 49929, 49939, 49947, 49959, 49969, 49978, 49991, 50003, 50014, 50026, 50037, 50049, 50060, 50070, 50081, 50091, 50102, 50113, 50126, 50136, 50146, 50154, 50164, 50174, 50183, 50194, 50204, 50216, 50224, 50234, 50243, 50254, 50268, 50282, 50292, 50303, 50316, 50328, 50339, 50349, 50359, 50374, 50384, 50395, 50405, 50416, 50426, 50440, 50450, 50460, 50470, 50480, 50490, 50502, 50513, 50523, 50534, 50564, 50574, 50585, 50595, 50607, 50618, 50629, 50658, 50670, 50671, 50683, 50694, 50706, 50725, 50734, 50747, 50760, 50773, 50786, 50800, 50811, 50820, 50830, 50840, 50851, 50862, 50871, 50880, 50893, 50903, 50913, 50924, 50943, 50953, 50977, 51001, 51016, 51027, 51038, 51053, 51063, 51073, 51083, 51093, 51103, 51114, 51123, 51133, 51144, 51154, 51163, 51175, 51184, 51194, 51205, 51216, 51225, 51235, 51246, 51256, 51266, 51284, 51295, 51311, 51322, 51332, 51344, 51355, 51365, 51378, 51388, 51399, 51410, 51420, 51430, 51444, 51455, 51466, 51476, 51486, 51496, 51506, 51516, 51529, 51539, 51557, 51568, 51578, 51588, 51599, 51609, 51621, 51636, 51646, 51656, 51667, 51678, 51689, 51700, 51711, 51722, 51732, 51742, 51754, 51764, 51776, 51786, 51800, 51812, 51914, 51925, 51935, 51946, 51955, 51965, 51974, 51984, 51994, 52004, 52015, 52025, 52035, 52046, 52057, 52068, 52079, 52090, 52100, 52111, 52121, 52131, 52141, 52152, 52163, 52174, 52186, 52197, 52207, 52218, 52228, 52242, 52253, 52262, 52277, 52291, 52305, 52315, 52325, 52338, 52348, 52358, 52368, 52378, 52388, 52398, 52410, 52421, 52433, 52444, 52455, 52466, 52479, 52489, 52501, 52512, 52523, 52535, 52545, 52556, 52566, 52575, 52584, 52593, 52604, 52616, 52625, 52635, 52645, 52655, 52665, 52676, 52686, 52697, 52709, 52717, 52727, 52737, 52747, 52762, 52773, 52785, 52796, 52805, 52814, 52824, 52834, 52849, 52859, 52869, 52879, 52889, 52901, 52911, 52921, 52933, 52943, 52953, 52963, 52975, 52988, 53155, 53177, 53192, 53214, 53225, 53236, 53246, 53256, 53266, 53276, 53286, 53296, 53307, 53346, 53362, 53371, 53394, 53405, 53415, 53427, 53437, 53447, 53457, 53502, 53514, 53530, 53543, 53552, 53563, 53575, 53587, 53598, 53609, 53619, 53631, 53643, 53652, 53664, 53674, 53683, 53693, 53702, 53713, 53725, 53737, 53747, 53758, 53770, 53782, 53791, 53801, 53810, 53819, 53831, 53844, 53854, 53865, 53874, 53887, 53897, 53909, 53921, 53932, 53943, 53960, 53970, 53988, 54005, 54018, 54028, 54041, 54054, 54064, 54074, 54083, 54094, 54109, 54125, 54138, 54149, 54160, 54170, 54181, 54191, 54200, 54214, 54229, 54241, 54255, 54269, 54279, 54288, 54297, 54308, 54317, 54326, 54335, 54345, 54354, 54366, 54378, 54390, 54400, 54422, 54433, 54443, 54453, 54466, 54477, 54491, 54501, 54514, 54527, 54537, 54549, 54559, 54569, 54579, 54588, 54598, 54607, 54617, 54631, 54641, 54651, 54688, 54699, 54710, 54721, 54732, 54746, 54760, 54772, 54784, 54796, 54808, 54818, 54828, 54840, 54852, 54903, 54914, 54923, 54933, 54944, 54956, 54967, 54979, 54994, 55004, 55014, 55029, 55041, 55052, 55061, 55071, 55083, 55093, 55104, 55115, 55126, 55138, 55150, 55160, 55170, 55181, 55192, 55205, 55215, 55232, 55242, 55259, 55269, 55285, 55298, 55308, 55316, 55325, 55337, 55350, 55359, 55368, 55380, 55414, 55448, 55482, 55492, 55526, 55538, 55551, 55561, 55573, 55587, 55621, 55630, 55664, 55677, 55688, 55698, 55708, 55719, 55729, 55740, 55751, 55762, 55776, 55790, 55804, 55815, 55825, 55835, 55845, 55853, 55863, 55871, 55879, 55889, 55898, 55908, 55922, 55932, 55942, 55951, 55963, 55974, 55986, 55997, 56007, 56017, 56028, 56040, 56052, 56062, 56073, 56083, 56093, 56103, 56113, 56123, 56132, 56142, 56152, 56162, 56172, 56182, 56193, 56203, 56213, 56228, 56238, 56250, 56260, 56270, 56280, 56289, 56299, 56312, 56322, 56332, 56344, 56353, 56363, 56373, 56383, 56393, 56406, 56417, 56432, 56443, 56454, 56465, 56479, 56492, 56503, 56514, 56524, 56533, 56547, 56558, 56568, 56578, 56591, 56622, 56632, 56643, 56651, 56663, 56673, 56683, 56693, 56703, 56713, 56723, 56734, 56744, 56757, 56767, 56777, 56788, 56798, 56810, 56819, 56831, 56842, 56855, 56868, 56880, 56895, 56908, 56918, 56928, 56939, 56955, 56968, 56978, 56989, 57004, 57019, 57029, 57039, 57051, 57061, 57071, 57081, 57090, 57103, 57113, 57123, 57132, 57142, 57152, 57164, 57174, 57185, 57197, 57208, 57218, 57231, 57244, 57254, 57269, 57279, 57288, 57301, 57311, 57321, 57332, 57341, 57354, 57363, 57373, 57389, 57399, 57409, 57419, 57429, 57438, 57448, 57458, 57469, 57494, 57505, 57516, 57526, 57536, 57551, 57562, 57572, 57585, 57597, 57607, 57618, 57629, 57641, 57651, 57662, 57673, 57686, 57697, 57709, 57719, 57733, 57746, 57756, 57767, 57779, 57793, 57804, 57812, 57823, 57834, 57846, 57857, 57870, 57883, 57896, 57909, 57922, 57935, 57948, 57961, 57974, 57987, 58000, 58013, 58022, 58035, 58048, 58061, 58074, 58085, 58098, 58111, 58124, 58137, 58148, 58161, 58174, 58187, 58200, 58213, 58226, 58239, 58252, 58265, 58278, 58291, 58304, 58317, 58330, 58343, 58356, 58368, 58380, 58390, 58399, 58413, 58424, 58433, 58442, 58452, 58467, 58478, 58493, 58508, 58523, 58538, 58548, 58558, 58568, 58581, 58598, 58607, 58624, 58636, 58645, 58656, 58667, 58680, 58690, 58699, 58709, 58721, 58732, 58748, 58758, 58788, 58802, 58814, 58824, 58834, 58845, 58854, 58865, 58876, 58887, 58899, 58911, 58921, 58931, 58941, 58952, 58965, 58975, 58985, 58996, 59006, 59016, 59028, 59038, 59073, 59085, 59095, 59104, 59113, 59123, 59138, 59160, 59176, 59185, 59194, 59203, 59212, 59221, 59232, 59241, 59253, 59262, 59274, 59285, 59301, 59317, 59329, 59350, 59362, 59373, 59385, 59396, 59405, 59415, 59465, 59474, 59485, 59494, 59503, 59512, 59522, 59533, 59542, 59554, 59564, 59577, 59588, 59597, 59610, 59620, 59631, 59641, 59652, 59661, 59672, 59682, 59770, 59780, 59791, 59802, 59812, 59824, 59833, 59844, 59854, 59865, 59905, 59913, 60010, 60020, 60031, 60045, 60055, 60064, 60075, 60087, 60097, 60109, 60120, 60129, 60143, 60153, 60163, 60173, 60185, 60195, 60206, 60216, 60225, 60236, 60246, 60256, 60266, 60277, 60287, 60298, 60309, 60319, 60329, 60339, 60350, 60360, 60371, 60382, 60401, 60412, 60421, 60432, 60441, 60452, 60462, 60476, 60486, 60499, 60510, 60522, 60533, 60544, 60554, 60565, 60575, 60585, 60595, 60606, 60616, 60628, 60638, 60655, 60664, 60674, 60684, 60695, 60706, 60716, 60742, 60757, 60782, 60792, 60804, 60816, 60829, 60841, 60852, 60863, 60875, 60892, 60907, 60919, 60931, 60943, 60955, 60966, 60978, 60990, 61002, 61014, 61026, 61038, 61050, 61060, 61077, 61092, 61102, 61114, 61126, 61139, 61151, 61164, 61175, 61185, 61195, 61208, 61219, 61231, 61241, 61251, 61262, 61272, 61282, 61292, 61303, 61312, 61322, 61332, 61342, 61352, 61364, 61373, 61384, 61394, 61406, 61418, 61430, 61441, 61451, 61461, 61471, 61481, 61495, 61504, 61516, 61526, 61536, 61546, 61557, 61567, 61579, 61590, 61600, 61610, 61619, 61634, 61648, 61658, 61669, 61730, 61739, 61749, 61765, 61775, 61787, 61799, 61809, 61975, 62141, 62307, 62317, 62482, 62492, 62502, 62511, 62522, 62534, 62546, 62557, 62567, 62577, 62589, 62598, 62608, 62621, 62634, 62644, 62654, 62670, 62681, 62692, 62703, 62714, 62725, 62738, 62746, 62758, 62772, 62784, 62796, 62809, 62821, 62833, 62845, 62855, 62863, 62873, 62882, 62892, 62902, 62912, 62922, 62932, 62942, 62954, 62966, 62976, 62987, 62997, 63009, 63024, 63038, 63049, 63064, 63079, 63089, 63100, 63115, 63126, 63140, 63150, 63161, 63176, 63186, 63201, 63217, 63227, 63236, 63248, 63257, 63268, 63277, 63288, 63298, 63322, 63332, 63342, 63370, 63385, 63401, 63417, 63428, 63438, 63447, 63457, 63467, 63477, 63489, 63500, 63511, 63522, 63532, 63542, 63553, 63566, 63575, 63584, 63593, 63602, 63614, 63627, 63637, 63647, 63662, 63678, 63688, 63700, 63710, 63721, 63730, 63741, 63756, 63770, 63788, 63800, 63822, 63832, 63842, 63851, 63861, 63871, 63880, 63889, 63906, 63922, 63932, 63951, 63970, 63989, 63999, 64018, 64027, 64042, 64055, 64075, 64086, 64103, 64115, 64125, 64135, 64145, 64155, 64164, 64173, 64186, 64207, 64217, 64227, 64237, 64246, 64258, 64268, 64278, 64288, 64298, 64310, 64320, 64331, 64344, 64356, 64365, 64384, 64394, 64405, 64416, 64428, 64437, 64447, 64458, 64470, 64479, 64488, 64498, 64507, 64518, 64532, 64546, 64559, 64571, 64583, 64593, 64609, 64622, 64636, 64651, 64662, 64675, 64685, 64695, 64705, 64714, 64724, 64734, 64746, 64756, 64768, 64777, 64786, 64798, 64824, 64836, 64846, 64863, 64872, 64882, 64896, 64906, 64917, 64927, 64938, 64949, 64960, 64970, 64980, 64996, 65007, 65016, 65026, 65036, 65047, 65084, 65118, 65129, 65166, 65203, 65213, 65224, 65234, 65244, 65253, 65263, 65273, 65287, 65297, 65307, 65316, 65326, 65336, 65345, 65356, 65366, 65375, 65385, 65398, 65413, 65426, 65436, 65446, 65455, 65501, 65516, 65526, 65536, 65546, 65557, 65568, 65579, 65589, 65598, 65608, 65621, 65632, 65643, 65653, 65664, 65674, 65689, 65702, 65715, 65725, 65741, 65756, 65772, 65786, 65799, 65809, 65821, 65832, 65843, 65856, 65866, 65875, 65884, 65894, 65904, 65914, 65933, 65943, 65981, 65991, 66001, 66018, 66029, 66043, 66053, 66070, 66080, 66089, 66098, 66107, 66118, 66129, 66141, 66154, 66164, 66174, 66184, 66194, 66204, 66217, 66227, 66237, 66247, 66273, 66282, 66293, 66303, 66313, 66326, 66337, 66347, 66356, 66370, 66381, 66399, 66416, 66427, 66437, 66446, 66456, 66466, 66476, 66485, 66494, 66504, 66518, 66528, 66537, 66547, 66558, 66575, 66592, 66602, 66615, 66623, 66635, 66645, 66656, 66675, 66687, 66702, 66718, 66728, 66740, 66751, 66760, 66770, 66781, 66791, 66800, 66827, 66836, 66845, 66855, 66867, 66876, 66889, 66899, 66912, 66921, 66931, 66941, 66955, 66965, 66975, 66990, 67000, 67011, 67031, 67041, 67051, 67061, 67072, 67082, 67091, 67100, 67112, 67123, 67134, 67144, 67154, 67165, 67175, 67184, 67193, 67202, 67211, 67220, 67229, 67240, 67250, 67260, 67271, 67282, 67292, 67301, 67310, 67321, 67331, 67344, 67361, 67371, 67381, 67391, 67401, 67412, 67423, 67433, 67442, 67452, 67466, 67476, 67486, 67496, 67506, 67515, 67525, 67539, 67549, 67559, 67570, 67581, 67591, 67601, 67610, 67620, 67631, 67641, 67653, 67664, 67676, 67689, 67699, 67709, 67719, 67730, 67740, 67750, 67758, 67766, 67779, 67790, 67803, 67814, 67827, 67839, 67851, 67860, 67870, 67880, 67889, 67900, 67914, 67928, 67939, 67953, 67965, 67975, 67988, 67997, 68007, 68017, 68027, 68036, 68046, 68056, 68067, 68079, 68089, 68099, 68110, 68121, 68131, 68143, 68155, 68166, 68176, 68187, 68196, 68205, 68214, 68224, 68233, 68242, 68253, 68266, 68278, 68300, 68322, 68332, 68342, 68384, 68396, 68408, 68427, 68438, 68448, 68458, 68468, 68478, 68488, 68498, 68508, 68518, 68528, 68538, 68548, 68564, 68573, 68583, 68594, 68605, 68615, 68627, 68639, 68648, 68662, 68672, 68683, 68694, 68705, 68715, 68726, 68737, 68751, 68761, 68789, 68809, 68826, 68847, 68858, 68869, 68881, 68892, 68903, 68914, 68925, 68936, 68947, 68957, 68968, 68979, 68990, 69001, 69012, 69023, 69034, 69045, 69056, 69070, 69086, 69096, 69107, 69121, 69136, 69150, 69161, 69172, 69185, 69196, 69206, 69216, 69228, 69239, 69250, 69260, 69270, 69280, 69299, 69309, 69320, 69330, 69340, 69354, 69368, 69378, 69388, 69413, 69427, 69437, 69447, 69457, 69469, 69479, 69491, 69502, 69513, 69524, 69534, 69621, 69630, 69640, 69650, 69661, 69672, 69682, 69693, 69704, 69715, 69726, 69737, 69748, 69761, 69771, 69778, 69789, 69800, 69820, 69831, 69844, 69854, 69864, 69875, 69885, 69900, 69933, 69943, 69955, 69969, 69980, 69991, 70002, 70017, 70029, 70039, 70049, 70064, 70074, 70090, 70105, 70116, 70126, 70136, 70146, 70157, 70167, 70178, 70189, 70199, 70209, 70219, 70229, 70240, 70251, 70261, 70271, 70281, 70294, 70304, 70314, 70324, 70336, 70347, 70358, 70371, 70381, 70395, 70409, 70419, 70434, 70444, 70454, 70464, 70476, 70488, 70501, 70511, 70522, 70533, 70544, 70554, 70566, 70580, 70592, 70610, 70620, 70632, 70642, 70652, 70665, 70678, 70689, 70702, 70715, 70725, 70736, 70746, 70757, 70767, 70777, 70788, 70800, 70810, 70822, 70832, 70845, 70907, 70917, 70927, 70939, 70956, 70975, 70985, 70997, 71009, 71019, 71030, 71042, 71060, 71070, 71080, 71094, 71104, 71124, 71135, 71147, 71160, 71171, 71181, 71191, 71202, 71213, 71224, 71236, 71247, 71257, 71267, 71277, 71287, 71297, 71310, 71330, 71350, 71370, 71380, 71391, 71401, 71410, 71420, 71431, 71442, 71452, 71464, 71476, 71490, 71502, 71514, 71524, 71535, 71546, 71556, 71566, 71579, 71589, 71609, 71621, 71641, 71651, 71663, 71672, 71681, 71691, 71701, 71711, 71722, 71732, 71742, 71753, 71763, 71774, 71785, 71798, 71808, 71820, 71830, 71842, 71852, 71864, 71876, 71888, 71898, 71908, 71918, 71928, 71941, 71951, 71963, 71973, 71986, 71996, 72006, 72019, 72185, 72196, 72208, 72220, 72232, 72244, 72255, 72266, 72276, 72286, 72297, 72307, 72321, 72334, 72345, 72356, 72366, 72378, 72389, 72399, 72417, 72428, 72440, 72450, 72461, 72471, 72483, 72493, 72535, 72545, 72555, 72566, 72578, 72588, 72598, 72608, 72618, 72628, 72639, 72651, 72661, 72671, 72681, 72700, 72710, 72728, 72738, 72749, 72759, 72769, 72784, 72794, 72805, 72815, 72826, 72837, 72847, 73029, 73039, 73050, 73061, 73073, 73084, 73094, 73104, 73119, 73129, 73139, 73152, 73168, 73181, 73190, 73200, 73210, 73219, 73230, 73240, 73253, 73265, 73281, 73297, 73308, 73318, 73370, 73381, 73391, 73406, 73421, 73431, 73445, 73457, 73469, 73480, 73494, 73505, 73515, 73525, 73535, 73546, 73558, 73569, 73582, 73592, 73605, 73615, 73627, 73638, 73648, 73716, 73727, 73740, 73751, 73761, 73771, 73786, 73796, 73806, 73816, 73828, 73838, 73849, 73862, 73875, 73885, 73898, 73908, 73927, 73937, 73950, 73960, 73970, 73987, 73999, 74012, 74023, 74033, 74042, 74051, 74060, 74071, 74081, 74092, 74103, 74113, 74124, 74136, 74146, 74156, 74166, 74176, 74186, 74198, 74209, 74222, 74233, 74251, 74264, 74275, 74287, 74301, 74311, 74326, 74336, 74348, 74360, 74371, 74383, 74393, 74405, 74415, 74425, 74438, 74449, 74463, 74474, 74487, 74499, 74509, 74519, 74528, 74538, 74549, 74560, 74571, 74582, 74591, 74601, 74611, 74626, 74637, 74655, 74665, 74677, 74692, 74702, 74712, 74723, 74734, 74744, 74754, 74770, 74782, 74793, 74806, 74816, 74826, 74836, 74846, 74858, 74871, 74882, 74894, 74906, 74917, 74927, 74937, 74947, 74957, 74972, 74982, 74996, 75006, 75016, 75028, 75039, 75049, 75060, 75070, 75081, 75092, 75103, 75113, 75123, 75134, 75144, 75154, 75164, 75174, 75184, 75194, 75204, 75214, 75224, 75234, 75245, 75256, 75290, 75324, 75359, 75369, 75380, 75390, 75401, 75418, 75429, 75440, 75454, 75465, 75476, 75486, 75496, 75508, 75518, 75541, 75551, 75563, 75575, 75587, 75600, 75611, 75622, 75632, 75647, 75658, 75668, 75693, 75703, 75728, 75753, 75766, 75777, 75788, 75799, 75811, 75821, 75831, 75842, 75853, 75864, 75877, 75887, 75898, 75908, 75919, 75930, 75940, 75950, 75974, 75984, 75994, 76006, 76017, 76027, 76042, 76056, 76067, 76087, 76098, 76108, 76118, 76128, 76141, 76154, 76177, 76193, 76217, 76227, 76237, 76260, 76270, 76281, 76291, 76302, 76312, 76323, 76333, 76343, 76356, 76368, 76380, 76392, 76403, 76413, 76425, 76437, 76447, 76460, 76470, 76482, 76493, 76503, 76515, 76526, 76536, 76546, 76556, 76566, 76576, 76586, 76598, 76599, 76600, 76615, 76625, 76636, 76648, 76659, 76669, 76679, 76711, 76721, 76731, 76741, 76751, 76761, 76771, 76781, 76792, 76802, 76814, 76824, 76834, 76846, 76857, 76895, 76967, 76977, 76989, 77002, 77012, 77022, 77033, 77043, 77053, 77065, 77075, 77087, 77097, 77109, 77119, 77129, 77143, 77153, 77163, 77175, 77185, 77196, 77207, 77226, 77236, 77250, 77260, 77270, 77280, 77290, 77306, 77321, 77331, 77348, 77361, 77639, 77917, 78195, 78473, 78484, 78495, 78505, 78516, 78527, 78545, 78555, 78567, 78583, 78594, 78605, 78616, 78627, 78637, 78647, 78657, 78667, 78677, 78687, 78699, 78710, 78720, 78731, 78741, 78753, 78763, 78837, 78847, 78860, 78870, 78882, 78895, 78911, 78921, 78941, 78951, 78961, 78977, 78988, 78998, 79008, 79019, 79029, 79039, 79049, 79059, 79074, 79085, 79095, 79109, 79120, 79132, 79144, 79154, 79168, 79179, 79195, 79208, 79222, 79232, 79242, 79265, 79276, 79287, 79298, 79308, 79318, 79328, 79339, 79350, 79362, 79373, 79383, 79394, 79404, 79415, 79425, 79435, 79446, 79460, 79471, 79481, 79491, 79504, 79516, 79527, 79537, 79548, 79561, 79573, 79583, 79593, 79604, 79614, 79628, 79640, 79650, 79661, 79673, 79683, 79695, 79705, 79715, 79726, 79736, 79748, 79758, 79767, 79778, 79789, 79799, 79809, 79822, 79835, 79847, 79856, 79867, 79878, 79889, 79899, 79910, 79921, 79935, 79949, 79960, 79973, 79984, 79996, 80013, 80031, 80049, 80061, 80079, 80089, 80105, 80116, 80129, 80142, 80154, 80164, 80173, 80185, 80196, 80207, 80220, 80244, 80256, 80268, 80278, 80289, 80299, 80314, 80329, 80338, 80366, 80375, 80385, 80396, 80407, 80419, 80429, 80441, 80452, 80462, 80472, 80486, 80499, 80509, 80524, 80534, 80545, 80555, 80565, 80575, 80586, 80606, 80620, 80632, 80643, 80653, 80665, 80675, 80691, 80702, 80716, 80729, 80740, 80750, 80760, 80769, 80778, 80787, 80802, 80812, 80822, 80832, 80842, 80853, 80864, 80874, 80884, 80894, 80908, 80918, 80928, 81094, 81095, 81096, 81097, 81107, 81117, 81127, 81146, 81156, 81174, 81189, 81205, 81216, 81217, 81227, 81239, 81249, 81260, 81269, 81279, 81292, 81305, 81315, 81327, 81337, 81347, 81362, 81375, 81385, 81397, 81408, 81418, 81429, 81439, 81453, 81466, 81477, 81492, 81502, 81516, 81532, 81542, 81552, 81562, 81574, 81586, 81596, 81605, 81615, 81625, 81639, 81652, 81663, 81673, 81683, 81693, 81703, 81713, 81723, 81735, 81747, 81757, 81767, 81777, 81795, 81804, 81816, 81826, 81836, 81846, 81855, 81867, 81879, 81889, 81900, 81911, 81922, 81932, 81942, 81952, 81962, 81972, 81983, 81994, 82004, 82017, 82026, 82044, 82054, 82065, 82075, 82087, 82097, 82110, 82121, 82131, 82141, 82151, 82161, 82170, 82184, 82195, 82205, 82217, 82228, 82238, 82248, 82259, 82269, 82282, 82293, 82304, 82314, 82325, 82438, 82448, 82459, 82470, 82480, 82491, 82501, 82512, 82523, 82534, 82544, 82558, 82573, 82589, 82603, 82614, 82625, 82635, 82647, 82658, 82669, 82679, 82690, 82703, 82722, 82732, 82748, 82760, 82770, 82780, 82791, 82801, 82811, 82823, 82836, 82847, 82857, 82867, 82880, 82891, 82905, 82915, 82925, 82946, 82958, 82980, 82990, 83000, 83020, 83030, 83043, 83064, 83074, 83084, 83098, 83109, 83129, 83139, 83149, 83162, 83182, 83193, 83213, 83224, 83234, 83244, 83254, 83266, 83276, 83286, 83296, 83307, 83324, 83336, 83346, 83358, 83370, 83379, 83389, 83398, 83411, 83421, 83436, 83446, 83466, 83479, 83500, 83511, 83525, 83535, 83545, 83559, 83582, 83615, 83625, 83635, 83645, 83655, 83665, 83675, 83685, 83697, 83709, 83721, 83733, 83748, 83760, 83771, 83789, 83802, 83814, 83828, 83839, 83852, 83864, 83876, 83886, 83899, 83910, 83921, 83932, 83944, 83955, 83965, 83975, 83985, 83995, 84005, 84015, 84026, 84044, 84054, 84067, 84077, 84097, 84110, 84123, 84134, 84144, 84155, 84166, 84178, 84190, 84200, 84210, 84222, 84232, 84242, 84252, 84262, 84274, 84284, 84294, 84304, 84322, 84332, 84343, 84355, 84366, 84386, 84398, 84410, 84423, 84436, 84446, 84456, 84466, 84476, 84486, 84497, 84507, 84521, 84532, 84545, 84561, 84571, 84581, 84592, 84602, 84618, 84629, 84641, 84652, 84662, 84674, 84687, 84701, 84712, 84722, 84732, 84742, 84752, 84762, 84772, 84782, 84793, 84803, 84816, 84827, 84837, 84847, 84858, 84869, 84887, 84899, 84914, 84926, 84936, 84946, 84956, 84985, 85002, 85013, 85022, 85032, 85041, 85051, 85062, 85074, 85083, 85094, 85104, 85114, 85124, 85134, 85144, 85154, 85164, 85175, 85185, 85195, 85207, 85219, 85230, 85242, 85253, 85263, 85273, 85283, 85293, 85303, 85315, 85325, 85336, 85346, 85356, 85370, 85381, 85392, 85404, 85416, 85433, 85444, 85461, 85471, 85482, 85493, 85511, 85522, 85532, 85542, 85552, 85562, 85572, 85583, 85597, 85612, 85655, 85670, 85680, 85695, 85705, 85718, 85731, 85741, 85753, 85762, 85775, 85785, 85796, 85807, 85818, 85828, 85839, 85870, 85880, 85892, 85902, 85913, 85924, 85956, 85985, 86015, 86046, 86078, 86088, 86099, 86109, 86120, 86131, 86141, 86151, 86163, 86173, 86192, 86202, 86213, 86223, 86242, 86252, 86263, 86276, 86286, 86296, 86307, 86318, 86331, 86344, 86355, 86367, 86383, 86394, 86404, 86414, 86426, 86446, 86458, 86468, 86478, 86494, 86504, 86517, 86527, 86539, 86549, 86562, 86574, 86587, 86599, 86611, 86623, 86633, 86644, 86654, 86666, 86679, 86712, 86731, 86740, 86749, 86759, 86824, 86838, 86850, 86861, 86872, 86882, 86895, 86907, 86918, 86927, 86937, 86947, 86957, 86970, 86984, 86997, 87008, 87018, 87028, 87039, 87054, 87064, 87073, 87083, 87108, 87118, 87128, 87141, 87150, 87163, 87174, 87189, 87202, 87213, 87225, 87238, 87250, 87261, 87274, 87311, 87321, 87332, 87347, 87362, 87376, 87387, 87397, 87407, 87421, 87433, 87443, 87452, 87462, 87473, 87484, 87494, 87504, 87514, 87524, 87534, 87547, 87557, 87576, 87591, 87642, 87652, 87662, 87672, 87685, 87701, 87711, 87726, 87743, 87754, 87768, 87779, 87798, 87814, 87828, 87839, 87853, 87867, 87880, 87961, 87972, 87984, 87995, 88025, 88039, 88048, 88060, 88072, 88084, 88094, 88105, 88117, 88126, 88139, 88155, 88166, 88179, 88189, 88209, 88231, 88241, 88251, 88261, 88275, 88287, 88297, 88322, 88334, 88344, 88354, 88364, 88376, 88388, 88402, 88414, 88427, 88439, 88449, 88468, 88479, 88489, 88499, 88509, 88534, 88549, 88559, 88569, 88580, 88592, 88604, 88613, 88623, 88633, 88644, 88655, 88665, 88675, 88685, 88695, 88704, 88885, 89066, 89078, 89088, 89100, 89111, 89124, 89139, 89157, 89167, 89177, 89187, 89198, 89210, 89221, 89235, 89246, 89256, 89268, 89278, 89292, 89302, 89312, 89322, 89332, 89342, 89352, 89381, 89391, 89423, 89432, 89442, 89452, 89464, 89474, 89495, 89505, 89515, 89527, 89539, 89550, 89561, 89574, 89587, 89598, 89608, 89619, 89629, 89640, 89651, 89662, 89675, 89685, 89696, 89707, 89717, 89727, 89737, 89748, 89759, 89809, 89819, 89829, 89841, 89852, 89862, 89874, 89884, 89894, 89904, 89914, 89926, 89936, 89946, 89958, 89976, 89997, 90008, 90021, 90031, 90041, 90051, 90063, 90073, 90083, 90093, 90103, 90113, 90123, 90133, 90143, 90153, 90163, 90173, 90183, 90195, 90205, 90215, 90228, 90243, 90253, 90264, 90276, 90285, 90294, 90303, 90313, 90325, 90335, 90346, 90357, 90367, 90383, 90393, 90408, 90418, 90432, 90443, 90454, 90468, 90479, 90490, 90500, 90511, 90522, 90533, 90543, 90554, 90567, 90580, 90589, 90599, 90610, 90621, 90632, 90643, 90654, 90665, 90676, 90687, 90698, 90708, 90718, 90729, 90911, 90922, 90933, 90944, 90954, 90965, 90975, 90985, 90995, 91005, 91015, 91025, 91035, 91045, 91055, 91065, 91075, 91085, 91095, 91105, 91115, 91125, 91135, 91145, 91155, 91165, 91175, 91185, 91195, 91209, 91227, 91245, 91256, 91266, 91278, 91295, 91308, 91320, 91330, 91340, 91350, 91361, 91372, 91382, 91392, 91403, 91414, 91424, 91434, 91444, 91454, 91465, 91475, 91486, 91496, 91506, 91518, 91530, 91540, 91550, 91562, 91572, 91582, 91592, 91603, 91613, 91625, 91635, 91645, 91655, 91666, 91678, 91689, 91738, 91750, 91762, 91772, 91782, 91794, 91806, 91819, 91832, 91844, 91854, 91906, 91918, 91931, 91949, 91960, 91970, 91982, 92021, 92031, 92041, 92052, 92091, 92130, 92140, 92151, 92191, 92201, 92211, 92221, 92231, 92241, 92253, 92266, 92276, 92288, 92299, 92309, 92320, 92330, 92340, 92364, 92375, 92384, 92395, 92410, 92421, 92434, 92446, 92456, 92466, 92475, 92485, 92505, 92515, 92527, 92538, 92550, 92560, 92570, 92580, 92591, 92602, 92612, 92622, 92632, 92643, 92653, 92663, 92673, 92687, 92704, 92714, 92724, 92734, 92743, 92753, 92765, 92786, 92801, 92813, 92826, 92838, 92852, 92865, 92877, 92887, 92897, 92907, 92920, 92930, 92940, 92955, 92967, 92978, 92988, 92998, 93008, 93018, 93186, 93199, 93209, 93219, 93229, 93239, 93249, 93250, 93260, 93276, 93286, 93299, 93309, 93321, 93334, 93348, 93358, 93370, 93381, 93391, 93402, 93419, 93429, 93439, 93449, 93460, 93470, 93480, 93490, 93500, 93510, 93520, 93530, 93540, 93550, 93564, 93574, 93588, 93598, 93608, 93619, 93631, 93641, 93660, 93670, 93685, 93695, 93716, 93727, 93737, 93748, 93759, 93770, 93781, 93790, 93801, 93811, 93821, 93831, 93842, 93853, 93865, 93878, 93890, 93900, 93911, 93921, 93935, 93945, 93960, 93976, 93986, 93997, 94013, 94036, 94046, 94058, 94069, 94079, 94093, 94102, 94113, 94123, 94133, 94144, 94155, 94167, 94177, 94189, 94201, 94212, 94226, 94237, 94250, 94260, 94271, 94280, 94292, 94309, 94320, 94331, 94343, 94353, 94366, 94386, 94396, 94406, 94416, 94426, 94435, 94446, 94456, 94467, 94477, 94498, 94508, 94518, 94613, 94626, 94636, 94646, 94656, 94666, 94676, 94686, 94706, 94716, 94727, 94738, 94751, 94761, 94771, 94782, 94792, 94802, 94814, 94824, 94834, 94848, 94858, 94872, 94886, 94900, 94916, 94928, 94939, 94948, 94959, 94970, 94985, 94995, 95006, 95016, 95035, 95045, 95065, 95074, 95087, 95099, 95109, 95123, 95133, 95143, 95153, 95248, 95258, 95268, 95278, 95288, 95298, 95314, 95325, 95341, 95352, 95364, 95376, 95387, 95398, 95412, 95423, 95433, 95444, 95454, 95464, 95480, 95491, 95502, 95513, 95523, 95539, 95549, 95560, 95570, 95584, 95596, 95610, 95621, 95631, 95700, 95712, 95722, 95732, 95745, 95755, 95766, 95779, 95818, 95828, 95838, 95847, 95857, 95867, 95877, 95890, 95902, 95912, 96007, 96018, 96030, 96040, 96050, 96059, 96072, 96101, 96113, 96123, 96135, 96148, 96160, 96170, 96180, 96190, 96203, 96213, 96226, 96237, 96247, 96256, 96266, 96275, 96289, 96299, 96313, 96332, 96343, 96353, 96363, 96373, 96384, 96394, 96404, 96414, 96424, 96434, 96446, 96456, 96470, 96482, 96491, 96503, 96522, 96531, 96543, 96562, 96572, 96583, 96593, 96610, 96620, 96630, 96640, 96653, 96663, 96676, 96686, 96696, 96706, 96718, 96728, 96738, 96748, 96758, 96769, 96779, 96790, 96801, 96811, 96821, 96832, 96842, 96852, 96862, 96872, 96882, 96896, 96908, 96920, 96930, 96940, 96951, 96961, 96970, 96982, 96992, 97010, 97020, 97031, 97041, 97051, 97061, 97075, 97090, 97110, 97121, 97131, 97149, 97160, 97174, 97184, 97194, 97205, 97216, 97228, 97240, 97252, 97262, 97272, 97283, 97294, 97308, 97318, 97328, 97341, 97356, 97367, 97377, 97393, 97404, 97414, 97429, 97439, 97450, 97470, 97480, 97490, 97499, 97511, 97521, 97533, 97544, 97554, 97564, 97575, 97584, 97593, 97692, 97702, 97711, 97720, 97729, 97739, 97751, 97761, 97771, 97796, 97808, 97819, 97833, 97843, 97853, 97863, 97875, 97885, 97898, 97910, 97920, 97930, 97960, 97985, 97997, 98007, 98018, 98028, 98040, 98052, 98062, 98072, 98082, 98095, 98107, 98120, 98143, 98156, 98167, 98177, 98190, 98201, 98210, 98221, 98231, 98241, 98251, 98261, 98271, 98281, 98291, 98301, 98311, 98321, 98331, 98341, 98351, 98361, 98371, 98381, 98391, 98406, 98416, 98428, 98438, 98448, 98458, 98470, 98513, 98526, 98561, 98572, 98583, 98593, 98604, 98614, 98624, 98634, 98647, 98659, 98669, 98690, 98713, 98723, 98736, 98749, 98759, 98769, 98779, 98792, 98802, 98812, 98822, 98832, 98842, 98851, 98860, 98869, 98879, 98889, 98899, 98909, 98919, 98931, 98941, 98954, 98964, 98976, 98988, 99014, 99024, 99034, 99045, 99055, 99065, 99076, 99087, 99099, 99110, 99120, 99131, 99141, 99152, 99164, 99179, 99191, 99201, 99213, 99233, 99244, 99254, 99267, 99278, 99289, 99299, 99310, 99320, 99333, 99343, 99353, 99364, 99374, 99384, 99396, 99406, 99416, 99426, 99437, 99453, 99478, 99503, 99516, 99528, 99541, 99551, 99563, 99573, 99584, 99594, 99605, 99617, 99636, 99644, 99655, 99679, 99703, 99727, 99735, 99746, 99758, 99777, 99788, 99820, 99831, 99851, 99860, 99869, 99878, 99887, 99897, 99906, 99918, 99928, 99940, 99951, 99962, 99977, 99987, 99997, 100007, 100017, 100029, 100057, 100067, 100162, 100171, 100180, 100200, 100222, 100232, 100242, 100253, 100262, 100271, 100280, 100289, 100298, 100309, 100319, 100329, 100340, 100350, 100363, 100373, 100384, 100395, 100406, 100417, 100429, 100441, 100449, 100459, 100469, 100477, 100489, 100500, 100515, 100569, 100578, 100589, 100604, 100614, 100625, 100635, 100644, 100693, 100742, 100752, 100762, 100772, 100783, 100800, 100810, 100821, 100830, 100884, 100895, 100955, 100973, 100985, 100996, 101012, 101023, 101034, 101044, 101054, 101084, 101095, 101114, 101133, 101144, 101154, 101165, 101175, 101186, 101204, 101218, 101231, 101241, 101253, 101263, 101273, 101289, 101300, 101311, 101323, 101334, 101345, 101383, 101393, 101403, 101428, 101453, 101482, 101495, 101506, 101516, 101527, 101535, 101546, 101556, 101567, 101577, 101586, 101596, 101605, 101624, 101635, 101645, 101663, 101673, 101692, 101703, 101714, 101812, 101977, 101990, 102000, 102010, 102020, 102031, 102040, 102138, 102148, 102158, 102169, 102180, 102192, 102202, 102213, 102224, 102236, 102248, 102258, 102269, 102279, 102290, 102299, 102309, 102319, 102330, 102340, 102350, 102360, 102370, 102380, 102391, 102401, 102411, 102421, 102431, 102440, 102451, 102461, 102471, 102481, 102491, 102500, 102509, 102518, 102528, 102538, 102547, 102555, 102570, 102594, 102618, 102642, 102652, 102662, 102671, 102681, 102691, 102703, 102712, 102722, 102732, 102742, 102752, 102762, 102773, 102784, 102844, 102854, 102863, 102873, 102885, 102937, 102948, 102958, 102968, 102978, 102992, 103008, 103017, 103025, 103035, 103050, 103060, 103072, 103082, 103093, 103104, 103115, 103126, 103136, 103146, 103156, 103166, 103177, 103189, 103200, 103212, 103223, 103235, 103245, 103255, 103266, 103276, 103291, 103301, 103311, 103321, 103333, 103345, 103354, 103366, 103376, 103386, 103398, 103411, 103421, 103431, 103440, 103449, 103465, 103481, 103511, 103534, 103554, 103564, 103574, 103588, 103598, 103607, 103616, 103627, 103637, 103647, 103662, 103678, 103687, 103697, 103707, 103717, 103727, 103737, 103756, 103764, 103774, 103784, 103793, 103802, 103812, 103822, 103832, 103851, 103862, 103877, 103891, 103903, 103916, 103925, 103937, 103956, 103968, 103978, 103990, 103999, 104010, 104019, 104030, 104041, 104051, 104063, 104072, 104084, 104095, 104105, 104115, 104125, 104137, 104160, 104172, 104187, 104198, 104215, 104226, 104238, 104258, 104267, 104278, 104289, 104298, 104309, 104319, 104330, 104340, 104388, 104397, 104410, 104420, 104431, 104442, 104452, 104574, 104584, 104596, 104606, 104626, 104636, 104656, 104671, 104682, 104690, 104700, 104712, 104733, 104746, 104756, 104769, 104779, 104788, 104804, 104816, 104827, 104837, 104851, 104862, 104874, 104890, 104906, 104918, 104928, 104937, 104950, 104962, 104973, 104981, 104991, 105001, 105010, 105021, 105031, 105044, 105057, 105069, 105082, 105095, 105108, 105118, 105378, 105638, 105698, 105958, 106218, 106231, 106243, 106258, 106269, 106277, 106288, 106300, 106310, 106321, 106333, 106343, 106381, 106391, 106401, 106418, 106428, 106439, 106450, 106461, 106473, 106484, 106495, 106504, 106515, 106526, 106537, 106546, 106556, 106565, 106575, 106585, 106595, 106613, 106632, 106749, 106758, 106770, 106779, 106791, 106802, 106811, 106823, 106833, 106844, 106855, 106865, 106876, 106886, 106904, 106914, 106925, 106936, 106946, 106961, 106971, 106981, 106992, 107002, 107012, 107022, 107034, 107044, 107054, 107069, 107082, 107094, 107104, 107115, 107126, 107135, 107145, 107155, 107165, 107179, 107189, 107199, 107209, 107223, 107238, 107248, 107294, 107304, 107314, 107327, 107337, 107351, 107364, 107375, 107386, 107397, 107408, 107419, 107429, 107441, 107456, 107468, 107480, 107490, 107500, 107513, 107523, 107533, 107543, 107554, 107572, 107582, 107593, 107616, 107639, 107662, 107685, 107696, 107719, 107729, 107739, 107750, 107760, 107771, 107781, 107791, 107801, 107810, 107820, 107831, 107840, 107849, 107850, 107860, 107870, 107871, 107872, 107883, 107895, 107907, 107916, 107926, 107939, 107947, 107948, 107991, 108002, 108003, 108021, 108036, 108047, 108060, 108070, 108079, 108089, 108099, 108111, 108112, 108122, 108132, 108133, 108147, 108161, 108171, 108180, 108190, 108199, 108207, 108217, 108227, 108239, 108253, 108263, 108273, 108283, 108293, 108294, 108304, 108316, 108325, 108335, 108344, 108354, 108365, 108375, 108385, 108394, 108406, 108480, 108499, 108511, 108530, 108543, 108553, 108561, 108570, 108580, 108590, 108601, 108611, 108621, 108630, 108640, 108650, 108660, 108670, 108685, 108695, 108707, 108716, 108727, 108737, 108750, 108765, 108776, 108786, 108799, 108811, 108821, 108829, 108841, 108850, 108862, 108873, 108883, 108893, 108907, 108925, 108939, 108947, 108957, 108967, 108977, 108987, 108997, 109007, 109017, 109027, 109037, 109049, 109057, 109069, 109083, 109092, 109103, 109114, 109124, 109139, 109151, 109164, 109174, 109185, 109206, 109215, 109224, 109233, 109243, 109262, 109272, 109287, 109297, 109311, 109321, 109330, 109340, 109357, 109367, 109377, 109388, 109398, 109409, 109421, 109431, 109441, 109456, 109470, 109484, 109498, 109508, 109520, 109531, 109543, 109555, 109564, 109573, 109583, 109592, 109620, 109648, 109676, 109686, 109696, 109707, 109719, 109728, 109736, 109746, 109760, 109768, 109834, 109842, 109850, 109859, 109869, 109881, 109896, 109913, 109933, 109946, 109957, 109967, 109980, 109992, 110005, 110016, 110026, 110038, 110050, 110061, 110074, 110088, 110101, 110111, 110121, 110135, 110145, 110154, 110163, 110173, 110188, 110199, 110210, 110226, 110242, 110255, 110265, 110275, 110286, 110297, 110305, 110313, 110321, 110331, 110344, 110354, 110372, 110386, 110400, 110415, 110427, 110437, 110450, 110460, 110470, 110481, 110492, 110503, 110515, 110528, 110540, 110554, 110564, 110576, 110585, 110595, 110607, 110623, 110635, 110646, 110656, 110666, 110679, 110690, 110700, 110712, 110725, 110735, 110745, 110756, 110767, 110776, 110787, 110798, 110807, 110818, 110828, 110838, 110848, 110858, 110869, 110882, 110892, 110902, 110913, 110923, 110935, 110944, 110957, 110967, 110976, 110985, 110996, 111006, 111015, 111024, 111035, 111045, 111055, 111066, 111081, 111092, 111104, 111115, 111125, 111135, 111144, 111167, 111179, 111189, 111209, 111230, 111253, 111276, 111299, 111312, 111323, 111334, 111345, 111359, 111371, 111396, 111421, 111430, 111457, 111466, 111476, 111485, 111494, 111505, 111514, 111525, 111536, 111550, 111563, 111575, 111585, 111598, 111611, 111621, 111630, 111638, 111652, 111662, 111680, 111689, 111699, 111710, 111722, 111736, 111747, 111757, 111769, 111781, 111791, 111802, 111813, 111825, 111836, 111847, 111859, 111875, 111885, 111894, 111904, 111914, 111926, 111935, 111945, 111955, 111965, 111975, 111986, 111997, 112009, 112021, 112032, 112045, 112054, 112063, 112075, 112084, 112094, 112105, 112116, 112131, 112141, 112152, 112162, 112174, 112184, 112192, 112200, 112208, 112221, 112230, 112239, 112249, 112262, 112276, 112286, 112295, 112306, 112316, 112326, 112340, 112354, 112364, 112376, 112387, 112402, 112414, 112423, 112433, 112441, 112451, 112460, 112479, 112489, 112497, 112518, 112528, 112539, 112548, 112557, 112566, 112576, 112586, 112600, 112612, 112622, 112634, 112643, 112652, 112663, 112675, 112685, 112696, 112706, 112716, 112726, 112756, 112767, 112777, 112787, 112798, 112808, 112817, 112827, 112856, 112866, 112875, 112968, 112977, 112985, 112995, 113005, 113018, 113029, 113039, 113050, 113062, 113073, 113084, 113094, 113106, 113117, 113129, 113139, 113154, 113163, 113173, 113183, 113197, 113215, 113232, 113243, 113253, 113346, 113357, 113368, 113378, 113387, 113398, 113408, 113418, 113428, 113437, 113455, 113464, 113481, 113495, 113507, 113517, 113526, 113546, 113555, 113566, 113577, 113586, 113595, 113604, 113613, 113622, 113631, 113641, 113652, 113663, 113675, 113697, 113708, 113722, 113736, 113750, 113760, 113769, 113780, 113791, 113811, 113822, 113833, 113845, 113854, 113864, 113874, 113883, 113894, 113905, 113916, 113927, 113940, 113952, 113965, 113977, 113989, 114008, 114020, 114029, 114040, 114049, 114061, 114072, 114084, 114092, 114106, 114116, 114126, 114139, 114147, 114157, 114168, 114179, 114192, 114202, 114212, 114222, 114232, 114241, 114252, 114262, 114273, 114283, 114293, 114303, 114313, 114323, 114338, 114353, 114363, 114384, 114393, 114407, 114419, 114429, 114439, 114449, 114459, 114472, 114482, 114508, 114535, 114546, 114556, 114566, 114591, 114619, 114629, 114656, 114685, 114694, 114704, 114713, 114723, 114733, 114743, 114774, 114783, 114793, 114804, 114813, 114824, 114841, 114870, 114880, 114890, 114902, 114915, 114926, 114936, 114946, 114957, 114968, 114977, 114988, 114997, 115007, 115018, 115026, 115035, 115043, 115052, 115060, 115075, 115083, 115091, 115099, 115109, 115119, 115130, 115140, 115150, 115160, 115169, 115180, 115192, 115207, 115219, 115233, 115243, 115253, 115263, 115274, 115284, 115295, 115319, 115327, 115339, 115349, 115361, 115372, 115382, 115394, 115404, 115414, 115424, 115433, 115445, 115455, 115470, 115480, 115494, 115517, 115529, 115545, 115554, 115563, 115579, 115589, 115602, 115616, 115626, 115636, 115645, 115655, 115665, 115676, 115691, 115756, 115765, 115774, 115783, 115794, 115804, 115816, 115826, 115840, 115850, 115860, 115870, 115879, 115927, 115975, 115989, 115998, 116008, 116018, 116028, 116038, 116049, 116059, 116079, 116088, 116098, 116108, 116118, 116136, 116145, 116154, 116162, 116171, 116187, 116197, 116210, 116219, 116228, 116241, 116253, 116266, 116279, 116292, 116305, 116318, 116331, 116340, 116353, 116366, 116379, 116392, 116405, 116413, 116425, 116445, 116454, 116466, 116478, 116490, 116499, 116508, 116517, 116536, 116544, 116554, 116566, 116575, 116584, 116593, 116604, 116613, 116623, 116633, 116644, 116653, 116663, 116673, 116681, 116691, 116712, 116721, 116730, 116739, 116748, 116760, 116770, 116782, 116792, 116803, 116814, 116826, 116835, 116846, 116856, 116867, 116877, 116887, 116898, 116909, 116919, 116940, 116951, 116960, 116970, 116981, 116991, 117002, 117012, 117024, 117046, 117057, 117067, 117077, 117087, 117099, 117111, 117121, 117131, 117141, 117152, 117163, 117173, 117183, 117194, 117210, 117220, 117230, 117245, 117255, 117265, 117276, 117286, 117296, 117306, 117316, 117332, 117342, 117352, 117362, 117372, 117382, 117392, 117402, 117412, 117424, 117436, 117448, 117459, 117469, 117478, 117490, 117500, 117539, 117549, 117559, 117567, 117578, 117587, 117597, 117607, 117617, 117640, 117650, 117658, 117670, 117681, 117692, 117712, 117724, 117734, 117744, 117754, 117764, 117801, 117812, 117821, 117833, 117843, 117852, 117861, 117882, 117895, 117906, 117918, 117939, 117954, 117969, 117980, 118243, 118506, 118769, 119032, 119295, 119306, 119316, 119326, 119336, 119348, 119360, 119370, 119382, 119392, 119403, 119413, 119423, 119433, 119444, 119453, 119468, 119477, 119486, 119497, 119509, 119519, 119536, 119554, 119564, 119591, 119602, 119613, 119624, 119644, 119665, 119678, 119693, 119704, 119715, 119726, 119736, 119757, 119777, 119789, 119799, 119809, 119824, 119840, 119848, 119866, 119876, 119889, 119902, 119913, 119924, 119940, 119952, 119966, 119979, 119989, 120000, 120010, 120025, 120035, 120044, 120053, 120071, 120084, 120102, 120122, 120131, 120140, 120157, 120166, 120176, 120186, 120196, 120206, 120216, 120239, 120248, 120258, 120268, 120278, 120288, 120296, 120311, 120324, 120334, 120344, 120354, 120366, 120380, 120390, 120405, 120415, 120425, 120435, 120445, 120454, 120467, 120481, 120501, 120511, 120521, 120534, 120564, 120593, 120622, 120632, 120642, 120652, 120663, 120673, 120683, 120692, 120702, 120716, 120726, 120737, 120747, 120757, 120776, 120805, 120834, 120863, 120892, 120921, 120950, 120959, 120969, 120980, 120990, 121000, 121010, 121021, 121031, 121041, 121053, 121063, 121076, 121087, 121098, 121108, 121118, 121131, 121150, 121161, 121172, 121183, 121194, 121204, 121212, 121223, 121231, 121241, 121251, 121262, 121278, 121304, 121314, 121325, 121335, 121346, 121362, 121374, 121387, 121401, 121429, 121453, 121477, 121487, 121500, 121511, 121522, 121541, 121551, 121569, 121579, 121588, 121598, 121607, 121625, 121648, 121658, 121668, 121678, 121689, 121699, 121710, 121722, 121733, 121743, 121753, 121763, 121772, 121783, 121794, 121803, 121813, 121823, 121833, 121845, 121854, 121864, 121874, 121887, 121896, 121908, 121929, 121938, 121959, 121980, 121992, 122001, 122011, 122021, 122031, 122041, 122053, 122062, 122071, 122083, 122093, 122102, 122112, 122121, 122132, 122141, 122151, 122160, 122169, 122179, 122189, 122209, 122220, 122229, 122239, 122249, 122271, 122280, 122292, 122305, 122315, 122327, 122337, 122347, 122357, 122367, 122377, 122388, 122400, 122413, 122421, 122437, 122451, 122460, 122477, 122494, 122520, 122546, 122555, 122565, 122575, 122595, 122608, 122618, 122638, 122648, 122658, 122704, 122714, 122723, 122734, 122744, 122754, 122765, 122785, 122796, 122812, 122823, 122844, 122854, 122864, 122874, 122884, 122894, 122908, 122919, 122929, 122942, 122952, 122964, 122975, 122984, 123005, 123018, 123027, 123036, 123046, 123056, 123066, 123076, 123085, 123095, 123105, 123114, 123123, 123133, 123143, 123154, 123167, 123178, 123188, 123202, 123218, 123231, 123251, 123260, 123271, 123284, 123297, 123311, 123320, 123330, 123341, 123351, 123360, 123370, 123379, 123406, 123416, 123431, 123441, 123451, 123461, 123471, 123482, 123492, 123503, 123513, 123523, 123533, 123542, 123553, 123562, 123572, 123594, 123603, 123613, 123627, 123639, 123653, 123666, 123677, 123685, 123693, 123701, 123711, 123720, 123731, 123740, 123750, 123761, 123783, 123793, 123803, 123813, 123823, 123839, 123849, 123866, 123876, 123885, 123895, 123905, 123915, 123930, 123950, 123963, 123976, 124037, 124052, 124063, 124090, 124107, 124123, 124133, 124144, 124153, 124168, 124179, 124190, 124199, 124318, 124328, 124344, 124357, 124372, 124388, 124401, 124414, 124427, 124439, 124449, 124496, 124507, 124517, 124528, 124539, 124550, 124560, 124571, 124582, 124593, 124604, 124615, 124626, 124637, 124648, 124659, 124670, 124681, 124692, 124704, 124715, 124725, 124735, 124759, 124770, 124782, 124794, 124804, 124815, 124825, 124835, 124844, 124853, 124864, 124874, 124884, 124897, 124909, 124919, 124929, 124940, 124953, 124967, 124982, 124994, 125005, 125018, 125032, 125044, 125054, 125063, 125072, 125082, 125091, 125101, 125111, 125121, 125131, 125145, 125155, 125167, 125177, 125187, 125198, 125209, 125219, 125235, 125259, 125284, 125300, 125313, 125324, 125339, 125350, 125359, 125369, 125381, 125397, 125408, 125420, 125431, 125441, 125452, 125463, 125475, 125484, 125493, 125507, 125517, 125532, 125542, 125552, 125562, 125575, 125585, 125593, 125605, 125618, 125628, 125638, 125648, 125658, 125672, 125684, 125694, 125707, 125717, 125729, 125741, 125753, 125763, 125777, 125787, 125803, 125814, 125826, 125837, 125847, 125857, 125867, 125879, 125889, 125900, 125910, 125929, 125941, 125951, 125961, 125975, 125985, 125995, 126004, 126013, 126024, 126035, 126045, 126054, 126063, 126072, 126081, 126091, 126105, 126115, 126131, 126143, 126160, 126172, 126190, 126207, 126219, 126235, 126245, 126255, 126264, 126274, 126290, 126305, 126322, 126338, 126348, 126361, 126373, 126385, 126394, 126406, 126418, 126428, 126438, 126456, 126465, 126478, 126501, 126514, 126524, 126534, 126544, 126561, 126571, 126581, 126591, 126602, 126613, 126626, 126638, 126649, 126662, 126673, 126684, 126697, 126710, 126721, 126735, 126749, 126789, 126799, 126813, 126852, 126862, 126876, 126887, 126900, 126913, 126924, 126935, 126946, 126956, 126966, 126976, 126985, 126999, 127010, 127020, 127030, 127048, 127064, 127074, 127084, 127097, 127110, 127120, 127129, 127139, 127186, 127199, 127208, 127217, 127231, 127252, 127277, 127287, 127313, 127330, 127341, 127367, 127377, 127387, 127398, 127409, 127420, 127430, 127440, 127453, 127463, 127472, 127488, 127504, 127514, 127528, 127538, 127555, 127567, 127579, 127589, 127599, 127617, 127630, 127647, 127664, 127676, 127693, 127711, 127729, 127745, 127755, 127764, 127778, 127789, 127806, 127816, 127827, 127837, 127848, 127859, 127869, 127882, 127892, 127902, 127912, 127922, 127934, 127946, 127958, 127972, 127982, 127996, 128006, 128016, 128028, 128038, 128051, 128064, 128077, 128090, 128102, 128113, 128123, 128138, 128148, 128158, 128171, 128184, 128196, 128382, 128391, 128401, 128409, 128418, 128427, 128437, 128447, 128460, 128469, 128478, 128487, 128498, 128508, 128518, 128528, 128537, 128547, 128556, 128569, 128599, 128614, 128624, 128635, 128648, 128657, 128670, 128680, 128690, 128702, 128711, 128719, 128731, 128745, 128759, 128767, 128781, 128791, 128801, 128809, 128818, 128826, 128836, 128845, 128857, 128866, 128879, 128892, 128900, 128915, 128927, 128939, 128952, 128963, 128974, 128987, 129000, 129013, 129022, 129032, 129045, 129055, 129065, 129075, 129086, 129101, 129111, 129120, 129128, 129139, 129153, 129168, 129178, 129191, 129208, 129221, 129232, 129243, 129253, 129263, 129278, 129290, 129303, 129318, 129327, 129342, 129352, 129369, 129380, 129390, 129403, 129413, 129423, 129433, 129442, 129453, 129468, 129481, 129498, 129510, 129520, 129532, 129543, 129554, 129570, 129579, 129591, 129604, 129614, 129624, 129635, 129648, 129659, 129669, 129681, 129692, 129703, 129716, 129729, 129739, 129749, 129764, 129782, 129795, 129821, 129831, 129846, 129856, 129871, 129885, 129896, 129907, 129916, 129928, 129956, 129980, 129991, 130013, 130037, 130048, 130172, 130186, 130199, 130208, 130220, 130343, 130363, 130373, 130497, 130622, 130641, 130660, 130680, 130690, 130702, 130723, 130869, 130890, 130901, 130922, 130943, 130955, 130974, 130984, 130993, 131003, 131014, 131050, 131060, 131096, 131132, 131153, 131163, 131174, 131189, 131200, 131210, 131220, 131230, 131240, 131250, 131260, 131270, 131292, 131314, 131325, 131336, 131346, 131368, 131390, 131412, 131422, 131433, 131443, 131453, 131462, 131474, 131487, 131498, 131510, 131520, 131530, 131540, 131550, 131562, 131574, 131586, 131600, 131612, 131622, 131632, 131643, 131653, 131661, 131689, 131717, 131727, 131856, 131864, 131877, 131886, 131896, 131907, 131920, 131934, 131946, 131959, 131970, 131980, 131990, 132002, 132015, 132025, 132051, 132064, 132074, 132090, 132103, 132112, 132122, 132132, 132142, 132152, 132161, 132171, 132203, 132216, 132228, 132238, 132247, 132276, 132287, 132297, 132308, 132321, 132330, 132340, 132350, 132362, 132372, 132380, 132399, 132415, 132424, 132443, 132454, 132468, 132479, 132490, 132500, 132514, 132525, 132535, 132545, 132555, 132565, 132576, 132586, 132596, 132607, 132634, 132645, 132656, 132667, 132685, 132698, 132710, 132724, 132741, 132753, 132762, 132772, 132783, 132794, 132803, 132828, 132838, 132848, 132860, 132873, 132885, 132896, 132906, 132918, 132930, 132941, 132969, 132979, 132994, 133009, 133020, 133030, 133049, 133081, 133092, 133102, 133113, 133124, 133136, 133145, 133185, 133195, 133205, 133215, 133225, 133240, 133264, 133274, 133285, 133300, 133310, 133320, 133333, 133343, 133357, 133367, 133381, 133391, 133402, 133417, 133432, 133450, 133460, 133470, 133480, 133490, 133512, 133521, 133530, 133552, 133567, 133578, 133600, 133615, 133630, 133645, 133656, 133668, 133678, 133688, 133700, 133762, 133775, 133789, 133810, 133820, 133830, 133844, 133855, 133869, 133881, 133891, 133901, 133911, 133921, 133935, 133947, 133958, 133968, 133976, 133989, 133999, 134040, 134048, 134057, 134067, 134077, 134087, 134100, 134110, 134119, 134130, 134148, 134165, 134178, 134188, 134198, 134209, 134231, 134243, 134253, 134266, 134276, 134285, 134296, 134307, 134318, 134327, 134345, 134356, 134366, 134377, 134388, 134403, 134414, 134424, 134524, 134536, 134547, 134557, 134567, 134577, 134587, 134598, 134611, 134621, 134631, 134641, 134651, 134661, 134671, 134690, 134700, 134711, 134730, 134993, 135256, 135519, 135782, 135792, 135803, 135830, 135840, 135856, 135866, 135876, 135887, 135904, 135915, 135925, 135934, 135946, 135955, 135966, 135979, 135993, 136006, 136020, 136030, 136044, 136054, 136064, 136074, 136089, 136104, 136121, 136129, 136140, 136152, 136163, 136173, 136183, 136201, 136221, 136232, 136251, 136262, 136298, 136334, 136363, 136372, 136384, 136394, 136407, 136417, 136427, 136436, 136445, 136454, 136469, 136480, 136490, 136503, 136515, 136526, 136540, 136550, 136562, 136576, 136587, 136606, 136616, 136626, 136638, 136647, 136657, 136669, 136686, 136697, 136709, 136723, 136737, 136749, 136760, 136772, 136781, 136792, 136802, 136814, 136825, 136837, 136847, 136859, 136870, 136882, 136893, 136904, 136916, 136928, 136940, 136953, 136966, 136979, 136990, 137000, 137011, 137023, 137032, 137044, 137056, 137067, 137077, 137089, 137101, 137111, 137124, 137134, 137144, 137154, 137164, 137178, 137189, 137198, 137209, 137219, 137227, 137244, 137255, 137267, 137279, 137344, 137353, 137363, 137373, 137385, 137397, 137407, 137419, 137429, 137438, 137448, 137458, 137468, 137477, 137487, 137497, 137506, 137522, 137533, 137541, 137555, 137565, 137576, 137603, 137623, 137634, 137644, 137654, 137664, 137675, 137685, 137697, 137709, 137719, 137731, 137742, 137755, 137771, 137781, 137791, 137810, 137838, 137854, 137873, 137883, 137894, 137904, 137930, 137940, 137949, 137959, 137969, 137979, 137989, 138000, 138010, 138022, 138033, 138047, 138057, 138067, 138085, 138103, 138119, 138138, 138151, 138161, 138171, 138181, 138192, 138202, 138213, 138223, 138264, 138274, 138292, 138310, 138319, 138327, 138338, 138351, 138520, 138689, 138699, 138711, 138726, 138742, 138751, 138766, 138778, 138837, 138852, 138875, 138885, 138898, 138906, 138919, 138930, 138946, 138960, 138976, 138989, 138999, 139009, 139019, 139034, 139203, 139219, 139228, 139397, 139413, 139430, 139440, 139455, 139470, 139482, 139496, 139507, 139521, 139538, 139551, 139560, 139570, 139580, 139628, 139638, 139648, 139659, 139670, 139680, 139690, 139700, 139712, 139722, 139742, 139753, 139765, 139800, 139835, 139846, 139857, 139868, 139879, 139901, 139920, 139933, 139944, 139962, 139978, 139992, 140002, 140014, 140030, 140040, 140051, 140061, 140072, 140081, 140093, 140103, 140114, 140126, 140136, 140147, 140178, 140188, 140208, 140219, 140233, 140243, 140255, 140266, 140275, 140290, 140303, 140315, 140324, 140334, 140343, 140353, 140369, 140383, 140395, 140407, 140419, 140431, 140443, 140477, 140488, 140498, 140508, 140518, 140528, 140539, 140554, 140564, 140584, 140593, 140603, 140613, 140622, 140633, 140643, 140654, 140666, 140685, 140695, 140706, 140718, 140728, 140738, 140749, 140758, 140773, 140785, 140797, 140808, 140823, 140838, 140851, 140864, 140873, 140891, 140900, 140911, 140922, 140933, 140950, 140962, 140974, 140985, 140993, 141003, 141025, 141036, 141058, 141076, 141088, 141103, 141113, 141123, 141135, 141153, 141168, 141186, 141199, 141210, 141228, 141239, 141247, 141256, 141265, 141277, 141288, 141298, 141309, 141318, 141330, 141342, 141358, 141370, 141382, 141393, 141409, 141423, 141437, 141449, 141461, 141473, 141482, 141492, 141502, 141515, 141530, 141544, 141558, 141568, 141581, 141593, 141604, 141615, 141634, 141649, 141659, 141670, 141682, 141691, 141702, 141713, 141723, 141733, 141747, 141757, 141777, 141791, 141806, 141819, 141845, 141856, 141866, 141876, 141886, 141904, 141916, 141926, 141949, 141968, 141994, 142017, 142032, 142042, 142058, 142070, 142096, 142113, 142139, 142154, 142176, 142185, 142196, 142206, 142218, 142227, 142237, 142247, 142257, 142268, 142278, 142288, 142302, 142312, 142329, 142340, 142356, 142369, 142379, 142388, 142399, 142416, 142434, 142446, 142459, 142469, 142480, 142496, 142511, 142523, 142534, 142549, 142561, 142574, 142585, 142598, 142610, 142623, 142633, 142644, 142660, 142670, 142681, 142693, 142703, 142713, 142723, 142733, 142743, 142753, 142762, 142772, 142792, 142804, 142814, 142824, 142834, 142844, 142854, 142864, 142874, 142894, 142904, 142914, 142924, 142933, 142943, 142959, 142973, 142987, 142997, 143011, 143021, 143035, 143049, 143066, 143079, 143098, 143118, 143132, 143142, 143170, 143192, 143203, 143214, 143224, 143240, 143249, 143285, 143299, 143316, 143332, 143367, 143377, 143387, 143398, 143410, 143420, 143430, 143443, 143464, 143485, 143499, 143514, 143524, 143535, 143552, 143571, 143583, 143595, 143605, 143615, 143625, 143635, 143645, 143655, 143665, 143677, 143687, 143697, 143707, 143717, 143727, 143737, 143747, 143757, 143766, 143779, 143787, 143797, 143809, 143817, 143825, 143836, 143848, 143859, 143870, 143880, 143892, 143902, 143914, 143922, 143930, 143954, 143965, 143977, 143989, 144001, 144011, 144025, 144035, 144060, 144072, 144085, 144094, 144110, 144131, 144149, 144159, 144175, 144188, 144199, 144212, 144226, 144236, 144248, 144258, 144269, 144279, 144292, 144303, 144316, 144329, 144339, 144352, 144363, 144375, 144383, 144401, 144411, 144429, 144439, 144469, 144479, 144489, 144499, 144509, 144518, 144529, 144539, 144552, 144563, 144583, 144595, 144611, 144620, 144630, 144645, 144657, 144677, 144686, 144696, 144706, 144718, 144738, 144758, 144768, 144777, 144789, 144810, 144825, 144839, 144853, 144868, 144882, 144892, 144903, 144913, 144923, 144933, 144945, 144956, 144967, 144978, 144990, 145000, 145015, 145027, 145124, 145135, 145144, 145154, 145164, 145173, 145182, 145191, 145200, 145213, 145233, 145244, 145254, 145269, 145284, 145296, 145306, 145316, 145328, 145351, 145373, 145396, 145418, 145427, 145442, 145452, 145475, 145486, 145495, 145507, 145516, 145526, 145535, 145548, 145558, 145568, 145582, 145598, 145608, 145617, 145628, 145638, 145649, 145660, 145672, 145684, 145694, 145716, 145726, 145736, 145747, 145758, 145769, 145779, 145789, 145800, 145810, 145822, 145833, 145843, 145860, 145875, 145886, 145895, 145906, 145916, 145926, 145936, 145953, 145965, 145975, 145985, 145995, 146009, 146019, 146029, 146039, 146051, 146062, 146074, 146084, 146094, 146104, 146115, 146125, 146137, 146147, 146158, 146168, 146177, 146189, 146209, 146220, 146231, 146241, 146251, 146261, 146271, 146282, 146293, 146305, 146316, 146330, 146338, 146353, 146364, 146375, 146386, 146396, 146411, 146421, 146436, 146446, 146457, 146466, 146497, 146508, 146519, 146529, 146538, 146549, 146560, 146570, 146581, 146595, 146604, 146613, 146624, 146633, 146643, 146654, 146664, 146679, 146691, 146704, 146715, 146724, 146733, 146746, 146758, 146767, 146778, 146789, 146799, 146811, 146820, 146831, 146841, 146851, 146860, 146870, 146883, 146893, 146902, 146912, 146944, 146954, 146968, 146979, 146988, 147000, 147011, 147022, 147033, 147045, 147055, 147067, 147078, 147088, 147104, 147115, 147126, 147140, 147151, 147162, 147173, 147190, 147201, 147212, 147222, 147232, 147249, 147259, 147269, 147280, 147290, 147300, 147311, 147321, 147331, 147340, 147350, 147360, 147372, 147382, 147392, 147405, 147420, 147432, 147442, 147453, 147469, 147478, 147518, 147528, 147541, 147551, 147562, 147620, 147630, 147642, 147652, 147679, 147696, 147704, 147720, 147730, 147744, 147763, 147777, 147786, 147797, 147805, 147815, 147825, 147835, 147845, 147855, 147865, 147875, 147885, 147895, 147905, 147915, 147930, 147940, 147956, 147966, 147976, 147986, 147996, 148005, 148013, 148023, 148033, 148043, 148053, 148063, 148073, 148083, 148093, 148103, 148113, 148123, 148133, 148143, 148153, 148163, 148173, 148183, 148193, 148203, 148213, 148223, 148233, 148241, 148251, 148262, 148275, 148286, 148300, 148309, 148319, 148329, 148339, 148349, 148359, 148369, 148379, 148389, 148405, 148415, 148425, 148437, 148450, 148460, 148471, 148481, 148490, 148500, 148519, 148528, 148538, 148547, 148580, 148591, 148602, 148611, 148619, 148629, 148638, 148646, 148657, 148670, 148681, 148691, 148699, 148708, 148721, 148786, 148794, 148803, 148812, 148822, 148832, 148845, 148855, 148867, 148877, 148893, 148903, 148918, 148928, 148945, 148955, 148965, 148975, 148985, 148995, 149007, 149019, 149031, 149043, 149055, 149067, 149079, 149091, 149103, 149115, 149127, 149139, 149151, 149163, 149175, 149187, 149199, 149211, 149223, 149235, 149247, 149257, 149269, 149281, 149291, 149300, 149311, 149324, 149346, 149356, 149372, 149382, 149410, 149417, 149428, 149439, 149448, 149464, 149486, 149498, 149507, 149518, 149531, 149540, 149554, 149564, 149573, 149586, 149600, 149610, 149621, 149638, 149654, 149664, 149674, 149691, 149701, 149714, 149727, 149740, 149751, 149762, 149773, 149782, 149795, 149808, 149819, 149830, 149841, 149849, 149860, 149870, 149882, 149893, 149902, 149913, 149923, 149934, 149945, 149956, 149970, 149980, 149995, 150010, 150025, 150041, 150050, 150060, 150071, 150082, 150094, 150107, 150118, 150127, 150137, 150157, 150167, 150177, 150186, 150202, 150212, 150223, 150235, 150252, 150279, 150314, 150324, 150333, 150344, 150355, 150366, 150389, 150402, 150412, 150421, 150432, 150443, 150453, 150462, 150473, 150484, 150496, 150507, 150517, 150531, 150542, 150553, 150562, 150574, 150584, 150594, 150604, 150614, 150624, 150633, 150647, 150659, 150670, 150679, 150690, 150703, 150720, 150730, 150739, 150749, 150761, 150788, 150801, 151062, 151323, 151332, 151593, 151854, 151864, 151873, 151883, 151892, 151903, 151911, 151920, 151930, 151941, 151952, 151962, 151973, 151982, 151995, 152008, 152019, 152028, 152037, 152046, 152058, 152072, 152082, 152092, 152109, 152125, 152141, 152159, 152171, 152182, 152192, 152201, 152304, 152313, 152324, 152337, 152347, 152357, 152368, 152380, 152390, 152400, 152409, 152419, 152522, 152532, 152541, 152552, 152562, 152572, 152583, 152597, 152607, 152617, 152627, 152638, 152649, 152659, 152677, 152687, 152697, 152707, 152719, 152729, 152739, 152749, 152759, 152770, 152782, 152795, 152808, 152819, 152829, 152839, 152849, 152863, 152904, 152915, 152925, 152935, 152947, 152957, 152969, 152989, 153001, 153013, 153024, 153035, 153045, 153054, 153063, 153074, 153085, 153093, 153102, 153112, 153122, 153131, 153141, 153154, 153164, 153175, 153186, 153198, 153205, 153215, 153227, 153238, 153248, 153267, 153277, 153288, 153305, 153316, 153327, 153338, 153348, 153370, 153379, 153391, 153403, 153412, 153422, 153432, 153442, 153453, 153462, 153472, 153511, 153523, 153535, 153546, 153558, 153568, 153577, 153586, 153596, 153607, 153618, 153628, 153638, 153648, 153664, 153675, 153684, 153693, 153703, 153715, 153726, 153758, 153782, 153814, 153824, 153834, 153844, 153853, 153865, 153872, 153883, 153897, 153907, 153917, 153927, 153937, 153947, 153957, 153968, 153979, 153990, 154001, 154011, 154022, 154031, 154040, 154050, 154061, 154074, 154085, 154096, 154108, 154119, 154136, 154146, 154156, 154166, 154176, 154186, 154196, 154205, 154215, 154225, 154235, 154244, 154254, 154264, 154274, 154284, 154294, 154304, 154314, 154324, 154334, 154344, 154354, 154364, 154374, 154384, 154394, 154404, 154414, 154424, 154556, 154566, 154576, 154586, 154596, 154606, 154616, 154630, 154642, 154656, 154670, 154683, 154699, 154712, 154725, 154737, 154749, 154761, 154771, 154781, 154790, 154806, 154821, 154834, 154850, 154860, 154871, 154883, 154896, 154912, 154922, 154933, 154942, 154952, 154961, 154970, 154981, 154995, 155006, 155016, 155028, 155037, 155052, 155063, 155073, 155083, 155094, 155103, 155112, 155123, 155134, 155145, 155157, 155171, 155181, 155192, 155204, 155214, 155224, 155236, 155246, 155260, 155269, 155280, 155313, 155323, 155333, 155343, 155353, 155363, 155374, 155385, 155394, 155406, 155415, 155426, 155440, 155475, 155489, 155498, 155508, 155520, 155531, 155543, 155554, 155574, 155585, 155598, 155614, 155623, 155632, 155647, 155661, 155671, 155682, 155691, 155702, 155715, 155727, 155737, 155747, 155757, 155772, 155781, 155799, 155808, 155818, 155827, 155839, 155848, 155856, 155864, 155875, 155885, 155904, 155920, 155931, 155943, 155952, 155963, 155973, 155983, 155992, 156002, 156012, 156022, 156030, 156039, 156049, 156059, 156069, 156079, 156096, 156106, 156114, 156124, 156133, 156142, 156151, 156160, 156170, 156178, 156187, 156196, 156206, 156216, 156228, 156237, 156248, 156260, 156270, 156281, 156290, 156299, 156309, 156320, 156330, 156338, 156346, 156356, 156368, 156378, 156387, 156400, 156409, 156420, 156431, 156445, 156455, 156466, 156478, 156490, 156502, 156515, 156525, 156535, 156545, 156555, 156565, 156574, 156676, 156687, 156698, 156708, 156719, 156730, 156740, 156751, 156761, 156772, 156783, 156793, 156803, 156812, 156823, 156832, 156842, 156851, 156861, 156870, 156879, 156899, 156909, 156919, 156929, 156939, 156949, 156959, 156970, 156980, 156998, 157009, 157019, 157032, 157044, 157054, 157066, 157076, 157085, 157094, 157106, 157115, 157124, 157134, 157144, 157153, 157165, 157177, 157189, 157201, 157213, 157223, 157232, 157242, 157256, 157268, 157279, 157289, 157301, 157310, 157321, 157333, 157343, 157361, 157388, 157400, 157410, 157438, 157450, 157460, 157473, 157486, 157497, 157507, 157516, 157527, 157537, 157549, 157559, 157570, 157581, 157594, 157603, 157615, 157635, 157645, 157655, 157663, 157674, 157685, 157695, 157806, 157819, 157830, 157839, 157849, 157868, 157879, 157890, 157900, 157911, 157921, 157931, 157941, 157954, 157965, 157974, 157984, 157994, 158008, 158018, 158027, 158035, 158045, 158057, 158068, 158078, 158098, 158117, 158129, 158141, 158160, 158179, 158191, 158210, 158230, 158240, 158252, 158262, 158273, 158290, 158302, 158311, 158322, 158336, 158346, 158358, 158369, 158383, 158394, 158405, 158416, 158434, 158479, 158489, 158500, 158520, 158530, 158564, 158574, 158584, 158595, 158610, 158620, 158630, 158640, 158650, 158661, 158672, 158682, 158692, 158716, 158730, 158754, 158765, 158775, 158785, 158811, 158821, 158830, 158841, 158851, 158860, 158883, 158895, 158906, 158916, 158928, 158937, 158948, 158960, 158970, 158980, 158990, 158999, 159015, 159025, 159035, 159046, 159057, 159069, 159080, 159137, 159149, 159159, 159177, 159189, 159202, 159211, 159222, 159232, 159241, 159298, 159314, 159340, 159348, 159358, 159369, 159380, 159391, 159401, 159413, 159424, 159435, 159445, 159454, 159465, 159475, 159485, 159495, 159505, 159514, 159526, 159535, 159550, 159561, 159570, 159581, 159592, 159603, 159612, 159622, 159635, 159648, 159660, 159672, 159684, 159693, 159703, 159712, 159722, 159733, 159743, 159755, 159766, 159777, 159787, 159802, 159812, 159824, 159834, 159844, 159853, 159862, 159872, 159891, 159906, 159915, 159931, 159949, 159960, 159970, 159981, 159991, 160010, 160021, 160031, 160041, 160055, 160081, 160090, 160103, 160129, 160137, 160148, 160160, 160170, 160180, 160311, 160321, 160331, 160341, 160351, 160362, 160374, 160383, 160395, 160405, 160416, 160426, 160436, 160463, 160475, 160487, 160503, 160513, 160524, 160534, 160544, 160555, 160565, 160578, 160588, 160599, 160613, 160627, 160638, 160651, 160666, 160676, 160686, 160696, 160706, 160716, 160734, 160748, 160765, 160784, 160794, 160803, 160813, 160824, 160834, 160844, 160854, 160863, 160873, 160883, 160893, 160902, 160913, 160929, 160939, 160948, 160958, 160967, 160978, 160989, 160997, 161008, 161018, 161037, 161049, 161060, 161070, 161079, 161089, 161099, 161110, 161121, 161139, 161148, 161158, 161167, 161176, 161188, 161200, 161211, 161247, 161262, 161274, 161286, 161378, 161392, 161403, 161411, 161421, 161431, 161441, 161457, 161466, 161481, 161490, 161502, 161512, 161522, 161531, 161540, 161549, 161558, 161568, 161579, 161607, 161617, 161627, 161637, 161647, 161657, 161665, 161675, 161683, 161694, 161705, 161715, 161725, 161734, 161744, 161754, 161763, 161773, 161785, 161801, 161812, 161822, 161832, 161843, 161852, 161862, 161881, 161889, 161898, 161907, 161918, 161932, 161942, 161953, 161966, 161979, 161988, 161999, 162012, 162028, 162040, 162050, 162062, 162072, 162082, 162092, 162102, 162112, 162122, 162134, 162144, 162154, 162164, 162181, 162190, 162201, 162210, 162220, 162230, 162241, 162256, 162271, 162282, 162292, 162306, 162321, 162331, 162340, 162349, 162360, 162369, 162380, 162389, 162399, 162410, 162420, 162433, 162443, 162453, 162463, 162477, 162487, 162510, 162520, 162530, 162552, 162562, 162579, 162590, 162614, 162627, 162637, 162648, 162659, 162667, 162675, 162690, 162701, 162709, 162722, 162732, 162742, 162752, 162762, 162773, 162783, 162796, 162806, 162819, 162829, 162841, 162852, 162862, 162872, 162883, 162893, 162903, 162913, 162923, 162933, 162943, 162955, 162964, 162975, 162984, 162995, 163006, 163017, 163028, 163039, 163049, 163058, 163069, 163096, 163135, 163148, 163158, 163172, 163184, 163194, 163203, 163220, 163229, 163240, 163254, 163268, 163279, 163289, 163299, 163323, 163334, 163349, 163364, 163374, 163384, 163394, 163403, 163413, 163423, 163433, 163443, 163451, 163473, 163483, 163494, 163495, 163505, 163517, 163539, 163551, 163563, 163575, 163576, 163616, 163629, 163641, 163651, 163663, 163677, 163689, 163701, 163713, 163723, 163733, 163745, 163765, 163777, 163787, 163799, 163807, 163819, 163831, 163843, 163855, 163867, 163877, 163886, 163897, 163908, 163917, 163931, 163942, 163952, 163966, 163995, 164005, 164024, 164037, 164049, 164061, 164072, 164080, 164091, 164105, 164115, 164124, 164133, 164142, 164151, 164161, 164171, 164187, 164197, 164213, 164223, 164235, 164246, 164256, 164266, 164276, 164288, 164299, 164309, 164320, 164336, 164347, 164358, 164367, 164376, 164385, 164396, 164406, 164416, 164426, 164437, 164447, 164456, 164467, 164477, 164490, 164498, 164507, 164520, 164538, 164554, 164563, 164573, 164584, 164602, 164613, 164624, 164636, 164650, 164668, 164678, 164689, 164704, 164713, 164725, 164742, 164752, 164763, 164775, 164792, 164804, 164814, 164825, 164838, 164855, 164865, 164883, 164893, 164911, 164922, 164934, 164944, 164954, 164965, 164974, 164986, 165005, 165015, 165026, 165036, 165046, 165057, 165073, 165085, 165098, 165108, 165164, 165185, 165200, 165216, 165228, 165240, 165256, 165265, 165277, 165287, 165301, 165310, 165324, 165333, 165346, 165359, 165370, 165395, 165450, 165462, 165472, 165481, 165491, 165502, 165515, 165529, 165539, 165551, 165561, 165572, 165583, 165593, 165605, 165615, 165625, 165636, 165648, 165657, 165701, 165747, 165758, 165770, 165780, 165790, 165799, 165813, 165824, 165835, 165845, 165855, 165864, 165873, 165883, 165893, 165993, 166005, 166018, 166030, 166043, 166054, 166064, 166076, 166095, 166107, 166123, 166133, 166143, 166152, 166163, 166172, 166182, 166193, 166204, 166215, 166231, 166240, 166249, 166260, 166271, 166280, 166289, 166299, 166314, 166326, 166337, 166346, 166355, 166364, 166373, 166383, 166392, 166403, 166412, 166425, 166433, 166441, 166451, 166462, 166471, 166482, 166492, 166502, 166518, 166528, 166540, 166550, 166561, 166574, 166584, 166595, 166610, 166619, 166635, 166644, 166656, 166666, 166677, 166690, 166700, 166708, 166718, 166728, 166737, 166746, 166755, 166765, 166782, 166792, 166804, 166816, 166827, 166837, 166849, 166863, 166873, 166883, 166893, 166917, 166928, 166940, 166950, 166999, 167009, 167058, 167088, 167098, 167108, 167119, 167130, 167141, 167152, 167161, 167170, 167179, 167188, 167198, 167208, 167221, 167232, 167244, 167253, 167263, 167286, 167296, 167306, 167320, 167333, 167345, 167358, 167368, 167378, 167388, 167658, 167928, 168198, 168207, 168219, 168230, 168240, 168249, 168260, 168270, 168280, 168291, 168305, 168316, 168326, 168337, 168350, 168363, 168373, 168384, 168394, 168404, 168414, 168424, 168434, 168444, 168455, 168465, 168475, 168485, 168493, 168501, 168510, 168520, 168530, 168538, 168552, 168569, 168581, 168595, 168605, 168615, 168623, 168633, 168647, 168657, 168668, 168679, 168693, 168703, 168713, 168723, 168732, 168745, 168757, 168767, 168777, 168787, 168802, 168812, 168824, 168834, 168844, 168856, 168866, 168877, 168886, 168896, 168908, 168918, 168928, 168938, 168950, 168959, 168969, 168980, 168992, 169007, 169017, 169028, 169038, 169048, 169059, 169069, 169086, 169096, 169106, 169115, 169127, 169136, 169144, 169153, 169162, 169171, 169181, 169193, 169203, 169214, 169222, 169230, 169240, 169250, 169267, 169281, 169296, 169305, 169315, 169323, 169333, 169342, 169351, 169361, 169370, 169380, 169390, 169401, 169411, 169427, 169436, 169447, 169457, 169485, 169513, 169523, 169534, 169546, 169558, 169570, 169580, 169589, 169599, 169608, 169618, 169636, 169645, 169655, 169666, 169679, 169702, 169721, 169735, 169745, 169757, 169771, 169782, 169802, 169824, 169842, 169852, 169861, 169872, 169885, 169895, 169908, 169924, 169938, 169949, 169960, 169971, 169983, 169993, 170003, 170014, 170025, 170037, 170048, 170059, 170070, 170092, 170102, 170113, 170123, 170133, 170144, 170154, 170164, 170174, 170184, 170196, 170208, 170218, 170229, 170332, 170342, 170357, 170368, 170382, 170392, 170407, 170420, 170433, 170446, 170455, 170467, 170479, 170490, 170501, 170518, 170529, 170542, 170555, 170570, 170581, 170593, 170605, 170617, 170626, 170642, 170652, 170662, 170674, 170685, 170696, 170706, 170717, 170733, 170748, 170758, 170776, 170794, 170812, 170823, 170841, 170851, 170861, 170873, 170883, 170894, 170906, 170916, 170928, 170940, 170952, 170996, 171040, 171052, 171064, 171074, 171089, 171100, 171120, 171141, 171153, 171173, 171188, 171198, 171208, 171218, 171233, 171243, 171253, 171263, 171273, 171293, 171314, 171334, 171343, 171353, 171363, 171373, 171382, 171392, 171409, 171419, 171429, 171439, 171449, 171463, 171476, 171486, 171496, 171506, 171516, 171526, 171552, 171562, 171572, 171581, 171593, 171611, 171626, 171636, 171661, 171672, 171683, 171692, 171712, 171732, 171752, 171772, 171783, 171797, 171807, 171822, 171833, 171880, 171896, 171906, 171916, 171937, 171958, 171968, 171979, 171988, 171998, 172007, 172016, 172027, 172038, 172062, 172073, 172102, 172113, 172122, 172146, 172156, 172176, 172201, 172218, 172233, 172243, 172263, 172281, 172290, 172303, 172315, 172326, 172338, 172347, 172363, 172384, 172405, 172416, 172427, 172444, 172468, 172486, 172497, 172514, 172527, 172555, 172577, 172595, 172612, 172623, 172635, 172645, 172656, 172666, 172688, 172702, 172712, 172723, 172731, 172750, 172761, 172771, 172782, 172812, 172824, 172833, 172847, 172857, 172869, 172879, 172893, 172910, 172930, 172940, 172951, 172961, 172971, 172981, 172991, 173005, 173016, 173027, 173038, 173049, 173059, 173071, 173080, 173091, 173101, 173111, 173141, 173151, 173161, 173171, 173181, 173193, 173203, 173215, 173225, 173255, 173268, 173296, 173309, 173322, 173332, 173343, 173353, 173363, 173390, 173405, 173420, 173436, 173445, 173461, 173471, 173480, 173492, 173508, 173524, 173543, 173561, 173571, 173590, 173604, 173624, 173638, 173647, 173665, 173677, 173687, 173696, 173730, 173741, 173751, 173764, 173774, 173784, 173793, 173806, 173816, 173827, 173843, 173853, 173868, 173879, 173889, 173900, 173911, 173929, 173940, 173951, 173962, 173971, 174010, 174019, 174029, 174057, 174088, 174104, 174138, 174165, 174194, 174230, 174240, 174250, 174262, 174272, 174282, 174294, 174304, 174322, 174332, 174346, 174356, 174366, 174376, 174386, 174396, 174406, 174417, 174428, 174440, 174453, 174467, 174478, 174498, 174507, 174530, 174553, 174565, 174588, 174598, 174613, 174622, 174635, 174663, 174673, 174694, 174735, 174744, 174773, 174810, 174832, 174855, 174866, 174889, 174912, 174934, 174945, 174962, 174971, 174981, 174991, 175001, 175011, 175021, 175031, 175044, 175054, 175064, 175077, 175089, 175101, 175111, 175125, 175147, 175161, 175181, 175195, 175206, 175218, 175229, 175237, 175259, 175269, 175291, 175303, 175316, 175328, 175340, 175353, 175370, 175387, 175404, 175418, 175429, 175441, 175452, 175463, 175474, 175487, 175500, 175510, 175519, 175528, 175539, 175548, 175557, 175571, 175585, 175679, 175694, 175708, 175718, 175728, 175739, 175767, 175793, 175804, 175816, 175829, 175856, 175867, 175964, 175977, 175993, 176003, 176013, 176028, 176038, 176049, 176059, 176070, 176080, 176091, 176101, 176111, 176120, 176130, 176139, 176191, 176204, 176216, 176226, 176235, 176245, 176255, 176265, 176276, 176290, 176300, 176314, 176324, 176336, 176345, 176354, 176367, 176378, 176389, 176401, 176412, 176422, 176433, 176485, 176495, 176505, 176515, 176542, 176552, 176562, 176572, 176604, 176616, 176627, 176657, 176667, 176677, 176688, 176700, 176711, 176721, 176731, 176742, 176752, 176762, 176774, 176788, 176801, 176814, 176826, 176839, 176853, 176868, 176880, 176891, 176930, 176968, 177007, 177019, 177031, 177040, 177050, 177062, 177071, 177083, 177093, 177107, 177118, 177126, 177141, 177154, 177167, 177182, 177195, 177209, 177222, 177235, 177245, 177257, 177271, 177284, 177305, 177315, 177327, 177337, 177347, 177362, 177375, 177385, 177395, 177438, 177448, 177458, 177468, 177478, 177488, 177501, 177513, 177523, 177533, 177543, 177556, 177566, 177580, 177590, 177602, 177614, 177625, 177635, 177646, 177659, 177674, 177689, 177700, 177720, 177732, 177742, 177752, 177762, 177775, 177797, 177812, 177822, 177833, 177843, 177853, 177863, 177879, 177889, 177900, 177913, 177923, 177933, 177945, 177955, 177965, 177975, 177985, 177995, 178006, 178017, 178028, 178038, 178049, 178060, 178071, 178082, 178092, 178102, 178112, 178125, 178135, 178145, 178171, 178183, 178194, 178205, 178215, 178238, 178248, 178277, 178287, 178297, 178307, 178317, 178328, 178339, 178348, 178359, 178369, 178380, 178390, 178399, 178410, 178421, 178432, 178444, 178460, 178475, 178486, 178496, 178515, 178532, 178545, 178557, 178573, 178584, 178597, 178611, 178626, 178640, 178655, 178665, 178675, 178684, 178693, 178703, 178712, 178722, 178732, 178746, 178774, 178789, 178805, 178819, 178829, 178846, 178857, 178873, 178883, 178893, 178903, 178912, 178924, 178945, 178954, 178973, 178992, 179006, 179016, 179026, 179037, 179052, 179062, 179074, 179092, 179102, 179112, 179123, 179132, 179145, 179160, 179175, 179188, 179198, 179209, 179218, 179228, 179240, 179250, 179262, 179279, 179289, 179299, 179353, 179366, 179377, 179390, 179399, 179412, 179436, 179446, 179489, 179507, 179519, 179529, 179544, 179554, 179568, 179583, 179635, 179652, 179688, 179709, 179717, 179727, 179737, 179747, 179758, 179812, 179822, 179836, 179851, 179861, 179872, 179883, 179894, 179906, 179916, 179927, 179939, 179948, 179958, 179968, 179979, 179992, 180005, 180017, 180028, 180039, 180050, 180060, 180070, 180083, 180093, 180104, 180115, 180126, 180138, 180148, 180160, 180171, 180181, 180191, 180210, 180227, 180248, 180261, 180273, 180285, 180295, 180305, 180316, 180329, 180342, 180354, 180364, 180374, 180386, 180396, 180407, 180431, 180442, 180455, 180467, 180478, 180502, 180514, 180538, 180548, 180560, 180570, 180580, 180591, 180601, 180611, 180621, 180631, 180641, 180651, 180661, 180687, 180697, 180709, 180719, 180730, 180741, 180751, 180763, 180773, 180783, 180793, 180803, 180813, 180823, 180844, 180854, 180864, 180874, 180884, 180895, 180906, 180916, 180926, 180937, 180948, 180957, 180974, 180985, 180996, 181006, 181019, 181032, 181049, 181059, 181082, 181097, 181114, 181130, 181145, 181158, 181168, 181178, 181189, 181201, 181234, 181268, 181278, 181311, 181330, 181344, 181352, 181364, 181394, 181404, 181416, 181426, 181437, 181448, 181458, 181482, 181493, 181505, 181517, 181529, 181541, 181552, 181562, 181572, 181737, 181749, 181775, 181790, 181800, 181811, 181821, 181834, 181847, 181857, 181873, 181887, 181898, 181911, 181924, 181933, 181943, 181954, 181964, 181974, 181985, 182001, 182010, 182019, 182035, 182052, 182062, 182073, 182084, 182105, 182115, 182125, 182136, 182145, 182157, 182167, 182180, 182192, 182202, 182223, 182233, 182244, 182257, 182267, 182279, 182288, 182299, 182309, 182319, 182329, 182343, 182353, 182362, 182372, 182381, 182401, 182415, 182429, 182441, 182453, 182482, 182511, 182540, 182560, 182589, 182614, 182626, 182635, 182650, 182663, 182676, 182683, 182699, 182716, 182727, 182737, 182746, 182755, 182767, 182777, 182787, 182800, 182811, 182820, 182834, 182886, 182902, 182918, 182930, 182953, 183001, 183013, 183025, 183038, 183047, 183056, 183066, 183076, 183085, 183096, 183108, 183126, 183138, 183171, 183203, 183215, 183226, 183250, 183262, 183273, 183284, 183302, 183314, 183326, 183336, 183348, 183357, 183374, 183388, 183400, 183414, 183425, 183436, 183446, 183456, 183466, 183480, 183492, 183504, 183518, 183531, 183540, 183549, 183599, 183610, 183622, 183637, 183648, 183678, 183688, 183698, 183711, 183720, 183730, 183739, 183749, 183762, 183777, 183793, 183804, 183816, 183827, 183843, 183920, 183934, 183957, 183980, 183990, 184012, 184022, 184046, 184056, 184076, 184091, 184126, 184137, 184147, 184158, 184169, 184179, 184190, 184225, 184235, 184248, 184261, 184283, 184292, 184304, 184316, 184335, 184350, 184375, 184385, 184395, 184414, 184433, 184443, 184453, 184463, 184484, 184503, 184512, 184527, 184540, 184554, 184569, 184578, 184590, 184605, 184617, 184632, 184649, 184662, 184704, 184712, 184723, 184736, 184747, 184760, 184772, 184791, 184811, 184831, 184843, 184857, 184874, 184889, 184904, 184918, 184936, 184950, 184963, 184973, 184995, 185015, 185023, 185043, 185057, 185081, 185091, 185105, 185116, 185126, 185136, 185147, 185158, 185177, 185187, 185197, 185209, 185219, 185229, 185240, 185251, 185262, 185273, 185289, 185299, 185310, 185322, 185334, 185344, 185355, 185365, 185376, 185387, 185399, 185410, 185421, 185440, 185451, 185470, 185481, 185494, 185504, 185514, 185524, 185535, 185545, 185556, 185565, 185577, 185604, 185615, 185625, 185637, 185650, 185662, 185674, 185683, 185693, 185703, 185743, 185753, 185766, 185777, 185797, 185812, 185825, 185837, 185850, 185880, 185909, 185924, 185939, 185950, 185960, 185971, 185980, 185990, 186001, 186011, 186029, 186048, 186061, 186083, 186103, 186122, 186136, 186145, 186155, 186166, 186177, 186187, 186197, 186208, 186218, 186229, 186240, 186251, 186260, 186270, 186281, 186292, 186304, 186315, 186325, 186338, 186348, 186358, 186369, 186383, 186396, 186413, 186423, 186434, 186451, 186461, 186471, 186481, 186491, 186505, 186515, 186527, 186540, 186553, 186564, 186575, 186586, 186608, 186619, 186668, 186683, 186693, 186706, 186718, 186735, 186746, 186757, 186767, 186789, 186807, 186824, 186842, 186860, 186871, 186892, 186910, 186922, 186971, 186981, 186999, 187008, 187018, 187028, 187046, 187068, 187098, 187111, 187121, 187133, 187145, 187157, 187167, 187177, 187186, 187196, 187205, 187214, 187225, 187241, 187251, 187261, 187273, 187284, 187298, 187312, 187325, 187339, 187351, 187361, 187374, 187387, 187400, 187411, 187422, 187516, 187610, 187704, 187798, 187892, 187986, 188080, 188174, 188186, 188197, 188212, 188224, 188235, 188245, 188260, 188288, 188301, 188329, 188357, 188370, 188381, 188391, 188401, 188411, 188425, 188439, 188451, 188460, 188469, 188478, 188487, 188501, 188511, 188521, 188530, 188540, 188551, 188562, 188572, 188582, 188592, 188601, 188612, 188623, 188635, 188646, 188656, 188664, 188678, 188690, 188700, 188711, 188721, 188730, 188739, 188750, 188761, 188773, 188786, 188798, 188808, 188823, 188839, 188854, 188863, 188879, 188889, 188898, 188909, 188920, 188929, 188938, 188947, 188961, 188971, 188981, 188991, 189002, 189019, 189029, 189040, 189050, 189059, 189069, 189078, 189087, 189095, 189102, 189112, 189121, 189136, 189149, 189160, 189171, 189181, 189191, 189203, 189213, 189223, 189233, 189243, 189253, 189262, 189331, 189341, 189351, 189361, 189371, 189381, 189391, 189410, 189420, 189430, 189442, 189453, 189464, 189473, 189482, 189493, 189503, 189522, 189538, 189548, 189560, 189576, 189595, 189606, 189617, 189627, 189637, 189649, 189665, 189681, 189690, 189701, 189712, 189723, 189732, 189765, 189775, 189786, 189796, 189805, 189815, 189824, 189833, 189847, 189859, 189872, 189881, 189893, 189902, 189914, 189924, 189934, 189944, 189957, 189970, 190003, 190012, 190045, 190055, 190069, 190082, 190154, 190163, 190173, 190183, 190193, 190205, 190215, 190228, 190239, 190249, 190263, 190271, 190279, 190292, 190300, 190313, 190321, 190331, 190340, 190371, 190383, 190398, 190412, 190426, 190443, 190458, 190468, 190483, 190494, 190504, 190514, 190526, 190573, 190581, 190591, 190600, 190612, 190631, 190641, 190718, 190727, 190738, 190761, 190772, 190803, 190813, 190822, 190832, 190841, 190851, 190863, 190873, 190882, 190893, 190903, 190912, 190934, 190949, 190965, 190977, 190987, 190998, 191008, 191022, 191032, 191042, 191052, 191070, 191088, 191101, 191120, 191131, 191167, 191176, 191185, 191194, 191203, 191214, 191233, 191245, 191260, 191267, 191277, 191291, 191301, 191337, 191372, 191385, 191403, 191413, 191448, 191459, 191495, 191507, 191543, 191555, 191566, 191576, 191587, 191599, 191610, 191619, 191628, 191655, 191672, 191689, 191725, 191735, 191743, 191760, 191777, 191789, 191800, 191810, 191818, 191828, 191837, 191847, 191855, 191867, 191879, 191891, 191901, 191911, 191921, 191931, 191942, 191955, 191969, 191979, 191990, 192001, 192011, 192023, 192034, 192044, 192056, 192068, 192079, 192092, 192104, 192117, 192128, 192140, 192153, 192165, 192181, 192191, 192203, 192215, 192228, 192240, 192253, 192262, 192274, 192290, 192299, 192315, 192325, 192341, 192356, 192366, 192376, 192393, 192406, 192417, 192429, 192440, 192450, 192460, 192472, 192483, 192494, 192504, 192518, 192529, 192538, 192552, 192563, 192574, 192590, 192601, 192615, 192625, 192634, 192649, 192660, 192677, 192689, 192706, 192715, 192725, 192735, 192744, 192754, 192764, 192773, 192783, 192792, 192801, 192810, 192819, 192828, 192837, 192846, 192855, 192864, 192879, 192891, 192903, 192920, 192930, 192940, 192950, 192960, 192972, 192991, 192999, 193009, 193028, 193047, 193056, 193067, 193081, 193092, 193123, 193132, 193143, 193151, 193170, 193179, 193188, 193198, 193206, 193216, 193225, 193235, 193244, 193254, 193265, 193275, 193283, 193294, 193305, 193316, 193326, 193337, 193430, 193445, 193456, 193487, 193496, 193516, 193526, 193535, 193543, 193552, 193561, 193570, 193581, 193591, 193600, 193612, 193622, 193632, 193641, 193653, 193663, 193672, 193685, 193697, 193708, 193717, 193730, 193739, 193756, 193768, 193778, 193788, 193803, 193815, 193830, 193840, 193850, 193865, 193875, 193895, 193904, 193921, 193930, 193945, 193954, 193971, 193981, 193998, 194007, 194016, 194028, 194037, 194046, 194055, 194073, 194082, 194092, 194103, 194113, 194126, 194136, 194150, 194160, 194170, 194181, 194192, 194231, 194240, 194250, 194259, 194269, 194278, 194287, 194296, 194305, 194316, 194326, 194337, 194350, 194365, 194376, 194388, 194399, 194411, 194423, 194435, 194447, 194465, 194478, 194488, 194502, 194513, 194524, 194535, 194545, 194556, 194566, 194577, 194588, 194596, 194604, 194621, 194629, 194638, 194649, 194659, 194669, 194686, 194696, 194710, 194721, 194732, 194742, 194756, 194767, 194778, 194789, 194798, 194809, 194820, 194829, 194838, 194847, 194857, 194867, 194879, 194890, 194919, 194955, 194968, 194978, 194988, 195000, 195011, 195022, 195050, 195072, 195084, 195094, 195104, 195116, 195128, 195141, 195153, 195165, 195178, 195193, 195208, 195224, 195234, 195244, 195256, 195264, 195276, 195289, 195302, 195314, 195324, 195334, 195350, 195364, 195377, 195388, 195398, 195414, 195423, 195432, 195445, 195454, 195467, 195479, 195521, 195531, 195573, 195582, 195597, 195606, 195616, 195626, 195636, 195647, 195656, 195671, 195680, 195690, 195707, 195717, 195729, 195739, 195749, 195759, 195768, 195780, 195791, 195800, 195809, 195819, 195829, 195839, 195852, 195868, 195878, 195892, 195900, 195913, 195923, 195934, 195950, 195960, 195973, 195983, 195992, 196005, 196016, 196028, 196038, 196049, 196062, 196077, 196091, 196104, 196115, 196124, 196137, 196148, 196161, 196171, 196182, 196193, 196203, 196216, 196231, 196241, 196251, 196271, 196316, 196326, 196367, 196375, 196384, 196401, 196411, 196510, 196520, 196531, 196541, 196551, 196560, 196571, 196580, 196592, 196602, 196613, 196623, 196632, 196643, 196652, 196662, 196676, 196691, 196703, 196714, 196725, 196736, 196748, 196758, 196768, 196779, 196791, 196799, 196813, 196827, 196837, 196848, 196858, 196868, 196878, 196887, 196898, 196907, 196916, 196927, 196941, 196951, 196961, 196972, 196983, 196994, 197004, 197013, 197024, 197035, 197044, 197053, 197065, 197076, 197087, 197099, 197114, 197129, 197140, 197154, 197165, 197177, 197188, 197196, 197210, 197220, 197230, 197240, 197249, 197258, 197267, 197276, 197285, 197294, 197309, 197320, 197331, 197343, 197352, 197368, 197376, 197387, 197394, 197405, 197415, 197432, 197449, 197459, 197474, 197486, 197500, 197510, 197520, 197534, 197545, 197573, 197585, 197595, 197610, 197626, 197640, 197653, 197664, 197677, 197688, 197698, 197709, 197719, 197730, 197739, 197751, 197763, 197775, 197783, 197791, 197799, 197808, 197817, 197827, 197837, 197849, 197862, 197872, 197882, 197892, 197902, 197912, 197922, 197932, 197942, 197952, 197965, 197980, 197989, 197999, 198009, 198022, 198032, 198041, 198051, 198060, 198070, 198080, 198090, 198105, 198115, 198125, 198135, 198147, 198159, 198169, 198181, 198193, 198204, 198215, 198227, 198237, 198259, 198269, 198280, 198293, 198303, 198312, 198323, 198333, 198343, 198354, 198364, 198375, 198386, 198398, 198410, 198422, 198434, 198444, 198455, 198466, 198477, 198488, 198501, 198515, 198524, 198538, 198547, 198559, 198571, 198582, 198593, 198604, 198615, 198626, 198636, 198647, 198658, 198669, 198679, 198692, 198700, 198713, 198722, 198732, 198741, 198751, 198761, 198771, 198781, 198791, 198801, 198811, 198821, 198830, 198842, 198851, 198861, 198870, 198881, 198892, 198902, 198912, 198923, 198933, 198943, 198958, 198970, 199023, 199078, 199136, 199145, 199154, 199163, 199174, 199186, 199196, 199212, 199223, 199233, 199242, 199259, 199277, 199286, 199297, 199307, 199316, 199325, 199336, 199346, 199355, 199364, 199373, 199382, 199391, 199401, 199411, 199421, 199433, 199444, 199454, 199465, 199475, 199486, 199496, 199504, 199515, 199539, 199550, 199562, 199575, 199587, 199597, 199608, 199618, 199629, 199640, 199649, 199659, 199668, 199676, 199685, 199695, 199705, 199717, 199727, 199738, 199747, 199757, 199769, 199782, 199794, 199806, 199817, 199829, 199838, 199850, 199861, 199880, 199889, 199903, 199924, 199945, 199966, 199985, 199994, 200004, 200013, 200023, 200034, 200049, 200060, 200074, 200089, 200121, 200133, 200145, 200157, 200168, 200181, 200193, 200204, 200215, 200225, 200234, 200251, 200270, 200288, 200306, 200317, 200326, 200337, 200348, 200358, 200369, 200381, 200392, 200406, 200415, 200424, 200434, 200443, 200453, 200463, 200472, 200481, 200492, 200502, 200515, 200527, 200537, 200549, 200559, 200569, 200579, 200588, 200600, 200610, 200621, 200631, 200641, 200651, 200667, 200677, 200687, 200699, 200713, 200727, 200736, 200759, 200768, 200779, 200789, 200797, 200811, 200830, 200841, 200850, 200859, 200870, 200879, 200890, 200903, 200913, 200927, 200938, 200949, 200963, 200974, 201008, 201017, 201032, 201042, 201051, 201060, 201076, 201084, 201094, 201129, 201139, 201148, 201157, 201165, 201177, 201200, 201223, 201246, 201256, 201279, 201302, 201325, 201348, 201371, 201381, 201404, 201427, 201436, 201447, 201456, 201465, 201476, 201485, 201494, 201504, 201513, 201523, 201532, 201541, 201551, 201560, 201569, 201578, 201587, 201597, 201607, 201617, 201627, 201673, 201719, 201730, 201739, 201748, 201758, 201768, 201780, 201791, 201801, 201812, 201822, 201868, 201914, 201960, 202006, 202052, 202102, 202112, 202122, 202132, 202144, 202154, 202165, 202177, 202188, 202201, 202211, 202221, 202234, 202251, 202261, 202272, 202292, 202303, 202314, 202324, 202335, 202346, 202357, 202368, 202389, 202410, 202421, 202432, 202444, 202455, 202466, 202477, 202488, 202499, 202510, 202521, 202532, 202550, 202563, 202572, 202582, 202604, 202614, 202625, 202635, 202645, 202654, 202667, 202678, 202689, 202701, 202711, 202721, 202731, 202741, 202758, 202770, 202785, 202796, 202806, 202815, 202827, 202837, 202847, 202857, 202869, 202880, 202891, 202903, 202913, 202923, 202932, 202943, 202953, 202962, 202974, 202985, 202995, 203006, 203018, 203034, 203044, 203055, 203066, 203076, 203086, 203097, 203107, 203119, 203130, 203140, 203154, 203167, 203176, 203186, 203197, 203206, 203216, 203226, 203235, 203245, 203264, 203279, 203294, 203305, 203316, 203324, 203333, 203344, 203354, 203364, 203377, 203388, 203407, 203416, 203425, 203434, 203446, 203457, 203470, 203481, 203492, 203503, 203515, 203525, 203535, 203545, 203556, 203566, 203581, 203591, 203601, 203611, 203620, 203631, 203642, 203652, 203667, 203677, 203688, 203699, 203715, 203729, 203739, 203750, 203885, 203894, 203905, 203919, 203929, 203938, 203947, 203959, 203969, 203980, 203990, 204001, 204013, 204022, 204036, 204046, 204054, 204064, 204074, 204083, 204092, 204101, 204111, 204121, 204133, 204143, 204152, 204161, 204172, 204181, 204192, 204201, 204214, 204224, 204234, 204247, 204259, 204269, 204279, 204287, 204296, 204305, 204314, 204323, 204333, 204347, 204357, 204374, 204389, 204400, 204413, 204428, 204439, 204455, 204507, 204518, 204578, 204600, 204610, 204643, 204653, 204663, 204673, 204681, 204691, 204701, 204711, 204723, 204735, 204745, 204756, 204768, 204778, 204790, 204798, 204809, 204823, 204833, 204843, 204857, 204873, 204884, 204893, 204907, 204917, 204952, 204960, 204971, 204980, 204989, 204998, 205009, 205022, 205033, 205044, 205053, 205063, 205082, 205092, 205101, 205113, 205130, 205143, 205153, 205163, 205173, 205184, 205194, 205206, 205218, 205227, 205237, 205250, 205262, 205274, 205284, 205294, 205305, 205314, 205324, 205334, 205345, 205354, 205363, 205373, 205385, 205399, 205412, 205425, 205434, 205443, 205456, 205469, 205481, 205490, 205505, 205537, 205569, 205581, 205590, 205610, 205621, 205632, 205645, 205655, 205665, 205820, 205831, 205842, 205851, 205860, 205870, 205881, 205891, 205902, 205913, 205923, 205934, 205945, 205956, 205967, 205977, 205987, 205995, 206004, 206012, 206023, 206037, 206049, 206059, 206070, 206082, 206102, 206122, 206132, 206143, 206153, 206163, 206172, 206181, 206201, 206220, 206240, 206259, 206273, 206285, 206297, 206305, 206324, 206333, 206356, 206367, 206378, 206389, 206399, 206409, 206427, 206435, 206696, 206957, 207218, 207479, 207488, 207496, 207507, 207519, 207529, 207544, 207553, 207571, 207582, 207594, 207606, 207616, 207628, 207638, 207648, 207658, 207715, 207773, 207833, 207842, 207862, 207877, 207901, 207911, 207926, 207937, 207949, 207966, 207975, 207984, 207995, 208004, 208014, 208024, 208034, 208044, 208054, 208067, 208080, 208095, 208105, 208113, 208122, 208134, 208145, 208160, 208170, 208184, 208195, 208210, 208221, 208231, 208240, 208249, 208262, 208275, 208285, 208295, 208305, 208315, 208326, 208336, 208347, 208366, 208378, 208393, 208402, 208411, 208437, 208447, 208458, 208468, 208478, 208491, 208504, 208514, 208527, 208537, 208547, 208562, 208571, 208586, 208601, 208616, 208625, 208636, 208656, 208666, 208677, 208688, 208698, 208709, 208719, 208730, 208741, 208751, 208762, 208773, 208783, 208792, 208804, 208816, 208825, 208839, 208852, 208862, 208872, 208883, 208894, 208904, 208913, 208924, 208933, 208942, 208952, 208963, 208974, 208986, 208997, 209006, 209016, 209027, 209037, 209046, 209059, 209068, 209080, 209090, 209100, 209110, 209120, 209130, 209166, 209176, 209186, 209196, 209205, 209215, 209227, 209237, 209249, 209259, 209268, 209278, 209289, 209309, 209318, 209335, 209344, 209353, 209362, 209371, 209380, 209390, 209398, 209410, 209420, 209430, 209440, 209450, 209460, 209521, 209531, 209541, 209551, 209561, 209571, 209582, 209592, 209604, 209614, 209624, 209634, 209644, 209653, 209662, 209670, 209681, 209692, 209703, 209713, 209722, 209731, 209740, 209749, 209761, 209770, 209779, 209789, 209798, 209807, 209817, 209826, 209836, 209846, 209856, 209865, 209874, 209883, 209894, 209903, 209912, 209922, 209935, 209945, 209955, 209965, 209975, 209985, 209995, 210003, 210012, 210021, 210029, 210041, 210053, 210065, 210075, 210084, 210094, 210103, 210112, 210121, 210136, 210145, 210154, 210170, 210182, 210201, 210219, 210230, 210240, 210258, 210270, 210280, 210290, 210300, 210310, 210320, 210330, 210339, 210364, 210374, 210383, 210401, 210411, 210423, 210444, 210454, 210466, 210479, 210490, 210504, 210514, 210523, 210541, 210565, 210577, 210586, 210609, 210636, 210647, 210657, 210669, 210679, 210695, 210706, 210715, 210724, 210733, 210743, 210754, 210763, 210772, 210781, 210790, 210799, 210808, 210819, 210829, 210846, 210857, 210871, 210887, 210899, 210909, 210919, 210929, 210945, 210961, 210973, 210985, 210994, 211016, 211026, 211035, 211044, 211053, 211062, 211071, 211081, 211091, 211101, 211112, 211124, 211140, 211159, 211172, 211187, 211198, 211208, 211219, 211229, 211238, 211253, 211267, 211276, 211290, 211306, 211316, 211329, 211338, 211346, 211354, 211363, 211373, 211382, 211391, 211401, 211411, 211422, 211432, 211442, 211452, 211462, 211475, 211485, 211495, 211509, 211527, 211537, 211551, 211562, 211577, 211586, 211597, 211608, 211618, 211627, 211641, 211652, 211663, 211673, 211689, 211699, 211708, 211726, 211740, 211752, 211761, 211771, 211779, 211787, 211798, 211807, 211817, 211829, 211839, 211848, 211864, 211875, 211885, 211897, 211908, 211920, 211930, 211940, 211954, 211965, 211975, 211992, 212002, 212028, 212039, 212049, 212059, 212077, 212104, 212132, 212142, 212151, 212169, 212178, 212188, 212206, 212223, 212245, 212255, 212265, 212275, 212283, 212293, 212303, 212332, 212360, 212376, 212386, 212400, 212410, 212420, 212434, 212447, 212456, 212468, 212479, 212488, 212498, 212507, 212517, 212526, 212535, 212545, 212555, 212565, 212576, 212586, 212596, 212608, 212617, 212632, 212643, 212659, 212670, 212681, 212691, 212706, 212716, 212728, 212741, 212754, 212772, 212788, 212800, 212811, 212824, 212835, 212845, 212856, 212866, 212877, 212887, 212900, 212915, 212928, 212941, 212951, 212961, 212973, 212983, 212995, 213007, 213018, 213031, 213042, 213052, 213070, 213079, 213089, 213119, 213130, 213140, 213151, 213162, 213172, 213185, 213197, 213207, 213218, 213231, 213243, 213256, 213281, 213302, 213325, 213338, 213350, 213360, 213373, 213387, 213397, 213412, 213428, 213438, 213456, 213466, 213478, 213488, 213498, 213520, 213534, 213546, 213556, 213578, 213589, 213599, 213616, 213625, 213640, 213651, 213668, 213682, 213698, 213710, 213721, 213732, 213746, 213759, 213769, 213780, 213790, 213802, 213813, 213823, 213834, 213854, 213864, 213874, 213883, 213893, 213907, 213917, 213932, 213945, 213955, 213967, 213977, 213987, 213997, 214007, 214017, 214027, 214037, 214048, 214059, 214069, 214080, 214091, 214103, 214124, 214134, 214144, 214156, 214168, 214179, 214190, 214200, 214213, 214224, 214280, 214290, 214303, 214313, 214326, 214336, 214350, 214361, 214374, 214385, 214396, 214410, 214420, 214431, 214712, 214993, 215274, 215284, 215294, 215304, 215315, 215326, 215337, 215347, 215359, 215369, 215389, 215405, 215415, 215434, 215453, 215467, 215477, 215487, 215497, 215507, 215517, 215529, 215540, 215550, 215561, 215570, 215580, 215590, 215600, 215613, 215623, 215633, 215644, 215655, 215665, 215678, 215689, 215701, 215711, 215723, 215735, 215745, 215757, 215769, 215779, 215789, 215802, 215814, 215824, 215834, 215895, 215909, 215921, 215931, 215947, 215962, 215972, 216053, 216062, 216075, 216091, 216116, 216151, 216161, 216172, 216184, 216196, 216206, 216216, 216226, 216240, 216254, 216265, 216275, 216285, 216295, 216377, 216392, 216403, 216412, 216422, 216432, 216489, 216503, 216515, 216525, 216542, 216552, 216562, 216577, 216587, 216600, 216611, 216621, 216631, 216644, 216654, 216665, 216677, 216688, 216698, 216710, 216725, 216737, 216748, 216759, 216770, 216781, 216793, 216803, 216819, 216830, 216845, 216855, 216866, 216876, 216892, 216903, 216914, 216924, 216934, 216943, 216953, 216965, 216980, 216990, 217001, 217012, 217022, 217034, 217048, 217058, 217069, 217079, 217089, 217099, 217109, 217119, 217131, 217142, 217153, 217163, 217173, 217185, 217195, 217206, 217217, 217228, 217254, 217266, 217309, 217324, 217334, 217346, 217356, 217372, 217382, 217395, 217410, 217421, 217432, 217444, 217454, 217463, 217473, 217483, 217496, 217516, 217536, 217556, 217566, 217578, 217593, 217603, 217613, 217623, 217636, 217646, 217658, 217669, 217680, 217690, 217700, 217710, 217720, 217732, 217745, 217755, 217766, 217789, 217799, 217809, 217821, 217831, 217840, 217850, 217861, 217872, 217883, 217906, 217917, 217929, 217942, 217952, 217962, 217972, 217983, 217992, 218065, 218076, 218086, 218095, 218106, 218117, 218127, 218138, 218149, 218162, 218171, 218183, 218194, 218205, 218216, 218227, 218237, 218248, 218259, 218269, 218280, 218293, 218304, 218320, 218330, 218344, 218355, 218370, 218382, 218392, 218402, 218412, 218429, 218440, 218457, 218467, 218477, 218489, 218500, 218517, 218534, 218551, 218561, 218571, 218583, 218594, 218606, 218615, 218628, 218637, 218647, 218657, 218667, 218679, 218690, 218702, 218713, 218725, 218735, 218750, 218761, 218771, 218783, 218822, 218849, 218863, 218873, 218883, 218893, 218906, 218916, 218926, 218936, 218946, 218959, 218969, 218983, 218994, 219009, 219024, 219034, 219045, 219058, 219068, 219078, 219092, 219103, 219115, 219127, 219137, 219147, 219157, 219167, 219177, 219187, 219196, 219206, 219217, 219232, 219242, 219252, 219262, 219272, 219281, 219295, 219306, 219315, 219325, 219336, 219346, 219359, 219370, 219381, 219405, 219415, 219430, 219455, 219465, 219475, 219492, 219505, 219514, 219526, 219536, 219546, 219559, 219569, 219580, 219590, 219601, 219613, 219627, 219638, 219651, 219661, 219672, 219681, 219690, 219700, 219710, 219719, 219728, 219739, 219751, 219763, 219779, 219791, 219801, 219813, 219825, 219836, 219848, 219860, 219872, 219909, 219928, 219945, 219961, 219971, 219983, 219993, 220005, 220015, 220025, 220037, 220050, 220060, 220071, 220081, 220091, 220104, 220116, 220129, 220142, 220154, 220168, 220178, 220191, 220203, 220218, 220231, 220244, 220257, 220270, 220283, 220296, 220312, 220329, 220341, 220354, 220367, 220383, 220395, 220408, 220420, 220430, 220444, 220456, 220468, 220483, 220495, 220506, 220517, 220533, 220551, 220565, 220580, 220598, 220615, 220632, 220642, 220652, 220663, 220676, 220690, 220701, 220713, 220730, 220758, 220767, 220778, 220788, 220798, 220809, 220823, 220833, 220844, 220855, 220865, 220877, 220887, 220898, 220911, 220924, 220937, 220947, 220959, 220970, 220981, 220994, 221005, 221015, 221024, 221036, 221048, 221058, 221070, 221080, 221089, 221098, 221107, 221117, 221127, 221137, 221147, 221167, 221177, 221187, 221196, 221205, 221216, 221226, 221237, 221258, 221268, 221281, 221292, 221303, 221313, 221324, 221334, 221344, 221354, 221364, 221399, 221409, 221419, 221429, 221440, 221451, 221463, 221473, 221484, 221496, 221506, 221516, 221530, 221540, 221550, 221560, 221571, 221581, 221593, 221604, 221620, 221632, 221642, 221652, 221662, 221682, 221701, 221722, 221735, 221746, 221755, 221764, 221779, 221794, 221806, 221817, 221832, 221844, 221859, 221870, 221881, 221893, 221903, 221913, 221944, 221956, 221967, 221982, 221992, 222005, 222105, 222116, 222128, 222138, 222153, 222163, 222173, 222183, 222193, 222203, 222215, 222225, 222239, 222254, 222264, 222279, 222289, 222300, 222311, 222372, 222383, 222393, 222403, 222415, 222426, 222438, 222450, 222460, 222470, 222479, 222490, 222502, 222513, 222530, 222543, 222553, 222565, 222587, 222597, 222608, 222619, 222630, 222641, 222662, 222674, 222691, 222702, 222713, 222725, 222738, 222749, 222760, 222773, 222787, 222802, 222812, 222826, 222836, 222846, 222857, 222867, 222877, 222888, 222899, 222911, 222921, 222931, 222945, 222961, 222970, 222980, 222991, 223005, 223019, 223033, 223043, 223058, 223068, 223078, 223090, 223106, 223116, 223127, 223137, 223156, 223166, 223179, 223193, 223203, 223213, 223226, 223239, 223251, 223271, 223287, 223299, 223314, 223329, 223343, 223355, 223365, 223378, 223388, 223399, 223409, 223420, 223430, 223440, 223450, 223461, 223472, 223482, 223498, 223510, 223520, 223530, 223540, 223552, 223562, 223573, 223586, 223598, 223611, 223621, 223641, 223657, 223667, 223677, 223688, 223700, 223710, 223722, 223732, 223742, 223753, 223762, 223775, 223785, 223806, 223817, 223882, 223893, 223903, 223914, 223924, 223936, 223947, 223959, 223970, 223984, 223995, 224006, 224016, 224026, 224036, 224047, 224061, 224073, 224087, 224099, 224109, 224121, 224133, 224144, 224158, 224168, 224188, 224198, 224209, 224226, 224237, 224249, 224262, 224275, 224287, 224297, 224307, 224319, 224329, 224338, 224351, 224366, 224379, 224388, 224401, 224415, 224425, 224437, 224449, 224459, 224469, 224479, 224491, 224505, 224519, 224530, 224540, 224554, 224564, 224577, 224587, 224599, 224624, 224635, 224644, 224658, 224668, 224684, 224696, 224705, 224715, 224725, 224737, 224746, 224761, 224771, 224781, 224791, 224801, 224813, 224826, 224838, 224851, 224861, 224871, 224881, 224891, 224902, 224913, 224924, 224935, 224946, 224957, 224969, 224979, 224992, 225006, 225016, 225028, 225039, 225050, 225062, 225072, 225084, 225097, 225110, 225120, 225130, 225142, 225153, 225185, 225195, 225205, 225218, 225228, 225245, 225269, 225284, 225303, 225320, 225330, 225340, 225350, 225367, 225377, 225387, 225397, 225407, 225418, 225429, 225439, 225449, 225461, 225472, 225485, 225495, 225519, 225543, 225554, 225564, 225574, 225585, 225595, 225606, 225617, 225628, 225638, 225648, 225658, 225670, 225681, 225697, 225713, 225732, 225745, 225755, 225766, 225793, 225802, 225811, 225821, 225835, 225848, 225858, 225881, 225894, 225903, 225915, 225929, 225943, 225957, 225975, 225985, 225994, 226008, 226018, 226028, 226042, 226052, 226072, 226083, 226094, 226104, 226114, 226124, 226134, 226146, 226155, 226166, 226178, 226193, 226205, 226217, 226228, 226238, 226248, 226258, 226269, 226279, 226289, 226299, 226312, 226324, 226334, 226347, 226357, 226367, 226380, 226393, 226404, 226419, 226430, 226442, 226451, 226462, 226473, 226483, 226493, 226505, 226521, 226531, 226543, 226553, 226564, 226574, 226584, 226597, 226607, 226617, 226627, 226638, 226654, 226669, 226681, 226702, 226712, 226722, 226745, 226765, 226781, 226796, 226806, 226816, 226826, 226840, 226851, 226862, 226875, 226885, 226977, 226987, 226997, 227013, 227023, 227033, 227044, 227054, 227069, 227079, 227089, 227099, 227160, 227174, 227191, 227202, 227212, 227224, 227236, 227247, 227258, 227276, 227286, 227306, 227318, 227338, 227348, 227359, 227371, 227381, 227396, 227407, 227421, 227431, 227441, 227455, 227465, 227474, 227484, 227494, 227505, 227516, 227526, 227535, 227549, 227559, 227572, 227582, 227594, 227607, 227618, 227629, 227641, 227672, 227682, 227692, 227702, 227712, 227722, 227740, 227750, 227760, 227770, 227781, 227792, 227804, 227814, 227851, 227861, 227874, 227886, 227896, 227906, 227917, 227928, 227939, 227951, 227963, 227973, 227983, 227997, 228010, 228020, 228030, 228040, 228050, 228059, 228072, 228083, 228093, 228104, 228114, 228125, 228136, 228147, 228159, 228169, 228183, 228265, 228278, 228288, 228301, 228323, 228334, 228344, 228355, 228368, 228384, 228393, 228406, 228418, 228429, 228444, 228457, 228470, 228480, 228494, 228507, 228518, 228529, 228541, 228551, 228562, 228574, 228584, 228593, 228606, 228617, 228629, 228639, 228649, 228659, 228670, 228680, 228691, 228702, 228714, 228724, 228734, 228746, 228762, 228772, 228790, 228801, 228811, 228857, 229025, 229035, 229046, 229056, 229067, 229083, 229093, 229104, 229115, 229127, 229141, 229155, 229170, 229180, 229192, 229202, 229212, 229222, 229232, 229243, 229253, 229263, 229272, 229282, 229294, 229304, 229314, 229324, 229334, 229346, 229356, 229365, 229377, 229396, 229407, 229419, 229429, 229443, 229459, 229477, 229487, 229501, 229511, 229522, 229607, 229618, 229630, 229641, 229659, 229669, 229683, 229693, 229705, 229726, 229747, 229768, 229779, 229790, 229808, 229869, 229884, 229898, 229908, 229919, 229929, 229943, 229956, 229966, 229987, 229997, 230008, 230029, 230039, 230049, 230060, 230071, 230082, 230100, 230111, 230123, 230139, 230149, 230168, 230180, 230191, 230207, 230217, 230233, 230243, 230253, 230264, 230275, 230285, 230319, 230332, 230344, 230353, 230363, 230375, 230386, 230396, 230406, 230420, 230431, 230441, 230451, 230461, 230484, 230507, 230530, 230555, 230565, 230576, 230587, 230597, 230610, 230623, 230636, 230648, 230665, 230676, 230690, 230701, 230711, 230735, 230748, 230762, 230776, 230787, 230798, 230810, 230820, 230830, 231111, 231392, 231673, 231954, 231964, 231977, 231989, 232002, 232012, 232023, 232034, 232045, 232060, 232070, 232085, 232095, 232111, 232120, 232134, 232145, 232163, 232172, 232181, 232193, 232205, 232215, 232228, 232238, 232248, 232262, 232272, 232282, 232292, 232304, 232315, 232328, 232338, 232352, 232365, 232380, 232394, 232408, 232421, 232431, 232441, 232453, 232464, 232476, 232488, 232503, 232513, 232524, 232535, 232544, 232554, 232567, 232577, 232587, 232601, 232611, 232623, 232633, 232643, 232653, 232669, 232679, 232689, 232700, 232710, 232720, 232731, 232741, 232751, 232762, 232772, 232782, 232792, 232826, 232836, 232847, 232857, 232867, 232879, 232891, 232901, 232911, 232921, 232931, 232955, 232966, 232976, 232986, 232996, 233007, 233019, 233029, 233041, 233052, 233064, 233077, 233087, 233097, 233111, 233120, 233133, 233143, 233154, 233164, 233176, 233186, 233195, 233207, 233226, 233246, 233261, 233271, 233281, 233290, 233301, 233311, 233322, 233331, 233341, 233355, 233366, 233376, 233388, 233400, 233411, 233421, 233431, 233441, 233451, 233461, 233472, 233482, 233492, 233502, 233515, 233524, 233534, 233543, 233558, 233568, 233577, 233586, 233596, 233606, 233622, 233633, 233645, 233656, 233670, 233681, 233691, 233701, 233711, 233722, 233734, 233744, 233757, 233772, 233785, 233798, 233816, 233830, 233840, 233850, 233862, 233874, 233884, 233895, 233906, 233917, 233927, 233937, 233951, 233962, 233983, 233998, 234009, 234019, 234031, 234041, 234053, 234063, 234074, 234084, 234126, 234142, 234152, 234162, 234173, 234184, 234196, 234206, 234216, 234226, 234236, 234246, 234259, 234270, 234281, 234293, 234305, 234317, 234328, 234337, 234352, 234365, 234377, 234388, 234399, 234410, 234420, 234431, 234442, 234453, 234463, 234473, 234483, 234493, 234504, 234515, 234525, 234536, 234547, 234557, 234567, 234578, 234588, 234599, 234610, 234620, 234630, 234640, 234651, 234662, 234674, 234684, 234718, 234728, 234738, 234748, 234758, 234768, 234778, 234789, 234801, 234811, 234821, 234831, 234843, 234853, 234867, 234878, 234891, 234903, 234914, 234924, 234939, 234950, 234960, 234972, 234982, 234993, 235006, 235019, 235033, 235047, 235057, 235068, 235078, 235088, 235102, 235119, 235129, 235145, 235155, 235165, 235192, 235202, 235212, 235222, 235234, 235244, 235254, 235264, 235275, 235286, 235295, 235305, 235315, 235325, 235338, 235348, 235366, 235378, 235395, 235409, 235424, 235435, 235446, 235455, 235464, 235473, 235485, 235494, 235514, 235524, 235534, 235545, 235555, 235566, 235576, 235586, 235596, 235606, 235616, 235626, 235636, 235646, 235656, 235667, 235678, 235688, 235698, 235712, 235723, 235733, 235745, 235756, 235767, 235777, 235788, 235800, 235811, 235822, 235832, 235842, 235853, 235865, 235876, 235895, 235905, 235916, 235928, 235939, 235950, 235960, 235975, 235988, 235999, 236009, 236019, 236029, 236039, 236050, 236061, 236071, 236081, 236092, 236112, 236122, 236133, 236143, 236154, 236166, 236177, 236189, 236200, 236210, 236223, 236235, 236246, 236257, 236270, 236280, 236291, 236302, 236313, 236325, 236336, 236348, 236361, 236371, 236382, 236392, 236402, 236417, 236430, 236441, 236452, 236465, 236478, 236493, 236502, 236512, 236525, 236542, 236552, 236563, 236574, 236585, 236595, 236607, 236617, 236630, 236642, 236652, 236662, 236672, 236683, 236698, 236712, 236724, 236734, 236744, 236758, 236775, 236785, 236795, 236805, 236819, 236829, 236839, 236849, 236860, 236871, 236883, 236893, 236905, 236915, 236927, 236939, 236949, 236959, 236969, 236981, 236999, 237011, 237025, 237038, 237049, 237066, 237077, 237087, 237098, 237108, 237121, 237131, 237141, 237153, 237168, 237180, 237197, 237209, 237219, 237229, 237242, 237252, 237262, 237273, 237283, 237293, 237311, 237321, 237331, 237341, 237353, 237363, 237377, 237390, 237400, 237411, 237421, 237431, 237442, 237452, 237462, 237471, 237481, 237493, 237503, 237513, 237523, 237533, 237545, 237557, 237567, 237577, 237589, 237599, 237610, 237620, 237630, 237658, 237668, 237678, 237688, 237698, 237708, 237719, 237729, 237739, 237753, 237763, 237773, 237786, 237796, 237808, 237818, 237828, 237838, 237847, 237859, 237869, 237879, 237889, 237899, 237910, 237920, 237931, 237942, 237953, 237965, 237975, 237987, 237997, 238006, 238007, 238018, 238027, 238046, 238058, 238069, 238079, 238089, 238099, 238109, 238110, 238123, 238133, 238143, 238153, 238164, 238174, 238185, 238195, 238205, 238216, 238217, 238218, 238228, 238237, 238250, 238264, 238277, 238287, 238297, 238314, 238315, 238329, 238339, 238350, 238362, 238372, 238383, 238393, 238403, 238413, 238423, 238433, 238444, 238454, 238464, 238475, 238485, 238495, 238506, 238516, 238526, 238538, 238549, 238563, 238581, 238593, 238605, 238616, 238626, 238638, 238653, 238665, 238690, 238701, 238711, 238722, 238732, 238746, 238756, 238766, 238778, 238789, 238802, 238814, 238825, 238836, 238847, 238858, 238870, 238880, 238890, 238900, 238910, 238922, 238934, 238954, 238965, 238993, 239002, 239013, 239023, 239032, 239047, 239062, 239073, 239083, 239093, 239105, 239116, 239127, 239138, 239149, 239162, 239174, 239187, 239200, 239211, 239221, 239231, 239241, 239250, 239262, 239271, 239280, 239290, 239300, 239318, 239328, 239339, 239349, 239359, 239374, 239383, 239394, 239404, 239414, 239424, 239435, 239448, 239464, 239474, 239484, 239494, 239504, 239514, 239524, 239535, 239545, 239555, 239565, 239581, 239591, 239601, 239612, 239625, 239635, 239645, 239655, 239666, 239678, 239688, 239699, 239710, 239722, 239732, 239742, 239753, 239772, 239783, 239793, 239803, 239813, 239823, 239833, 239843, 239878, 239892, 239905, 239916, 239928, 239939, 239950, 239962, 239972, 239982, 239993, 240007, 240017, 240027, 240038, 240050, 240070, 240080, 240090, 240103, 240115, 240125, 240135, 240145, 240155, 240173, 240186, 240199, 240209, 240226, 240235, 240244, 240259, 240271, 240281, 240295, 240305, 240316, 240327, 240337, 240348, 240360, 240372, 240383, 240394, 240404, 240414, 240427, 240438, 240448, 240458, 240468, 240481, 240490, 240506, 240522, 240532, 240545, 240559, 240572, 240587, 240597, 240609, 240619, 240630, 240640, 240650, 240664, 240675, 240689, 240703, 240717, 240728, 240739, 240749, 240760, 240771, 240781, 240791, 240801, 240812, 240823, 240833, 240843, 240853, 240863, 240875, 240889, 240900, 240910, 240920, 240930, 240941, 240951, 240966, 240978, 240988, 240999, 241011, 241021, 241040, 241054, 241065, 241075, 241086, 241097, 241107, 241117, 241134, 241144, 241161, 241172, 241182, 241192, 241203, 241216, 241228, 241240, 241250, 241260, 241270, 241282, 241292, 241305, 241315, 241326, 241343, 241357, 241379, 241398, 241408, 241423, 241433, 241444, 241456, 241466, 241479, 241491, 241503, 241513, 241524, 241534, 241544, 241554, 241564, 241574, 241585, 241595, 241605, 241615, 241627, 241638, 241649, 241659, 241669, 241680, 241691, 241701, 241711, 241721, 241733, 241743, 241753, 241763, 241779, 241789, 241799, 241809, 241819, 241830, 241840, 241853, 241864, 241874, 241884, 241894, 241905, 241916, 241926, 241937, 241951, 241961, 241972, 241982, 241996, 242010, 242020, 242035, 242049, 242059, 242068, 242078, 242089, 242104, 242116, 242128, 242142, 242161, 242170, 242182, 242196, 242207, 242221, 242231, 242241, 242252, 242262, 242273, 242282, 242292, 242307, 242318, 242328, 242338, 242348, 242359, 242370, 242380, 242391, 242402, 242413, 242425, 242438, 242449, 242460, 242471, 242484, 242494, 242503, 242515, 242525, 242541, 242556, 242567, 242578, 242592, 242605, 242617, 242627, 242639, 242651, 242661, 242674, 242685, 242696, 242706, 242716, 242725, 242735, 242746, 242756, 242767, 242781, 242792, 242802, 242814, 242824, 242835, 242845, 242855, 242866, 242879, 242893, 242904, 242915, 242933, 242951, 242961, 242972, 242981, 242990, 242999, 243010, 243021, 243033, 243045, 243057, 243068, 243078, 243093, 243103, 243113, 243123, 243132, 243142, 243153, 243163, 243175, 243186, 243198, 243207, 243217, 243229, 243243, 243254, 243266, 243277, 243288, 243300, 243310, 243321, 243335, 243353, 243363, 243373, 243389, 243402, 243412, 243422, 243432, 243442, 243452, 243462, 243472, 243482, 243492, 243502, 243512, 243522, 243532, 243542, 243552, 243561, 243573, 243584, 243594, 243609, 243624, 243635, 243648, 243658, 243667, 243680, 243689, 243700, 243710, 243721, 243731, 243740, 243751, 243762, 243771, 243780, 243791, 243804, 243814, 243825, 243835, 243845, 243856, 243866, 243881, 243898, 243909, 243920, 243930, 243940, 243952, 243962, 243973, 243983, 243993, 244002, 244012, 244027, 244038, 244048, 244059, 244071, 244083, 244094, 244106, 244274, 244285, 244295, 244308, 244320, 244332, 244350, 244360, 244370, 244381, 244394, 244405, 244416, 244426, 244436, 244447, 244458, 244467, 244478, 244487, 244497, 244508, 244519, 244532, 244552, 244561, 244570, 244586, 244597, 244609, 244618, 244629, 244639, 244649, 244660, 244671, 244681, 244691, 244701, 244715, 244725, 244736, 244746, 244756, 244767, 244778, 244837, 244847, 244858, 244869, 244879, 244890, 244902, 244922, 244935, 244946, 244956, 244967, 244978, 244988, 245005, 245018, 245031, 245043, 245058, 245069, 245082, 245092, 245102, 245114, 245126, 245137, 245148, 245158, 245169, 245181, 245192, 245202, 245215, 245383, 245407, 245417, 245453, 245463, 245474, 245484, 245495, 245509, 245520, 245532, 245543, 245554, 245565, 245575, 245589, 245603, 245618, 245632, 245644, 245654, 245665, 245675, 245685, 245701, 245713, 245723, 245732, 245741, 245752, 245766, 245784, 245796, 245808, 245820, 245835, 245848, 245858, 245870, 245881, 245893, 245903, 245915, 245925, 245940, 245953, 245965, 245977, 245992, 246007, 246017, 246033, 246046, 246056, 246068, 246078, 246088, 246105, 246116, 246127, 246137, 246149, 246169, 246184, 246194, 246210, 246227, 246238, 246248, 246258, 246268, 246278, 246287, 246300, 246311, 246320, 246331, 246340, 246349, 246358, 246367, 246377, 246387, 246396, 246405, 246415, 246425, 246435, 246449, 246461, 246472, 246485, 246496, 246506, 246537, 246568, 246599, 246630, 246661, 246685, 246695, 246705, 246715, 246725, 246735, 246745, 246755, 246767, 246777, 246786, 246798, 246809, 246820, 246831, 246841, 246852, 246862, 246872, 246881, 246893, 246903, 246933, 246943, 246952, 246962, 246977, 246987, 246998, 247010, 247020, 247030, 247040, 247052, 247064, 247075, 247087, 247099, 247109, 247119, 247130, 247141, 247153, 247165, 247176, 247187, 247203, 247218, 247240, 247262, 247284, 247294, 247305, 247315, 247325, 247335, 247345, 247355, 247365, 247381, 247391, 247401, 247412, 247423, 247435, 247447, 247459, 247469, 247480, 247493, 247505, 247518, 247531, 247543, 247556, 247569, 247581, 247596, 247608, 247715, 247725, 247736, 247746, 247756, 247768, 247780, 247790, 247801, 247812, 247823, 247833, 247843, 247853, 247864, 247877, 247887, 247897, 247907, 247917, 247928, 247938, 247948, 247958, 247969, 247979, 248009, 248039, 248050, 248060, 248072, 248085, 248097, 248109, 248121, 248133, 248143, 248152, 248164, 248175, 248184, 248194, 248209, 248219, 248229, 248239, 248250, 248260, 248270, 248279, 248291, 248301, 248311, 248321, 248331, 248341, 248355, 248370, 248381, 248392, 248403, 248414, 248423, 248432, 248446, 248456, 248624, 248634, 248644, 248656, 248666, 248676, 248686, 248696, 248708, 248718, 248729, 248739, 248749, 248759, 248777, 248788, 248798, 248812, 248826, 248838, 248849, 248859, 248870, 248902, 248912, 248922, 248932, 248943, 248953, 248963, 248973, 248983, 248994, 249004, 249014, 249022, 249040, 249052, 249063, 249073, 249083, 249111, 249291, 249302, 249313, 249323, 249340, 249351, 249361, 249371, 249381, 249391, 249404, 249413, 249423, 249435, 249446, 249457, 249467, 249477, 249490, 249500, 249515, 249529, 249543, 249553, 249565, 249733, 249743, 249911, 249921, 249934, 249952, 249963, 249980, 249997, 250013, 250027, 250038, 250048, 250060, 250070, 250080, 250093, 250105, 250115, 250125, 250135, 250145, 250155, 250166, 250179, 250189, 250204, 250214, 250226, 250240, 250251, 250261, 250271, 250281, 250290, 250302, 250315, 250325, 250336, 250348, 250359, 250369, 250379, 250401, 250423, 250435, 250446, 250458, 250470, 250499, 250509, 250520, 250533, 250544, 250556, 250566, 250576, 250585, 250597, 250607, 250618, 250627, 250636, 250646, 250655, 250666, 250676, 250686, 250696, 250707, 250718, 250728, 250737, 250747, 250757, 250767, 250777, 250788, 250799, 250809, 250819, 250829, 250843, 250853, 250862, 250871, 250881, 250890, 250899, 250908, 250917, 250926, 250937, 250947, 250957, 250967, 250977, 251004, 251014, 251024, 251034, 251044, 251076, 251086, 251097, 251112, 251125, 251136, 251146, 251157, 251167, 251182, 251207, 251221, 251243, 251253, 251265, 251275, 251285, 251295, 251305, 251314, 251324, 251337, 251350, 251360, 251370, 251379, 251389, 251399, 251409, 251419, 251429, 251438, 251451, 251465, 251477, 251489, 251500, 251510, 251521, 251531, 251542, 251552, 251561, 251571, 251581, 251591, 251603, 251613, 251623, 251633, 251645, 251656, 251668, 251679, 251689, 251699, 251709, 251726, 251736, 251746, 251757, 251769, 251779, 251801, 251811, 251822, 251833, 251845, 251855, 251866, 251880, 251892, 251904, 251917, 251929, 251940, 251950, 251966, 251976, 251986, 251996, 252009, 252020, 252039, 252050, 252063, 252082, 252094, 252105, 252120, 252134, 252143, 252153, 252166, 252177, 252187, 252197, 252209, 252219, 252229, 252243, 252255, 252264, 252274, 252286, 252299, 252310, 252320, 252333, 252334, 252348, 252377, 252389, 252399, 252409, 252420, 252438, 252447, 252456, 252466, 252479, 252490, 252500, 252513, 252529, 252539, 252550, 252563, 252575, 252588, 252598, 252608, 252624, 252634, 252647, 252657, 252667, 252679, 252689, 252702, 252716, 252725, 252736, 252746, 252756, 252765, 252779, 252790, 252803, 252815, 252829, 252839, 252851, 252861, 252871, 252881, 252891, 252902, 252913, 252924, 252934, 252945, 252956, 252965, 252975, 252986, 252997, 253007, 253017, 253027, 253039, 253052, 253063, 253074, 253084, 253106, 253115, 253125, 253146, 253175, 253192, 253207, 253216, 253227, 253238, 253248, 253278, 253308, 253337, 253367, 253377, 253390, 253407, 253417, 253427, 253438, 253461, 253471, 253482, 253492, 253502, 253512, 253522, 253536, 253550, 253560, 253569, 253581, 253593, 253604, 253614, 253624, 253639, 253649, 253659, 253669, 253683, 253697, 253711, 253725, 253739, 253753, 253763, 253773, 253783, 253793, 253804, 253814, 253824, 253834, 253845, 253858, 253871, 253881, 253894, 253905, 253915, 253926, 253936, 253946, 253965, 253984, 253993, 254003, 254013, 254025, 254044, 254063, 254087, 254097, 254109, 254120, 254130, 254141, 254161, 254183, 254193, 254203, 254214, 254224, 254236, 254247, 254257, 254267, 254277, 254287, 254298, 254310, 254322, 254332, 254342, 254364, 254373, 254383, 254395, 254405, 254415, 254424, 254434, 254445, 254454, 254567, 254680, 254695, 254705, 254723, 254733, 254744, 254753, 254766, 254777, 254788, 254798, 254818, 254838, 254849, 254863, 254876, 254885, 254905, 254929, 254939, 254949, 254959, 254969, 254979, 254998, 255009, 255019, 255029, 255097, 255111, 255126, 255140, 255151, 255163, 255173, 255193, 255215, 255235, 255256, 255266, 255279, 255290, 255305, 255320, 255334, 255347, 255357, 255367, 255377, 255387, 255397, 255408, 255417, 255427, 255438, 255448, 255458, 255468, 255489, 255500, 255521, 255531, 255541, 255553, 255567, 255581, 255593, 255603, 255613, 255624, 255634, 255645, 255660, 255673, 255687, 255698, 255708, 255821, 255831, 255841, 255852, 255863, 255874, 255885, 255903, 255913, 255927, 255945, 255956, 256000, 256009, 256026, 256042, 256060, 256077, 256094, 256107, 256116, 256126, 256137, 256147, 256158, 256168, 256178, 256187, 256197, 256210, 256220, 256230, 256398, 256408, 256418, 256428, 256441, 256451, 256462, 256479, 256496, 256507, 256517, 256529, 256540, 256556, 256568, 256581, 256591, 256602, 256618, 256632, 256646, 256657, 256668, 256678, 256690, 256701, 256711, 256721, 256731, 256744, 256754, 256767, 256777, 256787, 256955, 256965, 257006, 257016, 257028, 257040, 257050, 257059, 257069, 257081, 257206, 257217, 257233, 257243, 257253, 257263, 257275, 257285, 257295, 257305, 257328, 257338, 257350, 257373, 257385, 257397, 257408, 257418, 257428, 257438, 257449, 257460, 257471, 257482, 257492, 257503, 257514, 257525, 257536, 257547, 257558, 257569, 257580, 257591, 257602, 257614, 257624, 257634, 257649, 257663, 257673, 257686, 257699, 257712, 257722, 257733, 257744, 257757, 257774, 257785, 257797, 257807, 257818, 257831, 257845, 257854, 257864, 257874, 257885, 257895, 257906, 257925, 257935, 257945, 257957, 257967, 257976, 257990, 258001, 258012, 258026, 258036, 258048, 258060, 258076, 258086, 258096, 258106, 258116, 258126, 258137, 258148, 258159, 258169, 258180, 258205, 258218, 258228, 258237, 258518, 258533, 258546, 258556, 258567, 258577, 258588, 258597, 258609, 258619, 258630, 258641, 258651, 258660, 258670, 258680, 258694, 258704, 258714, 258724, 258759, 258784, 258796, 258809, 258820, 258831, 258841, 258853, 258865, 258893, 258907, 258917, 258928, 258941, 258951, 258970, 258991, 259013, 259014, 259025, 259036, 259046, 259058, 259068, 259077, 259087, 259099, 259109, 259118, 259128, 259140, 259149, 259160, 259172, 259185, 259210, 259223, 259236, 259246, 259262, 259272, 259285, 259300, 259311, 259323, 259334, 259343, 259355, 259368, 259378, 259388, 259422, 259432, 259442, 259458, 259469, 259479, 259489, 259499, 259510, 259520, 259530, 259540, 259563, 259574, 259585, 259597, 259608, 259619, 259630, 259640, 259650, 259659, 259669, 259680, 259690, 259706, 259718, 259729, 259739, 259799, 259855, 259865, 259875, 259886, 259896, 259910, 259920, 259931, 259942, 259952, 259963, 259986, 259996, 260006, 260020, 260030, 260041, 260052, 260063, 260073, 260083, 260094, 260103, 260116, 260128, 260138, 260152, 260165, 260177, 260193, 260215, 260237, 260247, 260258, 260269, 260280, 260293, 260311, 260320, 260333, 260348, 260359, 260369, 260378, 260388, 260398, 260408, 260418, 260428, 260441, 260609, 260619, 260630, 260641, 260650, 260662, 260671, 260685, 260695, 260706, 260716, 260726, 260735, 260744, 260759, 260777, 260795, 260806, 260822, 260832, 260842, 260861, 260871, 260881, 260891, 260901, 260912, 260921, 260934, 260944, 260957, 260967, 260977, 260987, 260997, 261010, 261065, 261075, 261085, 261103, 261113, 261130, 261147, 261165, 261174, 261187, 261199, 261210, 261223, 261233, 261244, 261258, 261269, 261281, 261291, 261302, 261311, 261321, 261331, 261343, 261361, 261374, 261388, 261399, 261409, 261423, 261433, 261443, 261453, 261464, 261475, 261485, 261497, 261514, 261535, 261551, 261560, 261569, 261578, 261587, 261597, 261609, 261619, 261629, 261638, 261650, 261660, 261670, 261680, 261688, 261698, 261708, 261724, 261734, 261744, 261754, 261766, 261778, 261791, 261805, 261822, 261831, 261840, 261851, 261860, 261875, 261885, 261903, 261916, 261928, 261938, 261951, 261961, 261971, 261981, 261991, 262001, 262012, 262021, 262033, 262043, 262051, 262062, 262073, 262086, 262096, 262107, 262115, 262127, 262144, 262157, 262167, 262174, 262183, 262195, 262206, 262216, 262228, 262238, 262248, 262265, 262274, 262284, 262294, 262307, 262329, 262342, 262350, 262360, 262370, 262382, 262390, 262400, 262413, 262423, 262437, 262450, 262460, 262469, 262480, 262488, 262502, 262512, 262522, 262532, 262544, 262556, 262575, 262589, 262599, 262609, 262619, 262629, 262638, 262653, 262661, 262670, 262680, 262690, 262700, 262708, 262717, 262727, 262743, 262754, 262764, 262791, 262801, 262813, 262839, 262848, 262875, 262887, 262900, 262910, 262918, 262945, 262956, 262965, 262974, 262983, 262993, 263009, 263020, 263030, 263040, 263049, 263059, 263068, 263078, 263095, 263106, 263118, 263130, 263141, 263153, 263164, 263177, 263187, 263199, 263210, 263223, 263234, 263243, 263253, 263265, 263277, 263292, 263307, 263316, 263331, 263343, 263352, 263365, 263378, 263388, 263399, 263418, 263429, 263439, 263451, 263473, 263482, 263491, 263501, 263511, 263521, 263531, 263541, 263551, 263561, 263571, 263581, 263593, 263603, 263615, 263627, 263640, 263655, 263665, 263679, 263688, 263698, 263708, 263718, 263728, 263737, 263746, 263757, 263771, 263780, 263793, 263805, 263815, 263825, 263835, 263846, 263856, 263867, 263880, 263890, 263902, 263915, 263926, 263937, 263946, 263963, 263975, 263992, 264000, 264008, 264017, 264026, 264043, 264052, 264061, 264071, 264080, 264090, 264102, 264114, 264124, 264133, 264143, 264153, 264163, 264176, 264186, 264197, 264208, 264218, 264230, 264240, 264250, 264263, 264273, 264282, 264291, 264301, 264310, 264320, 264331, 264346, 264357, 264368, 264378, 264420, 264432, 264460, 264474, 264483, 264492, 264507, 264521, 264532, 264541, 264552, 264561, 264569, 264578, 264587, 264597, 264607, 264616, 264625, 264634, 264645, 264659, 264672, 264684, 264701, 264715, 264724, 264733, 264750, 264761, 264776, 264788, 264804, 264818, 264828, 264841, 264852, 264861, 264876, 264885, 264896, 264905, 264919, 264932, 264942, 264957, 264974, 264989, 265000, 265011, 265021, 265031, 265041, 265051, 265064, 265084, 265096, 265112, 265121, 265133, 265146, 265161, 265174, 265185, 265200, 265210, 265220, 265233, 265244, 265257, 265267, 265277, 265288, 265299, 265311, 265327, 265337, 265347, 265359, 265372, 265382, 265391, 265401, 265413, 265424, 265432, 265442, 265454, 265464, 265474, 265485, 265494, 265506, 265518, 265528, 265541, 265551, 265562, 265572, 265582, 265592, 265601, 265610, 265623, 265632, 265641, 265650, 265659, 265670, 265679, 265688, 265697, 265706, 265715, 265724, 265733, 265743, 265753, 265763, 265772, 265783, 265795, 265816, 265828, 265837, 265846, 265855, 265865, 265874, 265883, 265894, 265903, 265913, 265923, 265932, 265940, 265950, 265960, 265969, 265979, 265989, 265999, 266011, 266024, 266035, 266045, 266053, 266063, 266071, 266082, 266097, 266104, 266116, 266126, 266139, 266153, 266167, 266180, 266194, 266205, 266219, 266230, 266240, 266254, 266267, 266276, 266290, 266304, 266314, 266323, 266335, 266346, 266358, 266368, 266377, 266389, 266399, 266410, 266420, 266431, 266444, 266457, 266467, 266492, 266507, 266521, 266532, 266546, 266560, 266574, 266588, 266600, 266613, 266625, 266637, 266647, 266658, 266678, 266692, 266702, 266712, 266721, 266733, 266744, 266755, 266765, 266775, 266786, 266796, 266812, 266823, 266833, 266842, 266850, 266863, 266872, 266881, 266891, 266900, 266918, 266930, 266940, 266948, 266956, 266965, 266974, 266982, 266991, 267004, 267012, 267028, 267038, 267048, 267058, 267092, 267103, 267113, 267123, 267133, 267146, 267159, 267173, 267187, 267200, 267214, 267227, 267240, 267253, 267265, 267274, 267285, 267295, 267304, 267312, 267320, 267330, 267338, 267346, 267354, 267364, 267414, 267424, 267452, 267460, 267488, 267501, 267511, 267519, 267529, 267537, 267549, 267579, 267592, 267602, 267611, 267626, 267635, 267645, 267654, 267664, 267674, 267684, 267693, 267703, 267712, 267721, 267730, 267739, 267748, 267757, 267764, 267775, 267790, 267800, 267811, 267821, 267831, 267853, 267866, 267874, 267884, 267896, 267906, 267915, 267925, 267934, 267944, 267963, 267973, 267992, 268001, 268011, 268025, 268044, 268054, 268072, 268091, 268101, 268112, 268131, 268141, 268151, 268161, 268171, 268181, 268200, 268210, 268222, 268234, 268246, 268258, 268270, 268282, 268294, 268311, 268320, 268329, 268339, 268351, 268360, 268377, 268395, 268413, 268430, 268442, 268454, 268465, 268476, 268487, 268498, 268509, 268520, 268538, 268549, 268567, 268578, 268595, 268612, 268626, 268665, 268679, 268692, 268706, 268722, 268732, 268752, 268763, 268774, 268785, 268797, 268811, 268822, 268836, 268850, 268864, 268878, 268893, 268908, 268923, 268943, 268963, 268980, 268997, 269014, 269029, 269043, 269060, 269078, 269094, 269110, 269126, 269142, 269158, 269171, 269190, 269204, 269214, 269234, 269245, 269256, 269275, 269286, 269298, 269310, 269321, 269332, 269353, 269375, 269384, 269393, 269402, 269421, 269439, 269458, 269473, 269488, 269508, 269517, 269538, 269553, 269571, 269584, 269605, 269616, 269635, 269646, 269655, 269664, 269673, 269682, 269691, 269711, 269726, 269735, 269744, 269753, 269762, 269771, 269780, 269789, 269798, 269807, 269816, 269825, 269834, 269928, 269937, 269954, 269971, 269980, 269989, 270003, 270014, 270023, 270032, 270040, 270050, 270059, 270072, 270085, 270099, 270112, 270125, 270135, 270153, 270171, 270189, 270206, 270223, 270237, 270255, 270265, 270275, 270291, 270305, 270322, 270340, 270352, 270370, 270379, 270397, 270408, 270418, 270429, 270440, 270451, 270463, 270480, 270497, 270514, 270524, 270541, 270554, 270564, 270574, 270587, 270596, 270606, 270623, 270637, 270647, 270662, 270671, 270680, 270690, 270699, 270716, 270724, 270734, 270746, 270763, 270780, 270797, 270808, 270822, 270835, 270848, 270856, 270870, 270883, 270895, 270907, 270916, 270927, 270939, 270950, 270964, 270974, 270988, 270998, 271012, 271026, 271036, 271046, 271053, 271064, 271073, 271088, 271101, 271113, 271123, 271137, 271147, 271157, 271168, 271178, 271187, 271197, 271209, 271224, 271236, 271247, 271257, 271267, 271284, 271295, 271306, 271318, 271330, 271340, 271350, 271358, 271368, 271378, 271388, 271399, 271408, 271418, 271427, 271441, 271451, 271462, 271474, 271483, 271491, 271499, 271509, 271520, 271530, 271540, 271549, 271559, 271568, 271577, 271587, 271602, 271613, 271623, 271641, 271656, 271675, 271687, 271698, 271710, 271719, 271730, 271741, 271752, 271762, 271772, 271783, 271794, 271804, 271814, 271824, 271834, 271844, 271853, 271863, 271875, 271885, 271896, 271905, 271914, 271923, 271932, 271941, 271950, 271959, 271972, 271985, 271994, 272003, 272014, 272026, 272037, 272048, 272058, 272069, 272079, 272089, 272102, 272114, 272123, 272133, 272144, 272154, 272165, 272176, 272186, 272197, 272207, 272228, 272239, 272249, 272259, 272274, 272284, 272294, 272306, 272322, 272333, 272345, 272356, 272365, 272375, 272385, 272395, 272405, 272419, 272436, 272501, 272514, 272527, 272538, 272547, 272558, 272570, 272582, 272592, 272602, 272614, 272625, 272636, 272646, 272656, 272665, 272688, 272697, 272707, 272717, 272733, 272742, 272751, 272761, 272770, 272779, 272788, 272797, 272806, 272820, 272832, 272844, 272853, 272863, 272873, 272886, 272899, 272908, 272919, 272929, 272938, 272947, 272956, 272972, 272981, 272990, 273001, 273012, 273036, 273047, 273071, 273086, 273101, 273111, 273121, 273130, 273142, 273155, 273167, 273182, 273197, 273211, 273226, 273236, 273248, 273257, 273269, 273280, 273291, 273300, 273309, 273320, 273331, 273342, 273353, 273363, 273395, 273406, 273417, 273429, 273439, 273470, 273482, 273492, 273502, 273512, 273526, 273536, 273551, 273561, 273574, 273585, 273594, 273604, 273614, 273623, 273634, 273669, 273678, 273691, 273700, 273710, 273722, 273740, 273751, 273761, 273774, 273786, 273796, 273806, 273807, 273820, 273831, 273840, 273849, 273858, 273868, 273877, 273886, 273899, 273910, 273925, 273935, 273944, 273954, 273963, 273973, 273982, 273992, 274014, 274024, 274035, 274046, 274057, 274068, 274079, 274089, 274099, 274112, 274123, 274137, 274152, 274171, 274190, 274204, 274213, 274224, 274236, 274246, 274256, 274266, 274276, 274285, 274295, 274306, 274318, 274328, 274337, 274347, 274355, 274364, 274377, 274389, 274401, 274411, 274424, 274434, 274444, 274454, 274463, 274472, 274483, 274498, 274507, 274516, 274525, 274535, 274546, 274557, 274566, 274577, 274589, 274598, 274610, 274621, 274637, 274648, 274660, 274669, 274681, 274691, 274710, 274728, 274749, 274759, 274769, 274785, 274801, 274810, 274825, 274838, 274849, 274859, 274871, 274882, 274898, 274908, 274918, 274928, 274942, 274953, 274964, 274973, 274984, 274995, 275004, 275016, 275026, 275036, 275046, 275057, 275070, 275080, 275090, 275106, 275118, 275133, 275150, 275160, 275170, 275180, 275190, 275200, 275210, 275220, 275235, 275250, 275265, 275278, 275291, 275301, 275311, 275325, 275335, 275348, 275358, 275372, 275381, 275391, 275404, 275412, 275433, 275450, 275458, 275468, 275479, 275497, 275508, 275529, 275543, 275553, 275574, 275591, 275601, 275611, 275627, 275641, 275654, 275665, 275686, 275707, 275723, 275733, 275743, 275753, 275762, 275772, 275781, 275790, 275804, 275817, 275827, 275838, 275847, 275859, 275871, 275880, 275890, 275909, 275919, 275928, 275938, 275948, 275966, 275984, 275994, 276004, 276021, 276037, 276054, 276064, 276078, 276091, 276104, 276114, 276129, 276139, 276153, 276165, 276175, 276184, 276197, 276212, 276225, 276237, 276250, 276259, 276269, 276278, 276289, 276302, 276312, 276322, 276332, 276342, 276354, 276363, 276463, 276474, 276485, 276495, 276505, 276515, 276525, 276535, 276544, 276555, 276566, 276576, 276589, 276602, 276615, 276626, 276640, 276653, 276664, 276677, 276688, 276701, 276713, 276725, 276737, 276749, 276759, 276769, 276786, 276801, 276812, 276824, 276837, 276849, 276860, 276871, 276881, 276892, 276901, 276925, 276935, 276947, 276956, 276965, 276977, 276990, 277003, 277013, 277025, 277034, 277045, 277054, 277063, 277074, 277086, 277101, 277112, 277120, 277129, 277139, 277149, 277159, 277169, 277179, 277190, 277202, 277214, 277223, 277231, 277243, 277251, 277261, 277272, 277283, 277293, 277302, 277314, 277325, 277335, 277346, 277356, 277377, 277388, 277399, 277409, 277419, 277429, 277561, 277571, 277580, 277589, 277599, 277609, 277622, 277632, 277642, 277652, 277671, 277692, 277711, 277731, 277741, 277756, 277766, 277821, 277831, 277841, 277853, 277865, 277875, 277886, 277896, 277905, 277918, 277932, 277944, 277957, 277972, 277990, 278000, 278011, 278023, 278040, 278050, 278059, 278070, 278081, 278092, 278103, 278114, 278125, 278136, 278147, 278158, 278169, 278179, 278190, 278201, 278212, 278223, 278234, 278245, 278256, 278267, 278276, 278287, 278304, 278315, 278329, 278342, 278360, 278370, 278384, 278398, 278407, 278418, 278429, 278441, 278460, 278470, 278479, 278493, 278508, 278514, 278525, 278536, 278546, 278559, 278569, 278582, 278592, 278601, 278613, 278626, 278636, 278645, 278686, 278696, 278708, 278717, 278726, 278735, 278745, 278758, 278772, 278782, 278796, 278808, 278818, 278831, 278845, 278857, 278871, 278885, 278897, 278940, 278949, 278959, 278970, 278982, 278991, 279001, 279011, 279021, 279032, 279043, 279053, 279063, 279079, 279090, 279104, 279116, 279125, 279135, 279145, 279159, 279170, 279182, 279192, 279203, 279214, 279261, 279278, 279287, 279299, 279321, 279333, 279349, 279371, 279383, 279394, 279405, 279415, 279429, 279441, 279451, 279462, 279472, 279485, 279495, 279506, 279517, 279531, 279542, 279554, 279564, 279575, 279586, 279602, 279612, 279622, 279638, 279652, 279662, 279672, 279683, 279694, 279705, 279716, 279727, 279736, 279746, 279756, 279770, 279782, 279794, 279804, 279814, 279825, 279835, 279844, 279854, 279864, 279879, 279889, 279904, 279919, 279931, 279943, 279953, 279967, 279978, 279987, 279996, 280005, 280020, 280030, 280039, 280064, 280073, 280084, 280098, 280111, 280121, 280130, 280160, 280174, 280186, 280201, 280211, 280221, 280231, 280241, 280251, 280262, 280273, 280283, 280291, 280301, 280311, 280323, 280333, 280347, 280357, 280368, 280378, 280391, 280400, 280412, 280422, 280433, 280445, 280456, 280467, 280478, 280492, 280500, 280512, 280522, 280532, 280540, 280550, 280562, 280574, 280582, 280591, 280600, 280613, 280623, 280635, 280646, 280658, 280669, 280681, 280691, 280701, 280711, 280721, 280731, 280740, 280750, 280760, 280771, 280781, 280797, 280809, 280819, 280830, 280840, 280861, 280873, 280883, 280891, 280901, 280916, 280927, 280938, 280956, 280967, 280977, 280996, 281006, 281017, 281029, 281040, 281050, 281156, 281166, 281176, 281186, 281195, 281206, 281216, 281226, 281236, 281246, 281256, 281271, 281280, 281291, 281307, 281317, 281343, 281353, 281363, 281374, 281384, 281395, 281405, 281414, 281431, 281440, 281451, 281467, 281477, 281488, 281530, 281539, 281549, 281575, 281584, 281596, 281609, 281620, 281631, 281641, 281652, 281663, 281672, 281681, 281694, 281703, 281715, 281724, 281734, 281743, 281753, 281781, 281792, 281802, 281812, 281822, 281833, 281842, 281853, 281889, 281925, 281936, 281946, 281956, 281968, 281978, 281988, 281999, 282010, 282020, 282031, 282042, 282053, 282065, 282075, 282086, 282096, 282107, 282118, 282128, 282139, 282149, 282162, 282171, 282185, 282196, 282209, 282219, 282231, 282249, 282259, 282269, 282280, 282297, 282310, 282326, 282338, 282350, 282360, 282369, 282379, 282396, 282407, 282417, 282427, 282437, 282447, 282457, 282470, 282480, 282490, 282500, 282510, 282520, 282530, 282540, 282550, 282562, 282572, 282582, 282592, 282602, 282612, 282623, 282635, 282648, 282659, 282669, 282681, 282691, 282705, 282715, 282729, 282743, 282754, 282768, 282781, 282792, 282806, 282820, 282830, 282840, 282850, 282861, 282873, 282883, 282893, 282902, 282913, 282924, 282936, 282947, 282959, 282972, 282982, 282994, 283008, 283019, 283034, 283044, 283055, 283066, 283076, 283086, 283098, 283110, 283122, 283132, 283144, 283154, 283169, 283206, 283268, 283282, 283292, 283303, 283316, 283328, 283339, 283357, 283367, 283388, 283400, 283411, 283421, 283434, 283446, 283456, 283466, 283477, 283492, 283508, 283521, 283531, 283544, 283554, 283566, 283580, 283590, 283600, 283611, 283625, 283642, 283652, 283670, 283685, 283702, 283715, 283725, 283735, 283746, 283757, 283819, 284100, 284381, 284662, 284943, 284954, 284964, 284974, 284984, 284993, 285002, 285014, 285026, 285036, 285047, 285057, 285070, 285083, 285093, 285107, 285118, 285128, 285138, 285149, 285160, 285171, 285187, 285199, 285211, 285222, 285232, 285242, 285252, 285262, 285272, 285282, 285292, 285302, 285313, 285324, 285334, 285344, 285354, 285373, 285384, 285394, 285407, 285416, 285427, 285441, 285450, 285460, 285472, 285481, 285493, 285505, 285515, 285528, 285538, 285550, 285560, 285571, 285581, 285599, 285609, 285627, 285637, 285648, 285657, 285668, 285680, 285689, 285712, 285723, 285736, 285746, 285758, 285769, 285780, 285801, 285812, 285822, 285830, 285842, 285852, 285862, 285871, 285881, 285895, 285908, 285919, 285930, 285939, 285949, 285960, 285970, 285980, 285988, 285999, 286010, 286021, 286031, 286044, 286054, 286067, 286077, 286086, 286097, 286108, 286118, 286127, 286137, 286147, 286159, 286171, 286183, 286195, 286208, 286218, 286227, 286241, 286251, 286265, 286274, 286286, 286296, 286305, 286321, 286333, 286343, 286356, 286366, 286376, 286386, 286397, 286407, 286421, 286442, 286462, 286478, 286489, 286500, 286511, 286522, 286533, 286545, 286555, 286583, 286596, 286611, 286621, 286630, 286640, 286652, 286662, 286672, 286686, 286699, 286715, 286726, 286742, 286754, 286764, 286777, 286787, 286797, 286810, 286821, 286831, 286842, 286853, 286952, 286962, 286972, 286982, 286995, 287016, 287025, 287035, 287048, 287058, 287068, 287077, 287086, 287096, 287112, 287121, 287132, 287143, 287154, 287165, 287178, 287352, 287363, 287375, 287386, 287399, 287409, 287419, 287434, 287444, 287453, 287464, 287473, 287484, 287494, 287504, 287515, 287525, 287536, 287547, 287558, 287568, 287578, 287588, 287599, 287614, 287624, 287635, 287645, 287656, 287666, 287676, 287692, 287702, 287721, 287733, 287745, 287757, 287767, 287779, 287791, 287804, 287818, 287834, 287849, 287860, 287871, 287886, 287896, 287905, 287932, 287941, 287952, 287964, 287977, 287988, 287999, 288011, 288020, 288030, 288041, 288051, 288064, 288074, 288083, 288093, 288104, 288115, 288125, 288197, 288207, 288217, 288226, 288242, 288256, 288268, 288277, 288294, 288313, 288327, 288337, 288362, 288372, 288385, 288396, 288407, 288418, 288429, 288460, 288475, 288496, 288508, 288519, 288530, 288541, 288551, 288561, 288572, 288582, 288592, 288604, 288616, 288629, 288642, 288653, 288663, 288673, 288684, 288694, 288705, 288715, 288726, 288736, 288766, 288801, 288812, 288834, 288844, 288854, 288864, 288875, 288886, 288912, 288926, 288937, 288951, 288964, 288974, 288987, 288997, 289007, 289018, 289031, 289041, 289052, 289062, 289073, 289084, 289094, 289106, 289119, 289134, 289152, 289162, 289173, 289204, 289285, 289296, 289306, 289316, 289326, 289337, 289347, 289357, 289367, 289388, 289406, 289415, 289426, 289438, 289449, 289461, 289471, 289482, 289492, 289501, 289513, 289524, 289534, 289548, 289557, 289567, 289577, 289591, 289601, 289614, 289624, 289637, 289651, 289661, 289672, 289682, 289692, 289702, 289713, 289724, 289734, 289744, 289755, 289767, 289777, 289787, 289797, 289807, 289817, 289829, 289842, 289854, 289874, 289885, 289900, 289912, 289923, 289934, 289946, 289957, 289968, 289979, 289990, 290000, 290010, 290021, 290033, 290044, 290056, 290076, 290086, 290095, 290105, 290115, 290125, 290137, 290150, 290160, 290171, 290181, 290195, 290207, 290218, 290228, 290238, 290248, 290262, 290276, 290289, 290300, 290310, 290320, 290332, 290344, 290356, 290366, 290376, 290386, 290396, 290425, 290434, 290444, 290454, 290464, 290475, 290487, 290500, 290555, 290565, 290575, 290585, 290595, 290606, 290617, 290630, 290641, 290651, 290661, 290671, 290681, 290692, 290704, 290714, 290725, 290735, 290752, 290763, 290773, 290791, 290804, 290818, 290830, 290844, 290854, 290866, 290879, 290889, 290899, 290916, 290927, 290941, 290952, 290963, 290977, 290988, 290998, 291009, 291030, 291051, 291067, 291083, 291099, 291109, 291125, 291136, 291146, 291178, 291212, 291223, 291237, 291259, 291269, 291286, 291298, 291309, 291322, 291332, 291344, 291353, 291363, 291374, 291385, 291394, 291406, 291418, 291430, 291443, 291453, 291463, 291473, 291486, 291496, 291507, 291517, 291527, 291537, 291549, 291561, 291571, 291581, 291591, 291601, 291612, 291623, 291634, 291644, 291654, 291664, 291674, 291684, 291695, 291705, 291715, 291725, 291737, 291748, 291757, 291767, 291782, 291792, 291802, 291812, 291823, 291834, 291844, 291855, 291873, 291883, 291893, 291903, 291915, 291925, 292206, 292487, 292768, 293049, 293062, 293074, 293086, 293096, 293105, 293116, 293128, 293141, 293153, 293165, 293177, 293187, 293197, 293212, 293221, 293231, 293241, 293251, 293268, 293280, 293295, 293311, 293322, 293333, 293355, 293370, 293380, 293390, 293401, 293411, 293422, 293433, 293446, 293457, 293467, 293476, 293487, 293497, 293507, 293518, 293529, 293540, 293550, 293560, 293573, 293587, 293598, 293608, 293618, 293633, 293643, 293658, 293673, 293688, 293698, 293708, 293738, 293751, 293764, 293775, 293785, 293796, 293806, 293816, 293827, 293837, 293848, 293861, 293871, 293882, 293893, 293902, 293913, 293922, 293931, 293942, 293951, 293961, 293971, 293982, 293994, 294005, 294016, 294025, 294037, 294049, 294065, 294077, 294087, 294097, 294107, 294124, 294152, 294162, 294173, 294184, 294194, 294205, 294215, 294226, 294236, 294247, 294258, 294268, 294278, 294288, 294299, 294309, 294321, 294332, 294343, 294353, 294363, 294375, 294385, 294394, 294406, 294416, 294426, 294437, 294450, 294462, 294472, 294483, 294493, 294503, 294514, 294524, 294536, 294545, 294556, 294566, 294578, 294588, 294598, 294608, 294624, 294635, 294645, 294655, 294665, 294678, 294691, 294703, 294715, 294725, 294736, 294746, 294756, 294767, 294778, 294788, 294798, 294808, 294818, 294828, 294838, 294848, 294861, 294871, 294884, 294894, 294907, 294918, 294930, 294939, 294952, 294965, 294980, 294991, 295002, 295019, 295029, 295039, 295050, 295060, 295075, 295250, 295427, 295437, 295447, 295457, 295469, 295480, 295490, 295500, 295510, 295533, 295544, 295558, 295570, 295584, 295598, 295609, 295661, 295674, 295684, 295696, 295705, 295714, 295724, 295733, 295747, 295757, 295769, 295779, 295789, 295799, 295810, 295821, 295833, 295845, 295856, 295866, 295878, 295888, 295898, 295911, 295925, 295937, 295947, 295958, 295969, 295979, 295990, 296003, 296013, 296024, 296039, 296049, 296059, 296069, 296083, 296093, 296103, 296114, 296127, 296136, 296146, 296160, 296170, 296180, 296192, 296201, 296211, 296221, 296230, 296240, 296250, 296263, 296272, 296284, 296293, 296304, 296314, 296323, 296332, 296341, 296353, 296363, 296382, 296391, 296402, 296413, 296423, 296433, 296446, 296457, 296467, 296479, 296489, 296500, 296512, 296524, 296537, 296550, 296560, 296570, 296582, 296601, 296614, 296627, 296637, 296655, 296665, 296675, 296685, 296695, 296705, 296715, 296725, 296735, 296750, 296762, 296771, 296780, 296797, 296812, 296822, 296832, 296842, 296852, 296861, 296871, 296881, 296893, 296904, 296915, 296925, 296945, 296958, 296971, 296984, 296995, 297006, 297019, 297033, 297047, 297057, 297070, 297080, 297090, 297100, 297114, 297138, 297148, 297207, 297218, 297231, 297242, 297251, 297262, 297275, 297284, 297322, 297337, 297349, 297362, 297373, 297383, 297393, 297426, 297438, 297449, 297459, 297469, 297481, 297491, 297501, 297511, 297523, 297533, 297544, 297554, 297564, 297574, 297584, 297600, 297610, 297620, 297630, 297640, 297652, 297663, 297675, 297685, 297698, 297708, 297718, 297732, 297742, 297752, 297762, 297773, 297785, 297795, 297805, 297818, 297831, 297841, 297855, 297866, 297876, 297886, 297900, 297910, 297920, 297930, 297943, 297953, 297963, 297980, 297990, 298000, 298010, 298020, 298030, 298042, 298052, 298062, 298072, 298082, 298092, 298104, 298115, 298127, 298139, 298151, 298164, 298173, 298183, 298194, 298204, 298220, 298233, 298243, 298253, 298264, 298275, 298285, 298297, 298308, 298319, 298329, 298340, 298352, 298362, 298372, 298382, 298392, 298402, 298412, 298422, 298435, 298446, 298456, 298469, 298481, 298491, 298504, 298514, 298525, 298535, 298545, 298556, 298565, 298575, 298585, 298596, 298606, 298616, 298628, 298639, 298650, 298661, 298673, 298685, 298697, 298707, 298719, 298729, 298738, 298751, 298764, 298775, 298786, 298801, 298812, 298823, 298833, 298850, 298864, 298875, 298885, 298895, 298905, 298919, 298929, 298940, 298959, 298971, 298981, 298994, 299007, 299017, 299028, 299036, 299046, 299058, 299068, 299079, 299091, 299101, 299118, 299128, 299138, 299149, 299159, 299169, 299184, 299194, 299207, 299217, 299227, 299259, 299291, 299323, 299333, 299344, 299359, 299369, 299380, 299390, 299400, 299412, 299423, 299435, 299446, 299457, 299468, 299482, 299494, 299514, 299526, 299538, 299549, 299561, 299571, 299581, 299592, 299602, 299612, 299622, 299632, 299643, 299655, 299665, 299675, 299685, 299696, 299706, 299717, 299729, 299740, 299753, 299763, 299773, 299784, 299794, 299804, 299821, 299834, 299844, 299859, 299870, 299880, 299890, 299900, 299910, 299920, 299933, 299943, 299953, 299963, 299973, 299983, 299993, 300003, 300013, 300023, 300033, 300043, 300053, 300063, 300077, 300087, 300097, 300107, 300117, 300127, 300138, 300148, 300159, 300170, 300180, 300199, 300210, 300220, 300231, 300242, 300252, 300263, 300275, 300284, 300298, 300308, 300318, 300328, 300341, 300351, 300361, 300372, 300386, 300396, 300406, 300416, 300426, 300438, 300448, 300458, 300468, 300478, 300489, 300501, 300513, 300524, 300537, 300547, 300559, 300570, 300582, 300596, 300609, 300622, 300635, 300645, 300655, 300665, 300676, 300687, 300699, 300710, 300723, 300733, 300743, 300753, 300763, 300773, 300783, 300794, 300804, 300814, 300824, 300834, 300844, 300855, 300868, 300878, 300888, 300899, 300909, 300919, 300928, 300938, 300948, 300959, 300968, 300978, 300987, 300999, 301008, 301019, 301033, 301042, 301051, 301061, 301074, 301094, 301103, 301113, 301122, 301132, 301147, 301158, 301169, 301178, 301191, 301204, 301215, 301229, 301239, 301254, 301264, 301278, 301295, 301306, 301315, 301326, 301336, 301345, 301355, 301366, 301376, 301386, 301396, 301407, 301417, 301430, 301439, 301452, 301462, 301475, 301485, 301504, 301514, 301524, 301535, 301547, 301557, 301567, 301577, 301588, 301598, 301608, 301618, 301628, 301640, 301651, 301663, 301674, 301685, 301695, 301704, 301713, 301723, 301733, 301743, 301753, 301763, 301783, 301794, 301803, 301813, 301823, 301833, 301847, 301856, 301866, 301876, 301886, 301896, 301906, 301916, 301926, 301938, 301948, 301959, 301969, 301989, 302009, 302022, 302035, 302048, 302061, 302074, 302087, 302100, 302110, 302125, 302135, 302146, 302169, 302335, 302350, 302365, 302375, 302386, 302413, 302424, 302436, 302446, 302461, 302473, 302486, 302496, 302508, 302519, 302532, 302542, 302553, 302563, 302573, 302583, 302593, 302604, 302616, 302626, 302636, 302661, 302671, 302699, 302709, 302719, 302729, 302744, 302754, 302764, 302774, 302784, 302797, 302821, 302831, 302841, 302852, 302864, 302874, 302884, 302921, 302933, 302966, 302976, 302986, 302996, 303005, 303015, 303026, 303037, 303048, 303072, 303083, 303094, 303104, 303114, 303124, 303134, 303144, 303155, 303165, 303175, 303185, 303194, 303205, 303216, 303226, 303237, 303246, 303256, 303266, 303276, 303286, 303296, 303306, 303317, 303327, 303337, 303347, 303363, 303373, 303383, 303395, 303406, 303416, 303426, 303438, 303447, 303456, 303467, 303477, 303487, 303497, 303507, 303517, 303528, 303538, 303548, 303559, 303570, 303582, 303592, 303602, 303613, 303624, 303638, 303649, 303662, 303672, 303683, 303693, 303703, 303713, 303723, 303733, 303743, 303753, 303770, 303780, 303791, 303805, 303816, 303826, 303837, 303848, 303858, 303868, 303878, 303897, 303916, 303927, 303938, 303949, 303969, 303979, 303989, 303999, 304013, 304022, 304030, 304041, 304055, 304072, 304089, 304107, 304127, 304147, 304167, 304185, 304195, 304206, 304217, 304227, 304237, 304247, 304257, 304267, 304277, 304288, 304299, 304310, 304321, 304339, 304350, 304361, 304370, 304383, 304399, 304411, 304421, 304434, 304444, 304460, 304470, 304481, 304495, 304509, 304522, 304536, 304546, 304557, 304567, 304577, 304591, 304602, 304612, 304622, 304632, 304643, 304653, 304664, 304673, 304687, 304697, 304707, 304716, 304727, 304737, 304748, 304758, 304769, 304779, 304789, 304801, 304811, 304821, 304831, 304841, 304851, 304861, 304870, 305037, 305204, 305218, 305385, 305552, 305564, 305731, 305898, 305909, 305919, 305929, 305939, 305954, 305963, 305975, 305985, 305994, 306006, 306018, 306028, 306040, 306051, 306068, 306076, 306090, 306100, 306110, 306120, 306133, 306143, 306153, 306163, 306173, 306183, 306194, 306203, 306222, 306239, 306252, 306264, 306275, 306286, 306297, 306308, 306319, 306334, 306348, 306363, 306373, 306383, 306395, 306406, 306418, 306428, 306438, 306448, 306461, 306474, 306490, 306504, 306515, 306525, 306535, 306547, 306558, 306568, 306579, 306591, 306603, 306615, 306625, 306636, 306646, 306657, 306667, 306676, 306685, 306694, 306719, 306737, 306761, 306771, 306781, 306791, 306801, 306811, 306822, 306832, 306842, 306852, 306862, 306872, 306882, 306892, 306902, 306912, 306922, 306932, 306942, 306952, 306962, 306972, 306984, 306997, 307007, 307023, 307033, 307046, 307060, 307072, 307088, 307104, 307118, 307132, 307141, 307150, 307160, 307174, 307194, 307206, 307216, 307225, 307239, 307251, 307261, 307272, 307282, 307293, 307306, 307474, 307487, 307655, 307664, 307675, 307687, 307697, 307707]\n"
          ]
        }
      ],
      "source": [
        "idx = [0] # 한 법안의 index, idx[i]:idx[i+1]에는 같은 법안을 낸 여러 사람의 명단이 있다.\n",
        "for i in range(len(relation_state)-1):\n",
        "  if relation_state['인덱스'][i] != relation_state['인덱스'][i+1]:\n",
        "    idx.append(i+1)\n",
        "idx.append(len(relation_state))\n",
        "print(idx, sep = ' ')"
      ]
    },
    {
      "cell_type": "code",
      "execution_count": 35,
      "metadata": {
        "colab": {
          "base_uri": "https://localhost:8080/",
          "height": 419
        },
        "id": "N4YHI6aXF8v_",
        "outputId": "0fac26a1-288e-4098-d5e6-117578b0454f"
      },
      "outputs": [
        {
          "name": "stdout",
          "output_type": "stream",
          "text": [
            "총 의원 명수: 307707\n",
            "총 법안 개수: 22956\n",
            "0 1 2 3 4 5 6 7 8 9 10 11 12 13 14 15 16 17 18 19 20 21 22 23 24 25 26 27 28 29 30 31 32 33 34 35 36 37 38 39 40 41 42 43 44 45 46 47 48 49 50 51 52 53 54 55 56 57 58 59 60 61 62 63 64 65 66 67 68 69 70 71 72 73 74 75 76 77 78 79 80 81 82 83 84 85 86 87 88 89 90 91 92 93 94 95 96 97 98 99 100 101 102 103 104 105 106 107 108 109 110 111 112 113 114 115 116 117 118 119 120 121 122 123 124 125 126 127 128 129 130 131 132 133 134 135 136 137 138 139 140 141 142 143 144 145 146 147 148 149 150 151 152 153 154 155 156 157 158 159 160 161 162 163 164 165 166 167 168 169 170 171 172 173 174 175 176 177 178 179 180 181 182 183 184 185 186 187 188 189 190 191 192 193 194 195 196 197 198 199 200 201 202 203 204 205 206 207 208 209 210 211 212 213 214 215 216 217 218 219 220 221 222 223 224 225 226 227 228 229 230 231 232 233 234 235 236 237 238 239 240 241 242 243 244 245 246 247 248 249 250 251 252 253 254 255 256 257 258 259 260 261 262 263 264 265 266 267 268 269 270 271 272 273 274 275 276 277 278 279 280 281 282 283 284 285 286 287 288 289 290 291 292 293 294 295 296 297 298 299 300 301 302 303 304 305 306 307 308 309 310 311 312 313 314 315 316 317 318 319 320 321 322 323 324 325 326 327 328 329 330 331 332 333 334 335 336 337 338 339 340 341 342 343 344 345 346 347 348 349 350 351 352 353 354 355 356 357 358 359 360 361 362 363 364 365 366 367 368 369 370 371 372 373 374 375 376 377 378 379 380 381 382 383 384 385 386 387 388 389 390 391 392 393 394 395 396 397 398 399 400 401 402 403 404 405 406 407 408 409 410 411 412 413 414 415 416 417 418 419 420 421 422 423 424 425 426 427 428 429 430 431 432 433 434 435 436 437 438 439 440 441 442 443 444 445 446 447 448 449 450 451 452 453 454 455 456 457 458 459 460 461 462 463 464 465 466 467 468 469 470 471 472 473 474 475 476 477 478 479 480 481 482 483 484 485 486 487 488 489 490 491 492 493 494 495 496 497 498 499 500 501 502 503 504 505 506 507 508 509 510 511 512 513 514 515 516 517 518 519 520 521 522 523 524 525 526 527 528 529 530 531 532 533 534 535 536 537 538 539 540 541 542 543 544 545 546 547 548 549 550 551 552 553 554 555 556 557 558 559 560 561 562 563 564 565 566 567 568 569 570 571 572 573 574 575 576 577 578 579 580 581 582 583 584 585 586 587 588 589 590 591 592 593 594 595 596 597 598 599 600 601 602 603 604 605 606 607 608 609 610 611 612 613 614 615 616 617 618 619 620 621 622 623 624 625 626 627 628 629 630 631 632 633 634 635 636 637 638 639 640 641 642 643 644 645 646 647 648 649 650 651 652 653 654 655 656 657 658 659 660 661 662 663 664 665 666 667 668 669 670 671 672 673 674 675 676 677 678 679 680 681 682 683 684 685 686 687 688 689 690 691 692 693 694 695 696 697 698 699 700 701 702 703 704 705 706 707 708 709 710 711 712 713 714 715 716 717 718 719 720 721 722 723 724 725 726 727 728 729 730 731 732 733 734 735 736 737 738 739 740 741 742 743 744 745 746 747 748 749 750 751 752 753 754 755 756 757 758 759 760 761 762 763 764 765 766 767 768 769 770 771 772 773 774 775 776 777 778 779 780 781 782 783 784 785 786 787 788 789 790 791 792 793 794 795 796 797 798 799 800 801 802 803 804 805 806 807 808 809 810 811 812 813 814 815 816 817 818 819 820 821 822 823 824 825 826 827 828 829 830 831 832 833 834 835 836 837 838 839 840 841 842 843 844 845 846 847 848 849 850 851 852 853 854 855 856 857 858 859 860 861 862 863 864 865 866 867 868 869 870 871 872 873 874 875 876 877 878 879 880 881 882 883 884 885 886 887 888 889 890 891 892 893 894 895 896 897 898 899 900 901 902 903 904 905 906 907 908 909 910 911 912 913 914 915 916 917 918 919 920 921 922 923 924 925 926 927 928 929 930 931 932 933 934 935 936 937 938 939 940 941 942 943 944 945 946 947 948 949 950 951 952 953 954 955 956 957 958 959 960 961 962 963 964 965 966 967 968 969 970 971 972 973 974 975 976 977 978 979 980 981 982 983 984 985 986 987 988 989 990 991 "
          ]
        },
        {
          "ename": "KeyboardInterrupt",
          "evalue": "",
          "output_type": "error",
          "traceback": [
            "\u001b[1;31m---------------------------------------------------------------------------\u001b[0m",
            "\u001b[1;31mKeyboardInterrupt\u001b[0m                         Traceback (most recent call last)",
            "\u001b[1;32m~\\AppData\\Local\\Temp\\ipykernel_31476\\2450763002.py\u001b[0m in \u001b[0;36m?\u001b[1;34m()\u001b[0m\n\u001b[0;32m      5\u001b[0m \u001b[1;32mfor\u001b[0m \u001b[0mi\u001b[0m \u001b[1;32min\u001b[0m \u001b[0mrange\u001b[0m\u001b[1;33m(\u001b[0m\u001b[0mlen\u001b[0m\u001b[1;33m(\u001b[0m\u001b[0midx\u001b[0m\u001b[1;33m)\u001b[0m\u001b[1;33m-\u001b[0m\u001b[1;36m1\u001b[0m\u001b[1;33m)\u001b[0m\u001b[1;33m:\u001b[0m\u001b[1;33m\u001b[0m\u001b[1;33m\u001b[0m\u001b[0m\n\u001b[0;32m      6\u001b[0m     \u001b[0mlst\u001b[0m \u001b[1;33m=\u001b[0m \u001b[0mrelation_state\u001b[0m\u001b[1;33m[\u001b[0m\u001b[1;34m'이름'\u001b[0m\u001b[1;33m]\u001b[0m\u001b[1;33m[\u001b[0m\u001b[0midx\u001b[0m\u001b[1;33m[\u001b[0m\u001b[0mi\u001b[0m\u001b[1;33m]\u001b[0m\u001b[1;33m:\u001b[0m\u001b[0midx\u001b[0m\u001b[1;33m[\u001b[0m\u001b[0mi\u001b[0m\u001b[1;33m+\u001b[0m\u001b[1;36m1\u001b[0m\u001b[1;33m]\u001b[0m\u001b[1;33m]\u001b[0m\u001b[1;33m.\u001b[0m\u001b[0mcopy\u001b[0m\u001b[1;33m(\u001b[0m\u001b[1;33m)\u001b[0m\u001b[1;33m.\u001b[0m\u001b[0msort_values\u001b[0m\u001b[1;33m(\u001b[0m\u001b[1;33m)\u001b[0m\u001b[1;33m.\u001b[0m\u001b[0mreset_index\u001b[0m\u001b[1;33m(\u001b[0m\u001b[0mdrop\u001b[0m \u001b[1;33m=\u001b[0m \u001b[1;32mTrue\u001b[0m\u001b[1;33m)\u001b[0m\u001b[1;33m\u001b[0m\u001b[1;33m\u001b[0m\u001b[0m\n\u001b[0;32m      7\u001b[0m     \u001b[1;32mfor\u001b[0m \u001b[0mj\u001b[0m \u001b[1;32min\u001b[0m \u001b[0mrange\u001b[0m\u001b[1;33m(\u001b[0m\u001b[0mlen\u001b[0m\u001b[1;33m(\u001b[0m\u001b[0mlst\u001b[0m\u001b[1;33m)\u001b[0m\u001b[1;33m-\u001b[0m\u001b[1;36m1\u001b[0m\u001b[1;33m)\u001b[0m\u001b[1;33m:\u001b[0m\u001b[1;33m\u001b[0m\u001b[1;33m\u001b[0m\u001b[0m\n\u001b[0;32m      8\u001b[0m         \u001b[1;32mfor\u001b[0m \u001b[0mk\u001b[0m \u001b[1;32min\u001b[0m \u001b[0mrange\u001b[0m\u001b[1;33m(\u001b[0m\u001b[0mj\u001b[0m\u001b[1;33m+\u001b[0m\u001b[1;36m1\u001b[0m\u001b[1;33m,\u001b[0m \u001b[0mlen\u001b[0m\u001b[1;33m(\u001b[0m\u001b[0mlst\u001b[0m\u001b[1;33m)\u001b[0m\u001b[1;33m)\u001b[0m\u001b[1;33m:\u001b[0m\u001b[1;33m\u001b[0m\u001b[1;33m\u001b[0m\u001b[0m\n\u001b[1;32m----> 9\u001b[1;33m             \u001b[0mdf_graph\u001b[0m\u001b[1;33m.\u001b[0m\u001b[0mloc\u001b[0m\u001b[1;33m[\u001b[0m\u001b[1;33m(\u001b[0m\u001b[0mlst\u001b[0m\u001b[1;33m[\u001b[0m\u001b[0mj\u001b[0m\u001b[1;33m]\u001b[0m\u001b[1;33m,\u001b[0m \u001b[0mlst\u001b[0m\u001b[1;33m[\u001b[0m\u001b[0mk\u001b[0m\u001b[1;33m]\u001b[0m\u001b[1;33m)\u001b[0m\u001b[1;33m,\u001b[0m \u001b[1;33m[\u001b[0m\u001b[0mrelation_state\u001b[0m\u001b[1;33m[\u001b[0m\u001b[1;34m'상태'\u001b[0m\u001b[1;33m]\u001b[0m\u001b[1;33m[\u001b[0m\u001b[0midx\u001b[0m\u001b[1;33m[\u001b[0m\u001b[0mi\u001b[0m\u001b[1;33m]\u001b[0m\u001b[1;33m]\u001b[0m\u001b[1;33m]\u001b[0m\u001b[1;33m]\u001b[0m \u001b[1;33m+=\u001b[0m \u001b[1;36m1\u001b[0m\u001b[1;33m\u001b[0m\u001b[1;33m\u001b[0m\u001b[0m\n\u001b[0m\u001b[0;32m     10\u001b[0m     \u001b[0mprint\u001b[0m\u001b[1;33m(\u001b[0m\u001b[0mcnt\u001b[0m\u001b[1;33m,\u001b[0m \u001b[0mend\u001b[0m \u001b[1;33m=\u001b[0m \u001b[1;34m' '\u001b[0m\u001b[1;33m)\u001b[0m\u001b[1;33m\u001b[0m\u001b[1;33m\u001b[0m\u001b[0m\n\u001b[0;32m     11\u001b[0m     \u001b[0mcnt\u001b[0m\u001b[1;33m+=\u001b[0m\u001b[1;36m1\u001b[0m\u001b[1;33m\u001b[0m\u001b[1;33m\u001b[0m\u001b[0m\n\u001b[0;32m     12\u001b[0m     \u001b[1;32mif\u001b[0m \u001b[0mcnt\u001b[0m \u001b[1;33m%\u001b[0m \u001b[1;36m1000\u001b[0m \u001b[1;33m==\u001b[0m \u001b[1;36m0\u001b[0m\u001b[1;33m:\u001b[0m\u001b[1;33m\u001b[0m\u001b[1;33m\u001b[0m\u001b[0m\n",
            "\u001b[1;32mc:\\Users\\parkg\\anaconda3\\Lib\\site-packages\\pandas\\core\\indexing.py\u001b[0m in \u001b[0;36m?\u001b[1;34m(self, key, value)\u001b[0m\n\u001b[0;32m    814\u001b[0m         \u001b[0mindexer\u001b[0m \u001b[1;33m=\u001b[0m \u001b[0mself\u001b[0m\u001b[1;33m.\u001b[0m\u001b[0m_get_setitem_indexer\u001b[0m\u001b[1;33m(\u001b[0m\u001b[0mkey\u001b[0m\u001b[1;33m)\u001b[0m\u001b[1;33m\u001b[0m\u001b[1;33m\u001b[0m\u001b[0m\n\u001b[0;32m    815\u001b[0m         \u001b[0mself\u001b[0m\u001b[1;33m.\u001b[0m\u001b[0m_has_valid_setitem_indexer\u001b[0m\u001b[1;33m(\u001b[0m\u001b[0mkey\u001b[0m\u001b[1;33m)\u001b[0m\u001b[1;33m\u001b[0m\u001b[1;33m\u001b[0m\u001b[0m\n\u001b[0;32m    816\u001b[0m \u001b[1;33m\u001b[0m\u001b[0m\n\u001b[0;32m    817\u001b[0m         \u001b[0miloc\u001b[0m \u001b[1;33m=\u001b[0m \u001b[0mself\u001b[0m \u001b[1;32mif\u001b[0m \u001b[0mself\u001b[0m\u001b[1;33m.\u001b[0m\u001b[0mname\u001b[0m \u001b[1;33m==\u001b[0m \u001b[1;34m\"iloc\"\u001b[0m \u001b[1;32melse\u001b[0m \u001b[0mself\u001b[0m\u001b[1;33m.\u001b[0m\u001b[0mobj\u001b[0m\u001b[1;33m.\u001b[0m\u001b[0miloc\u001b[0m\u001b[1;33m\u001b[0m\u001b[1;33m\u001b[0m\u001b[0m\n\u001b[1;32m--> 818\u001b[1;33m         \u001b[0miloc\u001b[0m\u001b[1;33m.\u001b[0m\u001b[0m_setitem_with_indexer\u001b[0m\u001b[1;33m(\u001b[0m\u001b[0mindexer\u001b[0m\u001b[1;33m,\u001b[0m \u001b[0mvalue\u001b[0m\u001b[1;33m,\u001b[0m \u001b[0mself\u001b[0m\u001b[1;33m.\u001b[0m\u001b[0mname\u001b[0m\u001b[1;33m)\u001b[0m\u001b[1;33m\u001b[0m\u001b[1;33m\u001b[0m\u001b[0m\n\u001b[0m",
            "\u001b[1;32mc:\\Users\\parkg\\anaconda3\\Lib\\site-packages\\pandas\\core\\indexing.py\u001b[0m in \u001b[0;36m?\u001b[1;34m(self, indexer, value, name)\u001b[0m\n\u001b[0;32m   1791\u001b[0m \u001b[1;33m\u001b[0m\u001b[0m\n\u001b[0;32m   1792\u001b[0m         \u001b[1;31m# align and set the values\u001b[0m\u001b[1;33m\u001b[0m\u001b[1;33m\u001b[0m\u001b[0m\n\u001b[0;32m   1793\u001b[0m         \u001b[1;32mif\u001b[0m \u001b[0mtake_split_path\u001b[0m\u001b[1;33m:\u001b[0m\u001b[1;33m\u001b[0m\u001b[1;33m\u001b[0m\u001b[0m\n\u001b[0;32m   1794\u001b[0m             \u001b[1;31m# We have to operate column-wise\u001b[0m\u001b[1;33m\u001b[0m\u001b[1;33m\u001b[0m\u001b[0m\n\u001b[1;32m-> 1795\u001b[1;33m             \u001b[0mself\u001b[0m\u001b[1;33m.\u001b[0m\u001b[0m_setitem_with_indexer_split_path\u001b[0m\u001b[1;33m(\u001b[0m\u001b[0mindexer\u001b[0m\u001b[1;33m,\u001b[0m \u001b[0mvalue\u001b[0m\u001b[1;33m,\u001b[0m \u001b[0mname\u001b[0m\u001b[1;33m)\u001b[0m\u001b[1;33m\u001b[0m\u001b[1;33m\u001b[0m\u001b[0m\n\u001b[0m\u001b[0;32m   1796\u001b[0m         \u001b[1;32melse\u001b[0m\u001b[1;33m:\u001b[0m\u001b[1;33m\u001b[0m\u001b[1;33m\u001b[0m\u001b[0m\n\u001b[0;32m   1797\u001b[0m             \u001b[0mself\u001b[0m\u001b[1;33m.\u001b[0m\u001b[0m_setitem_single_block\u001b[0m\u001b[1;33m(\u001b[0m\u001b[0mindexer\u001b[0m\u001b[1;33m,\u001b[0m \u001b[0mvalue\u001b[0m\u001b[1;33m,\u001b[0m \u001b[0mname\u001b[0m\u001b[1;33m)\u001b[0m\u001b[1;33m\u001b[0m\u001b[1;33m\u001b[0m\u001b[0m\n",
            "\u001b[1;32mc:\\Users\\parkg\\anaconda3\\Lib\\site-packages\\pandas\\core\\indexing.py\u001b[0m in \u001b[0;36m?\u001b[1;34m(self, indexer, value, name)\u001b[0m\n\u001b[0;32m   1864\u001b[0m \u001b[1;33m\u001b[0m\u001b[0m\n\u001b[0;32m   1865\u001b[0m             \u001b[1;32melif\u001b[0m \u001b[0mlen\u001b[0m\u001b[1;33m(\u001b[0m\u001b[0milocs\u001b[0m\u001b[1;33m)\u001b[0m \u001b[1;33m==\u001b[0m \u001b[0mlen\u001b[0m\u001b[1;33m(\u001b[0m\u001b[0mvalue\u001b[0m\u001b[1;33m)\u001b[0m\u001b[1;33m:\u001b[0m\u001b[1;33m\u001b[0m\u001b[1;33m\u001b[0m\u001b[0m\n\u001b[0;32m   1866\u001b[0m                 \u001b[1;31m# We are setting multiple columns in a single row.\u001b[0m\u001b[1;33m\u001b[0m\u001b[1;33m\u001b[0m\u001b[0m\n\u001b[0;32m   1867\u001b[0m                 \u001b[1;32mfor\u001b[0m \u001b[0mloc\u001b[0m\u001b[1;33m,\u001b[0m \u001b[0mv\u001b[0m \u001b[1;32min\u001b[0m \u001b[0mzip\u001b[0m\u001b[1;33m(\u001b[0m\u001b[0milocs\u001b[0m\u001b[1;33m,\u001b[0m \u001b[0mvalue\u001b[0m\u001b[1;33m)\u001b[0m\u001b[1;33m:\u001b[0m\u001b[1;33m\u001b[0m\u001b[1;33m\u001b[0m\u001b[0m\n\u001b[1;32m-> 1868\u001b[1;33m                     \u001b[0mself\u001b[0m\u001b[1;33m.\u001b[0m\u001b[0m_setitem_single_column\u001b[0m\u001b[1;33m(\u001b[0m\u001b[0mloc\u001b[0m\u001b[1;33m,\u001b[0m \u001b[0mv\u001b[0m\u001b[1;33m,\u001b[0m \u001b[0mpi\u001b[0m\u001b[1;33m)\u001b[0m\u001b[1;33m\u001b[0m\u001b[1;33m\u001b[0m\u001b[0m\n\u001b[0m\u001b[0;32m   1869\u001b[0m \u001b[1;33m\u001b[0m\u001b[0m\n\u001b[0;32m   1870\u001b[0m             \u001b[1;32melif\u001b[0m \u001b[0mlen\u001b[0m\u001b[1;33m(\u001b[0m\u001b[0milocs\u001b[0m\u001b[1;33m)\u001b[0m \u001b[1;33m==\u001b[0m \u001b[1;36m1\u001b[0m \u001b[1;32mand\u001b[0m \u001b[0mcom\u001b[0m\u001b[1;33m.\u001b[0m\u001b[0mis_null_slice\u001b[0m\u001b[1;33m(\u001b[0m\u001b[0mpi\u001b[0m\u001b[1;33m)\u001b[0m \u001b[1;32mand\u001b[0m \u001b[0mlen\u001b[0m\u001b[1;33m(\u001b[0m\u001b[0mself\u001b[0m\u001b[1;33m.\u001b[0m\u001b[0mobj\u001b[0m\u001b[1;33m)\u001b[0m \u001b[1;33m==\u001b[0m \u001b[1;36m0\u001b[0m\u001b[1;33m:\u001b[0m\u001b[1;33m\u001b[0m\u001b[1;33m\u001b[0m\u001b[0m\n\u001b[0;32m   1871\u001b[0m                 \u001b[1;31m# This is a setitem-with-expansion, see\u001b[0m\u001b[1;33m\u001b[0m\u001b[1;33m\u001b[0m\u001b[0m\n",
            "\u001b[1;32mc:\\Users\\parkg\\anaconda3\\Lib\\site-packages\\pandas\\core\\indexing.py\u001b[0m in \u001b[0;36m?\u001b[1;34m(self, loc, value, plane_indexer)\u001b[0m\n\u001b[0;32m   1989\u001b[0m         \u001b[1;32melse\u001b[0m\u001b[1;33m:\u001b[0m\u001b[1;33m\u001b[0m\u001b[1;33m\u001b[0m\u001b[0m\n\u001b[0;32m   1990\u001b[0m             \u001b[1;31m# set value into the column (first attempting to operate inplace, then\u001b[0m\u001b[1;33m\u001b[0m\u001b[1;33m\u001b[0m\u001b[0m\n\u001b[0;32m   1991\u001b[0m             \u001b[1;31m#  falling back to casting if necessary)\u001b[0m\u001b[1;33m\u001b[0m\u001b[1;33m\u001b[0m\u001b[0m\n\u001b[0;32m   1992\u001b[0m             \u001b[0mself\u001b[0m\u001b[1;33m.\u001b[0m\u001b[0mobj\u001b[0m\u001b[1;33m.\u001b[0m\u001b[0m_mgr\u001b[0m\u001b[1;33m.\u001b[0m\u001b[0mcolumn_setitem\u001b[0m\u001b[1;33m(\u001b[0m\u001b[0mloc\u001b[0m\u001b[1;33m,\u001b[0m \u001b[0mplane_indexer\u001b[0m\u001b[1;33m,\u001b[0m \u001b[0mvalue\u001b[0m\u001b[1;33m)\u001b[0m\u001b[1;33m\u001b[0m\u001b[1;33m\u001b[0m\u001b[0m\n\u001b[1;32m-> 1993\u001b[1;33m             \u001b[0mself\u001b[0m\u001b[1;33m.\u001b[0m\u001b[0mobj\u001b[0m\u001b[1;33m.\u001b[0m\u001b[0m_clear_item_cache\u001b[0m\u001b[1;33m(\u001b[0m\u001b[1;33m)\u001b[0m\u001b[1;33m\u001b[0m\u001b[1;33m\u001b[0m\u001b[0m\n\u001b[0m\u001b[0;32m   1994\u001b[0m             \u001b[1;32mreturn\u001b[0m\u001b[1;33m\u001b[0m\u001b[1;33m\u001b[0m\u001b[0m\n\u001b[0;32m   1995\u001b[0m \u001b[1;33m\u001b[0m\u001b[0m\n\u001b[0;32m   1996\u001b[0m         \u001b[0mself\u001b[0m\u001b[1;33m.\u001b[0m\u001b[0mobj\u001b[0m\u001b[1;33m.\u001b[0m\u001b[0m_iset_item\u001b[0m\u001b[1;33m(\u001b[0m\u001b[0mloc\u001b[0m\u001b[1;33m,\u001b[0m \u001b[0mvalue\u001b[0m\u001b[1;33m)\u001b[0m\u001b[1;33m\u001b[0m\u001b[1;33m\u001b[0m\u001b[0m\n",
            "\u001b[1;32mc:\\Users\\parkg\\anaconda3\\Lib\\site-packages\\pandas\\core\\frame.py\u001b[0m in \u001b[0;36m?\u001b[1;34m(self)\u001b[0m\n\u001b[1;32m-> 4271\u001b[1;33m     \u001b[1;32mdef\u001b[0m \u001b[0m_clear_item_cache\u001b[0m\u001b[1;33m(\u001b[0m\u001b[0mself\u001b[0m\u001b[1;33m)\u001b[0m \u001b[1;33m->\u001b[0m \u001b[1;32mNone\u001b[0m\u001b[1;33m:\u001b[0m\u001b[1;33m\u001b[0m\u001b[1;33m\u001b[0m\u001b[0m\n\u001b[0m\u001b[0;32m   4272\u001b[0m         \u001b[0mself\u001b[0m\u001b[1;33m.\u001b[0m\u001b[0m_item_cache\u001b[0m\u001b[1;33m.\u001b[0m\u001b[0mclear\u001b[0m\u001b[1;33m(\u001b[0m\u001b[1;33m)\u001b[0m\u001b[1;33m\u001b[0m\u001b[1;33m\u001b[0m\u001b[0m\n",
            "\u001b[1;31mKeyboardInterrupt\u001b[0m: "
          ]
        },
        {
          "ename": "",
          "evalue": "",
          "output_type": "error",
          "traceback": [
            "\u001b[1;31m현재 셀 또는 이전 셀에서 코드를 실행하는 동안 Kernel이 충돌했습니다. 셀의 코드를 검토하여 오류의 가능한 원인을 식별하세요. 자세한 내용을 보려면 <a href='https://aka.ms/vscodeJupyterKernelCrash'> 여기 </a> 를 클릭하세요. 자세한 내용은 Jupyter <a href='command:jupyter.viewOutput'>로그</a>를 참조하세요."
          ]
        }
      ],
      "source": [
        "df_graph.sort_index(inplace = True) # 경고가 자꾸 떠서...\n",
        "print(f'총 의원 명수: {len(relation_state)}') # 총 307,707명의 의원,,,\n",
        "print(f'총 법안 개수: {len(idx)}') # 총 22,956개의 데이터...\n",
        "cnt = 0\n",
        "for i in range(len(idx)-1):\n",
        "    lst = relation_state['이름'][idx[i]:idx[i+1]].copy().sort_values().reset_index(drop = True)\n",
        "    for j in range(len(lst)-1): \n",
        "        for k in range(j+1, len(lst)):\n",
        "            df_graph.loc[(lst[j], lst[k]), [relation_state['상태'][idx[i]]]] += 1\n",
        "    print(cnt, end = ' ')\n",
        "    cnt+=1\n",
        "    if cnt % 1000 == 0:\n",
        "        print()\n",
        "df_graph.to_csv('./raw_data/graph_edge.csv')"
      ]
    },
    {
      "cell_type": "code",
      "execution_count": null,
      "metadata": {
        "id": "49dvpsy8wBIW"
      },
      "outputs": [],
      "source": [
        "graph_edge = pd.read_csv('./raw_data/graph_edge.csv')\n",
        "graph_edge.head(3)"
      ]
    },
    {
      "cell_type": "code",
      "execution_count": null,
      "metadata": {
        "id": "A4Z3CHmRa_Ly"
      },
      "outputs": [],
      "source": [
        "graph_edge['상호작용'] = graph_edge.loc[:][:].sum(axis = 1)\n",
        "graph_edge['positive'] = graph_edge['공포'] + graph_edge['본회의의결']\n",
        "graph_edge['neutral'] = graph_edge['수정안반영폐기'] + graph_edge['대안반영폐기']\n",
        "graph_edge['negative'] = graph_edge['폐기']\n",
        "graph_edge['remain'] = graph_edge['정부이송'] + graph_edge['본회의불부의'] + graph_edge['체계자구심사'] + graph_edge['소관위심사'] + graph_edge['소관위접수'] + graph_edge['철회'] + graph_edge['본회의부의안건'] + graph_edge['접수']\n",
        "graph_edge = graph_edge[['의원A','의원B','상호작용','positive','neutral','negative','remain']]\n",
        "graph_edge.head(3)"
      ]
    },
    {
      "cell_type": "code",
      "execution_count": null,
      "metadata": {
        "id": "hqqI9zqibeQZ"
      },
      "outputs": [],
      "source": [
        "nx_G = nx.from_pandas_edgelist(graph_edge, source = '의원A', target = '의원B', create_using = nx.Graph())\n",
        "nx_G"
      ]
    },
    {
      "cell_type": "code",
      "execution_count": null,
      "metadata": {
        "id": "ru-XwaohcQVe"
      },
      "outputs": [],
      "source": [
        "nx_G.number_of_edges(), nx_G.number_of_nodes()"
      ]
    },
    {
      "cell_type": "markdown",
      "metadata": {
        "id": "LIu7F-Jz5qEL"
      },
      "source": [
        "1. top 10% 국회의원이 얼마나 전체 상호작용의 얼마에 참여하는가?"
      ]
    },
    {
      "cell_type": "code",
      "execution_count": null,
      "metadata": {
        "id": "he9FAyiS5z0W"
      },
      "outputs": [],
      "source": [
        "df['상호작용'].sort_values(ascending = False)"
      ]
    },
    {
      "cell_type": "code",
      "execution_count": null,
      "metadata": {
        "id": "emyKqOk16MnI"
      },
      "outputs": [],
      "source": [
        "# 상위 10% -> 20%\n",
        "df['상호작용'].sort_values(ascending = False)[:30].sum() / df['상호작용'].sum()"
      ]
    },
    {
      "cell_type": "code",
      "execution_count": null,
      "metadata": {
        "id": "yXTj2EMt6t1j"
      },
      "outputs": [],
      "source": [
        "# 하위 10% -> 3%\n",
        "df['상호작용'].sort_values()[:30].sum() / df['상호작용'].sum()"
      ]
    },
    {
      "cell_type": "markdown",
      "metadata": {
        "id": "kx2AKpm5Wdi6"
      },
      "source": [
        "2. degree of separation?"
      ]
    },
    {
      "cell_type": "code",
      "execution_count": null,
      "metadata": {
        "id": "dNvteliMWZXT"
      },
      "outputs": [],
      "source": [
        "dos = sorted(list(graph_edge.상호작용.value_counts()))\n",
        "print(dos, sep = ' ') # 어...? degree of separation의 평균은 \"1\"...이다..."
      ]
    },
    {
      "cell_type": "markdown",
      "metadata": {
        "id": "Gl5zjKWKYdhc"
      },
      "source": [
        "3. 평균적으로 얼마나 많은 사람들이 법안에 참여하는지?"
      ]
    },
    {
      "cell_type": "code",
      "execution_count": null,
      "metadata": {
        "id": "P8wR3cFQXl69"
      },
      "outputs": [],
      "source": [
        "law = []\n",
        "for i in range(len(idx)-1):\n",
        "  law.append(idx[i+1]-idx[i])\n",
        "print(law, sep = ' ')"
      ]
    },
    {
      "cell_type": "code",
      "execution_count": null,
      "metadata": {
        "id": "PRYsdWRPPtoA"
      },
      "outputs": [],
      "source": [
        "sorted(law, reverse = True)"
      ]
    },
    {
      "cell_type": "code",
      "execution_count": null,
      "metadata": {
        "id": "qIjUmwQD-rJN"
      },
      "outputs": [],
      "source": [
        "relation_state[:][1110:1120]"
      ]
    },
    {
      "cell_type": "code",
      "execution_count": null,
      "metadata": {
        "id": "HpBn4qwh_Ej4"
      },
      "outputs": [],
      "source": [
        "state[state['인덱스'] == 'PRC_I2N3X1L0I1H3H1V7X5J0K2H3V7I5D8']"
      ]
    },
    {
      "cell_type": "code",
      "execution_count": null,
      "metadata": {
        "id": "2VphbmxnYRl-"
      },
      "outputs": [],
      "source": [
        "pd.Series(law).describe()"
      ]
    },
    {
      "cell_type": "code",
      "execution_count": null,
      "metadata": {
        "id": "ycn3wewHqlWD"
      },
      "outputs": [],
      "source": [
        "np.percentile(law, [90, 95, 99])"
      ]
    },
    {
      "cell_type": "code",
      "execution_count": null,
      "metadata": {
        "id": "DI5PvnxRn1FD"
      },
      "outputs": [],
      "source": [
        "cdf = np.arange(1, len(np.sort(law)) + 1) / len(np.sort(law))\n",
        "plt.plot(np.sort(law), cdf)"
      ]
    },
    {
      "cell_type": "markdown",
      "metadata": {
        "id": "9iIbjinsyFKM"
      },
      "source": [
        "4. 초당적 협력"
      ]
    },
    {
      "cell_type": "code",
      "execution_count": null,
      "metadata": {
        "id": "gGnT-DkNzD7B"
      },
      "outputs": [],
      "source": [
        "rel = relation_state.copy()\n",
        "rel.set_index(['인덱스'], inplace = True)\n",
        "rel.head(3)"
      ]
    },
    {
      "cell_type": "code",
      "execution_count": null,
      "metadata": {
        "id": "1JmgkA3gJO2J"
      },
      "outputs": [],
      "source": [
        "chodang = []\n",
        "rel_idx = rel.index.unique()\n",
        "rel_tmp = rel[:]['정당명'].copy()\n",
        "cnt = 0\n",
        "for i in rel_idx:\n",
        "  if type(rel_tmp[i]) != str:\n",
        "    rel_tmp[i].unique()\n",
        "    chodang.append(rel_tmp[i].unique())\n",
        "  else:\n",
        "    chodang.append(list(rel_tmp[i]))\n",
        "  print(cnt, end = ' ')\n",
        "  cnt += 1\n",
        "print(chodang, sep = ' ')"
      ]
    },
    {
      "cell_type": "code",
      "execution_count": null,
      "metadata": {
        "id": "vS8NdK0pODOJ"
      },
      "outputs": [],
      "source": [
        "S = pd.Series(chodang)\n",
        "S.value_counts()"
      ]
    },
    {
      "cell_type": "markdown",
      "metadata": {
        "id": "zq1_iPMQsXZi"
      },
      "source": [
        "5. 의원"
      ]
    },
    {
      "cell_type": "code",
      "execution_count": null,
      "metadata": {
        "id": "v0jTwdrRsY7u"
      },
      "outputs": [],
      "source": [
        "df_temp = pd.merge(member[['이름','정당명']], df, how = 'inner', on = '이름')\n",
        "df_temp.head(3)"
      ]
    },
    {
      "cell_type": "code",
      "execution_count": null,
      "metadata": {
        "id": "vDDRMddOumUn"
      },
      "outputs": [],
      "source": [
        "dang = df_temp.groupby('정당명').mean()\n",
        "dang['pos%'] = dang['positive'] / dang['상호작용']\n",
        "dang['neu%'] = dang['neutral'] / dang['상호작용']\n",
        "dang['neg%'] = dang['negative'] / dang['상호작용']\n",
        "dang['rem%'] = dang['remain'] / dang['상호작용']\n",
        "dang"
      ]
    },
    {
      "cell_type": "markdown",
      "metadata": {
        "id": "SGPh4582wmN5"
      },
      "source": [
        "야당일 수록 계류 대신 의결안이 더 많을 것이다.\n",
        "그렇진 않은걸"
      ]
    },
    {
      "cell_type": "code",
      "execution_count": null,
      "metadata": {
        "id": "0g_n8-CVxUAN"
      },
      "outputs": [],
      "source": [
        "df_temp2 = pd.merge(member[['이름','위원회']], df, how = 'inner', on = '이름')\n",
        "df_temp2.head(3)"
      ]
    },
    {
      "cell_type": "code",
      "execution_count": null,
      "metadata": {
        "id": "B7_GMQ-mxmdL"
      },
      "outputs": [],
      "source": [
        "commi = df_temp2.groupby('위원회').mean()\n",
        "commi['pos%'] = commi['positive'] / commi['상호작용']\n",
        "commi['neu%'] = commi['neutral'] / commi['상호작용']\n",
        "commi['neg%'] = commi['negative'] / commi['상호작용']\n",
        "commi['rem%'] = commi['remain'] / commi['상호작용']\n",
        "commi"
      ]
    },
    {
      "cell_type": "markdown",
      "metadata": {
        "id": "dBGGlAJjyCZh"
      },
      "source": [
        "많은 위원회에 속해 있을 수록 입법 활동을 더 적극적으로 할 것이다.\n",
        "그건 또 아님"
      ]
    }
  ],
  "metadata": {
    "colab": {
      "provenance": []
    },
    "kernelspec": {
      "display_name": "Python 3",
      "name": "python3"
    },
    "language_info": {
      "codemirror_mode": {
        "name": "ipython",
        "version": 3
      },
      "file_extension": ".py",
      "mimetype": "text/x-python",
      "name": "python",
      "nbconvert_exporter": "python",
      "pygments_lexer": "ipython3",
      "version": "3.11.5"
    }
  },
  "nbformat": 4,
  "nbformat_minor": 0
}
