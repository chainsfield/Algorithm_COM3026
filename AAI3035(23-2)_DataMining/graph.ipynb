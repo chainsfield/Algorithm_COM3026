{
  "cells": [
    {
      "cell_type": "code",
      "execution_count": 1848,
      "metadata": {
        "id": "cYxIPgUQQMMw"
      },
      "outputs": [],
      "source": [
        "import pandas as pd\n",
        "import numpy as np\n",
        "import networkx as nx\n",
        "import matplotlib.pyplot as plt\n",
        "import seaborn as sns"
      ]
    },
    {
      "cell_type": "code",
      "execution_count": 1770,
      "metadata": {
        "id": "2WNe3FsGmhtn"
      },
      "outputs": [],
      "source": [
        "import warnings\n",
        "warnings.simplefilter(action = 'ignore', category = FutureWarning) # FutureWarning 제거"
      ]
    },
    {
      "cell_type": "code",
      "execution_count": 1771,
      "metadata": {
        "colab": {
          "base_uri": "https://localhost:8080/",
          "height": 301
        },
        "id": "wNDyfaKiRCXy",
        "outputId": "d5896095-9267-4aad-a49e-249a593fae81"
      },
      "outputs": [
        {
          "data": {
            "text/html": [
              "<div>\n",
              "<style scoped>\n",
              "    .dataframe tbody tr th:only-of-type {\n",
              "        vertical-align: middle;\n",
              "    }\n",
              "\n",
              "    .dataframe tbody tr th {\n",
              "        vertical-align: top;\n",
              "    }\n",
              "\n",
              "    .dataframe thead th {\n",
              "        text-align: right;\n",
              "    }\n",
              "</style>\n",
              "<table border=\"1\" class=\"dataframe\">\n",
              "  <thead>\n",
              "    <tr style=\"text-align: right;\">\n",
              "      <th></th>\n",
              "      <th>이름</th>\n",
              "      <th>한자명</th>\n",
              "      <th>영문명칭</th>\n",
              "      <th>음/양력</th>\n",
              "      <th>생년월일</th>\n",
              "      <th>정당명</th>\n",
              "      <th>선거구</th>\n",
              "      <th>대표 위원회</th>\n",
              "      <th>재선</th>\n",
              "      <th>당선</th>\n",
              "      <th>...</th>\n",
              "      <th>이메일</th>\n",
              "      <th>홈페이지</th>\n",
              "      <th>보좌관</th>\n",
              "      <th>비서관</th>\n",
              "      <th>비서</th>\n",
              "      <th>재직구분</th>\n",
              "      <th>직업</th>\n",
              "      <th>학력</th>\n",
              "      <th>경력</th>\n",
              "      <th>득표수</th>\n",
              "    </tr>\n",
              "  </thead>\n",
              "  <tbody>\n",
              "    <tr>\n",
              "      <th>0</th>\n",
              "      <td>강기윤</td>\n",
              "      <td>姜起潤</td>\n",
              "      <td>KANG GIYUN</td>\n",
              "      <td>양</td>\n",
              "      <td>1960-06-04</td>\n",
              "      <td>국민의힘</td>\n",
              "      <td>경남 창원시성산구</td>\n",
              "      <td>보건복지위원회</td>\n",
              "      <td>재선</td>\n",
              "      <td>제19대, 제21대</td>\n",
              "      <td>...</td>\n",
              "      <td>ggotop@naver.com</td>\n",
              "      <td>http://blog.naver.com/ggotop</td>\n",
              "      <td>한영애</td>\n",
              "      <td>김샛별, 장원종</td>\n",
              "      <td>안효상, 빈자영, 이유진, 김지훈, 조옥자</td>\n",
              "      <td>60001</td>\n",
              "      <td>정당인</td>\n",
              "      <td>창원대학교 대학원 졸업(행정학 박사)</td>\n",
              "      <td>(전)19대 국회의원\\n(현)미래통합당 경남도당 민생위원회 위원장</td>\n",
              "      <td>61,782\\n(47.30)</td>\n",
              "    </tr>\n",
              "  </tbody>\n",
              "</table>\n",
              "<p>1 rows × 24 columns</p>\n",
              "</div>"
            ],
            "text/plain": [
              "    이름  한자명        영문명칭 음/양력        생년월일   정당명        선거구   대표 위원회  재선  \\\n",
              "0  강기윤  姜起潤  KANG GIYUN    양  1960-06-04  국민의힘  경남 창원시성산구  보건복지위원회  재선   \n",
              "\n",
              "           당선  ...               이메일                          홈페이지  보좌관  \\\n",
              "0  제19대, 제21대  ...  ggotop@naver.com  http://blog.naver.com/ggotop  한영애   \n",
              "\n",
              "        비서관                       비서   재직구분   직업                    학력  \\\n",
              "0  김샛별, 장원종  안효상, 빈자영, 이유진, 김지훈, 조옥자  60001  정당인  창원대학교 대학원 졸업(행정학 박사)   \n",
              "\n",
              "                                     경력              득표수  \n",
              "0  (전)19대 국회의원\\n(현)미래통합당 경남도당 민생위원회 위원장  61,782\\n(47.30)  \n",
              "\n",
              "[1 rows x 24 columns]"
            ]
          },
          "execution_count": 1771,
          "metadata": {},
          "output_type": "execute_result"
        }
      ],
      "source": [
        "# 국회의원 298명에 대한 정보를 담고 있는 member df, node가 될 예정\n",
        "member = pd.read_excel('./raw_data/member_of_Congress.xlsx')\n",
        "member.head(1)"
      ]
    },
    {
      "cell_type": "code",
      "execution_count": 1772,
      "metadata": {
        "colab": {
          "base_uri": "https://localhost:8080/",
          "height": 143
        },
        "id": "xVbTPF6WXYA7",
        "outputId": "f5459857-7244-4ebc-9568-6e100ce6f92d"
      },
      "outputs": [
        {
          "data": {
            "text/html": [
              "<div>\n",
              "<style scoped>\n",
              "    .dataframe tbody tr th:only-of-type {\n",
              "        vertical-align: middle;\n",
              "    }\n",
              "\n",
              "    .dataframe tbody tr th {\n",
              "        vertical-align: top;\n",
              "    }\n",
              "\n",
              "    .dataframe thead th {\n",
              "        text-align: right;\n",
              "    }\n",
              "</style>\n",
              "<table border=\"1\" class=\"dataframe\">\n",
              "  <thead>\n",
              "    <tr style=\"text-align: right;\">\n",
              "      <th></th>\n",
              "      <th>이름</th>\n",
              "      <th>정당명</th>\n",
              "      <th>생년월일</th>\n",
              "      <th>재선</th>\n",
              "      <th>소속 위원회 목록</th>\n",
              "      <th>성별</th>\n",
              "      <th>학력</th>\n",
              "    </tr>\n",
              "  </thead>\n",
              "  <tbody>\n",
              "    <tr>\n",
              "      <th>0</th>\n",
              "      <td>강기윤(姜起潤)</td>\n",
              "      <td>국민의힘</td>\n",
              "      <td>1960-06-04</td>\n",
              "      <td>재선</td>\n",
              "      <td>보건복지위원회</td>\n",
              "      <td>남</td>\n",
              "      <td>창원대학교 대학원 졸업(행정학 박사)</td>\n",
              "    </tr>\n",
              "    <tr>\n",
              "      <th>1</th>\n",
              "      <td>강대식(姜大植)</td>\n",
              "      <td>국민의힘</td>\n",
              "      <td>1959-11-02</td>\n",
              "      <td>초선</td>\n",
              "      <td>국토교통위원회</td>\n",
              "      <td>남</td>\n",
              "      <td>영남대학교 대학원 경영학과 졸업(경영학박사)</td>\n",
              "    </tr>\n",
              "    <tr>\n",
              "      <th>2</th>\n",
              "      <td>강득구(姜得求)</td>\n",
              "      <td>더불어민주당</td>\n",
              "      <td>1963-05-27</td>\n",
              "      <td>초선</td>\n",
              "      <td>인구위기특별위원회, 교육위원회</td>\n",
              "      <td>남</td>\n",
              "      <td>연세대학교 행정대학원 졸업(행정학석사)</td>\n",
              "    </tr>\n",
              "  </tbody>\n",
              "</table>\n",
              "</div>"
            ],
            "text/plain": [
              "         이름     정당명        생년월일  재선         소속 위원회 목록 성별  \\\n",
              "0  강기윤(姜起潤)    국민의힘  1960-06-04  재선           보건복지위원회  남   \n",
              "1  강대식(姜大植)    국민의힘  1959-11-02  초선           국토교통위원회  남   \n",
              "2  강득구(姜得求)  더불어민주당  1963-05-27  초선  인구위기특별위원회, 교육위원회  남   \n",
              "\n",
              "                         학력  \n",
              "0      창원대학교 대학원 졸업(행정학 박사)  \n",
              "1  영남대학교 대학원 경영학과 졸업(경영학박사)  \n",
              "2     연세대학교 행정대학원 졸업(행정학석사)  "
            ]
          },
          "execution_count": 1772,
          "metadata": {},
          "output_type": "execute_result"
        }
      ],
      "source": [
        "# member df 전처리 과정\n",
        "member.loc[member['이름'] == '양원영', ['이름']] = '양이원영' # 이름 오류 수정\n",
        "member['이름'] = member['이름'] + '(' + member['한자명'] + ')' # primary key인 이름(한자) 생성\n",
        "member.sort_values(by = '이름', inplace = True) # 동명이인의 한자명에 따른 정렬 순서 이상 때문에 정렬 한 번\n",
        "member.reset_index(drop = True, inplace = True) # 정렬에 따른 인덱스 이상 때문에 인덱스 정렬 한 번\n",
        "member = member[['이름','정당명','생년월일','재선','소속 위원회 목록','성별','학력']]\n",
        "member.head(3) # 필요 없는 데이터 잠깐 지우겠슴다"
      ]
    },
    {
      "cell_type": "code",
      "execution_count": 1773,
      "metadata": {},
      "outputs": [
        {
          "name": "stdout",
          "output_type": "stream",
          "text": [
            "blue       168\n",
            "green      111\n",
            "grey         9\n",
            "yellow       6\n",
            "red          1\n",
            "navy         1\n",
            "#98FF98      1\n",
            "#800080      1\n",
            "Name: 당색, dtype: int64\n"
          ]
        }
      ],
      "source": [
        "# 정당별 색상 매핑을 설정합니다.\n",
        "party_colors = {\n",
        "    '국민의힘': 'green',\n",
        "    '더불어민주당': 'blue',\n",
        "    '진보당':'red',\n",
        "    '정의당': 'yellow',\n",
        "    '무소속': \"grey\",\n",
        "    '한국의희망':'navy',\n",
        "    '기본소득당':'#98FF98',\n",
        "    '시대전환':\"#800080\"\n",
        "}\n",
        "\n",
        "# 원본 member 데이터프레임에 'party_color' 컬럼을 추가합니다.\n",
        "member['당색'] = member['정당명'].map(party_colors)\n",
        "member['당색'].fillna('#000000')\n",
        "print(member['당색'].value_counts())"
      ]
    },
    {
      "cell_type": "code",
      "execution_count": 1774,
      "metadata": {
        "colab": {
          "base_uri": "https://localhost:8080/"
        },
        "id": "02G-rKP9aEDU",
        "outputId": "e2a5a5c6-ef1d-4d68-88ee-19be64bf5c1d"
      },
      "outputs": [
        {
          "data": {
            "text/plain": [
              "1    155\n",
              "2     69\n",
              "3     41\n",
              "4     20\n",
              "5     12\n",
              "6      1\n",
              "Name: 당선, dtype: int64"
            ]
          },
          "execution_count": 1774,
          "metadata": {},
          "output_type": "execute_result"
        }
      ],
      "source": [
        "# 그래프에서 feature로 활용하기 위해 당선횟수를 숫자로\n",
        "member.rename(columns = {'재선' : '당선'}, inplace = True)\n",
        "member['당선'] = member['당선'].str.replace('초', '1')\n",
        "member['당선'] = member['당선'].str.replace('재', '2')\n",
        "member['당선'] = member['당선'].str.replace('선', '')\n",
        "member['당선'] = member['당선'].apply(pd.to_numeric)\n",
        "member['당선'].value_counts()"
      ]
    },
    {
      "cell_type": "code",
      "execution_count": 1775,
      "metadata": {
        "colab": {
          "base_uri": "https://localhost:8080/",
          "height": 143
        },
        "id": "z6KnoyGUfG6F",
        "outputId": "6fa2aeaa-a744-4652-898e-2cac7a5d7c79"
      },
      "outputs": [
        {
          "data": {
            "text/html": [
              "<div>\n",
              "<style scoped>\n",
              "    .dataframe tbody tr th:only-of-type {\n",
              "        vertical-align: middle;\n",
              "    }\n",
              "\n",
              "    .dataframe tbody tr th {\n",
              "        vertical-align: top;\n",
              "    }\n",
              "\n",
              "    .dataframe thead th {\n",
              "        text-align: right;\n",
              "    }\n",
              "</style>\n",
              "<table border=\"1\" class=\"dataframe\">\n",
              "  <thead>\n",
              "    <tr style=\"text-align: right;\">\n",
              "      <th></th>\n",
              "      <th>이름</th>\n",
              "      <th>정당명</th>\n",
              "      <th>나이</th>\n",
              "      <th>당선</th>\n",
              "      <th>소속 위원회 목록</th>\n",
              "      <th>성별</th>\n",
              "      <th>학력</th>\n",
              "      <th>당색</th>\n",
              "    </tr>\n",
              "  </thead>\n",
              "  <tbody>\n",
              "    <tr>\n",
              "      <th>0</th>\n",
              "      <td>강기윤(姜起潤)</td>\n",
              "      <td>국민의힘</td>\n",
              "      <td>63</td>\n",
              "      <td>2</td>\n",
              "      <td>보건복지위원회</td>\n",
              "      <td>남</td>\n",
              "      <td>창원대학교 대학원 졸업(행정학 박사)</td>\n",
              "      <td>green</td>\n",
              "    </tr>\n",
              "    <tr>\n",
              "      <th>1</th>\n",
              "      <td>강대식(姜大植)</td>\n",
              "      <td>국민의힘</td>\n",
              "      <td>64</td>\n",
              "      <td>1</td>\n",
              "      <td>국토교통위원회</td>\n",
              "      <td>남</td>\n",
              "      <td>영남대학교 대학원 경영학과 졸업(경영학박사)</td>\n",
              "      <td>green</td>\n",
              "    </tr>\n",
              "    <tr>\n",
              "      <th>2</th>\n",
              "      <td>강득구(姜得求)</td>\n",
              "      <td>더불어민주당</td>\n",
              "      <td>60</td>\n",
              "      <td>1</td>\n",
              "      <td>인구위기특별위원회, 교육위원회</td>\n",
              "      <td>남</td>\n",
              "      <td>연세대학교 행정대학원 졸업(행정학석사)</td>\n",
              "      <td>blue</td>\n",
              "    </tr>\n",
              "  </tbody>\n",
              "</table>\n",
              "</div>"
            ],
            "text/plain": [
              "         이름     정당명  나이  당선         소속 위원회 목록 성별                        학력  \\\n",
              "0  강기윤(姜起潤)    국민의힘  63   2           보건복지위원회  남      창원대학교 대학원 졸업(행정학 박사)   \n",
              "1  강대식(姜大植)    국민의힘  64   1           국토교통위원회  남  영남대학교 대학원 경영학과 졸업(경영학박사)   \n",
              "2  강득구(姜得求)  더불어민주당  60   1  인구위기특별위원회, 교육위원회  남     연세대학교 행정대학원 졸업(행정학석사)   \n",
              "\n",
              "      당색  \n",
              "0  green  \n",
              "1  green  \n",
              "2   blue  "
            ]
          },
          "execution_count": 1775,
          "metadata": {},
          "output_type": "execute_result"
        }
      ],
      "source": [
        "# 그래프에서 feature로 활용하기 위해 생년월일 to 나이\n",
        "from datetime import datetime\n",
        "\n",
        "member['생년월일'] = member['생년월일'].str.replace('-', '')\n",
        "member['생년월일'] = pd.to_numeric(member['생년월일'])\n",
        "today = int(datetime.now().strftime(\"%Y%m%d\"))\n",
        "member['생년월일'] = (today - member['생년월일'])//10000\n",
        "member.rename(columns = {'생년월일' : '나이'}, inplace = True)\n",
        "member.head(3)"
      ]
    },
    {
      "cell_type": "code",
      "execution_count": 1776,
      "metadata": {
        "colab": {
          "base_uri": "https://localhost:8080/"
        },
        "id": "1BCqpquurmFT",
        "outputId": "9ee16614-2dae-488a-898b-e59b22594221"
      },
      "outputs": [
        {
          "data": {
            "text/plain": [
              "1    128\n",
              "2    102\n",
              "3     66\n",
              "0      2\n",
              "Name: 학력, dtype: int64"
            ]
          },
          "execution_count": 1776,
          "metadata": {},
          "output_type": "execute_result"
        }
      ],
      "source": [
        "# 그래프에서 feature로 활용하기 위해 학력 표준화\n",
        "arr = []\n",
        "for edu in member['학력']:\n",
        "  edu = str(edu)\n",
        "  if '박사' in edu and '수료' in edu:\n",
        "    arr.append(2)\n",
        "  elif '박사' in edu:\n",
        "    arr.append(3)\n",
        "  elif '수료' in edu and '석사' in edu:\n",
        "    arr.append(1)\n",
        "  elif '석사' in edu:\n",
        "    arr.append(2)\n",
        "  elif '중퇴' in edu or '고등학교' in edu:\n",
        "    arr.append(0)\n",
        "  else:\n",
        "    arr.append(1)\n",
        "\n",
        "member['학력'] = arr\n",
        "member['학력'] = pd.to_numeric(member['학력'])\n",
        "member['학력'].value_counts()"
      ]
    },
    {
      "cell_type": "code",
      "execution_count": 1777,
      "metadata": {
        "colab": {
          "base_uri": "https://localhost:8080/",
          "height": 233
        },
        "id": "5RugEurrc1l9",
        "outputId": "dee23d7d-f61e-4bad-f74b-7205164ab192"
      },
      "outputs": [
        {
          "data": {
            "text/plain": [
              "1    138\n",
              "2     99\n",
              "3     47\n",
              "4     12\n",
              "6      1\n",
              "0      1\n",
              "Name: 위원회수, dtype: int64"
            ]
          },
          "execution_count": 1777,
          "metadata": {},
          "output_type": "execute_result"
        }
      ],
      "source": [
        "com_temp = member['소속 위원회 목록'].copy()\n",
        "\n",
        "idx_temp = com_temp[com_temp.isna()].index[0]\n",
        "for i in range(len(com_temp)):\n",
        "    if i != idx_temp:\n",
        "        member.loc[i, '위원회수'] = int(com_temp.loc[i].count(',')) + 1\n",
        "member.loc[idx_temp, '위원회수'] = 0\n",
        "member['위원회수'] = member['위원회수'].astype('int')\n",
        "member['위원회수'].value_counts()"
      ]
    },
    {
      "cell_type": "code",
      "execution_count": 1778,
      "metadata": {
        "colab": {
          "base_uri": "https://localhost:8080/",
          "height": 143
        },
        "id": "YRIwbkTu03JD",
        "outputId": "b9278e4b-a77c-4c4c-8cef-4cdb760e474e"
      },
      "outputs": [
        {
          "data": {
            "text/html": [
              "<div>\n",
              "<style scoped>\n",
              "    .dataframe tbody tr th:only-of-type {\n",
              "        vertical-align: middle;\n",
              "    }\n",
              "\n",
              "    .dataframe tbody tr th {\n",
              "        vertical-align: top;\n",
              "    }\n",
              "\n",
              "    .dataframe thead th {\n",
              "        text-align: right;\n",
              "    }\n",
              "</style>\n",
              "<table border=\"1\" class=\"dataframe\">\n",
              "  <thead>\n",
              "    <tr style=\"text-align: right;\">\n",
              "      <th></th>\n",
              "      <th>PRC_M2L3N1N0M2L5J1S4Q3R7Q3O5W3V5U3</th>\n",
              "      <th>이용우</th>\n",
              "      <th>더불어민주당</th>\n",
              "      <th>李龍雨</th>\n",
              "      <th>9771184</th>\n",
              "    </tr>\n",
              "  </thead>\n",
              "  <tbody>\n",
              "    <tr>\n",
              "      <th>0</th>\n",
              "      <td>PRC_M2L3N1N0M2L5J1S4Q3R7Q3O5W3V5U3</td>\n",
              "      <td>강훈식</td>\n",
              "      <td>더불어민주당</td>\n",
              "      <td>姜勳植</td>\n",
              "      <td>9771007.0</td>\n",
              "    </tr>\n",
              "    <tr>\n",
              "      <th>1</th>\n",
              "      <td>PRC_M2L3N1N0M2L5J1S4Q3R7Q3O5W3V5U3</td>\n",
              "      <td>김상희</td>\n",
              "      <td>더불어민주당</td>\n",
              "      <td>金相姬</td>\n",
              "      <td>9770527.0</td>\n",
              "    </tr>\n",
              "    <tr>\n",
              "      <th>2</th>\n",
              "      <td>PRC_M2L3N1N0M2L5J1S4Q3R7Q3O5W3V5U3</td>\n",
              "      <td>김한규</td>\n",
              "      <td>더불어민주당</td>\n",
              "      <td>金翰奎</td>\n",
              "      <td>9771296.0</td>\n",
              "    </tr>\n",
              "  </tbody>\n",
              "</table>\n",
              "</div>"
            ],
            "text/plain": [
              "   PRC_M2L3N1N0M2L5J1S4Q3R7Q3O5W3V5U3  이용우  더불어민주당  李龍雨    9771184\n",
              "0  PRC_M2L3N1N0M2L5J1S4Q3R7Q3O5W3V5U3  강훈식  더불어민주당  姜勳植  9771007.0\n",
              "1  PRC_M2L3N1N0M2L5J1S4Q3R7Q3O5W3V5U3  김상희  더불어민주당  金相姬  9770527.0\n",
              "2  PRC_M2L3N1N0M2L5J1S4Q3R7Q3O5W3V5U3  김한규  더불어민주당  金翰奎  9771296.0"
            ]
          },
          "execution_count": 1778,
          "metadata": {},
          "output_type": "execute_result"
        }
      ],
      "source": [
        "# 가장 문제인 법안을 함께 작업한 국회의원 state\n",
        "relation_raw = pd.read_csv('./raw_data/scraped_data_3.csv')\n",
        "relation_raw.head(3)"
      ]
    },
    {
      "cell_type": "code",
      "execution_count": 1779,
      "metadata": {
        "colab": {
          "base_uri": "https://localhost:8080/",
          "height": 143
        },
        "id": "FJC-FU5NR0JW",
        "outputId": "078bd6c9-6237-4837-dcdd-c37098f62ae2"
      },
      "outputs": [
        {
          "data": {
            "text/html": [
              "<div>\n",
              "<style scoped>\n",
              "    .dataframe tbody tr th:only-of-type {\n",
              "        vertical-align: middle;\n",
              "    }\n",
              "\n",
              "    .dataframe tbody tr th {\n",
              "        vertical-align: top;\n",
              "    }\n",
              "\n",
              "    .dataframe thead th {\n",
              "        text-align: right;\n",
              "    }\n",
              "</style>\n",
              "<table border=\"1\" class=\"dataframe\">\n",
              "  <thead>\n",
              "    <tr style=\"text-align: right;\">\n",
              "      <th></th>\n",
              "      <th>법안 ID</th>\n",
              "      <th>이름</th>\n",
              "      <th>정당명</th>\n",
              "      <th>한자명</th>\n",
              "      <th>번호</th>\n",
              "    </tr>\n",
              "  </thead>\n",
              "  <tbody>\n",
              "    <tr>\n",
              "      <th>0</th>\n",
              "      <td>PRC_M2L3N1N0M2L5J1S4Q3R7Q3O5W3V5U3</td>\n",
              "      <td>이용우</td>\n",
              "      <td>더불어민주당</td>\n",
              "      <td>李龍雨</td>\n",
              "      <td>9771184</td>\n",
              "    </tr>\n",
              "    <tr>\n",
              "      <th>1</th>\n",
              "      <td>PRC_M2L3N1N0M2L5J1S4Q3R7Q3O5W3V5U3</td>\n",
              "      <td>강훈식</td>\n",
              "      <td>더불어민주당</td>\n",
              "      <td>姜勳植</td>\n",
              "      <td>9771007.0</td>\n",
              "    </tr>\n",
              "    <tr>\n",
              "      <th>2</th>\n",
              "      <td>PRC_M2L3N1N0M2L5J1S4Q3R7Q3O5W3V5U3</td>\n",
              "      <td>김상희</td>\n",
              "      <td>더불어민주당</td>\n",
              "      <td>金相姬</td>\n",
              "      <td>9770527.0</td>\n",
              "    </tr>\n",
              "  </tbody>\n",
              "</table>\n",
              "</div>"
            ],
            "text/plain": [
              "                                법안 ID   이름     정당명  한자명         번호\n",
              "0  PRC_M2L3N1N0M2L5J1S4Q3R7Q3O5W3V5U3  이용우  더불어민주당  李龍雨    9771184\n",
              "1  PRC_M2L3N1N0M2L5J1S4Q3R7Q3O5W3V5U3  강훈식  더불어민주당  姜勳植  9771007.0\n",
              "2  PRC_M2L3N1N0M2L5J1S4Q3R7Q3O5W3V5U3  김상희  더불어민주당  金相姬  9770527.0"
            ]
          },
          "execution_count": 1779,
          "metadata": {},
          "output_type": "execute_result"
        }
      ],
      "source": [
        "# 컬럼명이 없어서 전처리\n",
        "tmp1 = ['법안 ID','이름','정당명','한자명','번호']\n",
        "tmp2 = list(relation_raw.columns)\n",
        "tmp3 = pd.DataFrame([tmp2], columns = tmp1)\n",
        "relation_raw.columns = tmp3.columns.copy()\n",
        "relation = pd.concat([tmp3, relation_raw], axis = 0)\n",
        "relation.reset_index(drop = True, inplace = True)\n",
        "relation.dropna(subset = ['이름','한자명'], inplace = True) # 이름이 없는 데이터는 살릴 수 없어 과감히 drop\n",
        "relation.head(3)"
      ]
    },
    {
      "cell_type": "code",
      "execution_count": 1780,
      "metadata": {
        "colab": {
          "base_uri": "https://localhost:8080/",
          "height": 143
        },
        "id": "S2m5zhBDVUxo",
        "outputId": "d9b93380-3ad7-4128-ded1-8d38bc9cf216"
      },
      "outputs": [
        {
          "data": {
            "text/html": [
              "<div>\n",
              "<style scoped>\n",
              "    .dataframe tbody tr th:only-of-type {\n",
              "        vertical-align: middle;\n",
              "    }\n",
              "\n",
              "    .dataframe tbody tr th {\n",
              "        vertical-align: top;\n",
              "    }\n",
              "\n",
              "    .dataframe thead th {\n",
              "        text-align: right;\n",
              "    }\n",
              "</style>\n",
              "<table border=\"1\" class=\"dataframe\">\n",
              "  <thead>\n",
              "    <tr style=\"text-align: right;\">\n",
              "      <th></th>\n",
              "      <th>법안 ID</th>\n",
              "      <th>이름</th>\n",
              "      <th>정당명</th>\n",
              "      <th>번호</th>\n",
              "    </tr>\n",
              "  </thead>\n",
              "  <tbody>\n",
              "    <tr>\n",
              "      <th>0</th>\n",
              "      <td>PRC_M2L3N1N0M2L5J1S4Q3R7Q3O5W3V5U3</td>\n",
              "      <td>이용우(李龍雨)</td>\n",
              "      <td>더불어민주당</td>\n",
              "      <td>9771184</td>\n",
              "    </tr>\n",
              "    <tr>\n",
              "      <th>1</th>\n",
              "      <td>PRC_M2L3N1N0M2L5J1S4Q3R7Q3O5W3V5U3</td>\n",
              "      <td>강훈식(姜勳植)</td>\n",
              "      <td>더불어민주당</td>\n",
              "      <td>9771007.0</td>\n",
              "    </tr>\n",
              "    <tr>\n",
              "      <th>2</th>\n",
              "      <td>PRC_M2L3N1N0M2L5J1S4Q3R7Q3O5W3V5U3</td>\n",
              "      <td>김상희(金相姬)</td>\n",
              "      <td>더불어민주당</td>\n",
              "      <td>9770527.0</td>\n",
              "    </tr>\n",
              "  </tbody>\n",
              "</table>\n",
              "</div>"
            ],
            "text/plain": [
              "                                법안 ID        이름     정당명         번호\n",
              "0  PRC_M2L3N1N0M2L5J1S4Q3R7Q3O5W3V5U3  이용우(李龍雨)  더불어민주당    9771184\n",
              "1  PRC_M2L3N1N0M2L5J1S4Q3R7Q3O5W3V5U3  강훈식(姜勳植)  더불어민주당  9771007.0\n",
              "2  PRC_M2L3N1N0M2L5J1S4Q3R7Q3O5W3V5U3  김상희(金相姬)  더불어민주당  9770527.0"
            ]
          },
          "execution_count": 1780,
          "metadata": {},
          "output_type": "execute_result"
        }
      ],
      "source": [
        "# primary key인 이름(한자) 생성\n",
        "relation['이름'] = relation['이름'] + '(' + relation['한자명'] + ')'\n",
        "relation.drop(columns = ['한자명'], inplace = True)\n",
        "relation.drop_duplicates(inplace = True) # 중복 데이터를 제거\n",
        "relation.head(3)"
      ]
    },
    {
      "cell_type": "code",
      "execution_count": 1781,
      "metadata": {
        "colab": {
          "base_uri": "https://localhost:8080/"
        },
        "id": "DHx_kqqOwzh4",
        "outputId": "d70fd69a-c30d-44a4-f4ce-343beb13ee7b"
      },
      "outputs": [
        {
          "name": "stdout",
          "output_type": "stream",
          "text": [
            "법안의 의원 명수: 323. 실제 의원 명수: 298. 법안에 있는 의원이 아닌 사람 수: 26\n"
          ]
        }
      ],
      "source": [
        "# relation에는 지금은 없는 의원과 이름이 잘못된 의원이 존재\n",
        "name_arr1 = sorted(relation['이름'].unique())\n",
        "name_arr2 = sorted(list(member['이름'].copy()))\n",
        "name_arr3 = []\n",
        "for i in name_arr1:\n",
        "  if i not in name_arr2:\n",
        "    name_arr3.append(i)\n",
        "print(f'법안의 의원 명수: {len(name_arr1)}. 실제 의원 명수: {len(name_arr2)}. 법안에 있는 의원이 아닌 사람 수: {len(name_arr3)}')"
      ]
    },
    {
      "cell_type": "code",
      "execution_count": 1782,
      "metadata": {
        "colab": {
          "base_uri": "https://localhost:8080/"
        },
        "id": "u5IClAJ_w4F-",
        "outputId": "2377fd31-bf10-41cf-d9cc-8083d5e77e6b"
      },
      "outputs": [
        {
          "name": "stdout",
          "output_type": "stream",
          "text": [
            "{'고민정(IOUAiO)': '고민정(高旼廷)', '고용진(高榕진)': '고용진(高榕禛)', '김종민(金鍾民)': '김종민(金鐘民)', '박정하(朴正何)': '박정하(朴正河)', '심상정(沈相정)': '심상정(沈相奵)', '이종성(李鐘成)': '이종성(李鍾成)', '지성호(地成浩)': '지성호(池成浩)'}\n"
          ]
        }
      ],
      "source": [
        "# 이름 고쳐줄 의원들 딕셔너리\n",
        "mem_dict = {}\n",
        "for i in name_arr2:\n",
        "  for j in name_arr3:\n",
        "    if i[0:3] == j[0:3]:\n",
        "      mem_dict[j] = i\n",
        "print(mem_dict, sep = ' ')"
      ]
    },
    {
      "cell_type": "code",
      "execution_count": 1783,
      "metadata": {
        "colab": {
          "base_uri": "https://localhost:8080/"
        },
        "id": "0nmwc2iLw6Vt",
        "outputId": "70d945ad-95c4-41a7-b904-34b1c80d584c"
      },
      "outputs": [
        {
          "name": "stdout",
          "output_type": "stream",
          "text": [
            "['곽상도(郭尙道)', '김선교(金善敎)', '김은혜(金恩慧)', '김진애(金鎭愛)', '김태흠(金泰欽)', '박완수(朴完洙)', '송영길(宋永吉)', '오영훈(吳怜勳)', '윤희숙(尹喜淑)', '이광재(李光宰)', '이규민(李圭閔)', '이낙연(李洛淵)', '이상직(李相稷)', '이영(李永)', '정정순(鄭正淳)', '정찬민(鄭燦敏)', '조태용(趙太庸)', '최강욱(崔康旭)', '홍준표(洪準杓)']\n"
          ]
        }
      ],
      "source": [
        "ban_list = [] # 지금은 없어서 제거해줄 의원들 리스트\n",
        "for i in name_arr3:\n",
        "  if i not in mem_dict:\n",
        "    ban_list.append(i)\n",
        "print(ban_list, sep = ' ')"
      ]
    },
    {
      "cell_type": "code",
      "execution_count": 1784,
      "metadata": {
        "colab": {
          "base_uri": "https://localhost:8080/"
        },
        "id": "jnTGnJOXxI7E",
        "outputId": "7dad1c12-b17d-4158-baec-c57114dafc9b"
      },
      "outputs": [
        {
          "data": {
            "text/plain": [
              "오영환(吳永煥)    3095\n",
              "양정숙(梁貞淑)    2926\n",
              "김정호(金禎鎬)    2826\n",
              "김병욱(金炳旭)    2820\n",
              "            ... \n",
              "박병석(朴炳錫)      89\n",
              "이재명(李在明)      87\n",
              "강성희(姜聖熙)      48\n",
              "허숙정(許淑湞)       9\n",
              "Name: 이름, Length: 316, dtype: int64"
            ]
          },
          "execution_count": 1784,
          "metadata": {},
          "output_type": "execute_result"
        }
      ],
      "source": [
        "relation.reset_index(inplace = True, drop = True)\n",
        "for i in range(len(relation)): # 이름 잘못된 거 처리\n",
        "  if relation['이름'][i] in mem_dict:\n",
        "      relation['이름'][i] = mem_dict[relation['이름'][i]]\n",
        "relation['이름'].value_counts()"
      ]
    },
    {
      "cell_type": "code",
      "execution_count": 1785,
      "metadata": {
        "colab": {
          "base_uri": "https://localhost:8080/"
        },
        "id": "kbUSjOQhyFh8",
        "outputId": "d86fb1ce-094e-45bb-bbd7-541a22ae9212"
      },
      "outputs": [
        {
          "data": {
            "text/plain": [
              "오영환(吳永煥)    3095\n",
              "양정숙(梁貞淑)    2926\n",
              "김정호(金禎鎬)    2826\n",
              "김병욱(金炳旭)    2820\n",
              "            ... \n",
              "박병석(朴炳錫)      89\n",
              "이재명(李在明)      87\n",
              "강성희(姜聖熙)      48\n",
              "허숙정(許淑湞)       9\n",
              "Name: 이름, Length: 297, dtype: int64"
            ]
          },
          "execution_count": 1785,
          "metadata": {},
          "output_type": "execute_result"
        }
      ],
      "source": [
        "relation.set_index('이름', inplace = True) # 인덱스로 처리하면 속도가 빠르다\n",
        "relation.drop(ban_list, axis = 0, inplace = True) # 없는 의원들 제거\n",
        "relation.reset_index(inplace = True)\n",
        "relation['이름'].value_counts()"
      ]
    },
    {
      "cell_type": "code",
      "execution_count": 1786,
      "metadata": {
        "colab": {
          "base_uri": "https://localhost:8080/"
        },
        "id": "7xjdFJFiy-2k",
        "outputId": "88f462f5-7f80-49d1-dbc7-d3cebc372f30"
      },
      "outputs": [
        {
          "name": "stdout",
          "output_type": "stream",
          "text": [
            "강기윤(姜起潤) 강대식(姜大植) 강민국(姜旻局) 강민정(姜旼姃) 구자근(具滋根) 권명호(權明浩) 권성동(權性東) 권영세(權寧世) 권은희(權垠希) 김기현(金起炫) 김남국(金南局) 김도읍(金度邑) 김미애(金美愛) 김병욱(金炳旭) 김병욱(金炳旭) 김상훈(金相勳) 김석기(金碩基) 김성원(金成願) 김승수(金承洙) 김영식(金英植) 김예지(金睿智) 김용판(金用判) 김웅(金雄) 김의겸(金宜謙) 김정재(金汀才) 김진표(金振杓) 김태호(金台鎬) 김형동(金亨東) 김홍걸(金弘傑) 김희곤(金熙坤) 김희국(金熙國) 류성걸(柳性杰) 민형배(閔馨培) 박대수(朴大壽) 박대출(朴大出) 박덕흠(朴德欽) 박병석(朴炳錫) 박성민(朴聖敏) 박성중(朴成重) 박수영(朴洙瑩) 박완주(朴完柱) 박진(朴振) 박형수(朴亨修) 배준영(裵俊英) 배현진(裵賢鎭) 백종헌(白宗憲) 서범수(徐範洙) 서병수(徐秉洙) 서일준(徐一俊) 서정숙(徐正淑) 성일종(成一鍾) 송석준(宋錫俊) 송언석(宋彦錫) 신원식(申源湜) 안병길(安炳吉) 양금희(梁琴喜) 양이원영(梁李媛瑛) 양향자(梁香子) 엄태영(嚴泰永) 유경준(兪京濬) 유상범(劉相凡) 유의동(兪義東) 윤관석(尹官石) 윤두현(尹斗鉉) 윤미향(尹美香) 윤상현(尹相現) 윤영석(尹永碩) 윤재옥(尹在玉) 윤주경(尹柱卿) 윤창현(尹暢賢) 윤한홍(尹漢洪) 이달곤(李達坤) 이만희(李晩熙) 이명수(李明洙) 이성만(李成萬) 이양수(李亮壽) 이용(李鏞) 이용호(李容鎬) 이종배(李鍾培) 이종성(李鍾成) 이주환(李周桓) 이채익(李埰益) 이철규(李喆圭) 이태규(李泰珪) 이헌승(李憲昇) 임병헌(林炳憲) 임이자(林利子) 장제원(張濟元) 전봉민(田奉珉) 전주혜(全珠惠) 정경희(丁慶姬) 정동만(鄭東萬) 정운천(鄭雲天) 정점식(鄭点植) 정진석(鄭鎭碩) 정희용(鄭熙溶) 조경태(趙慶泰) 조명희(曺明姬) 조수진(趙修眞) 조해진(曺海珍) 주호영(朱豪英) 지성호(池成浩) 최승재(崔承宰) 최연숙(崔姸淑) 최춘식(崔春植) 최형두(崔炯斗) 추경호(秋慶鎬) 태영호(太永浩) 하영제(河榮帝) 하태경(河泰慶) 한기호(韓起鎬) 한무경(韓茂景) 허은아(許垠娥) 홍문표(洪文杓) 홍석준(洪碩晙) 황보승희(皇甫承希) "
          ]
        }
      ],
      "source": [
        "relation.set_index('이름', inplace = True)\n",
        "for i in member['이름']:\n",
        "    if len(relation.loc[i]['정당명'].unique()) != 1:\n",
        "        print(i, end = ' ')"
      ]
    },
    {
      "cell_type": "code",
      "execution_count": 1787,
      "metadata": {
        "colab": {
          "base_uri": "https://localhost:8080/",
          "height": 112
        },
        "id": "RU_rRi0F1-cG",
        "outputId": "3cc3633e-5f2a-4011-e956-1a22789cc94d"
      },
      "outputs": [
        {
          "data": {
            "text/html": [
              "<div>\n",
              "<style scoped>\n",
              "    .dataframe tbody tr th:only-of-type {\n",
              "        vertical-align: middle;\n",
              "    }\n",
              "\n",
              "    .dataframe tbody tr th {\n",
              "        vertical-align: top;\n",
              "    }\n",
              "\n",
              "    .dataframe thead th {\n",
              "        text-align: right;\n",
              "    }\n",
              "</style>\n",
              "<table border=\"1\" class=\"dataframe\">\n",
              "  <thead>\n",
              "    <tr style=\"text-align: right;\">\n",
              "      <th></th>\n",
              "      <th>이름</th>\n",
              "      <th>정당명</th>\n",
              "      <th>나이</th>\n",
              "      <th>당선</th>\n",
              "      <th>소속 위원회 목록</th>\n",
              "      <th>성별</th>\n",
              "      <th>학력</th>\n",
              "      <th>당색</th>\n",
              "      <th>위원회수</th>\n",
              "    </tr>\n",
              "  </thead>\n",
              "  <tbody>\n",
              "    <tr>\n",
              "      <th>34</th>\n",
              "      <td>김병욱(金炳旭)</td>\n",
              "      <td>더불어민주당</td>\n",
              "      <td>58</td>\n",
              "      <td>2</td>\n",
              "      <td>국토교통위원회, 예산결산특별위원회</td>\n",
              "      <td>남</td>\n",
              "      <td>2</td>\n",
              "      <td>blue</td>\n",
              "      <td>2</td>\n",
              "    </tr>\n",
              "    <tr>\n",
              "      <th>35</th>\n",
              "      <td>김병욱(金炳旭)</td>\n",
              "      <td>국민의힘</td>\n",
              "      <td>46</td>\n",
              "      <td>1</td>\n",
              "      <td>과학기술정보방송통신위원회</td>\n",
              "      <td>남</td>\n",
              "      <td>2</td>\n",
              "      <td>green</td>\n",
              "      <td>1</td>\n",
              "    </tr>\n",
              "  </tbody>\n",
              "</table>\n",
              "</div>"
            ],
            "text/plain": [
              "          이름     정당명  나이  당선           소속 위원회 목록 성별  학력     당색  위원회수\n",
              "34  김병욱(金炳旭)  더불어민주당  58   2  국토교통위원회, 예산결산특별위원회  남   2   blue     2\n",
              "35  김병욱(金炳旭)    국민의힘  46   1       과학기술정보방송통신위원회  남   2  green     1"
            ]
          },
          "execution_count": 1787,
          "metadata": {},
          "output_type": "execute_result"
        }
      ],
      "source": [
        "member[member['이름'].duplicated(keep = False)]"
      ]
    },
    {
      "cell_type": "code",
      "execution_count": 1788,
      "metadata": {
        "colab": {
          "base_uri": "https://localhost:8080/",
          "height": 112
        },
        "id": "lR0heI8419ui",
        "outputId": "e38c7069-6808-48bf-94b0-3d6e3315ac62"
      },
      "outputs": [
        {
          "data": {
            "text/html": [
              "<div>\n",
              "<style scoped>\n",
              "    .dataframe tbody tr th:only-of-type {\n",
              "        vertical-align: middle;\n",
              "    }\n",
              "\n",
              "    .dataframe tbody tr th {\n",
              "        vertical-align: top;\n",
              "    }\n",
              "\n",
              "    .dataframe thead th {\n",
              "        text-align: right;\n",
              "    }\n",
              "</style>\n",
              "<table border=\"1\" class=\"dataframe\">\n",
              "  <thead>\n",
              "    <tr style=\"text-align: right;\">\n",
              "      <th></th>\n",
              "      <th>이름</th>\n",
              "      <th>정당명</th>\n",
              "      <th>나이</th>\n",
              "      <th>당선</th>\n",
              "      <th>소속 위원회 목록</th>\n",
              "      <th>성별</th>\n",
              "      <th>학력</th>\n",
              "      <th>당색</th>\n",
              "      <th>위원회수</th>\n",
              "    </tr>\n",
              "  </thead>\n",
              "  <tbody>\n",
              "    <tr>\n",
              "      <th>34</th>\n",
              "      <td>김병욱A(金炳旭)</td>\n",
              "      <td>더불어민주당</td>\n",
              "      <td>58</td>\n",
              "      <td>2</td>\n",
              "      <td>국토교통위원회, 예산결산특별위원회</td>\n",
              "      <td>남</td>\n",
              "      <td>2</td>\n",
              "      <td>blue</td>\n",
              "      <td>2</td>\n",
              "    </tr>\n",
              "    <tr>\n",
              "      <th>35</th>\n",
              "      <td>김병욱B(金炳旭)</td>\n",
              "      <td>국민의힘</td>\n",
              "      <td>46</td>\n",
              "      <td>1</td>\n",
              "      <td>과학기술정보방송통신위원회</td>\n",
              "      <td>남</td>\n",
              "      <td>2</td>\n",
              "      <td>green</td>\n",
              "      <td>1</td>\n",
              "    </tr>\n",
              "  </tbody>\n",
              "</table>\n",
              "</div>"
            ],
            "text/plain": [
              "           이름     정당명  나이  당선           소속 위원회 목록 성별  학력     당색  위원회수\n",
              "34  김병욱A(金炳旭)  더불어민주당  58   2  국토교통위원회, 예산결산특별위원회  남   2   blue     2\n",
              "35  김병욱B(金炳旭)    국민의힘  46   1       과학기술정보방송통신위원회  남   2  green     1"
            ]
          },
          "execution_count": 1788,
          "metadata": {},
          "output_type": "execute_result"
        }
      ],
      "source": [
        "idx_temp = member[member['이름'].duplicated(keep = False)].index\n",
        "name_temp1 = member.loc[idx_temp[0], '이름']\n",
        "member.loc[idx_temp[0], '이름'] = name_temp1[0:3] + 'A' + name_temp1[3:]\n",
        "name_temp1 = member.loc[idx_temp[1], '이름']\n",
        "member.loc[idx_temp[1], '이름'] = name_temp1[0:3] + 'B' + name_temp1[3:]\n",
        "member.loc[idx_temp]"
      ]
    },
    {
      "cell_type": "code",
      "execution_count": 1789,
      "metadata": {
        "colab": {
          "base_uri": "https://localhost:8080/",
          "height": 53
        },
        "id": "fQBuS9K63GUs",
        "outputId": "9e7e7ffc-84bd-4a41-ca8e-68f6594ae67b"
      },
      "outputs": [
        {
          "data": {
            "text/html": [
              "<div>\n",
              "<style scoped>\n",
              "    .dataframe tbody tr th:only-of-type {\n",
              "        vertical-align: middle;\n",
              "    }\n",
              "\n",
              "    .dataframe tbody tr th {\n",
              "        vertical-align: top;\n",
              "    }\n",
              "\n",
              "    .dataframe thead th {\n",
              "        text-align: right;\n",
              "    }\n",
              "</style>\n",
              "<table border=\"1\" class=\"dataframe\">\n",
              "  <thead>\n",
              "    <tr style=\"text-align: right;\">\n",
              "      <th></th>\n",
              "      <th>이름</th>\n",
              "      <th>법안 ID</th>\n",
              "      <th>정당명</th>\n",
              "      <th>번호</th>\n",
              "    </tr>\n",
              "  </thead>\n",
              "  <tbody>\n",
              "  </tbody>\n",
              "</table>\n",
              "</div>"
            ],
            "text/plain": [
              "Empty DataFrame\n",
              "Columns: [이름, 법안 ID, 정당명, 번호]\n",
              "Index: []"
            ]
          },
          "execution_count": 1789,
          "metadata": {},
          "output_type": "execute_result"
        }
      ],
      "source": [
        "relation.reset_index(inplace = True)\n",
        "relation.loc[(relation['이름'] == '김병욱(金炳旭)') & (relation['정당명'] == '더불어민주당'), '이름'] = '김병욱A(金炳旭)'\n",
        "relation.loc[(relation['이름'] == '김병욱(金炳旭)') & (relation['정당명'] == '무소속'), '정당명'] = '국민의힘'\n",
        "relation.loc[(relation['이름'] == '김병욱(金炳旭)') & (relation['정당명'] == '미래통합당'), '정당명'] = '국민의힘'\n",
        "relation.loc[(relation['이름'] == '김병욱(金炳旭)') & (relation['정당명'] == '국민의힘'), '이름'] = '김병욱B(金炳旭)'\n",
        "relation.loc[relation['이름'] == '김병욱(金炳旭)'].head(3)"
      ]
    },
    {
      "cell_type": "code",
      "execution_count": 1790,
      "metadata": {
        "colab": {
          "base_uri": "https://localhost:8080/",
          "height": 175
        },
        "id": "M-_Ym7rtLMXQ",
        "outputId": "efa7255d-0a41-4360-f257-427d0a75f927"
      },
      "outputs": [
        {
          "data": {
            "text/html": [
              "<div>\n",
              "<style scoped>\n",
              "    .dataframe tbody tr th:only-of-type {\n",
              "        vertical-align: middle;\n",
              "    }\n",
              "\n",
              "    .dataframe tbody tr th {\n",
              "        vertical-align: top;\n",
              "    }\n",
              "\n",
              "    .dataframe thead th {\n",
              "        text-align: right;\n",
              "    }\n",
              "</style>\n",
              "<table border=\"1\" class=\"dataframe\">\n",
              "  <thead>\n",
              "    <tr style=\"text-align: right;\">\n",
              "      <th></th>\n",
              "      <th>법안 ID</th>\n",
              "      <th>정당명</th>\n",
              "      <th>번호</th>\n",
              "    </tr>\n",
              "    <tr>\n",
              "      <th>이름</th>\n",
              "      <th></th>\n",
              "      <th></th>\n",
              "      <th></th>\n",
              "    </tr>\n",
              "  </thead>\n",
              "  <tbody>\n",
              "    <tr>\n",
              "      <th>구자근(具滋根)</th>\n",
              "      <td>PRC_A2A0D1P2T1X6K1X5T4Y4T2H5A8S2G6</td>\n",
              "      <td>국민의힘</td>\n",
              "      <td>9771224.0</td>\n",
              "    </tr>\n",
              "    <tr>\n",
              "      <th>김도읍(金度邑)</th>\n",
              "      <td>PRC_A2A0D1P2T1X6K1X5T4Y4T2H5A8S2G6</td>\n",
              "      <td>국민의힘</td>\n",
              "      <td>9770719.0</td>\n",
              "    </tr>\n",
              "    <tr>\n",
              "      <th>안병길(安炳吉)</th>\n",
              "      <td>PRC_A2A0D1P2T1X6K1X5T4Y4T2H5A8S2G6</td>\n",
              "      <td>국민의힘</td>\n",
              "      <td>9771132.0</td>\n",
              "    </tr>\n",
              "  </tbody>\n",
              "</table>\n",
              "</div>"
            ],
            "text/plain": [
              "                                       법안 ID   정당명         번호\n",
              "이름                                                           \n",
              "구자근(具滋根)  PRC_A2A0D1P2T1X6K1X5T4Y4T2H5A8S2G6  국민의힘  9771224.0\n",
              "김도읍(金度邑)  PRC_A2A0D1P2T1X6K1X5T4Y4T2H5A8S2G6  국민의힘  9770719.0\n",
              "안병길(安炳吉)  PRC_A2A0D1P2T1X6K1X5T4Y4T2H5A8S2G6  국민의힘  9771132.0"
            ]
          },
          "execution_count": 1790,
          "metadata": {},
          "output_type": "execute_result"
        }
      ],
      "source": [
        "relation = relation.sort_values(by=['법안 ID','이름'], ascending = [True, True])\n",
        "relation.set_index('이름', inplace = True)\n",
        "for i in range(len(member)):\n",
        "    relation.loc[member.loc[i, '이름'], '정당명'] = member.loc[i, '정당명']\n",
        "relation.head(3)"
      ]
    },
    {
      "cell_type": "code",
      "execution_count": 1791,
      "metadata": {
        "id": "D9mgRj7X0y_N"
      },
      "outputs": [],
      "source": [
        "for i in member['이름']:\n",
        "    if len(relation.loc[i]['정당명'].unique()) != 1:\n",
        "        print(i, end = ' ')"
      ]
    },
    {
      "cell_type": "code",
      "execution_count": 1792,
      "metadata": {
        "colab": {
          "base_uri": "https://localhost:8080/",
          "height": 143
        },
        "id": "gAWCm5wcUgnw",
        "outputId": "13e2eb91-c94c-4e75-a10f-5932c399f90d"
      },
      "outputs": [
        {
          "data": {
            "text/html": [
              "<div>\n",
              "<style scoped>\n",
              "    .dataframe tbody tr th:only-of-type {\n",
              "        vertical-align: middle;\n",
              "    }\n",
              "\n",
              "    .dataframe tbody tr th {\n",
              "        vertical-align: top;\n",
              "    }\n",
              "\n",
              "    .dataframe thead th {\n",
              "        text-align: right;\n",
              "    }\n",
              "</style>\n",
              "<table border=\"1\" class=\"dataframe\">\n",
              "  <thead>\n",
              "    <tr style=\"text-align: right;\">\n",
              "      <th></th>\n",
              "      <th>제목</th>\n",
              "      <th>담당</th>\n",
              "      <th>날짜</th>\n",
              "      <th>임시</th>\n",
              "      <th>임시2</th>\n",
              "      <th>임시3</th>\n",
              "      <th>상태</th>\n",
              "      <th>계류</th>\n",
              "      <th>법안 ID</th>\n",
              "    </tr>\n",
              "  </thead>\n",
              "  <tbody>\n",
              "    <tr>\n",
              "      <th>2125205</th>\n",
              "      <td>자본시장과 금융투자업에 관한 법률 일부개정법률안(이용우의원 등 11인)</td>\n",
              "      <td>의원</td>\n",
              "      <td>2023-10-30</td>\n",
              "      <td>NaN</td>\n",
              "      <td>NaN</td>\n",
              "      <td>NaN</td>\n",
              "      <td>접수</td>\n",
              "      <td>계</td>\n",
              "      <td>PRC_M2L3N1N0M2L5J1S4Q3R7Q3O5W3V5U3</td>\n",
              "    </tr>\n",
              "    <tr>\n",
              "      <th>2125204</th>\n",
              "      <td>공유재산 및 물품 관리법 일부개정법률안(황희의원 등 12인)</td>\n",
              "      <td>의원</td>\n",
              "      <td>2023-10-30</td>\n",
              "      <td>NaN</td>\n",
              "      <td>NaN</td>\n",
              "      <td>NaN</td>\n",
              "      <td>접수</td>\n",
              "      <td>계</td>\n",
              "      <td>PRC_O2T3B1B0Z2Z4F1E3C3Z9Y4H8G7F4M3</td>\n",
              "    </tr>\n",
              "    <tr>\n",
              "      <th>2125203</th>\n",
              "      <td>학교용지 확보 등에 관한 특례법 일부개정법률안(황희의원 등 12인)</td>\n",
              "      <td>의원</td>\n",
              "      <td>2023-10-30</td>\n",
              "      <td>NaN</td>\n",
              "      <td>NaN</td>\n",
              "      <td>NaN</td>\n",
              "      <td>접수</td>\n",
              "      <td>계</td>\n",
              "      <td>PRC_Z2X3W1X0W2R4Q1Y3X4W1V3D3B6I0G7</td>\n",
              "    </tr>\n",
              "  </tbody>\n",
              "</table>\n",
              "</div>"
            ],
            "text/plain": [
              "                                                제목  담당          날짜   임시  임시2  \\\n",
              "2125205    자본시장과 금융투자업에 관한 법률 일부개정법률안(이용우의원 등 11인)  의원  2023-10-30  NaN  NaN   \n",
              "2125204          공유재산 및 물품 관리법 일부개정법률안(황희의원 등 12인)  의원  2023-10-30  NaN  NaN   \n",
              "2125203      학교용지 확보 등에 관한 특례법 일부개정법률안(황희의원 등 12인)  의원  2023-10-30  NaN  NaN   \n",
              "\n",
              "         임시3  상태 계류                               법안 ID  \n",
              "2125205  NaN  접수  계  PRC_M2L3N1N0M2L5J1S4Q3R7Q3O5W3V5U3  \n",
              "2125204  NaN  접수  계  PRC_O2T3B1B0Z2Z4F1E3C3Z9Y4H8G7F4M3  \n",
              "2125203  NaN  접수  계  PRC_Z2X3W1X0W2R4Q1Y3X4W1V3D3B6I0G7  "
            ]
          },
          "execution_count": 1792,
          "metadata": {},
          "output_type": "execute_result"
        }
      ],
      "source": [
        "# 아직은 상태 feature만을 가져오기 위한 state\n",
        "custom_column_names = ['제목','담당','날짜','임시','임시2','임시3','상태','계류','법안 ID']\n",
        "state = pd.read_csv('./raw_data/scraped_data.csv', names = custom_column_names, skiprows = 1)\n",
        "state.dropna(subset = ['상태'], inplace = True) # 상태가 없으면 쓸모가 없지요\n",
        "state[state['상태'] == '본희의의결'] = '본회의의결'\n",
        "state = state[state['담당'] == '의원']\n",
        "state.head(3)"
      ]
    },
    {
      "cell_type": "code",
      "execution_count": 1793,
      "metadata": {
        "colab": {
          "base_uri": "https://localhost:8080/"
        },
        "id": "PBAy1ipt7Mam",
        "outputId": "0a081021-d9e7-4f79-abb6-ea348cd5b273"
      },
      "outputs": [
        {
          "data": {
            "text/plain": [
              "가결외    17148\n",
              "가결      5823\n",
              "Name: 상태, dtype: int64"
            ]
          },
          "execution_count": 1793,
          "metadata": {},
          "output_type": "execute_result"
        }
      ],
      "source": [
        "good = ['공포', '본회의의결', '수정안반영폐기', '대안반영폐기']\n",
        "bad = ['폐기', '정부이송', '본회의불부의', '체계자구심사', '소관위심사', '소관위접수', '철회', '본회의부의안건', '접수']\n",
        "\n",
        "def change_state(x) :\n",
        "  if str(x) in good:\n",
        "    return '가결'\n",
        "  else:\n",
        "    return '가결외'\n",
        "\n",
        "state['상태'] = state['상태'].apply(change_state)\n",
        "state['상태'].value_counts()"
      ]
    },
    {
      "cell_type": "code",
      "execution_count": 1794,
      "metadata": {},
      "outputs": [],
      "source": [
        "for i in state.index.unique():\n",
        "    if not any(char.isdigit() for char in str(state.loc[i,'제목'])):\n",
        "        state.drop(i, axis = 0, inplace = True)"
      ]
    },
    {
      "cell_type": "code",
      "execution_count": 1795,
      "metadata": {
        "colab": {
          "base_uri": "https://localhost:8080/",
          "height": 143
        },
        "id": "QjAIWBCvcYeY",
        "outputId": "6d42f5dc-ecbb-46c3-afd9-9d811c4bb43f"
      },
      "outputs": [
        {
          "data": {
            "text/html": [
              "<div>\n",
              "<style scoped>\n",
              "    .dataframe tbody tr th:only-of-type {\n",
              "        vertical-align: middle;\n",
              "    }\n",
              "\n",
              "    .dataframe tbody tr th {\n",
              "        vertical-align: top;\n",
              "    }\n",
              "\n",
              "    .dataframe thead th {\n",
              "        text-align: right;\n",
              "    }\n",
              "</style>\n",
              "<table border=\"1\" class=\"dataframe\">\n",
              "  <thead>\n",
              "    <tr style=\"text-align: right;\">\n",
              "      <th></th>\n",
              "      <th>법안 ID</th>\n",
              "      <th>상태</th>\n",
              "      <th>제목</th>\n",
              "    </tr>\n",
              "  </thead>\n",
              "  <tbody>\n",
              "    <tr>\n",
              "      <th>0</th>\n",
              "      <td>PRC_M2L3N1N0M2L5J1S4Q3R7Q3O5W3V5U3</td>\n",
              "      <td>가결외</td>\n",
              "      <td>자본시장과 금융투자업에 관한 법률 일부개정법률안(이용우의원 등 11인)</td>\n",
              "    </tr>\n",
              "    <tr>\n",
              "      <th>1</th>\n",
              "      <td>PRC_O2T3B1B0Z2Z4F1E3C3Z9Y4H8G7F4M3</td>\n",
              "      <td>가결외</td>\n",
              "      <td>공유재산 및 물품 관리법 일부개정법률안(황희의원 등 12인)</td>\n",
              "    </tr>\n",
              "    <tr>\n",
              "      <th>2</th>\n",
              "      <td>PRC_Z2X3W1X0W2R4Q1Y3X4W1V3D3B6I0G7</td>\n",
              "      <td>가결외</td>\n",
              "      <td>학교용지 확보 등에 관한 특례법 일부개정법률안(황희의원 등 12인)</td>\n",
              "    </tr>\n",
              "  </tbody>\n",
              "</table>\n",
              "</div>"
            ],
            "text/plain": [
              "                                법안 ID   상태  \\\n",
              "0  PRC_M2L3N1N0M2L5J1S4Q3R7Q3O5W3V5U3  가결외   \n",
              "1  PRC_O2T3B1B0Z2Z4F1E3C3Z9Y4H8G7F4M3  가결외   \n",
              "2  PRC_Z2X3W1X0W2R4Q1Y3X4W1V3D3B6I0G7  가결외   \n",
              "\n",
              "                                          제목  \n",
              "0    자본시장과 금융투자업에 관한 법률 일부개정법률안(이용우의원 등 11인)  \n",
              "1          공유재산 및 물품 관리법 일부개정법률안(황희의원 등 12인)  \n",
              "2      학교용지 확보 등에 관한 특례법 일부개정법률안(황희의원 등 12인)  "
            ]
          },
          "execution_count": 1795,
          "metadata": {},
          "output_type": "execute_result"
        }
      ],
      "source": [
        "# join 해주기 위해 전처리\n",
        "state_temp = state.loc[:, ['법안 ID','상태','제목']]\n",
        "state_temp.reset_index(inplace = True)\n",
        "state_temp.drop(columns = ['index'], inplace = True)\n",
        "state_temp.head(3)"
      ]
    },
    {
      "cell_type": "code",
      "execution_count": 1796,
      "metadata": {
        "colab": {
          "base_uri": "https://localhost:8080/",
          "height": 143
        },
        "id": "I43ZHk88do5g",
        "outputId": "5bab711a-9941-43cd-e12d-d1755514cde5"
      },
      "outputs": [
        {
          "data": {
            "text/html": [
              "<div>\n",
              "<style scoped>\n",
              "    .dataframe tbody tr th:only-of-type {\n",
              "        vertical-align: middle;\n",
              "    }\n",
              "\n",
              "    .dataframe tbody tr th {\n",
              "        vertical-align: top;\n",
              "    }\n",
              "\n",
              "    .dataframe thead th {\n",
              "        text-align: right;\n",
              "    }\n",
              "</style>\n",
              "<table border=\"1\" class=\"dataframe\">\n",
              "  <thead>\n",
              "    <tr style=\"text-align: right;\">\n",
              "      <th></th>\n",
              "      <th>이름</th>\n",
              "      <th>법안 ID</th>\n",
              "      <th>정당명</th>\n",
              "      <th>번호</th>\n",
              "      <th>상태</th>\n",
              "      <th>제목</th>\n",
              "      <th>초당</th>\n",
              "    </tr>\n",
              "  </thead>\n",
              "  <tbody>\n",
              "    <tr>\n",
              "      <th>0</th>\n",
              "      <td>구자근(具滋根)</td>\n",
              "      <td>PRC_A2A0D1P2T1X6K1X5T4Y4T2H5A8S2G6</td>\n",
              "      <td>국민의힘</td>\n",
              "      <td>9771224.0</td>\n",
              "      <td>가결외</td>\n",
              "      <td>한국산업은행법 일부개정법률안(김도읍의원 등 10인)</td>\n",
              "      <td>-1</td>\n",
              "    </tr>\n",
              "    <tr>\n",
              "      <th>1</th>\n",
              "      <td>김도읍(金度邑)</td>\n",
              "      <td>PRC_A2A0D1P2T1X6K1X5T4Y4T2H5A8S2G6</td>\n",
              "      <td>국민의힘</td>\n",
              "      <td>9770719.0</td>\n",
              "      <td>가결외</td>\n",
              "      <td>한국산업은행법 일부개정법률안(김도읍의원 등 10인)</td>\n",
              "      <td>-1</td>\n",
              "    </tr>\n",
              "    <tr>\n",
              "      <th>2</th>\n",
              "      <td>안병길(安炳吉)</td>\n",
              "      <td>PRC_A2A0D1P2T1X6K1X5T4Y4T2H5A8S2G6</td>\n",
              "      <td>국민의힘</td>\n",
              "      <td>9771132.0</td>\n",
              "      <td>가결외</td>\n",
              "      <td>한국산업은행법 일부개정법률안(김도읍의원 등 10인)</td>\n",
              "      <td>-1</td>\n",
              "    </tr>\n",
              "  </tbody>\n",
              "</table>\n",
              "</div>"
            ],
            "text/plain": [
              "         이름                               법안 ID   정당명         번호   상태  \\\n",
              "0  구자근(具滋根)  PRC_A2A0D1P2T1X6K1X5T4Y4T2H5A8S2G6  국민의힘  9771224.0  가결외   \n",
              "1  김도읍(金度邑)  PRC_A2A0D1P2T1X6K1X5T4Y4T2H5A8S2G6  국민의힘  9770719.0  가결외   \n",
              "2  안병길(安炳吉)  PRC_A2A0D1P2T1X6K1X5T4Y4T2H5A8S2G6  국민의힘  9771132.0  가결외   \n",
              "\n",
              "                               제목  초당  \n",
              "0    한국산업은행법 일부개정법률안(김도읍의원 등 10인)  -1  \n",
              "1    한국산업은행법 일부개정법률안(김도읍의원 등 10인)  -1  \n",
              "2    한국산업은행법 일부개정법률안(김도읍의원 등 10인)  -1  "
            ]
          },
          "execution_count": 1796,
          "metadata": {},
          "output_type": "execute_result"
        }
      ],
      "source": [
        "# inner join\n",
        "relation.reset_index(inplace = True)\n",
        "relation_state = pd.merge(relation, state_temp, how = 'inner', on = '법안 ID')\n",
        "relation_state.drop_duplicates(inplace = True) # 중복 데이터를 제거\n",
        "relation_state.reset_index(drop = True, inplace = True)\n",
        "relation_state['초당'] = -1\n",
        "relation_state.head(3)"
      ]
    },
    {
      "cell_type": "code",
      "execution_count": 1797,
      "metadata": {},
      "outputs": [
        {
          "data": {
            "text/plain": [
              "1    169359\n",
              "0    138317\n",
              "Name: 초당, dtype: int64"
            ]
          },
          "execution_count": 1797,
          "metadata": {},
          "output_type": "execute_result"
        }
      ],
      "source": [
        "relation_state.set_index('법안 ID', inplace = True)\n",
        "for i in relation_state.index.unique():\n",
        "    if len(relation_state.loc[i, '정당명'].unique()) == 1:\n",
        "        relation_state.loc[i, '초당'] = 0\n",
        "    else:\n",
        "        relation_state.loc[i, '초당'] = 1\n",
        "relation_state['초당'].value_counts()"
      ]
    },
    {
      "cell_type": "code",
      "execution_count": 1798,
      "metadata": {},
      "outputs": [
        {
          "data": {
            "text/html": [
              "<div>\n",
              "<style scoped>\n",
              "    .dataframe tbody tr th:only-of-type {\n",
              "        vertical-align: middle;\n",
              "    }\n",
              "\n",
              "    .dataframe tbody tr th {\n",
              "        vertical-align: top;\n",
              "    }\n",
              "\n",
              "    .dataframe thead th {\n",
              "        text-align: right;\n",
              "    }\n",
              "</style>\n",
              "<table border=\"1\" class=\"dataframe\">\n",
              "  <thead>\n",
              "    <tr style=\"text-align: right;\">\n",
              "      <th></th>\n",
              "      <th>이름</th>\n",
              "      <th>상태</th>\n",
              "      <th>초당</th>\n",
              "      <th>법안 ID</th>\n",
              "    </tr>\n",
              "  </thead>\n",
              "  <tbody>\n",
              "    <tr>\n",
              "      <th>0</th>\n",
              "      <td>강기윤(姜起潤)</td>\n",
              "      <td>가결</td>\n",
              "      <td>0</td>\n",
              "      <td>216</td>\n",
              "    </tr>\n",
              "    <tr>\n",
              "      <th>1</th>\n",
              "      <td>강기윤(姜起潤)</td>\n",
              "      <td>가결</td>\n",
              "      <td>1</td>\n",
              "      <td>127</td>\n",
              "    </tr>\n",
              "    <tr>\n",
              "      <th>2</th>\n",
              "      <td>강기윤(姜起潤)</td>\n",
              "      <td>가결외</td>\n",
              "      <td>0</td>\n",
              "      <td>617</td>\n",
              "    </tr>\n",
              "  </tbody>\n",
              "</table>\n",
              "</div>"
            ],
            "text/plain": [
              "         이름   상태  초당  법안 ID\n",
              "0  강기윤(姜起潤)   가결   0    216\n",
              "1  강기윤(姜起潤)   가결   1    127\n",
              "2  강기윤(姜起潤)  가결외   0    617"
            ]
          },
          "execution_count": 1798,
          "metadata": {},
          "output_type": "execute_result"
        }
      ],
      "source": [
        "relation_state.reset_index(inplace = True)\n",
        "tm = pd.DataFrame(relation_state.groupby(['이름','상태','초당'])['법안 ID'].count())\n",
        "tm.reset_index(inplace = True)\n",
        "tm.head(3)"
      ]
    },
    {
      "cell_type": "code",
      "execution_count": 1799,
      "metadata": {},
      "outputs": [
        {
          "data": {
            "text/html": [
              "<div>\n",
              "<style scoped>\n",
              "    .dataframe tbody tr th:only-of-type {\n",
              "        vertical-align: middle;\n",
              "    }\n",
              "\n",
              "    .dataframe tbody tr th {\n",
              "        vertical-align: top;\n",
              "    }\n",
              "\n",
              "    .dataframe thead th {\n",
              "        text-align: right;\n",
              "    }\n",
              "</style>\n",
              "<table border=\"1\" class=\"dataframe\">\n",
              "  <thead>\n",
              "    <tr style=\"text-align: right;\">\n",
              "      <th></th>\n",
              "      <th>상태</th>\n",
              "      <th>초당</th>\n",
              "      <th>법안 ID</th>\n",
              "    </tr>\n",
              "    <tr>\n",
              "      <th>이름</th>\n",
              "      <th></th>\n",
              "      <th></th>\n",
              "      <th></th>\n",
              "    </tr>\n",
              "  </thead>\n",
              "  <tbody>\n",
              "    <tr>\n",
              "      <th>강기윤(姜起潤)</th>\n",
              "      <td>가결</td>\n",
              "      <td>0</td>\n",
              "      <td>216</td>\n",
              "    </tr>\n",
              "    <tr>\n",
              "      <th>강기윤(姜起潤)</th>\n",
              "      <td>가결</td>\n",
              "      <td>1</td>\n",
              "      <td>127</td>\n",
              "    </tr>\n",
              "    <tr>\n",
              "      <th>강기윤(姜起潤)</th>\n",
              "      <td>가결외</td>\n",
              "      <td>0</td>\n",
              "      <td>617</td>\n",
              "    </tr>\n",
              "  </tbody>\n",
              "</table>\n",
              "</div>"
            ],
            "text/plain": [
              "           상태  초당  법안 ID\n",
              "이름                      \n",
              "강기윤(姜起潤)   가결   0    216\n",
              "강기윤(姜起潤)   가결   1    127\n",
              "강기윤(姜起潤)  가결외   0    617"
            ]
          },
          "execution_count": 1799,
          "metadata": {},
          "output_type": "execute_result"
        }
      ],
      "source": [
        "for i in member['이름']:\n",
        "    if len(tm.loc[tm['이름'] == i]) != 4:\n",
        "        df = pd.DataFrame({'이름':[i,i],'상태':['가결','가결외'],'초당':[0,0],'법안 ID':[0,0]})\n",
        "        tm = tm.append(df,ignore_index=True)\n",
        "tm = tm.sort_values(by = ['이름','상태','초당'])\n",
        "tm = tm.drop(1190, axis = 0)\n",
        "tm.set_index('이름', inplace = True)\n",
        "tm.head(3)"
      ]
    },
    {
      "cell_type": "code",
      "execution_count": 1800,
      "metadata": {
        "colab": {
          "base_uri": "https://localhost:8080/",
          "height": 143
        },
        "id": "_FXFEbT57Man",
        "outputId": "fca0cf9c-b39c-4890-c4b6-e083a2eaed42"
      },
      "outputs": [
        {
          "data": {
            "text/html": [
              "<div>\n",
              "<style scoped>\n",
              "    .dataframe tbody tr th:only-of-type {\n",
              "        vertical-align: middle;\n",
              "    }\n",
              "\n",
              "    .dataframe tbody tr th {\n",
              "        vertical-align: top;\n",
              "    }\n",
              "\n",
              "    .dataframe thead th {\n",
              "        text-align: right;\n",
              "    }\n",
              "</style>\n",
              "<table border=\"1\" class=\"dataframe\">\n",
              "  <thead>\n",
              "    <tr style=\"text-align: right;\">\n",
              "      <th></th>\n",
              "      <th>이름</th>\n",
              "      <th>가결+초당</th>\n",
              "      <th>가결+비초당</th>\n",
              "      <th>가결외+초당</th>\n",
              "      <th>가결외+비초당</th>\n",
              "      <th>가결</th>\n",
              "      <th>가결외</th>\n",
              "      <th>초당</th>\n",
              "      <th>비초당</th>\n",
              "      <th>법안</th>\n",
              "    </tr>\n",
              "  </thead>\n",
              "  <tbody>\n",
              "    <tr>\n",
              "      <th>0</th>\n",
              "      <td>강기윤(姜起潤)</td>\n",
              "      <td>127</td>\n",
              "      <td>216</td>\n",
              "      <td>276</td>\n",
              "      <td>617</td>\n",
              "      <td>343</td>\n",
              "      <td>893</td>\n",
              "      <td>403</td>\n",
              "      <td>833</td>\n",
              "      <td>1236</td>\n",
              "    </tr>\n",
              "    <tr>\n",
              "      <th>1</th>\n",
              "      <td>강대식(姜大植)</td>\n",
              "      <td>157</td>\n",
              "      <td>149</td>\n",
              "      <td>296</td>\n",
              "      <td>431</td>\n",
              "      <td>306</td>\n",
              "      <td>727</td>\n",
              "      <td>453</td>\n",
              "      <td>580</td>\n",
              "      <td>1033</td>\n",
              "    </tr>\n",
              "    <tr>\n",
              "      <th>2</th>\n",
              "      <td>강득구(姜得求)</td>\n",
              "      <td>285</td>\n",
              "      <td>102</td>\n",
              "      <td>696</td>\n",
              "      <td>497</td>\n",
              "      <td>387</td>\n",
              "      <td>1193</td>\n",
              "      <td>981</td>\n",
              "      <td>599</td>\n",
              "      <td>1580</td>\n",
              "    </tr>\n",
              "  </tbody>\n",
              "</table>\n",
              "</div>"
            ],
            "text/plain": [
              "         이름  가결+초당  가결+비초당  가결외+초당  가결외+비초당   가결   가결외   초당  비초당    법안\n",
              "0  강기윤(姜起潤)    127     216     276      617  343   893  403  833  1236\n",
              "1  강대식(姜大植)    157     149     296      431  306   727  453  580  1033\n",
              "2  강득구(姜得求)    285     102     696      497  387  1193  981  599  1580"
            ]
          },
          "execution_count": 1800,
          "metadata": {},
          "output_type": "execute_result"
        }
      ],
      "source": [
        "mem_law = pd.DataFrame(0, index = member['이름'].copy(),\n",
        "                       columns = ['가결+초당','가결+비초당','가결외+초당','가결외+비초당'])\n",
        "for i in member['이름'].copy():\n",
        "    mem_law.loc[i, '가결+비초당'] = tm.loc[i, '법안 ID'][0]   \n",
        "    mem_law.loc[i, '가결+초당'] = tm.loc[i, '법안 ID'][1]\n",
        "    mem_law.loc[i, '가결외+비초당'] = tm.loc[i, '법안 ID'][2]\n",
        "    mem_law.loc[i, '가결외+초당'] = tm.loc[i, '법안 ID'][3]\n",
        "mem_law['가결'] = mem_law['가결+초당']+mem_law['가결+비초당']\n",
        "mem_law['가결외'] = mem_law['가결외+초당']+mem_law['가결외+비초당']\n",
        "mem_law['초당'] = mem_law['가결+초당']+mem_law['가결외+초당']\n",
        "mem_law['비초당'] = mem_law['가결+비초당']+mem_law['가결외+비초당']\n",
        "mem_law['법안'] = mem_law['가결+초당']+mem_law['가결외+초당']+mem_law['가결+비초당']+mem_law['가결외+비초당']\n",
        "mem_law.reset_index(inplace = True)\n",
        "mem_law.head(3)"
      ]
    },
    {
      "cell_type": "code",
      "execution_count": 1801,
      "metadata": {},
      "outputs": [
        {
          "data": {
            "text/html": [
              "<div>\n",
              "<style scoped>\n",
              "    .dataframe tbody tr th:only-of-type {\n",
              "        vertical-align: middle;\n",
              "    }\n",
              "\n",
              "    .dataframe tbody tr th {\n",
              "        vertical-align: top;\n",
              "    }\n",
              "\n",
              "    .dataframe thead th {\n",
              "        text-align: right;\n",
              "    }\n",
              "</style>\n",
              "<table border=\"1\" class=\"dataframe\">\n",
              "  <thead>\n",
              "    <tr style=\"text-align: right;\">\n",
              "      <th></th>\n",
              "      <th>이름</th>\n",
              "      <th>정당명</th>\n",
              "      <th>나이</th>\n",
              "      <th>당선</th>\n",
              "      <th>소속 위원회 목록</th>\n",
              "      <th>성별</th>\n",
              "      <th>학력</th>\n",
              "      <th>당색</th>\n",
              "      <th>위원회수</th>\n",
              "      <th>가결</th>\n",
              "      <th>가결외</th>\n",
              "      <th>초당</th>\n",
              "      <th>비초당</th>\n",
              "      <th>법안</th>\n",
              "    </tr>\n",
              "  </thead>\n",
              "  <tbody>\n",
              "    <tr>\n",
              "      <th>0</th>\n",
              "      <td>강기윤(姜起潤)</td>\n",
              "      <td>국민의힘</td>\n",
              "      <td>63</td>\n",
              "      <td>2</td>\n",
              "      <td>보건복지위원회</td>\n",
              "      <td>남</td>\n",
              "      <td>3</td>\n",
              "      <td>green</td>\n",
              "      <td>1</td>\n",
              "      <td>343</td>\n",
              "      <td>893</td>\n",
              "      <td>403</td>\n",
              "      <td>833</td>\n",
              "      <td>1236</td>\n",
              "    </tr>\n",
              "    <tr>\n",
              "      <th>1</th>\n",
              "      <td>강대식(姜大植)</td>\n",
              "      <td>국민의힘</td>\n",
              "      <td>64</td>\n",
              "      <td>1</td>\n",
              "      <td>국토교통위원회</td>\n",
              "      <td>남</td>\n",
              "      <td>3</td>\n",
              "      <td>green</td>\n",
              "      <td>1</td>\n",
              "      <td>306</td>\n",
              "      <td>727</td>\n",
              "      <td>453</td>\n",
              "      <td>580</td>\n",
              "      <td>1033</td>\n",
              "    </tr>\n",
              "    <tr>\n",
              "      <th>2</th>\n",
              "      <td>강득구(姜得求)</td>\n",
              "      <td>더불어민주당</td>\n",
              "      <td>60</td>\n",
              "      <td>1</td>\n",
              "      <td>인구위기특별위원회, 교육위원회</td>\n",
              "      <td>남</td>\n",
              "      <td>2</td>\n",
              "      <td>blue</td>\n",
              "      <td>2</td>\n",
              "      <td>387</td>\n",
              "      <td>1193</td>\n",
              "      <td>981</td>\n",
              "      <td>599</td>\n",
              "      <td>1580</td>\n",
              "    </tr>\n",
              "  </tbody>\n",
              "</table>\n",
              "</div>"
            ],
            "text/plain": [
              "         이름     정당명  나이  당선         소속 위원회 목록 성별  학력     당색  위원회수   가결   가결외  \\\n",
              "0  강기윤(姜起潤)    국민의힘  63   2           보건복지위원회  남   3  green     1  343   893   \n",
              "1  강대식(姜大植)    국민의힘  64   1           국토교통위원회  남   3  green     1  306   727   \n",
              "2  강득구(姜得求)  더불어민주당  60   1  인구위기특별위원회, 교육위원회  남   2   blue     2  387  1193   \n",
              "\n",
              "    초당  비초당    법안  \n",
              "0  403  833  1236  \n",
              "1  453  580  1033  \n",
              "2  981  599  1580  "
            ]
          },
          "execution_count": 1801,
          "metadata": {},
          "output_type": "execute_result"
        }
      ],
      "source": [
        "member = pd.merge(member, mem_law[['이름','가결','가결외','초당','비초당','법안']], how = 'inner', on = '이름')\n",
        "member.head(3)"
      ]
    },
    {
      "cell_type": "code",
      "execution_count": 1802,
      "metadata": {
        "colab": {
          "base_uri": "https://localhost:8080/",
          "height": 143
        },
        "id": "Efe9eEShzuiv",
        "outputId": "750051aa-5148-4b1e-cec4-334bac7da906"
      },
      "outputs": [
        {
          "data": {
            "text/html": [
              "<div>\n",
              "<style scoped>\n",
              "    .dataframe tbody tr th:only-of-type {\n",
              "        vertical-align: middle;\n",
              "    }\n",
              "\n",
              "    .dataframe tbody tr th {\n",
              "        vertical-align: top;\n",
              "    }\n",
              "\n",
              "    .dataframe thead th {\n",
              "        text-align: right;\n",
              "    }\n",
              "</style>\n",
              "<table border=\"1\" class=\"dataframe\">\n",
              "  <thead>\n",
              "    <tr style=\"text-align: right;\">\n",
              "      <th></th>\n",
              "      <th>의원A</th>\n",
              "      <th>의원B</th>\n",
              "      <th>가결</th>\n",
              "      <th>가결외</th>\n",
              "    </tr>\n",
              "  </thead>\n",
              "  <tbody>\n",
              "    <tr>\n",
              "      <th>0</th>\n",
              "      <td>0</td>\n",
              "      <td>0</td>\n",
              "      <td>0</td>\n",
              "      <td>0</td>\n",
              "    </tr>\n",
              "    <tr>\n",
              "      <th>1</th>\n",
              "      <td>0</td>\n",
              "      <td>0</td>\n",
              "      <td>0</td>\n",
              "      <td>0</td>\n",
              "    </tr>\n",
              "    <tr>\n",
              "      <th>2</th>\n",
              "      <td>0</td>\n",
              "      <td>0</td>\n",
              "      <td>0</td>\n",
              "      <td>0</td>\n",
              "    </tr>\n",
              "  </tbody>\n",
              "</table>\n",
              "</div>"
            ],
            "text/plain": [
              "   의원A  의원B  가결  가결외\n",
              "0    0    0   0    0\n",
              "1    0    0   0    0\n",
              "2    0    0   0    0"
            ]
          },
          "execution_count": 1802,
          "metadata": {},
          "output_type": "execute_result"
        }
      ],
      "source": [
        "num = len(member)\n",
        "myArr = np.zeros((num*(num-1)//2, 4), dtype = int)\n",
        "graph_edge = pd.DataFrame(myArr, columns = ['의원A', '의원B', '가결', '가결외'])\n",
        "graph_edge.head(3)"
      ]
    },
    {
      "cell_type": "code",
      "execution_count": 1803,
      "metadata": {
        "colab": {
          "base_uri": "https://localhost:8080/",
          "height": 264
        },
        "id": "k8hSNOGfzIqJ",
        "outputId": "858945da-1a9f-4006-dafd-3447d6963b4f"
      },
      "outputs": [
        {
          "data": {
            "text/html": [
              "<div>\n",
              "<style scoped>\n",
              "    .dataframe tbody tr th:only-of-type {\n",
              "        vertical-align: middle;\n",
              "    }\n",
              "\n",
              "    .dataframe tbody tr th {\n",
              "        vertical-align: top;\n",
              "    }\n",
              "\n",
              "    .dataframe thead th {\n",
              "        text-align: right;\n",
              "    }\n",
              "</style>\n",
              "<table border=\"1\" class=\"dataframe\">\n",
              "  <thead>\n",
              "    <tr style=\"text-align: right;\">\n",
              "      <th></th>\n",
              "      <th></th>\n",
              "      <th>가결</th>\n",
              "      <th>가결외</th>\n",
              "    </tr>\n",
              "    <tr>\n",
              "      <th>의원A</th>\n",
              "      <th>의원B</th>\n",
              "      <th></th>\n",
              "      <th></th>\n",
              "    </tr>\n",
              "  </thead>\n",
              "  <tbody>\n",
              "    <tr>\n",
              "      <th rowspan=\"3\" valign=\"top\">강기윤(姜起潤)</th>\n",
              "      <th>강대식(姜大植)</th>\n",
              "      <td>0</td>\n",
              "      <td>0</td>\n",
              "    </tr>\n",
              "    <tr>\n",
              "      <th>강득구(姜得求)</th>\n",
              "      <td>0</td>\n",
              "      <td>0</td>\n",
              "    </tr>\n",
              "    <tr>\n",
              "      <th>강민국(姜旻局)</th>\n",
              "      <td>0</td>\n",
              "      <td>0</td>\n",
              "    </tr>\n",
              "  </tbody>\n",
              "</table>\n",
              "</div>"
            ],
            "text/plain": [
              "                   가결  가결외\n",
              "의원A      의원B              \n",
              "강기윤(姜起潤) 강대식(姜大植)   0    0\n",
              "         강득구(姜得求)   0    0\n",
              "         강민국(姜旻局)   0    0"
            ]
          },
          "execution_count": 1803,
          "metadata": {},
          "output_type": "execute_result"
        }
      ],
      "source": [
        "# 파이썬스러운 날먹 방법이 분명 있을 것 같은데 생각이 안 난다...\n",
        "graph_edge = graph_edge.astype({'의원A':'object', '의원B':'object'})\n",
        "cnt = 0\n",
        "for i in range(num):\n",
        "  for j in range(i + 1, num):\n",
        "    graph_edge.loc[cnt, '의원A'], graph_edge.loc[cnt,'의원B'] = member.loc[i, '이름'], member.loc[j,'이름']\n",
        "    # df_graph에 의원 이름을 인덱스로 넣어주기\n",
        "    cnt+=1\n",
        "graph_edge.set_index(['의원A', '의원B'], inplace = True) # 속도를 위해 의원 이름을 index로\n",
        "graph_edge.head(3)"
      ]
    },
    {
      "cell_type": "code",
      "execution_count": 1804,
      "metadata": {
        "colab": {
          "base_uri": "https://localhost:8080/"
        },
        "id": "dJSSBpyCg-qL",
        "outputId": "f74fe5e2-0faf-4404-978e-3ba278f3331f"
      },
      "outputs": [
        {
          "name": "stdout",
          "output_type": "stream",
          "text": [
            "[0, 9, 21, 38, 48, 60, 70, 82, 98, 109, 119, 131, 140, 150, 160, 170, 179, 190, 201, 212, 222, 231, 244, 255, 268, 279, 290, 303, 314, 327, 338, 348, 365, 375, 385, 399, 422, 432, 446, 457, 469, 480, 490, 529, 539, 550, 561, 574, 585, 596, 605, 615, 624, 637, 667, 679, 689, 700, 711, 722, 731, 751, 762, 774, 783, 794, 804, 817, 827, 838, 854, 864, 875, 888, 898, 908, 952, 964, 976, 987, 1048, 1069, 1083, 1093, 1108, 1130, 1140, 1151, 1164, 1174, 1185, 1197, 1212, 1225, 1235, 1245, 1255, 1269, 1278, 1293, 1305, 1315, 1326, 1340, 1351, 1360, 1370, 1381, 1391, 1407, 1418, 1428, 1441, 1459, 1469, 1481, 1492, 1503, 1513, 1525, 1535, 1548, 1558, 1570, 1580, 1617, 1628, 1643, 1653, 1663, 1672, 1682, 1692, 1702, 1714, 1724, 1734, 1755, 1768, 1778, 1789, 1799, 1812, 1825, 1842, 1853, 1863, 1873, 1884, 1895, 1907, 1917, 1927, 1937, 1947, 1958, 1969, 1979, 1989, 2008, 2019, 2029, 2040, 2050, 2060, 2073, 2084, 2093, 2102, 2112, 2127, 2136, 2148, 2159, 2170, 2180, 2193, 2202, 2214, 2225, 2235, 2248, 2260, 2276, 2286, 2297, 2306, 2318, 2331, 2341, 2351, 2361, 2372, 2382, 2391, 2407, 2417, 2430, 2440, 2455, 2467, 2476, 2489, 2499, 2517, 2623, 2635, 2645, 2665, 2677, 2699, 2714, 2729, 2739, 2779, 2793, 2807, 2822, 2834, 2844, 2867, 2877, 2887, 2898, 2909, 2919, 2930, 2940, 2961, 2971, 2981, 2991, 3002, 3012, 3026, 3036, 3048, 3058, 3068, 3079, 3092, 3105, 3116, 3127, 3137, 3147, 3158, 3173, 3183, 3193, 3214, 3222, 3238, 3247, 3257, 3270, 3280, 3290, 3300, 3354, 3364, 3374, 3384, 3393, 3405, 3417, 3432, 3441, 3451, 3462, 3479, 3488, 3499, 3509, 3519, 3533, 3545, 3564, 3574, 3585, 3594, 3604, 3619, 3634, 3647, 3657, 3671, 3683, 3693, 3704, 3714, 3724, 3733, 3744, 3756, 3765, 3776, 3787, 3797, 3807, 3818, 3827, 3837, 3848, 3859, 3869, 3881, 3891, 3901, 3914, 3924, 3937, 3947, 3957, 3995, 4004, 4021, 4033, 4045, 4058, 4067, 4079, 4089, 4097, 4109, 4132, 4142, 4152, 4163, 4173, 4185, 4196, 4210, 4221, 4234, 4244, 4255, 4270, 4280, 4290, 4306, 4316, 4325, 4337, 4349, 4358, 4374, 4383, 4394, 4404, 4418, 4434, 4449, 4459, 4469, 4479, 4489, 4504, 4515, 4527, 4538, 4558, 4568, 4589, 4599, 4611, 4621, 4643, 4653, 4663, 4672, 4681, 4692, 4702, 4715, 4729, 4794, 4804, 4815, 4824, 4838, 4851, 4861, 4875, 4886, 4896, 4905, 4915, 4924, 4934, 4945, 4956, 4968, 4978, 4989, 4999, 5010, 5020, 5041, 5052, 5063, 5078, 5091, 5103, 5125, 5139, 5148, 5159, 5172, 5184, 5196, 5206, 5219, 5229, 5239, 5249, 5259, 5269, 5308, 5339, 5349, 5359, 5371, 5385, 5397, 5411, 5421, 5443, 5454, 5465, 5477, 5507, 5528, 5541, 5553, 5563, 5573, 5585, 5594, 5603, 5614, 5625, 5636, 5659, 5669, 5680, 5691, 5707, 5718, 5727, 5737, 5748, 5759, 5769, 5780, 5791, 5804, 5812, 5823, 5834, 5849, 5858, 5868, 5892, 5902, 5912, 5925, 5935, 5945, 5994, 6004, 6018, 6026, 6038, 6049, 6059, 6069, 6080, 6089, 6100, 6111, 6120, 6129, 6148, 6158, 6169, 6188, 6198, 6209, 6219, 6235, 6246, 6259, 6274, 6283, 6294, 6304, 6317, 6329, 6340, 6350, 6360, 6374, 6384, 6399, 6409, 6419, 6430, 6440, 6451, 6460, 6470, 6480, 6490, 6499, 6509, 6522, 6534, 6701, 6710, 6719, 6728, 6739, 6749, 6759, 6777, 6787, 6797, 6815, 6824, 6834, 6845, 6856, 6867, 6876, 6889, 6899, 6910, 6921, 6934, 6944, 6957, 6967, 6982, 6992, 7002, 7014, 7024, 7034, 7044, 7056, 7079, 7088, 7101, 7111, 7122, 7132, 7143, 7153, 7164, 7175, 7185, 7195, 7330, 7345, 7357, 7368, 7381, 7392, 7406, 7416, 7426, 7436, 7447, 7456, 7471, 7481, 7491, 7530, 7540, 7551, 7562, 7575, 7585, 7596, 7605, 7625, 7639, 7648, 7659, 7678, 7688, 7697, 7706, 7718, 7729, 7739, 7756, 7768, 7777, 7790, 7802, 7812, 7823, 7833, 7843, 7853, 7880, 7894, 7912, 7922, 7932, 7942, 7958, 7987, 7998, 8007, 8017, 8032, 8042, 8054, 8063, 8075, 8086, 8096, 8106, 8116, 8126, 8136, 8146, 8156, 8168, 8177, 8190, 8210, 8220, 8231, 8243, 8253, 8263, 8274, 8290, 8301, 8311, 8322, 8333, 8344, 8353, 8363, 8372, 8387, 8400, 8412, 8422, 8474, 8483, 8494, 8504, 8514, 8527, 8538, 8550, 8561, 8571, 8596, 8606, 8618, 8630, 8640, 8654, 8665, 8677, 8688, 8703, 8713, 8724, 8734, 8747, 8757, 8768, 8777, 8787, 8800, 8810, 8824, 8835, 8847, 8858, 8869, 8882, 8893, 8903, 8917, 8927, 8941, 8955, 8968, 8991, 9002, 9019, 9029, 9039, 9051, 9067, 9077, 9089, 9109, 9125, 9135, 9147, 9182, 9192, 9203, 9216, 9226, 9236, 9247, 9258, 9267, 9277, 9287, 9297, 9311, 9326, 9336, 9348, 9367, 9378, 9388, 9401, 9414, 9424, 9434, 9454, 9464, 9476, 9499, 9514, 9529, 9541, 9551, 9561, 9572, 9588, 9599, 9608, 9619, 9629, 9641, 9654, 9666, 9676, 9686, 9696, 9708, 9718, 9734, 9744, 9755, 9768, 9777, 9789, 9800, 9815, 9828, 9838, 9855, 9865, 9884, 9906, 9918, 9934, 9944, 9970, 9985, 10007, 10018, 10029, 10040, 10051, 10062, 10072, 10084, 10095, 10106, 10117, 10127, 10137, 10147, 10162, 10172, 10182, 10192, 10205, 10215, 10225, 10236, 10246, 10259, 10269, 10281, 10291, 10309, 10319, 10332, 10342, 10354, 10367, 10377, 10392, 10405, 10416, 10432, 10443, 10453, 10463, 10632, 10778, 10796, 10806, 10817, 10836, 10854, 10868, 10887, 10898, 10908, 10923, 10932, 10947, 10956, 10968, 10988, 11002, 11013, 11032, 11043, 11056, 11066, 11077, 11100, 11110, 11121, 11133, 11142, 11152, 11162, 11180, 11190, 11213, 11234, 11244, 11255, 11266, 11279, 11291, 11302, 11315, 11325, 11335, 11345, 11369, 11383, 11396, 11410, 11421, 11431, 11445, 11455, 11467, 11478, 11493, 11510, 11521, 11533, 11543, 11558, 11568, 11578, 11593, 11607, 11620, 11630, 11640, 11650, 11665, 11675, 11700, 11712, 11743, 11754, 11764, 11774, 11784, 11794, 11825, 11834, 11844, 11853, 11862, 11875, 11886, 11897, 11912, 11928, 11938, 11948, 11958, 11988, 12001, 12010, 12021, 12032, 12042, 12052, 12071, 12081, 12092, 12102, 12117, 12127, 12138, 12148, 12163, 12173, 12184, 12202, 12212, 12222, 12232, 12242, 12261, 12276, 12286, 12298, 12310, 12322, 12333, 12347, 12357, 12367, 12379, 12389, 12399, 12409, 12421, 12434, 12459, 12468, 12479, 12494, 12507, 12519, 12529, 12540, 12552, 12563, 12575, 12585, 12595, 12604, 12615, 12625, 12641, 12651, 12662, 12673, 12683, 12693, 12702, 12713, 12807, 12817, 12826, 12841, 12855, 12873, 12883, 12895, 12905, 12919, 12938, 12957, 13023, 13033, 13046, 13056, 13065, 13078, 13088, 13101, 13111, 13119, 13129, 13139, 13149, 13256, 13267, 13279, 13291, 13305, 13315, 13326, 13337, 13348, 13365, 13377, 13387, 13397, 13409, 13419, 13429, 13446, 13455, 13467, 13476, 13492, 13504, 13514, 13554, 13573, 13582, 13591, 13603, 13613, 13624, 13636, 13646, 13656, 13668, 13686, 13697, 13707, 13717, 13730, 13744, 13756, 13770, 13780, 13790, 13809, 13820, 13830, 13842, 13857, 13872, 13884, 13894, 13905, 13915, 13925, 13935, 13947, 13957, 13967, 13977, 13988, 14000, 14034, 14044, 14056, 14071, 14084, 14093, 14102, 14115, 14126, 14134, 14143, 14179, 14190, 14200, 14210, 14219, 14230, 14240, 14250, 14262, 14275, 14288, 14297, 14307, 14317, 14328, 14338, 14348, 14358, 14368, 14377, 14386, 14398, 14410, 14428, 14438, 14454, 14463, 14481, 14492, 14504, 14514, 14524, 14537, 14548, 14560, 14571, 14582, 14594, 14606, 14618, 14628, 14638, 14646, 14655, 14668, 14678, 14688, 14701, 14719, 14731, 14740, 14750, 14812, 14824, 14834, 14849, 14864, 14876, 14887, 14906, 14933, 14943, 14953, 14964, 14976, 14985, 14996, 15007, 15016, 15027, 15037, 15048, 15057, 15068, 15078, 15087, 15097, 15107, 15118, 15130, 15140, 15150, 15166, 15179, 15192, 15203, 15214, 15224, 15233, 15244, 15252, 15264, 15273, 15282, 15290, 15301, 15311, 15321, 15332, 15342, 15352, 15362, 15372, 15383, 15392, 15405, 15415, 15425, 15434, 15451, 15459, 15468, 15480, 15490, 15500, 15512, 15523, 15532, 15544, 15554, 15566, 15576, 15589, 15600, 15610, 15620, 15631, 15640, 15648, 15662, 15674, 15683, 15692, 15703, 15713, 15724, 15736, 15745, 15754, 15765, 15778, 15788, 15798, 15811, 15822, 15833, 15845, 15854, 15865, 15881, 15892, 15903, 15914, 15924, 15934, 15944, 15955, 15966, 15976, 15986, 16003, 16013, 16024, 16035, 16046, 16057, 16138, 16151, 16161, 16174, 16188, 16203, 16215, 16229, 16243, 16253, 16272, 16284, 16295, 16307, 16325, 16335, 16354, 16367, 16379, 16389, 16399, 16409, 16419, 16431, 16445, 16455, 16463, 16474, 16486, 16501, 16511, 16522, 16533, 16543, 16554, 16564, 16574, 16584, 16598, 16607, 16616, 16626, 16669, 16684, 16693, 16706, 16716, 16728, 16738, 16748, 16759, 16769, 16778, 16788, 16801, 16812, 16822, 16833, 16842, 16854, 16863, 16874, 16889, 16899, 16910, 16928, 16938, 16953, 16965, 16983, 16996, 17008, 17068, 17080, 17090, 17101, 17111, 17121, 17137, 17149, 17176, 17186, 17196, 17209, 17223, 17239, 17252, 17265, 17275, 17286, 17296, 17306, 17317, 17327, 17338, 17375, 17403, 17412, 17422, 17432, 17442, 17452, 17463, 17475, 17485, 17501, 17512, 17522, 17532, 17543, 17555, 17565, 17575, 17586, 17611, 17620, 17630, 17642, 17660, 17669, 17679, 17688, 17698, 17709, 17727, 17742, 17772, 17782, 17791, 17802, 17815, 17824, 17833, 17845, 17862, 17873, 17884, 17894, 17904, 17927, 17937, 17972, 17984, 17994, 18004, 18013, 18024, 18034, 18044, 18054, 18066, 18080, 18090, 18104, 18285, 18295, 18306, 18317, 18341, 18351, 18380, 18393, 18404, 18420, 18430, 18440, 18453, 18481, 18519, 18531, 18543, 18553, 18568, 18578, 18589, 18600, 18610, 18622, 18632, 18645, 18657, 18667, 18678, 18689, 18699, 18710, 18752, 18763, 18781, 18791, 18800, 18812, 18822, 18831, 18841, 18854, 18865, 18875, 18885, 18895, 18905, 18916, 18928, 18939, 18954, 18966, 18975, 18988, 19006, 19018, 19029, 19040, 19052, 19062, 19071, 19127, 19136, 19147, 19162, 19173, 19183, 19193, 19203, 19215, 19226, 19236, 19246, 19277, 19289, 19299, 19308, 19318, 19331, 19343, 19356, 19366, 19380, 19390, 19400, 19412, 19423, 19443, 19453, 19462, 19472, 19484, 19494, 19504, 19514, 19529, 19539, 19551, 19562, 19573, 19582, 19601, 19611, 19623, 19633, 19644, 19654, 19664, 19672, 19684, 19693, 19705, 19731, 19742, 19752, 19762, 19781, 19792, 19807, 19816, 19825, 19835, 19847, 19855, 19865, 19886, 19896, 19906, 19918, 19928, 19938, 19948, 19958, 19969, 19978, 19994, 20004, 20015, 20027, 20038, 20049, 20059, 20069, 20079, 20094, 20105, 20116, 20127, 20137, 20156, 20168, 20179, 20189, 20198, 20209, 20221, 20232, 20244, 20304, 20314, 20324, 20335, 20346, 20357, 20368, 20379, 20388, 20423, 20434, 20454, 20464, 20473, 20485, 20495, 20510, 20520, 20530, 20539, 20550, 20562, 20573, 20583, 20593, 20610, 20621, 20631, 20640, 20655, 20665, 20675, 20685, 20704, 20718, 20726, 20746, 20789, 20799, 20809, 20819, 20829, 20840, 20851, 20861, 20871, 20881, 20890, 20899, 20911, 20921, 20931, 20942, 20952, 20963, 20976, 20986, 20996, 21013, 21022, 21033, 21049, 21059, 21069, 21080, 21092, 21102, 21115, 21125, 21135, 21146, 21158, 21168, 21177, 21188, 21199, 21211, 21222, 21233, 21251, 21260, 21274, 21284, 21296, 21306, 21317, 21331, 21344, 21354, 21375, 21386, 21397, 21408, 21418, 21436, 21450, 21463, 21475, 21490, 21500, 21513, 21523, 21536, 21549, 21560, 21570, 21582, 21593, 21604, 21620, 21628, 21638, 21650, 21660, 21669, 21679, 21690, 21700, 21713, 21724, 21736, 21749, 21760, 21773, 21783, 21817, 21828, 21838, 21850, 21859, 21869, 21879, 21897, 21908, 21920, 21930, 21943, 21953, 21996, 22006, 22016, 22026, 22036, 22053, 22068, 22082, 22092, 22105, 22118, 22128, 22138, 22149, 22160, 22171, 22181, 22191, 22201, 22214, 22223, 22234, 22252, 22268, 22280, 22292, 22303, 22327, 22340, 22351, 22368, 22378, 22388, 22401, 22411, 22423, 22438, 22448, 22458, 22471, 22481, 22494, 22506, 22520, 22530, 22547, 22561, 22571, 22588, 22599, 22609, 22621, 22633, 22648, 22657, 22667, 22678, 22689, 22699, 22709, 22719, 22729, 22743, 22753, 22765, 22774, 22783, 22794, 22804, 22813, 22822, 22833, 22847, 22856, 22870, 22887, 22895, 22910, 22920, 22932, 22941, 22955, 22966, 22975, 22986, 22996, 23008, 23018, 23029, 23040, 23050, 23061, 23072, 23083, 23093, 23109, 23120, 23129, 23140, 23152, 23163, 23177, 23188, 23198, 23212, 23222, 23234, 23244, 23255, 23292, 23305, 23324, 23334, 23346, 23356, 23366, 23380, 23398, 23408, 23419, 23432, 23443, 23452, 23461, 23474, 23484, 23494, 23511, 23521, 23532, 23541, 23551, 23560, 23576, 23586, 23601, 23613, 23626, 23636, 23646, 23656, 23665, 23680, 23689, 23699, 23727, 23740, 23750, 23760, 23773, 23783, 23793, 23803, 23813, 23824, 23834, 23846, 23871, 23881, 23896, 23906, 23918, 23928, 23940, 23950, 23960, 23970, 23986, 23999, 24009, 24021, 24036, 24065, 24077, 24090, 24103, 24113, 24124, 24134, 24151, 24162, 24172, 24185, 24196, 24207, 24218, 24228, 24239, 24250, 24261, 24272, 24283, 24293, 24305, 24316, 24326, 24337, 24350, 24366, 24380, 24390, 24406, 24416, 24427, 24439, 24449, 24463, 24473, 24494, 24503, 24568, 24577, 24585, 24598, 24691, 24705, 24714, 24725, 24735, 24745, 24757, 24769, 24780, 24796, 24806, 24817, 24828, 24838, 24849, 24859, 24870, 24881, 24904, 24925, 24936, 24946, 24956, 24968, 24978, 24991, 25004, 25017, 25027, 25036, 25060, 25075, 25086, 25096, 25106, 25121, 25130, 25142, 25158, 25168, 25183, 25199, 25209, 25221, 25231, 25246, 25256, 25266, 25278, 25288, 25298, 25308, 25318, 25329, 25342, 25352, 25375, 25385, 25396, 25410, 25420, 25430, 25441, 25451, 25479, 25489, 25503, 25515, 25525, 25536, 25555, 25564, 25575, 25591, 25604, 25634, 25647, 25657, 25669, 25678, 25688, 25698, 25710, 25720, 25731, 25741, 25751, 25765, 25774, 25785, 25795, 25806, 25816, 25831, 25848, 25863, 25902, 25913, 25932, 25943, 25954, 25980, 25995, 26003, 26013, 26023, 26033, 26044, 26061, 26072, 26085, 26096, 26105, 26116, 26124, 26137, 26146, 26159, 26172, 26204, 26214, 26225, 26241, 26252, 26262, 26272, 26282, 26292, 26306, 26316, 26328, 26338, 26349, 26362, 26372, 26382, 26395, 26412, 26422, 26431, 26444, 26456, 26467, 26479, 26488, 26499, 26509, 26518, 26528, 26539, 26549, 26561, 26571, 26584, 26596, 26605, 26619, 26629, 26640, 26654, 26665, 26676, 26686, 26698, 26712, 26722, 26732, 26744, 26753, 26781, 26794, 26806, 26816, 26831, 26841, 26851, 26861, 26871, 26890, 27064, 27074, 27084, 27096, 27114, 27129, 27137, 27201, 27211, 27253, 27263, 27273, 27285, 27296, 27313, 27323, 27332, 27342, 27353, 27369, 27380, 27390, 27400, 27412, 27421, 27432, 27444, 27454, 27485, 27499, 27509, 27519, 27532, 27563, 27575, 27587, 27597, 27616, 27625, 27646, 27656, 27667, 27680, 27689, 27707, 27718, 27728, 27738, 27748, 27759, 27769, 27778, 27788, 27800, 27811, 27821, 27830, 27840, 27853, 27863, 27873, 27882, 27896, 27906, 27918, 27929, 27938, 27948, 27958, 27971, 27980, 27991, 28001, 28011, 28023, 28042, 28052, 28060, 28068, 28078, 28088, 28101, 28112, 28123, 28134, 28164, 28174, 28184, 28194, 28204, 28214, 28225, 28238, 28250, 28260, 28271, 28287, 28298, 28308, 28318, 28328, 28341, 28390, 28403, 28412, 28422, 28432, 28443, 28455, 28464, 28478, 28493, 28503, 28513, 28524, 28534, 28543, 28552, 28563, 28573, 28586, 28595, 28605, 28615, 28627, 28639, 28652, 28663, 28693, 28704, 28719, 28730, 28740, 28753, 28764, 28774, 28784, 28804, 28815, 28826, 28837, 28846, 28857, 28869, 28878, 28887, 28899, 28914, 28924, 28937, 28948, 28958, 28968, 28978, 28993, 29010, 29020, 29032, 29042, 29053, 29066, 29077, 29086, 29095, 29104, 29115, 29125, 29142, 29152, 29164, 29173, 29185, 29195, 29205, 29217, 29226, 29237, 29252, 29262, 29272, 29282, 29302, 29313, 29325, 29335, 29344, 29366, 29377, 29390, 29403, 29412, 29424, 29437, 29446, 29458, 29468, 29478, 29488, 29502, 29513, 29527, 29538, 29550, 29560, 29570, 29580, 29592, 29602, 29612, 29628, 29641, 29653, 29663, 29675, 29810, 29821, 29836, 29856, 29865, 29876, 29891, 29903, 29914, 29926, 29937, 29946, 29958, 29970, 29980, 29990, 30006, 30017, 30026, 30037, 30052, 30072, 30083, 30093, 30102, 30114, 30123, 30137, 30146, 30160, 30170, 30180, 30190, 30200, 30213, 30225, 30238, 30248, 30259, 30270, 30287, 30296, 30309, 30325, 30363, 30373, 30385, 30394, 30404, 30414, 30424, 30438, 30450, 30466, 30476, 30489, 30500, 30511, 30521, 30531, 30546, 30557, 30568, 30580, 30592, 30602, 30613, 30625, 30637, 30670, 30681, 30693, 30716, 30736, 30748, 30757, 30776, 30791, 30807, 30817, 30828, 30838, 30851, 30861, 30871, 31039, 31050, 31061, 31074, 31084, 31096, 31118, 31129, 31295, 31308, 31318, 31328, 31342, 31353, 31370, 31383, 31398, 31408, 31418, 31428, 31437, 31448, 31458, 31467, 31477, 31489, 31501, 31511, 31520, 31534, 31544, 31554, 31564, 31575, 31585, 31595, 31604, 31613, 31631, 31642, 31652, 31667, 31679, 31692, 31702, 31712, 31722, 31733, 31745, 31755, 31765, 31778, 31788, 31802, 31812, 31823, 31833, 31843, 31853, 31880, 31892, 31904, 31915, 31927, 31938, 31948, 31958, 31975, 31986, 31997, 32007, 32017, 32027, 32042, 32052, 32063, 32073, 32082, 32092, 32102, 32112, 32122, 32131, 32144, 32155, 32165, 32175, 32186, 32196, 32206, 32215, 32227, 32239, 32249, 32259, 32272, 32283, 32297, 32307, 32317, 32330, 32340, 32349, 32360, 32374, 32384, 32394, 32403, 32414, 32424, 32435, 32445, 32455, 32466, 32484, 32494, 32504, 32515, 32526, 32536, 32546, 32558, 32568, 32577, 32587, 32599, 32608, 32618, 32629, 32639, 32649, 32659, 32668, 32677, 32689, 32700, 32710, 32723, 32732, 32742, 32751, 32761, 32771, 32783, 32797, 32808, 32818, 32828, 32846, 32856, 32869, 32881, 32889, 32899, 32911, 32971, 32981, 32993, 33002, 33014, 33024, 33036, 33047, 33057, 33077, 33088, 33097, 33107, 33117, 33128, 33137, 33160, 33173, 33184, 33194, 33204, 33225, 33244, 33254, 33262, 33274, 33285, 33297, 33308, 33320, 33332, 33342, 33351, 33362, 33373, 33383, 33403, 33413, 33423, 33434, 33444, 33454, 33464, 33474, 33486, 33496, 33507, 33517, 33531, 33540, 33803, 33812, 33824, 33834, 33843, 33851, 33861, 33875, 33886, 33936, 33947, 33959, 33972, 33982, 33992, 34002, 34025, 34039, 34055, 34066, 34079, 34090, 34100, 34110, 34128, 34140, 34152, 34169, 34179, 34194, 34204, 34215, 34224, 34235, 34246, 34262, 34271, 34284, 34296, 34308, 34318, 34331, 34499, 34509, 34520, 34533, 34568, 34581, 34597, 34607, 34618, 34629, 34810, 34821, 34831, 34841, 34851, 34862, 34871, 34882, 34912, 34922, 35021, 35073, 35084, 35096, 35103, 35113, 35123, 35132, 35142, 35154, 35168, 35178, 35188, 35198, 35212, 35223, 35234, 35248, 35258, 35268, 35278, 35290, 35302, 35313, 35323, 35333, 35343, 35353, 35369, 35379, 35389, 35398, 35409, 35420, 35433, 35443, 35454, 35464, 35476, 35488, 35498, 35510, 35522, 35531, 35543, 35556, 35566, 35577, 35589, 35600, 35610, 35622, 35632, 35642, 35660, 35671, 35685, 35701, 35711, 35722, 35743, 35753, 35763, 35777, 35789, 35799, 35810, 35820, 35837, 35847, 35857, 35867, 35878, 35888, 35897, 35996, 36032, 36049, 36062, 36074, 36084, 36094, 36261, 36272, 36281, 36294, 36306, 36316, 36328, 36340, 36354, 36368, 36378, 36390, 36402, 36412, 36427, 36441, 36450, 36461, 36472, 36482, 36495, 36509, 36522, 36532, 36542, 36552, 36562, 36573, 36584, 36594, 36604, 36615, 36628, 36639, 36667, 36678, 36688, 36703, 36714, 36724, 36738, 36749, 36761, 36771, 36781, 36791, 36801, 36815, 36825, 36835, 36845, 36855, 36865, 36877, 36887, 36898, 36909, 36928, 36942, 36952, 36962, 36972, 36982, 36991, 37004, 37015, 37027, 37039, 37049, 37061, 37077, 37087, 37096, 37111, 37122, 37132, 37146, 37156, 37165, 37177, 37188, 37198, 37209, 37218, 37230, 37242, 37253, 37267, 37277, 37289, 37299, 37309, 37328, 37342, 37359, 37381, 37391, 37401, 37411, 37421, 37431, 37443, 37453, 37463, 37473, 37483, 37495, 37508, 37524, 37538, 37548, 37562, 37573, 37584, 37598, 37608, 37619, 37629, 37639, 37648, 37668, 37684, 37696, 37706, 37717, 37727, 37773, 37939, 37963, 37975, 38030, 38040, 38050, 38060, 38069, 38080, 38090, 38101, 38111, 38121, 38132, 38148, 38158, 38170, 38180, 38192, 38207, 38218, 38234, 38246, 38256, 38268, 38278, 38289, 38303, 38314, 38324, 38334, 38347, 38357, 38367, 38381, 38391, 38401, 38411, 38424, 38436, 38453, 38469, 38497, 38507, 38521, 38531, 38542, 38551, 38561, 38572, 38587, 38596, 38606, 38615, 38625, 38635, 38645, 38663, 38675, 38699, 38712, 38721, 38731, 38741, 38752, 38764, 38775, 38785, 38799, 38813, 38823, 38834, 38844, 38858, 38867, 38877, 38889, 38908, 38926, 38936, 38950, 38960, 38972, 38986, 38996, 39006, 39015, 39026, 39040, 39051, 39072, 39095, 39105, 39118, 39129, 39168, 39181, 39193, 39315, 39329, 39342, 39355, 39365, 39375, 39386, 39399, 39412, 39423, 39438, 39450, 39574, 39590, 39600, 39626, 39635, 39645, 39662, 39678, 39692, 39703, 39713, 39724, 39734, 39744, 39754, 39764, 39774, 39784, 39793, 39803, 39814, 39833, 39845, 39857, 39868, 39878, 39887, 39904, 39913, 39923, 39938, 39950, 39961, 39971, 39984, 39993, 40007, 40016, 40028, 40037, 40048, 40067, 40077, 40088, 40101, 40112, 40122, 40132, 40142, 40157, 40168, 40181, 40191, 40202, 40214, 40227, 40237, 40250, 40260, 40271, 40281, 40293, 40305, 40319, 40329, 40339, 40354, 40365, 40376, 40387, 40398, 40407, 40419, 40429, 40443, 40460, 40470, 40480, 40491, 40501, 40510, 40520, 40531, 40541, 40552, 40564, 40581, 40590, 40600, 40610, 40619, 40634, 40645, 40655, 40672, 40682, 40707, 40717, 40727, 40737, 40747, 40758, 40819, 40835, 40845, 40858, 40871, 40883, 40896, 40908, 40922, 40932, 40942, 40952, 40962, 40975, 40985, 40996, 41007, 41017, 41030, 41040, 41050, 41060, 41070, 41079, 41091, 41103, 41113, 41136, 41146, 41156, 41176, 41186, 41196, 41212, 41222, 41232, 41242, 41252, 41264, 41274, 41285, 41296, 41307, 41318, 41331, 41341, 41358, 41370, 41382, 41392, 41409, 41419, 41430, 41439, 41451, 41463, 41473, 41484, 41496, 41506, 41516, 41529, 41539, 41549, 41562, 41581, 41592, 41602, 41612, 41622, 41633, 41643, 41654, 41666, 41676, 41687, 41698, 41710, 41721, 41737, 41747, 41757, 41770, 41782, 41794, 41804, 41814, 41826, 41837, 41848, 41859, 41869, 41878, 41888, 41899, 41909, 41920, 41930, 41940, 41952, 41969, 41979, 41991, 42003, 42014, 42024, 42036, 42048, 42058, 42074, 42089, 42102, 42113, 42134, 42156, 42169, 42180, 42191, 42204, 42213, 42223, 42233, 42243, 42254, 42266, 42278, 42290, 42305, 42315, 42324, 42343, 42361, 42370, 42384, 42397, 42412, 42423, 42432, 42446, 42457, 42474, 42483, 42494, 42504, 42513, 42774, 42782, 42792, 42802, 42812, 42822, 42832, 42841, 42853, 42865, 42876, 42888, 42899, 42909, 42920, 42931, 42940, 42951, 42963, 42973, 42984, 42993, 43003, 43013, 43025, 43038, 43047, 43058, 43074, 43084, 43109, 43120, 43130, 43141, 43157, 43168, 43178, 43188, 43204, 43215, 43227, 43237, 43248, 43259, 43269, 43278, 43288, 43299, 43308, 43318, 43329, 43339, 43352, 43364, 43378, 43389, 43408, 43418, 43428, 43440, 43450, 43459, 43478, 43490, 43501, 43514, 43529, 43542, 43552, 43720, 43730, 43741, 43751, 43763, 43780, 43807, 43817, 43827, 43842, 43853, 43862, 43877, 43888, 43898, 43910, 43921, 43933, 43946, 43956, 43969, 43993, 44003, 44013, 44025, 44037, 44051, 44060, 44070, 44081, 44091, 44102, 44112, 44122, 44133, 44146, 44156, 44168, 44182, 44249, 44259, 44441, 44453, 44466, 44480, 44499, 44509, 44521, 44535, 44545, 44565, 44576, 44592, 44628, 44642, 44652, 44666, 44678, 44688, 44698, 44710, 44719, 44729, 44743, 44756, 44766, 44778, 44788, 44799, 44821, 44836, 44847, 44858, 44870, 44884, 44896, 44908, 44918, 44938, 44951, 44971, 44981, 44996, 45007, 45017, 45030, 45039, 45074, 45082, 45091, 45101, 45111, 45125, 45143, 45155, 45165, 45178, 45191, 45201, 45213, 45224, 45235, 45246, 45256, 45268, 45279, 45289, 45456, 45474, 45484, 45494, 45504, 45517, 45531, 45548, 45559, 45569, 45579, 45595, 45605, 45617, 45627, 45637, 45651, 45661, 45672, 45683, 45693, 45707, 45716, 45742, 45752, 45768, 45779, 45789, 45799, 45810, 45820, 45830, 45841, 45855, 45870, 45882, 45891, 45901, 45915, 45938, 45948, 45960, 45971, 45981, 45992, 46003, 46014, 46026, 46037, 46046, 46061, 46071, 46086, 46103, 46113, 46123, 46136, 46146, 46158, 46169, 46181, 46191, 46204, 46214, 46226, 46238, 46248, 46260, 46270, 46282, 46292, 46301, 46312, 46323, 46333, 46345, 46359, 46376, 46385, 46396, 46406, 46416, 46426, 46439, 46449, 46466, 46479, 46488, 46498, 46509, 46522, 46533, 46541, 46551, 46561, 46570, 46580, 46590, 46601, 46611, 46626, 46635, 46645, 46653, 46665, 46674, 46685, 46694, 46705, 46720, 46729, 46752, 46763, 46773, 46788, 46799, 46809, 46819, 46831, 46843, 46853, 46863, 46873, 46882, 46891, 46900, 46912, 46924, 46954, 47006, 47017, 47031, 47041, 47051, 47061, 47342, 47352, 47363, 47377, 47388, 47401, 47418, 47429, 47440, 47460, 47470, 47482, 47492, 47502, 47513, 47524, 47539, 47558, 47568, 47579, 47588, 47600, 47646, 47657, 47668, 47678, 47688, 47699, 47709, 47722, 47733, 47744, 47754, 47784, 47793, 47802, 47814, 47826, 47836, 47846, 47856, 47866, 47879, 47890, 47901, 47912, 47921, 47931, 47941, 47953, 47964, 47991, 48001, 48013, 48025, 48035, 48045, 48058, 48069, 48079, 48089, 48099, 48109, 48138, 48156, 48168, 48176, 48185, 48195, 48205, 48214, 48225, 48238, 48249, 48262, 48285, 48305, 48320, 48328, 48337, 48351, 48361, 48371, 48386, 48397, 48408, 48418, 48584, 48595, 48606, 48617, 48627, 48636, 48649, 48659, 48669, 48683, 48694, 48704, 48715, 48725, 48734, 48745, 48755, 48773, 48783, 48793, 48805, 48819, 48829, 48839, 48854, 48865, 48875, 48885, 48896, 48908, 48922, 48933, 48945, 48957, 48967, 48981, 48998, 49011, 49021, 49035, 49046, 49068, 49079, 49090, 49109, 49117, 49128, 49136, 49161, 49175, 49190, 49209, 49219, 49239, 49249, 49259, 49269, 49281, 49291, 49304, 49314, 49323, 49333, 49344, 49354, 49364, 49374, 49384, 49394, 49404, 49417, 49430, 49446, 49460, 49469, 49485, 49495, 49506, 49516, 49529, 49539, 49550, 49563, 49574, 49584, 49594, 49608, 49620, 49631, 49641, 49651, 49660, 49670, 49682, 49701, 49711, 49721, 49733, 49743, 49755, 49766, 49777, 49789, 49799, 49811, 49821, 49833, 49842, 49859, 49869, 49879, 49889, 49901, 49917, 49927, 49947, 49958, 49969, 49980, 49990, 50011, 50032, 50047, 50057, 50067, 50077, 50086, 50098, 50108, 50123, 50134, 50145, 50156, 50170, 50182, 50193, 50203, 50215, 50226, 50248, 50266, 50277, 50287, 50299, 50336, 50350, 50360, 50372, 50384, 50395, 50409, 50420, 50431, 50442, 50453, 50466, 50495, 50506, 50516, 50543, 50558, 50574, 50584, 50597, 50608, 50619, 50629, 50638, 50649, 50659, 50669, 50681, 50691, 50702, 50725, 50736, 50749, 50760, 50771, 50782, 50795, 50807, 50819, 50829, 50840, 50854, 50866, 50878, 50896, 50916, 50926, 50937, 50947, 50962, 50973, 50985, 50995, 51009, 51022, 51033, 51043, 51054, 51064, 51074, 51087, 51098, 51110, 51120, 51133, 51144, 51154, 51165, 51176, 51185, 51196, 51208, 51230, 51240, 51292, 51303, 51325, 51335, 51346, 51356, 51366, 51375, 51387, 51399, 51410, 51423, 51433, 51446, 51457, 51469, 51479, 51493, 51502, 51512, 51531, 51545, 51557, 51569, 51579, 51591, 51602, 51626, 51637, 51650, 51661, 51671, 51681, 51690, 51698, 51713, 51723, 51733, 51743, 51754, 51769, 51785, 51797, 51810, 51822, 51837, 51854, 51863, 51874, 51891, 51903, 51956, 51966, 51978, 51989, 51999, 52009, 52020, 52030, 52040, 52052, 52062, 52075, 52087, 52097, 52108, 52119, 52129, 52139, 52149, 52158, 52167, 52182, 52192, 52202, 52216, 52226, 52235, 52247, 52256, 52266, 52276, 52286, 52296, 52306, 52316, 52326, 52337, 52347, 52358, 52367, 52377, 52388, 52408, 52417, 52431, 52441, 52452, 52461, 52472, 52499, 52515, 52525, 52690, 52701, 52711, 52726, 52747, 52756, 52770, 52779, 52789, 52800, 52810, 52821, 52831, 52843, 52853, 52862, 52878, 52898, 52908, 52928, 52944, 52953, 52962, 53009, 53020, 53030, 53045, 53055, 53066, 53076, 53089, 53103, 53114, 53125, 53135, 53146, 53170, 53180, 53191, 53201, 53212, 53223, 53234, 53245, 53256, 53267, 53278, 53290, 53300, 53311, 53321, 53333, 53349, 53359, 53369, 53382, 53393, 53406, 53417, 53427, 53439, 53450, 53462, 53472, 53483, 53493, 53503, 53512, 53523, 53538, 53548, 53567, 53577, 53591, 53604, 53618, 53635, 53649, 53660, 53669, 53678, 53689, 53702, 53712, 53722, 53733, 53751, 53765, 53775, 53784, 53798, 53805, 53818, 53827, 53838, 53853, 53863, 53873, 53883, 53893, 53904, 53914, 53926, 54207, 54219, 54230, 54238, 54250, 54263, 54276, 54294, 54307, 54319, 54328, 54339, 54349, 54364, 54375, 54384, 54394, 54405, 54418, 54428, 54437, 54450, 54462, 54481, 54495, 54505, 54519, 54528, 54539, 54550, 54562, 54572, 54581, 54595, 54606, 54616, 54632, 54643, 54652, 54663, 54673, 54685, 54696, 54706, 54716, 54725, 54739, 54748, 54765, 54775, 54787, 54796, 54823, 54835, 54847, 54857, 54868, 54880, 54890, 54903, 54915, 54931, 54941, 54951, 54966, 54977, 54986, 55007, 55022, 55032, 55043, 55054, 55064, 55074, 55083, 55101, 55113, 55245, 55254, 55266, 55276, 55288, 55299, 55315, 55324, 55340, 55355, 55366, 55547, 55558, 55571, 55581, 55593, 55601, 55611, 55622, 55638, 55649, 55660, 55668, 55678, 55689, 55698, 55709, 55719, 55811, 55820, 55830, 55840, 55849, 55859, 55871, 55881, 55891, 55926, 55936, 55947, 55957, 55968, 55979, 55989, 56000, 56013, 56024, 56035, 56045, 56054, 56067, 56079, 56092, 56103, 56114, 56130, 56140, 56155, 56165, 56178, 56188, 56197, 56208, 56220, 56231, 56242, 56252, 56279, 56289, 56300, 56317, 56327, 56339, 56349, 56363, 56377, 56389, 56404, 56414, 56426, 56437, 56447, 56461, 56473, 56483, 56507, 56515, 56528, 56539, 56552, 56561, 56571, 56582, 56591, 56602, 56615, 56625, 56637, 56648, 56659, 56676, 56685, 56702, 56712, 56722, 56732, 56743, 56767, 56777, 56790, 56801, 56811, 56831, 56840, 56853, 56863, 56874, 56884, 56902, 56911, 56923, 56934, 56945, 56956, 56967, 56979, 56989, 57007, 57017, 57027, 57041, 57051, 57062, 57072, 57123, 57134, 57144, 57155, 57170, 57196, 57206, 57216, 57226, 57235, 57258, 57268, 57278, 57291, 57301, 57309, 57319, 57329, 57340, 57350, 57360, 57421, 57431, 57441, 57456, 57466, 57476, 57487, 57507, 57520, 57531, 57547, 57558, 57569, 57584, 57616, 57627, 57709, 57719, 57729, 57742, 57752, 57761, 57772, 57796, 57807, 57821, 57834, 57843, 57854, 57864, 57874, 57885, 57895, 57906, 57915, 57925, 57935, 57946, 57956, 57967, 57979, 57995, 58008, 58018, 58045, 58056, 58065, 58075, 58087, 58100, 58110, 58120, 58133, 58144, 58155, 58170, 58182, 58192, 58202, 58212, 58227, 58238, 58247, 58257, 58267, 58281, 58291, 58301, 58312, 58323, 58336, 58345, 58356, 58365, 58375, 58384, 58394, 58404, 58414, 58423, 58433, 58441, 58450, 58460, 58470, 58481, 58490, 58500, 58510, 58525, 58535, 58545, 58555, 58565, 58575, 58585, 58596, 58607, 58621, 58632, 58641, 58651, 58660, 58670, 58681, 58691, 58702, 58712, 58722, 58731, 58742, 58752, 58761, 58774, 58789, 58798, 58808, 58818, 58828, 58839, 58848, 58859, 58873, 58883, 58893, 58904, 58917, 58927, 58937, 58947, 58957, 58966, 58979, 58989, 59000, 59014, 59023, 59033, 59044, 59059, 59069, 59078, 59089, 59101, 59113, 59124, 59179, 59194, 59205, 59216, 59227, 59237, 59247, 59263, 59273, 59284, 59294, 59303, 59335, 59346, 59358, 59376, 59385, 59397, 59407, 59419, 59430, 59443, 59453, 59462, 59471, 59484, 59494, 59504, 59515, 59528, 59543, 59557, 59567, 59580, 59590, 59602, 59614, 59624, 59635, 59647, 59657, 59680, 59693, 59705, 59723, 59734, 59744, 59754, 59771, 59781, 59800, 59808, 59817, 59827, 59838, 59851, 59860, 59870, 59880, 59891, 59903, 59913, 59927, 59942, 59956, 59985, 59998, 60014, 60026, 60047, 60059, 60121, 60131, 60141, 60153, 60174, 60184, 60198, 60210, 60220, 60231, 60240, 60249, 60260, 60270, 60281, 60290, 60300, 60316, 60328, 60338, 60348, 60359, 60370, 60381, 60391, 60402, 60414, 60426, 60436, 60448, 60462, 60472, 60483, 60516, 60526, 60542, 60565, 60576, 60587, 60597, 60607, 60617, 60633, 60643, 60658, 60668, 60679, 60689, 60699, 60723, 60733, 60743, 60753, 60764, 60778, 60788, 60798, 60810, 60830, 60840, 60850, 60860, 60871, 60880, 60894, 60905, 60916, 60926, 60939, 60948, 60960, 60991, 61002, 61018, 61032, 61042, 61052, 61062, 61071, 61081, 61091, 61101, 61111, 61122, 61132, 61147, 61159, 61172, 61182, 61201, 61217, 61228, 61240, 61261, 61271, 61281, 61291, 61301, 61311, 61322, 61332, 61350, 61360, 61370, 61380, 61391, 61405, 61415, 61425, 61435, 61445, 61458, 61468, 61478, 61489, 61500, 61511, 61520, 61530, 61548, 61558, 61568, 61578, 61594, 61609, 61621, 61640, 61650, 61660, 61670, 61679, 61693, 61708, 61720, 61752, 61763, 61774, 61786, 61797, 61807, 61823, 61834, 61846, 61857, 61868, 61877, 61887, 61897, 61907, 61917, 61928, 61938, 61949, 61963, 61975, 61989, 62002, 62015, 62032, 62042, 62054, 62065, 62079, 62156, 62166, 62190, 62198, 62208, 62223, 62236, 62251, 62261, 62271, 62280, 62302, 62313, 62324, 62352, 62362, 62381, 62397, 62407, 62416, 62427, 62439, 62449, 62474, 62485, 62497, 62508, 62519, 62534, 62544, 62555, 62565, 62575, 62590, 62602, 62622, 62632, 62644, 62659, 62670, 62681, 62692, 62704, 62715, 62726, 62739, 62750, 62760, 62770, 62780, 62793, 62804, 62814, 62824, 62835, 62845, 62860, 62871, 62881, 62892, 62905, 62922, 62937, 62978, 62989, 62999, 63014, 63024, 63033, 63042, 63053, 63072, 63082, 63091, 63103, 63113, 63122, 63132, 63142, 63155, 63166, 63176, 63188, 63198, 63366, 63376, 63389, 63398, 63411, 63424, 63434, 63442, 63453, 63463, 63473, 63487, 63517, 63527, 63536, 63545, 63553, 63563, 63577, 63586, 63595, 63605, 63630, 63642, 63652, 63662, 63677, 63691, 63702, 63720, 63730, 63739, 63749, 63759, 63769, 63779, 63789, 63797, 63815, 63825, 63835, 63854, 63872, 63883, 63896, 63906, 63921, 63932, 63941, 63955, 63968, 63976, 63991, 64003, 64014, 64023, 64033, 64045, 64055, 64065, 64075, 64087, 64101, 64114, 64125, 64135, 64145, 64155, 64165, 64177, 64191, 64202, 64244, 64258, 64269, 64281, 64293, 64303, 64317, 64332, 64342, 64355, 64365, 64376, 64386, 64396, 64406, 64421, 64432, 64442, 64454, 64466, 64475, 64487, 64499, 64511, 64525, 64536, 64546, 64555, 64566, 64579, 64594, 64607, 64616, 64625, 64655, 64665, 64679, 64694, 64703, 64719, 64729, 64822, 64831, 64841, 64870, 64880, 64891, 64900, 64914, 64932, 64942, 64952, 64962, 64974, 64986, 64996, 65009, 65020, 65030, 65041, 65051, 65062, 65071, 65082, 65090, 65104, 65116, 65127, 65139, 65149, 65159, 65169, 65178, 65188, 65203, 65216, 65225, 65235, 65244, 65257, 65267, 65279, 65290, 65305, 65317, 65340, 65349, 65364, 65373, 65383, 65424, 65436, 65456, 65467, 65480, 65492, 65503, 65513, 65523, 65534, 65543, 65553, 65561, 65571, 65582, 65592, 65602, 65612, 65623, 65637, 65654, 65664, 65674, 65683, 65694, 65707, 65718, 65728, 65739, 65752, 65763, 65775, 65786, 65797, 65807, 65817, 65828, 65838, 65869, 65879, 65889, 65902, 65913, 65922, 65931, 65940, 65950, 65964, 65974, 65985, 65995, 66005, 66015, 66029, 66039, 66052, 66063, 66074, 66086, 66096, 66107, 66118, 66128, 66138, 66148, 66171, 66181, 66191, 66201, 66210, 66220, 66314, 66324, 66334, 66344, 66354, 66364, 66374, 66384, 66393, 66408, 66422, 66448, 66458, 66469, 66481, 66490, 66500, 66511, 66526, 66537, 66556, 66569, 66607, 66620, 66630, 66644, 66654, 66664, 66681, 66691, 66701, 66713, 66723, 66731, 66743, 66760, 66773, 66783, 66800, 66814, 66824, 66834, 66844, 66854, 66876, 66890, 66907, 66922, 66936, 66945, 66955, 66965, 66974, 66985, 66995, 67004, 67013, 67024, 67034, 67050, 67060, 67081, 67102, 67113, 67129, 67139, 67149, 67159, 67169, 67198, 67208, 67218, 67229, 67242, 67252, 67268, 67284, 67296, 67317, 67327, 67337, 67350, 67360, 67382, 67392, 67407, 67421, 67431, 67444, 67476, 67485, 67494, 67505, 67514, 67525, 67535, 67545, 67559, 67569, 67578, 67588, 67598, 67609, 67621, 67632, 67648, 67661, 67720, 67731, 67742, 67752, 67767, 67776, 67787, 67801, 67818, 67839, 67849, 67861, 67871, 67885, 67895, 67906, 67918, 67927, 67937, 67950, 67960, 67970, 67980, 67990, 68000, 68016, 68032, 68042, 68051, 68097, 68108, 68118, 68135, 68146, 68158, 68169, 68192, 68206, 68216, 68226, 68236, 68249, 68260, 68270, 68281, 68291, 68302, 68317, 68327, 68350, 68362, 68372, 68385, 68396, 68405, 68415, 68428, 68438, 68450, 68463, 68473, 68486, 68496, 68505, 68517, 68528, 68543, 68552, 68561, 68570, 68584, 68593, 68609, 68626, 68636, 68646, 68655, 68669, 68681, 68697, 68705, 68716, 68726, 68737, 68747, 68757, 68771, 68780, 68790, 68800, 68820, 68831, 68840, 68851, 68863, 68880, 68892, 68902, 68913, 68923, 68933, 68948, 68960, 68971, 68981, 68991, 69002, 69016, 69027, 69037, 69049, 69061, 69071, 69081, 69094, 69109, 69119, 69129, 69140, 69150, 69162, 69175, 69184, 69199, 69210, 69222, 69235, 69250, 69261, 69271, 69283, 69294, 69304, 69314, 69328, 69344, 69353, 69363, 69375, 69388, 69399, 69411, 69421, 69431, 69441, 69451, 69463, 69473, 69484, 69494, 69504, 69545, 69560, 69570, 69584, 69602, 69614, 69631, 69641, 69658, 69670, 69679, 69689, 69699, 69711, 69720, 69731, 69740, 69773, 69784, 69793, 69807, 69829, 69845, 69859, 69870, 69880, 69891, 69902, 69913, 69922, 69946, 69959, 69969, 69985, 69995, 70006, 70015, 70026, 70036, 70046, 70056, 70065, 70074, 70086, 70097, 70121, 70131, 70143, 70153, 70166, 70179, 70202, 70267, 70277, 70289, 70299, 70324, 70335, 70345, 70356, 70367, 70378, 70389, 70401, 70410, 70424, 70433, 70471, 70481, 70490, 70500, 70519, 70535, 70546, 70556, 70565, 70578, 70589, 70599, 70616, 70635, 70645, 70657, 70667, 70677, 70689, 70710, 70719, 70728, 70741, 70752, 70762, 70781, 70791, 70801, 70811, 70833, 70847, 70861, 70873, 70885, 70896, 70909, 70931, 70941, 70951, 70961, 70970, 70981, 70995, 71004, 71014, 71026, 71036, 71056, 71068, 71078, 71088, 71105, 71116, 71133, 71143, 71153, 71163, 71174, 71191, 71201, 71214, 71224, 71234, 71245, 71253, 71265, 71276, 71285, 71300, 71308, 71325, 71335, 71345, 71355, 71365, 71375, 71397, 71408, 71423, 71433, 71442, 71454, 71467, 71478, 71487, 71498, 71509, 71519, 71533, 71543, 71558, 71586, 71596, 71606, 71616, 71626, 71636, 71647, 71657, 71667, 71680, 71694, 71710, 71722, 71731, 71744, 71754, 71764, 71775, 71786, 71800, 71812, 71824, 71834, 71844, 71853, 71863, 71872, 71883, 71894, 71905, 71916, 71932, 71942, 71958, 71970, 71980, 71990, 72000, 72011, 72024, 72035, 72051, 72061, 72072, 72105, 72115, 72138, 72148, 72159, 72169, 72180, 72190, 72200, 72211, 72222, 72233, 72243, 72255, 72264, 72274, 72308, 72319, 72329, 72346, 72356, 72366, 72376, 72384, 72400, 72410, 72420, 72431, 72441, 72450, 72460, 72470, 72483, 72496, 72506, 72517, 72545, 72555, 72565, 72581, 72592, 72602, 72611, 72630, 72643, 72665, 72706, 72717, 72727, 72742, 72752, 72767, 72777, 72792, 72802, 72818, 72828, 72838, 72851, 72862, 72883, 72895, 72908, 72925, 72940, 72950, 72963, 72980, 72992, 73005, 73018, 73031, 73041, 73067, 73077, 73087, 73097, 73108, 73118, 73130, 73140, 73201, 73216, 73227, 73237, 73248, 73260, 73271, 73281, 73290, 73300, 73468, 73478, 73490, 73499, 73507, 73520, 73539, 73550, 73560, 73570, 73580, 73592, 73602, 73611, 73622, 73632, 73641, 73651, 73661, 73673, 73682, 73692, 73704, 73715, 73729, 73754, 73766, 73775, 73786, 73795, 73805, 73815, 73826, 73841, 73854, 73865, 73877, 73888, 73898, 73915, 73925, 73935, 73946, 73959, 73968, 73980, 73990, 74000, 74017, 74027, 74037, 74047, 74061, 74071, 74082, 74103, 74112, 74122, 74133, 74146, 74157, 74167, 74177, 74187, 74218, 74236, 74257, 74267, 74277, 74287, 74297, 74307, 74317, 74330, 74341, 74355, 74365, 74397, 74411, 74423, 74447, 74457, 74473, 74515, 74524, 74534, 74551, 74560, 74571, 74585, 74597, 74607, 74617, 74630, 74642, 74651, 74661, 74675, 74685, 74708, 74719, 74730, 74742, 74752, 74762, 74774, 74784, 74794, 74805, 74815, 74825, 74837, 74849, 74869, 74879, 74891, 74902, 74960, 74970, 74980, 74991, 75001, 75011, 75024, 75035, 75053, 75064, 75074, 75085, 75098, 75107, 75117, 75125, 75135, 75151, 75166, 75176, 75186, 75195, 75206, 75220, 75232, 75250, 75263, 75533, 75548, 75559, 75571, 75582, 75594, 75608, 75617, 75626, 75636, 75647, 75656, 75669, 75679, 75689, 75700, 75712, 75722, 75732, 75743, 75755, 75766, 75776, 75789, 75798, 75809, 75821, 75841, 75852, 75861, 75873, 75883, 75898, 75908, 75918, 75928, 75938, 75955, 75964, 75973, 75983, 75998, 76008, 76018, 76027, 76036, 76046, 76057, 76067, 76077, 76087, 76098, 76109, 76121, 76136, 76147, 76156, 76166, 76177, 76190, 76199, 76208, 76221, 76231, 76248, 76260, 76283, 76293, 76305, 76318, 76328, 76339, 76352, 76369, 76379, 76389, 76398, 76409, 76419, 76430, 76439, 76452, 76463, 76473, 76486, 76498, 76507, 76516, 76525, 76536, 76546, 76562, 76573, 76585, 76597, 76607, 76621, 76632, 76643, 76652, 76662, 76672, 76681, 76690, 76700, 76713, 76726, 76737, 76748, 76758, 76767, 76777, 76788, 76800, 76809, 76819, 76829, 76839, 76857, 76867, 76878, 76902, 76912, 76924, 76934, 76944, 76981, 76990, 77013, 77023, 77035, 77045, 77081, 77091, 77103, 77112, 77132, 77142, 77153, 77163, 77173, 77197, 77207, 77238, 77248, 77258, 77267, 77277, 77286, 77301, 77311, 77323, 77336, 77348, 77360, 77385, 77396, 77406, 77416, 77436, 77446, 77456, 77467, 77485, 77495, 77509, 77528, 77544, 77555, 77571, 77585, 77595, 77612, 77625, 77638, 77652, 77664, 77677, 77687, 77704, 77739, 77751, 77802, 77812, 77822, 77834, 77846, 77858, 77869, 77879, 77889, 77900, 77909, 77921, 77930, 77941, 77953, 77966, 77981, 77996, 78007, 78018, 78032, 78042, 78053, 78062, 78072, 78083, 78105, 78115, 78126, 78137, 78149, 78158, 78168, 78179, 78189, 78209, 78219, 78229, 78240, 78249, 78259, 78272, 78291, 78303, 78315, 78325, 78335, 78345, 78366, 78377, 78387, 78398, 78414, 78424, 78435, 78445, 78456, 78467, 78479, 78490, 78512, 78525, 78535, 78545, 78555, 78566, 78579, 78589, 78600, 78619, 78629, 78640, 78649, 78666, 78676, 78686, 78700, 78710, 78722, 78732, 78742, 78752, 78762, 78772, 78782, 78792, 78802, 78814, 78824, 78836, 78851, 78870, 78881, 78891, 78905, 78915, 78924, 78953, 78964, 78974, 78984, 78995, 79005, 79015, 79025, 79035, 79047, 79057, 79067, 79080, 79094, 79104, 79116, 79132, 79142, 79155, 79168, 79178, 79188, 79199, 79211, 79221, 79233, 79244, 79254, 79268, 79280, 79290, 79300, 79310, 79320, 79350, 79360, 79371, 79382, 79392, 79428, 79438, 79447, 79458, 79468, 79479, 79488, 79500, 79520, 79530, 79540, 79550, 79560, 79572, 79582, 79595, 79605, 79615, 79625, 79635, 79738, 79756, 79766, 79777, 79806, 79817, 79825, 79835, 79853, 79863, 79876, 79890, 79902, 79916, 79935, 79947, 79959, 79970, 79980, 79989, 79999, 80009, 80019, 80029, 80041, 80051, 80063, 80075, 80085, 80096, 80105, 80115, 80126, 80135, 80147, 80157, 80168, 80178, 80187, 80197, 80207, 80220, 80231, 80241, 80252, 80262, 80275, 80286, 80295, 80306, 80319, 80328, 80340, 80350, 80363, 80373, 80385, 80398, 80417, 80427, 80437, 80447, 80456, 80465, 80476, 80486, 80497, 80507, 80515, 80526, 80536, 80552, 80562, 80575, 80585, 80597, 80612, 80622, 80632, 80642, 80653, 80663, 80673, 80683, 80698, 80707, 80718, 80727, 80749, 80759, 80769, 80779, 80790, 80824, 80832, 80841, 80852, 80862, 80871, 80881, 80892, 80904, 80914, 80923, 80933, 80943, 80953, 80966, 80976, 80986, 80998, 81008, 81018, 81029, 81049, 81058, 81070, 81082, 81091, 81103, 81119, 81133, 81143, 81161, 81188, 81196, 81205, 81216, 81227, 81237, 81250, 81261, 81273, 81283, 81294, 81309, 81319, 81329, 81342, 81352, 81368, 81380, 81391, 81401, 81413, 81423, 81433, 81444, 81460, 81489, 81498, 81510, 81522, 81532, 81547, 81572, 81581, 81596, 81606, 81616, 81630, 81640, 81655, 81664, 81676, 81696, 81706, 81716, 81726, 81735, 81746, 81757, 81767, 81779, 81791, 81801, 81811, 81833, 81844, 81855, 81865, 81882, 81893, 81904, 81915, 81925, 81933, 81941, 81951, 81961, 81973, 81982, 81993, 82002, 82012, 82022, 82032, 82044, 82054, 82065, 82075, 82086, 82104, 82117, 82128, 82139, 82149, 82158, 82170, 82181, 82191, 82203, 82213, 82223, 82232, 82244, 82254, 82264, 82278, 82288, 82298, 82309, 82319, 82329, 82338, 82349, 82362, 82372, 82383, 82393, 82403, 82681, 82691, 82702, 82717, 82727, 82739, 82750, 82764, 82774, 82785, 82799, 82812, 82823, 82832, 82842, 82851, 82860, 82870, 82881, 82891, 82900, 82911, 82921, 82931, 82941, 82951, 82960, 82992, 83002, 83012, 83021, 83030, 83041, 83053, 83065, 83076, 83086, 83095, 83111, 83119, 83129, 83138, 83149, 83160, 83170, 83179, 83189, 83209, 83219, 83229, 83239, 83250, 83260, 83270, 83282, 83292, 83302, 83312, 83322, 83332, 83343, 83352, 83361, 83371, 83381, 83391, 83402, 83413, 83423, 83441, 83459, 83470, 83481, 83493, 83503, 83518, 83529, 83553, 83565, 83583, 83598, 83608, 83617, 83626, 83648, 83657, 83673, 83689, 83703, 83712, 83722, 83739, 83749, 83760, 83773, 83798, 83811, 83821, 83840, 83850, 83860, 83871, 83881, 83892, 83901, 83926, 83937, 83948, 83959, 83970, 83983, 83996, 84008, 84048, 84061, 84071, 84105, 84117, 84132, 84144, 84157, 84167, 84179, 84192, 84202, 84217, 84227, 84237, 84251, 84264, 84274, 84288, 84298, 84308, 84319, 84332, 84342, 84353, 84366, 84377, 84389, 84401, 84412, 84437, 84447, 84465, 84475, 84485, 84497, 84508, 84517, 84527, 84537, 84548, 84558, 84569, 84579, 84590, 84600, 84612, 84623, 84633, 84643, 84653, 84664, 84677, 84688, 84699, 84709, 84720, 84730, 84745, 84755, 84765, 84776, 84787, 84797, 84813, 84825, 84835, 84845, 84855, 84868, 84878, 84892, 84902, 84912, 84925, 84935, 84946, 84957, 84967, 84977, 84987, 85000, 85011, 85021, 85031, 85041, 85053, 85064, 85076, 85089, 85099, 85109, 85123, 85137, 85150, 85160, 85174, 85190, 85199, 85209, 85219, 85229, 85238, 85248, 85256, 85266, 85275, 85287, 85298, 85311, 85326, 85343, 85355, 85364, 85375, 85385, 85396, 85408, 85420, 85432, 85444, 85454, 85467, 85478, 85491, 85502, 85512, 85522, 85533, 85545, 85555, 85566, 85575, 85585, 85595, 85604, 85625, 85634, 85646, 85658, 85735, 85744, 85757, 85767, 85777, 85792, 85803, 85814, 85826, 85839, 85851, 85862, 85872, 85882, 85892, 85906, 85917, 85927, 85939, 85949, 85960, 85970, 85980, 85990, 86000, 86013, 86026, 86037, 86047, 86057, 86068, 86080, 86092, 86104, 86114, 86127, 86137, 86148, 86159, 86170, 86181, 86194, 86206, 86217, 86233, 86251, 86265, 86276, 86291, 86301, 86312, 86322, 86332, 86342, 86362, 86372, 86382, 86396, 86406, 86416, 86428, 86441, 86451, 86461, 86474, 86484, 86494, 86503, 86513, 86526, 86535, 86545, 86555, 86565, 86575, 86585, 86600, 86609, 86619, 86632, 86644, 86659, 86669, 86680, 86691, 86703, 86712, 86722, 86735, 86745, 86756, 86767, 86811, 86823, 86832, 86842, 86853, 86868, 86880, 86893, 86903, 86915, 86926, 86939, 86958, 86968, 86980, 87006, 87023, 87036, 87046, 87076, 87086, 87100, 87110, 87121, 87131, 87148, 87158, 87168, 87178, 87189, 87201, 87211, 87228, 87238, 87248, 87258, 87268, 87277, 87286, 87296, 87306, 87316, 87326, 87337, 87347, 87357, 87369, 87384, 87393, 87408, 87418, 87430, 87440, 87450, 87460, 87469, 87480, 87490, 87502, 87520, 87531, 87542, 87554, 87569, 87579, 87588, 87600, 87611, 87629, 87638, 87648, 87658, 87668, 87678, 87689, 87700, 87710, 87722, 87731, 87750, 87760, 87929, 87941, 87957, 87973, 87981, 87996, 88008, 88019, 88030, 88040, 88049, 88061, 88075, 88084, 88093, 88105, 88116, 88129, 88139, 88151, 88161, 88172, 88184, 88194, 88204, 88223, 88233, 88244, 88255, 88274, 88288, 88302, 88311, 88327, 88340, 88353, 88366, 88375, 88385, 88394, 88406, 88422, 88431, 88449, 88463, 88474, 88483, 88493, 88503, 88513, 88524, 88535, 88547, 88557, 88567, 88579, 88588, 88599, 88607, 88622, 88632, 88642, 88654, 88667, 88677, 88688, 88699, 88711, 88723, 88733, 88742, 88755, 88765, 88775, 88785, 88796, 88815, 88827, 88837, 88851, 88863, 89141, 89151, 89165, 89177, 89187, 89197, 89207, 89219, 89229, 89240, 89250, 89262, 89276, 89286, 89298, 89312, 89323, 89334, 89346, 89359, 89373, 89385, 89397, 89407, 89428, 89438, 89446, 89455, 89467, 89477, 89486, 89496, 89507, 89518, 89528, 89546, 89556, 89573, 89584, 89594, 89604, 89614, 89624, 89634, 89648, 89658, 89668, 89678, 89696, 89706, 89718, 89728, 89740, 89750, 89760, 89770, 89781, 89792, 89802, 89813, 89823, 89917, 89936, 89952, 89963, 89991, 90000, 90014, 90025, 90039, 90052, 90062, 90071, 90081, 90091, 90100, 90117, 90128, 90139, 90151, 90162, 90176, 90189, 90201, 90213, 90223, 90248, 90260, 90272, 90288, 90299, 90321, 90332, 90343, 90367, 90377, 90392, 90412, 90423, 90434, 90449, 90461, 90470, 90487, 90498, 90509, 90519, 90531, 90544, 90553, 90564, 90575, 90590, 90603, 90615, 90627, 90637, 90646, 90657, 90666, 90684, 90694, 90710, 90733, 90752, 90762, 90773, 90783, 90793, 90808, 90817, 90827, 90836, 90846, 90857, 90867, 90878, 90888, 90899, 90909, 90920, 90931, 90943, 90954, 90965, 90997, 91008, 91018, 91028, 91038, 91049, 91061, 91072, 91083, 91093, 91129, 91139, 91149, 91160, 91170, 91180, 91191, 91202, 91212, 91223, 91238, 91247, 91257, 91267, 91287, 91297, 91311, 91320, 91332, 91343, 91353, 91366, 91376, 91396, 91417, 91428, 91445, 91456, 91466, 91476, 91487, 91502, 91512, 91527, 91537, 91547, 91557, 91567, 91577, 91586, 91598, 91608, 91625, 91634, 91647, 91664, 91674, 91683, 91695, 91711, 91720, 91730, 91744, 91754, 91770, 91780, 91796, 91808, 91817, 91831, 91843, 91853, 91867, 91877, 91886, 91900, 91909, 91919, 91931, 91942, 91952, 91962, 91973, 91986, 91998, 92009, 92019, 92028, 92040, 92050, 92060, 92072, 92083, 92093, 92105, 92119, 92129, 92140, 92154, 92182, 92193, 92202, 92213, 92223, 92236, 92248, 92259, 92274, 92283, 92315, 92337, 92347, 92364, 92374, 92388, 92398, 92408, 92418, 92430, 92440, 92451, 92467, 92480, 92495, 92508, 92518, 92528, 92542, 92551, 92561, 92571, 92591, 92605, 92615, 92625, 92654, 92667, 92679, 92688, 92702, 92712, 92731, 92991, 93001, 93010, 93019, 93031, 93042, 93053, 93072, 93081, 93094, 93106, 93204, 93216, 93226, 93236, 93246, 93256, 93272, 93291, 93301, 93313, 93323, 93335, 93344, 93355, 93365, 93378, 93388, 93408, 93421, 93434, 93445, 93456, 93467, 93480, 93492, 93500, 93511, 93522, 93533, 93553, 93565, 93575, 93614, 93624, 93635, 93645, 93655, 93665, 93679, 93690, 93701, 93712, 93723, 93734, 93744, 93757, 93768, 93779, 93788, 93799, 93808, 93820, 93830, 93845, 93855, 93865, 93880, 93890, 93901, 93911, 93923, 93933, 93943, 93955, 93965, 93975, 93987, 93999, 94011, 94020, 94030, 94042, 94054, 94065, 94076, 94088, 94098, 94112, 94121, 94133, 94144, 94156, 94166, 94177, 94189, 94200, 94210, 94222, 94233, 94243, 94253, 94264, 94274, 94283, 94292, 94302, 94320, 94331, 94358, 94368, 94378, 94396, 94420, 94431, 94441, 94452, 94466, 94478, 94488, 94501, 94510, 94520, 94530, 94540, 94549, 94812, 94823, 94834, 94844, 94854, 94864, 94875, 94962, 94972, 94982, 94992, 95002, 95011, 95022, 95033, 95043, 95053, 95063, 95084, 95098, 95110, 95158, 95169, 95180, 95193, 95205, 95217, 95227, 95248, 95260, 95271, 95281, 95290, 95308, 95318, 95328, 95338, 95350, 95360, 95369, 95379, 95390, 95400, 95411, 95421, 95432, 95442, 95619, 95631, 95644, 95654, 95664, 95679, 95785, 95795, 95807, 95818, 95826, 95838, 95864, 95874, 95898, 95909, 95919, 95930, 95940, 95954, 95974, 95984, 96041, 96052, 96065, 96074, 96086, 96097, 96106, 96116, 96125, 96138, 96149, 96160, 96170, 96183, 96198, 96211, 96224, 96235, 96247, 96257, 96269, 96279, 96291, 96302, 96314, 96329, 96339, 96350, 96360, 96370, 96380, 96390, 96400, 96412, 96422, 96437, 96447, 96457, 96470, 96483, 96495, 96506, 96519, 96531, 96543, 96560, 96570, 96580, 96594, 96606, 96615, 96633, 96660, 96672, 96689, 96700, 96710, 96723, 96734, 96748, 96760, 96770, 96830, 96840, 96860, 96869, 96879, 96889, 96899, 96909, 96922, 96932, 96942, 96952, 96962, 96978, 96989, 97002, 97012, 97021, 97030, 97040, 97052, 97072, 97082, 97094, 97104, 97114, 97126, 97136, 97147, 97157, 97167, 97178, 97193, 97208, 97220, 97230, 97240, 97261, 97271, 97282, 97292, 97302, 97317, 97329, 97339, 97349, 97361, 97376, 97386, 97396, 97408, 97418, 97432, 97448, 97461, 97474, 97484, 97494, 97504, 97519, 97539, 97549, 97559, 97569, 97597, 97613, 97626, 97636, 97662, 97673, 97701, 97711, 97721, 97731, 97740, 97748, 97765, 97776, 97844, 97855, 97865, 97878, 97889, 97899, 97910, 97941, 97956, 97968, 97978, 97990, 98001, 98011, 98020, 98030, 98046, 98058, 98069, 98079, 98091, 98101, 98117, 98131, 98141, 98151, 98161, 98174, 98184, 98196, 98206, 98224, 98241, 98277, 98286, 98297, 98306, 98317, 98328, 98338, 98349, 98360, 98370, 98383, 98395, 98405, 98414, 98423, 98433, 98443, 98456, 98466, 98476, 98486, 98497, 98509, 98522, 98536, 98547, 98558, 98568, 98582, 98592, 98602, 98612, 98622, 98633, 98643, 98653, 98666, 98681, 98691, 98706, 98721, 98731, 98743, 98754, 98761, 98774, 98784, 98820, 98830, 98842, 98854, 98864, 98877, 98886, 98898, 98908, 98919, 98930, 98940, 98950, 99228, 99239, 99250, 99260, 99273, 99284, 99547, 99557, 99567, 99608, 99619, 99630, 99642, 99658, 99669, 99683, 99693, 99715, 99727, 99738, 99748, 99772, 99783, 99793, 99803, 99815, 99825, 99836, 99846, 99858, 99868, 99878, 99888, 99898, 99909, 99923, 99933, 99941, 99951, 99961, 99971, 99984, 99994, 100005, 100015, 100025, 100035, 100045, 100056, 100065, 100075, 100089, 100099, 100110, 100122, 100132, 100142, 100153, 100164, 100174, 100184, 100195, 100212, 100222, 100242, 100256, 100270, 100280, 100290, 100309, 100318, 100328, 100339, 100350, 100364, 100375, 100385, 100397, 100407, 100418, 100428, 100440, 100456, 100465, 100495, 100504, 100516, 100797, 100807, 100817, 100828, 100841, 101119, 101130, 101139, 101149, 101161, 101172, 101182, 101191, 101207, 101220, 101233, 101246, 101256, 101266, 101289, 101299, 101309, 101318, 101332, 101346, 101356, 101367, 101377, 101387, 101423, 101452, 101464, 101631, 101642, 101654, 101664, 101675, 101687, 101698, 101720, 101740, 101750, 101776, 101786, 101800, 101810, 101825, 101838, 101848, 101867, 101882, 101891, 101906, 101916, 101928, 101946, 101959, 101968, 101978, 101989, 101999, 102011, 102021, 102031, 102042, 102052, 102061, 102071, 102082, 102102, 102115, 102124, 102136, 102148, 102162, 102174, 102194, 102206, 102217, 102229, 102238, 102250, 102260, 102270, 102289, 102303, 102313, 102322, 102332, 102345, 102356, 102372, 102382, 102391, 102402, 102527, 102537, 102547, 102557, 102567, 102580, 102592, 102606, 102616, 102628, 102639, 102653, 102663, 102675, 102685, 102698, 102710, 102721, 102732, 102769, 102779, 102791, 102815, 102825, 102836, 102846, 102860, 102870, 102879, 102890, 102900, 102915, 102925, 102935, 102949, 102959, 102969, 102979, 102993, 103004, 103017, 103026, 103038, 103048, 103060, 103081, 103091, 103101, 103111, 103119, 103133, 103143, 103154, 103168, 103187, 103197, 103206, 103216, 103230, 103241, 103251, 103261, 103274, 103284, 103297, 103311, 103321, 103335, 103345, 103354, 103364, 103376, 103386, 103399, 103414, 103426, 103437, 103462, 103473, 103517, 103526, 103552, 103563, 103575, 103585, 103596, 103609, 103618, 103628, 103637, 103647, 103657, 103668, 103683, 103695, 103705, 103714, 103725, 103736, 103747, 103759, 103773, 103786, 103797, 103812, 103821, 103833, 104094, 104104, 104114, 104124, 104134, 104145, 104159, 104172, 104182, 104196, 104208, 104218, 104231, 104246, 104264, 104274, 104284, 104293, 104304, 104315, 104324, 104334, 104346, 104359, 104405, 104419, 104432, 104443, 104453, 104463, 104473, 104483, 104494, 104505, 104515, 104536, 104547, 104558, 104569, 104577, 104587, 104599, 104611, 104620, 104628, 104640, 104658, 104683, 104694, 104704, 104724, 104770, 104780, 104807, 104817, 104827, 104845, 104856, 104866, 104881, 104890, 104901, 104912, 104922, 104934, 104944, 104957, 104967, 104978, 104987, 105014, 105027, 105037, 105046, 105095, 105105, 105117, 105127, 105138, 105149, 105157, 105168, 105181, 105193, 105204, 105214, 105224, 105234, 105244, 105255, 105265, 105275, 105285, 105295, 105305, 105316, 105331, 105345, 105358, 105368, 105378, 105399, 105408, 105417, 105431, 105445, 105455, 105466, 105477, 105488, 105498, 105508, 105518, 105529, 105540, 105555, 105566, 105577, 105587, 105602, 105614, 105624, 105636, 105730, 105744, 105754, 105765, 105775, 105786, 105800, 105810, 105820, 105833, 105843, 105859, 105870, 105885, 105895, 105906, 105918, 105928, 105938, 105948, 105957, 105967, 105979, 105989, 105999, 106009, 106019, 106028, 106038, 106048, 106063, 106073, 106083, 106092, 106102, 106112, 106122, 106132, 106144, 106154, 106165, 106186, 106225, 106236, 106245, 106257, 106266, 106277, 106287, 106297, 106307, 106317, 106327, 106340, 106351, 106362, 106373, 106385, 106394, 106406, 106419, 106448, 106468, 106480, 106493, 106506, 106515, 106526, 106536, 106550, 106560, 106571, 106581, 106594, 106612, 106631, 106646, 106688, 106698, 106707, 106716, 106729, 106739, 106749, 106759, 106770, 106779, 106789, 106800, 106811, 106823, 106831, 106841, 106850, 106870, 106881, 106892, 106902, 106913, 106923, 106933, 106943, 106953, 106963, 106973, 106983, 106995, 107005, 107015, 107035, 107045, 107055, 107065, 107087, 107097, 107106, 107142, 107152, 107162, 107176, 107186, 107215, 107234, 107244, 107254, 107264, 107275, 107287, 107297, 107310, 107320, 107336, 107347, 107357, 107380, 107411, 107422, 107433, 107443, 107453, 107463, 107473, 107490, 107501, 107515, 107525, 107707, 107720, 107728, 107740, 107755, 107765, 107775, 107785, 107795, 107804, 107825, 107849, 107870, 107879, 107890, 107899, 107908, 107923, 107938, 107957, 107966, 107977, 107989, 108025, 108041, 108051, 108062, 108075, 108087, 108105, 108115, 108127, 108138, 108153, 108163, 108176, 108186, 108196, 108210, 108224, 108238, 108248, 108258, 108277, 108295, 108306, 108314, 108325, 108337, 108348, 108358, 108368, 108380, 108390, 108400, 108411, 108421, 108430, 108447, 108456, 108554, 108565, 108578, 108590, 108600, 108610, 108620, 108630, 108641, 108651, 108662, 108675, 108686, 108696, 108705, 108716, 108726, 108741, 108757, 108770, 108779, 108787, 108797, 108808, 108819, 108829, 108839, 108851, 108861, 108872, 108882, 108896, 108907, 108919, 108930, 108944, 108956, 108966, 108976, 108988, 109001, 109011, 109020, 109031, 109041, 109051, 109061, 109071, 109081, 109093, 109104, 109115, 109127, 109140, 109154, 109167, 109177, 109188, 109199, 109220, 109231, 109242, 109255, 109268, 109278, 109288, 109299, 109311, 109324, 109339, 109349, 109359, 109370, 109381, 109392, 109402, 109411, 109420, 109433, 109443, 109454, 109462, 109473, 109484, 109500, 109513, 109527, 109537, 109551, 109571, 109587, 109598, 109609, 109620, 109631, 109642, 109656, 109666, 109678, 109689, 109702, 109714, 109724, 109735, 109746, 109761, 109771, 109797, 109807, 109820, 109830, 109840, 109852, 109862, 109873, 109885, 109912, 109924, 109934, 109944, 109956, 109967, 109977, 109987, 109997, 110008, 110018, 110029, 110047, 110058, 110067, 110077, 110091, 110105, 110117, 110130, 110140, 110150, 110159, 110168, 110178, 110188, 110197, 110213, 110226, 110245, 110255, 110267, 110277, 110286, 110296, 110307, 110318, 110330, 110352, 110364, 110374, 110384, 110394, 110404, 110414, 110425, 110438, 110448, 110463, 110476, 110487, 110500, 110510, 110524, 110534, 110544, 110554, 110564, 110577, 110588, 110599, 110609, 110627, 110638, 110652, 110661, 110671, 110680, 110709, 110723, 110733, 110746, 110761, 110772, 110782, 110792, 110801, 110814, 110829, 110838, 110848, 110859, 110869, 110878, 110888, 110899, 110909, 110919, 110937, 110964, 110975, 110985, 110995, 111006, 111016, 111027, 111049, 111059, 111070, 111082, 111099, 111113, 111123, 111133, 111143, 111154, 111164, 111178, 111198, 111213, 111223, 111234, 111249, 111262, 111272, 111285, 111295, 111306, 111317, 111327, 111336, 111347, 111357, 111377, 111387, 111397, 111407, 111418, 111428, 111438, 111449, 111468, 111510, 111520, 111537, 111546, 111563, 111577, 111587, 111600, 111611, 111627, 111637, 111647, 111658, 111668, 111690, 111700, 111710, 111721, 111730, 111747, 111758, 111776, 111785, 111795, 111805, 111817, 111826, 111837, 111848, 111859, 111868, 111882, 111900, 111910, 111919, 111929, 111939, 111950, 111964, 111972, 111982, 112013, 112023, 112034, 112046, 112057, 112067, 112080, 112108, 112119, 112131, 112149, 112161, 112170, 112179, 112189, 112203, 112215, 112223, 112236, 112248, 112257, 112268, 112278, 112295, 112308, 112317, 112328, 112341, 112354, 112364, 112373, 112383, 112395, 112407, 112417, 112441, 112450, 112460, 112470, 112481, 112492, 112501, 112512, 112522, 112532, 112542, 112559, 112571, 112595, 112605, 112617, 112629, 112640, 112656, 112666, 112676, 112686, 112695, 112705, 112715, 112729, 112739, 112758, 112769, 112788, 112798, 112816, 112840, 112851, 112865, 112875, 112885, 113145, 113156, 113168, 113177, 113188, 113202, 113212, 113224, 113234, 113243, 113252, 113265, 113276, 113286, 113297, 113307, 113337, 113349, 113366, 113376, 113386, 113397, 113407, 113421, 113430, 113438, 113453, 113463, 113472, 113481, 113496, 113507, 113517, 113527, 113537, 113547, 113556, 113568, 113579, 113589, 113599, 113608, 113619, 113633, 113643, 113655, 113670, 113681, 113691, 113701, 113712, 113722, 113735, 113745, 113755, 113766, 113775, 113785, 114048, 114058, 114067, 114077, 114087, 114107, 114207, 114217, 114228, 114238, 114248, 114263, 114272, 114284, 114294, 114304, 114314, 114324, 114336, 114356, 114367, 114380, 114389, 114403, 114413, 114423, 114433, 114443, 114452, 114462, 114474, 114485, 114496, 114517, 114553, 114565, 114574, 114590, 114603, 114616, 114624, 114636, 114646, 114658, 114919, 114948, 114958, 114968, 114979, 114990, 115047, 115061, 115071, 115082, 115093, 115104, 115117, 115133, 115145, 115153, 115164, 115175, 115186, 115196, 115205, 115241, 115260, 115278, 115291, 115303, 115315, 115325, 115334, 115349, 115363, 115375, 115385, 115393, 115402, 115416, 115427, 115442, 115455, 115476, 115494, 115508, 115519, 115532, 115542, 115555, 115568, 115580, 115590, 115599, 115609, 115620, 115630, 115641, 115650, 115660, 115670, 115680, 115689, 115698, 115709, 115719, 115729, 115741, 115751, 115761, 115773, 115782, 115807, 115820, 115830, 115840, 115849, 115860, 115869, 115878, 115888, 115898, 115908, 115918, 115930, 115947, 115959, 115969, 115979, 115991, 116003, 116017, 116027, 116037, 116047, 116058, 116069, 116079, 116094, 116105, 116115, 116125, 116138, 116148, 116168, 116198, 116208, 116223, 116238, 116249, 116259, 116273, 116287, 116300, 116310, 116320, 116329, 116339, 116359, 116370, 116381, 116392, 116405, 116415, 116424, 116434, 116445, 116476, 116486, 116499, 116509, 116520, 116594, 116605, 116615, 116625, 116635, 116645, 116656, 116665, 116675, 116684, 116694, 116704, 116714, 116723, 116734, 116745, 116754, 116765, 116777, 116787, 116802, 116812, 116822, 116835, 116846, 116856, 116868, 116878, 116894, 116904, 116912, 116922, 116934, 116947, 116960, 116970, 116982, 116991, 117002, 117013, 117023, 117040, 117048, 117060, 117072, 117082, 117093, 117103, 117113, 117123, 117133, 117143, 117151, 117165, 117177, 117187, 117201, 117210, 117222, 117233, 117269, 117280, 117294, 117308, 117318, 117328, 117338, 117350, 117359, 117369, 117388, 117398, 117408, 117419, 117431, 117441, 117453, 117466, 117477, 117488, 117503, 117518, 117528, 117540, 117549, 117559, 117569, 117578, 117589, 117601, 117619, 117629, 117639, 117658, 117668, 117680, 117689, 117698, 117708, 117720, 117730, 117758, 117769, 117783, 117793, 117805, 117814, 117824, 117837, 117848, 117887, 117933, 117944, 117956, 117965, 117975, 117985, 117995, 118009, 118019, 118031, 118041, 118054, 118067, 118077, 118091, 118102, 118111, 118128, 118139, 118159, 118169, 118182, 118194, 118202, 118212, 118222, 118233, 118244, 118254, 118264, 118275, 118285, 118298, 118308, 118318, 118328, 118338, 118350, 118361, 118371, 118389, 118400, 118410, 118422, 118437, 118454, 118484, 118494, 118522, 118532, 118543, 118553, 118562, 118572, 118581, 118592, 118604, 118614, 118625, 118636, 118645, 118659, 118670, 118681, 118691, 118700, 118710, 118744, 118766, 118776, 118789, 118807, 118819, 118830, 118842, 118852, 118870, 118878, 118893, 118903, 118912, 118958, 118972, 118982, 118991, 119004, 119014, 119024, 119033, 119044, 119055, 119064, 119075, 119085, 119097, 119107, 119119, 119129, 119139, 119151, 119172, 119183, 119200, 119213, 119223, 119233, 119243, 119254, 119264, 119275, 119285, 119294, 119307, 119323, 119336, 119349, 119367, 119385, 119394, 119405, 119416, 119426, 119437, 119447, 119457, 119491, 119503, 119526, 119536, 119552, 119565, 119591, 119603, 119613, 119625, 119647, 119659, 119669, 119679, 119689, 119706, 119716, 119728, 119737, 119748, 119760, 119776, 119789, 119798, 119815, 119824, 119834, 119844, 119854, 119865, 119876, 119886, 119897, 119909, 119920, 119930, 119944, 119954, 119964, 119975, 119986, 119996, 120006, 120017, 120027, 120039, 120049, 120062, 120074, 120084, 120093, 120104, 120119, 120132, 120146, 120155, 120166, 120176, 120186, 120196, 120204, 120220, 120230, 120238, 120252, 120264, 120275, 120284, 120295, 120307, 120317, 120327, 120336, 120345, 120360, 120371, 120380, 120390, 120403, 120414, 120424, 120433, 120442, 120457, 120474, 120488, 120497, 120507, 120517, 120528, 120539, 120549, 120580, 120589, 120599, 120614, 120626, 120638, 120649, 120662, 120671, 120687, 120699, 120709, 120722, 120733, 120744, 120755, 120765, 120776, 120790, 120800, 120809, 120836, 120845, 120861, 120872, 120882, 120892, 120902, 120913, 120932, 120949, 120959, 120969, 120979, 120989, 120998, 121007, 121021, 121032, 121040, 121050, 121062, 121078, 121088, 121100, 121112, 121121, 121133, 121144, 121155, 121169, 121179, 121189, 121202, 121218, 121228, 121237, 121247, 121256, 121266, 121276, 121289, 121300, 121347, 121360, 121371, 121385, 121396, 121409, 121422, 121435, 121450, 121462, 121472, 121487, 121497, 121510, 121522, 121532, 121542, 121556, 121568, 121578, 121588, 121598, 121608, 121619, 121629, 121647, 121657, 121669, 121679, 121689, 121702, 121713, 121729, 121739, 121750, 121760, 121770, 121779, 121792, 121804, 121819, 121831, 121841, 121850, 121860, 121870, 121881, 121893, 121903, 121913, 121926, 121938, 121948, 121960, 121970, 121982, 121995, 122009, 122021, 122039, 122050, 122061, 122071, 122081, 122091, 122102, 122114, 122128, 122138, 122150, 122160, 122170, 122184, 122197, 122216, 122226, 122238, 122249, 122264, 122277, 122289, 122299, 122314, 122325, 122340, 122352, 122363, 122375, 122385, 122395, 122406, 122416, 122428, 122440, 122452, 122467, 122481, 122491, 122501, 122512, 122523, 122534, 122548, 122557, 122567, 122587, 122597, 122607, 122619, 122628, 122639, 122649, 122661, 122671, 122681, 122692, 122700, 122711, 122723, 122734, 122743, 122753, 122763, 122773, 122783, 122795, 122805, 122816, 122831, 122850, 122861, 122871, 122882, 122902, 122913, 122926, 122938, 122948, 122961, 122971, 122981, 122991, 123003, 123015, 123027, 123038, 123053, 123066, 123078, 123090, 123102, 123113, 123129, 123140, 123151, 123174, 123184, 123195, 123205, 123218, 123228, 123250, 123261, 123271, 123281, 123291, 123301, 123311, 123325, 123335, 123344, 123354, 123369, 123380, 123396, 123407, 123416, 123425, 123435, 123444, 123456, 123467, 123477, 123491, 123501, 123511, 123523, 123533, 123544, 123555, 123567, 123578, 123597, 123607, 123617, 123629, 123641, 123651, 123663, 123675, 123685, 123695, 123706, 123716, 123726, 123736, 123746, 123757, 123771, 123781, 123791, 123802, 123813, 123832, 123841, 123851, 123865, 123878, 123889, 123901, 123910, 123930, 123939, 123950, 123959, 123969, 123978, 123990, 124004, 124019, 124029, 124042, 124052, 124066, 124081, 124091, 124102, 124114, 124124, 124133, 124146, 124155, 124170, 124180, 124190, 124201, 124216, 124226, 124236, 124246, 124258, 124270, 124279, 124289, 124299, 124309, 124326, 124335, 124348, 124359, 124377, 124387, 124398, 124408, 124417, 124429, 124439, 124449, 124459, 124469, 124478, 124487, 124503, 124513, 124523, 124537, 124549, 124559, 124570, 124581, 124592, 124603, 124613, 124624, 124634, 124645, 124655, 124666, 124677, 124686, 124697, 124707, 124718, 124729, 124740, 124749, 124762, 124775, 124784, 124795, 124806, 124815, 124826, 124850, 124865, 124875, 124885, 124901, 124912, 124940, 124951, 124961, 124974, 124984, 124995, 125006, 125015, 125033, 125065, 125075, 125087, 125099, 125109, 125123, 125133, 125146, 125156, 125167, 125181, 125200, 125212, 125222, 125233, 125248, 125258, 125268, 125278, 125289, 125298, 125308, 125318, 125333, 125342, 125358, 125371, 125381, 125392, 125404, 125421, 125435, 125446, 125456, 125468, 125484, 125494, 125506, 125518, 125533, 125546, 125568, 125580, 125591, 125600, 125613, 125622, 125632, 125645, 125654, 125663, 125680, 125703, 125713, 125724, 125736, 125749, 125761, 125771, 125783, 125794, 125804, 125815, 125825, 125835, 125845, 125857, 125868, 125879, 125893, 125906, 125916, 125931, 125941, 125951, 125961, 125975, 125990, 126002, 126012, 126024, 126036, 126051, 126061, 126078, 126088, 126099, 126112, 126122, 126132, 126147, 126158, 126168, 126179, 126189, 126199, 126209, 126224, 126235, 126245, 126254, 126276, 126290, 126302, 126316, 126337, 126348, 126360, 126370, 126380, 126437, 126445, 126455, 126465, 126475, 126486, 126496, 126505, 126516, 126527, 126537, 126547, 126560, 126570, 126580, 126590, 126601, 126653, 126663, 126677, 126688, 126700, 126710, 126720, 126731, 126741, 126752, 126764, 126777, 126788, 126798, 126807, 126816, 126824, 126834, 126848, 126858, 126868, 126878, 126889, 126901, 126914, 126926, 126937, 126946, 126956, 126969, 126983, 126996, 127010, 127020, 127038, 127048, 127060, 127070, 127082, 127094, 127111, 127121, 127131, 127145, 127158, 127170, 127181, 127193, 127205, 127220, 127230, 127240, 127253, 127262, 127272, 127282, 127292, 127304, 127331, 127340, 127351, 127363, 127373, 127384, 127394, 127405, 127415, 127425, 127434, 127447, 127495, 127506, 127522, 127532, 127543, 127552, 127563, 127574, 127585, 127594, 127605, 127615, 127626, 127638, 127648, 127661, 127673, 127688, 127697, 127708, 127717, 127727, 127739, 127749, 127761, 127770, 127780, 127791, 127802, 127812, 127825, 127834, 127844, 127854, 127867, 127885, 127916, 127925, 127936, 127946, 127956, 127967, 128092, 128106, 128118, 128128, 128140, 128150, 128160, 128169, 128178, 128189, 128199, 128208, 128217, 128226, 128236, 128254, 128263, 128273, 128283, 128564, 128574, 128584, 128598, 128613, 128624, 128636, 128646, 128655, 128666, 128676, 128685, 128871, 128881, 128891, 128904, 128914, 128924, 128934, 128944, 128954, 128964, 128977, 128990, 129000, 129009, 129019, 129030, 129041, 129050, 129059, 129070, 129080, 129090, 129101, 129110, 129134, 129144, 129154, 129174, 129185, 129196, 129224, 129235, 129247, 129258, 129268, 129279, 129290, 129302, 129311, 129319, 129330, 129340, 129349, 129359, 129369, 129378, 129387, 129399, 129433, 129443, 129462, 129472, 129482, 129491, 129501, 129513, 129523, 129534, 129549, 129559, 129569, 129580, 129589, 129599, 129635, 129646, 129656, 129666, 129688, 129698, 129711, 129721, 129743, 129751, 129764, 129773, 129783, 129793, 129803, 129813, 129824, 129834, 129844, 129856, 129867, 129876, 129918, 129928, 129939, 129949, 129968, 129979, 129989, 129998, 130008, 130020, 130037, 130048, 130058, 130097, 130107, 130118, 130129, 130139, 130149, 130161, 130173, 130185, 130215, 130328, 130339, 130349, 130357, 130370, 130385, 130396, 130406, 130416, 130426, 130437, 130449, 130461, 130472, 130481, 130493, 130504, 130512, 130524, 130535, 130545, 130554, 130564, 130574, 130585, 130597, 130607, 130617, 130627, 130638, 130648, 130663, 130676, 130689, 130698, 130709, 130720, 130730, 130741, 130751, 130763, 130775, 130785, 130797, 130806, 130815, 130826, 130841, 130854, 130865, 130874, 131005, 131015, 131025, 131035, 131047, 131057, 131067, 131077, 131090, 131103, 131127, 131140, 131151, 131169, 131180, 131192, 131201, 131210, 131232, 131241, 131253, 131272, 131287, 131299, 131308, 131326, 131339, 131350, 131360, 131371, 131381, 131393, 131405, 131414, 131429, 131441, 131450, 131461, 131473, 131487, 131497, 131507, 131517, 131530, 131540, 131551, 131560, 131574, 131583, 131626, 131636, 131646, 131659, 131671, 131681, 131691, 131704, 131715, 131725, 131735, 131747, 131773, 131783, 131795, 131809, 131821, 131832, 131842, 131853, 131863, 131873, 131883, 131893, 131903, 131912, 131925, 131934, 131944, 131953, 131963, 131973, 131983, 132017, 132029, 132040, 132051, 132061, 132075, 132086, 132098, 132108, 132121, 132131, 132142, 132159, 132172, 132182, 132193, 132203, 132215, 132244, 132256, 132269, 132280, 132291, 132302, 132312, 132323, 132333, 132343, 132355, 132367, 132378, 132388, 132397, 132410, 132420, 132431, 132441, 132451, 132465, 132476, 132488, 132508, 132518, 132528, 132536, 132547, 132566, 132581, 132591, 132605, 132660, 132670, 132681, 132692, 132703, 132713, 132721, 132732, 132744, 132755, 132772, 132782, 132793, 132807, 132819, 132835, 132845, 132855, 132865, 132874, 132884, 132895, 132905, 132920, 132934, 132946, 132956, 132966, 132977, 132987, 132997, 133007, 133019, 133029, 133039, 133049, 133064, 133087, 133099, 133109, 133119, 133129, 133139, 133149, 133159, 133174, 133185, 133196, 133209, 133222, 133233, 133253, 133264, 133279, 133292, 133302, 133314, 133335, 133346, 133359, 133377, 133394, 133404, 133415, 133427, 133439, 133449, 133461, 133471, 133481, 133492, 133660, 133670, 133680, 133691, 133701, 133711, 133737, 133751, 133765, 133775, 133788, 133800, 133810, 133820, 133836, 133846, 133856, 133868, 133878, 133887, 133897, 133907, 133918, 133931, 133943, 133954, 133967, 133977, 133987, 133997, 134007, 134018, 134028, 134039, 134048, 134062, 134072, 134083, 134094, 134104, 134113, 134124, 134134, 134144, 134156, 134169, 134180, 134192, 134207, 134218, 134228, 134239, 134249, 134264, 134282, 134292, 134302, 134312, 134325, 134336, 134346, 134365, 134375, 134388, 134403, 134424, 134436, 134447, 134456, 134466, 134480, 134490, 134500, 134510, 134520, 134532, 134547, 134559, 134569, 134579, 134589, 134604, 134614, 134629, 134652, 134663, 134673, 134683, 134699, 134722, 134746, 134757, 134766, 134780, 134789, 134799, 134811, 134821, 134830, 134839, 134861, 134872, 134881, 134891, 134900, 134955, 134964, 134975, 134985, 134995, 135007, 135017, 135028, 135038, 135048, 135058, 135068, 135079, 135089, 135098, 135111, 135121, 135130, 135138, 135151, 135162, 135173, 135184, 135194, 135204, 135214, 135224, 135237, 135247, 135258, 135268, 135294, 135304, 135314, 135324, 135335, 135347, 135360, 135371, 135381, 135392, 135403, 135413, 135426, 135436, 135447, 135458, 135468, 135478, 135488, 135498, 135509, 135519, 135539, 135562, 135584, 135596, 135606, 135622, 135632, 135643, 135654, 135664, 135677, 135687, 135947, 135957, 135967, 135978, 135992, 136002, 136012, 136023, 136033, 136046, 136057, 136086, 136098, 136107, 136127, 136139, 136162, 136181, 136214, 136229, 136241, 136250, 136263, 136276, 136294, 136309, 136318, 136330, 136341, 136351, 136363, 136375, 136385, 136396, 136408, 136424, 136452, 136474, 136483, 136496, 136506, 136518, 136528, 136539, 136550, 136560, 136569, 136579, 136590, 136600, 136610, 136618, 136627, 136637, 136647, 136660, 136670, 136686, 136725, 136734, 136745, 136758, 136768, 136778, 136790, 136801, 136812, 136822, 136833, 136846, 136855, 136865, 136875, 136888, 136899, 136912, 136924, 136934, 136945, 136956, 136966, 136975, 136991, 137005, 137020, 137030, 137043, 137053, 137071, 137081, 137091, 137101, 137111, 137121, 137133, 137143, 137154, 137163, 137175, 137244, 137254, 137265, 137275, 137285, 137295, 137305, 137317, 137329, 137339, 137348, 137358, 137371, 137383, 137393, 137403, 137413, 137429, 137439, 137450, 137460, 137468, 137482, 137514, 137524, 137536, 137549, 137561, 137571, 137581, 137593, 137610, 137621, 137631, 137641, 137650, 137659, 137671, 137683, 137697, 137706, 137716, 137733, 137742, 137757, 137771, 137781, 137794, 137803, 137813, 137822, 137834, 137845, 137858, 137868, 137879, 137889, 137901, 137910, 137921, 137931, 137947, 137957, 137967, 137979, 137989, 138061, 138071, 138081, 138090, 138101, 138112, 138123, 138133, 138143, 138153, 138164, 138178, 138188, 138199, 138212, 138223, 138232, 138242, 138251, 138261, 138274, 138285, 138294, 138303, 138314, 138322, 138332, 138343, 138353, 138363, 138373, 138383, 138397, 138407, 138425, 138435, 138453, 138466, 138476, 138486, 138497, 138508, 138518, 138530, 138540, 138551, 138561, 138571, 138594, 138606, 138618, 138628, 138639, 138649, 138659, 138670, 138679, 138693, 138754, 138766, 138777, 138785, 138794, 138805, 138819, 138831, 138843, 138855, 138865, 138881, 138894, 138904, 138914, 138926, 138936, 138945, 138957, 138966, 138980, 138990, 139000, 139012, 139022, 139042, 139058, 139068, 139078, 139090, 139105, 139117, 139127, 139142, 139152, 139166, 139181, 139192, 139203, 139216, 139231, 139241, 139251, 139259, 139272, 139286, 139296, 139307, 139319, 139327, 139337, 139348, 139390, 139399, 139410, 139427, 139438, 139450, 139728, 139739, 139750, 139763, 139775, 139785, 139805, 139815, 139834, 139844, 139896, 139907, 139917, 139927, 139937, 139948, 139960, 139970, 139980, 139990, 140001, 140050, 140061, 140071, 140091, 140101, 140110, 140120, 140130, 140141, 140153, 140163, 140179, 140190, 140201, 140211, 140221, 140234, 140245, 140255, 140266, 140275, 140286, 140297, 140317, 140327, 140337, 140347, 140365, 140375, 140385, 140396, 140407, 140417, 140431, 140451, 140461, 140473, 140483, 140493, 140506, 140520, 140530, 140542, 140553, 140565, 140581, 140592, 140607, 140617, 140626, 140656, 140670, 140680, 140690, 140700, 140711, 140722, 140733, 140743, 140778, 140789, 140798, 140826, 140837, 140847, 140862, 140872, 140884, 140895, 140909, 140920, 140929, 140948, 140959, 140974, 141002, 141013, 141023, 141034, 141044, 141054, 141064, 141079, 141088, 141100, 141110, 141119, 141127, 141160, 141170, 141182, 141191, 141241, 141253, 141262, 141274, 141284, 141299, 141310, 141320, 141341, 141351, 141360, 141370, 141381, 141392, 141404, 141421, 141432, 141444, 141454, 141464, 141474, 141484, 141494, 141507, 141522, 141803, 141814, 141831, 141847, 141858, 141869, 141880, 141901, 141911, 141922, 141931, 141967, 141986, 141997, 142009, 142021, 142031, 142044, 142052, 142064, 142074, 142084, 142095, 142106, 142116, 142128, 142140, 142154, 142170, 142179, 142190, 142201, 142211, 142221, 142232, 142243, 142257, 142267, 142275, 142284, 142397, 142406, 142416, 142428, 142438, 142447, 142457, 142480, 142492, 142504, 142785, 142795, 142804, 142814, 142825, 142836, 142847, 142866, 142877, 142887, 142903, 142916, 142927, 142939, 142951, 142970, 142980, 143016, 143027, 143039, 143049, 143059, 143068, 143080, 143094, 143119, 143130, 143147, 143157, 143168, 143179, 143205, 143221, 143230, 143239, 143249, 143259, 143280, 143294, 143307, 143317, 143327, 143347, 143360, 143370, 143429, 143441, 143451, 143480, 143490, 143500, 143534, 143543, 143553, 143566, 143575, 143590, 143600, 143610, 143625, 143638, 143648, 143698, 143710, 143720, 143730, 143743, 143753, 143763, 143773, 144054, 144067, 144078, 144088, 144101, 144125, 144138, 144150, 144163, 144175, 144186, 144196, 144212, 144239, 144248, 144259, 144270, 144279, 144289, 144308, 144319, 144329, 144346, 144356, 144368, 144381, 144394, 144405, 144417, 144427, 144439, 144449, 144460, 144472, 144482, 144490, 144500, 144514, 144532, 144551, 144562, 144573, 144585, 144598, 144611, 144621, 144632, 144643, 144653, 144680, 144738, 144750, 144765, 144775, 144785, 144796, 144807, 144818, 144831, 144845, 144855, 144865, 144875, 144887, 144898, 144912, 144928, 144939, 144949, 144958, 144975, 144984, 145006, 145017, 145026, 145036, 145047, 145057, 145065, 145077, 145086, 145098, 145111, 145123, 145133, 145143, 145153, 145163, 145174, 145186, 145201, 145298, 145308, 145326, 145336, 145351, 145362, 145372, 145383, 145394, 145404, 145416, 145430, 145444, 145452, 145466, 145478, 145488, 145497, 145506, 145519, 145528, 145538, 145548, 145557, 145567, 145578, 145589, 145609, 145619, 145634, 145647, 145659, 145669, 145679, 145689, 145698, 145711, 145720, 145731, 145742, 145753, 145764, 145773, 145783, 145794, 145805, 145819, 145829, 145839, 145851, 145881, 145894, 145905, 145915, 145950, 145960, 146238, 146248, 146259, 146268, 146278, 146288, 146297, 146308, 146319, 146331, 146342, 146354, 146362, 146371, 146381, 146392, 146401, 146411, 146422, 146435, 146445, 146455, 146465, 146477, 146487, 146497, 146513, 146524, 146534, 146552, 146567, 146578, 146590, 146604, 146618, 146632, 146645, 146656, 146684, 146699, 146709, 146722, 146733, 146744, 146754, 146763, 146772, 146784, 146797, 146808, 146827, 146839, 146849, 146863, 146873, 146885, 146898, 146908, 146919, 146935, 146945, 146955, 146965, 146990, 147004, 147014, 147024, 147036, 147046, 147059, 147070, 147083, 147098, 147109, 147119, 147130, 147140, 147152, 147172, 147188, 147198, 147208, 147218, 147229, 147238, 147254, 147264, 147280, 147292, 147302, 147330, 147354, 147372, 147382, 147395, 147405, 147414, 147424, 147433, 147443, 147453, 147462, 147473, 147486, 147496, 147511, 147520, 147530, 147542, 147560, 147570, 147584, 147594, 147603, 147613, 147623, 147633, 147653, 147662, 147673, 147683, 147694, 147705, 147722, 147737, 147747, 147757, 147769, 147781, 147791, 147802, 147813, 147834, 147845, 147855, 147869, 147879, 147889, 147899, 147910, 147920, 147930, 147940, 147953, 147966, 147976, 147992, 148007, 148018, 148028, 148038, 148048, 148098, 148110, 148127, 148137, 148147, 148157, 148173, 148183, 148193, 148205, 148217, 148227, 148237, 148257, 148268, 148278, 148290, 148303, 148312, 148324, 148335, 148347, 148358, 148368, 148379, 148390, 148402, 148412, 148421, 148431, 148443, 148453, 148465, 148478, 148490, 148499, 148511, 148521, 148539, 148548, 148557, 148567, 148577, 148593, 148607, 148616, 148627, 148641, 148650, 148661, 148678, 148696, 148708, 148719, 148730, 148741, 148751, 148761, 148775, 148788, 148798, 148815, 148825, 148835, 148847, 148858, 148868, 148878, 148890, 148901, 148912, 148926, 148936, 148945, 148955, 148967, 148976, 148995, 149005, 149015, 149029, 149041, 149052, 149063, 149073, 149084, 149095, 149105, 149116, 149125, 149135, 149146, 149157, 149167, 149182, 149192, 149203, 149219, 149237, 149247, 149257, 149267, 149282, 149292, 149304, 149320, 149333, 149346, 149358, 149369, 149380, 149406, 149415, 149437, 149466, 149476, 149486, 149496, 149507, 149522, 149532, 149556, 149565, 149573, 149613, 149623, 149634, 149645, 149655, 149664, 149674, 149684, 149699, 149709, 149719, 149731, 149741, 149751, 149880, 149889, 149936, 149946, 149956, 149967, 149977, 149987, 149999, 150010, 150021, 150034, 150048, 150106, 150117, 150128, 150138, 150147, 150159, 150174, 150185, 150195, 150205, 150217, 150232, 150334, 150344, 150357, 150367, 150386, 150398, 150408, 150428, 150439, 150451, 150459, 150468, 150479, 150489, 150500, 150510, 150523, 150534, 150543, 150552, 150563, 150584, 150593, 150608, 150618, 150630, 150654, 150665, 150675, 150685, 150698, 150864, 150874, 150887, 150898, 150908, 150918, 150927, 150936, 150956, 150970, 150988, 150997, 151005, 151028, 151038, 151047, 151059, 151074, 151085, 151098, 151112, 151123, 151133, 151145, 151157, 151169, 151179, 151192, 151213, 151225, 151249, 151260, 151270, 151279, 151297, 151308, 151317, 151328, 151338, 151348, 151357, 151369, 151377, 151387, 151398, 151408, 151419, 151429, 151439, 151449, 151460, 151472, 151500, 151510, 151520, 151532, 151542, 151551, 151562, 151574, 151607, 151620, 151630, 151641, 151651, 151667, 151678, 151688, 151698, 151707, 151717, 151731, 151742, 151756, 151766, 151780, 151795, 151804, 151814, 151824, 151835, 151845, 151855, 151864, 151875, 151885, 151895, 151909, 151933, 151944, 151963, 151977, 151994, 152004, 152017, 152064, 152074, 152086, 152108, 152118, 152130, 152140, 152151, 152163, 152172, 152184, 152194, 152204, 152214, 152224, 152234, 152245, 152255, 152266, 152286, 152296, 152305, 152315, 152326, 152337, 152350, 152361, 152371, 152381, 152392, 152403, 152413, 152423, 152436, 152446, 152459, 152468, 152480, 152499, 152513, 152522, 152532, 152544, 152553, 152563, 152657, 152667, 152678, 152689, 152699, 152719, 152731, 152741, 152753, 152762, 152785, 152797, 152808, 152816, 152826, 152837, 152848, 152859, 152869, 152886, 152896, 152906, 152917, 152927, 152944, 152961, 152972, 152987, 152997, 153008, 153021, 153031, 153041, 153052, 153063, 153076, 153094, 153104, 153114, 153124, 153139, 153149, 153160, 153170, 153180, 153189, 153200, 153221, 153231, 153243, 153423, 153433, 153443, 153454, 153470, 153490, 153501, 153519, 153529, 153540, 153550, 153565, 153575, 153585, 153597, 153606, 153616, 153628, 153642, 153652, 153660, 153670, 153684, 153697, 153720, 153736, 153747, 153759, 153771, 153781, 153791, 153803, 153813, 153828, 153840, 153851, 153861, 153871, 153880, 153891, 153905, 153916, 153926, 153935, 153946, 153957, 153966, 153981, 153990, 154000, 154014, 154024, 154034, 154045, 154059, 154071, 154084, 154095, 154107, 154117, 154126, 154141, 154154, 154164, 154173, 154183, 154219, 154228, 154239, 154259, 154269, 154284, 154294, 154405, 154415, 154425, 154434, 154443, 154452, 154463, 154474, 154488, 154497, 154507, 154518, 154529, 154541, 154551, 154561, 154572, 154583, 154593, 154602, 154612, 154624, 154635, 154645, 154656, 154669, 154679, 154696, 154707, 154719, 154733, 154744, 154759, 154772, 154782, 154791, 154801, 154811, 154822, 154832, 154850, 154862, 154871, 154889, 154899, 154909, 154919, 154929, 154939, 154949, 154959, 154969, 154982, 154994, 155007, 155019, 155028, 155042, 155052, 155073, 155083, 155093, 155101, 155110, 155122, 155132, 155141, 155152, 155164, 155174, 155184, 155195, 155207, 155218, 155230, 155242, 155256, 155290, 155301, 155311, 155322, 155342, 155357, 155367, 155378, 155394, 155406, 155421, 155437, 155454, 155469, 155477, 155500, 155517, 155527, 155537, 155549, 155560, 155570, 155580, 155591, 155600, 155610, 155620, 155631, 155650, 155661, 155674, 155684, 155694, 155708, 155721, 155732, 155742, 155752, 155762, 155779, 155789, 155799, 155808, 155818, 155828, 155841, 155859, 155871, 155885, 155895, 155905, 155915, 155928, 155937, 155947, 155968, 155979, 155993, 156003, 156013, 156023, 156038, 156048, 156061, 156077, 156087, 156096, 156109, 156120, 156130, 156140, 156153, 156163, 156177, 156190, 156201, 156212, 156223, 156233, 156243, 156254, 156264, 156274, 156284, 156294, 156306, 156323, 156335, 156351, 156362, 156385, 156400, 156411, 156421, 156431, 156442, 156451, 156460, 156470, 156490, 156501, 156518, 156528, 156546, 156561, 156571, 156581, 156591, 156612, 156622, 156634, 156663, 156674, 156689, 156701, 156727, 156739, 156750, 156760, 156770, 156779, 156789, 156816, 156919, 156928, 156942, 156951, 156961, 156971, 156982, 156993, 157006, 157016, 157026, 157044, 157064, 157077, 157088, 157100, 157116, 157126, 157139, 157149, 157159, 157169, 157186, 157198, 157218, 157252, 157261, 157270, 157282, 157295, 157305, 157316, 157326, 157337, 157345, 157356, 157368, 157378, 157393, 157406, 157416, 157428, 157464, 157474, 157493, 157504, 157515, 157525, 157544, 157555, 157564, 157574, 157587, 157595, 157606, 157618, 157626, 157637, 157647, 157657, 157669, 157679, 157689, 157704, 157715, 157727, 157738, 157748, 157758, 157773, 157784, 157823, 157833, 157843, 157853, 157863, 157873, 157887, 157899, 157908, 157918, 157927, 157940, 157950, 157958, 157971, 157981, 157991, 158000, 158013, 158025, 158035, 158046, 158058, 158068, 158081, 158091, 158102, 158114, 158127, 158139, 158149, 158160, 158178, 158188, 158199, 158215, 158225, 158233, 158244, 158256, 158269, 158279, 158289, 158299, 158310, 158320, 158332, 158342, 158360, 158370, 158384, 158395, 158434, 158445, 158458, 158478, 158488, 158499, 158512, 158537, 158549, 158559, 158569, 158580, 158590, 158601, 158616, 158626, 158636, 158647, 158657, 158672, 158684, 158694, 158704, 158714, 158728, 158739, 158749, 158759, 158769, 158778, 158789, 158801, 158813, 158867, 158878, 158890, 158900, 158909, 158921, 158932, 158942, 158952, 158968, 158979, 158988, 158998, 159007, 159024, 159034, 159044, 159059, 159069, 159080, 159090, 159100, 159111, 159128, 159140, 159151, 159164, 159174, 159184, 159194, 159204, 159215, 159227, 159239, 159253, 159263, 159273, 159285, 159325, 159338, 159349, 159359, 159369, 159379, 159389, 159402, 159412, 159425, 159436, 159446, 159457, 159469, 159481, 159493, 159502, 159512, 159522, 159532, 159541, 159552, 159568, 159580, 159601, 159613, 159625, 159640, 159653, 159666, 159676, 159691, 159704, 159741, 159751, 159762, 159777, 159787, 159800, 159811, 159821, 159836, 159846, 159857, 159868, 159883, 159893, 159902, 159912, 159926, 159943, 159965, 159975, 159986, 160000, 160010, 160020, 160030, 160041, 160051, 160062, 160072, 160086, 160096, 160108, 160119, 160129, 160140, 160150, 160161, 160179, 160190, 160200, 160215, 160226, 160239, 160249, 160260, 160270, 160282, 160294, 160304, 160314, 160324, 160335, 160435, 160449, 160476, 160492, 160506, 160515, 160530, 160540, 160552, 160566, 160579, 160595, 160628, 160642, 160650, 160660, 160671, 160685, 160697, 160709, 160718, 160729, 160740, 160750, 160759, 160769, 160779, 160797, 160807, 160818, 160828, 160839, 160848, 160858, 160873, 160885, 160895, 160928, 160939, 160950, 160960, 160971, 160981, 160992, 161002, 161012, 161023, 161041, 161051, 161076, 161086, 161105, 161115, 161125, 161141, 161156, 161166, 161177, 161187, 161197, 161210, 161219, 161232, 161242, 161251, 161260, 161269, 161278, 161288, 161298, 161310, 161326, 161336, 161345, 161354, 161368, 161377, 161480, 161489, 161500, 161510, 161520, 161530, 161544, 161554, 161564, 161575, 161585, 161594, 161604, 161615, 161624, 161634, 161645, 161655, 161749, 161760, 161770, 161780, 161792, 161802, 161815, 161826, 161837, 161849, 161863, 161873, 161885, 161895, 161906, 161916, 161933, 161943, 161953, 161965, 161977, 161990, 162001, 162010, 162020, 162030, 162043, 162052, 162062, 162072, 162083, 162093, 162103, 162117, 162126, 162137, 162150, 162163, 162177, 162187, 162198, 162209, 162223, 162235, 162248, 162259, 162272, 162282, 162294, 162307, 162317, 162330, 162347, 162358, 162368, 162378, 162388, 162401, 162411, 162425, 162437, 162451, 162461, 162479, 162490, 162515, 162525, 162535, 162545, 162582, 162593, 162611, 162621, 162632, 162645, 162663, 162682, 162717, 162727, 162737, 162753, 162764, 162777, 162790, 162801, 162811, 162820, 162832, 162842, 162853, 162863, 162875, 162885, 163051, 163065, 163077, 163088, 163099, 163109, 163122, 163132, 163144, 163155, 163167, 163177, 163187, 163197, 163209, 163219, 163229, 163239, 163256, 163276, 163286, 163296, 163310, 163326, 163342, 163352, 163361, 163370, 163380, 163406, 163417, 163426, 163437, 163453, 163463, 163475, 163486, 163498, 163508, 163524, 163537, 163549, 163560, 163577, 163589, 163598, 163610, 163620, 163640, 163660, 163670, 163681, 163694, 163704, 163714, 163729, 163740, 163759, 163771, 163785, 163954, 163964, 163974, 163986, 163996, 164006, 164023, 164034, 164044, 164053, 164064, 164075, 164087, 164098, 164109, 164119, 164137, 164147, 164157, 164175, 164187, 164198, 164208, 164219, 164229, 164238, 164259, 164268, 164278, 164292, 164302, 164313, 164330, 164343, 164353, 164363, 164374, 164384, 164394, 164407, 164420, 164432, 164446, 164457, 164467, 164477, 164486, 164496, 164508, 164519, 164531, 164544, 164554, 164565, 164575, 164590, 164604, 164614, 164633, 164643, 164651, 164665, 164675, 164690, 164700, 164710, 164720, 164736, 164746, 164756, 164768, 164778, 164789, 164799, 164812, 164824, 164835, 164847, 164860, 164872, 164883, 164894, 164904, 164914, 164923, 164932, 164951, 164962, 164976, 164986, 164997, 165008, 165017, 165026, 165036, 165046, 165058, 165068, 165081, 165100, 165110, 165120, 165131, 165140, 165151, 165173, 165183, 165193, 165204, 165214, 165230, 165249, 165263, 165278, 165287, 165300, 165313, 165329, 165339, 165349, 165361, 165372, 165390, 165400, 165416, 165427, 165439, 165449, 165459, 165469, 165480, 165491, 165501, 165512, 165524, 165534, 165579, 165590, 165600, 165611, 165621, 165631, 165641, 165652, 165663, 165678, 165688, 165697, 165715, 165738, 165748, 165757, 165766, 165776, 165786, 165796, 165806, 165816, 165828, 165838, 165857, 165868, 165882, 165893, 165905, 165929, 165939, 165949, 165959, 165970, 166008, 166019, 166043, 166053, 166065, 166077, 166088, 166098, 166114, 166124, 166134, 166148, 166160, 166170, 166180, 166191, 166202, 166211, 166221, 166230, 166243, 166254, 166270, 166282, 166292, 166304, 166314, 166323, 166334, 166344, 166354, 166383, 166393, 166402, 166414, 166427, 166435, 166448, 166458, 166468, 166477, 166489, 166500, 166510, 166528, 166541, 166552, 166562, 166572, 166582, 166590, 166600, 166611, 166621, 166631, 166645, 166655, 166665, 166678, 166692, 166704, 166713, 166723, 166736, 166747, 166775, 166784, 166803, 166814, 166824, 166834, 166846, 166860, 166870, 166880, 166890, 166901, 166913, 166928, 166937, 166952, 166961, 166971, 167000, 167036, 167052, 167062, 167072, 167085, 167095, 167105, 167119, 167131, 167140, 167150, 167164, 167173, 167183, 167194, 167204, 167214, 167228, 167238, 167249, 167260, 167270, 167287, 167550, 167562, 167574, 167583, 167677, 167689, 167699, 167709, 167718, 167743, 167761, 167771, 167783, 167793, 167803, 167814, 167824, 167833, 167846, 167856, 167866, 167876, 167886, 167899, 167909, 167919, 167928, 167938, 167950, 167960, 167970, 167980, 167989, 168000, 168011, 168021, 168030, 168043, 168064, 168074, 168083, 168092, 168102, 168130, 168140, 168149, 168159, 168171, 168181, 168195, 168204, 168218, 168228, 168238, 168248, 168264, 168274, 168284, 168294, 168304, 168326, 168336, 168347, 168358, 168368, 168380, 168395, 168404, 168430, 168440, 168450, 168460, 168469, 168478, 168485, 168495, 168505, 168515, 168525, 168536, 168544, 168555, 168565, 168573, 168583, 168593, 168603, 168614, 168628, 168637, 168649, 168660, 168670, 168680, 168689, 168697, 168706, 168723, 168735, 168746, 168755, 168774, 168783, 168799, 168810, 168824, 168837, 168846, 168856, 168867, 168877, 168887, 168898, 168907, 168917, 168926, 168937, 168948, 168958, 168973, 168985, 168995, 169006, 169016, 169032, 169042, 169051, 169062, 169073, 169084, 169095, 169105, 169114, 169124, 169134, 169145, 169154, 169164, 169181, 169190, 169202, 169212, 169222, 169242, 169252, 169265, 169276, 169305, 169317, 169335, 169345, 169356, 169367, 169378, 169388, 169398, 169408, 169419, 169431, 169441, 169452, 169463, 169474, 169487, 169498, 169514, 169524, 169535, 169544, 169554, 169570, 169579, 169590, 169599, 169608, 169618, 169656, 169666, 169677, 169686, 169696, 169705, 169715, 169725, 169746, 169757, 169767, 169780, 169790, 169803, 169815, 169827, 169836, 169846, 169857, 169868, 169880, 169891, 169906, 169917, 169927, 169937, 169947, 169962, 169982, 169992, 170002, 170012, 170081, 170093, 170104, 170114, 170131, 170141, 170153, 170163, 170173, 170183, 170196, 170206, 170217, 170227, 170236, 170246, 170257, 170269, 170279, 170289, 170300, 170310, 170327, 170337, 170504, 170514, 170524, 170534, 170546, 170556, 170567, 170579, 170589, 170602, 170612, 170623, 170633, 170644, 170654, 170664, 170675, 170686, 170696, 170710, 170720, 170733, 170745, 170757, 170772, 170782, 170793, 170805, 170816, 170826, 170836, 170857, 170869, 170888, 170898, 170934, 170945, 170959, 170969, 170981, 170991, 171003, 171013, 171026, 171036, 171048, 171058, 171070, 171080, 171090, 171104, 171114, 171125, 171135, 171146, 171159, 171170, 171187, 171198, 171209, 171219, 171228, 171239, 171250, 171260, 171270, 171280, 171291, 171301, 171314, 171324, 171334, 171344, 171354, 171367, 171380, 171393, 171402, 171411, 171426, 171439, 171449, 171459, 171469, 171485, 171500, 171509, 171519, 171529, 171544, 171554, 171564, 171582, 171592, 171607, 171620, 171631, 171641, 171653, 171663, 171674, 171686, 171696, 171708, 171718, 171728, 171738, 171748, 171759, 171770, 171781, 171791, 171806, 171817, 171828, 171839, 171849, 171865, 171875, 171886, 171896, 171907, 171923, 171936, 171946, 171956, 171966, 171976, 171990, 172001, 172011, 172029, 172040, 172054, 172063, 172072, 172082, 172096, 172105, 172115, 172127, 172137, 172146, 172156, 172166, 172178, 172189, 172207, 172217, 172231, 172240, 172250, 172260, 172271, 172285, 172295, 172305, 172337, 172349, 172360, 172370, 172380, 172395, 172406, 172417, 172428, 172440, 172450, 172461, 172472, 172482, 172493, 172505, 172515, 172526, 172536, 172546, 172557, 172568, 172586, 172599, 172610, 172626, 172636, 172648, 172666, 172724, 172735, 172745, 172763, 172775, 172785, 172795, 172805, 172818, 172828, 172839, 172851, 172866, 172875, 172884, 172893, 172903, 172913, 172923, 172935, 172952, 172962, 172972, 172987, 172997, 173007, 173018, 173032, 173043, 173056, 173066, 173076, 173086, 173096, 173110, 173124, 173134, 173145, 173155, 173169, 173181, 173195, 173205, 173215, 173227, 173237, 173250, 173261, 173274, 173285, 173295, 173306, 173325, 173334, 173344, 173353, 173365, 173377, 173392, 173401, 173411, 173423, 173435, 173445, 173455, 173466, 173477, 173488, 173497, 173507, 173525, 173535, 173545, 173563, 173576, 173586, 173595, 173605, 173616, 173626, 173642, 173660, 173669, 173681, 173691, 173701, 173712, 173722, 173732, 173764, 173773, 173790, 173804, 173816, 173825, 173871, 173883, 173897, 173907, 173918, 173932, 173943, 173952, 173968, 173978, 173990, 174003, 174023, 174034, 174045, 174058, 174070, 174084, 174096, 174106, 174116, 174125, 174137, 174148, 174160, 174170, 174179, 174190, 174205, 174215, 174226, 174236, 174250, 174260, 174269, 174279, 174290, 174303, 174313, 174324, 174335, 174348, 174368, 174379, 174391, 174402, 174415, 174425, 174435, 174446, 174458, 174468, 174478, 174496, 174509, 174520, 174530, 174541, 174551, 174561, 174572, 174583, 174593, 174605, 174618, 174628, 174638, 174648, 174660, 174669, 174679, 174699, 174713, 174723, 174733, 174746, 174758, 174771, 174782, 174794, 174804, 174814, 174828, 174838, 174848, 174858, 174868, 174879, 174889, 174903, 174913, 174923, 174933, 174955, 174970, 174981, 174991, 175002, 175012, 175023, 175033, 175043, 175058, 175069, 175081, 175094, 175105, 175118, 175129, 175138, 175148, 175261, 175271, 175283, 175295, 175305, 175321, 175334, 175342, 175353, 175363, 175377, 175389, 175399, 175409, 175420, 175433, 175447, 175457, 175467, 175479, 175489, 175498, 175507, 175517, 175527, 175537, 175547, 175557, 175568, 175580, 175591, 175601, 175613, 175623, 175633, 175644, 175654, 175666, 175677, 175690, 175705, 175719, 175730, 175741, 175751, 175762, 175772, 175784, 175793, 175807, 175817, 175826, 175835, 175845, 175853, 175863, 175875, 175884, 175895, 175907, 175916, 175931, 175940, 175951, 175962, 175972, 176250, 176261, 176271, 176282, 176299, 176311, 176321, 176331, 176352, 176362, 176372, 176381, 176395, 176406, 176417, 176428, 176439, 176451, 176461, 176629, 176639, 176651, 176660, 176670, 176681, 176692, 176702, 176719, 176768, 176779, 176789, 176799, 176809, 176874, 176885, 176897, 176912, 176926, 176967, 176976, 176988, 177005, 177020, 177032, 177045, 177055, 177065, 177075, 177087, 177097, 177107, 177117, 177129, 177144, 177160, 177173, 177184, 177194, 177204, 177216, 177224, 177238, 177246, 177256, 177267, 177280, 177295, 177307, 177317, 177326, 177339, 177354, 177365, 177380, 177394, 177405, 177418, 177429, 177440, 177455, 177466, 177476, 177487, 177509, 177523, 177540, 177552, 177562, 177572, 177586, 177596, 177611, 177622, 177635, 177644, 177653, 177664, 177676, 177686, 177697, 177708, 177718, 177735, 177745, 177755, 177764, 177776, 177784, 177794, 177804, 177814, 177823, 177833, 177843, 177853, 177863, 177871, 177885, 177896, 177911, 177921, 177940, 177950, 177961, 177974, 177986, 178000, 178010, 178020, 178030, 178041, 178053, 178063, 178074, 178084, 178099, 178113, 178124, 178135, 178145, 178159, 178169, 178179, 178187, 178197, 178206, 178218, 178227, 178236, 178246, 178273, 178285, 178297, 178391, 178400, 178410, 178419, 178429, 178451, 178461, 178472, 178482, 178492, 178502, 178515, 178524, 178535, 178546, 178557, 178573, 178591, 178601, 178612, 178622, 178633, 178643, 178654, 178665, 178675, 178688, 178703, 178712, 178721, 178730, 178744, 178754, 178765, 178774, 178802, 178814, 178824, 178834, 178845, 178863, 178873, 178902, 178912, 178924, 178951, 178960, 178970, 178980, 178991, 179001, 179011, 179021, 179032, 179042, 179051, 179061, 179071, 179081, 179089, 179102, 179117, 179128, 179138, 179151, 179159, 179170, 179183, 179195, 179208, 179231, 179241, 179265, 179277, 179288, 179298, 179328, 179338, 179350, 179461, 179472, 179480, 179497, 179508, 179524, 179536, 179547, 179558, 179569, 179591, 179601, 179611, 179621, 179632, 179671, 179680, 179693, 179703, 179713, 179727, 179737, 179750, 179761, 179773, 179786, 179796, 179806, 179816, 179826, 179836, 179848, 179858, 179868, 179876, 179885, 179897, 179910, 179923, 179934, 179945, 179955, 179965, 179974, 179984, 179998, 180008, 180017, 180043, 180053, 180062, 180074, 180084, 180094, 180110, 180122, 180132, 180142, 180152, 180161, 180174, 180184, 180199, 180209, 180221, 180231, 180248, 180258, 180271, 180281, 180292, 180303, 180313, 180323, 180333, 180343, 180362, 180376, 180387, 180402, 180413, 180425, 180436, 180453, 180463, 180473, 180482, 180491, 180502, 180513, 180538, 180555, 180566, 180579, 180613, 180623, 180636, 180736, 180751, 180761, 180770, 180778, 180789, 180805, 180814, 180824, 180852, 180864, 180874, 180884, 180894, 180905, 180915, 180927, 180937, 180949, 180959, 180969, 180978, 180989, 181000, 181012, 181022, 181033, 181045, 181063, 181074, 181089, 181098, 181110, 181120, 181130, 181140, 181150, 181160, 181171, 181179, 181193, 181203, 181213, 181226, 181254, 181265, 181275, 181285, 181295, 181305, 181318, 181329, 181339, 181353, 181371, 181384, 181662, 181671, 181679, 181690, 181700, 181709, 181722, 181732, 181741, 181753, 181764, 181776, 181786, 181794, 181805, 181821, 181831, 181840, 181854, 181866, 181876, 181893, 181904, 181914, 181926, 181936, 181969, 181979, 181988, 181999, 182012, 182024, 182035, 182045, 182055, 182065, 182075, 182085, 182098, 182108, 182118, 182128, 182136, 182149, 182162, 182171, 182182, 182194, 182208, 182224, 182234, 182246, 182257, 182268, 182279, 182289, 182298, 182319, 182332, 182342, 182352, 182370, 182381, 182392, 182403, 182413, 182426, 182436, 182471, 182482, 182492, 182501, 182512, 182523, 182533, 182546, 182557, 182567, 182579, 182589, 182603, 182615, 182625, 182635, 182646, 182659, 182677, 182687, 182702, 182723, 182734, 182745, 182757, 182770, 182783, 182793, 182803, 182816, 182828, 182838, 182848, 182858, 182869, 182882, 182892, 182910, 182924, 182935, 183216, 183228, 183239, 183248, 183260, 183269, 183279, 183288, 183298, 183311, 183322, 183334, 183344, 183353, 183365, 183375, 183389, 183429, 183437, 183453, 183462, 183477, 183487, 183498, 183511, 183525, 183535, 183547, 183557, 183567, 183577, 183590, 183600, 183610, 183620, 183638, 183648, 183657, 183667, 183687, 183701, 183712, 183721, 183733, 183745, 183757, 183767, 183781, 183799, 183810, 183822, 183832, 183845, 183855, 183865, 183876, 183896, 183907, 183917, 183928, 183941, 183955, 183965, 183975, 183994, 184006, 184016, 184038, 184047, 184057, 184068, 184078, 184088, 184098, 184114, 184129, 184142, 184153, 184166, 184180, 184194, 184207, 184217, 184228, 184242, 184252, 184262, 184296, 184306, 184316, 184325, 184337, 184348, 184358, 184369, 184382, 184394, 184405, 184417, 184427, 184437, 184447, 184457, 184467, 184481, 184496, 184505, 184527, 184540, 184550, 184560, 184570, 184588, 184600, 184610, 184620, 184634, 184680, 184782, 184792, 184805, 184825, 184836, 184856, 184866, 184876, 185043, 185055, 185066, 185078, 185088, 185100, 185112, 185121, 185132, 185142, 185153, 185163, 185175, 185186, 185196, 185208, 185218, 185231, 185242, 185252, 185266, 185276, 185288, 185298, 185311, 185323, 185334, 185345, 185356, 185367, 185382, 185392, 185403, 185413, 185424, 185474, 185487, 185498, 185511, 185523, 185533, 185543, 185555, 185565, 185575, 185585, 185595, 185607, 185617, 185632, 185644, 185672, 185682, 185692, 185702, 185726, 185736, 185747, 185770, 185780, 185791, 185801, 185814, 185827, 185838, 185848, 185862, 185871, 185888, 185898, 185910, 185920, 185952, 185960, 185974, 185984, 185996, 186006, 186018, 186044, 186056, 186066, 186079, 186088, 186100, 186110, 186122, 186133, 186145, 186156, 186167, 186180, 186190, 186225, 186235, 186244, 186253, 186277, 186290, 186300, 186317, 186329, 186339, 186351, 186363, 186375, 186385, 186396, 186406, 186415, 186425, 186450, 186463, 186473, 186485, 186498, 186508, 186519, 186534, 186551, 186560, 186569, 186581, 186589, 186598, 186607, 186617, 186629, 186646, 186658, 186667, 186678, 186694, 186705, 186715, 186725, 186737, 186747, 186757, 186767, 186781, 186791, 186801, 186812, 186824, 186836, 186847, 186857, 186867, 186878, 186890, 186899, 186909, 186929, 186940, 186951, 186961, 186971, 186989, 187005, 187019, 187031, 187041, 187050, 187061, 187071, 187081, 187090, 187103, 187115, 187126, 187134, 187143, 187154, 187165, 187179, 187189, 187199, 187211, 187222, 187233, 187244, 187257, 187268, 187279, 187289, 187317, 187326, 187353, 187387, 187398, 187407, 187418, 187427, 187438, 187448, 187458, 187466, 187482, 187493, 187503, 187515, 187529, 187542, 187550, 187560, 187573, 187582, 187637, 187647, 187659, 187670, 187680, 187690, 187700, 187711, 187721, 187733, 187746, 187771, 187781, 187802, 187813, 187829, 187845, 187939, 187954, 187964, 187973, 187985, 187994, 188006, 188018, 188027, 188040, 188049, 188060, 188071, 188082, 188091, 188101, 188111, 188128, 188137, 188148, 188158, 188170, 188183, 188348, 188358, 188370, 188390, 188401, 188411, 188422, 188432, 188442, 188452, 188462, 188473, 188483, 188496, 188511, 188524, 188538, 188554, 188566, 188577, 188587, 188601, 188612, 188624, 188634, 188646, 188656, 188665, 188675, 188689, 188698, 188708, 188718, 188727, 188736, 188749, 188758, 189021, 189036, 189058, 189068, 189083, 189093, 189103, 189114, 189124, 189134, 189145, 189155, 189165, 189175, 189185, 189197, 189215, 189226, 189239, 189250, 189261, 189269, 189279, 189290, 189300, 189315, 189325, 189336, 189346, 189356, 189368, 189380, 189392, 189402, 189412, 189426, 189438, 189450, 189460, 189470, 189480, 189490, 189500, 189509, 189518, 189528, 189538, 189549, 189560, 189570, 189579, 189589, 189598, 189608, 189616, 189628, 189638, 189648, 189658, 189668, 189681, 189695, 189705, 189715, 189726, 189735, 189745, 189759, 189770, 189782, 189802, 189820, 189832, 189841, 189859, 189873, 189883, 189893, 189904, 189914, 189926, 189936, 189947, 189959, 189969, 189980, 189991, 190004, 190014, 190024, 190036, 190046, 190056, 190072, 190115, 190127, 190142, 190153, 190164, 190176, 190189, 190199, 190209, 190220, 190230, 190240, 190250, 190262, 190273, 190283, 190294, 190303, 190316, 190336, 190345, 190354, 190364, 190378, 190390, 190408, 190417, 190427, 190440, 190451, 190461, 190471, 190483, 190494, 190504, 190514, 190525, 190534, 190546, 190557, 190568, 190581, 190591, 190602, 190612, 190623, 190633, 190644, 190658, 190676, 190689, 190699, 190708, 190718, 190728, 190743, 190753, 190762, 190771, 190781, 190792, 190808, 190819, 190831, 190840, 190851, 190862, 190873, 190880, 190890, 190899, 190909, 190920, 190931, 190943, 190953, 190963, 190974, 190984, 190994, 191009, 191018, 191031, 191047, 191077, 191087, 191098, 191108, 191118, 191128, 191146, 191157, 191171, 191183, 191193, 191203, 191213, 191222, 191233, 191243, 191253, 191264, 191274, 191285, 191298, 191308, 191321, 191332, 191344, 191354, 191367, 191378, 191394, 191410, 191421, 191431, 191449, 191460, 191471, 191481, 191491, 191504, 191514, 191526, 191550, 191563, 191573, 191583, 191594, 191604, 191614, 191624, 191634, 191648, 191659, 191669, 191680, 191693, 191704, 191714, 191724, 191738, 191747, 191756, 191765, 191775, 191785, 191796, 191806, 191823, 191834, 191845, 191854, 191864, 191877, 191887, 191897, 191911, 191921, 191931, 191941, 191952, 191965, 191978, 191992, 192010, 192026, 192038, 192051, 192060, 192070, 192081, 192093, 192103, 192113, 192126, 192136, 192148, 192159, 192168, 192179, 192189, 192199, 192209, 192224, 192235, 192245, 192255, 192266, 192283, 192293, 192305, 192318, 192328, 192338, 192352, 192368, 192381, 192391, 192410, 192419, 192429, 192442, 192454, 192463, 192472, 192483, 192492, 192514, 192526, 192535, 192552, 192561, 192569, 192579, 192589, 192601, 192611, 192623, 192641, 192651, 192659, 192668, 192678, 192688, 192698, 192710, 192723, 192733, 192771, 192783, 192799, 192809, 192976, 192987, 192999, 193010, 193022, 193040, 193051, 193062, 193072, 193084, 193097, 193108, 193119, 193129, 193139, 193149, 193160, 193171, 193181, 193190, 193200, 193212, 193224, 193239, 193249, 193260, 193272, 193283, 193293, 193302, 193314, 193324, 193335, 193350, 193360, 193372, 193383, 193398, 193408, 193422, 193434, 193462, 193472, 193485, 193497, 193507, 193517, 193527, 193542, 193552, 193575, 193587, 193600, 193611, 193621, 193632, 193647, 193658, 193670, 193683, 193693, 193703, 193714, 193724, 193739, 193761, 193782, 193793, 193812, 193833, 193846, 193855, 193866, 193877, 193889, 193900, 193911, 193922, 193932, 193942, 193953, 193961, 193972, 193982, 193992, 194003, 194014, 194024, 194034, 194045, 194055, 194074, 194083, 194094, 194104, 194116, 194128, 194139, 194151, 194161, 194171, 194181, 194191, 194200, 194209, 194219, 194228, 194238, 194248, 194258, 194268, 194278, 194288, 194297, 194309, 194320, 194330, 194339, 194350, 194361, 194377, 194392, 194404, 194414, 194425, 194438, 194450, 194713, 194725, 194735, 194745, 194754, 194765, 194778, 194787, 194801, 194812, 194825, 194841, 194856, 194867, 194962, 194972, 195046, 195057, 195066, 195075, 195085, 195113, 195123, 195136, 195249, 195286, 195296, 195306, 195318, 195329, 195339, 195350, 195360, 195374, 195382, 195391, 195401, 195420, 195433, 195473, 195492, 195503, 195521, 195541, 195550, 195559, 195571, 195582, 195591, 195602, 195613, 195632, 195644, 195744, 195756, 195770, 195781, 195795, 195807, 195817, 195827, 195837, 195847, 195858, 195869, 195881, 195899, 195908, 195918, 195929, 195943, 195953, 195965, 195976, 195992, 196002, 196012, 196025, 196044, 196067, 196078, 196091, 196114, 196124, 196140, 196152, 196162, 196174, 196184, 196196, 196209, 196219, 196231, 196241, 196252, 196268, 196280, 196293, 196308, 196318, 196334, 196347, 196366, 196376, 196385, 196395, 196405, 196413, 196421, 196444, 196455, 196465, 196477, 196489, 196502, 196772, 196782, 196791, 196800, 196809, 196819, 196831, 196841, 196851, 196862, 196872, 196906, 196938, 196956, 196966, 196976, 196986, 196996, 197009, 197019, 197033, 197044, 197055, 197069, 197086, 197097, 197107, 197117, 197128, 197138, 197149, 197159, 197169, 197182, 197192, 197205, 197216, 197226, 197240, 197251, 197262, 197272, 197282, 197293, 197316, 197326, 197336, 197347, 197360, 197372, 197385, 197394, 197405, 197418, 197428, 197438, 197449, 197461, 197471, 197481, 197491, 197500, 197514, 197524, 197542, 197552, 197561, 197570, 197581, 197591, 197601, 197611, 197620, 197680, 197689, 197699, 197707, 197716, 197727, 197738, 197748, 197762, 197772, 197783, 197794, 197804, 197814, 197831, 197842, 197856, 197867, 197881, 197893, 197905, 197923, 197936, 197946, 197957, 197996, 198007, 198017, 198028, 198038, 198050, 198122, 198132, 198154, 198165, 198178, 198188, 198198, 198208, 198218, 198230, 198258, 198268, 198278, 198293, 198306, 198429, 198439, 198449, 198460, 198472, 198515, 198525, 198538, 198549, 198559, 198570, 198582, 198593, 198603, 198613, 198632, 198642, 198653, 198663, 198675, 198686, 198697, 198708, 198717, 198728, 198738, 198750, 198761, 198777, 198789, 198801, 198812, 198822, 198833, 198849, 198859, 198873, 198883, 198895, 198912, 198922, 198934, 199066, 199075, 199085, 199098, 199108, 199121, 199130, 199140, 199150, 199160, 199170, 199182, 199192, 199202, 199212, 199224, 199234, 199244, 199254, 199264, 199274, 199283, 199295, 199309, 199318, 199329, 199339, 199348, 199361, 199371, 199380, 199389, 199402, 199410, 199419, 199433, 199444, 199454, 199464, 199474, 199484, 199495, 199507, 199518, 199528, 199538, 199547, 199555, 199565, 199574, 199592, 199601, 199613, 199628, 199639, 199652, 199662, 199671, 199683, 199693, 199703, 199714, 199722, 199732, 199744, 199754, 199763, 199773, 199783, 199793, 199803, 199816, 199827, 199838, 199853, 199864, 199874, 200152, 200164, 200174, 200188, 200198, 200213, 200222, 200237, 200247, 200257, 200267, 200276, 200284, 200294, 200304, 200315, 200325, 200335, 200345, 200356, 200366, 200376, 200386, 200405, 200415, 200426, 200444, 200453, 200463, 200474, 200484, 200494, 200504, 200515, 200525, 200535, 200547, 200570, 200580, 200592, 200654, 200665, 200683, 200695, 200705, 200715, 200725, 200741, 200750, 200762, 200773, 200783, 200797, 200811, 200822, 200832, 200843, 200853, 200864, 200874, 200883, 200894, 200904, 200920, 200930, 200941, 200950, 200960, 200971, 200981, 200993, 201004, 201014, 201025, 201035, 201048, 201057, 201074, 201337, 201348, 201358, 201372, 201382, 201403, 201416, 201425, 201436, 201447, 201458, 201469, 201481, 201491, 201507, 201517, 201528, 201541, 201551, 201562, 201573, 201586, 201596, 201606, 201617, 201627, 201637, 201648, 201659, 201670, 201680, 201700, 201716, 201726, 201736, 201747, 201756, 201766, 201777, 201790, 201800, 201815, 201829, 201839, 201848, 201857, 201871, 201881, 201892, 201902, 201913, 201924, 201934, 202015, 202026, 202038, 202047, 202057, 202068, 202080, 202097, 202112, 202131, 202142, 202153, 202167, 202177, 202187, 202198, 202222, 202237, 202248, 202258, 202269, 202279, 202293, 202308, 202318, 202331, 202343, 202355, 202366, 202376, 202387, 202400, 202413, 202424, 202435, 202449, 202463, 202473, 202483, 202499, 202514, 202524, 202536, 202546, 202556, 202565, 202576, 202588, 202606, 202623, 202636, 202670, 202683, 202694, 202702, 202711, 202721, 202729, 202741, 202755, 202765, 202775, 202787, 202798, 202808, 202833, 202843, 202853, 202875, 202886, 202896, 202910, 202919, 202928, 202939, 202951, 202963, 202973, 202982, 202993, 203003, 203012, 203023, 203033, 203044, 203056, 203068, 203083, 203094, 203104, 203272, 203282, 203292, 203302, 203314, 203327, 203338, 203348, 203357, 203367, 203377, 203403, 203413, 203426, 203435, 203445, 203455, 203464, 203477, 203485, 203495, 203505, 203524, 203534, 203548, 203571, 203582, 203594, 203603, 203613, 203625, 203636, 203645, 203655, 203668, 203679, 203704, 203712, 203722, 203731, 203740, 203749, 203758, 203773, 203782, 203792, 203802, 203812, 203822, 203833, 203855, 203867, 203887, 203897, 203906, 203916, 203929, 203940, 203949, 203963, 203971, 203981, 203990, 204009, 204019, 204031, 204043, 204055, 204071, 204088, 204097, 204107, 204117, 204128, 204138, 204150, 204163, 204173, 204182, 204192, 204203, 204300, 204310, 204320, 204330, 204339, 204404, 204414, 204423, 204433, 204443, 204453, 204462, 204472, 204482, 204491, 204501, 204510, 204520, 204531, 204541, 204552, 204566, 204577, 204589, 204600, 204617, 204632, 204642, 204652, 204665, 204691, 204703, 204714, 204731, 204741, 204751, 204762, 204780, 204790, 204804, 204814, 204825, 204836, 204849, 204858, 204868, 204881, 204891, 204901, 204910, 204920, 204929, 204939, 204949, 204960, 204969, 204983, 204993, 205003, 205013, 205025, 205035, 205047, 205058, 205068, 205079, 205089, 205107, 205130, 205142, 205152, 205165, 205176, 205187, 205197, 205208, 205217, 205226, 205239, 205322, 205333, 205346, 205356, 205366, 205377, 205387, 205395, 205404, 205415, 205430, 205440, 205449, 205459, 205469, 205479, 205492, 205502, 205512, 205523, 205533, 205542, 205567, 205576, 205586, 205596, 205607, 205624, 205634, 205644, 205655, 205674, 205684, 205704, 205714, 205724, 205734, 205746, 205757, 205767, 205782, 205791, 205803, 205816, 205834, 205844, 205855, 205868, 205888, 205898, 205908, 206032, 206044, 206053, 206064, 206075, 206086, 206097, 206109, 206119, 206128, 206151, 206161, 206175, 206188, 206201, 206211, 206221, 206231, 206241, 206250, 206259, 206269, 206281, 206291, 206300, 206310, 206321, 206334, 206343, 206353, 206365, 206375, 206387, 206397, 206407, 206418, 206427, 206438, 206449, 206463, 206473, 206483, 206492, 206520, 206530, 206552, 206563, 206572, 206581, 206590, 206599, 206610, 206621, 206631, 206640, 206651, 206661, 206670, 206679, 206689, 206701, 206711, 206724, 206739, 206749, 206760, 206769, 206779, 206793, 206803, 206814, 206828, 206844, 206855, 206867, 206877, 206887, 207148, 207157, 207168, 207178, 207190, 207200, 207212, 207222, 207234, 207246, 207257, 207270, 207280, 207296, 207305, 207315, 207327, 207337, 207347, 207361, 207374, 207385, 207393, 207406, 207416, 207426, 207446, 207464, 207475, 207488, 207499, 207510, 207519, 207530, 207540, 207558, 207570, 207586, 207608, 207618, 207629, 207641, 207651, 207663, 207673, 207683, 207693, 207713, 207722, 207733, 207746, 207756, 207766, 207776, 207788, 207798, 207809, 207820, 207831, 207842, 207852, 207861, 207883, 207894, 207904, 207914, 207927, 207938, 207949, 207959, 207969, 207982, 208001, 208011, 208021, 208032, 208043, 208053, 208063, 208074, 208084, 208094, 208104, 208119, 208130, 208143, 208158, 208168, 208178, 208193, 208203, 208214, 208224, 208234, 208257, 208267, 208281, 208294, 208304, 208314, 208326, 208336, 208347, 208357, 208368, 208378, 208389, 208399, 208412, 208423, 208434, 208446, 208458, 208469, 208480, 208501, 208522, 208532, 208542, 208553, 208565, 208582, 208596, 208606, 208617, 208627, 208637, 208649, 208659, 208671, 208683, 208697, 208708, 208718, 208730, 208741, 208755, 208772, 208785, 208800, 208811, 208821, 208831, 208841, 208852, 208864, 208874, 208884, 208895, 208905, 208917, 208926, 208938, 208948, 208962, 208979, 208992, 209003, 209013, 209023, 209033, 209046, 209059, 209070, 209080, 209093, 209105, 209115, 209126, 209141, 209164, 209176, 209187, 209199, 209211, 209222, 209235, 209245, 209256, 209266, 209285, 209295, 209304, 209313, 209324, 209336, 209346, 209358, 209368, 209378, 209389, 209399, 209408, 209417, 209427, 209439, 209454, 209464, 209476, 209486, 209499, 209512, 209522, 209532, 209542, 209552, 209562, 209575, 209588, 209598, 209607, 209617, 209627, 209638, 209647, 209657, 209671, 209685, 209695, 209710, 209725, 209735, 209763, 209775, 209786, 209796, 209806, 209816, 209826, 209837, 209847, 209856, 209866, 209876, 209886, 209896, 209908, 209919, 209930, 209950, 209960, 209971, 209982, 209993, 210003, 210013, 210024, 210034, 210044, 210055, 210065, 210075, 210087, 210097, 210114, 210127, 210137, 210147, 210158, 210168, 210185, 210198, 210208, 210219, 210230, 210241, 210251, 210263, 210289, 210309, 210323, 210332, 210343, 210357, 210366, 210382, 210392, 210402, 210415, 210425, 210435, 210444, 210458, 210467, 210478, 210489, 210503, 210512, 210535, 210549, 210559, 210569, 210579, 210589, 210601, 210613, 210623, 210632, 210646, 210656, 210666, 210677, 210688, 210700, 210710, 210736, 210746, 210756, 210766, 210775, 210786, 210798, 210816, 210826, 210841, 210852, 210864, 210876, 210885, 210895, 210905, 210917, 210929, 210939, 210948, 210959, 210968, 210977, 210986, 210996, 211009, 211019, 211032, 211042, 211052, 211073, 211084, 211095, 211105, 211124, 211133, 211144, 211155, 211165, 211177, 211186, 211196, 211206, 211216, 211225, 211234, 211247, 211256, 211269, 211290, 211300, 211313, 211323, 211337, 211347, 211369, 211379, 211390, 211403, 211414, 211424, 211437, 211447, 211457, 211467, 211477, 211488, 211500, 211509, 211519, 211531, 211543, 211555, 211565, 211575, 211586, 211596, 211606, 211617, 211629, 211640, 211722, 211732, 211742, 211753, 211773, 211786, 211796, 211808, 211819, 211832, 211842, 211853, 211864, 211876, 211887, 211905, 211920, 211935, 211946, 211955, 211966, 211976, 211986, 211998, 212008, 212017, 212027, 212037, 212047, 212056, 212065, 212077, 212089, 212101, 212113, 212123, 212136, 212149, 212161, 212173, 212184, 212198, 212208, 212221, 212230, 212242, 212252, 212262, 212272, 212282, 212292, 212304, 212314, 212325, 212335, 212345, 212354, 212374, 212386, 212396, 212412, 212422, 212441, 212452, 212464, 212475, 212483, 212493, 212503, 212513, 212522, 212532, 212544, 212553, 212564, 212576, 212590, 212600, 212610, 212620, 212631, 212643, 212654, 212665, 212675, 212684, 212699, 212710, 212719, 212728, 212741, 212755, 212766, 212780, 212789, 212799, 212809, 212819, 212829, 212839, 212849, 212859, 212886, 212900, 212912, 212922, 212932, 212945, 212955, 212965, 212976, 212986, 212997, 213007, 213016, 213035, 213046, 213056, 213068, 213113, 213123, 213133, 213144, 213154, 213184, 213195, 213205, 213217, 213227, 213238, 213248, 213259, 213269, 213279, 213290, 213300, 213310, 213320, 213337, 213348, 213358, 213368, 213380, 213396, 213408, 213420, 213434, 213447, 213459, 213469, 213481, 213492, 213510, 213519, 213533, 213543, 213554, 213568, 213579, 213589, 213600, 213611, 213621, 213632, 213643, 213653, 213665, 213676, 213708, 213719, 213728, 213739, 213749, 213763, 213773, 213784, 213795, 213808, 213818, 213829, 213839, 213850, 213860, 213870, 213879, 213889, 213898, 213924, 213936, 213946, 213958, 213975, 213987, 213997, 214009, 214019, 214027, 214037, 214047, 214060, 214070, 214079, 214092, 214106, 214119, 214129, 214140, 214151, 214159, 214173, 214184, 214195, 214204, 214213, 214234, 214248, 214260, 214273, 214282, 214292, 214311, 214323, 214342, 214352, 214362, 214376, 214388, 214398, 214409, 214422, 214431, 214441, 214452, 214461, 214471, 214496, 214509, 214520, 214530, 214552, 214564, 214573, 214584, 214594, 214604, 214614, 214626, 214660, 214668, 214695, 214710, 214723, 214733, 214744, 214755, 214764, 214786, 214796, 214809, 214822, 214831, 214844, 214858, 214892, 214906, 214916, 214926, 214936, 215199, 215208, 215218, 215228, 215240, 215277, 215287, 215298, 215319, 215327, 215356, 215368, 215380, 215392, 215406, 215416, 215428, 215438, 215448, 215458, 215469, 215480, 215490, 215502, 215513, 215523, 215535, 215546, 215598, 215607, 215619, 215629, 215647, 215663, 215676, 215720, 215736, 215752, 215764, 215775, 215784, 215794, 215807, 215818, 215828, 215840, 215849, 215858, 215868, 215878, 215891, 215909, 215920, 215930, 215940, 215952, 215962, 215973, 216251, 216262, 216275, 216286, 216299, 216318, 216337, 216354, 216364, 216373, 216385, 216420, 216430, 216447, 216460, 216469, 216479, 216498, 216510, 216525, 216534, 216542, 216555, 216574, 216586, 216598, 216615, 216628, 216639, 216650, 216660, 216671, 216713, 216722, 216734, 216745, 216774, 216783, 216794, 216805, 216816, 216835, 216844, 216853, 216865, 216875, 216885, 216896, 216908, 216918, 216934, 216944, 216953, 216964, 216974, 216984, 216995, 217005, 217015, 217025, 217035, 217046, 217056, 217066, 217076, 217087, 217109, 217144, 217153, 217166, 217176, 217186, 217196, 217207, 217215, 217225, 217237, 217246, 217258, 217268, 217278, 217287, 217297, 217310, 217319, 217330, 217341, 217351, 217407, 217418, 217429, 217439, 217449, 217459, 217470, 217485, 217494, 217504, 217515, 217524, 217532, 217542, 217555, 217565, 217575, 217586, 217596, 217605, 217615, 217627, 217638, 217650, 217661, 217672, 217686, 217694, 217704, 217714, 217732, 217784, 217797, 217810, 217826, 217838, 217850, 217860, 217955, 217964, 217980, 217991, 218001, 218024, 218035, 218048, 218063, 218075, 218084, 218094, 218110, 218120, 218133, 218146, 218156, 218166, 218177, 218187, 218198, 218210, 218222, 218232, 218248, 218261, 218271, 218280, 218301, 218310, 218324, 218338, 218347, 218358, 218369, 218379, 218388, 218399, 218409, 218419, 218431, 218442, 218458, 218470, 218499, 218511, 218524, 218534, 218546, 218556, 218566, 218577, 218587, 218599, 218614, 218624, 218636, 218646, 218657, 218669, 218682, 218694, 218708, 218719, 218735, 218747, 218757, 218767, 218777, 218787, 218830, 218840, 218850, 218863, 218875, 218886, 218902, 218915, 218927, 218937, 218946, 218957, 218966, 218979, 218990, 219003, 219014, 219024, 219041, 219049, 219060, 219071, 219081, 219092, 219104, 219118, 219128, 219138, 219162, 219177, 219188, 219200, 219211, 219223, 219234, 219246, 219259, 219275, 219285, 219303, 219312, 219341, 219361, 219371, 219383, 219405, 219415, 219426, 219436, 219446, 219456, 219466, 219476, 219493, 219503, 219513, 219523, 219535, 219547, 219560, 219575, 219586, 219599, 219612, 219623, 219636, 219649, 219664, 219673, 219682, 219692, 219701, 219710, 219723, 219734, 219746, 219769, 219780, 219789, 219799, 219811, 219823, 219834, 219846, 219878, 219889, 219898, 220065, 220078, 220088, 220101, 220111, 220121, 220132, 220145, 220154, 220164, 220174, 220191, 220201, 220211, 220221, 220236, 220248, 220258, 220268, 220278, 220291, 220303, 220313, 220323, 220334, 220344, 220381, 220393, 220404, 220415, 220425, 220436, 220459, 220472, 220481, 220491, 220509, 220519, 220529, 220540, 220550, 220560, 220570, 220581, 220592, 220601, 220616, 220627, 220637, 220647, 220656, 220666, 220678, 220686, 220698, 220712, 220722, 220781, 220790, 220800, 220810, 220835, 220845, 220861, 220875, 220887, 220898, 220908, 220920, 220930, 220940, 220950, 220961, 220973, 220985, 220997, 221009, 221019, 221028, 221039, 221049, 221059, 221069, 221084, 221094, 221105, 221120, 221132, 221143, 221154, 221166, 221176, 221187, 221197, 221212, 221222, 221233, 221243, 221258, 221271, 221281, 221304, 221314, 221327, 221338, 221349, 221359, 221369, 221378, 221392, 221402, 221414, 221426, 221436, 221446, 221456, 221468, 221491, 221502, 221513, 221526, 221537, 221550, 221565, 221574, 221584, 221596, 221605, 221616, 221638, 221649, 221678, 221690, 221702, 221716, 221726, 221736, 221746, 221759, 221769, 221779, 221792, 221802, 221812, 221823, 221833, 221844, 221858, 221873, 221883, 221893, 221910, 221921, 221933, 221944, 221956, 221968, 221978, 221989, 222000, 222119, 222129, 222141, 222151, 222161, 222178, 222188, 222197, 222207, 222223, 222233, 222245, 222255, 222265, 222275, 222288, 222302, 222312, 222323, 222333, 222343, 222376, 222392, 222405, 222415, 222429, 222439, 222452, 222463, 222474, 222485, 222496, 222512, 222528, 222539, 222549, 222561, 222571, 222581, 222593, 222606, 222616, 222627, 222640, 222651, 222661, 222673, 222683, 222696, 222743, 222752, 222762, 222772, 222782, 222791, 222801, 222813, 222823, 222833, 222844, 222856, 222866, 223136, 223148, 223158, 223172, 223192, 223204, 223214, 223226, 223236, 223249, 223259, 223270, 223280, 223291, 223301, 223311, 223328, 223337, 223347, 223357, 223372, 223380, 223388, 223401, 223411, 223422, 223434, 223446, 223457, 223467, 223477, 223488, 223499, 223509, 223520, 223533, 223545, 223555, 223566, 223579, 223589, 223603, 223613, 223622, 223635, 223647, 223657, 223735, 223749, 223761, 223771, 223786, 223805, 223816, 223830, 223845, 223858, 223869, 223883, 223893, 223903, 223919, 223931, 223941, 223951, 223962, 223972, 224071, 224081, 224093, 224103, 224113, 224126, 224138, 224148, 224159, 224168, 224178, 224189, 224201, 224212, 224221, 224235, 224245, 224257, 224267, 224278, 224288, 224300, 224312, 224321, 224335, 224347, 224356, 224366, 224376, 224386, 224397, 224417, 224427, 224436, 224457, 224467, 224478, 224490, 224500, 224522, 224532, 224542, 224557, 224576, 224588, 224603, 224612, 224621, 224631, 224641, 224653, 224664, 224675, 224686, 224696, 224720, 224732, 224742, 224752, 224762, 224771, 224781, 224792, 224805, 224824, 224837, 224846, 224860, 224870, 224879, 224898, 224910, 224921, 224932, 224943, 224956, 224972, 224983, 224996, 225008, 225019, 225029, 225040, 225053, 225064, 225074, 225085, 225095, 225105, 225114, 225147, 225157, 225169, 225177, 225187, 225198, 225209, 225241, 225251, 225274, 225284, 225293, 225309, 225319, 225329, 225342, 225352, 225364, 225377, 225390, 225404, 225415, 225425, 225437, 225449, 225458, 225470, 225481, 225491, 225501, 225514, 225525, 225535, 225545, 225557, 225568, 225578, 225587, 225597, 225608, 225619, 225634, 225647, 225657, 225669, 225679, 225689, 225699, 225717, 225729, 225740, 225755, 225767, 225778, 225789, 225902, 225918, 225929, 225939, 225951, 225961, 225972, 225982, 226024, 226041, 226062, 226073, 226083, 226093, 226104, 226122, 226138, 226148, 226158, 226169, 226180, 226190, 226200, 226210, 226221, 226233, 226242, 226251, 226262, 226286, 226296, 226308, 226318, 226329, 226339, 226352, 226371, 226391, 226403, 226416, 226427, 226437, 226447, 226459, 226470, 226480, 226490, 226512, 226523, 226534, 226543, 226560, 226572, 226579, 226589, 226599, 226609, 226619, 226632, 226645, 226657, 226666, 226691, 226713, 226726, 226736, 226746, 226759, 226775, 226788, 226801, 226812, 226821, 226833, 226848, 226859, 227028, 227038, 227050, 227067, 227092, 227111, 227122, 227133, 227144, 227155, 227165, 227175, 227188, 227202, 227217, 227227, 227237, 227252, 227260, 227271, 227280, 227290, 227300, 227310, 227320, 227330, 227340, 227353, 227363, 227373, 227382, 227392, 227402, 227412, 227435, 227446, 227459, 227468, 227479, 227491, 227502, 227512, 227523, 227535, 227544, 227558, 227568, 227581, 227591, 227605, 227615, 227626, 227636, 227645, 227656, 227666, 227676, 227690, 227708, 227721, 227733, 227746, 227760, 227771, 227784, 227795, 227808, 227820, 227837, 227847, 227861, 227879, 227889, 227921, 227936, 227950, 227960, 227970, 227980, 227998, 228008, 228019, 228029, 228038, 228049, 228060, 228088, 228102, 228113, 228147, 228156, 228166, 228176, 228188, 228200, 228210, 228223, 228258, 228267, 228284, 228295, 228305, 228317, 228328, 228338, 228354, 228363, 228377, 228388, 228398, 228408, 228418, 228428, 228439, 228483, 228494, 228506, 228515, 228525, 228534, 228554, 228564, 228576, 228587, 228597, 228607, 228619, 228629, 228641, 228650, 228660, 228672, 228682, 228692, 228703, 228714, 228724, 228748, 228758, 228770, 228780, 228797, 228807, 228824, 228835, 228858, 228868, 228881, 228891, 228901, 228912, 228922, 228932, 228942, 228952, 228963, 228974, 228996, 229006, 229018, 229028, 229038, 229055, 229067, 229076, 229086, 229097, 229108, 229124, 229145, 229154, 229165, 229175, 229184, 229194, 229204, 229214, 229226, 229236, 229247, 229259, 229273, 229284, 229295, 229306, 229324, 229335, 229345, 229356, 229366, 229379, 229390, 229399, 229409, 229418, 229440, 229475, 229489, 229499, 229508, 229521, 229532, 229541, 229551, 229560, 229571, 229583, 229591, 229600, 229620, 229631, 229640, 229650, 229660, 229676, 229690, 229701, 229712, 229722, 229732, 229743, 229770, 229781, 229790, 229799, 229815, 229827, 229837, 229857, 229869, 229881, 229889, 229900, 229910, 229919, 229928, 229938, 229947, 229957, 229968, 229979, 229989, 230008, 230018, 230037, 230048, 230058, 230068, 230079, 230089, 230099, 230112, 230122, 230133, 230143, 230155, 230165, 230176, 230186, 230195, 230209, 230220, 230235, 230245, 230255, 230266, 230275, 230285, 230295, 230305, 230319, 230329, 230363, 230373, 230393, 230405, 230415, 230429, 230441, 230457, 230467, 230475, 230488, 230499, 230525, 230539, 230549, 230560, 230572, 230585, 230596, 230606, 230626, 230637, 230647, 230658, 230668, 230678, 230689, 230702, 230716, 230725, 230736, 230746, 230757, 230774, 230786, 230801, 230811, 230820, 230861, 230872, 230883, 230891, 230901, 230910, 230922, 230932, 230947, 230962, 230974, 230984, 230995, 231005, 231017, 231027, 231038, 231049, 231059, 231070, 231090, 231099, 231110, 231121, 231133, 231146, 231156, 231180, 231197, 231211, 231223, 231239, 231249, 231263, 231275, 231286, 231308, 231321, 231332, 231343, 231353, 231368, 231378, 231387, 231397, 231408, 231419, 231442, 231454, 231464, 231474, 231484, 231495, 231505, 231515, 231530, 231541, 231557, 231569, 231579, 231590, 231601, 231618, 231628, 231638, 231649, 231663, 231673, 231686, 231707, 231717, 231728, 231742, 231754, 231765, 231774, 231792, 231803, 231814, 231824, 231841, 231854, 231864, 231873, 231883, 231893, 231926, 231937, 231947, 231956, 231974, 231985, 231994, 232004, 232014, 232023, 232032, 232045, 232056, 232071, 232082, 232097, 232110, 232120, 232131, 232146, 232156, 232167, 232177, 232190, 232202, 232214, 232226, 232241, 232251, 232261, 232271, 232283, 232294, 232305, 232315, 232328, 232340, 232350, 232360, 232371, 232382, 232394, 232410, 232420, 232430, 232441, 232454, 232464, 232476, 232487, 232498, 232511, 232522, 232534, 232544, 232554, 232567, 232577, 232587, 232597, 232631, 232641, 232655, 232665, 232675, 232686, 232697, 232707, 232717, 232727, 232737, 232747, 232757, 232768, 232779, 232788, 232797, 232811, 232822, 232832, 232842, 232854, 232863, 232877, 232889, 232899, 232909, 232918, 232935, 232946, 232955, 232966, 232976, 232986, 232997, 233011, 233025, 233036, 233052, 233063, 233073, 233084, 233094, 233105, 233116, 233138, 233148, 233157, 233167, 233177, 233187, 233197, 233209, 233232, 233242, 233256, 233267, 233278, 233291, 233301, 233312, 233324, 233334, 233345, 233360, 233372, 233391, 233400, 233409, 233420, 233432, 233441, 233451, 233464, 233474, 233484, 233493, 233503, 233764, 233775, 233788, 233798, 233808, 233817, 233829, 233840, 233899, 233909, 233919, 233931, 233941, 233951, 233963, 233986, 233996, 234007, 234017, 234030, 234041, 234051, 234061, 234072, 234082, 234093, 234103, 234119, 234134, 234146, 234156, 234166, 234176, 234186, 234280, 234296, 234314, 234325, 234334, 234344, 234355, 234363, 234374, 234386, 234395, 234409, 234423, 234435, 234446, 234470, 234480, 234491, 234502, 234670, 234680, 234690, 234701, 234721, 234755, 234765, 234785, 234795, 234805, 234816, 234826, 234836, 234847, 234867, 234877, 234897, 234908, 234917, 234928, 234940, 234950, 234962, 234976, 234986, 234997, 235007, 235020, 235029, 235040, 235054, 235067, 235077, 235086, 235099, 235113, 235122, 235132, 235142, 235152, 235163, 235172, 235183, 235196, 235205, 235215, 235225, 235237, 235247, 235259, 235271, 235284, 235293, 235305, 235314, 235327, 235343, 235353, 235363, 235374, 235384, 235394, 235416, 235426, 235437, 235453, 235467, 235477, 235489, 235499, 235509, 235520, 235530, 235540, 235552, 235561, 235571, 235583, 235592, 235603, 235615, 235625, 235635, 235645, 235656, 235666, 235675, 235685, 235695, 235705, 235716, 235726, 235737, 235746, 235756, 235766, 235783, 235794, 235810, 235828, 235837, 235848, 235858, 235870, 235885, 235895, 235905, 235917, 235927, 235937, 235961, 235971, 235982, 235991, 236001, 236011, 236292, 236304, 236316, 236326, 236337, 236348, 236357, 236367, 236378, 236390, 236399, 236409, 236421, 236445, 236466, 236477, 236499, 236512, 236523, 236533, 236543, 236553, 236566, 236576, 236584, 236595, 236604, 236621, 236634, 236643, 236655, 236666, 236676, 236688, 236698, 236708, 236718, 236729, 236739, 236783, 236793, 236801, 236812, 236819, 236831, 236841, 236852, 236863, 236881, 236896, 236911, 236921, 236969, 236980, 236996, 237011, 237021, 237031, 237041, 237052, 237070, 237082, 237096, 237106, 237117, 237127, 237137, 237151, 237161, 237171, 237181, 237195, 237204, 237214, 237224, 237236, 237251, 237262, 237275, 237294, 237308, 237318, 237327, 237336, 237349, 237360, 237372, 237382, 237393, 237402, 237411, 237422, 237432, 237449, 237459, 237470, 237481, 237491, 237502, 237512, 237522, 237536, 237550, 237561, 237571, 237591, 237601, 237611, 237622, 237632, 237642, 237652, 237667, 237679, 237691, 237701, 237713, 237724, 237734, 237744, 237752, 237767, 237776, 237786, 238047, 238057, 238072, 238082, 238094, 238104, 238120, 238129, 238142, 238151, 238162, 238171, 238183, 238193, 238203, 238214, 238224, 238234, 238245, 238257, 238267, 238277, 238290, 238306, 238316, 238328, 238337, 238347, 238357, 238368, 238384, 238394, 238405, 238414, 238425, 238434, 238443, 238473, 238484, 238494, 238509, 238521, 238531, 238542, 238552, 238566, 238575, 238584, 238594, 238605, 238616, 238627, 238638, 238671, 238684, 238697, 238706, 238718, 238731, 238741, 238751, 238760, 238770, 238780, 238790, 238801, 238812, 238824, 238836, 238845, 238855, 238865, 238875, 238887, 238897, 238908, 238921, 238934, 238944, 238954, 238964, 238982, 238992, 239003, 239016, 239029, 239040, 239049, 239058, 239067, 239077, 239087, 239097, 239118, 239129, 239137, 239148, 239158, 239168, 239180, 239191, 239202, 239214, 239223, 239232, 239242, 239255, 239265, 239277, 239287, 239296, 239306, 239318, 239329, 239339, 239355, 239365, 239375, 239386, 239396, 239411, 239424, 239435, 239445, 239457, 239467, 239477, 239487, 239497, 239507, 239537, 239548, 239582, 239592, 239601, 239612, 239624, 239650, 239660, 239676, 239692, 239703, 239714, 239724, 239733, 239744, 239761, 239773, 239783, 239797, 239806, 240067, 240078, 240093, 240106, 240119, 240129, 240140, 240158, 240169, 240179, 240189, 240207, 240216, 240227, 240239, 240249, 240259, 240267, 240278, 240293, 240307, 240316, 240326, 240339, 240349, 240368, 240378, 240388, 240398, 240407, 240417, 240427, 240440, 240451, 240463, 240474, 240487, 240497, 240506, 240516, 240530, 240540, 240550, 240561, 240568, 240578, 240602, 240612, 240623, 240635, 240645, 240663, 240672, 240683, 240694, 240708, 240719, 240731, 240743, 240753, 240763, 240772, 240782, 240792, 240802, 240811, 240821, 240831, 240841, 240855, 240865, 240876, 240886, 240897, 240907, 240918, 240927, 240937, 240948, 240959, 240969, 240979, 240991, 241001, 241011, 241019, 241029, 241043, 241063, 241074, 241084, 241096, 241109, 241128, 241138, 241148, 241156, 241164, 241177, 241186, 241197, 241208, 241219, 241229, 241244, 241254, 241264, 241277, 241288, 241299, 241309, 241319, 241332, 241376, 241385, 241398, 241408, 241417, 241426, 241435, 241444, 241456, 241466, 241476, 241488, 241499, 241523, 241532, 241543, 241554, 241563, 241576, 241586, 241609, 241617, 241627, 241637, 241649, 241663, 241678, 241687, 241699, 241709, 241721, 241733, 241744, 241754, 241764, 241772, 241782, 241793, 241804, 241814, 241825, 241837, 241846, 241856, 241866, 241875, 241885, 241897, 241909, 241919, 241935, 242103, 242113, 242133, 242143, 242153, 242164, 242175, 242191, 242201, 242213, 242223, 242390, 242404, 242414, 242425, 242439, 242450, 242460, 242470, 242479, 242490, 242500, 242510, 242519, 242531, 242548, 242558, 242568, 242582, 242596, 242606, 242618, 242628, 242637, 242652, 242665, 242678, 242691, 242715, 242726, 242742, 242752, 242762, 242776, 242787, 242797, 242807, 242829, 242844, 242854, 242865, 242874, 242888, 242899, 242909, 242923, 242934, 242946, 242956, 242966, 242977, 242986, 242998, 243008, 243018, 243033, 243045, 243061, 243070, 243084, 243094, 243104, 243115, 243125, 243134, 243160, 243177, 243189, 243200, 243212, 243225, 243235, 243251, 243262, 243271, 243281, 243291, 243301, 243311, 243321, 243330, 243340, 243351, 243361, 243371, 243381, 243393, 243405, 243415, 243425, 243436, 243447, 243466, 243479, 243489, 243502, 243512, 243523, 243530, 243540, 243561, 243572, 243582, 243592, 243602, 243612, 243622, 243633, 243654, 243664, 243675, 243685, 243695, 243708, 243718, 243728, 243738, 243747, 243757, 243767, 243777, 243786, 243796, 243807, 243817, 243827, 243837, 243848, 243858, 243868, 243878, 243889, 243898, 243910, 243924, 243934, 243944, 243954, 243966, 243978, 243991, 244001, 244011, 244022, 244061, 244075, 244085, 244096, 244106, 244127, 244137, 244152, 244168, 244178, 244190, 244209, 244222, 244232, 244253, 244263, 244273, 244283, 244296, 244309, 244320, 244330, 244343, 244354, 244367, 244377, 244387, 244398, 244408, 244419, 244429, 244439, 244453, 244466, 244476, 244490, 244503, 244513, 244523, 244534, 244548, 244572, 244588, 244597, 244606, 244620, 244630, 244640, 244653, 244663, 244673, 244685, 244700, 244713, 244730, 244744, 244756, 244772, 244783, 244794, 244804, 244815, 244825, 244836, 244846, 244856, 244866, 244880, 244889, 244899, 244909, 244918, 244931, 244944, 244956, 244966, 244978, 244988, 245000, 245010, 245020, 245030, 245041, 245051, 245066, 245077, 245088, 245098, 245109, 245119, 245132, 245183, 245196, 245206, 245216, 245229, 245243, 245254, 245264, 245275, 245284, 245300, 245314, 245325, 245336, 245345, 245356, 245367, 245382, 245392, 245403, 245411, 245423, 245433, 245445, 245455, 245465, 245474, 245485, 245494, 245505, 245515, 245525, 245537, 245547, 245558, 245568, 245578, 245589, 245601, 245611, 245621, 245631, 245645, 245661, 245681, 245691, 245701, 245711, 245728, 245738, 245749, 245759, 245771, 245783, 245793, 245803, 245813, 245823, 245868, 245884, 245903, 245913, 245923, 245939, 245949, 245960, 245972, 245982, 245999, 246014, 246025, 246038, 246048, 246060, 246072, 246082, 246094, 246107, 246121, 246135, 246145, 246155, 246168, 246185, 246199, 246210, 246220, 246234, 246247, 246259, 246275, 246285, 246302, 246312, 246324, 246338, 246348, 246363, 246373, 246384, 246397, 246407, 246420, 246482, 246492, 246504, 246514, 246523, 246534, 246550, 246567, 246579, 246593, 246608, 246618, 246629, 246638, 246646, 246658, 246670, 246683, 246694, 246706, 246716, 246743, 246753, 246765, 246779, 246789, 246805, 246818, 246833, 246843, 246852, 246866, 246895, 246905, 246917, 246928, 246939, 246949, 246960, 246972, 246982, 246992, 247002, 247012, 247022, 247033, 247047, 247056, 247066, 247077, 247087, 247097, 247111, 247121, 247132, 247142, 247154, 247165, 247179, 247193, 247203, 247213, 247227, 247238, 247247, 247264, 247274, 247284, 247294, 247306, 247316, 247325, 247340, 247350, 247367, 247377, 247387, 247403, 247413, 247433, 247443, 247456, 247464, 247474, 247484, 247492, 247502, 247512, 247523, 247534, 247549, 247560, 247576, 247590, 247608, 247618, 247628, 247638, 247652, 247669, 247679, 247693, 247702, 247711, 247723, 247732, 247749, 247760, 247771, 247782, 247791, 247802, 247814, 247828, 247841, 247851, 247869, 247880, 247892, 247902, 247915, 247926, 247941, 247950, 247965, 247976, 247987, 247997, 248007, 248020, 248031, 248041, 248053, 248066, 248076, 248093, 248104, 248113, 248122, 248132, 248144, 248154, 248165, 248175, 248185, 248195, 248213, 248223, 248233, 248247, 248259, 248269, 248279, 248289, 248299, 248309, 248320, 248331, 248345, 248357, 248367, 248377, 248387, 248397, 248408, 248421, 248434, 248443, 248453, 248468, 248478, 248489, 248500, 248525, 248558, 248572, 248582, 248595, 248605, 248616, 248627, 248637, 248651, 248662, 248673, 248683, 248699, 248709, 248722, 248732, 248742, 248753, 248770, 248780, 248790, 248800, 248813, 248823, 248833, 248843, 248860, 248894, 248916, 248937, 248947, 248963, 248974, 248988, 248998, 249008, 249018, 249029, 249039, 249048, 249077, 249087, 249097, 249107, 249117, 249127, 249139, 249149, 249161, 249172, 249228, 249238, 249252, 249265, 249275, 249285, 249302, 249312, 249322, 249332, 249342, 249353, 249362, 249373, 249384, 249396, 249407, 249417, 249444, 249478, 249488, 249498, 249509, 249519, 249529, 249539, 249558, 249571, 249580, 249590, 249604, 249614, 249626, 249636, 249646, 249656, 249675, 249685, 249698, 249713, 249725, 249735, 249747, 249768, 249778, 249788, 249798, 249808, 249816, 249826, 249836, 249845, 249861, 250016, 250029, 250044, 250056, 250063, 250081, 250091, 250103, 250117, 250134, 250144, 250156, 250166, 250177, 250187, 250200, 250209, 250219, 250232, 250253, 250266, 250276, 250287, 250296, 250306, 250319, 250329, 250340, 250351, 250375, 250386, 250396, 250404, 250418, 250431, 250442, 250476, 250488, 250505, 250520, 250530, 250540, 250550, 250559, 250572, 250593, 250602, 250612, 250621, 250631, 250644, 250654, 250663, 250674, 250684, 250693, 250704, 250714, 250746, 250763, 250778, 250789, 250807, 250821, 250832, 250844, 250854, 250876, 250887, 250901, 250910, 250925, 250933, 250944, 250954, 250965, 250975, 250985, 250996, 251008, 251018, 251030, 251041, 251060, 251074, 251084, 251094, 251108, 251119, 251128, 251138, 251155, 251167, 251183, 251196, 251213, 251223, 251233, 251243, 251254, 251271, 251282, 251292, 251302, 251312, 251323, 251334, 251345, 251357, 251368, 251379, 251389, 251400, 251567, 251580, 251589, 251599, 251610, 251683, 251693, 251742, 251753, 251765, 251774, 251784, 251794, 251813, 251825, 251835, 251845, 251855, 251868, 252128, 252139, 252149, 252159, 252168, 252182, 252195, 252207, 252219, 252239, 252255, 252268, 252278, 252287, 252297, 252310, 252319, 252328, 252339, 252347, 252356, 252366, 252385, 252395, 252404, 252417, 252428, 252450, 252461, 252484, 252500, 252519, 252529, 252539, 252549, 252560, 252574, 252585, 252598, 252610, 252620, 252630, 252640, 252659, 252669, 252680, 252690, 252703, 252713, 252724, 252745, 252756, 252767, 252776, 252786, 252874, 252884, 252895, 252905, 252917, 252930, 252943, 252953, 252964, 252974, 252987, 252998, 253007, 253025, 253034, 253045, 253055, 253067, 253077, 253088, 253100, 253111, 253121, 253130, 253140, 253150, 253173, 253182, 253191, 253200, 253219, 253229, 253239, 253250, 253259, 253269, 253278, 253288, 253301, 253312, 253322, 253332, 253343, 253353, 253363, 253373, 253384, 253394, 253406, 253420, 253430, 253442, 253452, 253463, 253473, 253484, 253497, 253508, 253525, 253537, 253547, 253561, 253574, 253582, 253595, 253605, 253619, 253630, 253640, 253657, 253667, 253679, 253690, 253700, 253714, 253734, 253748, 253764, 253775, 253840, 253855, 253865, 253877, 253889, 253899, 253909, 253918, 253933, 253945, 253955, 253965, 253982, 253992, 254003, 254013, 254025, 254035, 254045, 254057, 254069, 254083, 254093, 254104, 254385, 254398, 254418, 254428, 254439, 254454, 254467, 254478, 254498, 254510, 254521, 254531, 254544, 254555, 254565, 254578, 254587, 254597, 254606, 254616, 254628, 254637, 254648, 254657, 254670, 254694, 254705, 254986, 255006, 255019, 255029, 255039, 255049, 255060, 255070, 255080, 255091, 255100, 255110, 255120, 255130, 255140, 255150, 255161, 255173, 255190, 255231, 255242, 255502, 255512, 255525, 255546, 255583, 255596, 255606, 255615, 255625, 255634, 255644, 255660, 255673, 255683, 255693, 255702, 255712, 255722, 255736, 255746, 255758, 255767, 255788, 255800, 255810, 255829, 255845, 255855, 255865, 255891, 255903, 255914, 255927, 255937, 255949, 255958, 255969, 255981, 255991, 256002, 256015, 256028, 256038, 256048, 256060, 256070, 256081, 256096, 256107, 256116, 256126, 256141, 256150, 256161, 256172, 256182, 256202, 256218, 256232, 256243, 256253, 256262, 256272, 256280, 256291, 256301, 256315, 256327, 256337, 256347, 256361, 256370, 256380, 256390, 256402, 256415, 256428, 256438, 256447, 256458, 256468, 256480, 256492, 256504, 256516, 256527, 256539, 256550, 256560, 256573, 256586, 256596, 256608, 256620, 256630, 256642, 256653, 256663, 256673, 256683, 256699, 256711, 256721, 256734, 256752, 256763, 256798, 256809, 256828, 256838, 256849, 256858, 256868, 256878, 256888, 256898, 256908, 256917, 256930, 256940, 256951, 256962, 256970, 256983, 256995, 257005, 257016, 257026, 257036, 257048, 257068, 257078, 257088, 257098, 257108, 257118, 257128, 257139, 257149, 257159, 257171, 257183, 257195, 257207, 257217, 257227, 257240, 257252, 257262, 257277, 257287, 257298, 257308, 257318, 257328, 257339, 257350, 257360, 257370, 257382, 257393, 257408, 257418, 257429, 257440, 257451, 257461, 257472, 257484, 257494, 257504, 257516, 257526, 257538, 257555, 257565, 257576, 257587, 257599, 257609, 257619, 257629, 257638, 257648, 257660, 257670, 257680, 257689, 257701, 257710, 257724, 257733, 257744, 257772, 257789, 257800, 257810, 257820, 257830, 257842, 257865, 257875, 257886, 257896, 257905, 257917, 257926, 257936, 257948, 257971, 257983, 257994, 258009, 258019, 258029, 258043, 258057, 258067, 258077, 258088, 258099, 258109, 258120, 258130, 258141, 258151, 258167, 258177, 258188, 258198, 258211, 258220, 258230, 258240, 258260, 258273, 258284, 258295, 258306, 258316, 258325, 258371, 258379, 258389, 258398, 258409, 258420, 258434, 258444, 258456, 258466, 258477, 258489, 258502, 258513, 258524, 258539, 258554, 258564, 258577, 258587, 258597, 258610, 258625, 258650, 258662, 258673, 258684, 258694, 258709, 258720, 258730, 258744, 258756, 258767, 258777, 258790, 258802, 258817, 258826, 258845, 258855, 258870, 258884, 258894, 258903, 258913, 258936, 258945, 258955, 258966, 258976, 258986, 258997, 259007, 259020, 259031, 259041, 259102, 259122, 259135, 259145, 259164, 259175, 259184, 259194, 259202, 259211, 259220, 259230, 259247, 259259, 259268, 259279, 259289, 259300, 259311, 259339, 259363, 259372, 259382, 259391, 259401, 259420, 259431, 259441, 259451, 259460, 259476, 259492, 259501, 259516, 259526, 259536, 259548, 259558, 259569, 259579, 259590, 259599, 259611, 259621, 259738, 259749, 259761, 259771, 259780, 259792, 259805, 259815, 260096, 260107, 260123, 260141, 260153, 260169, 260187, 260199, 260213, 260224, 260233, 260243, 260254, 260264, 260275, 260284, 260293, 260304, 260314, 260323, 260338, 260348, 260360, 260369, 260377, 260388, 260403, 260413, 260424, 260437, 260449, 260459, 260469, 260486, 260498, 260511, 260521, 260538, 260552, 260613, 260632, 260642, 260658, 260668, 260682, 260692, 260702, 260712, 260721, 260741, 260751, 260761, 260771, 260779, 260790, 260801, 260813, 260825, 260835, 260846, 260856, 260869, 260879, 260889, 260906, 260918, 260929, 260943, 260954, 260965, 260978, 260993, 261009, 261021, 261035, 261052, 261062, 261071, 261082, 261092, 261103, 261113, 261123, 261133, 261153, 261164, 261179, 261189, 261198, 261209, 261220, 261230, 261241, 261250, 261262, 261272, 261283, 261294, 261305, 261316, 261326, 261337, 261347, 261359, 261369, 261380, 261395, 261406, 261415, 261425, 261433, 261445, 261455, 261464, 261476, 261486, 261497, 261509, 261521, 261542, 261552, 261564, 261578, 261589, 261599, 261610, 261622, 261634, 261644, 261654, 261666, 261677, 261686, 261703, 261716, 261728, 261738, 261751, 261768, 261778, 261806, 261817, 261827, 261847, 261863, 261873, 261885, 261901, 261912, 261925, 261938, 261950, 261960, 261970, 261980, 261993, 262003, 262019, 262031, 262041, 262077, 262086, 262095, 262108, 262123, 262133, 262143, 262155, 262168, 262177, 262189, 262199, 262209, 262219, 262229, 262242, 262251, 262261, 262271, 262281, 262290, 262300, 262313, 262324, 262334, 262344, 262356, 262366, 262385, 262397, 262408, 262418, 262428, 262446, 262458, 262468, 262479, 262490, 262504, 262514, 262524, 262534, 262543, 262553, 262564, 262575, 262587, 262597, 262610, 262622, 262633, 262644, 262653, 262663, 262676, 262686, 262696, 262713, 262724, 262735, 262820, 262843, 262853, 262863, 262883, 262900, 262910, 262926, 262937, 262948, 262957, 262965, 262976, 262989, 263024, 263035, 263044, 263054, 263062, 263072, 263083, 263094, 263104, 263117, 263131, 263141, 263151, 263163, 263173, 263188, 263197, 263207, 263218, 263233, 263242, 263254, 263262, 263273, 263284, 263300, 263312, 263321, 263331, 263344, 263355, 263365, 263375, 263385, 263395, 263405, 263414, 263427, 263438, 263452, 263463, 263479, 263500, 263513, 263523, 263532, 263542, 263552, 263562, 263572, 263582, 263592, 263604, 263613, 263622, 263633, 263643, 263654, 263679, 263693, 263706, 263719, 263734, 263746, 263756, 263765, 263775, 263787, 263797, 263809, 263820, 263830, 263841, 263851, 263866, 263876, 264044, 264055, 264064, 264076, 264085, 264105, 264118, 264138, 264148, 264157, 264168, 264178, 264189, 264200, 264221, 264234, 264244, 264271, 264282, 264293, 264301, 264310, 264324, 264339, 264351, 264368, 264378, 264396, 264406, 264419, 264443, 264454, 264462, 264472, 264482, 264493, 264503, 264525, 264539, 264565, 264603, 264613, 264624, 264635, 264646, 264661, 264680, 264689, 264700, 264710, 264719, 264729, 264739, 264834, 264848, 264875, 264884, 264910, 264919, 264929, 264941, 264952, 264961, 264972, 264991, 265001, 265011, 265021, 265036, 265048, 265058, 265069, 265079, 265090, 265101, 265111, 265120, 265130, 265143, 265156, 265166, 265178, 265192, 265203, 265214, 265226, 265237, 265249, 265259, 265271, 265281, 265290, 265301, 265311, 265321, 265338, 265348, 265358, 265369, 265386, 265398, 265411, 265423, 265441, 265454, 265464, 265475, 265487, 265498, 265509, 265518, 265528, 265541, 265557, 265567, 265580, 265591, 265602, 265618, 265628, 265638, 265655, 265668, 265677, 265685, 265698, 265712, 265727, 265736, 265746, 265758, 265771, 265782, 265794, 265807, 265827, 265840, 265850, 265859, 265871, 265881, 265890, 265927, 265939, 265950, 265961, 265970, 265988, 265998, 266008, 266018, 266028, 266040, 266054, 266064, 266075, 266356, 266367, 266378, 266388, 266415, 266466, 266477, 266489, 266516, 266526, 266536, 266548, 266558, 266576, 266586, 266596, 266606, 266616, 266628, 266638, 266648, 266657, 266667, 266679, 266691, 266705, 266715, 266725, 266738, 266748, 266758, 266771, 266781, 266791, 266806, 266817, 266827, 266841, 266850, 266864, 266874, 266889, 266900, 266917, 266928, 266942, 266953, 266962, 266974, 266984, 266996, 267006, 267016, 267027, 267039, 267050, 267059, 267083, 267093, 267105, 267115, 267125, 267136, 267157, 267174, 267190, 267200, 267365, 267414, 267429, 267439, 267447, 267461, 267483, 267495, 267505, 267515, 267525, 267535, 267545, 267555, 267601, 267621, 267635, 267646, 267660, 267671, 267685, 267695, 267705, 267714, 267726, 267741, 267752, 267761, 267770, 267779, 267789, 267801, 267811, 267822, 267851, 267861, 267873, 267885, 267895, 267916, 267928, 267938, 267951, 267971, 267981, 267992, 268008, 268017, 268029, 268058, 268069, 268080, 268093, 268107, 268120, 268131, 268140, 268154, 268165, 268173, 268185, 268200, 268212, 268225, 268242, 268253, 268263, 268276, 268286, 268298, 268310, 268321, 268333, 268346, 268356, 268367, 268388, 268398, 268408, 268418, 268430, 268445, 268466, 268476, 268487, 268505, 268515, 268525, 268535, 268548, 268559, 268569, 268579, 268596, 268608, 268620, 268631, 268642, 268652, 268662, 268672, 268685, 268695, 268706, 268716, 268726, 268736, 268746, 268756, 268765, 268776, 268786, 268797, 268811, 268822, 268833, 268844, 268857, 268869, 268879, 268893, 268904, 268916, 268928, 268940, 268953, 268963, 268974, 268984, 268993, 269009, 269019, 269029, 269042, 269053, 269066, 269081, 269093, 269103, 269113, 269122, 269132, 269145, 269155, 269169, 269179, 269191, 269201, 269213, 269222, 269232, 269493, 269503, 269513, 269523, 269532, 269542, 269552, 269564, 269576, 269586, 269601, 269614, 269624, 269634, 269644, 269656, 269671, 269688, 269702, 269713, 269722, 269732, 269742, 269752, 269763, 269773, 269788, 269799, 269811, 269823, 269834, 269844, 269854, 269864, 269876, 269887, 269898, 269912, 269923, 269937, 269947, 269958, 269968, 269979, 270002, 270012, 270023, 270033, 270048, 270058, 270068, 270079, 270089, 270100, 270114, 270126, 270136, 270146, 270157, 270167, 270186, 270196, 270207, 270217, 270227, 270244, 270255, 270265, 270279, 270290, 270300, 270312, 270322, 270338, 270347, 270357, 270369, 270384, 270395, 270404, 270417, 270425, 270435, 270446, 270463, 270472, 270482, 270493, 270506, 270536, 270545, 270555, 270569, 270581, 270591, 270615, 270624, 270634, 270646, 270657, 270669, 270679, 270690, 270704, 270716, 270726, 270736, 270746, 270756, 270766, 270778, 270788, 270806, 270819, 270829, 270840, 270855, 270867, 270878, 270888, 270898, 270954, 270966, 270992, 271008, 271027, 271040, 271050, 271062, 271075, 271085, 271096, 271105, 271115, 271126, 271139, 271152, 271181, 271194, 271205, 271215, 271225, 271241, 271251, 271261, 271275, 271286, 271297, 271314, 271334, 271346, 271356, 271367, 271383, 271395, 271407, 271418, 271439, 271450, 271460, 271471, 271482, 271492, 271504, 271513, 271522, 271534, 271548, 271562, 271572, 271587, 271597, 271608, 271620, 271629, 271639, 271651, 271670, 271680, 271703, 271713, 271726, 271737, 271747, 271801, 271810, 271821, 271831, 271841, 271852, 271863, 271873, 271883, 271896, 271907, 271917, 271927, 271941, 271976, 271989, 271999, 272008, 272018, 272031, 272043, 272054, 272065, 272082, 272093, 272105, 272115, 272125, 272137, 272149, 272159, 272170, 272180, 272191, 272203, 272213, 272223, 272235, 272249, 272259, 272273, 272285, 272294, 272314, 272325, 272338, 272350, 272360, 272375, 272386, 272397, 272406, 272415, 272429, 272439, 272451, 272467, 272482, 272497, 272508, 272519, 272529, 272538, 272547, 272558, 272566, 272575, 272585, 272595, 272605, 272615, 272642, 272652, 272662, 272697, 272708, 272718, 272730, 272742, 272753, 272763, 272773, 272783, 272794, 272804, 272813, 272824, 272834, 272844, 272854, 272863, 272874, 272887, 272899, 272918, 272928, 272949, 272962, 272971, 272989, 273000, 273010, 273020, 273032, 273044, 273054, 273064, 273076, 273087, 273097, 273108, 273118, 273129, 273160, 273172, 273182, 273196, 273205, 273215, 273226, 273242, 273257, 273267, 273277, 273296, 273305, 273314, 273324, 273334, 273344, 273354, 273364, 273375, 273386, 273396, 273406, 273414, 273424, 273438, 273448, 273462, 273473, 273482, 273492, 273502, 273512, 273523, 273538, 273548, 273561, 273580, 273591, 273603, 273613, 273625, 273636, 273646, 273659, 273672, 273680, 273697, 273709, 273722, 273732, 273742, 273754, 273764, 273778, 273788, 273801, 273811, 273822, 273832, 273842, 273852, 273862, 273930, 273943, 273958, 273972, 273984, 273995, 274005, 274015, 274025, 274035, 274048, 274057, 274065, 274074, 274086, 274096, 274108, 274123, 274135, 274144, 274154, 274164, 274173, 274185, 274197, 274209, 274220, 274231, 274241, 274251, 274263, 274273, 274287, 274300, 274310, 274321, 274335, 274344, 274359, 274369, 274380, 274392, 274402, 274414, 274426, 274436, 274447, 274457, 274468, 274481, 274494, 274504, 274516, 274531, 274559, 274570, 274589, 274601, 274613, 274623, 274637, 274648, 274659, 274668, 274679, 274693, 274703, 274715, 274727, 274739, 274756, 274768, 274778, 274787, 274798, 274808, 274819, 274831, 274842, 274854, 274863, 274873, 274883, 274897, 274908, 274918, 274932, 274945, 274955, 274966, 274991, 275000, 275012, 275029, 275041, 275051, 275061, 275072, 275082, 275091, 275102, 275113, 275123, 275135, 275146, 275159, 275171, 275181, 275192, 275202, 275213, 275226, 275236, 275245, 275255, 275266, 275285, 275300, 275310, 275321, 275361, 275380, 275390, 275399, 275408, 275417, 275427, 275437, 275448, 275467, 275477, 275490, 275500, 275510, 275522, 275532, 275547, 275556, 275564, 275580, 275591, 275601, 275610, 275632, 275642, 275652, 275663, 275673, 275687, 275698, 275709, 275719, 275749, 275761, 275771, 275783, 275793, 275802, 275812, 275821, 275831, 275846, 275860, 275876, 275892, 275902, 275911, 275920, 275930, 275942, 275953, 275966, 275978, 275992, 276002, 276015, 276029, 276040, 276051, 276062, 276074, 276091, 276105, 276115, 276125, 276137, 276146, 276155, 276166, 276179, 276190, 276206, 276216, 276227, 276236, 276245, 276255, 276265, 276275, 276288, 276298, 276307, 276317, 276331, 276342, 276352, 276361, 276376, 276390, 276402, 276412, 276422, 276434, 276444, 276454, 276467, 276482, 276492, 276501, 276511, 276522, 276532, 276543, 276554, 276564, 276575, 276585, 276601, 276612, 276624, 276635, 276730, 276757, 276771, 276780, 276948, 276958, 276967, 276977, 276989, 277002, 277012, 277024, 277034, 277044, 277055, 277065, 277075, 277085, 277095, 277105, 277119, 277129, 277140, 277150, 277162, 277172, 277186, 277198, 277210, 277220, 277230, 277244, 277254, 277279, 277291, 277302, 277312, 277322, 277333, 277343, 277357, 277367, 277380, 277401, 277420, 277431, 277440, 277451, 277460, 277469, 277480, 277490, 277539, 277549, 277559, 277569, 277585, 277601, 277611, 277625, 277636, 277651, 277661, 277674, 277684, 277694, 277705, 277717, 277734, 277746, 277756, 277766, 277779, 277788, 277798, 277807, 277818, 277830, 277851, 277861, 277872, 277883, 277898, 277908, 277918, 277928, 277940, 277951, 277976, 277985, 277995, 278004, 278016, 278025, 278036, 278050, 278063, 278075, 278098, 278109, 278124, 278132, 278148, 278157, 278170, 278179, 278189, 278199, 278210, 278227, 278237, 278248, 278264, 278275, 278285, 278300, 278316, 278328, 278339, 278349, 278364, 278374, 278384, 278397, 278408, 278418, 278428, 278437, 278446, 278456, 278466, 278475, 278485, 278497, 278506, 278517, 278529, 278537, 278552, 278563, 278577, 278587, 278597, 278608, 278626, 278637, 278647, 278657, 278667, 278679, 278689, 278702, 278713, 278723, 278733, 278745, 278756, 278769, 278780, 278795, 278807, 278817, 278829, 278839, 278850, 278860, 278871, 278886, 278896, 278908, 278919, 278929, 278938, 278948, 278958, 278975, 278992, 279003, 279013, 279025, 279035, 279064, 279073, 279084, 279095, 279261, 279270, 279280, 279291, 279301, 279313, 279335, 279346, 279354, 279368, 279461, 279471, 279482, 279494, 279505, 279515, 279585, 279598, 279608, 279617, 279629, 279641, 279654, 279666, 279676, 279686, 279698, 279710, 279721, 279730, 279740, 279751, 279761, 279771, 279783, 279830, 279840, 279849, 279859, 279905, 279913, 279926, 279935, 279946, 279957, 279970, 279982, 279992, 280273, 280286, 280297, 280578, 280588, 280603, 280613, 280621, 280632, 280644, 280657, 280669, 280679, 280694, 280705, 280717, 280726, 280736, 280746, 280759, 280770, 280780, 280794, 280804, 280813, 280822, 280850, 280881, 280893, 280908, 280918, 280932, 280944, 280959, 280969, 280982, 280992, 281002, 281016, 281029, 281041, 281051, 281060, 281070, 281080, 281089, 281100, 281112, 281122, 281133, 281143, 281152, 281162, 281170, 281180, 281205, 281215, 281225, 281234, 281244, 281254, 281264, 281274, 281284, 281300, 281312, 281322, 281333, 281343, 281353, 281363, 281376, 281386, 281396, 281406, 281415, 281426, 281438, 281449, 281466, 281485, 281495, 281534, 281546, 281558, 281568, 281579, 281591, 281602, 281612, 281625, 281637, 281651, 281661, 281674, 281686, 281696, 281742, 281759, 281769, 281781, 281791, 281826, 281837, 281847, 281871, 281884, 281894, 281903, 281913, 281921, 282089, 282099, 282109, 282131, 282141, 282151, 282162, 282172, 282190, 282199, 282210, 282220, 282230, 282243, 282254, 282265, 282276, 282287, 282299, 282311, 282322, 282332, 282341, 282357, 282367, 282378, 282399, 282409, 282419, 282431, 282441, 282451, 282462, 282472, 282487, 282500, 282510, 282520, 282530, 282542, 282554, 282564, 282578, 282588, 282598, 282609, 282619, 282630, 282641, 282650, 282660, 282670, 282680, 282691, 282700, 282715, 282725, 282735, 282746, 282758, 282768, 282779, 282789, 282800, 282810, 282820, 282830, 282841, 282854, 282866, 282878, 282889, 282899, 282909, 282920, 282940, 282951, 282967, 282978, 282988, 282997, 283009, 283019, 283033, 283046, 283057, 283067, 283079, 283089, 283102, 283112, 283122, 283135, 283146, 283158, 283190, 283203, 283213, 283224, 283234, 283245, 283255, 283265, 283277, 283287, 283298, 283318, 283329, 283340, 283353, 283363, 283373, 283386, 283396, 283411, 283421, 283433, 283444, 283454, 283466, 283477, 283491, 283502, 283513, 283525, 283535, 283546, 283559, 283575, 283585, 283607, 283624, 283647, 283658, 283671, 283681, 283691, 283707, 283730, 283740, 283750, 283760, 283771, 283781, 283791, 283803, 283813, 283826, 283836, 283846, 283856, 283867, 283877, 283887, 283897, 283910, 283920, 283937, 283947, 283958, 283969, 284007, 284017, 284028, 284039, 284062, 284074, 284084, 284095, 284107, 284118, 284134, 284144, 284156, 284166, 284182, 284192, 284202, 284212, 284221, 284233, 284247, 284260, 284270, 284298, 284314, 284328, 284338, 284348, 284357, 284366, 284375, 284394, 284412, 284422, 284432, 284443, 284453, 284463, 284473, 284486, 284496, 284505, 284534, 284543, 284555, 284566, 284577, 284586, 284596, 284605, 284614, 284622, 284632, 284642, 284652, 284663, 284674, 284683, 284694, 284708, 284719, 284729, 284739, 284749, 284759, 284768, 284780, 284790, 284801, 284811, 284825, 285103, 285271, 285282, 285292, 285300, 285310, 285322, 285334, 285344, 285357, 285366, 285380, 285397, 285406, 285415, 285437, 285446, 285458, 285506, 285519, 285529, 285546, 285562, 285572, 285585, 285598, 285608, 285643, 285653, 285664, 285674, 285684, 285694, 285704, 285714, 285729, 285739, 285749, 285765, 285776, 285791, 285801, 285810, 285818, 285828, 285839, 285855, 285870, 285881, 285891, 285901, 285911, 285921, 285930, 285946, 285957, 285967, 285978, 285991, 286002, 286013, 286024, 286035, 286047, 286057, 286067, 286077, 286091, 286101, 286112, 286122, 286133, 286144, 286158, 286168, 286177, 286186, 286196, 286205, 286235, 286250, 286276, 286286, 286296, 286306, 286322, 286332, 286345, 286358, 286378, 286388, 286397, 286413, 286424, 286438, 286451, 286463, 286472, 286497, 286509, 286522, 286532, 286546, 286556, 286566, 286576, 286587, 286600, 286609, 286627, 286639, 286649, 286660, 286672, 286689, 286703, 286717, 286741, 286752, 286766, 286781, 286791, 286803, 286813, 286827, 286840, 286849, 286859, 286869, 286886, 286897, 286910, 286920, 287087, 287097, 287109, 287120, 287133, 287145, 287154, 287164, 287175, 287185, 287195, 287205, 287214, 287227, 287237, 287261, 287272, 287282, 287298, 287306, 287322, 287331, 287341, 287352, 287366, 287376, 287385, 287394, 287404, 287419, 287430, 287441, 287453, 287463, 287473, 287483, 287502, 287520, 287529, 287540, 287550, 287560, 287570, 287591, 287603, 287617, 287627, 287637, 287648, 287658, 287668, 287680, 287694, 287705, 287715, 287727, 287738, 287752, 287762, 287854, 287864, 287875, 287885, 287898, 287918, 287928, 287939, 287950, 287963, 287975, 287984, 287994, 288003, 288015, 288024, 288038, 288053, 288063, 288073, 288087, 288095, 288104, 288113, 288123, 288133, 288141, 288151, 288161, 288171, 288181, 288191, 288203, 288213, 288222, 288232, 288243, 288255, 288267, 288279, 288287, 288299, 288309, 288320, 288330, 288342, 288354, 288364, 288385, 288395, 288406, 288418, 288430, 288440, 288453, 288463, 288473, 288484, 288495, 288505, 288515, 288526, 288536, 288573, 288585, 288596, 288608, 288618, 288628, 288636, 288655, 288665, 288674, 288684, 288693, 288701, 288717, 288726, 288737, 288747, 288757, 288766, 288776, 288787, 288797, 288807, 288817, 288825, 288841, 288851, 288862, 288875, 288887, 288897, 288906, 288916, 288925, 288936, 288952, 288967, 288977, 288986, 288996, 289023, 289035, 289045, 289061, 289072, 289081, 289089, 289102, 289118, 289129, 289140, 289150, 289160, 289172, 289183, 289196, 289206, 289217, 289232, 289245, 289262, 289305, 289313, 289323, 289333, 289353, 289362, 289371, 289382, 289392, 289403, 289413, 289425, 289435, 289445, 289455, 289466, 289476, 289486, 289496, 289507, 289517, 289528, 289539, 289565, 289580, 289590, 289608, 289621, 289634, 289643, 289655, 289665, 289674, 289683, 289698, 289708, 289745, 289754, 289764, 289777, 289787, 289800, 289811, 289823, 289833, 289842, 289856, 289868, 289886, 289896, 289906, 289916, 289929, 289940, 289949, 289962, 289972, 289987, 289998, 290008, 290020, 290031, 290040, 290050, 290078, 290088, 290098, 290109, 290118, 290131, 290141, 290153, 290166, 290176, 290186, 290196, 290207, 290216, 290231, 290246, 290258, 290270, 290280, 290293, 290304, 290314, 290323, 290333, 290343, 290360, 290375, 290385, 290398, 290408, 290419, 290429, 290440, 290450, 290460, 290472, 290481, 290502, 290512, 290522, 290536, 290552, 290562, 290575, 290585, 290601, 290611, 290625, 290639, 290649, 290659, 290670, 290689, 290702, 290715, 290725, 290737, 290749, 290759, 290771, 290781, 290792, 290807, 290817, 290829, 290846, 290854, 290862, 290879, 290893, 290901, 290912, 290924, 290935, 290944, 290954, 290967, 290976, 290987, 290997, 291009, 291022, 291032, 291042, 291054, 291066, 291076, 291088, 291123, 291133, 291143, 291153, 291164, 291175, 291185, 291198, 291209, 291219, 291228, 291238, 291248, 291257, 291266, 291281, 291291, 291302, 291312, 291343, 291355, 291365, 291377, 291387, 291401, 291411, 291425, 291437, 291447, 291457, 291467, 291479, 291503, 291513, 291542, 291552, 291562, 291572, 291583, 291593, 291602, 291611, 291621, 291632, 291642, 291652, 291668, 291683, 291694, 291704, 291717, 291728, 291745, 291763, 291774, 291783, 291804, 291815, 291825, 291835, 291845, 291856, 291871, 291881, 291893, 291910, 291920, 291931, 291941, 291954, 291965, 291990, 292001, 292082, 292093, 292102, 292113, 292123, 292133, 292145, 292156, 292166, 292181, 292191, 292201, 292212, 292223, 292235, 292245, 292254, 292263, 292273, 292281, 292291, 292301, 292319, 292329, 292341, 292351, 292361, 292371, 292380, 292391, 292669, 292682, 292692, 292702, 292714, 292724, 292734, 292744, 292754, 292769, 292783, 292796, 292808, 292825, 292835, 292847, 292860, 292870, 292884, 292894, 292904, 292915, 292930, 292950, 292959, 292972, 292982, 292993, 293006, 293016, 293030, 293041, 293051, 293062, 293072, 293084, 293094, 293104, 293112, 293124, 293134, 293147, 293157, 293169, 293181, 293197, 293207, 293218, 293231, 293241, 293258, 293275, 293284, 293298, 293308, 293319, 293329, 293339, 293514, 293524, 293534, 293545, 293556, 293569, 293579, 293589, 293599, 293610, 293622, 293633, 293643, 293654, 293664, 293676, 293687, 293697, 293709, 293719, 293733, 293743, 293754, 293764, 293775, 293789, 293799, 293811, 293821, 293831, 293852, 293862, 293874, 293896, 293906, 293916, 293925, 293937, 293956, 293966, 293976, 293989, 293999, 294030, 294043, 294052, 294069, 294079, 294088, 294098, 294108, 294120, 294130, 294148, 294160, 294170, 294182, 294195, 294205, 294216, 294227, 294237, 294247, 294257, 294268, 294280, 294291, 294300, 294314, 294327, 294339, 294349, 294362, 294372, 294382, 294394, 294404, 294416, 294426, 294436, 294450, 294462, 294473, 294483, 294494, 294504, 294529, 294540, 294551, 294573, 294583, 294594, 294606, 294619, 294630, 294641, 294656, 294666, 294680, 294690, 294701, 294711, 294721, 294731, 294747, 294759, 294772, 294788, 294798, 294814, 294827, 294840, 294853, 294863, 294872, 294887, 294907, 294917, 294926, 294938, 294947, 294959, 294972, 294984, 294997, 295007, 295023, 295038, 295048, 295058, 295067, 295077, 295088, 295099, 295109, 295118, 295130, 295142, 295154, 295169, 295179, 295189, 295203, 295213, 295225, 295235, 295247, 295257, 295265, 295274, 295286, 295296, 295306, 295318, 295328, 295337, 295349, 295357, 295370, 295380, 295407, 295427, 295437, 295449, 295459, 295473, 295486, 295497, 295510, 295523, 295534, 295544, 295554, 295572, 295585, 295596, 295606, 295618, 295628, 295639, 295649, 295659, 295669, 295683, 295695, 295705, 295716, 295733, 295746, 295756, 295767, 295777, 295787, 295799, 295810, 295821, 295832, 295842, 295852, 295862, 295872, 295883, 295892, 295901, 295912, 295925, 295934, 295945, 295955, 295974, 295990, 295999, 296008, 296019, 296030, 296040, 296053, 296067, 296078, 296103, 296120, 296134, 296144, 296157, 296167, 296177, 296190, 296202, 296215, 296226, 296236, 296247, 296257, 296267, 296279, 296292, 296302, 296345, 296357, 296369, 296380, 296390, 296400, 296415, 296425, 296437, 296449, 296459, 296469, 296479, 296491, 296501, 296512, 296522, 296531, 296628, 296638, 296649, 296660, 296681, 296695, 296709, 296723, 296734, 296744, 296756, 296766, 296777, 296788, 296799, 296815, 296826, 296836, 296846, 296857, 296866, 296877, 296887, 296903, 296912, 296922, 296950, 296980, 296992, 297002, 297010, 297019, 297039, 297049, 297059, 297071, 297078, 297087, 297100, 297111, 297123, 297145, 297156, 297169, 297181, 297191, 297205, 297219, 297229, 297247, 297268, 297278, 297287, 297297, 297308, 297318, 297330, 297340, 297353, 297364, 297374, 297384, 297393, 297412, 297422, 297434, 297444, 297471, 297482, 297491, 297501, 297512, 297522, 297535, 297545, 297555, 297567, 297581, 297603, 297619, 297641, 297651, 297661, 297671, 297682, 297693, 297703, 297712, 297723, 297733, 297743, 297754, 297765, 297778, 297788, 297798, 297810, 297818, 297833, 297841, 297850, 297861, 297883, 297893, 297905, 297916, 297926, 297937, 297945, 297957, 297968, 297979, 297989, 297998, 298010, 298024, 298057, 298067, 298078, 298088, 298097, 298109, 298119, 298130, 298141, 298152, 298166, 298175, 298185, 298198, 298207, 298218, 298229, 298240, 298257, 298268, 298279, 298290, 298299, 298309, 298322, 298336, 298346, 298357, 298380, 298390, 298401, 298414, 298426, 298436, 298450, 298460, 298471, 298484, 298494, 298505, 298518, 298529, 298539, 298553, 298562, 298575, 298585, 298603, 298620, 298629, 298641, 298653, 298663, 298672, 298683, 298694, 298704, 298714, 298724, 298735, 298746, 298756, 298773, 298783, 298793, 298802, 298819, 298830, 298840, 298850, 298860, 298870, 298879, 298889, 298900, 298911, 298923, 298933, 298949, 298960, 298970, 298980, 298994, 299004, 299015, 299025, 299046, 299057, 299066, 299077, 299094, 299108, 299119, 299131, 299141, 299151, 299332, 299341, 299352, 299362, 299377, 299386, 299402, 299412, 299424, 299434, 299444, 299454, 299511, 299521, 299553, 299563, 299575, 299586, 299596, 299606, 299617, 299626, 299635, 299649, 299659, 299669, 299680, 299691, 299711, 299733, 299742, 299752, 299761, 299772, 299782, 299802, 299812, 299823, 299838, 299848, 299858, 299869, 299890, 299900, 299910, 299924, 299934, 299946, 299955, 299966, 299976, 299987, 300000, 300011, 300023, 300040, 300050, 300061, 300072, 300081, 300091, 300102, 300111, 300146, 300156, 300166, 300180, 300191, 300204, 300213, 300232, 300243, 300255, 300265, 300277, 300287, 300298, 300308, 300317, 300328, 300338, 300360, 300373, 300383, 300404, 300419, 300442, 300455, 300464, 300474, 300483, 300494, 300504, 300515, 300525, 300535, 300561, 300571, 300582, 300592, 300606, 300617, 300642, 300650, 300669, 300684, 300695, 300710, 300723, 300734, 300746, 300759, 300769, 300781, 300790, 300800, 300811, 300822, 300832, 300847, 300857, 300867, 300877, 300887, 300901, 300914, 300924, 300935, 300945, 300956, 300968, 300982, 300991, 301001, 301010, 301021, 301033, 301041, 301051, 301062, 301073, 301096, 301106, 301116, 301128, 301138, 301148, 301158, 301168, 301177, 301191, 301204, 301214, 301225, 301234, 301243, 301255, 301266, 301278, 301290, 301301, 301310, 301320, 301332, 301346, 301356, 301366, 301377, 301386, 301409, 301418, 301427, 301437, 301447, 301461, 301479, 301488, 301498, 301509, 301518, 301528, 301538, 301550, 301578, 301588, 301598, 301618, 301632, 301642, 301652, 301670, 301687, 301702, 301717, 301777, 301787, 301797, 301815, 301829, 301846, 301856, 301864, 301875, 301895, 301912, 301922, 301934, 301943, 301965, 301974, 301985, 301994, 302005, 302014, 302024, 302037, 302047, 302058, 302079, 302090, 302101, 302113, 302124, 302134, 302144, 302156, 302169, 302180, 302191, 302202, 302212, 302226, 302238, 302248, 302260, 302269, 302285, 302294, 302305, 302316, 302325, 302339, 302350, 302361, 302375, 302389, 302405, 302430, 302449, 302459, 302469, 302487, 302502, 302513, 302524, 302536, 302548, 302558, 302568, 302578, 302588, 302608, 302618, 302626, 302637, 302647, 302665, 302677, 302686, 302697, 302708, 302728, 302753, 302764, 302777, 302798, 302813, 302823, 302832, 302839, 302853, 302864, 302895, 302906, 302916, 302925, 302939, 302952, 302965, 302978, 302991, 303039, 303049, 303061, 303074, 303097, 303108, 303117, 303126, 303136, 303152, 303163, 303172, 303185, 303194, 303204, 303213, 303222, 303232, 303242, 303252, 303263, 303275, 303288, 303298, 303308, 303318, 303329, 303339, 303373, 303414, 303427, 303481, 303497, 303507, 303516, 303525, 303540, 303551, 303561, 303581, 303592, 303603, 303615, 303635, 303707, 303718, 303728, 303761, 303813, 303824, 303834, 303843, 303853, 303863, 303874, 303883, 303897, 303907, 303919, 303934, 303945, 303957, 303971, 303980, 303991, 304002, 304020, 304030, 304040, 304050, 304060, 304070, 304085, 304097, 304108, 304120, 304132, 304142, 304151, 304161, 304170, 304180, 304194, 304204, 304214, 304228, 304239, 304247, 304257, 304267, 304277, 304289, 304300, 304311, 304321, 304332, 304342, 304623, 304632, 304642, 304651, 304667, 304679, 304691, 304702, 304712, 304721, 304730, 304743, 304758, 304769, 304778, 304808, 304818, 304828, 304838, 304846, 304859, 304868, 304879, 304887, 304898, 304909, 304941, 304951, 304961, 304977, 304989, 304999, 305018, 305031, 305041, 305054, 305065, 305095, 305106, 305118, 305128, 305140, 305152, 305164, 305174, 305184, 305194, 305207, 305216, 305227, 305237, 305256, 305264, 305270, 305280, 305291, 305302, 305318, 305328, 305337, 305347, 305356, 305374, 305385, 305400, 305412, 305424, 305440, 305452, 305462, 305474, 305484, 305502, 305515, 305525, 305535, 305543, 305564, 305575, 305589, 305605, 305615, 305627, 305637, 305650, 305661, 305671, 305681, 305690, 305700, 305711, 305721, 305745, 305760, 305770, 305781, 305790, 305800, 305810, 305820, 305830, 305840, 305850, 305860, 305871, 305881, 305891, 305901, 305913, 305925, 305937, 305948, 305959, 305969, 305985, 305996, 306006, 306017, 306029, 306039, 306050, 306062, 306073, 306083, 306096, 306106, 306116, 306129, 306140, 306150, 306161, 306174, 306184, 306194, 306204, 306214, 306224, 306256, 306266, 306277, 306288, 306305, 306315, 306326, 306340, 306351, 306360, 306372, 306382, 306391, 306401, 306411, 306421, 306429, 306441, 306454, 306470, 306482, 306493, 306504, 306517, 306527, 306537, 306550, 306565, 306575, 306587, 306598, 306608, 306618, 306629, 306639, 306650, 306660, 306670, 306681, 306691, 306703, 306713, 306737, 306747, 306759, 306770, 306780, 306790, 306800, 306816, 306826, 306838, 306848, 306859, 306871, 306881, 306891, 306902, 306915, 306925, 306936, 306952, 306967, 306978, 306990, 307001, 307012, 307022, 307032, 307041, 307072, 307082, 307092, 307102, 307112, 307126, 307135, 307145, 307155, 307166, 307177, 307189, 307201, 307210, 307218, 307225, 307234, 307258, 307268, 307278, 307288, 307299, 307308, 307318, 307334, 307344, 307403, 307413, 307430, 307440, 307452, 307463, 307475, 307486, 307509, 307519, 307529, 307538, 307549, 307566, 307576, 307589, 307641, 307655, 307665, 307676]\n"
          ]
        }
      ],
      "source": [
        "idx = [0] # 한 법안의 index, idx[i]:idx[i+1]에는 같은 법안을 낸 여러 사람의 명단이 있다.\n",
        "for i in range(len(relation_state)-1):\n",
        "  if relation_state['법안 ID'][i] != relation_state['법안 ID'][i+1]:\n",
        "    idx.append(i+1)\n",
        "idx.append(len(relation_state))\n",
        "print(idx, sep = ' ')"
      ]
    },
    {
      "cell_type": "code",
      "execution_count": 1805,
      "metadata": {
        "colab": {
          "base_uri": "https://localhost:8080/",
          "height": 175
        },
        "id": "hbqBUW0s7Maq",
        "outputId": "278d23f5-57a5-4b7a-94f2-97c2be4a4d9a"
      },
      "outputs": [
        {
          "data": {
            "text/html": [
              "<div>\n",
              "<style scoped>\n",
              "    .dataframe tbody tr th:only-of-type {\n",
              "        vertical-align: middle;\n",
              "    }\n",
              "\n",
              "    .dataframe tbody tr th {\n",
              "        vertical-align: top;\n",
              "    }\n",
              "\n",
              "    .dataframe thead th {\n",
              "        text-align: right;\n",
              "    }\n",
              "</style>\n",
              "<table border=\"1\" class=\"dataframe\">\n",
              "  <thead>\n",
              "    <tr style=\"text-align: right;\">\n",
              "      <th></th>\n",
              "      <th></th>\n",
              "      <th>가결</th>\n",
              "      <th>가결외</th>\n",
              "    </tr>\n",
              "    <tr>\n",
              "      <th>의원A</th>\n",
              "      <th>의원B</th>\n",
              "      <th></th>\n",
              "      <th></th>\n",
              "    </tr>\n",
              "  </thead>\n",
              "  <tbody>\n",
              "    <tr>\n",
              "      <th rowspan=\"3\" valign=\"top\">강기윤(姜起潤)</th>\n",
              "      <th>강대식(姜大植)</th>\n",
              "      <td>95</td>\n",
              "      <td>99</td>\n",
              "    </tr>\n",
              "    <tr>\n",
              "      <th>강득구(姜得求)</th>\n",
              "      <td>53</td>\n",
              "      <td>6</td>\n",
              "    </tr>\n",
              "    <tr>\n",
              "      <th>강민국(姜旻局)</th>\n",
              "      <td>71</td>\n",
              "      <td>54</td>\n",
              "    </tr>\n",
              "  </tbody>\n",
              "</table>\n",
              "</div>"
            ],
            "text/plain": [
              "                   가결  가결외\n",
              "의원A      의원B              \n",
              "강기윤(姜起潤) 강대식(姜大植)  95   99\n",
              "         강득구(姜得求)  53    6\n",
              "         강민국(姜旻局)  71   54"
            ]
          },
          "execution_count": 1805,
          "metadata": {},
          "output_type": "execute_result"
        }
      ],
      "source": [
        "for i in range(len(idx)-1):\n",
        "    lst = relation_state['이름'][idx[i]:idx[i+1]].copy().reset_index(drop = True)\n",
        "    for j in range(len(lst)-1):\n",
        "        graph_edge.loc[(lst[j], lst[j+1:len(lst)]), [relation_state['상태'][idx[i]]]] += 1\n",
        "graph_edge.head(3)"
      ]
    },
    {
      "cell_type": "code",
      "execution_count": 1806,
      "metadata": {
        "colab": {
          "base_uri": "https://localhost:8080/",
          "height": 175
        },
        "id": "3cFpFKaB7Mar",
        "outputId": "3f5a3036-6075-4f2f-953a-c443be906bcb"
      },
      "outputs": [
        {
          "data": {
            "text/html": [
              "<div>\n",
              "<style scoped>\n",
              "    .dataframe tbody tr th:only-of-type {\n",
              "        vertical-align: middle;\n",
              "    }\n",
              "\n",
              "    .dataframe tbody tr th {\n",
              "        vertical-align: top;\n",
              "    }\n",
              "\n",
              "    .dataframe thead th {\n",
              "        text-align: right;\n",
              "    }\n",
              "</style>\n",
              "<table border=\"1\" class=\"dataframe\">\n",
              "  <thead>\n",
              "    <tr style=\"text-align: right;\">\n",
              "      <th></th>\n",
              "      <th></th>\n",
              "      <th>가결</th>\n",
              "      <th>가결외</th>\n",
              "      <th>법안</th>\n",
              "    </tr>\n",
              "    <tr>\n",
              "      <th>의원A</th>\n",
              "      <th>의원B</th>\n",
              "      <th></th>\n",
              "      <th></th>\n",
              "      <th></th>\n",
              "    </tr>\n",
              "  </thead>\n",
              "  <tbody>\n",
              "    <tr>\n",
              "      <th rowspan=\"3\" valign=\"top\">강기윤(姜起潤)</th>\n",
              "      <th>강대식(姜大植)</th>\n",
              "      <td>95</td>\n",
              "      <td>99</td>\n",
              "      <td>194</td>\n",
              "    </tr>\n",
              "    <tr>\n",
              "      <th>강득구(姜得求)</th>\n",
              "      <td>53</td>\n",
              "      <td>6</td>\n",
              "      <td>59</td>\n",
              "    </tr>\n",
              "    <tr>\n",
              "      <th>강민국(姜旻局)</th>\n",
              "      <td>71</td>\n",
              "      <td>54</td>\n",
              "      <td>125</td>\n",
              "    </tr>\n",
              "  </tbody>\n",
              "</table>\n",
              "</div>"
            ],
            "text/plain": [
              "                   가결  가결외   법안\n",
              "의원A      의원B                   \n",
              "강기윤(姜起潤) 강대식(姜大植)  95   99  194\n",
              "         강득구(姜得求)  53    6   59\n",
              "         강민국(姜旻局)  71   54  125"
            ]
          },
          "execution_count": 1806,
          "metadata": {},
          "output_type": "execute_result"
        }
      ],
      "source": [
        "graph_edge['법안'] = graph_edge.loc[:][:].sum(axis = 1)\n",
        "graph_edge.head(3)"
      ]
    },
    {
      "cell_type": "code",
      "execution_count": 1807,
      "metadata": {
        "colab": {
          "base_uri": "https://localhost:8080/",
          "height": 143
        },
        "id": "SzH7udBy7Mar",
        "outputId": "e3992598-735a-4bda-a9cb-cf187d36e5e5"
      },
      "outputs": [
        {
          "data": {
            "text/html": [
              "<div>\n",
              "<style scoped>\n",
              "    .dataframe tbody tr th:only-of-type {\n",
              "        vertical-align: middle;\n",
              "    }\n",
              "\n",
              "    .dataframe tbody tr th {\n",
              "        vertical-align: top;\n",
              "    }\n",
              "\n",
              "    .dataframe thead th {\n",
              "        text-align: right;\n",
              "    }\n",
              "</style>\n",
              "<table border=\"1\" class=\"dataframe\">\n",
              "  <thead>\n",
              "    <tr style=\"text-align: right;\">\n",
              "      <th></th>\n",
              "      <th>의원A</th>\n",
              "      <th>의원B</th>\n",
              "      <th>가결</th>\n",
              "      <th>가결외</th>\n",
              "      <th>법안</th>\n",
              "      <th>초당</th>\n",
              "    </tr>\n",
              "  </thead>\n",
              "  <tbody>\n",
              "    <tr>\n",
              "      <th>0</th>\n",
              "      <td>강기윤(姜起潤)</td>\n",
              "      <td>강대식(姜大植)</td>\n",
              "      <td>95</td>\n",
              "      <td>99</td>\n",
              "      <td>194</td>\n",
              "      <td>0</td>\n",
              "    </tr>\n",
              "    <tr>\n",
              "      <th>1</th>\n",
              "      <td>강기윤(姜起潤)</td>\n",
              "      <td>강득구(姜得求)</td>\n",
              "      <td>53</td>\n",
              "      <td>6</td>\n",
              "      <td>59</td>\n",
              "      <td>1</td>\n",
              "    </tr>\n",
              "    <tr>\n",
              "      <th>2</th>\n",
              "      <td>강기윤(姜起潤)</td>\n",
              "      <td>강민국(姜旻局)</td>\n",
              "      <td>71</td>\n",
              "      <td>54</td>\n",
              "      <td>125</td>\n",
              "      <td>0</td>\n",
              "    </tr>\n",
              "  </tbody>\n",
              "</table>\n",
              "</div>"
            ],
            "text/plain": [
              "        의원A       의원B  가결  가결외   법안  초당\n",
              "0  강기윤(姜起潤)  강대식(姜大植)  95   99  194   0\n",
              "1  강기윤(姜起潤)  강득구(姜得求)  53    6   59   1\n",
              "2  강기윤(姜起潤)  강민국(姜旻局)  71   54  125   0"
            ]
          },
          "execution_count": 1807,
          "metadata": {},
          "output_type": "execute_result"
        }
      ],
      "source": [
        "party_dict = dict(zip(member['이름'], member['정당명']))\n",
        "graph_edge.reset_index(inplace = True)\n",
        "for i in range(len(graph_edge)):\n",
        "    if party_dict[graph_edge.loc[i, '의원A']] == party_dict[graph_edge.loc[i, '의원B']]:\n",
        "        graph_edge.loc[i,'초당'] = 0\n",
        "    else:\n",
        "        graph_edge.loc[i,'초당'] = 1\n",
        "graph_edge['초당'] = graph_edge['초당'].astype(int)\n",
        "graph_edge.head(3)"
      ]
    },
    {
      "cell_type": "code",
      "execution_count": 1808,
      "metadata": {
        "id": "49dvpsy8wBIW"
      },
      "outputs": [],
      "source": [
        "graph_edge.to_csv('./raw_data/graph_edge.csv')\n",
        "graph_edge = pd.read_csv('./raw_data/graph_edge.csv')"
      ]
    },
    {
      "cell_type": "code",
      "execution_count": 1809,
      "metadata": {
        "colab": {
          "base_uri": "https://localhost:8080/"
        },
        "id": "hqqI9zqibeQZ",
        "outputId": "52607002-a9c1-4b65-fd5c-2ac378d17c67"
      },
      "outputs": [
        {
          "data": {
            "text/plain": [
              "<networkx.classes.graph.Graph at 0x1d9a9d04b50>"
            ]
          },
          "execution_count": 1809,
          "metadata": {},
          "output_type": "execute_result"
        }
      ],
      "source": [
        "nx_G = nx.from_pandas_edgelist(graph_edge, source = '의원A', target = '의원B', create_using = nx.Graph())\n",
        "nx_G"
      ]
    },
    {
      "cell_type": "code",
      "execution_count": 1810,
      "metadata": {
        "colab": {
          "base_uri": "https://localhost:8080/"
        },
        "id": "ru-XwaohcQVe",
        "outputId": "71c0a5d6-0923-4eac-a495-81fc589cf76c"
      },
      "outputs": [
        {
          "data": {
            "text/plain": [
              "(44253, 298)"
            ]
          },
          "execution_count": 1810,
          "metadata": {},
          "output_type": "execute_result"
        }
      ],
      "source": [
        "nx_G.number_of_edges(), nx_G.number_of_nodes()"
      ]
    },
    {
      "cell_type": "code",
      "execution_count": 1811,
      "metadata": {
        "id": "dlE_9TygnWeW"
      },
      "outputs": [],
      "source": [
        "age_dict = dict(zip(member['이름'], member['나이']))\n",
        "party_dict = dict(zip(member['이름'], member['정당명']))\n",
        "num_dict = dict(zip(member['이름'], member['당선']))\n",
        "gender_dict = dict(zip(member['이름'], member['성별']))\n",
        "edu_dict = dict(zip(member['이름'], member['학력']))\n",
        "committee_dict = dict(zip(member['이름'], member['위원회수']))\n",
        "passed_dict = dict(zip(member['이름'], member['가결']))\n",
        "rejected_dict = dict(zip(member['이름'], member['가결외']))\n",
        "cho_dict = dict(zip(member['이름'], member['초당']))\n",
        "notcho_dict = dict(zip(member['이름'], member['비초당']))\n",
        "total_dict = dict(zip(member['이름'], member['법안']))"
      ]
    },
    {
      "cell_type": "code",
      "execution_count": 1812,
      "metadata": {
        "id": "WaM6R9SIolAf"
      },
      "outputs": [],
      "source": [
        "nx.set_node_attributes(nx_G, age_dict, '나이')\n",
        "nx.set_node_attributes(nx_G, party_dict, '정당명')\n",
        "nx.set_node_attributes(nx_G, num_dict, '당선')\n",
        "nx.set_node_attributes(nx_G, gender_dict, '성별')\n",
        "nx.set_node_attributes(nx_G, edu_dict, '학력')\n",
        "nx.set_node_attributes(nx_G, committee_dict, '위원회수')\n",
        "nx.set_node_attributes(nx_G, passed_dict, '가결')\n",
        "nx.set_node_attributes(nx_G, rejected_dict, '가결외')\n",
        "nx.set_node_attributes(nx_G, cho_dict, '초당')\n",
        "nx.set_node_attributes(nx_G, notcho_dict, '비초당')\n",
        "nx.set_node_attributes(nx_G, total_dict, '법안')"
      ]
    },
    {
      "cell_type": "code",
      "execution_count": 1813,
      "metadata": {
        "colab": {
          "base_uri": "https://localhost:8080/"
        },
        "id": "F8DuQ5_DpgXR",
        "outputId": "044699fb-855d-4362-e067-425896ac53e6"
      },
      "outputs": [
        {
          "data": {
            "text/plain": [
              "{'나이': 63,\n",
              " '정당명': '국민의힘',\n",
              " '당선': 2,\n",
              " '성별': '남',\n",
              " '학력': 3,\n",
              " '위원회수': 1,\n",
              " '가결': 343,\n",
              " '가결외': 893,\n",
              " '초당': 403,\n",
              " '비초당': 833,\n",
              " '법안': 1236}"
            ]
          },
          "execution_count": 1813,
          "metadata": {},
          "output_type": "execute_result"
        }
      ],
      "source": [
        "nx_G.nodes['강기윤(姜起潤)']"
      ]
    },
    {
      "cell_type": "code",
      "execution_count": 1814,
      "metadata": {},
      "outputs": [
        {
          "data": {
            "image/png": "[encoded data removed]",
            "text/plain": [
              "<Figure size 640x480 with 1 Axes>"
            ]
          },
          "metadata": {},
          "output_type": "display_data"
        }
      ],
      "source": [
        "# '당선' 컬럼의 값 분포를 카운트\n",
        "value_counts = member['당선'].value_counts().sort_index()\n",
        "\n",
        "# 분포를 막대 그래프로 시각화\n",
        "plt.bar(value_counts.index, value_counts.values)\n",
        "\n",
        "# 그래프 제목 및 축 라벨 설정\n",
        "plt.title('re-election distribution')\n",
        "\n",
        "# 그래프 표시\n",
        "plt.show()"
      ]
    },
    {
      "cell_type": "code",
      "execution_count": 1815,
      "metadata": {},
      "outputs": [
        {
          "data": {
            "image/png": "[encoded data removed]",
            "text/plain": [
              "<Figure size 1000x600 with 1 Axes>"
            ]
          },
          "metadata": {},
          "output_type": "display_data"
        }
      ],
      "source": [
        "age_bins = range((member['나이'].min()//5)*5, member['나이'].max() + 5, 5)  # 나이 최대값까지 5살 간격으로 bins 생성\n",
        "age_labels = [f\"{i+1}-{i+5}\" for i in age_bins[:-1]]  # 라벨은 '1-5', '6-10', ...\n",
        "\n",
        "# pd.cut을 사용하여 나이 구간을 생성\n",
        "age_cut = pd.cut(member['나이'], bins=age_bins, labels=age_labels, right=False)\n",
        "\n",
        "# 나이 구간별 빈도수 계산\n",
        "age_distribution = age_cut.value_counts().sort_index()\n",
        "\n",
        "# 분포를 막대 그래프로 시각화\n",
        "plt.figure(figsize=(10, 6))\n",
        "age_distribution.plot(kind='bar')\n",
        "plt.title('age distribution')\n",
        "plt.xticks(rotation=45)  # x축 라벨 회전\n",
        "plt.tight_layout()  # 그래프 레이아웃 조정\n",
        "plt.show()"
      ]
    },
    {
      "cell_type": "code",
      "execution_count": 1816,
      "metadata": {},
      "outputs": [
        {
          "data": {
            "image/png": "[encoded data removed]",
            "text/plain": [
              "<Figure size 640x480 with 1 Axes>"
            ]
          },
          "metadata": {},
          "output_type": "display_data"
        }
      ],
      "source": [
        "decision_bins = range(int(member['가결'].min()//100*100), int(member['가결'].max()) + 100, 100)  # 의결안 수 최대값까지 구간 생성\n",
        "decision_labels = [f\"{i+1}-{i+10}\" for i in decision_bins[:-1]]\n",
        "\n",
        "# pd.cut을 사용하여 의결안 수 구간을 생성\n",
        "decision_cut = pd.cut(member['가결'], bins=decision_bins, labels=decision_labels, right=False)\n",
        "\n",
        "# 의결안 수 구간별 빈도수 계산\n",
        "decision_distribution = decision_cut.value_counts().sort_index()\n",
        "\n",
        "# 분포를 막대 그래프로 시각화\n",
        "decision_distribution.plot(kind='line')\n",
        "plt.title('decision distribution')\n",
        "plt.xticks(rotation=60)  # x축 라벨 회전\n",
        "plt.tight_layout()  # 그래프 레이아웃 조정\n",
        "plt.show()"
      ]
    },
    {
      "cell_type": "code",
      "execution_count": 1817,
      "metadata": {},
      "outputs": [
        {
          "data": {
            "image/png": "[encoded data removed]",
            "text/plain": [
              "<Figure size 640x480 with 1 Axes>"
            ]
          },
          "metadata": {},
          "output_type": "display_data"
        }
      ],
      "source": [
        "# '학력' 컬럼의 값 분포를 카운트\n",
        "value_counts = member['학력'].value_counts().sort_index()\n",
        "\n",
        "# 분포를 막대 그래프로 시각화\n",
        "bars = plt.bar(['고졸','학사','석사','박사'], value_counts.values, tick_label=['','bachelor','master','doctor'])\n",
        "\n",
        "# 그래프 제목 및 축 라벨 설정\n",
        "plt.title('education distribution')\n",
        "\n",
        "# 그래프 표시\n",
        "plt.show()"
      ]
    },
    {
      "cell_type": "code",
      "execution_count": 1818,
      "metadata": {},
      "outputs": [
        {
          "data": {
            "text/plain": [
              "0      1\n",
              "1    138\n",
              "2     99\n",
              "3     47\n",
              "4     12\n",
              "6      1\n",
              "Name: 위원회수, dtype: int64"
            ]
          },
          "execution_count": 1818,
          "metadata": {},
          "output_type": "execute_result"
        }
      ],
      "source": [
        "value_counts = member['위원회수'].value_counts().sort_index()\n",
        "value_counts"
      ]
    },
    {
      "cell_type": "code",
      "execution_count": 1819,
      "metadata": {},
      "outputs": [
        {
          "data": {
            "image/png": "[encoded data removed]",
            "text/plain": [
              "<Figure size 640x480 with 1 Axes>"
            ]
          },
          "metadata": {},
          "output_type": "display_data"
        }
      ],
      "source": [
        "# '소속 위원회 개수' 컬럼의 값 분포를 카운트\n",
        "value_counts = member['위원회수'].value_counts().sort_index()\n",
        "\n",
        "# 분포를 막대 그래프로 시각화\n",
        "plt.bar(value_counts.index, value_counts.values)\n",
        "\n",
        "# 그래프 제목 및 축 라벨 설정\n",
        "plt.title('communities count distribution')\n",
        "\n",
        "# 그래프 표시\n",
        "plt.show()"
      ]
    },
    {
      "cell_type": "markdown",
      "metadata": {
        "id": "LIu7F-Jz5qEL"
      },
      "source": [
        "1. top 10% 국회의원이 얼마나 전체 상호작용의 얼마에 참여하는가?"
      ]
    },
    {
      "cell_type": "code",
      "execution_count": 1820,
      "metadata": {
        "colab": {
          "base_uri": "https://localhost:8080/"
        },
        "id": "emyKqOk16MnI",
        "outputId": "7dbd645c-6772-48fb-df16-59156751c509"
      },
      "outputs": [
        {
          "name": "stdout",
          "output_type": "stream",
          "text": [
            "법안 개수 상위 10% 의원: 전체 법안의 20.34%\n",
            "법안 개수 하위 10% 의원: 전체 법안의 2.93%\n"
          ]
        }
      ],
      "source": [
        "# 상위 10% -> 20% / 하위 10% -> 3%\n",
        "member.set_index('이름', inplace = True)\n",
        "print(f\"법안 개수 상위 10% 의원: 전체 법안의 {round(member['법안'].sort_values(ascending = False)[:30].sum() / member['법안'].sum()*100, 2)}%\")\n",
        "print(f\"법안 개수 하위 10% 의원: 전체 법안의 {round(member['법안'].sort_values()[:30].sum() / member['법안'].sum()*100, 2)}%\")"
      ]
    },
    {
      "cell_type": "markdown",
      "metadata": {
        "id": "kx2AKpm5Wdi6"
      },
      "source": [
        "2. degree of separation?"
      ]
    },
    {
      "cell_type": "code",
      "execution_count": 1821,
      "metadata": {
        "colab": {
          "base_uri": "https://localhost:8080/"
        },
        "id": "dNvteliMWZXT",
        "outputId": "48849ef5-3a0a-4d98-dc2e-f66ffef35e88"
      },
      "outputs": [
        {
          "name": "stdout",
          "output_type": "stream",
          "text": [
            "[1, 1, 1, 1, 1, 1, 1, 1, 1, 1, 1, 1, 1, 1, 1, 1, 1, 1, 1, 1, 1, 1, 1, 1, 1, 1, 1, 1, 1, 1, 1, 1, 1, 1, 1, 1, 1, 1, 1, 1, 1, 1, 1, 1, 1, 1, 1, 1, 1, 1, 1, 1, 1, 1, 1, 1, 1, 1, 1, 1, 1, 1, 1, 1, 1, 1, 1, 1, 1, 1, 1, 1, 1, 1, 1, 1, 1, 2, 2, 2, 2, 2, 2, 2, 2, 2, 2, 2, 2, 2, 2, 2, 2, 2, 2, 2, 2, 2, 2, 2, 2, 2, 2, 2, 2, 2, 2, 2, 2, 2, 2, 3, 3, 3, 3, 3, 3, 3, 3, 3, 3, 3, 3, 3, 3, 3, 3, 3, 3, 3, 3, 3, 4, 4, 4, 4, 4, 4, 4, 4, 4, 4, 4, 4, 4, 4, 4, 4, 5, 5, 5, 5, 5, 5, 5, 5, 5, 5, 5, 5, 5, 5, 5, 5, 5, 6, 6, 6, 6, 6, 6, 6, 6, 6, 6, 6, 6, 6, 6, 6, 7, 7, 7, 7, 7, 7, 7, 7, 7, 7, 8, 8, 8, 8, 8, 8, 8, 9, 9, 9, 9, 9, 9, 9, 9, 10, 10, 10, 10, 10, 11, 11, 11, 11, 11, 11, 11, 11, 12, 12, 12, 12, 12, 12, 12, 13, 13, 13, 13, 13, 13, 13, 13, 14, 14, 14, 14, 14, 14, 14, 14, 14, 15, 15, 15, 16, 16, 16, 16, 17, 17, 17, 18, 19, 19, 19, 19, 19, 19, 19, 20, 20, 20, 21, 21, 22, 22, 22, 23, 23, 23, 24, 24, 24, 25, 25, 26, 26, 27, 27, 27, 27, 27, 28, 28, 29, 29, 29, 29, 30, 30, 31, 31, 32, 32, 32, 33, 33, 33, 33, 33, 33, 34, 34, 34, 35, 35, 35, 35, 36, 36, 37, 38, 38, 38, 39, 40, 41, 42, 42, 42, 43, 43, 43, 43, 43, 43, 44, 44, 44, 44, 44, 45, 45, 45, 45, 45, 45, 46, 46, 46, 46, 48, 48, 48, 49, 49, 49, 50, 50, 50, 50, 51, 51, 51, 52, 52, 53, 53, 53, 53, 54, 54, 55, 56, 56, 56, 57, 57, 57, 57, 58, 58, 58, 58, 59, 59, 59, 60, 60, 62, 62, 62, 62, 62, 63, 63, 63, 63, 64, 64, 65, 65, 66, 67, 68, 71, 71, 71, 72, 72, 73, 74, 74, 75, 75, 75, 76, 76, 76, 76, 77, 78, 78, 80, 81, 81, 82, 83, 83, 83, 84, 85, 87, 87, 88, 88, 88, 91, 91, 92, 92, 97, 97, 100, 101, 101, 102, 103, 104, 104, 104, 105, 105, 108, 112, 112, 113, 113, 114, 114, 114, 114, 114, 115, 115, 115, 116, 116, 120, 120, 121, 121, 123, 125, 125, 125, 125, 125, 126, 126, 126, 128, 130, 130, 130, 130, 130, 130, 131, 132, 136, 137, 137, 138, 138, 139, 140, 141, 141, 141, 142, 142, 142, 142, 142, 142, 143, 145, 145, 146, 147, 148, 148, 148, 150, 150, 150, 151, 152, 152, 153, 153, 154, 155, 155, 156, 157, 157, 158, 158, 158, 160, 161, 161, 161, 162, 163, 165, 165, 165, 166, 168, 168, 170, 176, 182, 182, 184, 188, 196, 198, 200, 203, 204, 211, 216, 221, 247, 247, 252, 271, 309, 330, 363, 455, 508, 650, 665, 937, 1150, 1348, 1893, 2450, 2587, 3019]\n",
            "모든 의원이 서로 연결되어있으므로 이 그래프의 degree of separation은 1\n"
          ]
        }
      ],
      "source": [
        "dos = sorted(list(graph_edge.법안.value_counts()))\n",
        "print(dos, sep = ' ')\n",
        "print('모든 의원이 서로 연결되어있으므로 이 그래프의 degree of separation은 1')"
      ]
    },
    {
      "cell_type": "markdown",
      "metadata": {
        "id": "Gl5zjKWKYdhc"
      },
      "source": [
        "3. 법안에 참여하는 의원 수 분포"
      ]
    },
    {
      "cell_type": "code",
      "execution_count": 1822,
      "metadata": {
        "colab": {
          "base_uri": "https://localhost:8080/"
        },
        "id": "P8wR3cFQXl69",
        "outputId": "2c515b69-a392-4232-84a7-0ea3859c8206"
      },
      "outputs": [
        {
          "name": "stdout",
          "output_type": "stream",
          "text": [
            "[281, 281, 281, 281, 281, 281, 281, 281, 281, 281, 281, 281, 281, 281, 281, 281, 278, 278, 278, 278, 278, 278, 278, 278, 278, 278, 278, 278, 270, 270, 270, 263, 263, 263, 263, 263, 263, 263, 263, 263, 261, 261, 261, 261, 261, 261, 261, 261, 260, 260, 260, 260, 260, 186, 182, 182, 181, 181, 181, 181, 180, 177, 175, 174, 169, 169, 169, 169, 168, 168, 168, 168, 168, 168, 168, 168, 168, 168, 168, 168, 168, 168, 167, 167, 167, 167, 167, 167, 167, 167, 167, 167, 167, 166, 166, 166, 166, 166, 166, 165, 165, 165, 155, 146, 135, 135, 132, 132, 131, 129, 125, 125, 124, 124, 123, 122, 119, 117, 113, 113, 113, 113, 113, 111, 111, 107, 106, 106, 103, 103, 103, 102, 102, 100, 100, 100, 100, 99, 99, 99, 98, 98, 97, 97, 97, 95, 95, 95, 95, 94, 94, 94, 94, 94, 94, 94, 94, 94, 94, 93, 93, 93, 92, 92, 88, 87, 85, 83, 82, 82, 81, 81, 81, 78, 77, 77, 74, 74, 73, 72, 72, 72, 70, 69, 69, 68, 68, 67, 66, 65, 65, 65, 65, 65, 65, 64, 62, 62, 62, 62, 61, 61, 61, 61, 61, 61, 61, 60, 60, 60, 60, 60, 60, 59, 59, 59, 59, 59, 58, 58, 58, 58, 57, 57, 57, 57, 56, 56, 56, 56, 55, 55, 55, 55, 55, 54, 54, 54, 54, 53, 52, 52, 52, 52, 52, 52, 52, 52, 52, 52, 51, 51, 51, 51, 50, 50, 50, 50, 50, 49, 49, 49, 49, 49, 49, 49, 49, 48, 48, 48, 48, 48, 47, 47, 47, 47, 47, 47, 46, 46, 46, 46, 46, 46, 46, 46, 46, 46, 46, 46, 46, 45, 45, 45, 44, 44, 44, 44, 44, 44, 44, 43, 43, 43, 43, 43, 43, 43, 43, 43, 42, 42, 42, 42, 42, 42, 42, 42, 42, 42, 41, 41, 41, 41, 41, 41, 41, 41, 41, 40, 40, 40, 40, 40, 40, 40, 40, 39, 39, 39, 39, 39, 39, 39, 39, 39, 39, 39, 39, 39, 39, 39, 39, 38, 38, 38, 38, 38, 38, 38, 38, 38, 38, 37, 37, 37, 37, 37, 37, 37, 37, 37, 37, 37, 37, 37, 37, 37, 36, 36, 36, 36, 36, 36, 36, 36, 36, 36, 36, 36, 36, 36, 36, 36, 36, 36, 36, 36, 36, 36, 35, 35, 35, 35, 35, 35, 35, 35, 35, 35, 35, 35, 35, 35, 35, 35, 35, 35, 35, 35, 35, 35, 35, 35, 34, 34, 34, 34, 34, 34, 34, 34, 34, 34, 34, 34, 34, 34, 34, 34, 34, 34, 34, 34, 34, 34, 34, 34, 34, 34, 34, 34, 33, 33, 33, 33, 33, 33, 33, 33, 33, 33, 33, 33, 33, 33, 33, 33, 33, 32, 32, 32, 32, 32, 32, 32, 32, 32, 32, 32, 32, 32, 32, 32, 32, 32, 32, 32, 32, 32, 32, 32, 32, 31, 31, 31, 31, 31, 31, 31, 31, 31, 31, 31, 31, 31, 31, 31, 31, 31, 31, 31, 31, 31, 31, 30, 30, 30, 30, 30, 30, 30, 30, 30, 30, 30, 30, 30, 30, 30, 30, 30, 30, 30, 30, 30, 30, 30, 30, 30, 30, 30, 30, 30, 30, 30, 30, 29, 29, 29, 29, 29, 29, 29, 29, 29, 29, 29, 29, 29, 29, 29, 29, 29, 29, 29, 29, 29, 29, 29, 29, 29, 29, 29, 29, 29, 29, 29, 29, 29, 29, 29, 29, 29, 29, 29, 28, 28, 28, 28, 28, 28, 28, 28, 28, 28, 28, 28, 28, 28, 28, 28, 28, 28, 28, 28, 28, 28, 28, 28, 28, 28, 28, 28, 28, 28, 28, 28, 28, 28, 28, 28, 28, 28, 28, 28, 28, 28, 28, 28, 28, 28, 28, 27, 27, 27, 27, 27, 27, 27, 27, 27, 27, 27, 27, 27, 27, 27, 27, 27, 27, 27, 27, 27, 27, 27, 27, 27, 27, 27, 27, 27, 27, 27, 27, 27, 27, 27, 27, 27, 27, 27, 27, 27, 26, 26, 26, 26, 26, 26, 26, 26, 26, 26, 26, 26, 26, 26, 26, 26, 26, 26, 26, 26, 26, 26, 26, 26, 26, 26, 26, 26, 26, 26, 26, 26, 26, 26, 26, 26, 26, 26, 26, 26, 25, 25, 25, 25, 25, 25, 25, 25, 25, 25, 25, 25, 25, 25, 25, 25, 25, 25, 25, 25, 25, 25, 25, 25, 25, 25, 25, 25, 25, 25, 25, 25, 25, 25, 25, 25, 25, 25, 25, 25, 25, 25, 25, 25, 25, 25, 25, 25, 25, 25, 25, 24, 24, 24, 24, 24, 24, 24, 24, 24, 24, 24, 24, 24, 24, 24, 24, 24, 24, 24, 24, 24, 24, 24, 24, 24, 24, 24, 24, 24, 24, 24, 24, 24, 24, 24, 24, 24, 24, 24, 24, 24, 24, 24, 24, 24, 24, 24, 24, 24, 24, 24, 24, 24, 24, 24, 24, 24, 24, 24, 24, 24, 24, 24, 24, 24, 24, 24, 24, 24, 24, 24, 24, 23, 23, 23, 23, 23, 23, 23, 23, 23, 23, 23, 23, 23, 23, 23, 23, 23, 23, 23, 23, 23, 23, 23, 23, 23, 23, 23, 23, 23, 23, 23, 23, 23, 23, 23, 23, 23, 23, 23, 23, 23, 23, 23, 23, 23, 23, 23, 23, 23, 23, 23, 23, 23, 23, 23, 23, 23, 23, 23, 23, 23, 23, 23, 23, 23, 23, 23, 23, 23, 23, 23, 23, 23, 23, 23, 23, 23, 23, 23, 23, 23, 23, 23, 23, 23, 23, 23, 23, 23, 23, 23, 23, 23, 23, 23, 23, 22, 22, 22, 22, 22, 22, 22, 22, 22, 22, 22, 22, 22, 22, 22, 22, 22, 22, 22, 22, 22, 22, 22, 22, 22, 22, 22, 22, 22, 22, 22, 22, 22, 22, 22, 22, 22, 22, 22, 22, 22, 22, 22, 22, 22, 22, 22, 22, 22, 22, 22, 22, 22, 22, 22, 22, 22, 22, 22, 22, 22, 22, 22, 22, 22, 22, 22, 22, 22, 22, 22, 22, 22, 22, 22, 22, 22, 22, 22, 22, 22, 22, 22, 22, 22, 22, 22, 22, 22, 22, 22, 22, 22, 22, 22, 22, 22, 22, 22, 22, 22, 22, 22, 22, 21, 21, 21, 21, 21, 21, 21, 21, 21, 21, 21, 21, 21, 21, 21, 21, 21, 21, 21, 21, 21, 21, 21, 21, 21, 21, 21, 21, 21, 21, 21, 21, 21, 21, 21, 21, 21, 21, 21, 21, 21, 21, 21, 21, 21, 21, 21, 21, 21, 21, 21, 21, 21, 21, 21, 21, 21, 21, 21, 21, 21, 21, 21, 21, 21, 21, 21, 21, 21, 21, 21, 21, 21, 21, 21, 21, 21, 21, 21, 21, 21, 21, 21, 21, 21, 21, 21, 21, 21, 21, 21, 21, 21, 21, 21, 21, 21, 21, 21, 21, 21, 21, 21, 21, 21, 21, 21, 21, 21, 21, 21, 21, 21, 21, 21, 21, 21, 21, 21, 21, 21, 21, 21, 20, 20, 20, 20, 20, 20, 20, 20, 20, 20, 20, 20, 20, 20, 20, 20, 20, 20, 20, 20, 20, 20, 20, 20, 20, 20, 20, 20, 20, 20, 20, 20, 20, 20, 20, 20, 20, 20, 20, 20, 20, 20, 20, 20, 20, 20, 20, 20, 20, 20, 20, 20, 20, 20, 20, 20, 20, 20, 20, 20, 20, 20, 20, 20, 20, 20, 20, 20, 20, 20, 20, 20, 20, 20, 20, 20, 20, 20, 20, 20, 20, 20, 20, 20, 20, 20, 20, 20, 20, 20, 20, 20, 20, 20, 20, 20, 20, 20, 20, 20, 20, 20, 20, 20, 20, 20, 20, 20, 20, 20, 20, 20, 20, 20, 20, 20, 20, 20, 20, 20, 20, 20, 20, 20, 20, 20, 20, 20, 20, 20, 20, 20, 20, 20, 20, 20, 20, 20, 20, 20, 20, 20, 20, 20, 20, 20, 20, 20, 20, 20, 20, 20, 20, 20, 20, 20, 20, 20, 20, 20, 20, 20, 20, 20, 20, 20, 20, 20, 20, 20, 20, 20, 20, 20, 20, 20, 20, 20, 20, 20, 20, 20, 20, 20, 20, 20, 19, 19, 19, 19, 19, 19, 19, 19, 19, 19, 19, 19, 19, 19, 19, 19, 19, 19, 19, 19, 19, 19, 19, 19, 19, 19, 19, 19, 19, 19, 19, 19, 19, 19, 19, 19, 19, 19, 19, 19, 19, 19, 19, 19, 19, 19, 19, 19, 19, 19, 19, 19, 19, 19, 19, 19, 19, 19, 19, 19, 19, 19, 19, 19, 19, 19, 19, 19, 19, 19, 19, 19, 19, 19, 19, 19, 19, 19, 19, 19, 19, 19, 19, 19, 19, 19, 19, 19, 19, 19, 19, 19, 19, 19, 19, 19, 19, 19, 19, 19, 19, 19, 19, 19, 19, 19, 19, 19, 19, 19, 19, 19, 19, 19, 19, 19, 19, 19, 19, 19, 19, 19, 19, 19, 19, 19, 19, 19, 19, 19, 19, 19, 19, 19, 19, 19, 19, 19, 19, 19, 19, 19, 19, 19, 19, 19, 19, 19, 19, 19, 19, 19, 19, 19, 19, 19, 19, 19, 19, 19, 19, 19, 19, 19, 19, 19, 19, 19, 19, 19, 19, 19, 19, 19, 19, 19, 19, 19, 19, 19, 19, 19, 19, 19, 19, 19, 19, 19, 19, 19, 19, 19, 19, 19, 19, 19, 19, 19, 19, 19, 19, 19, 19, 19, 19, 19, 19, 19, 19, 19, 19, 19, 19, 19, 19, 19, 18, 18, 18, 18, 18, 18, 18, 18, 18, 18, 18, 18, 18, 18, 18, 18, 18, 18, 18, 18, 18, 18, 18, 18, 18, 18, 18, 18, 18, 18, 18, 18, 18, 18, 18, 18, 18, 18, 18, 18, 18, 18, 18, 18, 18, 18, 18, 18, 18, 18, 18, 18, 18, 18, 18, 18, 18, 18, 18, 18, 18, 18, 18, 18, 18, 18, 18, 18, 18, 18, 18, 18, 18, 18, 18, 18, 18, 18, 18, 18, 18, 18, 18, 18, 18, 18, 18, 18, 18, 18, 18, 18, 18, 18, 18, 18, 18, 18, 18, 18, 18, 18, 18, 18, 18, 18, 18, 18, 18, 18, 18, 18, 18, 18, 18, 18, 18, 18, 18, 18, 18, 18, 18, 18, 18, 18, 18, 18, 18, 18, 18, 18, 18, 18, 18, 18, 18, 18, 18, 18, 18, 18, 18, 18, 18, 18, 18, 18, 18, 18, 18, 18, 18, 18, 18, 18, 18, 18, 18, 18, 18, 18, 18, 18, 18, 18, 18, 18, 18, 18, 18, 18, 18, 18, 18, 18, 18, 18, 18, 18, 18, 18, 18, 18, 18, 18, 18, 18, 18, 18, 18, 18, 18, 18, 18, 18, 18, 18, 18, 18, 18, 18, 18, 18, 18, 18, 18, 18, 18, 18, 18, 18, 18, 18, 18, 18, 18, 18, 18, 18, 18, 18, 18, 18, 18, 18, 18, 18, 18, 18, 18, 18, 18, 18, 18, 18, 18, 18, 18, 18, 18, 18, 18, 18, 18, 18, 18, 18, 18, 18, 18, 18, 18, 18, 18, 18, 18, 18, 18, 17, 17, 17, 17, 17, 17, 17, 17, 17, 17, 17, 17, 17, 17, 17, 17, 17, 17, 17, 17, 17, 17, 17, 17, 17, 17, 17, 17, 17, 17, 17, 17, 17, 17, 17, 17, 17, 17, 17, 17, 17, 17, 17, 17, 17, 17, 17, 17, 17, 17, 17, 17, 17, 17, 17, 17, 17, 17, 17, 17, 17, 17, 17, 17, 17, 17, 17, 17, 17, 17, 17, 17, 17, 17, 17, 17, 17, 17, 17, 17, 17, 17, 17, 17, 17, 17, 17, 17, 17, 17, 17, 17, 17, 17, 17, 17, 17, 17, 17, 17, 17, 17, 17, 17, 17, 17, 17, 17, 17, 17, 17, 17, 17, 17, 17, 17, 17, 17, 17, 17, 17, 17, 17, 17, 17, 17, 17, 17, 17, 17, 17, 17, 17, 17, 17, 17, 17, 17, 17, 17, 17, 17, 17, 17, 17, 17, 17, 17, 17, 17, 17, 17, 17, 17, 17, 17, 17, 17, 17, 17, 17, 17, 17, 17, 17, 17, 17, 17, 17, 17, 17, 17, 17, 17, 17, 17, 17, 17, 17, 17, 17, 17, 17, 17, 17, 17, 17, 17, 17, 17, 17, 17, 17, 17, 17, 17, 17, 17, 17, 17, 17, 17, 17, 17, 17, 17, 17, 17, 17, 17, 17, 17, 17, 17, 17, 17, 17, 17, 17, 17, 17, 17, 17, 17, 17, 17, 17, 17, 17, 17, 17, 17, 17, 17, 17, 17, 17, 17, 17, 17, 17, 17, 17, 17, 17, 17, 17, 17, 17, 17, 17, 17, 17, 17, 17, 17, 17, 17, 17, 17, 17, 17, 17, 17, 17, 17, 17, 17, 17, 17, 17, 17, 17, 17, 17, 17, 17, 17, 17, 17, 17, 17, 17, 17, 17, 17, 17, 17, 17, 17, 17, 17, 17, 17, 17, 17, 17, 17, 17, 17, 17, 17, 17, 17, 17, 17, 17, 17, 17, 17, 17, 17, 17, 17, 17, 17, 17, 17, 17, 17, 17, 17, 17, 17, 17, 17, 17, 17, 16, 16, 16, 16, 16, 16, 16, 16, 16, 16, 16, 16, 16, 16, 16, 16, 16, 16, 16, 16, 16, 16, 16, 16, 16, 16, 16, 16, 16, 16, 16, 16, 16, 16, 16, 16, 16, 16, 16, 16, 16, 16, 16, 16, 16, 16, 16, 16, 16, 16, 16, 16, 16, 16, 16, 16, 16, 16, 16, 16, 16, 16, 16, 16, 16, 16, 16, 16, 16, 16, 16, 16, 16, 16, 16, 16, 16, 16, 16, 16, 16, 16, 16, 16, 16, 16, 16, 16, 16, 16, 16, 16, 16, 16, 16, 16, 16, 16, 16, 16, 16, 16, 16, 16, 16, 16, 16, 16, 16, 16, 16, 16, 16, 16, 16, 16, 16, 16, 16, 16, 16, 16, 16, 16, 16, 16, 16, 16, 16, 16, 16, 16, 16, 16, 16, 16, 16, 16, 16, 16, 16, 16, 16, 16, 16, 16, 16, 16, 16, 16, 16, 16, 16, 16, 16, 16, 16, 16, 16, 16, 16, 16, 16, 16, 16, 16, 16, 16, 16, 16, 16, 16, 16, 16, 16, 16, 16, 16, 16, 16, 16, 16, 16, 16, 16, 16, 16, 16, 16, 16, 16, 16, 16, 16, 16, 16, 16, 16, 16, 16, 16, 16, 16, 16, 16, 16, 16, 16, 16, 16, 16, 16, 16, 16, 16, 16, 16, 16, 16, 16, 16, 16, 16, 16, 16, 16, 16, 16, 16, 16, 16, 16, 16, 16, 16, 16, 16, 16, 16, 16, 16, 16, 16, 16, 16, 16, 16, 16, 16, 16, 16, 16, 16, 16, 16, 16, 16, 16, 16, 16, 16, 16, 16, 16, 16, 16, 16, 16, 16, 16, 16, 16, 16, 16, 16, 16, 16, 16, 16, 16, 16, 16, 16, 16, 16, 16, 16, 16, 16, 16, 16, 16, 16, 16, 16, 16, 16, 16, 16, 16, 16, 16, 16, 16, 16, 16, 16, 16, 16, 16, 16, 16, 16, 16, 16, 16, 16, 16, 16, 16, 16, 16, 16, 16, 16, 16, 16, 16, 16, 16, 16, 16, 16, 16, 16, 16, 16, 16, 16, 16, 16, 16, 16, 16, 16, 16, 16, 16, 16, 16, 16, 16, 16, 16, 16, 16, 16, 16, 16, 16, 16, 16, 16, 16, 16, 16, 16, 16, 16, 16, 16, 16, 16, 16, 16, 16, 16, 16, 16, 16, 16, 16, 16, 16, 16, 16, 16, 16, 16, 16, 16, 16, 16, 16, 16, 16, 16, 16, 16, 16, 16, 16, 16, 16, 16, 16, 16, 16, 16, 16, 16, 16, 16, 16, 16, 16, 16, 16, 16, 16, 16, 16, 16, 16, 16, 16, 16, 16, 16, 16, 16, 16, 16, 16, 16, 16, 16, 16, 16, 16, 16, 16, 16, 16, 16, 16, 16, 16, 16, 16, 16, 16, 16, 15, 15, 15, 15, 15, 15, 15, 15, 15, 15, 15, 15, 15, 15, 15, 15, 15, 15, 15, 15, 15, 15, 15, 15, 15, 15, 15, 15, 15, 15, 15, 15, 15, 15, 15, 15, 15, 15, 15, 15, 15, 15, 15, 15, 15, 15, 15, 15, 15, 15, 15, 15, 15, 15, 15, 15, 15, 15, 15, 15, 15, 15, 15, 15, 15, 15, 15, 15, 15, 15, 15, 15, 15, 15, 15, 15, 15, 15, 15, 15, 15, 15, 15, 15, 15, 15, 15, 15, 15, 15, 15, 15, 15, 15, 15, 15, 15, 15, 15, 15, 15, 15, 15, 15, 15, 15, 15, 15, 15, 15, 15, 15, 15, 15, 15, 15, 15, 15, 15, 15, 15, 15, 15, 15, 15, 15, 15, 15, 15, 15, 15, 15, 15, 15, 15, 15, 15, 15, 15, 15, 15, 15, 15, 15, 15, 15, 15, 15, 15, 15, 15, 15, 15, 15, 15, 15, 15, 15, 15, 15, 15, 15, 15, 15, 15, 15, 15, 15, 15, 15, 15, 15, 15, 15, 15, 15, 15, 15, 15, 15, 15, 15, 15, 15, 15, 15, 15, 15, 15, 15, 15, 15, 15, 15, 15, 15, 15, 15, 15, 15, 15, 15, 15, 15, 15, 15, 15, 15, 15, 15, 15, 15, 15, 15, 15, 15, 15, 15, 15, 15, 15, 15, 15, 15, 15, 15, 15, 15, 15, 15, 15, 15, 15, 15, 15, 15, 15, 15, 15, 15, 15, 15, 15, 15, 15, 15, 15, 15, 15, 15, 15, 15, 15, 15, 15, 15, 15, 15, 15, 15, 15, 15, 15, 15, 15, 15, 15, 15, 15, 15, 15, 15, 15, 15, 15, 15, 15, 15, 15, 15, 15, 15, 15, 15, 15, 15, 15, 15, 15, 15, 15, 15, 15, 15, 15, 15, 15, 15, 15, 15, 15, 15, 15, 15, 15, 15, 15, 15, 15, 15, 15, 15, 15, 15, 15, 15, 15, 15, 15, 15, 15, 15, 15, 15, 15, 15, 15, 15, 15, 15, 15, 15, 15, 15, 15, 15, 15, 15, 15, 15, 15, 15, 15, 15, 15, 15, 15, 15, 15, 15, 15, 15, 15, 15, 15, 15, 15, 15, 15, 15, 15, 15, 15, 15, 15, 15, 15, 15, 15, 15, 15, 15, 15, 15, 15, 15, 15, 15, 15, 15, 15, 15, 15, 15, 15, 15, 15, 15, 15, 15, 15, 15, 15, 15, 15, 15, 15, 15, 15, 15, 15, 15, 15, 15, 15, 15, 15, 15, 15, 15, 15, 15, 15, 15, 15, 15, 15, 15, 15, 15, 15, 15, 15, 15, 15, 15, 15, 15, 15, 15, 15, 15, 15, 15, 15, 15, 15, 15, 15, 15, 15, 15, 15, 15, 15, 15, 15, 15, 15, 15, 15, 15, 15, 15, 15, 15, 15, 15, 15, 15, 15, 15, 15, 15, 15, 15, 15, 15, 15, 15, 15, 15, 15, 15, 15, 15, 15, 15, 15, 15, 15, 15, 15, 15, 15, 15, 15, 15, 15, 15, 15, 15, 15, 15, 15, 15, 15, 15, 15, 15, 15, 15, 15, 15, 15, 15, 15, 15, 15, 15, 15, 15, 15, 15, 15, 15, 15, 15, 15, 15, 15, 15, 15, 15, 15, 15, 15, 15, 15, 15, 15, 15, 15, 15, 15, 15, 15, 15, 15, 15, 15, 15, 15, 15, 15, 15, 15, 15, 15, 15, 15, 15, 15, 15, 15, 15, 15, 15, 15, 15, 15, 15, 15, 15, 15, 15, 15, 15, 15, 15, 15, 15, 15, 15, 15, 15, 15, 15, 15, 15, 15, 15, 15, 15, 15, 15, 15, 15, 15, 15, 15, 15, 15, 15, 15, 15, 15, 15, 15, 15, 15, 15, 15, 15, 15, 15, 15, 15, 15, 15, 15, 15, 15, 15, 15, 15, 15, 15, 15, 15, 15, 15, 15, 15, 15, 15, 15, 15, 15, 15, 15, 15, 15, 15, 15, 15, 15, 15, 15, 15, 15, 15, 15, 15, 15, 15, 15, 15, 15, 15, 15, 15, 15, 15, 15, 15, 15, 15, 15, 15, 15, 15, 15, 15, 15, 15, 15, 15, 15, 15, 15, 15, 15, 15, 15, 15, 15, 15, 15, 15, 15, 15, 15, 15, 15, 15, 15, 15, 15, 15, 15, 15, 15, 14, 14, 14, 14, 14, 14, 14, 14, 14, 14, 14, 14, 14, 14, 14, 14, 14, 14, 14, 14, 14, 14, 14, 14, 14, 14, 14, 14, 14, 14, 14, 14, 14, 14, 14, 14, 14, 14, 14, 14, 14, 14, 14, 14, 14, 14, 14, 14, 14, 14, 14, 14, 14, 14, 14, 14, 14, 14, 14, 14, 14, 14, 14, 14, 14, 14, 14, 14, 14, 14, 14, 14, 14, 14, 14, 14, 14, 14, 14, 14, 14, 14, 14, 14, 14, 14, 14, 14, 14, 14, 14, 14, 14, 14, 14, 14, 14, 14, 14, 14, 14, 14, 14, 14, 14, 14, 14, 14, 14, 14, 14, 14, 14, 14, 14, 14, 14, 14, 14, 14, 14, 14, 14, 14, 14, 14, 14, 14, 14, 14, 14, 14, 14, 14, 14, 14, 14, 14, 14, 14, 14, 14, 14, 14, 14, 14, 14, 14, 14, 14, 14, 14, 14, 14, 14, 14, 14, 14, 14, 14, 14, 14, 14, 14, 14, 14, 14, 14, 14, 14, 14, 14, 14, 14, 14, 14, 14, 14, 14, 14, 14, 14, 14, 14, 14, 14, 14, 14, 14, 14, 14, 14, 14, 14, 14, 14, 14, 14, 14, 14, 14, 14, 14, 14, 14, 14, 14, 14, 14, 14, 14, 14, 14, 14, 14, 14, 14, 14, 14, 14, 14, 14, 14, 14, 14, 14, 14, 14, 14, 14, 14, 14, 14, 14, 14, 14, 14, 14, 14, 14, 14, 14, 14, 14, 14, 14, 14, 14, 14, 14, 14, 14, 14, 14, 14, 14, 14, 14, 14, 14, 14, 14, 14, 14, 14, 14, 14, 14, 14, 14, 14, 14, 14, 14, 14, 14, 14, 14, 14, 14, 14, 14, 14, 14, 14, 14, 14, 14, 14, 14, 14, 14, 14, 14, 14, 14, 14, 14, 14, 14, 14, 14, 14, 14, 14, 14, 14, 14, 14, 14, 14, 14, 14, 14, 14, 14, 14, 14, 14, 14, 14, 14, 14, 14, 14, 14, 14, 14, 14, 14, 14, 14, 14, 14, 14, 14, 14, 14, 14, 14, 14, 14, 14, 14, 14, 14, 14, 14, 14, 14, 14, 14, 14, 14, 14, 14, 14, 14, 14, 14, 14, 14, 14, 14, 14, 14, 14, 14, 14, 14, 14, 14, 14, 14, 14, 14, 14, 14, 14, 14, 14, 14, 14, 14, 14, 14, 14, 14, 14, 14, 14, 14, 14, 14, 14, 14, 14, 14, 14, 14, 14, 14, 14, 14, 14, 14, 14, 14, 14, 14, 14, 14, 14, 14, 14, 14, 14, 14, 14, 14, 14, 14, 14, 14, 14, 14, 14, 14, 14, 14, 14, 14, 14, 14, 14, 14, 14, 14, 14, 14, 14, 14, 14, 14, 14, 14, 14, 14, 14, 14, 14, 14, 14, 14, 14, 14, 14, 14, 14, 14, 14, 14, 14, 14, 14, 14, 14, 14, 14, 14, 14, 14, 14, 14, 14, 14, 14, 14, 14, 14, 14, 14, 14, 14, 14, 14, 14, 14, 14, 14, 14, 14, 14, 14, 14, 14, 14, 14, 14, 14, 14, 14, 14, 14, 14, 14, 14, 14, 14, 14, 14, 14, 14, 14, 14, 14, 14, 14, 14, 14, 14, 14, 14, 14, 14, 14, 14, 14, 14, 14, 14, 14, 14, 14, 14, 14, 14, 14, 14, 14, 14, 14, 14, 14, 14, 14, 14, 14, 14, 14, 14, 14, 14, 14, 14, 14, 14, 14, 14, 14, 14, 14, 14, 14, 14, 14, 14, 14, 14, 14, 14, 14, 14, 14, 14, 14, 14, 14, 14, 14, 14, 14, 14, 14, 14, 14, 14, 14, 14, 14, 14, 14, 14, 14, 14, 14, 14, 14, 14, 14, 14, 14, 14, 14, 14, 14, 14, 14, 14, 14, 14, 14, 14, 14, 14, 14, 14, 14, 14, 14, 14, 14, 14, 14, 14, 14, 14, 14, 14, 14, 14, 14, 14, 14, 14, 14, 14, 14, 14, 14, 14, 14, 14, 14, 14, 14, 14, 14, 14, 14, 14, 14, 14, 14, 14, 14, 14, 14, 14, 14, 14, 14, 14, 14, 14, 14, 14, 14, 14, 14, 14, 14, 14, 14, 14, 14, 14, 14, 14, 14, 14, 14, 14, 14, 14, 14, 14, 14, 14, 14, 14, 14, 14, 14, 14, 14, 14, 14, 14, 14, 14, 14, 14, 14, 14, 14, 14, 14, 14, 14, 14, 14, 14, 14, 14, 14, 14, 14, 14, 14, 14, 14, 14, 14, 14, 14, 14, 14, 14, 14, 14, 14, 14, 14, 14, 14, 14, 14, 14, 14, 14, 14, 14, 14, 14, 14, 14, 14, 14, 14, 14, 14, 14, 14, 14, 14, 14, 14, 14, 14, 14, 14, 14, 14, 14, 14, 14, 14, 14, 14, 14, 14, 14, 14, 14, 14, 14, 14, 14, 14, 14, 14, 14, 14, 14, 14, 14, 14, 14, 14, 14, 14, 14, 14, 14, 14, 14, 14, 14, 14, 14, 14, 14, 14, 14, 14, 14, 14, 14, 14, 14, 14, 14, 14, 14, 14, 14, 14, 14, 14, 14, 14, 14, 14, 14, 14, 14, 14, 14, 14, 14, 14, 14, 14, 14, 14, 14, 14, 14, 14, 14, 14, 14, 14, 14, 14, 14, 14, 14, 14, 14, 14, 14, 14, 14, 14, 14, 14, 14, 14, 14, 14, 14, 14, 14, 14, 14, 14, 14, 14, 14, 14, 14, 14, 14, 14, 14, 14, 14, 14, 14, 14, 14, 14, 14, 14, 14, 14, 14, 14, 14, 14, 14, 14, 14, 14, 14, 14, 14, 14, 14, 14, 14, 14, 14, 14, 14, 14, 14, 14, 14, 14, 14, 14, 14, 14, 14, 14, 14, 14, 14, 14, 14, 14, 14, 14, 14, 14, 14, 14, 14, 14, 14, 14, 14, 14, 14, 14, 14, 14, 14, 14, 14, 14, 14, 14, 14, 14, 14, 14, 14, 14, 14, 14, 14, 14, 14, 14, 14, 14, 14, 14, 14, 14, 14, 14, 14, 13, 13, 13, 13, 13, 13, 13, 13, 13, 13, 13, 13, 13, 13, 13, 13, 13, 13, 13, 13, 13, 13, 13, 13, 13, 13, 13, 13, 13, 13, 13, 13, 13, 13, 13, 13, 13, 13, 13, 13, 13, 13, 13, 13, 13, 13, 13, 13, 13, 13, 13, 13, 13, 13, 13, 13, 13, 13, 13, 13, 13, 13, 13, 13, 13, 13, 13, 13, 13, 13, 13, 13, 13, 13, 13, 13, 13, 13, 13, 13, 13, 13, 13, 13, 13, 13, 13, 13, 13, 13, 13, 13, 13, 13, 13, 13, 13, 13, 13, 13, 13, 13, 13, 13, 13, 13, 13, 13, 13, 13, 13, 13, 13, 13, 13, 13, 13, 13, 13, 13, 13, 13, 13, 13, 13, 13, 13, 13, 13, 13, 13, 13, 13, 13, 13, 13, 13, 13, 13, 13, 13, 13, 13, 13, 13, 13, 13, 13, 13, 13, 13, 13, 13, 13, 13, 13, 13, 13, 13, 13, 13, 13, 13, 13, 13, 13, 13, 13, 13, 13, 13, 13, 13, 13, 13, 13, 13, 13, 13, 13, 13, 13, 13, 13, 13, 13, 13, 13, 13, 13, 13, 13, 13, 13, 13, 13, 13, 13, 13, 13, 13, 13, 13, 13, 13, 13, 13, 13, 13, 13, 13, 13, 13, 13, 13, 13, 13, 13, 13, 13, 13, 13, 13, 13, 13, 13, 13, 13, 13, 13, 13, 13, 13, 13, 13, 13, 13, 13, 13, 13, 13, 13, 13, 13, 13, 13, 13, 13, 13, 13, 13, 13, 13, 13, 13, 13, 13, 13, 13, 13, 13, 13, 13, 13, 13, 13, 13, 13, 13, 13, 13, 13, 13, 13, 13, 13, 13, 13, 13, 13, 13, 13, 13, 13, 13, 13, 13, 13, 13, 13, 13, 13, 13, 13, 13, 13, 13, 13, 13, 13, 13, 13, 13, 13, 13, 13, 13, 13, 13, 13, 13, 13, 13, 13, 13, 13, 13, 13, 13, 13, 13, 13, 13, 13, 13, 13, 13, 13, 13, 13, 13, 13, 13, 13, 13, 13, 13, 13, 13, 13, 13, 13, 13, 13, 13, 13, 13, 13, 13, 13, 13, 13, 13, 13, 13, 13, 13, 13, 13, 13, 13, 13, 13, 13, 13, 13, 13, 13, 13, 13, 13, 13, 13, 13, 13, 13, 13, 13, 13, 13, 13, 13, 13, 13, 13, 13, 13, 13, 13, 13, 13, 13, 13, 13, 13, 13, 13, 13, 13, 13, 13, 13, 13, 13, 13, 13, 13, 13, 13, 13, 13, 13, 13, 13, 13, 13, 13, 13, 13, 13, 13, 13, 13, 13, 13, 13, 13, 13, 13, 13, 13, 13, 13, 13, 13, 13, 13, 13, 13, 13, 13, 13, 13, 13, 13, 13, 13, 13, 13, 13, 13, 13, 13, 13, 13, 13, 13, 13, 13, 13, 13, 13, 13, 13, 13, 13, 13, 13, 13, 13, 13, 13, 13, 13, 13, 13, 13, 13, 13, 13, 13, 13, 13, 13, 13, 13, 13, 13, 13, 13, 13, 13, 13, 13, 13, 13, 13, 13, 13, 13, 13, 13, 13, 13, 13, 13, 13, 13, 13, 13, 13, 13, 13, 13, 13, 13, 13, 13, 13, 13, 13, 13, 13, 13, 13, 13, 13, 13, 13, 13, 13, 13, 13, 13, 13, 13, 13, 13, 13, 13, 13, 13, 13, 13, 13, 13, 13, 13, 13, 13, 13, 13, 13, 13, 13, 13, 13, 13, 13, 13, 13, 13, 13, 13, 13, 13, 13, 13, 13, 13, 13, 13, 13, 13, 13, 13, 13, 13, 13, 13, 13, 13, 13, 13, 13, 13, 13, 13, 13, 13, 13, 13, 13, 13, 13, 13, 13, 13, 13, 13, 13, 13, 13, 13, 13, 13, 13, 13, 13, 13, 13, 13, 13, 13, 13, 13, 13, 13, 13, 13, 13, 13, 13, 13, 13, 13, 13, 13, 13, 13, 13, 13, 13, 13, 13, 13, 13, 13, 13, 13, 13, 13, 13, 13, 13, 13, 13, 13, 13, 13, 13, 13, 13, 13, 13, 13, 13, 13, 13, 13, 13, 13, 13, 13, 13, 13, 13, 13, 13, 13, 13, 13, 13, 13, 13, 13, 13, 13, 13, 13, 13, 13, 13, 13, 13, 13, 13, 13, 13, 13, 13, 13, 13, 13, 13, 13, 13, 13, 13, 13, 13, 13, 13, 13, 13, 13, 13, 13, 13, 13, 13, 13, 13, 13, 13, 13, 13, 13, 13, 13, 13, 13, 13, 13, 13, 13, 13, 13, 13, 13, 13, 13, 13, 13, 13, 13, 13, 13, 13, 13, 13, 13, 13, 13, 13, 13, 13, 13, 13, 13, 13, 13, 13, 13, 13, 13, 13, 13, 13, 13, 13, 13, 13, 13, 13, 13, 13, 13, 13, 13, 13, 13, 13, 13, 13, 13, 13, 13, 13, 13, 13, 13, 13, 13, 13, 13, 13, 13, 13, 13, 13, 13, 13, 13, 13, 13, 13, 13, 13, 13, 13, 13, 13, 13, 13, 13, 13, 13, 13, 13, 13, 13, 13, 13, 13, 13, 13, 13, 13, 13, 13, 13, 13, 13, 13, 13, 13, 13, 13, 13, 13, 13, 13, 13, 13, 13, 13, 13, 13, 13, 13, 13, 13, 13, 13, 13, 13, 13, 13, 13, 13, 13, 13, 13, 13, 13, 13, 13, 13, 13, 13, 13, 13, 13, 13, 13, 13, 13, 13, 13, 13, 13, 13, 13, 13, 13, 13, 13, 13, 13, 13, 13, 13, 13, 13, 13, 13, 13, 13, 13, 13, 13, 13, 13, 13, 13, 13, 13, 13, 13, 13, 13, 13, 13, 13, 13, 13, 13, 13, 13, 13, 13, 13, 13, 13, 13, 13, 13, 13, 13, 13, 13, 13, 13, 13, 13, 13, 13, 13, 13, 13, 13, 13, 13, 13, 13, 13, 13, 13, 13, 13, 13, 13, 13, 13, 13, 13, 13, 13, 13, 13, 13, 13, 13, 13, 13, 13, 13, 13, 13, 13, 13, 13, 13, 13, 13, 13, 13, 13, 13, 13, 13, 13, 13, 13, 13, 13, 13, 13, 13, 13, 13, 13, 13, 13, 13, 13, 13, 13, 13, 13, 13, 13, 13, 13, 13, 13, 13, 13, 13, 13, 13, 13, 13, 13, 13, 13, 13, 13, 13, 13, 13, 13, 13, 13, 13, 13, 13, 13, 13, 13, 13, 13, 13, 13, 13, 13, 13, 13, 13, 13, 13, 13, 13, 13, 13, 13, 13, 13, 13, 13, 13, 13, 13, 13, 13, 13, 13, 13, 13, 13, 13, 13, 13, 13, 13, 13, 13, 13, 13, 13, 13, 13, 13, 13, 13, 13, 13, 13, 13, 13, 13, 13, 13, 13, 13, 13, 13, 13, 13, 13, 13, 13, 13, 13, 13, 13, 13, 13, 13, 13, 13, 13, 13, 13, 13, 13, 13, 13, 13, 13, 13, 13, 13, 13, 13, 13, 13, 13, 13, 13, 13, 13, 13, 13, 13, 13, 13, 13, 13, 13, 13, 13, 13, 13, 13, 13, 13, 13, 13, 13, 13, 13, 13, 13, 13, 13, 13, 13, 13, 13, 13, 13, 13, 13, 13, 13, 13, 13, 13, 13, 13, 13, 13, 13, 13, 13, 13, 13, 13, 13, 13, 13, 13, 13, 13, 13, 13, 13, 13, 13, 13, 13, 13, 13, 13, 13, 13, 13, 13, 13, 13, 13, 13, 13, 13, 13, 13, 13, 13, 13, 13, 13, 13, 13, 13, 13, 13, 13, 13, 13, 13, 13, 13, 13, 13, 13, 13, 13, 13, 13, 13, 13, 13, 13, 13, 13, 13, 13, 13, 13, 13, 13, 13, 13, 13, 13, 13, 13, 13, 13, 13, 13, 13, 13, 13, 13, 13, 13, 13, 13, 13, 13, 13, 13, 13, 13, 13, 13, 13, 13, 13, 13, 13, 13, 13, 13, 13, 13, 13, 13, 13, 13, 13, 13, 13, 13, 13, 13, 13, 13, 13, 13, 13, 13, 13, 13, 13, 13, 13, 13, 13, 13, 13, 13, 13, 13, 13, 13, 13, 13, 13, 13, 13, 13, 13, 13, 13, 13, 13, 13, 13, 13, 13, 13, 13, 13, 13, 13, 13, 13, 13, 13, 13, 13, 13, 13, 13, 13, 13, 13, 13, 13, 13, 13, 13, 13, 13, 13, 13, 13, 13, 13, 13, 13, 13, 13, 13, 13, 13, 13, 13, 13, 13, 13, 13, 13, 13, 13, 13, 13, 13, 13, 13, 13, 13, 13, 13, 13, 13, 13, 13, 13, 13, 13, 13, 13, 13, 13, 13, 13, 13, 13, 13, 13, 13, 13, 13, 13, 13, 13, 13, 13, 13, 13, 13, 13, 13, 13, 13, 13, 13, 13, 13, 13, 13, 13, 13, 13, 13, 13, 13, 13, 13, 13, 13, 13, 13, 13, 13, 13, 13, 13, 13, 13, 13, 13, 13, 13, 13, 13, 13, 13, 13, 13, 13, 13, 13, 13, 13, 13, 13, 13, 13, 13, 13, 13, 13, 13, 13, 13, 13, 13, 13, 13, 13, 13, 13, 13, 13, 13, 13, 13, 13, 13, 13, 13, 13, 13, 13, 13, 13, 13, 13, 13, 13, 13, 13, 13, 13, 13, 13, 13, 13, 13, 13, 13, 13, 13, 13, 13, 13, 13, 13, 13, 13, 13, 13, 13, 13, 13, 13, 13, 13, 13, 13, 13, 13, 13, 13, 13, 13, 13, 13, 13, 13, 13, 13, 13, 13, 13, 13, 13, 13, 13, 13, 13, 13, 13, 13, 13, 13, 13, 13, 13, 13, 13, 13, 13, 13, 13, 13, 13, 13, 13, 13, 13, 13, 13, 13, 13, 13, 13, 13, 13, 13, 13, 13, 13, 12, 12, 12, 12, 12, 12, 12, 12, 12, 12, 12, 12, 12, 12, 12, 12, 12, 12, 12, 12, 12, 12, 12, 12, 12, 12, 12, 12, 12, 12, 12, 12, 12, 12, 12, 12, 12, 12, 12, 12, 12, 12, 12, 12, 12, 12, 12, 12, 12, 12, 12, 12, 12, 12, 12, 12, 12, 12, 12, 12, 12, 12, 12, 12, 12, 12, 12, 12, 12, 12, 12, 12, 12, 12, 12, 12, 12, 12, 12, 12, 12, 12, 12, 12, 12, 12, 12, 12, 12, 12, 12, 12, 12, 12, 12, 12, 12, 12, 12, 12, 12, 12, 12, 12, 12, 12, 12, 12, 12, 12, 12, 12, 12, 12, 12, 12, 12, 12, 12, 12, 12, 12, 12, 12, 12, 12, 12, 12, 12, 12, 12, 12, 12, 12, 12, 12, 12, 12, 12, 12, 12, 12, 12, 12, 12, 12, 12, 12, 12, 12, 12, 12, 12, 12, 12, 12, 12, 12, 12, 12, 12, 12, 12, 12, 12, 12, 12, 12, 12, 12, 12, 12, 12, 12, 12, 12, 12, 12, 12, 12, 12, 12, 12, 12, 12, 12, 12, 12, 12, 12, 12, 12, 12, 12, 12, 12, 12, 12, 12, 12, 12, 12, 12, 12, 12, 12, 12, 12, 12, 12, 12, 12, 12, 12, 12, 12, 12, 12, 12, 12, 12, 12, 12, 12, 12, 12, 12, 12, 12, 12, 12, 12, 12, 12, 12, 12, 12, 12, 12, 12, 12, 12, 12, 12, 12, 12, 12, 12, 12, 12, 12, 12, 12, 12, 12, 12, 12, 12, 12, 12, 12, 12, 12, 12, 12, 12, 12, 12, 12, 12, 12, 12, 12, 12, 12, 12, 12, 12, 12, 12, 12, 12, 12, 12, 12, 12, 12, 12, 12, 12, 12, 12, 12, 12, 12, 12, 12, 12, 12, 12, 12, 12, 12, 12, 12, 12, 12, 12, 12, 12, 12, 12, 12, 12, 12, 12, 12, 12, 12, 12, 12, 12, 12, 12, 12, 12, 12, 12, 12, 12, 12, 12, 12, 12, 12, 12, 12, 12, 12, 12, 12, 12, 12, 12, 12, 12, 12, 12, 12, 12, 12, 12, 12, 12, 12, 12, 12, 12, 12, 12, 12, 12, 12, 12, 12, 12, 12, 12, 12, 12, 12, 12, 12, 12, 12, 12, 12, 12, 12, 12, 12, 12, 12, 12, 12, 12, 12, 12, 12, 12, 12, 12, 12, 12, 12, 12, 12, 12, 12, 12, 12, 12, 12, 12, 12, 12, 12, 12, 12, 12, 12, 12, 12, 12, 12, 12, 12, 12, 12, 12, 12, 12, 12, 12, 12, 12, 12, 12, 12, 12, 12, 12, 12, 12, 12, 12, 12, 12, 12, 12, 12, 12, 12, 12, 12, 12, 12, 12, 12, 12, 12, 12, 12, 12, 12, 12, 12, 12, 12, 12, 12, 12, 12, 12, 12, 12, 12, 12, 12, 12, 12, 12, 12, 12, 12, 12, 12, 12, 12, 12, 12, 12, 12, 12, 12, 12, 12, 12, 12, 12, 12, 12, 12, 12, 12, 12, 12, 12, 12, 12, 12, 12, 12, 12, 12, 12, 12, 12, 12, 12, 12, 12, 12, 12, 12, 12, 12, 12, 12, 12, 12, 12, 12, 12, 12, 12, 12, 12, 12, 12, 12, 12, 12, 12, 12, 12, 12, 12, 12, 12, 12, 12, 12, 12, 12, 12, 12, 12, 12, 12, 12, 12, 12, 12, 12, 12, 12, 12, 12, 12, 12, 12, 12, 12, 12, 12, 12, 12, 12, 12, 12, 12, 12, 12, 12, 12, 12, 12, 12, 12, 12, 12, 12, 12, 12, 12, 12, 12, 12, 12, 12, 12, 12, 12, 12, 12, 12, 12, 12, 12, 12, 12, 12, 12, 12, 12, 12, 12, 12, 12, 12, 12, 12, 12, 12, 12, 12, 12, 12, 12, 12, 12, 12, 12, 12, 12, 12, 12, 12, 12, 12, 12, 12, 12, 12, 12, 12, 12, 12, 12, 12, 12, 12, 12, 12, 12, 12, 12, 12, 12, 12, 12, 12, 12, 12, 12, 12, 12, 12, 12, 12, 12, 12, 12, 12, 12, 12, 12, 12, 12, 12, 12, 12, 12, 12, 12, 12, 12, 12, 12, 12, 12, 12, 12, 12, 12, 12, 12, 12, 12, 12, 12, 12, 12, 12, 12, 12, 12, 12, 12, 12, 12, 12, 12, 12, 12, 12, 12, 12, 12, 12, 12, 12, 12, 12, 12, 12, 12, 12, 12, 12, 12, 12, 12, 12, 12, 12, 12, 12, 12, 12, 12, 12, 12, 12, 12, 12, 12, 12, 12, 12, 12, 12, 12, 12, 12, 12, 12, 12, 12, 12, 12, 12, 12, 12, 12, 12, 12, 12, 12, 12, 12, 12, 12, 12, 12, 12, 12, 12, 12, 12, 12, 12, 12, 12, 12, 12, 12, 12, 12, 12, 12, 12, 12, 12, 12, 12, 12, 12, 12, 12, 12, 12, 12, 12, 12, 12, 12, 12, 12, 12, 12, 12, 12, 12, 12, 12, 12, 12, 12, 12, 12, 12, 12, 12, 12, 12, 12, 12, 12, 12, 12, 12, 12, 12, 12, 12, 12, 12, 12, 12, 12, 12, 12, 12, 12, 12, 12, 12, 12, 12, 12, 12, 12, 12, 12, 12, 12, 12, 12, 12, 12, 12, 12, 12, 12, 12, 12, 12, 12, 12, 12, 12, 12, 12, 12, 12, 12, 12, 12, 12, 12, 12, 12, 12, 12, 12, 12, 12, 12, 12, 12, 12, 12, 12, 12, 12, 12, 12, 12, 12, 12, 12, 12, 12, 12, 12, 12, 12, 12, 12, 12, 12, 12, 12, 12, 12, 12, 12, 12, 12, 12, 12, 12, 12, 12, 12, 12, 12, 12, 12, 12, 12, 12, 12, 12, 12, 12, 12, 12, 12, 12, 12, 12, 12, 12, 12, 12, 12, 12, 12, 12, 12, 12, 12, 12, 12, 12, 12, 12, 12, 12, 12, 12, 12, 12, 12, 12, 12, 12, 12, 12, 12, 12, 12, 12, 12, 12, 12, 12, 12, 12, 12, 12, 12, 12, 12, 12, 12, 12, 12, 12, 12, 12, 12, 12, 12, 12, 12, 12, 12, 12, 12, 12, 12, 12, 12, 12, 12, 12, 12, 12, 12, 12, 12, 12, 12, 12, 12, 12, 12, 12, 12, 12, 12, 12, 12, 12, 12, 12, 12, 12, 12, 12, 12, 12, 12, 12, 12, 12, 12, 12, 12, 12, 12, 12, 12, 12, 12, 12, 12, 12, 12, 12, 12, 12, 12, 12, 12, 12, 12, 12, 12, 12, 12, 12, 12, 12, 12, 12, 12, 12, 12, 12, 12, 12, 12, 12, 12, 12, 12, 12, 12, 12, 12, 12, 12, 12, 12, 12, 12, 12, 12, 12, 12, 12, 12, 12, 12, 12, 12, 12, 12, 12, 12, 12, 12, 12, 12, 12, 12, 12, 12, 12, 12, 12, 12, 12, 12, 12, 12, 12, 12, 12, 12, 12, 12, 12, 12, 12, 12, 12, 12, 12, 12, 12, 12, 12, 12, 12, 12, 12, 12, 12, 12, 12, 12, 12, 12, 12, 12, 12, 12, 12, 12, 12, 12, 12, 12, 12, 12, 12, 12, 12, 12, 12, 12, 12, 12, 12, 12, 12, 12, 12, 12, 12, 12, 12, 12, 12, 12, 12, 12, 12, 12, 12, 12, 12, 12, 12, 12, 12, 12, 12, 12, 12, 12, 12, 12, 12, 12, 12, 12, 12, 12, 12, 12, 12, 12, 12, 12, 12, 12, 12, 12, 12, 12, 12, 12, 12, 12, 12, 12, 12, 12, 12, 12, 12, 12, 12, 12, 12, 12, 12, 12, 12, 12, 12, 12, 12, 12, 12, 12, 12, 12, 12, 12, 12, 12, 12, 12, 12, 12, 12, 12, 12, 12, 12, 12, 12, 12, 12, 12, 12, 12, 12, 12, 12, 12, 12, 12, 12, 12, 12, 12, 12, 12, 12, 12, 12, 12, 12, 12, 12, 12, 12, 12, 12, 12, 12, 12, 12, 12, 12, 12, 12, 12, 12, 12, 12, 12, 12, 12, 12, 12, 12, 12, 12, 12, 12, 12, 12, 12, 12, 12, 12, 12, 12, 12, 12, 12, 12, 12, 12, 12, 12, 12, 12, 12, 12, 12, 12, 12, 12, 12, 12, 12, 12, 12, 12, 12, 12, 12, 12, 12, 12, 12, 12, 12, 12, 12, 12, 12, 12, 12, 12, 12, 12, 12, 12, 12, 12, 12, 12, 12, 12, 12, 12, 12, 12, 12, 12, 12, 12, 12, 12, 12, 12, 12, 12, 12, 12, 12, 12, 12, 12, 12, 12, 12, 12, 12, 12, 12, 12, 12, 12, 12, 12, 12, 12, 12, 12, 12, 12, 12, 12, 12, 12, 12, 12, 12, 12, 12, 12, 12, 12, 12, 12, 12, 12, 12, 12, 12, 12, 12, 12, 12, 12, 12, 12, 12, 12, 12, 12, 12, 12, 12, 12, 12, 12, 12, 12, 12, 12, 12, 12, 12, 12, 12, 12, 12, 12, 12, 12, 12, 12, 12, 12, 12, 12, 12, 12, 12, 12, 12, 12, 12, 12, 12, 12, 12, 12, 12, 12, 12, 12, 12, 12, 12, 12, 12, 12, 12, 12, 12, 12, 12, 12, 12, 12, 12, 12, 12, 12, 12, 12, 12, 12, 12, 12, 12, 12, 12, 12, 12, 12, 12, 12, 12, 12, 12, 12, 12, 12, 12, 12, 12, 12, 12, 12, 12, 12, 12, 12, 12, 12, 12, 12, 12, 12, 12, 12, 12, 12, 12, 12, 12, 12, 12, 12, 12, 12, 12, 12, 12, 12, 12, 12, 12, 12, 12, 12, 12, 12, 12, 12, 12, 12, 12, 12, 12, 12, 12, 12, 12, 12, 12, 12, 12, 12, 12, 12, 12, 12, 12, 12, 12, 12, 12, 12, 12, 12, 12, 12, 12, 12, 12, 12, 12, 12, 12, 12, 12, 12, 12, 12, 12, 12, 12, 12, 12, 12, 12, 12, 12, 12, 12, 12, 12, 12, 12, 12, 12, 12, 12, 12, 12, 12, 12, 12, 12, 12, 12, 12, 12, 12, 12, 12, 12, 12, 12, 12, 12, 12, 12, 12, 12, 12, 12, 12, 12, 12, 12, 12, 12, 12, 12, 12, 12, 12, 12, 12, 12, 12, 12, 12, 12, 12, 12, 12, 12, 12, 12, 12, 12, 12, 12, 12, 12, 12, 12, 12, 12, 12, 12, 12, 12, 12, 12, 12, 12, 12, 12, 12, 12, 12, 12, 12, 12, 12, 12, 12, 12, 12, 12, 12, 12, 12, 12, 12, 12, 12, 12, 12, 12, 12, 12, 12, 12, 12, 12, 12, 12, 12, 12, 12, 12, 12, 12, 12, 12, 12, 12, 12, 12, 12, 12, 12, 12, 12, 12, 12, 12, 12, 12, 12, 12, 12, 12, 12, 12, 12, 12, 12, 12, 12, 12, 12, 12, 12, 12, 12, 12, 12, 12, 12, 12, 12, 12, 12, 12, 12, 12, 12, 12, 12, 12, 12, 12, 12, 12, 12, 12, 12, 12, 12, 12, 12, 12, 12, 12, 12, 12, 12, 12, 12, 12, 12, 12, 12, 12, 12, 12, 12, 12, 12, 12, 12, 12, 12, 12, 12, 12, 12, 12, 12, 12, 12, 12, 12, 12, 12, 12, 12, 12, 12, 12, 12, 12, 12, 12, 12, 12, 12, 12, 12, 12, 12, 12, 12, 12, 12, 12, 12, 12, 12, 12, 12, 12, 12, 12, 12, 12, 12, 12, 12, 12, 12, 12, 12, 12, 12, 12, 12, 12, 12, 12, 12, 12, 12, 12, 12, 12, 12, 12, 12, 12, 12, 12, 12, 12, 12, 12, 12, 12, 12, 12, 12, 12, 12, 12, 12, 12, 12, 12, 12, 12, 12, 12, 12, 12, 12, 12, 12, 12, 12, 12, 12, 12, 12, 12, 12, 12, 12, 12, 12, 12, 12, 12, 12, 12, 12, 12, 12, 12, 12, 12, 12, 12, 12, 12, 12, 12, 12, 12, 12, 12, 12, 12, 12, 12, 12, 12, 12, 12, 12, 12, 12, 12, 12, 12, 12, 12, 12, 12, 12, 12, 12, 12, 12, 12, 12, 12, 12, 12, 12, 12, 12, 12, 12, 12, 12, 12, 12, 12, 12, 12, 12, 12, 12, 12, 12, 12, 12, 12, 12, 12, 12, 12, 12, 12, 12, 12, 12, 12, 12, 12, 12, 12, 12, 12, 12, 12, 12, 12, 12, 12, 12, 12, 12, 12, 12, 12, 12, 12, 12, 12, 12, 12, 12, 12, 12, 12, 12, 12, 12, 12, 12, 12, 12, 12, 12, 12, 12, 12, 12, 12, 12, 12, 12, 12, 12, 12, 12, 12, 12, 12, 12, 12, 12, 12, 12, 12, 12, 12, 12, 12, 12, 12, 12, 12, 12, 12, 12, 12, 12, 12, 12, 12, 12, 12, 12, 12, 12, 12, 12, 12, 12, 12, 12, 12, 12, 12, 12, 12, 12, 12, 12, 12, 12, 12, 12, 12, 12, 12, 12, 12, 12, 12, 12, 12, 12, 12, 12, 12, 12, 12, 12, 12, 12, 12, 12, 12, 12, 12, 12, 12, 12, 12, 12, 12, 12, 12, 12, 12, 12, 12, 12, 12, 12, 12, 12, 12, 12, 12, 12, 12, 12, 12, 12, 12, 12, 12, 12, 12, 12, 12, 12, 12, 12, 12, 12, 12, 12, 12, 12, 12, 12, 12, 12, 12, 12, 12, 12, 12, 12, 12, 12, 12, 12, 12, 12, 12, 12, 12, 12, 12, 12, 12, 12, 12, 12, 12, 12, 12, 12, 12, 12, 12, 12, 12, 12, 12, 12, 12, 12, 12, 12, 12, 12, 12, 12, 12, 12, 12, 12, 12, 12, 12, 12, 12, 12, 12, 12, 12, 12, 12, 12, 12, 12, 12, 12, 12, 12, 12, 12, 12, 12, 12, 12, 12, 12, 12, 12, 12, 12, 12, 12, 12, 12, 12, 12, 12, 12, 12, 12, 12, 12, 12, 12, 12, 12, 12, 12, 12, 12, 12, 12, 12, 12, 12, 12, 12, 12, 12, 12, 12, 12, 12, 12, 12, 12, 12, 12, 12, 12, 12, 12, 12, 12, 12, 12, 12, 12, 12, 12, 12, 12, 12, 12, 12, 12, 12, 12, 12, 12, 12, 12, 12, 12, 12, 12, 12, 12, 12, 12, 12, 12, 12, 12, 12, 12, 12, 12, 12, 12, 12, 12, 12, 12, 12, 12, 12, 12, 12, 12, 12, 12, 12, 12, 12, 12, 12, 12, 12, 12, 12, 12, 12, 12, 12, 12, 12, 12, 12, 12, 12, 12, 12, 12, 12, 12, 12, 12, 12, 12, 12, 12, 12, 12, 12, 12, 12, 12, 12, 12, 12, 12, 12, 12, 12, 12, 12, 12, 12, 12, 12, 12, 12, 12, 12, 12, 12, 12, 12, 12, 12, 12, 12, 12, 12, 12, 12, 12, 12, 12, 12, 12, 12, 12, 12, 12, 12, 12, 12, 12, 12, 12, 12, 12, 12, 12, 12, 12, 12, 12, 12, 12, 12, 12, 12, 12, 12, 12, 12, 12, 12, 12, 12, 12, 12, 12, 12, 12, 12, 12, 12, 12, 12, 12, 12, 12, 12, 12, 12, 12, 12, 12, 12, 12, 12, 12, 12, 12, 12, 12, 12, 12, 12, 12, 12, 12, 12, 12, 12, 12, 12, 12, 12, 12, 12, 12, 12, 12, 12, 12, 12, 12, 12, 12, 12, 12, 12, 12, 12, 12, 12, 12, 12, 12, 12, 12, 12, 12, 12, 12, 12, 12, 12, 12, 12, 12, 12, 12, 12, 12, 12, 12, 12, 12, 12, 12, 12, 12, 12, 12, 12, 12, 12, 12, 12, 12, 12, 12, 12, 12, 12, 12, 12, 12, 12, 12, 12, 12, 12, 12, 12, 12, 12, 12, 12, 12, 12, 12, 12, 12, 12, 12, 12, 12, 12, 12, 12, 12, 12, 12, 12, 12, 12, 12, 11, 11, 11, 11, 11, 11, 11, 11, 11, 11, 11, 11, 11, 11, 11, 11, 11, 11, 11, 11, 11, 11, 11, 11, 11, 11, 11, 11, 11, 11, 11, 11, 11, 11, 11, 11, 11, 11, 11, 11, 11, 11, 11, 11, 11, 11, 11, 11, 11, 11, 11, 11, 11, 11, 11, 11, 11, 11, 11, 11, 11, 11, 11, 11, 11, 11, 11, 11, 11, 11, 11, 11, 11, 11, 11, 11, 11, 11, 11, 11, 11, 11, 11, 11, 11, 11, 11, 11, 11, 11, 11, 11, 11, 11, 11, 11, 11, 11, 11, 11, 11, 11, 11, 11, 11, 11, 11, 11, 11, 11, 11, 11, 11, 11, 11, 11, 11, 11, 11, 11, 11, 11, 11, 11, 11, 11, 11, 11, 11, 11, 11, 11, 11, 11, 11, 11, 11, 11, 11, 11, 11, 11, 11, 11, 11, 11, 11, 11, 11, 11, 11, 11, 11, 11, 11, 11, 11, 11, 11, 11, 11, 11, 11, 11, 11, 11, 11, 11, 11, 11, 11, 11, 11, 11, 11, 11, 11, 11, 11, 11, 11, 11, 11, 11, 11, 11, 11, 11, 11, 11, 11, 11, 11, 11, 11, 11, 11, 11, 11, 11, 11, 11, 11, 11, 11, 11, 11, 11, 11, 11, 11, 11, 11, 11, 11, 11, 11, 11, 11, 11, 11, 11, 11, 11, 11, 11, 11, 11, 11, 11, 11, 11, 11, 11, 11, 11, 11, 11, 11, 11, 11, 11, 11, 11, 11, 11, 11, 11, 11, 11, 11, 11, 11, 11, 11, 11, 11, 11, 11, 11, 11, 11, 11, 11, 11, 11, 11, 11, 11, 11, 11, 11, 11, 11, 11, 11, 11, 11, 11, 11, 11, 11, 11, 11, 11, 11, 11, 11, 11, 11, 11, 11, 11, 11, 11, 11, 11, 11, 11, 11, 11, 11, 11, 11, 11, 11, 11, 11, 11, 11, 11, 11, 11, 11, 11, 11, 11, 11, 11, 11, 11, 11, 11, 11, 11, 11, 11, 11, 11, 11, 11, 11, 11, 11, 11, 11, 11, 11, 11, 11, 11, 11, 11, 11, 11, 11, 11, 11, 11, 11, 11, 11, 11, 11, 11, 11, 11, 11, 11, 11, 11, 11, 11, 11, 11, 11, 11, 11, 11, 11, 11, 11, 11, 11, 11, 11, 11, 11, 11, 11, 11, 11, 11, 11, 11, 11, 11, 11, 11, 11, 11, 11, 11, 11, 11, 11, 11, 11, 11, 11, 11, 11, 11, 11, 11, 11, 11, 11, 11, 11, 11, 11, 11, 11, 11, 11, 11, 11, 11, 11, 11, 11, 11, 11, 11, 11, 11, 11, 11, 11, 11, 11, 11, 11, 11, 11, 11, 11, 11, 11, 11, 11, 11, 11, 11, 11, 11, 11, 11, 11, 11, 11, 11, 11, 11, 11, 11, 11, 11, 11, 11, 11, 11, 11, 11, 11, 11, 11, 11, 11, 11, 11, 11, 11, 11, 11, 11, 11, 11, 11, 11, 11, 11, 11, 11, 11, 11, 11, 11, 11, 11, 11, 11, 11, 11, 11, 11, 11, 11, 11, 11, 11, 11, 11, 11, 11, 11, 11, 11, 11, 11, 11, 11, 11, 11, 11, 11, 11, 11, 11, 11, 11, 11, 11, 11, 11, 11, 11, 11, 11, 11, 11, 11, 11, 11, 11, 11, 11, 11, 11, 11, 11, 11, 11, 11, 11, 11, 11, 11, 11, 11, 11, 11, 11, 11, 11, 11, 11, 11, 11, 11, 11, 11, 11, 11, 11, 11, 11, 11, 11, 11, 11, 11, 11, 11, 11, 11, 11, 11, 11, 11, 11, 11, 11, 11, 11, 11, 11, 11, 11, 11, 11, 11, 11, 11, 11, 11, 11, 11, 11, 11, 11, 11, 11, 11, 11, 11, 11, 11, 11, 11, 11, 11, 11, 11, 11, 11, 11, 11, 11, 11, 11, 11, 11, 11, 11, 11, 11, 11, 11, 11, 11, 11, 11, 11, 11, 11, 11, 11, 11, 11, 11, 11, 11, 11, 11, 11, 11, 11, 11, 11, 11, 11, 11, 11, 11, 11, 11, 11, 11, 11, 11, 11, 11, 11, 11, 11, 11, 11, 11, 11, 11, 11, 11, 11, 11, 11, 11, 11, 11, 11, 11, 11, 11, 11, 11, 11, 11, 11, 11, 11, 11, 11, 11, 11, 11, 11, 11, 11, 11, 11, 11, 11, 11, 11, 11, 11, 11, 11, 11, 11, 11, 11, 11, 11, 11, 11, 11, 11, 11, 11, 11, 11, 11, 11, 11, 11, 11, 11, 11, 11, 11, 11, 11, 11, 11, 11, 11, 11, 11, 11, 11, 11, 11, 11, 11, 11, 11, 11, 11, 11, 11, 11, 11, 11, 11, 11, 11, 11, 11, 11, 11, 11, 11, 11, 11, 11, 11, 11, 11, 11, 11, 11, 11, 11, 11, 11, 11, 11, 11, 11, 11, 11, 11, 11, 11, 11, 11, 11, 11, 11, 11, 11, 11, 11, 11, 11, 11, 11, 11, 11, 11, 11, 11, 11, 11, 11, 11, 11, 11, 11, 11, 11, 11, 11, 11, 11, 11, 11, 11, 11, 11, 11, 11, 11, 11, 11, 11, 11, 11, 11, 11, 11, 11, 11, 11, 11, 11, 11, 11, 11, 11, 11, 11, 11, 11, 11, 11, 11, 11, 11, 11, 11, 11, 11, 11, 11, 11, 11, 11, 11, 11, 11, 11, 11, 11, 11, 11, 11, 11, 11, 11, 11, 11, 11, 11, 11, 11, 11, 11, 11, 11, 11, 11, 11, 11, 11, 11, 11, 11, 11, 11, 11, 11, 11, 11, 11, 11, 11, 11, 11, 11, 11, 11, 11, 11, 11, 11, 11, 11, 11, 11, 11, 11, 11, 11, 11, 11, 11, 11, 11, 11, 11, 11, 11, 11, 11, 11, 11, 11, 11, 11, 11, 11, 11, 11, 11, 11, 11, 11, 11, 11, 11, 11, 11, 11, 11, 11, 11, 11, 11, 11, 11, 11, 11, 11, 11, 11, 11, 11, 11, 11, 11, 11, 11, 11, 11, 11, 11, 11, 11, 11, 11, 11, 11, 11, 11, 11, 11, 11, 11, 11, 11, 11, 11, 11, 11, 11, 11, 11, 11, 11, 11, 11, 11, 11, 11, 11, 11, 11, 11, 11, 11, 11, 11, 11, 11, 11, 11, 11, 11, 11, 11, 11, 11, 11, 11, 11, 11, 11, 11, 11, 11, 11, 11, 11, 11, 11, 11, 11, 11, 11, 11, 11, 11, 11, 11, 11, 11, 11, 11, 11, 11, 11, 11, 11, 11, 11, 11, 11, 11, 11, 11, 11, 11, 11, 11, 11, 11, 11, 11, 11, 11, 11, 11, 11, 11, 11, 11, 11, 11, 11, 11, 11, 11, 11, 11, 11, 11, 11, 11, 11, 11, 11, 11, 11, 11, 11, 11, 11, 11, 11, 11, 11, 11, 11, 11, 11, 11, 11, 11, 11, 11, 11, 11, 11, 11, 11, 11, 11, 11, 11, 11, 11, 11, 11, 11, 11, 11, 11, 11, 11, 11, 11, 11, 11, 11, 11, 11, 11, 11, 11, 11, 11, 11, 11, 11, 11, 11, 11, 11, 11, 11, 11, 11, 11, 11, 11, 11, 11, 11, 11, 11, 11, 11, 11, 11, 11, 11, 11, 11, 11, 11, 11, 11, 11, 11, 11, 11, 11, 11, 11, 11, 11, 11, 11, 11, 11, 11, 11, 11, 11, 11, 11, 11, 11, 11, 11, 11, 11, 11, 11, 11, 11, 11, 11, 11, 11, 11, 11, 11, 11, 11, 11, 11, 11, 11, 11, 11, 11, 11, 11, 11, 11, 11, 11, 11, 11, 11, 11, 11, 11, 11, 11, 11, 11, 11, 11, 11, 11, 11, 11, 11, 11, 11, 11, 11, 11, 11, 11, 11, 11, 11, 11, 11, 11, 11, 11, 11, 11, 11, 11, 11, 11, 11, 11, 11, 11, 11, 11, 11, 11, 11, 11, 11, 11, 11, 11, 11, 11, 11, 11, 11, 11, 11, 11, 11, 11, 11, 11, 11, 11, 11, 11, 11, 11, 11, 11, 11, 11, 11, 11, 11, 11, 11, 11, 11, 11, 11, 11, 11, 11, 11, 11, 11, 11, 11, 11, 11, 11, 11, 11, 11, 11, 11, 11, 11, 11, 11, 11, 11, 11, 11, 11, 11, 11, 11, 11, 11, 11, 11, 11, 11, 11, 11, 11, 11, 11, 11, 11, 11, 11, 11, 11, 11, 11, 11, 11, 11, 11, 11, 11, 11, 11, 11, 11, 11, 11, 11, 11, 11, 11, 11, 11, 11, 11, 11, 11, 11, 11, 11, 11, 11, 11, 11, 11, 11, 11, 11, 11, 11, 11, 11, 11, 11, 11, 11, 11, 11, 11, 11, 11, 11, 11, 11, 11, 11, 11, 11, 11, 11, 11, 11, 11, 11, 11, 11, 11, 11, 11, 11, 11, 11, 11, 11, 11, 11, 11, 11, 11, 11, 11, 11, 11, 11, 11, 11, 11, 11, 11, 11, 11, 11, 11, 11, 11, 11, 11, 11, 11, 11, 11, 11, 11, 11, 11, 11, 11, 11, 11, 11, 11, 11, 11, 11, 11, 11, 11, 11, 11, 11, 11, 11, 11, 11, 11, 11, 11, 11, 11, 11, 11, 11, 11, 11, 11, 11, 11, 11, 11, 11, 11, 11, 11, 11, 11, 11, 11, 11, 11, 11, 11, 11, 11, 11, 11, 11, 11, 11, 11, 11, 11, 11, 11, 11, 11, 11, 11, 11, 11, 11, 11, 11, 11, 11, 11, 11, 11, 11, 11, 11, 11, 11, 11, 11, 11, 11, 11, 11, 11, 11, 11, 11, 11, 11, 11, 11, 11, 11, 11, 11, 11, 11, 11, 11, 11, 11, 11, 11, 11, 11, 11, 11, 11, 11, 11, 11, 11, 11, 11, 11, 11, 11, 11, 11, 11, 11, 11, 11, 11, 11, 11, 11, 11, 11, 11, 11, 11, 11, 11, 11, 11, 11, 11, 11, 11, 11, 11, 11, 11, 11, 11, 11, 11, 11, 11, 11, 11, 11, 11, 11, 11, 11, 11, 11, 11, 11, 11, 11, 11, 11, 11, 11, 11, 11, 11, 11, 11, 11, 11, 11, 11, 11, 11, 11, 11, 11, 11, 11, 11, 11, 11, 11, 11, 11, 11, 11, 11, 11, 11, 11, 11, 11, 11, 11, 11, 11, 11, 11, 11, 11, 11, 11, 11, 11, 11, 11, 11, 11, 11, 11, 11, 11, 11, 11, 11, 11, 11, 11, 11, 11, 11, 11, 11, 11, 11, 11, 11, 11, 11, 11, 11, 11, 11, 11, 11, 11, 11, 11, 11, 11, 11, 11, 11, 11, 11, 11, 11, 11, 11, 11, 11, 11, 11, 11, 11, 11, 11, 11, 11, 11, 11, 11, 11, 11, 11, 11, 11, 11, 11, 11, 11, 11, 11, 11, 11, 11, 11, 11, 11, 11, 11, 11, 11, 11, 11, 11, 11, 11, 11, 11, 11, 11, 11, 11, 11, 11, 11, 11, 11, 11, 11, 11, 11, 11, 11, 11, 11, 11, 11, 11, 11, 11, 11, 11, 11, 11, 11, 11, 11, 11, 11, 11, 11, 11, 11, 11, 11, 11, 11, 11, 11, 11, 11, 11, 11, 11, 11, 11, 11, 11, 11, 11, 11, 11, 11, 11, 11, 11, 11, 11, 11, 11, 11, 11, 11, 11, 11, 11, 11, 11, 11, 11, 11, 11, 11, 11, 11, 11, 11, 11, 11, 11, 11, 11, 11, 11, 11, 11, 11, 11, 11, 11, 11, 11, 11, 11, 11, 11, 11, 11, 11, 11, 11, 11, 11, 11, 11, 11, 11, 11, 11, 11, 11, 11, 11, 11, 11, 11, 11, 11, 11, 11, 11, 11, 11, 11, 11, 11, 11, 11, 11, 11, 11, 11, 11, 11, 11, 11, 11, 11, 11, 11, 11, 11, 11, 11, 11, 11, 11, 11, 11, 11, 11, 11, 11, 11, 11, 11, 11, 11, 11, 11, 11, 11, 11, 11, 11, 11, 11, 11, 11, 11, 11, 11, 11, 11, 11, 11, 11, 11, 11, 11, 11, 11, 11, 11, 11, 11, 11, 11, 11, 11, 11, 11, 11, 11, 11, 11, 11, 11, 11, 11, 11, 11, 11, 11, 11, 11, 11, 11, 11, 11, 11, 11, 11, 11, 11, 11, 11, 11, 11, 11, 11, 11, 11, 11, 11, 11, 11, 11, 11, 11, 11, 11, 11, 11, 11, 11, 11, 11, 11, 11, 11, 11, 11, 11, 11, 11, 11, 11, 11, 11, 11, 11, 11, 11, 11, 11, 11, 11, 11, 11, 11, 11, 11, 11, 11, 11, 11, 11, 11, 11, 11, 11, 11, 11, 11, 11, 11, 11, 11, 11, 11, 11, 11, 11, 11, 11, 11, 11, 11, 11, 11, 11, 11, 11, 11, 11, 11, 11, 11, 11, 11, 11, 11, 11, 11, 11, 11, 11, 11, 11, 11, 11, 11, 11, 11, 11, 11, 11, 11, 11, 11, 11, 11, 11, 11, 11, 11, 11, 11, 11, 11, 11, 11, 11, 11, 11, 11, 11, 11, 11, 11, 11, 11, 11, 11, 11, 11, 11, 11, 11, 11, 11, 11, 11, 11, 11, 11, 11, 11, 11, 11, 11, 11, 11, 11, 11, 11, 11, 11, 11, 11, 11, 11, 11, 11, 11, 11, 11, 11, 11, 11, 11, 11, 11, 11, 11, 11, 11, 11, 11, 11, 11, 11, 11, 11, 11, 11, 11, 11, 11, 11, 11, 11, 11, 11, 11, 11, 11, 11, 11, 11, 11, 11, 11, 11, 11, 11, 11, 11, 11, 11, 11, 11, 11, 11, 11, 11, 11, 11, 11, 11, 11, 11, 11, 11, 11, 11, 11, 11, 11, 11, 11, 11, 11, 11, 11, 11, 11, 11, 11, 11, 11, 11, 11, 11, 11, 11, 11, 11, 11, 11, 11, 11, 11, 11, 11, 11, 11, 11, 11, 11, 11, 11, 11, 11, 11, 11, 11, 11, 11, 11, 11, 11, 11, 11, 11, 11, 11, 11, 11, 11, 11, 11, 11, 11, 11, 11, 11, 11, 11, 11, 11, 11, 11, 11, 11, 11, 11, 11, 11, 11, 11, 11, 11, 11, 11, 11, 11, 11, 11, 11, 11, 11, 11, 11, 11, 11, 11, 11, 11, 11, 11, 11, 11, 11, 11, 11, 11, 11, 11, 11, 11, 11, 11, 11, 11, 11, 11, 11, 11, 11, 11, 11, 11, 11, 11, 11, 11, 11, 11, 11, 11, 11, 11, 11, 11, 11, 11, 11, 11, 11, 11, 11, 11, 11, 11, 11, 11, 11, 11, 11, 11, 11, 11, 11, 11, 11, 11, 11, 11, 11, 11, 11, 11, 11, 11, 11, 11, 11, 11, 11, 11, 11, 11, 11, 11, 11, 11, 11, 11, 11, 11, 11, 11, 11, 11, 11, 11, 11, 11, 11, 11, 11, 11, 11, 11, 11, 11, 11, 11, 11, 11, 11, 11, 11, 11, 11, 11, 11, 11, 11, 11, 11, 11, 11, 11, 11, 11, 11, 11, 11, 11, 11, 11, 11, 11, 11, 11, 11, 11, 11, 11, 11, 11, 11, 11, 11, 11, 11, 11, 11, 11, 11, 11, 11, 11, 11, 11, 11, 11, 11, 11, 11, 11, 11, 11, 11, 11, 11, 11, 11, 11, 11, 11, 11, 11, 11, 11, 11, 11, 11, 11, 11, 11, 11, 11, 11, 11, 11, 11, 11, 11, 11, 11, 11, 11, 11, 11, 11, 11, 11, 11, 11, 11, 11, 11, 11, 11, 11, 11, 11, 11, 11, 11, 11, 11, 11, 11, 11, 11, 11, 11, 11, 11, 11, 11, 11, 11, 11, 11, 11, 11, 11, 11, 11, 11, 11, 11, 11, 11, 11, 11, 11, 11, 11, 11, 11, 11, 11, 11, 11, 11, 11, 11, 11, 11, 11, 11, 11, 11, 11, 11, 11, 11, 11, 11, 11, 11, 11, 11, 11, 11, 11, 11, 11, 11, 11, 11, 11, 11, 11, 11, 11, 11, 11, 11, 11, 11, 11, 11, 11, 11, 11, 11, 11, 11, 11, 11, 11, 11, 11, 11, 11, 11, 11, 11, 11, 11, 11, 11, 11, 11, 11, 11, 11, 11, 11, 11, 11, 11, 11, 11, 11, 11, 11, 11, 11, 11, 11, 11, 11, 11, 11, 11, 11, 11, 11, 11, 11, 11, 11, 11, 11, 11, 11, 11, 11, 11, 11, 11, 11, 11, 11, 11, 11, 11, 11, 11, 11, 11, 11, 11, 11, 11, 11, 11, 11, 11, 11, 11, 11, 11, 11, 11, 11, 11, 11, 11, 11, 11, 11, 11, 11, 11, 11, 11, 11, 11, 11, 11, 11, 11, 11, 11, 11, 11, 11, 11, 11, 11, 11, 11, 11, 11, 11, 11, 11, 11, 11, 11, 11, 11, 11, 11, 11, 11, 11, 11, 11, 11, 11, 11, 11, 11, 11, 11, 11, 11, 11, 11, 11, 11, 11, 11, 11, 11, 11, 11, 11, 11, 11, 11, 11, 11, 11, 11, 11, 11, 11, 11, 11, 11, 11, 11, 11, 11, 11, 11, 11, 11, 11, 11, 11, 11, 11, 11, 11, 11, 11, 11, 11, 11, 11, 11, 11, 11, 11, 11, 11, 11, 11, 11, 11, 11, 11, 11, 11, 11, 11, 11, 11, 11, 11, 11, 11, 11, 11, 11, 11, 11, 11, 11, 11, 11, 11, 11, 11, 11, 11, 11, 11, 11, 11, 11, 11, 11, 11, 11, 11, 11, 11, 11, 11, 11, 11, 11, 11, 11, 11, 11, 11, 11, 11, 11, 11, 11, 11, 11, 11, 11, 11, 11, 11, 11, 11, 11, 11, 11, 11, 11, 11, 11, 11, 11, 11, 11, 11, 11, 11, 11, 11, 11, 11, 11, 11, 11, 11, 11, 11, 11, 11, 11, 11, 11, 11, 11, 11, 11, 11, 11, 11, 11, 11, 11, 11, 11, 11, 11, 11, 11, 11, 11, 11, 11, 11, 11, 11, 11, 11, 11, 11, 11, 11, 11, 11, 11, 11, 11, 11, 11, 11, 11, 11, 11, 11, 11, 11, 11, 11, 11, 11, 11, 11, 11, 11, 11, 11, 11, 11, 11, 11, 11, 11, 11, 11, 11, 11, 11, 11, 11, 11, 11, 11, 11, 11, 11, 11, 11, 11, 11, 11, 11, 11, 11, 11, 11, 11, 11, 11, 11, 11, 11, 11, 11, 11, 11, 11, 11, 11, 11, 11, 11, 11, 11, 11, 11, 11, 11, 11, 11, 11, 11, 11, 11, 11, 11, 11, 11, 11, 11, 11, 11, 11, 11, 11, 11, 11, 11, 11, 11, 11, 11, 11, 11, 11, 11, 11, 11, 11, 11, 11, 11, 11, 11, 11, 11, 11, 11, 11, 11, 11, 11, 11, 11, 11, 11, 11, 11, 11, 11, 11, 11, 11, 11, 11, 11, 11, 11, 11, 11, 11, 11, 11, 11, 11, 11, 11, 11, 11, 11, 11, 11, 11, 11, 11, 11, 11, 11, 11, 11, 11, 11, 11, 11, 11, 11, 11, 11, 11, 11, 11, 11, 11, 11, 11, 11, 11, 11, 11, 11, 11, 11, 11, 11, 11, 11, 11, 11, 11, 11, 11, 11, 11, 11, 11, 11, 11, 11, 11, 11, 11, 11, 11, 11, 11, 11, 11, 11, 11, 11, 11, 11, 11, 11, 11, 11, 11, 11, 11, 11, 11, 11, 11, 11, 11, 11, 11, 11, 11, 11, 11, 11, 11, 11, 11, 11, 11, 11, 11, 11, 11, 11, 11, 11, 11, 11, 11, 11, 11, 11, 11, 11, 11, 11, 11, 11, 11, 11, 11, 11, 11, 11, 11, 11, 11, 11, 11, 11, 11, 11, 11, 11, 11, 11, 11, 11, 11, 11, 11, 11, 11, 11, 11, 11, 11, 11, 11, 11, 11, 11, 11, 11, 11, 11, 11, 11, 11, 11, 11, 11, 11, 11, 11, 11, 11, 11, 11, 11, 11, 11, 11, 11, 11, 11, 11, 11, 11, 11, 11, 11, 11, 11, 11, 11, 11, 11, 11, 11, 11, 11, 11, 11, 11, 11, 11, 11, 11, 11, 11, 11, 11, 11, 11, 11, 11, 11, 11, 11, 11, 11, 11, 11, 11, 11, 11, 11, 11, 11, 11, 11, 11, 11, 11, 11, 11, 11, 11, 11, 11, 11, 11, 11, 11, 11, 11, 11, 11, 11, 11, 11, 11, 11, 11, 11, 11, 11, 11, 11, 11, 11, 11, 11, 11, 11, 11, 11, 11, 11, 11, 11, 11, 11, 11, 11, 11, 11, 11, 11, 11, 11, 11, 11, 11, 11, 11, 11, 11, 11, 11, 11, 11, 11, 11, 11, 11, 11, 11, 11, 11, 11, 11, 11, 11, 11, 11, 11, 11, 11, 11, 11, 11, 11, 11, 11, 11, 11, 11, 11, 11, 11, 11, 11, 11, 11, 11, 11, 11, 11, 11, 11, 11, 11, 11, 11, 11, 11, 11, 11, 11, 11, 11, 11, 11, 11, 11, 11, 11, 11, 11, 11, 11, 11, 11, 11, 11, 11, 11, 11, 11, 11, 11, 11, 11, 11, 11, 11, 11, 11, 11, 11, 11, 11, 11, 11, 11, 11, 11, 11, 11, 11, 11, 11, 11, 11, 11, 11, 11, 11, 11, 11, 11, 11, 11, 11, 11, 11, 11, 11, 11, 11, 11, 11, 11, 11, 11, 11, 11, 11, 11, 11, 11, 11, 11, 11, 11, 11, 11, 11, 11, 11, 11, 11, 11, 11, 11, 11, 11, 11, 11, 11, 11, 11, 11, 11, 11, 11, 11, 11, 11, 11, 11, 11, 11, 11, 11, 11, 11, 11, 11, 11, 11, 11, 11, 11, 11, 11, 11, 11, 11, 11, 11, 11, 11, 11, 11, 11, 11, 11, 11, 11, 11, 11, 11, 11, 11, 11, 11, 11, 11, 11, 11, 11, 11, 11, 11, 11, 11, 11, 11, 11, 11, 11, 11, 11, 11, 11, 11, 11, 11, 11, 11, 11, 11, 11, 11, 11, 11, 11, 11, 11, 11, 11, 11, 11, 11, 11, 11, 11, 11, 11, 11, 11, 11, 11, 11, 11, 11, 11, 11, 11, 11, 11, 11, 11, 11, 11, 11, 11, 11, 11, 11, 11, 11, 11, 11, 11, 11, 11, 11, 11, 11, 11, 11, 11, 11, 11, 11, 11, 11, 11, 11, 11, 11, 11, 11, 11, 11, 11, 11, 11, 11, 11, 11, 11, 11, 11, 11, 11, 11, 11, 11, 11, 11, 11, 11, 11, 11, 11, 11, 11, 11, 11, 11, 11, 11, 11, 11, 11, 11, 11, 11, 11, 11, 11, 11, 11, 11, 11, 11, 11, 11, 11, 11, 11, 11, 11, 11, 11, 11, 11, 11, 11, 11, 11, 11, 11, 11, 11, 11, 11, 11, 11, 11, 11, 11, 11, 11, 11, 11, 11, 11, 11, 11, 11, 11, 11, 11, 11, 11, 11, 11, 11, 11, 11, 11, 11, 11, 11, 11, 11, 11, 11, 11, 11, 11, 11, 11, 11, 11, 11, 11, 11, 11, 11, 11, 11, 11, 11, 11, 11, 11, 11, 11, 11, 11, 11, 11, 11, 11, 11, 11, 11, 11, 11, 11, 11, 11, 11, 11, 11, 11, 11, 11, 11, 11, 11, 11, 11, 11, 11, 11, 11, 11, 11, 11, 11, 11, 11, 11, 11, 11, 11, 11, 11, 11, 11, 11, 11, 11, 11, 11, 11, 11, 11, 11, 11, 11, 11, 11, 11, 11, 11, 11, 11, 11, 11, 11, 11, 11, 11, 11, 11, 11, 11, 11, 11, 11, 11, 11, 11, 11, 11, 11, 11, 11, 11, 11, 11, 11, 11, 11, 11, 11, 11, 11, 11, 11, 11, 11, 11, 11, 11, 11, 11, 11, 11, 11, 11, 11, 11, 11, 11, 11, 11, 11, 11, 11, 11, 11, 11, 11, 11, 11, 11, 11, 11, 11, 11, 11, 11, 11, 11, 11, 11, 11, 11, 11, 11, 11, 11, 11, 11, 11, 11, 11, 11, 11, 11, 11, 11, 11, 11, 11, 11, 11, 11, 11, 11, 11, 11, 11, 11, 11, 11, 11, 11, 11, 11, 11, 11, 11, 11, 11, 11, 11, 11, 11, 11, 11, 11, 11, 11, 11, 11, 11, 11, 11, 11, 11, 11, 11, 11, 11, 11, 11, 11, 11, 11, 11, 11, 11, 11, 11, 11, 11, 11, 11, 11, 11, 11, 11, 11, 11, 11, 11, 11, 11, 11, 11, 11, 11, 11, 11, 11, 11, 11, 11, 11, 11, 11, 11, 11, 11, 11, 11, 11, 11, 11, 11, 11, 11, 11, 11, 11, 11, 11, 11, 11, 11, 11, 11, 11, 11, 11, 11, 11, 11, 11, 11, 11, 11, 11, 11, 11, 11, 11, 11, 11, 11, 11, 11, 11, 11, 11, 11, 11, 11, 11, 11, 11, 11, 11, 11, 11, 11, 11, 11, 11, 11, 11, 11, 11, 11, 11, 11, 11, 11, 11, 11, 11, 11, 11, 11, 11, 11, 11, 11, 11, 11, 11, 11, 11, 11, 11, 11, 11, 11, 11, 11, 11, 11, 11, 11, 11, 11, 11, 11, 11, 11, 11, 11, 11, 11, 11, 11, 11, 11, 11, 11, 11, 11, 11, 11, 11, 11, 11, 11, 11, 11, 11, 11, 11, 11, 11, 11, 11, 11, 11, 11, 11, 11, 11, 11, 11, 11, 11, 11, 11, 11, 11, 11, 11, 11, 11, 11, 11, 11, 11, 11, 11, 11, 11, 11, 11, 11, 11, 11, 11, 11, 11, 11, 11, 11, 11, 11, 11, 11, 11, 11, 11, 11, 11, 11, 11, 11, 11, 11, 11, 11, 11, 11, 11, 11, 11, 11, 11, 11, 11, 11, 11, 11, 11, 11, 11, 11, 11, 11, 11, 11, 11, 11, 11, 11, 11, 11, 11, 11, 11, 11, 11, 11, 11, 11, 11, 11, 11, 11, 11, 11, 11, 11, 11, 11, 11, 11, 11, 11, 11, 11, 11, 11, 11, 11, 11, 11, 11, 11, 11, 11, 11, 11, 11, 11, 11, 11, 11, 11, 11, 11, 11, 11, 11, 11, 11, 11, 11, 11, 11, 11, 11, 11, 11, 11, 11, 11, 11, 11, 11, 11, 11, 11, 11, 11, 11, 11, 11, 11, 11, 11, 11, 11, 11, 11, 11, 11, 11, 11, 11, 11, 11, 11, 11, 11, 11, 11, 11, 11, 11, 11, 11, 11, 11, 11, 11, 11, 11, 11, 11, 11, 11, 11, 11, 11, 11, 11, 11, 11, 11, 11, 11, 11, 11, 11, 11, 11, 11, 11, 11, 11, 11, 11, 11, 11, 11, 11, 11, 11, 10, 10, 10, 10, 10, 10, 10, 10, 10, 10, 10, 10, 10, 10, 10, 10, 10, 10, 10, 10, 10, 10, 10, 10, 10, 10, 10, 10, 10, 10, 10, 10, 10, 10, 10, 10, 10, 10, 10, 10, 10, 10, 10, 10, 10, 10, 10, 10, 10, 10, 10, 10, 10, 10, 10, 10, 10, 10, 10, 10, 10, 10, 10, 10, 10, 10, 10, 10, 10, 10, 10, 10, 10, 10, 10, 10, 10, 10, 10, 10, 10, 10, 10, 10, 10, 10, 10, 10, 10, 10, 10, 10, 10, 10, 10, 10, 10, 10, 10, 10, 10, 10, 10, 10, 10, 10, 10, 10, 10, 10, 10, 10, 10, 10, 10, 10, 10, 10, 10, 10, 10, 10, 10, 10, 10, 10, 10, 10, 10, 10, 10, 10, 10, 10, 10, 10, 10, 10, 10, 10, 10, 10, 10, 10, 10, 10, 10, 10, 10, 10, 10, 10, 10, 10, 10, 10, 10, 10, 10, 10, 10, 10, 10, 10, 10, 10, 10, 10, 10, 10, 10, 10, 10, 10, 10, 10, 10, 10, 10, 10, 10, 10, 10, 10, 10, 10, 10, 10, 10, 10, 10, 10, 10, 10, 10, 10, 10, 10, 10, 10, 10, 10, 10, 10, 10, 10, 10, 10, 10, 10, 10, 10, 10, 10, 10, 10, 10, 10, 10, 10, 10, 10, 10, 10, 10, 10, 10, 10, 10, 10, 10, 10, 10, 10, 10, 10, 10, 10, 10, 10, 10, 10, 10, 10, 10, 10, 10, 10, 10, 10, 10, 10, 10, 10, 10, 10, 10, 10, 10, 10, 10, 10, 10, 10, 10, 10, 10, 10, 10, 10, 10, 10, 10, 10, 10, 10, 10, 10, 10, 10, 10, 10, 10, 10, 10, 10, 10, 10, 10, 10, 10, 10, 10, 10, 10, 10, 10, 10, 10, 10, 10, 10, 10, 10, 10, 10, 10, 10, 10, 10, 10, 10, 10, 10, 10, 10, 10, 10, 10, 10, 10, 10, 10, 10, 10, 10, 10, 10, 10, 10, 10, 10, 10, 10, 10, 10, 10, 10, 10, 10, 10, 10, 10, 10, 10, 10, 10, 10, 10, 10, 10, 10, 10, 10, 10, 10, 10, 10, 10, 10, 10, 10, 10, 10, 10, 10, 10, 10, 10, 10, 10, 10, 10, 10, 10, 10, 10, 10, 10, 10, 10, 10, 10, 10, 10, 10, 10, 10, 10, 10, 10, 10, 10, 10, 10, 10, 10, 10, 10, 10, 10, 10, 10, 10, 10, 10, 10, 10, 10, 10, 10, 10, 10, 10, 10, 10, 10, 10, 10, 10, 10, 10, 10, 10, 10, 10, 10, 10, 10, 10, 10, 10, 10, 10, 10, 10, 10, 10, 10, 10, 10, 10, 10, 10, 10, 10, 10, 10, 10, 10, 10, 10, 10, 10, 10, 10, 10, 10, 10, 10, 10, 10, 10, 10, 10, 10, 10, 10, 10, 10, 10, 10, 10, 10, 10, 10, 10, 10, 10, 10, 10, 10, 10, 10, 10, 10, 10, 10, 10, 10, 10, 10, 10, 10, 10, 10, 10, 10, 10, 10, 10, 10, 10, 10, 10, 10, 10, 10, 10, 10, 10, 10, 10, 10, 10, 10, 10, 10, 10, 10, 10, 10, 10, 10, 10, 10, 10, 10, 10, 10, 10, 10, 10, 10, 10, 10, 10, 10, 10, 10, 10, 10, 10, 10, 10, 10, 10, 10, 10, 10, 10, 10, 10, 10, 10, 10, 10, 10, 10, 10, 10, 10, 10, 10, 10, 10, 10, 10, 10, 10, 10, 10, 10, 10, 10, 10, 10, 10, 10, 10, 10, 10, 10, 10, 10, 10, 10, 10, 10, 10, 10, 10, 10, 10, 10, 10, 10, 10, 10, 10, 10, 10, 10, 10, 10, 10, 10, 10, 10, 10, 10, 10, 10, 10, 10, 10, 10, 10, 10, 10, 10, 10, 10, 10, 10, 10, 10, 10, 10, 10, 10, 10, 10, 10, 10, 10, 10, 10, 10, 10, 10, 10, 10, 10, 10, 10, 10, 10, 10, 10, 10, 10, 10, 10, 10, 10, 10, 10, 10, 10, 10, 10, 10, 10, 10, 10, 10, 10, 10, 10, 10, 10, 10, 10, 10, 10, 10, 10, 10, 10, 10, 10, 10, 10, 10, 10, 10, 10, 10, 10, 10, 10, 10, 10, 10, 10, 10, 10, 10, 10, 10, 10, 10, 10, 10, 10, 10, 10, 10, 10, 10, 10, 10, 10, 10, 10, 10, 10, 10, 10, 10, 10, 10, 10, 10, 10, 10, 10, 10, 10, 10, 10, 10, 10, 10, 10, 10, 10, 10, 10, 10, 10, 10, 10, 10, 10, 10, 10, 10, 10, 10, 10, 10, 10, 10, 10, 10, 10, 10, 10, 10, 10, 10, 10, 10, 10, 10, 10, 10, 10, 10, 10, 10, 10, 10, 10, 10, 10, 10, 10, 10, 10, 10, 10, 10, 10, 10, 10, 10, 10, 10, 10, 10, 10, 10, 10, 10, 10, 10, 10, 10, 10, 10, 10, 10, 10, 10, 10, 10, 10, 10, 10, 10, 10, 10, 10, 10, 10, 10, 10, 10, 10, 10, 10, 10, 10, 10, 10, 10, 10, 10, 10, 10, 10, 10, 10, 10, 10, 10, 10, 10, 10, 10, 10, 10, 10, 10, 10, 10, 10, 10, 10, 10, 10, 10, 10, 10, 10, 10, 10, 10, 10, 10, 10, 10, 10, 10, 10, 10, 10, 10, 10, 10, 10, 10, 10, 10, 10, 10, 10, 10, 10, 10, 10, 10, 10, 10, 10, 10, 10, 10, 10, 10, 10, 10, 10, 10, 10, 10, 10, 10, 10, 10, 10, 10, 10, 10, 10, 10, 10, 10, 10, 10, 10, 10, 10, 10, 10, 10, 10, 10, 10, 10, 10, 10, 10, 10, 10, 10, 10, 10, 10, 10, 10, 10, 10, 10, 10, 10, 10, 10, 10, 10, 10, 10, 10, 10, 10, 10, 10, 10, 10, 10, 10, 10, 10, 10, 10, 10, 10, 10, 10, 10, 10, 10, 10, 10, 10, 10, 10, 10, 10, 10, 10, 10, 10, 10, 10, 10, 10, 10, 10, 10, 10, 10, 10, 10, 10, 10, 10, 10, 10, 10, 10, 10, 10, 10, 10, 10, 10, 10, 10, 10, 10, 10, 10, 10, 10, 10, 10, 10, 10, 10, 10, 10, 10, 10, 10, 10, 10, 10, 10, 10, 10, 10, 10, 10, 10, 10, 10, 10, 10, 10, 10, 10, 10, 10, 10, 10, 10, 10, 10, 10, 10, 10, 10, 10, 10, 10, 10, 10, 10, 10, 10, 10, 10, 10, 10, 10, 10, 10, 10, 10, 10, 10, 10, 10, 10, 10, 10, 10, 10, 10, 10, 10, 10, 10, 10, 10, 10, 10, 10, 10, 10, 10, 10, 10, 10, 10, 10, 10, 10, 10, 10, 10, 10, 10, 10, 10, 10, 10, 10, 10, 10, 10, 10, 10, 10, 10, 10, 10, 10, 10, 10, 10, 10, 10, 10, 10, 10, 10, 10, 10, 10, 10, 10, 10, 10, 10, 10, 10, 10, 10, 10, 10, 10, 10, 10, 10, 10, 10, 10, 10, 10, 10, 10, 10, 10, 10, 10, 10, 10, 10, 10, 10, 10, 10, 10, 10, 10, 10, 10, 10, 10, 10, 10, 10, 10, 10, 10, 10, 10, 10, 10, 10, 10, 10, 10, 10, 10, 10, 10, 10, 10, 10, 10, 10, 10, 10, 10, 10, 10, 10, 10, 10, 10, 10, 10, 10, 10, 10, 10, 10, 10, 10, 10, 10, 10, 10, 10, 10, 10, 10, 10, 10, 10, 10, 10, 10, 10, 10, 10, 10, 10, 10, 10, 10, 10, 10, 10, 10, 10, 10, 10, 10, 10, 10, 10, 10, 10, 10, 10, 10, 10, 10, 10, 10, 10, 10, 10, 10, 10, 10, 10, 10, 10, 10, 10, 10, 10, 10, 10, 10, 10, 10, 10, 10, 10, 10, 10, 10, 10, 10, 10, 10, 10, 10, 10, 10, 10, 10, 10, 10, 10, 10, 10, 10, 10, 10, 10, 10, 10, 10, 10, 10, 10, 10, 10, 10, 10, 10, 10, 10, 10, 10, 10, 10, 10, 10, 10, 10, 10, 10, 10, 10, 10, 10, 10, 10, 10, 10, 10, 10, 10, 10, 10, 10, 10, 10, 10, 10, 10, 10, 10, 10, 10, 10, 10, 10, 10, 10, 10, 10, 10, 10, 10, 10, 10, 10, 10, 10, 10, 10, 10, 10, 10, 10, 10, 10, 10, 10, 10, 10, 10, 10, 10, 10, 10, 10, 10, 10, 10, 10, 10, 10, 10, 10, 10, 10, 10, 10, 10, 10, 10, 10, 10, 10, 10, 10, 10, 10, 10, 10, 10, 10, 10, 10, 10, 10, 10, 10, 10, 10, 10, 10, 10, 10, 10, 10, 10, 10, 10, 10, 10, 10, 10, 10, 10, 10, 10, 10, 10, 10, 10, 10, 10, 10, 10, 10, 10, 10, 10, 10, 10, 10, 10, 10, 10, 10, 10, 10, 10, 10, 10, 10, 10, 10, 10, 10, 10, 10, 10, 10, 10, 10, 10, 10, 10, 10, 10, 10, 10, 10, 10, 10, 10, 10, 10, 10, 10, 10, 10, 10, 10, 10, 10, 10, 10, 10, 10, 10, 10, 10, 10, 10, 10, 10, 10, 10, 10, 10, 10, 10, 10, 10, 10, 10, 10, 10, 10, 10, 10, 10, 10, 10, 10, 10, 10, 10, 10, 10, 10, 10, 10, 10, 10, 10, 10, 10, 10, 10, 10, 10, 10, 10, 10, 10, 10, 10, 10, 10, 10, 10, 10, 10, 10, 10, 10, 10, 10, 10, 10, 10, 10, 10, 10, 10, 10, 10, 10, 10, 10, 10, 10, 10, 10, 10, 10, 10, 10, 10, 10, 10, 10, 10, 10, 10, 10, 10, 10, 10, 10, 10, 10, 10, 10, 10, 10, 10, 10, 10, 10, 10, 10, 10, 10, 10, 10, 10, 10, 10, 10, 10, 10, 10, 10, 10, 10, 10, 10, 10, 10, 10, 10, 10, 10, 10, 10, 10, 10, 10, 10, 10, 10, 10, 10, 10, 10, 10, 10, 10, 10, 10, 10, 10, 10, 10, 10, 10, 10, 10, 10, 10, 10, 10, 10, 10, 10, 10, 10, 10, 10, 10, 10, 10, 10, 10, 10, 10, 10, 10, 10, 10, 10, 10, 10, 10, 10, 10, 10, 10, 10, 10, 10, 10, 10, 10, 10, 10, 10, 10, 10, 10, 10, 10, 10, 10, 10, 10, 10, 10, 10, 10, 10, 10, 10, 10, 10, 10, 10, 10, 10, 10, 10, 10, 10, 10, 10, 10, 10, 10, 10, 10, 10, 10, 10, 10, 10, 10, 10, 10, 10, 10, 10, 10, 10, 10, 10, 10, 10, 10, 10, 10, 10, 10, 10, 10, 10, 10, 10, 10, 10, 10, 10, 10, 10, 10, 10, 10, 10, 10, 10, 10, 10, 10, 10, 10, 10, 10, 10, 10, 10, 10, 10, 10, 10, 10, 10, 10, 10, 10, 10, 10, 10, 10, 10, 10, 10, 10, 10, 10, 10, 10, 10, 10, 10, 10, 10, 10, 10, 10, 10, 10, 10, 10, 10, 10, 10, 10, 10, 10, 10, 10, 10, 10, 10, 10, 10, 10, 10, 10, 10, 10, 10, 10, 10, 10, 10, 10, 10, 10, 10, 10, 10, 10, 10, 10, 10, 10, 10, 10, 10, 10, 10, 10, 10, 10, 10, 10, 10, 10, 10, 10, 10, 10, 10, 10, 10, 10, 10, 10, 10, 10, 10, 10, 10, 10, 10, 10, 10, 10, 10, 10, 10, 10, 10, 10, 10, 10, 10, 10, 10, 10, 10, 10, 10, 10, 10, 10, 10, 10, 10, 10, 10, 10, 10, 10, 10, 10, 10, 10, 10, 10, 10, 10, 10, 10, 10, 10, 10, 10, 10, 10, 10, 10, 10, 10, 10, 10, 10, 10, 10, 10, 10, 10, 10, 10, 10, 10, 10, 10, 10, 10, 10, 10, 10, 10, 10, 10, 10, 10, 10, 10, 10, 10, 10, 10, 10, 10, 10, 10, 10, 10, 10, 10, 10, 10, 10, 10, 10, 10, 10, 10, 10, 10, 10, 10, 10, 10, 10, 10, 10, 10, 10, 10, 10, 10, 10, 10, 10, 10, 10, 10, 10, 10, 10, 10, 10, 10, 10, 10, 10, 10, 10, 10, 10, 10, 10, 10, 10, 10, 10, 10, 10, 10, 10, 10, 10, 10, 10, 10, 10, 10, 10, 10, 10, 10, 10, 10, 10, 10, 10, 10, 10, 10, 10, 10, 10, 10, 10, 10, 10, 10, 10, 10, 10, 10, 10, 10, 10, 10, 10, 10, 10, 10, 10, 10, 10, 10, 10, 10, 10, 10, 10, 10, 10, 10, 10, 10, 10, 10, 10, 10, 10, 10, 10, 10, 10, 10, 10, 10, 10, 10, 10, 10, 10, 10, 10, 10, 10, 10, 10, 10, 10, 10, 10, 10, 10, 10, 10, 10, 10, 10, 10, 10, 10, 10, 10, 10, 10, 10, 10, 10, 10, 10, 10, 10, 10, 10, 10, 10, 10, 10, 10, 10, 10, 10, 10, 10, 10, 10, 10, 10, 10, 10, 10, 10, 10, 10, 10, 10, 10, 10, 10, 10, 10, 10, 10, 10, 10, 10, 10, 10, 10, 10, 10, 10, 10, 10, 10, 10, 10, 10, 10, 10, 10, 10, 10, 10, 10, 10, 10, 10, 10, 10, 10, 10, 10, 10, 10, 10, 10, 10, 10, 10, 10, 10, 10, 10, 10, 10, 10, 10, 10, 10, 10, 10, 10, 10, 10, 10, 10, 10, 10, 10, 10, 10, 10, 10, 10, 10, 10, 10, 10, 10, 10, 10, 10, 10, 10, 10, 10, 10, 10, 10, 10, 10, 10, 10, 10, 10, 10, 10, 10, 10, 10, 10, 10, 10, 10, 10, 10, 10, 10, 10, 10, 10, 10, 10, 10, 10, 10, 10, 10, 10, 10, 10, 10, 10, 10, 10, 10, 10, 10, 10, 10, 10, 10, 10, 10, 10, 10, 10, 10, 10, 10, 10, 10, 10, 10, 10, 10, 10, 10, 10, 10, 10, 10, 10, 10, 10, 10, 10, 10, 10, 10, 10, 10, 10, 10, 10, 10, 10, 10, 10, 10, 10, 10, 10, 10, 10, 10, 10, 10, 10, 10, 10, 10, 10, 10, 10, 10, 10, 10, 10, 10, 10, 10, 10, 10, 10, 10, 10, 10, 10, 10, 10, 10, 10, 10, 10, 10, 10, 10, 10, 10, 10, 10, 10, 10, 10, 10, 10, 10, 10, 10, 10, 10, 10, 10, 10, 10, 10, 10, 10, 10, 10, 10, 10, 10, 10, 10, 10, 10, 10, 10, 10, 10, 10, 10, 10, 10, 10, 10, 10, 10, 10, 10, 10, 10, 10, 10, 10, 10, 10, 10, 10, 10, 10, 10, 10, 10, 10, 10, 10, 10, 10, 10, 10, 10, 10, 10, 10, 10, 10, 10, 10, 10, 10, 10, 10, 10, 10, 10, 10, 10, 10, 10, 10, 10, 10, 10, 10, 10, 10, 10, 10, 10, 10, 10, 10, 10, 10, 10, 10, 10, 10, 10, 10, 10, 10, 10, 10, 10, 10, 10, 10, 10, 10, 10, 10, 10, 10, 10, 10, 10, 10, 10, 10, 10, 10, 10, 10, 10, 10, 10, 10, 10, 10, 10, 10, 10, 10, 10, 10, 10, 10, 10, 10, 10, 10, 10, 10, 10, 10, 10, 10, 10, 10, 10, 10, 10, 10, 10, 10, 10, 10, 10, 10, 10, 10, 10, 10, 10, 10, 10, 10, 10, 10, 10, 10, 10, 10, 10, 10, 10, 10, 10, 10, 10, 10, 10, 10, 10, 10, 10, 10, 10, 10, 10, 10, 10, 10, 10, 10, 10, 10, 10, 10, 10, 10, 10, 10, 10, 10, 10, 10, 10, 10, 10, 10, 10, 10, 10, 10, 10, 10, 10, 10, 10, 10, 10, 10, 10, 10, 10, 10, 10, 10, 10, 10, 10, 10, 10, 10, 10, 10, 10, 10, 10, 10, 10, 10, 10, 10, 10, 10, 10, 10, 10, 10, 10, 10, 10, 10, 10, 10, 10, 10, 10, 10, 10, 10, 10, 10, 10, 10, 10, 10, 10, 10, 10, 10, 10, 10, 10, 10, 10, 10, 10, 10, 10, 10, 10, 10, 10, 10, 10, 10, 10, 10, 10, 10, 10, 10, 10, 10, 10, 10, 10, 10, 10, 10, 10, 10, 10, 10, 10, 10, 10, 10, 10, 10, 10, 10, 10, 10, 10, 10, 10, 10, 10, 10, 10, 10, 10, 10, 10, 10, 10, 10, 10, 10, 10, 10, 10, 10, 10, 10, 10, 10, 10, 10, 10, 10, 10, 10, 10, 10, 10, 10, 10, 10, 10, 10, 10, 10, 10, 10, 10, 10, 10, 10, 10, 10, 10, 10, 10, 10, 10, 10, 10, 10, 10, 10, 10, 10, 10, 10, 10, 10, 10, 10, 10, 10, 10, 10, 10, 10, 10, 10, 10, 10, 10, 10, 10, 10, 10, 10, 10, 10, 10, 10, 10, 10, 10, 10, 10, 10, 10, 10, 10, 10, 10, 10, 10, 10, 10, 10, 10, 10, 10, 10, 10, 10, 10, 10, 10, 10, 10, 10, 10, 10, 10, 10, 10, 10, 10, 10, 10, 10, 10, 10, 10, 10, 10, 10, 10, 10, 10, 10, 10, 10, 10, 10, 10, 10, 10, 10, 10, 10, 10, 10, 10, 10, 10, 10, 10, 10, 10, 10, 10, 10, 10, 10, 10, 10, 10, 10, 10, 10, 10, 10, 10, 10, 10, 10, 10, 10, 10, 10, 10, 10, 10, 10, 10, 10, 10, 10, 10, 10, 10, 10, 10, 10, 10, 10, 10, 10, 10, 10, 10, 10, 10, 10, 10, 10, 10, 10, 10, 10, 10, 10, 10, 10, 10, 10, 10, 10, 10, 10, 10, 10, 10, 10, 10, 10, 10, 10, 10, 10, 10, 10, 10, 10, 10, 10, 10, 10, 10, 10, 10, 10, 10, 10, 10, 10, 10, 10, 10, 10, 10, 10, 10, 10, 10, 10, 10, 10, 10, 10, 10, 10, 10, 10, 10, 10, 10, 10, 10, 10, 10, 10, 10, 10, 10, 10, 10, 10, 10, 10, 10, 10, 10, 10, 10, 10, 10, 10, 10, 10, 10, 10, 10, 10, 10, 10, 10, 10, 10, 10, 10, 10, 10, 10, 10, 10, 10, 10, 10, 10, 10, 10, 10, 10, 10, 10, 10, 10, 10, 10, 10, 10, 10, 10, 10, 10, 10, 10, 10, 10, 10, 10, 10, 10, 10, 10, 10, 10, 10, 10, 10, 10, 10, 10, 10, 10, 10, 10, 10, 10, 10, 10, 10, 10, 10, 10, 10, 10, 10, 10, 10, 10, 10, 10, 10, 10, 10, 10, 10, 10, 10, 10, 10, 10, 10, 10, 10, 10, 10, 10, 10, 10, 10, 10, 10, 10, 10, 10, 10, 10, 10, 10, 10, 10, 10, 10, 10, 10, 10, 10, 10, 10, 10, 10, 10, 10, 10, 10, 10, 10, 10, 10, 10, 10, 10, 10, 10, 10, 10, 10, 10, 10, 10, 10, 10, 10, 10, 10, 10, 10, 10, 10, 10, 10, 10, 10, 10, 10, 10, 10, 10, 10, 10, 10, 10, 10, 10, 10, 10, 10, 10, 10, 10, 10, 10, 10, 10, 10, 10, 10, 10, 10, 10, 10, 10, 10, 10, 10, 10, 10, 10, 10, 10, 10, 10, 10, 10, 10, 10, 10, 10, 10, 10, 10, 10, 10, 10, 10, 10, 10, 10, 10, 10, 10, 10, 10, 10, 10, 10, 10, 10, 10, 10, 10, 10, 10, 10, 10, 10, 10, 10, 10, 10, 10, 10, 10, 10, 10, 10, 10, 10, 10, 10, 10, 10, 10, 10, 10, 10, 10, 10, 10, 10, 10, 10, 10, 10, 10, 10, 10, 10, 10, 10, 10, 10, 10, 10, 10, 10, 10, 10, 10, 10, 10, 10, 10, 10, 10, 10, 10, 10, 10, 10, 10, 10, 10, 10, 10, 10, 10, 10, 10, 10, 10, 10, 10, 10, 10, 10, 10, 10, 10, 10, 10, 10, 10, 10, 10, 10, 10, 10, 10, 10, 10, 10, 10, 10, 10, 10, 10, 10, 10, 10, 10, 10, 10, 10, 10, 10, 10, 10, 10, 10, 10, 10, 10, 10, 10, 10, 10, 10, 10, 10, 10, 10, 10, 10, 10, 10, 10, 10, 10, 10, 10, 10, 10, 10, 10, 10, 10, 10, 10, 10, 10, 10, 10, 10, 10, 10, 10, 10, 10, 10, 10, 10, 10, 10, 10, 10, 10, 10, 10, 10, 10, 10, 10, 10, 10, 10, 10, 10, 10, 10, 10, 10, 10, 10, 10, 10, 10, 10, 10, 10, 10, 10, 10, 10, 10, 10, 10, 10, 10, 10, 10, 10, 10, 10, 10, 10, 10, 10, 10, 10, 10, 10, 10, 10, 10, 10, 10, 10, 10, 10, 10, 10, 10, 10, 10, 10, 10, 10, 10, 10, 10, 10, 10, 10, 10, 10, 10, 10, 10, 10, 10, 10, 10, 10, 10, 10, 10, 10, 10, 10, 10, 10, 10, 10, 10, 10, 10, 10, 10, 10, 10, 10, 10, 10, 10, 10, 10, 10, 10, 10, 10, 10, 10, 10, 10, 10, 10, 10, 10, 10, 10, 10, 10, 10, 10, 10, 10, 10, 10, 10, 10, 10, 10, 10, 10, 10, 10, 10, 10, 10, 10, 10, 10, 10, 10, 10, 10, 10, 10, 10, 10, 10, 10, 10, 10, 10, 10, 10, 10, 10, 10, 10, 10, 10, 10, 10, 10, 10, 10, 10, 10, 10, 10, 10, 10, 10, 10, 10, 10, 10, 10, 10, 10, 10, 10, 10, 10, 10, 10, 10, 10, 10, 10, 10, 10, 10, 10, 10, 10, 10, 10, 10, 10, 10, 10, 10, 10, 10, 10, 10, 10, 10, 10, 10, 10, 10, 10, 10, 10, 10, 10, 10, 10, 10, 10, 10, 10, 10, 10, 10, 10, 10, 10, 10, 10, 10, 10, 10, 10, 10, 10, 10, 10, 10, 10, 10, 10, 10, 10, 10, 10, 10, 10, 10, 10, 10, 10, 10, 10, 10, 10, 10, 10, 10, 10, 10, 10, 10, 10, 10, 10, 10, 10, 10, 10, 10, 10, 10, 10, 10, 10, 10, 10, 10, 10, 10, 10, 10, 10, 10, 10, 10, 10, 10, 10, 10, 10, 10, 10, 10, 10, 10, 10, 10, 10, 10, 10, 10, 10, 10, 10, 10, 10, 10, 10, 10, 10, 10, 10, 10, 10, 10, 10, 10, 10, 10, 10, 10, 10, 10, 10, 10, 10, 10, 10, 10, 10, 10, 10, 10, 10, 10, 10, 10, 10, 10, 10, 10, 10, 10, 10, 10, 10, 10, 10, 10, 10, 10, 10, 10, 10, 10, 10, 10, 10, 10, 10, 10, 10, 10, 10, 10, 10, 10, 10, 10, 10, 10, 10, 10, 10, 10, 10, 10, 10, 10, 10, 10, 10, 10, 10, 10, 10, 10, 10, 10, 10, 10, 10, 10, 10, 10, 10, 10, 10, 10, 10, 10, 10, 10, 10, 10, 10, 10, 10, 10, 10, 10, 10, 10, 10, 10, 10, 10, 10, 10, 10, 10, 10, 10, 10, 10, 10, 10, 10, 10, 10, 10, 10, 10, 10, 10, 10, 10, 10, 10, 10, 10, 10, 10, 10, 10, 10, 10, 10, 10, 10, 10, 10, 10, 10, 10, 10, 10, 10, 10, 10, 10, 10, 10, 10, 10, 10, 10, 10, 10, 10, 10, 10, 10, 10, 10, 10, 10, 10, 10, 10, 10, 10, 10, 10, 10, 10, 10, 10, 10, 10, 10, 10, 10, 10, 10, 10, 10, 10, 10, 10, 10, 10, 10, 10, 10, 10, 10, 10, 10, 10, 10, 10, 10, 10, 10, 10, 10, 10, 10, 10, 10, 10, 10, 10, 10, 10, 10, 10, 10, 10, 10, 10, 10, 10, 10, 10, 10, 10, 10, 10, 10, 10, 10, 10, 10, 10, 10, 10, 10, 10, 10, 10, 10, 10, 10, 10, 10, 10, 10, 10, 10, 10, 10, 10, 10, 10, 10, 10, 10, 10, 10, 10, 10, 10, 10, 10, 10, 10, 10, 10, 10, 10, 10, 10, 10, 10, 10, 10, 10, 10, 10, 10, 10, 10, 10, 10, 10, 10, 10, 10, 10, 10, 10, 10, 10, 10, 10, 10, 10, 10, 10, 10, 10, 10, 10, 10, 10, 10, 10, 10, 10, 10, 10, 10, 10, 10, 10, 10, 10, 10, 10, 10, 10, 10, 10, 10, 10, 10, 10, 10, 10, 10, 10, 10, 10, 10, 10, 10, 10, 10, 10, 10, 10, 10, 10, 10, 10, 10, 10, 10, 10, 10, 10, 10, 10, 10, 10, 10, 10, 10, 10, 10, 10, 10, 10, 10, 10, 10, 10, 10, 10, 10, 10, 10, 10, 10, 10, 10, 10, 10, 10, 10, 10, 10, 10, 10, 10, 10, 10, 10, 10, 10, 10, 10, 10, 10, 10, 10, 10, 10, 10, 10, 10, 10, 10, 10, 10, 10, 10, 10, 10, 10, 10, 10, 10, 10, 10, 10, 10, 10, 10, 10, 10, 10, 10, 10, 10, 10, 10, 10, 10, 10, 10, 10, 10, 10, 10, 10, 10, 10, 10, 10, 10, 10, 10, 10, 10, 10, 10, 10, 10, 10, 10, 10, 10, 10, 10, 10, 10, 10, 10, 10, 10, 10, 10, 10, 10, 10, 10, 10, 10, 10, 10, 10, 10, 10, 10, 10, 10, 10, 10, 10, 10, 10, 10, 10, 10, 10, 10, 10, 10, 10, 10, 10, 10, 10, 10, 10, 10, 10, 10, 10, 10, 10, 10, 10, 10, 10, 10, 10, 10, 10, 10, 10, 10, 10, 10, 10, 10, 10, 10, 10, 10, 10, 10, 10, 10, 10, 10, 10, 10, 10, 10, 10, 10, 10, 10, 10, 10, 10, 10, 10, 10, 10, 10, 10, 10, 10, 10, 10, 10, 10, 10, 10, 10, 10, 10, 10, 10, 10, 10, 10, 10, 10, 10, 10, 10, 10, 10, 10, 10, 10, 10, 10, 10, 10, 10, 10, 10, 10, 10, 10, 10, 10, 10, 10, 10, 10, 10, 10, 10, 10, 10, 10, 10, 10, 10, 10, 10, 10, 10, 10, 10, 10, 10, 10, 10, 10, 10, 10, 10, 10, 10, 10, 10, 10, 10, 10, 10, 10, 10, 10, 10, 10, 10, 10, 10, 10, 10, 10, 10, 10, 10, 10, 10, 10, 10, 10, 10, 10, 10, 10, 10, 10, 10, 10, 10, 10, 10, 10, 10, 10, 10, 10, 10, 10, 10, 10, 10, 10, 10, 10, 10, 10, 10, 10, 10, 10, 10, 10, 10, 10, 10, 10, 10, 10, 10, 10, 10, 10, 10, 10, 10, 10, 10, 10, 10, 10, 10, 10, 10, 10, 10, 10, 10, 10, 10, 10, 10, 10, 10, 10, 10, 10, 10, 10, 10, 10, 10, 10, 10, 10, 10, 10, 10, 10, 10, 10, 10, 10, 10, 10, 10, 10, 10, 10, 10, 10, 10, 10, 10, 10, 10, 10, 10, 10, 10, 10, 10, 10, 10, 10, 10, 10, 10, 10, 10, 10, 10, 10, 10, 10, 10, 10, 10, 10, 10, 10, 10, 10, 10, 10, 10, 10, 10, 10, 10, 10, 10, 10, 10, 10, 10, 10, 10, 10, 10, 10, 10, 10, 10, 10, 10, 10, 10, 10, 10, 10, 10, 10, 10, 10, 10, 10, 10, 10, 10, 10, 10, 10, 10, 10, 10, 10, 10, 10, 10, 10, 10, 10, 10, 10, 10, 10, 10, 10, 10, 10, 10, 10, 10, 10, 10, 10, 10, 10, 10, 10, 10, 10, 10, 10, 10, 10, 10, 10, 10, 10, 10, 10, 10, 10, 10, 10, 10, 10, 10, 10, 10, 10, 10, 10, 10, 10, 10, 10, 10, 10, 10, 10, 10, 10, 10, 10, 10, 10, 10, 10, 10, 10, 10, 10, 10, 10, 10, 10, 10, 10, 10, 10, 10, 10, 10, 10, 10, 10, 10, 10, 10, 10, 10, 10, 10, 10, 10, 10, 10, 10, 10, 10, 10, 10, 10, 10, 10, 10, 10, 10, 10, 10, 10, 10, 10, 10, 10, 10, 10, 10, 10, 10, 10, 10, 10, 10, 10, 10, 10, 10, 10, 10, 10, 10, 10, 10, 10, 10, 10, 10, 10, 10, 10, 10, 10, 10, 10, 10, 10, 10, 10, 10, 10, 10, 10, 10, 10, 10, 10, 10, 10, 10, 10, 10, 10, 10, 10, 10, 10, 10, 10, 10, 10, 10, 10, 10, 10, 10, 10, 10, 10, 10, 10, 10, 10, 10, 10, 10, 10, 10, 10, 10, 10, 10, 10, 10, 10, 10, 10, 10, 10, 10, 10, 10, 10, 10, 10, 10, 10, 10, 10, 10, 10, 10, 10, 10, 10, 10, 10, 10, 10, 10, 10, 10, 10, 10, 10, 10, 10, 10, 10, 10, 10, 10, 10, 10, 10, 10, 10, 10, 10, 10, 10, 10, 10, 10, 10, 10, 10, 10, 10, 10, 10, 10, 10, 10, 10, 10, 10, 10, 10, 10, 10, 10, 10, 10, 10, 10, 10, 10, 10, 10, 10, 10, 10, 10, 10, 10, 10, 10, 10, 10, 10, 10, 10, 10, 10, 10, 10, 10, 10, 10, 10, 10, 10, 10, 10, 10, 10, 10, 10, 10, 10, 10, 10, 10, 10, 10, 10, 10, 10, 10, 10, 10, 10, 10, 10, 10, 10, 10, 10, 10, 10, 10, 10, 10, 10, 10, 10, 10, 10, 10, 10, 10, 10, 10, 10, 10, 10, 10, 10, 10, 10, 10, 10, 10, 10, 10, 10, 10, 10, 10, 10, 10, 10, 10, 10, 10, 10, 10, 10, 10, 10, 10, 10, 10, 10, 10, 10, 10, 10, 10, 10, 10, 10, 10, 10, 10, 10, 10, 10, 10, 10, 10, 10, 10, 10, 10, 10, 10, 10, 10, 10, 10, 10, 10, 10, 10, 10, 10, 10, 10, 10, 10, 10, 10, 10, 10, 10, 10, 10, 10, 10, 10, 10, 10, 10, 10, 10, 10, 10, 10, 10, 10, 10, 10, 10, 10, 10, 10, 10, 10, 10, 10, 10, 10, 10, 10, 10, 10, 10, 10, 10, 10, 10, 10, 10, 10, 10, 10, 10, 10, 10, 10, 10, 10, 10, 10, 10, 10, 10, 10, 10, 10, 10, 10, 10, 10, 10, 10, 10, 10, 10, 10, 10, 10, 10, 10, 10, 10, 10, 10, 10, 10, 10, 10, 10, 10, 10, 10, 10, 10, 10, 10, 10, 10, 10, 10, 10, 10, 10, 10, 10, 10, 10, 10, 10, 10, 10, 10, 10, 10, 10, 10, 10, 10, 10, 10, 10, 10, 10, 10, 10, 10, 10, 10, 10, 10, 10, 10, 10, 10, 10, 10, 10, 10, 10, 10, 10, 10, 10, 10, 10, 10, 10, 10, 10, 10, 10, 10, 10, 10, 10, 10, 10, 10, 10, 10, 10, 10, 10, 10, 10, 10, 10, 10, 10, 10, 10, 10, 10, 10, 10, 10, 10, 10, 10, 10, 10, 10, 10, 10, 10, 10, 10, 10, 10, 10, 10, 10, 10, 10, 10, 10, 10, 10, 10, 10, 10, 10, 10, 10, 10, 10, 10, 10, 10, 10, 10, 10, 10, 10, 10, 10, 10, 10, 10, 10, 10, 10, 10, 10, 10, 10, 10, 10, 10, 10, 10, 10, 10, 10, 10, 10, 10, 10, 10, 10, 10, 10, 10, 10, 10, 10, 10, 10, 10, 10, 10, 10, 10, 10, 10, 10, 10, 10, 10, 10, 10, 10, 10, 10, 10, 10, 10, 10, 10, 10, 10, 10, 10, 10, 10, 10, 10, 10, 10, 10, 10, 10, 10, 10, 10, 10, 10, 10, 10, 10, 10, 10, 10, 10, 10, 10, 10, 10, 10, 10, 10, 10, 10, 10, 10, 10, 10, 10, 10, 10, 10, 10, 10, 10, 10, 10, 10, 10, 10, 10, 10, 10, 10, 10, 10, 10, 10, 10, 10, 10, 10, 10, 10, 10, 10, 10, 10, 10, 10, 10, 10, 10, 10, 10, 10, 10, 10, 10, 10, 10, 10, 10, 10, 10, 10, 10, 10, 10, 10, 10, 10, 10, 10, 10, 10, 10, 10, 10, 10, 10, 10, 10, 10, 10, 10, 10, 10, 10, 10, 10, 10, 10, 10, 10, 10, 10, 10, 10, 10, 10, 10, 10, 10, 10, 10, 10, 10, 10, 10, 10, 10, 10, 10, 10, 10, 10, 10, 10, 10, 10, 10, 10, 10, 10, 10, 10, 10, 10, 10, 10, 10, 10, 10, 10, 10, 10, 10, 10, 10, 10, 10, 10, 10, 10, 10, 10, 10, 10, 10, 10, 10, 10, 10, 10, 10, 10, 10, 10, 10, 10, 10, 10, 10, 10, 10, 10, 10, 10, 10, 10, 10, 10, 10, 10, 10, 10, 10, 10, 10, 10, 10, 10, 10, 10, 10, 10, 10, 10, 10, 10, 10, 10, 10, 10, 10, 10, 10, 10, 10, 10, 10, 10, 10, 10, 10, 10, 10, 10, 10, 10, 10, 10, 10, 10, 10, 10, 10, 10, 10, 10, 10, 10, 10, 10, 10, 10, 10, 10, 10, 10, 10, 10, 10, 10, 10, 10, 10, 10, 10, 10, 10, 10, 10, 10, 10, 10, 10, 10, 10, 10, 10, 10, 10, 10, 10, 10, 10, 10, 10, 10, 10, 10, 10, 10, 10, 10, 10, 10, 10, 10, 10, 10, 10, 10, 10, 10, 10, 10, 10, 10, 10, 10, 10, 10, 10, 10, 10, 10, 10, 10, 10, 10, 10, 10, 10, 10, 10, 10, 10, 10, 10, 10, 10, 10, 10, 10, 10, 10, 10, 10, 10, 10, 10, 10, 10, 10, 10, 10, 10, 10, 10, 10, 10, 10, 10, 10, 10, 10, 10, 10, 10, 10, 10, 10, 10, 10, 10, 10, 10, 10, 10, 10, 10, 10, 10, 10, 10, 10, 10, 10, 10, 10, 10, 10, 10, 10, 10, 10, 10, 10, 10, 10, 10, 10, 10, 10, 10, 10, 10, 10, 10, 10, 10, 10, 10, 10, 10, 10, 10, 10, 10, 10, 10, 10, 10, 10, 10, 10, 10, 10, 10, 10, 10, 10, 10, 10, 10, 10, 10, 10, 10, 10, 10, 10, 10, 10, 10, 10, 10, 10, 10, 10, 10, 10, 10, 10, 10, 10, 10, 10, 10, 10, 10, 10, 10, 10, 10, 10, 10, 10, 10, 10, 10, 10, 10, 10, 10, 10, 10, 10, 10, 10, 10, 10, 10, 10, 10, 10, 10, 10, 10, 10, 10, 10, 10, 10, 10, 10, 10, 10, 10, 10, 10, 10, 10, 10, 10, 10, 10, 10, 10, 10, 10, 10, 10, 10, 10, 10, 10, 10, 10, 10, 10, 10, 10, 10, 10, 10, 10, 10, 10, 10, 10, 10, 10, 10, 10, 10, 10, 10, 10, 10, 10, 10, 10, 10, 10, 10, 10, 10, 10, 10, 10, 10, 10, 10, 10, 10, 10, 10, 10, 10, 10, 10, 10, 10, 10, 10, 10, 10, 10, 10, 10, 10, 10, 10, 10, 10, 10, 10, 10, 10, 10, 10, 10, 10, 10, 10, 10, 10, 10, 10, 10, 10, 10, 10, 10, 10, 10, 10, 10, 10, 10, 10, 10, 10, 10, 10, 10, 10, 10, 10, 10, 10, 10, 10, 10, 10, 10, 10, 10, 10, 10, 10, 10, 10, 10, 10, 10, 10, 10, 10, 10, 10, 10, 10, 10, 10, 10, 10, 10, 10, 10, 10, 10, 10, 10, 10, 10, 10, 10, 10, 10, 10, 10, 10, 10, 10, 10, 10, 10, 10, 10, 10, 10, 10, 10, 10, 10, 10, 10, 10, 10, 10, 10, 10, 10, 10, 10, 10, 10, 10, 10, 10, 10, 10, 10, 10, 10, 10, 10, 10, 10, 10, 10, 10, 10, 10, 10, 10, 10, 10, 10, 10, 10, 10, 10, 10, 10, 10, 10, 10, 10, 10, 10, 10, 10, 10, 10, 10, 10, 10, 10, 10, 10, 10, 10, 10, 10, 10, 10, 10, 10, 10, 10, 10, 10, 10, 10, 10, 10, 10, 10, 10, 10, 10, 10, 10, 10, 10, 10, 10, 10, 10, 10, 10, 10, 10, 10, 10, 10, 10, 10, 10, 10, 10, 10, 10, 10, 10, 10, 10, 10, 10, 10, 10, 10, 10, 10, 10, 10, 10, 10, 10, 10, 10, 10, 10, 10, 10, 10, 10, 10, 10, 10, 10, 10, 10, 10, 10, 10, 10, 10, 10, 10, 10, 10, 10, 10, 10, 10, 10, 10, 10, 10, 10, 10, 10, 10, 10, 10, 10, 10, 10, 10, 10, 10, 10, 10, 10, 10, 10, 10, 10, 10, 10, 10, 10, 10, 10, 10, 10, 10, 10, 10, 10, 10, 10, 10, 10, 10, 10, 10, 10, 10, 10, 10, 10, 10, 10, 10, 10, 10, 10, 10, 10, 10, 10, 10, 10, 10, 10, 10, 10, 10, 10, 10, 10, 10, 10, 10, 10, 10, 10, 10, 10, 10, 10, 10, 10, 10, 10, 10, 10, 10, 10, 10, 10, 10, 10, 10, 10, 10, 10, 10, 10, 10, 10, 10, 10, 10, 10, 10, 10, 10, 10, 10, 10, 10, 10, 10, 10, 10, 10, 10, 10, 10, 10, 10, 10, 10, 10, 10, 10, 10, 10, 10, 10, 10, 10, 10, 10, 10, 10, 10, 10, 10, 10, 10, 10, 10, 10, 10, 10, 10, 10, 10, 10, 10, 10, 10, 10, 10, 10, 10, 10, 10, 10, 10, 10, 10, 10, 10, 10, 10, 10, 10, 10, 10, 10, 10, 10, 10, 10, 10, 10, 10, 10, 10, 10, 10, 10, 10, 10, 10, 10, 10, 10, 10, 10, 10, 10, 10, 10, 10, 10, 10, 10, 10, 10, 10, 10, 10, 10, 10, 10, 10, 10, 10, 10, 10, 10, 10, 10, 10, 10, 10, 10, 10, 10, 10, 10, 10, 10, 10, 10, 10, 10, 10, 10, 10, 10, 10, 10, 10, 10, 10, 10, 10, 10, 10, 10, 10, 10, 10, 10, 10, 10, 10, 10, 10, 10, 10, 10, 10, 10, 10, 10, 10, 10, 10, 10, 10, 10, 10, 10, 10, 10, 10, 10, 10, 10, 10, 10, 10, 10, 10, 10, 10, 10, 10, 10, 10, 10, 10, 10, 10, 10, 10, 10, 10, 10, 10, 10, 10, 10, 10, 10, 10, 10, 10, 10, 10, 10, 10, 10, 10, 10, 10, 10, 10, 10, 10, 10, 10, 10, 10, 10, 10, 10, 10, 10, 10, 10, 10, 10, 10, 10, 10, 10, 10, 10, 10, 10, 10, 10, 10, 10, 10, 10, 10, 10, 10, 10, 10, 10, 10, 10, 10, 10, 10, 10, 10, 10, 10, 10, 10, 10, 10, 10, 10, 10, 10, 10, 10, 10, 10, 10, 10, 10, 10, 10, 10, 10, 10, 10, 10, 10, 10, 10, 10, 10, 10, 10, 10, 10, 10, 10, 10, 10, 10, 10, 10, 10, 10, 10, 10, 10, 10, 10, 10, 10, 10, 10, 10, 10, 10, 10, 10, 10, 10, 10, 10, 10, 10, 10, 10, 10, 10, 10, 10, 10, 10, 10, 10, 10, 10, 10, 10, 10, 10, 10, 10, 10, 10, 10, 10, 10, 10, 10, 10, 10, 10, 10, 10, 10, 10, 10, 10, 10, 10, 10, 10, 10, 10, 10, 10, 10, 10, 10, 10, 10, 10, 10, 10, 10, 10, 10, 10, 10, 10, 10, 10, 10, 10, 10, 10, 10, 10, 10, 10, 10, 10, 10, 10, 10, 10, 10, 10, 10, 10, 10, 10, 10, 10, 10, 10, 10, 10, 10, 10, 10, 10, 10, 10, 10, 10, 10, 10, 10, 10, 10, 10, 10, 10, 10, 10, 10, 10, 10, 10, 10, 10, 10, 10, 10, 10, 10, 10, 10, 10, 10, 10, 10, 10, 10, 10, 10, 10, 10, 10, 10, 10, 10, 10, 10, 10, 10, 10, 10, 10, 10, 10, 10, 10, 10, 10, 10, 10, 10, 10, 10, 10, 10, 10, 10, 10, 10, 10, 10, 10, 10, 10, 10, 10, 10, 10, 10, 10, 10, 10, 10, 10, 10, 10, 10, 10, 10, 10, 10, 10, 10, 10, 10, 10, 10, 10, 10, 10, 10, 10, 10, 10, 10, 10, 10, 10, 10, 10, 10, 10, 10, 10, 10, 10, 10, 10, 10, 10, 10, 10, 10, 10, 10, 10, 10, 10, 10, 10, 10, 10, 10, 10, 10, 10, 10, 10, 10, 10, 10, 10, 10, 10, 10, 10, 10, 10, 10, 10, 10, 10, 10, 10, 10, 10, 10, 10, 10, 10, 10, 10, 10, 10, 10, 10, 10, 10, 10, 10, 10, 10, 10, 10, 10, 10, 10, 10, 10, 10, 10, 10, 10, 10, 10, 10, 10, 10, 10, 10, 10, 10, 10, 10, 10, 10, 10, 10, 10, 10, 10, 10, 10, 10, 10, 10, 10, 10, 10, 10, 10, 10, 10, 10, 10, 10, 10, 10, 10, 10, 10, 10, 10, 10, 10, 10, 10, 10, 10, 10, 10, 10, 10, 10, 10, 10, 10, 10, 10, 10, 10, 10, 10, 10, 10, 10, 10, 10, 10, 10, 10, 10, 10, 10, 10, 10, 10, 10, 10, 10, 10, 10, 10, 10, 10, 10, 10, 10, 10, 10, 10, 10, 10, 10, 10, 10, 10, 10, 10, 10, 10, 10, 10, 10, 10, 10, 10, 10, 10, 10, 10, 10, 10, 10, 10, 10, 10, 10, 10, 10, 10, 10, 10, 10, 10, 10, 10, 10, 10, 10, 10, 10, 10, 10, 10, 10, 10, 10, 10, 10, 10, 10, 10, 10, 10, 10, 10, 10, 10, 10, 10, 10, 10, 10, 10, 10, 10, 10, 10, 10, 10, 10, 10, 10, 10, 10, 10, 10, 10, 10, 10, 10, 10, 10, 10, 10, 10, 10, 10, 10, 10, 10, 10, 10, 10, 10, 10, 10, 10, 10, 10, 10, 10, 10, 10, 10, 10, 10, 10, 10, 10, 10, 10, 10, 10, 10, 10, 10, 10, 10, 10, 10, 10, 10, 10, 10, 10, 10, 10, 10, 10, 10, 10, 10, 10, 10, 10, 10, 10, 10, 10, 10, 10, 10, 10, 10, 10, 10, 10, 10, 10, 10, 10, 10, 10, 10, 10, 10, 10, 10, 10, 10, 10, 10, 10, 10, 10, 10, 10, 10, 10, 10, 10, 10, 10, 10, 10, 10, 10, 10, 10, 10, 10, 10, 10, 10, 10, 10, 10, 10, 10, 10, 10, 10, 10, 10, 10, 10, 10, 10, 10, 10, 10, 10, 10, 10, 10, 10, 10, 10, 10, 10, 10, 10, 10, 10, 10, 10, 10, 10, 10, 10, 10, 10, 10, 10, 10, 10, 10, 10, 10, 10, 10, 10, 10, 10, 10, 10, 10, 10, 10, 10, 10, 10, 10, 10, 10, 10, 10, 10, 10, 10, 10, 10, 10, 10, 10, 10, 10, 10, 10, 10, 10, 10, 10, 10, 10, 10, 10, 10, 10, 10, 10, 10, 10, 10, 10, 10, 10, 10, 10, 10, 10, 10, 10, 10, 10, 10, 10, 10, 10, 10, 10, 10, 10, 10, 10, 10, 10, 10, 10, 10, 10, 10, 10, 10, 10, 10, 10, 10, 10, 10, 10, 10, 10, 10, 10, 10, 10, 10, 10, 10, 10, 10, 10, 10, 10, 10, 10, 10, 10, 10, 10, 10, 10, 10, 10, 10, 10, 10, 10, 10, 10, 10, 10, 10, 10, 10, 10, 10, 10, 10, 10, 10, 10, 10, 10, 10, 10, 10, 10, 10, 10, 10, 10, 10, 10, 10, 10, 10, 10, 10, 10, 10, 10, 10, 10, 10, 10, 10, 10, 10, 10, 10, 10, 10, 10, 10, 10, 10, 10, 10, 10, 10, 10, 10, 10, 10, 10, 10, 10, 10, 10, 10, 10, 10, 10, 10, 10, 10, 10, 10, 10, 10, 10, 10, 10, 10, 10, 10, 10, 10, 10, 10, 10, 10, 10, 10, 10, 10, 10, 10, 10, 10, 10, 10, 10, 10, 10, 10, 10, 10, 10, 10, 10, 10, 10, 10, 10, 10, 10, 10, 10, 10, 10, 10, 10, 10, 10, 10, 10, 10, 10, 10, 10, 10, 10, 10, 10, 10, 10, 10, 10, 10, 10, 10, 10, 10, 10, 10, 10, 10, 10, 10, 10, 10, 10, 10, 10, 10, 10, 10, 10, 10, 10, 10, 10, 10, 10, 10, 10, 10, 10, 10, 10, 10, 10, 10, 10, 10, 10, 10, 10, 10, 10, 10, 10, 10, 10, 10, 10, 10, 10, 10, 10, 10, 10, 10, 10, 10, 10, 10, 10, 10, 10, 10, 10, 10, 10, 10, 10, 10, 10, 10, 10, 10, 10, 10, 10, 10, 10, 10, 10, 10, 10, 10, 10, 10, 10, 10, 10, 10, 10, 10, 10, 10, 10, 10, 10, 10, 10, 10, 10, 10, 10, 10, 10, 10, 10, 10, 10, 10, 10, 10, 10, 10, 10, 10, 10, 10, 10, 10, 10, 10, 10, 10, 10, 10, 10, 10, 10, 10, 10, 10, 10, 10, 10, 10, 10, 10, 10, 10, 10, 10, 10, 10, 10, 10, 10, 10, 10, 10, 10, 10, 10, 10, 10, 10, 10, 10, 10, 10, 10, 10, 10, 10, 10, 10, 10, 10, 10, 10, 10, 10, 10, 10, 10, 10, 10, 10, 10, 10, 10, 10, 10, 10, 10, 10, 10, 10, 10, 10, 10, 10, 10, 10, 10, 10, 10, 10, 10, 10, 10, 10, 10, 10, 10, 10, 10, 10, 10, 10, 10, 10, 10, 10, 10, 10, 10, 10, 10, 10, 10, 10, 10, 10, 10, 10, 10, 10, 10, 10, 10, 10, 10, 10, 10, 10, 10, 10, 10, 10, 10, 10, 10, 10, 10, 10, 10, 10, 10, 10, 10, 10, 10, 10, 10, 10, 10, 10, 10, 10, 10, 10, 10, 10, 10, 10, 10, 10, 10, 10, 10, 10, 10, 10, 10, 10, 10, 10, 10, 10, 10, 10, 10, 10, 10, 10, 10, 10, 10, 10, 10, 10, 10, 10, 10, 10, 10, 10, 10, 10, 10, 10, 10, 10, 10, 10, 10, 10, 10, 10, 10, 10, 10, 10, 10, 10, 10, 10, 10, 10, 10, 10, 10, 10, 10, 10, 10, 10, 10, 10, 10, 10, 10, 10, 10, 10, 10, 10, 10, 10, 10, 10, 10, 10, 10, 10, 10, 10, 10, 10, 10, 10, 10, 10, 10, 10, 10, 10, 10, 10, 10, 10, 10, 10, 10, 10, 10, 10, 10, 10, 10, 10, 10, 10, 10, 10, 10, 10, 10, 10, 10, 10, 10, 10, 10, 10, 10, 10, 10, 10, 10, 10, 10, 10, 10, 10, 10, 10, 10, 10, 10, 10, 10, 10, 10, 10, 10, 10, 10, 10, 10, 10, 10, 10, 10, 10, 10, 10, 10, 10, 10, 10, 10, 10, 10, 10, 10, 10, 10, 10, 10, 10, 10, 10, 10, 10, 10, 10, 10, 10, 10, 10, 10, 10, 10, 10, 10, 10, 10, 10, 10, 10, 10, 10, 10, 10, 10, 10, 10, 10, 10, 10, 10, 10, 10, 10, 10, 10, 10, 10, 10, 10, 10, 10, 10, 10, 10, 10, 10, 10, 10, 10, 10, 10, 10, 10, 10, 10, 10, 10, 10, 10, 10, 10, 10, 10, 10, 10, 10, 10, 10, 10, 10, 10, 10, 10, 10, 10, 10, 10, 10, 10, 10, 10, 10, 10, 10, 10, 10, 10, 10, 10, 10, 10, 10, 10, 10, 10, 10, 10, 10, 10, 10, 10, 10, 10, 10, 10, 10, 10, 10, 10, 10, 10, 10, 10, 10, 10, 10, 10, 10, 10, 10, 10, 10, 10, 10, 10, 10, 10, 10, 10, 10, 10, 10, 10, 10, 10, 10, 10, 10, 10, 10, 10, 10, 10, 10, 10, 10, 10, 10, 10, 10, 10, 10, 10, 10, 10, 10, 10, 10, 10, 10, 10, 10, 10, 10, 10, 10, 10, 10, 10, 10, 10, 10, 10, 10, 10, 10, 10, 10, 10, 10, 10, 10, 10, 10, 10, 10, 10, 10, 10, 10, 10, 10, 10, 10, 10, 10, 10, 10, 10, 10, 10, 10, 10, 10, 10, 10, 10, 10, 10, 10, 10, 10, 10, 10, 10, 10, 10, 10, 10, 10, 10, 10, 10, 10, 10, 10, 10, 10, 10, 10, 10, 10, 10, 10, 10, 10, 10, 10, 10, 10, 10, 10, 10, 10, 10, 10, 10, 10, 10, 10, 10, 10, 10, 10, 10, 10, 10, 10, 10, 10, 10, 10, 10, 10, 10, 10, 10, 10, 10, 10, 10, 10, 10, 10, 10, 10, 10, 10, 10, 10, 10, 10, 10, 10, 10, 10, 10, 10, 10, 10, 10, 10, 10, 10, 10, 10, 10, 10, 10, 10, 10, 10, 10, 10, 10, 10, 10, 10, 10, 10, 10, 10, 10, 10, 10, 10, 10, 10, 10, 10, 10, 10, 10, 10, 10, 10, 10, 10, 10, 10, 10, 10, 10, 10, 10, 10, 10, 10, 10, 10, 10, 10, 10, 10, 10, 10, 10, 10, 10, 10, 10, 10, 10, 10, 10, 10, 10, 10, 10, 10, 10, 10, 10, 10, 10, 10, 10, 10, 10, 10, 10, 10, 10, 10, 10, 10, 10, 10, 10, 10, 10, 10, 10, 10, 10, 10, 10, 10, 10, 10, 10, 10, 10, 10, 10, 10, 10, 10, 10, 10, 10, 10, 10, 10, 10, 10, 10, 10, 10, 10, 10, 10, 10, 10, 10, 10, 10, 10, 10, 10, 10, 10, 10, 10, 10, 10, 10, 10, 10, 10, 10, 10, 10, 10, 10, 10, 10, 10, 10, 10, 10, 9, 9, 9, 9, 9, 9, 9, 9, 9, 9, 9, 9, 9, 9, 9, 9, 9, 9, 9, 9, 9, 9, 9, 9, 9, 9, 9, 9, 9, 9, 9, 9, 9, 9, 9, 9, 9, 9, 9, 9, 9, 9, 9, 9, 9, 9, 9, 9, 9, 9, 9, 9, 9, 9, 9, 9, 9, 9, 9, 9, 9, 9, 9, 9, 9, 9, 9, 9, 9, 9, 9, 9, 9, 9, 9, 9, 9, 9, 9, 9, 9, 9, 9, 9, 9, 9, 9, 9, 9, 9, 9, 9, 9, 9, 9, 9, 9, 9, 9, 9, 9, 9, 9, 9, 9, 9, 9, 9, 9, 9, 9, 9, 9, 9, 9, 9, 9, 9, 9, 9, 9, 9, 9, 9, 9, 9, 9, 9, 9, 9, 9, 9, 9, 9, 9, 9, 9, 9, 9, 9, 9, 9, 9, 9, 9, 9, 9, 9, 9, 9, 9, 9, 9, 9, 9, 9, 9, 9, 9, 9, 9, 9, 9, 9, 9, 9, 9, 9, 9, 9, 9, 9, 9, 9, 9, 9, 9, 9, 9, 9, 9, 9, 9, 9, 9, 9, 9, 9, 9, 9, 9, 9, 9, 9, 9, 9, 9, 9, 9, 9, 9, 9, 9, 9, 9, 9, 9, 9, 9, 9, 9, 9, 9, 9, 9, 9, 9, 9, 9, 9, 9, 9, 9, 9, 9, 9, 9, 9, 9, 9, 9, 9, 9, 9, 9, 9, 9, 9, 9, 9, 9, 9, 9, 9, 9, 9, 9, 9, 9, 9, 9, 9, 9, 9, 9, 9, 9, 9, 9, 9, 9, 9, 9, 9, 9, 9, 9, 9, 9, 9, 9, 9, 9, 9, 9, 9, 9, 9, 9, 9, 9, 9, 9, 9, 9, 9, 9, 9, 9, 9, 9, 9, 9, 9, 9, 9, 9, 9, 9, 9, 9, 9, 9, 9, 9, 9, 9, 9, 9, 9, 9, 9, 9, 9, 9, 9, 9, 9, 9, 9, 9, 9, 9, 9, 9, 9, 9, 9, 9, 9, 9, 9, 9, 9, 9, 9, 9, 9, 9, 9, 9, 9, 9, 9, 9, 9, 9, 9, 9, 9, 9, 9, 9, 9, 9, 9, 9, 9, 9, 9, 9, 9, 9, 9, 9, 9, 9, 9, 9, 9, 9, 9, 9, 9, 9, 9, 9, 9, 9, 9, 9, 9, 9, 9, 9, 9, 9, 9, 9, 9, 9, 9, 9, 9, 9, 9, 9, 9, 9, 9, 9, 9, 9, 9, 9, 9, 9, 9, 9, 9, 9, 9, 9, 9, 9, 9, 9, 9, 9, 9, 9, 9, 9, 9, 9, 9, 9, 9, 9, 9, 9, 9, 9, 9, 9, 9, 9, 9, 9, 9, 9, 9, 9, 9, 9, 9, 9, 9, 9, 9, 9, 9, 9, 9, 9, 9, 9, 9, 9, 9, 9, 9, 9, 9, 9, 9, 9, 9, 9, 9, 9, 9, 9, 9, 9, 9, 9, 9, 9, 9, 9, 9, 9, 9, 9, 9, 9, 9, 9, 9, 9, 9, 9, 9, 9, 9, 9, 9, 9, 9, 9, 9, 9, 9, 9, 9, 9, 9, 9, 9, 9, 9, 9, 9, 9, 9, 9, 9, 9, 9, 9, 9, 9, 9, 9, 9, 9, 9, 9, 9, 9, 9, 9, 9, 9, 9, 9, 9, 9, 9, 9, 9, 9, 9, 9, 9, 9, 9, 9, 9, 9, 9, 9, 9, 9, 9, 9, 9, 9, 9, 9, 9, 9, 9, 9, 9, 9, 9, 9, 9, 9, 9, 9, 9, 9, 9, 9, 9, 9, 9, 9, 9, 9, 9, 9, 9, 9, 9, 9, 9, 9, 9, 9, 9, 9, 9, 9, 9, 9, 9, 9, 9, 9, 9, 9, 9, 9, 9, 9, 9, 9, 9, 9, 9, 9, 9, 9, 9, 9, 9, 9, 9, 9, 9, 9, 9, 9, 9, 9, 9, 9, 9, 9, 9, 9, 9, 9, 9, 9, 9, 9, 9, 9, 9, 9, 9, 9, 9, 9, 9, 9, 9, 9, 9, 9, 9, 9, 9, 9, 9, 9, 9, 9, 9, 9, 9, 9, 9, 9, 9, 9, 9, 9, 9, 9, 9, 9, 9, 9, 9, 9, 9, 9, 9, 9, 9, 9, 9, 9, 9, 9, 9, 9, 9, 9, 9, 9, 9, 9, 9, 9, 9, 9, 9, 9, 9, 9, 9, 9, 9, 9, 9, 9, 9, 9, 9, 9, 9, 9, 9, 9, 9, 9, 9, 9, 9, 9, 9, 9, 9, 9, 9, 9, 9, 9, 9, 9, 9, 9, 9, 9, 9, 9, 9, 9, 9, 9, 9, 9, 9, 9, 9, 9, 9, 9, 9, 9, 9, 9, 9, 9, 9, 9, 9, 9, 9, 9, 9, 9, 9, 9, 9, 9, 9, 9, 9, 9, 9, 9, 9, 9, 9, 9, 9, 9, 9, 9, 9, 9, 9, 9, 9, 9, 9, 9, 9, 9, 9, 9, 9, 9, 9, 9, 9, 9, 9, 9, 9, 9, 9, 9, 9, 9, 9, 9, 9, 9, 9, 9, 9, 9, 9, 9, 9, 9, 9, 9, 9, 9, 9, 9, 9, 9, 9, 9, 9, 9, 9, 9, 9, 9, 9, 9, 9, 9, 9, 9, 9, 9, 9, 9, 9, 9, 9, 9, 9, 9, 9, 9, 9, 9, 9, 9, 9, 9, 9, 9, 9, 9, 9, 9, 9, 9, 9, 9, 9, 9, 9, 9, 9, 9, 9, 9, 9, 9, 9, 9, 9, 9, 9, 9, 9, 9, 9, 9, 9, 9, 9, 9, 9, 9, 9, 9, 9, 9, 9, 9, 9, 9, 9, 9, 9, 9, 9, 9, 9, 9, 9, 9, 9, 9, 9, 9, 9, 9, 9, 9, 9, 9, 9, 9, 9, 9, 9, 9, 9, 9, 9, 9, 9, 9, 9, 9, 9, 9, 9, 9, 9, 9, 9, 9, 9, 9, 9, 9, 9, 9, 9, 9, 9, 9, 9, 9, 9, 9, 9, 9, 9, 9, 9, 9, 9, 9, 9, 9, 9, 9, 9, 9, 9, 9, 9, 9, 9, 9, 9, 9, 9, 9, 9, 9, 9, 9, 9, 9, 9, 9, 9, 9, 9, 9, 9, 9, 9, 9, 9, 9, 9, 9, 9, 9, 9, 9, 9, 9, 9, 9, 9, 9, 9, 9, 9, 9, 9, 9, 9, 9, 9, 9, 9, 9, 9, 9, 9, 9, 9, 9, 9, 9, 9, 9, 9, 9, 9, 9, 9, 9, 9, 9, 9, 9, 9, 9, 9, 9, 9, 9, 9, 9, 9, 9, 9, 9, 9, 9, 9, 9, 9, 9, 9, 9, 9, 9, 9, 9, 9, 9, 9, 9, 9, 9, 9, 9, 9, 9, 9, 9, 9, 9, 9, 9, 9, 9, 9, 9, 9, 9, 9, 9, 9, 9, 9, 9, 9, 9, 9, 9, 9, 9, 9, 9, 9, 9, 9, 9, 9, 9, 9, 9, 9, 9, 9, 9, 9, 9, 9, 9, 9, 9, 9, 9, 9, 9, 9, 9, 9, 9, 9, 9, 9, 9, 9, 9, 9, 9, 9, 9, 9, 9, 9, 9, 9, 9, 9, 9, 9, 9, 9, 9, 9, 9, 9, 9, 9, 9, 9, 9, 9, 9, 9, 9, 9, 9, 9, 9, 9, 9, 9, 9, 9, 9, 9, 9, 9, 9, 9, 9, 9, 9, 9, 9, 9, 9, 9, 9, 9, 9, 9, 9, 9, 9, 9, 9, 9, 9, 9, 9, 9, 9, 9, 9, 9, 9, 9, 9, 9, 9, 9, 9, 9, 9, 9, 9, 9, 9, 9, 9, 9, 9, 9, 9, 9, 9, 9, 9, 9, 9, 9, 9, 9, 9, 9, 9, 9, 9, 9, 9, 9, 9, 9, 9, 9, 9, 9, 9, 9, 9, 9, 9, 9, 9, 9, 9, 9, 9, 9, 9, 9, 9, 9, 9, 9, 9, 9, 9, 9, 9, 9, 9, 9, 9, 9, 9, 9, 9, 9, 9, 9, 9, 9, 9, 9, 9, 9, 9, 9, 9, 9, 9, 9, 9, 9, 9, 9, 9, 9, 9, 9, 9, 9, 9, 9, 9, 9, 9, 9, 9, 9, 9, 9, 9, 9, 9, 9, 9, 9, 9, 9, 9, 9, 9, 9, 9, 9, 9, 9, 9, 9, 9, 9, 9, 9, 9, 9, 9, 9, 9, 9, 9, 9, 9, 9, 9, 9, 9, 9, 9, 9, 9, 9, 9, 9, 9, 9, 9, 9, 9, 9, 9, 9, 9, 9, 9, 9, 9, 9, 9, 9, 9, 9, 9, 9, 9, 9, 9, 9, 9, 9, 9, 9, 9, 9, 9, 9, 9, 9, 9, 9, 9, 9, 9, 9, 9, 9, 9, 9, 9, 9, 9, 9, 9, 9, 9, 9, 9, 9, 9, 9, 9, 9, 9, 9, 9, 9, 9, 9, 9, 9, 9, 9, 9, 9, 9, 9, 9, 9, 9, 9, 9, 9, 9, 9, 9, 9, 9, 9, 9, 9, 9, 9, 9, 9, 9, 9, 9, 9, 9, 9, 9, 9, 9, 9, 9, 9, 9, 9, 9, 9, 9, 9, 9, 9, 9, 9, 9, 9, 9, 9, 9, 9, 9, 9, 9, 9, 9, 9, 9, 9, 9, 9, 9, 9, 9, 9, 9, 9, 9, 9, 9, 9, 9, 9, 9, 9, 9, 9, 9, 9, 9, 9, 9, 9, 9, 9, 9, 9, 9, 9, 9, 9, 9, 9, 9, 9, 9, 9, 9, 9, 9, 9, 9, 9, 9, 9, 9, 9, 9, 9, 9, 9, 9, 9, 9, 9, 9, 9, 9, 9, 9, 9, 9, 9, 9, 9, 9, 9, 9, 9, 9, 9, 9, 9, 9, 9, 9, 9, 9, 9, 9, 9, 9, 9, 9, 9, 9, 9, 9, 9, 9, 9, 9, 9, 9, 9, 9, 9, 9, 9, 9, 9, 9, 9, 9, 9, 9, 9, 9, 9, 9, 9, 9, 9, 9, 9, 9, 9, 9, 9, 9, 9, 9, 9, 9, 9, 9, 9, 9, 9, 9, 9, 9, 9, 9, 9, 9, 9, 9, 9, 9, 9, 9, 9, 9, 9, 9, 9, 9, 9, 9, 9, 9, 9, 9, 9, 9, 9, 9, 9, 9, 9, 9, 9, 9, 9, 9, 9, 9, 9, 9, 9, 9, 9, 9, 9, 9, 9, 9, 9, 9, 9, 9, 9, 9, 9, 9, 9, 9, 9, 9, 9, 9, 9, 9, 9, 9, 9, 9, 9, 9, 9, 9, 9, 9, 9, 9, 9, 9, 9, 9, 9, 9, 9, 9, 9, 9, 9, 9, 9, 9, 9, 9, 9, 9, 9, 9, 9, 9, 9, 9, 9, 9, 9, 9, 9, 9, 9, 9, 9, 9, 9, 9, 9, 9, 9, 9, 9, 9, 9, 9, 9, 9, 9, 9, 9, 9, 9, 9, 9, 9, 9, 9, 9, 9, 9, 9, 9, 9, 9, 9, 9, 9, 9, 9, 9, 9, 9, 9, 9, 9, 9, 9, 9, 9, 9, 9, 9, 9, 9, 9, 9, 9, 9, 9, 9, 9, 9, 9, 9, 9, 9, 9, 9, 9, 9, 9, 9, 9, 9, 9, 9, 9, 9, 9, 9, 9, 9, 9, 9, 9, 9, 9, 9, 9, 9, 9, 9, 9, 9, 9, 9, 9, 9, 9, 9, 9, 9, 9, 9, 9, 9, 9, 9, 9, 9, 9, 9, 9, 9, 9, 9, 9, 9, 9, 9, 9, 9, 9, 9, 9, 9, 9, 9, 9, 9, 9, 9, 9, 9, 9, 9, 9, 9, 9, 9, 9, 9, 9, 9, 9, 9, 9, 9, 9, 9, 9, 9, 9, 9, 9, 9, 9, 9, 9, 9, 9, 9, 9, 9, 9, 9, 9, 9, 9, 9, 9, 9, 9, 9, 9, 9, 9, 9, 9, 9, 9, 9, 9, 9, 9, 9, 9, 9, 9, 9, 9, 9, 9, 9, 9, 9, 9, 9, 9, 9, 9, 9, 9, 9, 9, 9, 9, 9, 9, 9, 9, 9, 9, 9, 9, 9, 9, 9, 9, 9, 9, 9, 9, 9, 9, 9, 9, 9, 9, 9, 9, 9, 9, 9, 9, 9, 9, 9, 9, 9, 9, 9, 9, 9, 9, 9, 9, 9, 9, 9, 9, 9, 9, 9, 9, 9, 9, 9, 9, 9, 9, 9, 9, 9, 9, 9, 9, 9, 9, 9, 9, 9, 9, 9, 9, 9, 9, 9, 9, 9, 9, 9, 9, 9, 9, 9, 9, 9, 9, 9, 9, 9, 9, 9, 9, 9, 9, 9, 9, 9, 9, 9, 9, 9, 9, 9, 9, 9, 9, 9, 9, 9, 9, 9, 9, 9, 9, 9, 9, 9, 9, 9, 9, 9, 9, 9, 9, 9, 9, 9, 9, 9, 9, 9, 9, 9, 9, 9, 9, 9, 9, 9, 9, 8, 8, 8, 8, 8, 8, 8, 8, 8, 8, 8, 8, 8, 8, 8, 8, 8, 8, 8, 8, 8, 8, 8, 8, 8, 8, 8, 8, 8, 8, 8, 8, 8, 8, 8, 8, 8, 8, 8, 8, 8, 8, 8, 8, 8, 8, 8, 8, 8, 8, 8, 8, 8, 8, 8, 8, 8, 8, 8, 8, 8, 8, 8, 8, 8, 8, 8, 8, 8, 8, 8, 8, 8, 8, 8, 8, 8, 8, 8, 8, 8, 8, 8, 8, 8, 8, 8, 8, 8, 8, 8, 8, 8, 8, 8, 8, 8, 8, 8, 8, 8, 8, 8, 8, 8, 8, 8, 8, 8, 8, 8, 8, 8, 8, 8, 8, 8, 8, 8, 8, 8, 8, 8, 8, 8, 8, 8, 8, 8, 8, 8, 8, 8, 8, 8, 8, 8, 8, 8, 8, 8, 8, 8, 8, 8, 8, 8, 8, 8, 8, 8, 8, 8, 8, 8, 8, 8, 8, 8, 8, 8, 8, 8, 8, 8, 8, 8, 8, 8, 8, 8, 8, 8, 8, 8, 8, 8, 8, 8, 8, 8, 8, 8, 8, 8, 8, 8, 8, 8, 8, 8, 8, 8, 8, 8, 8, 8, 8, 8, 8, 8, 8, 8, 8, 8, 8, 8, 8, 8, 8, 8, 8, 8, 8, 8, 8, 8, 8, 8, 8, 8, 8, 8, 8, 8, 8, 8, 8, 8, 8, 8, 8, 8, 8, 8, 8, 8, 8, 8, 8, 8, 8, 8, 8, 8, 8, 8, 8, 8, 8, 8, 8, 8, 8, 8, 8, 8, 8, 8, 8, 8, 8, 8, 8, 8, 8, 8, 8, 8, 8, 8, 8, 8, 8, 8, 8, 8, 8, 8, 8, 7, 7, 7, 7, 7, 7, 7, 7, 7, 7, 7, 7, 7, 6] "
          ]
        }
      ],
      "source": [
        "law = []\n",
        "for i in range(len(idx)-1):\n",
        "  law.append(idx[i+1]-idx[i])\n",
        "print(sorted(law, reverse = True), end = ' ')"
      ]
    },
    {
      "cell_type": "code",
      "execution_count": 1823,
      "metadata": {
        "colab": {
          "base_uri": "https://localhost:8080/"
        },
        "id": "2VphbmxnYRl-",
        "outputId": "81be13c7-5068-4de9-95e7-2e073c567f48"
      },
      "outputs": [
        {
          "data": {
            "text/plain": [
              "count    22924.000000\n",
              "mean        13.421567\n",
              "std         16.145488\n",
              "min          6.000000\n",
              "25%         10.000000\n",
              "50%         11.000000\n",
              "75%         13.000000\n",
              "max        281.000000\n",
              "dtype: float64"
            ]
          },
          "execution_count": 1823,
          "metadata": {},
          "output_type": "execute_result"
        }
      ],
      "source": [
        "pd.Series(law).describe()"
      ]
    },
    {
      "cell_type": "code",
      "execution_count": 1824,
      "metadata": {
        "colab": {
          "base_uri": "https://localhost:8080/"
        },
        "id": "ycn3wewHqlWD",
        "outputId": "7348256c-3586-48b4-ae50-584cc9451d1a"
      },
      "outputs": [
        {
          "data": {
            "text/plain": [
              "array([16.  , 21.  , 55.77])"
            ]
          },
          "execution_count": 1824,
          "metadata": {},
          "output_type": "execute_result"
        }
      ],
      "source": [
        "np.percentile(law, [90, 95, 99]) # 특별히 많은 의원들이 참여한 소수의 법안이 존재"
      ]
    },
    {
      "cell_type": "markdown",
      "metadata": {
        "id": "9iIbjinsyFKM"
      },
      "source": [
        "4. 초당적 협력"
      ]
    },
    {
      "cell_type": "code",
      "execution_count": 1844,
      "metadata": {},
      "outputs": [
        {
          "data": {
            "text/html": [
              "<div>\n",
              "<style scoped>\n",
              "    .dataframe tbody tr th:only-of-type {\n",
              "        vertical-align: middle;\n",
              "    }\n",
              "\n",
              "    .dataframe tbody tr th {\n",
              "        vertical-align: top;\n",
              "    }\n",
              "\n",
              "    .dataframe thead th {\n",
              "        text-align: right;\n",
              "    }\n",
              "</style>\n",
              "<table border=\"1\" class=\"dataframe\">\n",
              "  <thead>\n",
              "    <tr style=\"text-align: right;\">\n",
              "      <th></th>\n",
              "      <th>이름</th>\n",
              "      <th>당선</th>\n",
              "      <th>가결+초당</th>\n",
              "      <th>가결+비초당</th>\n",
              "      <th>가결외+초당</th>\n",
              "      <th>가결외+비초당</th>\n",
              "      <th>가결</th>\n",
              "      <th>가결외</th>\n",
              "      <th>초당</th>\n",
              "      <th>비초당</th>\n",
              "      <th>법안</th>\n",
              "      <th>가결률</th>\n",
              "      <th>초당률</th>\n",
              "    </tr>\n",
              "  </thead>\n",
              "  <tbody>\n",
              "    <tr>\n",
              "      <th>0</th>\n",
              "      <td>강기윤(姜起潤)</td>\n",
              "      <td>2</td>\n",
              "      <td>127</td>\n",
              "      <td>216</td>\n",
              "      <td>276</td>\n",
              "      <td>617</td>\n",
              "      <td>343</td>\n",
              "      <td>893</td>\n",
              "      <td>403</td>\n",
              "      <td>833</td>\n",
              "      <td>1236</td>\n",
              "      <td>0.277508</td>\n",
              "      <td>0.326052</td>\n",
              "    </tr>\n",
              "    <tr>\n",
              "      <th>1</th>\n",
              "      <td>강대식(姜大植)</td>\n",
              "      <td>1</td>\n",
              "      <td>157</td>\n",
              "      <td>149</td>\n",
              "      <td>296</td>\n",
              "      <td>431</td>\n",
              "      <td>306</td>\n",
              "      <td>727</td>\n",
              "      <td>453</td>\n",
              "      <td>580</td>\n",
              "      <td>1033</td>\n",
              "      <td>0.296225</td>\n",
              "      <td>0.438529</td>\n",
              "    </tr>\n",
              "    <tr>\n",
              "      <th>2</th>\n",
              "      <td>강득구(姜得求)</td>\n",
              "      <td>1</td>\n",
              "      <td>285</td>\n",
              "      <td>102</td>\n",
              "      <td>696</td>\n",
              "      <td>497</td>\n",
              "      <td>387</td>\n",
              "      <td>1193</td>\n",
              "      <td>981</td>\n",
              "      <td>599</td>\n",
              "      <td>1580</td>\n",
              "      <td>0.244937</td>\n",
              "      <td>0.620886</td>\n",
              "    </tr>\n",
              "  </tbody>\n",
              "</table>\n",
              "</div>"
            ],
            "text/plain": [
              "         이름  당선  가결+초당  가결+비초당  가결외+초당  가결외+비초당   가결   가결외   초당  비초당    법안  \\\n",
              "0  강기윤(姜起潤)   2    127     216     276      617  343   893  403  833  1236   \n",
              "1  강대식(姜大植)   1    157     149     296      431  306   727  453  580  1033   \n",
              "2  강득구(姜得求)   1    285     102     696      497  387  1193  981  599  1580   \n",
              "\n",
              "        가결률       초당률  \n",
              "0  0.277508  0.326052  \n",
              "1  0.296225  0.438529  \n",
              "2  0.244937  0.620886  "
            ]
          },
          "execution_count": 1844,
          "metadata": {},
          "output_type": "execute_result"
        }
      ],
      "source": [
        "# member.reset_index(inplace = True)\n",
        "tmp_df = pd.merge(member[['이름', '당선']], mem_law, how = 'inner', on = '이름')\n",
        "tmp_df['가결률'] = tmp_df['가결'] / tmp_df['법안']\n",
        "tmp_df['초당률'] = tmp_df['초당'] / tmp_df['법안']\n",
        "tmp_df.head(3)"
      ]
    },
    {
      "cell_type": "code",
      "execution_count": 1845,
      "metadata": {},
      "outputs": [
        {
          "data": {
            "text/plain": [
              "<AxesSubplot: xlabel='당선'>"
            ]
          },
          "execution_count": 1845,
          "metadata": {},
          "output_type": "execute_result"
        },
        {
          "name": "stderr",
          "output_type": "stream",
          "text": [
            "c:\\Users\\parkg\\anaconda3\\Lib\\site-packages\\IPython\\core\\events.py:93: UserWarning: Glyph 45817 (\\N{HANGUL SYLLABLE DANG}) missing from current font.\n",
            "  func(*args, **kwargs)\n",
            "c:\\Users\\parkg\\anaconda3\\Lib\\site-packages\\IPython\\core\\events.py:93: UserWarning: Glyph 49440 (\\N{HANGUL SYLLABLE SEON}) missing from current font.\n",
            "  func(*args, **kwargs)\n",
            "c:\\Users\\parkg\\anaconda3\\Lib\\site-packages\\IPython\\core\\pylabtools.py:152: UserWarning: Glyph 45817 (\\N{HANGUL SYLLABLE DANG}) missing from current font.\n",
            "  fig.canvas.print_figure(bytes_io, **kw)\n",
            "c:\\Users\\parkg\\anaconda3\\Lib\\site-packages\\IPython\\core\\pylabtools.py:152: UserWarning: Glyph 49440 (\\N{HANGUL SYLLABLE SEON}) missing from current font.\n",
            "  fig.canvas.print_figure(bytes_io, **kw)\n"
          ]
        },
        {
          "data": {
            "image/png": "[encoded data removed]",
            "text/plain": [
              "<Figure size 640x480 with 1 Axes>"
            ]
          },
          "metadata": {},
          "output_type": "display_data"
        }
      ],
      "source": [
        "tmp_df.groupby('당선')['가결률'].mean().plot.bar()"
      ]
    },
    {
      "cell_type": "markdown",
      "metadata": {},
      "source": [
        "당선 횟수와 초당적 협력 빈도는 연관이 없다."
      ]
    },
    {
      "cell_type": "code",
      "execution_count": 1846,
      "metadata": {},
      "outputs": [
        {
          "data": {
            "text/html": [
              "<div>\n",
              "<style scoped>\n",
              "    .dataframe tbody tr th:only-of-type {\n",
              "        vertical-align: middle;\n",
              "    }\n",
              "\n",
              "    .dataframe tbody tr th {\n",
              "        vertical-align: top;\n",
              "    }\n",
              "\n",
              "    .dataframe thead th {\n",
              "        text-align: right;\n",
              "    }\n",
              "</style>\n",
              "<table border=\"1\" class=\"dataframe\">\n",
              "  <thead>\n",
              "    <tr style=\"text-align: right;\">\n",
              "      <th></th>\n",
              "      <th>법안</th>\n",
              "      <th>초당률</th>\n",
              "    </tr>\n",
              "  </thead>\n",
              "  <tbody>\n",
              "    <tr>\n",
              "      <th>법안</th>\n",
              "      <td>1.00000</td>\n",
              "      <td>-0.07121</td>\n",
              "    </tr>\n",
              "    <tr>\n",
              "      <th>초당률</th>\n",
              "      <td>-0.07121</td>\n",
              "      <td>1.00000</td>\n",
              "    </tr>\n",
              "  </tbody>\n",
              "</table>\n",
              "</div>"
            ],
            "text/plain": [
              "          법안      초당률\n",
              "법안   1.00000 -0.07121\n",
              "초당률 -0.07121  1.00000"
            ]
          },
          "execution_count": 1846,
          "metadata": {},
          "output_type": "execute_result"
        }
      ],
      "source": [
        "tmp_df[['법안','초당률']].corr()"
      ]
    },
    {
      "cell_type": "markdown",
      "metadata": {},
      "source": [
        "제출한 법안 개수와 초당적 협력은 관련이 없다."
      ]
    },
    {
      "cell_type": "code",
      "execution_count": 1858,
      "metadata": {},
      "outputs": [
        {
          "data": {
            "text/html": [
              "<div>\n",
              "<style scoped>\n",
              "    .dataframe tbody tr th:only-of-type {\n",
              "        vertical-align: middle;\n",
              "    }\n",
              "\n",
              "    .dataframe tbody tr th {\n",
              "        vertical-align: top;\n",
              "    }\n",
              "\n",
              "    .dataframe thead th {\n",
              "        text-align: right;\n",
              "    }\n",
              "</style>\n",
              "<table border=\"1\" class=\"dataframe\">\n",
              "  <thead>\n",
              "    <tr style=\"text-align: right;\">\n",
              "      <th></th>\n",
              "      <th>법안 ID</th>\n",
              "      <th>상태</th>\n",
              "      <th>초당</th>\n",
              "      <th>국민의힘</th>\n",
              "      <th>더불어민주당</th>\n",
              "      <th>진보당</th>\n",
              "      <th>정의당</th>\n",
              "      <th>무소속</th>\n",
              "      <th>한국의희망</th>\n",
              "      <th>기본소득당</th>\n",
              "      <th>시대전환</th>\n",
              "    </tr>\n",
              "  </thead>\n",
              "  <tbody>\n",
              "    <tr>\n",
              "      <th>0</th>\n",
              "      <td>PRC_A2A0D1P2T1X6K1X5T4Y4T2H5A8S2G6</td>\n",
              "      <td>가결외</td>\n",
              "      <td>0</td>\n",
              "      <td>0</td>\n",
              "      <td>0</td>\n",
              "      <td>0</td>\n",
              "      <td>0</td>\n",
              "      <td>0</td>\n",
              "      <td>0</td>\n",
              "      <td>0</td>\n",
              "      <td>0</td>\n",
              "    </tr>\n",
              "    <tr>\n",
              "      <th>9</th>\n",
              "      <td>PRC_A2A0J0O6W0A8F1Z5U0P9X0O3F0E4R3</td>\n",
              "      <td>가결외</td>\n",
              "      <td>0</td>\n",
              "      <td>0</td>\n",
              "      <td>0</td>\n",
              "      <td>0</td>\n",
              "      <td>0</td>\n",
              "      <td>0</td>\n",
              "      <td>0</td>\n",
              "      <td>0</td>\n",
              "      <td>0</td>\n",
              "    </tr>\n",
              "    <tr>\n",
              "      <th>21</th>\n",
              "      <td>PRC_A2A0K1E2K1H5T0S9R3B6G1M0J3V1T0</td>\n",
              "      <td>가결</td>\n",
              "      <td>1</td>\n",
              "      <td>0</td>\n",
              "      <td>0</td>\n",
              "      <td>0</td>\n",
              "      <td>0</td>\n",
              "      <td>0</td>\n",
              "      <td>0</td>\n",
              "      <td>0</td>\n",
              "      <td>0</td>\n",
              "    </tr>\n",
              "  </tbody>\n",
              "</table>\n",
              "</div>"
            ],
            "text/plain": [
              "                                 법안 ID   상태  초당  국민의힘  더불어민주당  진보당  정의당  무소속  \\\n",
              "0   PRC_A2A0D1P2T1X6K1X5T4Y4T2H5A8S2G6  가결외   0     0       0    0    0    0   \n",
              "9   PRC_A2A0J0O6W0A8F1Z5U0P9X0O3F0E4R3  가결외   0     0       0    0    0    0   \n",
              "21  PRC_A2A0K1E2K1H5T0S9R3B6G1M0J3V1T0   가결   1     0       0    0    0    0   \n",
              "\n",
              "    한국의희망  기본소득당  시대전환  \n",
              "0       0      0     0  \n",
              "9       0      0     0  \n",
              "21      0      0     0  "
            ]
          },
          "execution_count": 1858,
          "metadata": {},
          "output_type": "execute_result"
        }
      ],
      "source": [
        "rel = relation_state[['법안 ID','상태','초당']].copy()\n",
        "rel = rel.drop_duplicates()\n",
        "rel['국민의힘'] = 0\n",
        "rel['더불어민주당'] = 0\n",
        "rel['진보당'] = 0\n",
        "rel['정의당'] = 0\n",
        "rel['무소속'] = 0\n",
        "rel['한국의희망'] = 0\n",
        "rel['기본소득당'] = 0\n",
        "rel['시대전환'] = 0\n",
        "rel.head(3)"
      ]
    },
    {
      "cell_type": "code",
      "execution_count": 1859,
      "metadata": {},
      "outputs": [
        {
          "data": {
            "text/html": [
              "<div>\n",
              "<style scoped>\n",
              "    .dataframe tbody tr th:only-of-type {\n",
              "        vertical-align: middle;\n",
              "    }\n",
              "\n",
              "    .dataframe tbody tr th {\n",
              "        vertical-align: top;\n",
              "    }\n",
              "\n",
              "    .dataframe thead th {\n",
              "        text-align: right;\n",
              "    }\n",
              "</style>\n",
              "<table border=\"1\" class=\"dataframe\">\n",
              "  <thead>\n",
              "    <tr style=\"text-align: right;\">\n",
              "      <th></th>\n",
              "      <th>상태</th>\n",
              "      <th>초당</th>\n",
              "      <th>국민의힘</th>\n",
              "      <th>더불어민주당</th>\n",
              "      <th>진보당</th>\n",
              "      <th>정의당</th>\n",
              "      <th>무소속</th>\n",
              "      <th>한국의희망</th>\n",
              "      <th>기본소득당</th>\n",
              "      <th>시대전환</th>\n",
              "      <th>총합</th>\n",
              "    </tr>\n",
              "    <tr>\n",
              "      <th>법안 ID</th>\n",
              "      <th></th>\n",
              "      <th></th>\n",
              "      <th></th>\n",
              "      <th></th>\n",
              "      <th></th>\n",
              "      <th></th>\n",
              "      <th></th>\n",
              "      <th></th>\n",
              "      <th></th>\n",
              "      <th></th>\n",
              "      <th></th>\n",
              "    </tr>\n",
              "  </thead>\n",
              "  <tbody>\n",
              "    <tr>\n",
              "      <th>PRC_A2A0D1P2T1X6K1X5T4Y4T2H5A8S2G6</th>\n",
              "      <td>가결외</td>\n",
              "      <td>0</td>\n",
              "      <td>1</td>\n",
              "      <td>0</td>\n",
              "      <td>0</td>\n",
              "      <td>0</td>\n",
              "      <td>0</td>\n",
              "      <td>0</td>\n",
              "      <td>0</td>\n",
              "      <td>0</td>\n",
              "      <td>1</td>\n",
              "    </tr>\n",
              "    <tr>\n",
              "      <th>PRC_A2A0J0O6W0A8F1Z5U0P9X0O3F0E4R3</th>\n",
              "      <td>가결외</td>\n",
              "      <td>0</td>\n",
              "      <td>0</td>\n",
              "      <td>1</td>\n",
              "      <td>0</td>\n",
              "      <td>0</td>\n",
              "      <td>0</td>\n",
              "      <td>0</td>\n",
              "      <td>0</td>\n",
              "      <td>0</td>\n",
              "      <td>1</td>\n",
              "    </tr>\n",
              "    <tr>\n",
              "      <th>PRC_A2A0K1E2K1H5T0S9R3B6G1M0J3V1T0</th>\n",
              "      <td>가결</td>\n",
              "      <td>1</td>\n",
              "      <td>0</td>\n",
              "      <td>1</td>\n",
              "      <td>0</td>\n",
              "      <td>0</td>\n",
              "      <td>1</td>\n",
              "      <td>0</td>\n",
              "      <td>0</td>\n",
              "      <td>0</td>\n",
              "      <td>2</td>\n",
              "    </tr>\n",
              "  </tbody>\n",
              "</table>\n",
              "</div>"
            ],
            "text/plain": [
              "                                     상태  초당  국민의힘  더불어민주당  진보당  정의당  무소속  \\\n",
              "법안 ID                                                                      \n",
              "PRC_A2A0D1P2T1X6K1X5T4Y4T2H5A8S2G6  가결외   0     1       0    0    0    0   \n",
              "PRC_A2A0J0O6W0A8F1Z5U0P9X0O3F0E4R3  가결외   0     0       1    0    0    0   \n",
              "PRC_A2A0K1E2K1H5T0S9R3B6G1M0J3V1T0   가결   1     0       1    0    0    1   \n",
              "\n",
              "                                    한국의희망  기본소득당  시대전환  총합  \n",
              "법안 ID                                                       \n",
              "PRC_A2A0D1P2T1X6K1X5T4Y4T2H5A8S2G6      0      0     0   1  \n",
              "PRC_A2A0J0O6W0A8F1Z5U0P9X0O3F0E4R3      0      0     0   1  \n",
              "PRC_A2A0K1E2K1H5T0S9R3B6G1M0J3V1T0      0      0     0   2  "
            ]
          },
          "execution_count": 1859,
          "metadata": {},
          "output_type": "execute_result"
        }
      ],
      "source": [
        "relation_state.set_index('법안 ID', inplace = True)\n",
        "rel.set_index('법안 ID', inplace = True)\n",
        "for i in state['법안 ID']:\n",
        "    for j in set(relation_state.loc[i, '정당명']):\n",
        "        rel.loc[i, j] += 1\n",
        "rel.loc[:,'총합'] = rel.loc[:, '국민의힘':'시대전환'].sum(axis=1)\n",
        "rel.head(3)"
      ]
    },
    {
      "cell_type": "code",
      "execution_count": 1870,
      "metadata": {},
      "outputs": [
        {
          "name": "stdout",
          "output_type": "stream",
          "text": [
            "여당의 초당적 협력 비율: 0.598684943720049\n",
            "제1야당의 초당적 협력 비율: 0.4318152906754866\n",
            "야당들의 초당적 협력 비율: 0.5133682173320909\n"
          ]
        }
      ],
      "source": [
        "print(f\"여당의 초당적 협력 비율: {len(rel[(rel['국민의힘'] == 1) & (rel['총합'] == 1)]) / len(rel[(rel['국민의힘'] == 1)])}\")\n",
        "print(f\"제1야당의 초당적 협력 비율: {len(rel[(rel['더불어민주당'] == 1) & (rel['총합'] == 1)]) / len(rel[(rel['더불어민주당'] == 1)])}\")\n",
        "print(f\"야당들의 초당적 협력 비율: {len(rel[(rel['국민의힘'] != 1) & (rel['총합'] != 1)]) / len(rel[(rel['국민의힘'] != 1)])}\")"
      ]
    },
    {
      "cell_type": "markdown",
      "metadata": {},
      "source": [
        "여당의 초당적 협력 비율이 더 높음"
      ]
    },
    {
      "cell_type": "code",
      "execution_count": 1872,
      "metadata": {},
      "outputs": [
        {
          "name": "stdout",
          "output_type": "stream",
          "text": [
            "초당적 협력의 가결 비율: 0.2647960605779058\n",
            "비초당적 협력의 가결 비율: 0.24101636378587288\n"
          ]
        }
      ],
      "source": [
        "print(f\"초당적 협력의 가결 비율: {len(rel[(rel['상태'] == '가결') & (rel['총합'] != 1)]) / len(rel[(rel['총합'] != 1)])}\")\n",
        "print(f\"비초당적 협력의 가결 비율: {len(rel[(rel['상태'] == '가결') & (rel['총합'] == 1)]) / len(rel[(rel['총합'] == 1)])}\")"
      ]
    },
    {
      "cell_type": "markdown",
      "metadata": {},
      "source": [
        "초당적 협력으로 제출한 법안이 가결률이 높은 것을 확인할 수 있다."
      ]
    },
    {
      "cell_type": "code",
      "execution_count": 1874,
      "metadata": {},
      "outputs": [
        {
          "name": "stdout",
          "output_type": "stream",
          "text": [
            "여당의 가결률: 0.2591106653293213\n",
            "제1야당의 가결률: 0.2537209006487724\n",
            "야당들의 가결률: 0.24772417747831696\n"
          ]
        }
      ],
      "source": [
        "print(f\"여당의 가결률: {len(rel[(rel['국민의힘'] == 1) & (rel['상태'] == '가결')]) / len(rel[(rel['국민의힘'] == 1)])}\")\n",
        "print(f\"제1야당의 가결률: {len(rel[(rel['더불어민주당'] == 1) & (rel['상태'] == '가결')]) / len(rel[(rel['더불어민주당'] == 1)])}\")\n",
        "print(f\"야당들의 가결률: {len(rel[(rel['국민의힘'] != 1) & (rel['상태'] == '가결')]) / len(rel[(rel['국민의힘'] != 1)])}\")"
      ]
    },
    {
      "cell_type": "code",
      "execution_count": 1882,
      "metadata": {},
      "outputs": [
        {
          "data": {
            "text/plain": [
              "<AxesSubplot: xlabel='위원회수'>"
            ]
          },
          "execution_count": 1882,
          "metadata": {},
          "output_type": "execute_result"
        },
        {
          "name": "stderr",
          "output_type": "stream",
          "text": [
            "c:\\Users\\parkg\\anaconda3\\Lib\\site-packages\\IPython\\core\\events.py:93: UserWarning: Glyph 50948 (\\N{HANGUL SYLLABLE WI}) missing from current font.\n",
            "  func(*args, **kwargs)\n",
            "c:\\Users\\parkg\\anaconda3\\Lib\\site-packages\\IPython\\core\\events.py:93: UserWarning: Glyph 50896 (\\N{HANGUL SYLLABLE WEON}) missing from current font.\n",
            "  func(*args, **kwargs)\n",
            "c:\\Users\\parkg\\anaconda3\\Lib\\site-packages\\IPython\\core\\events.py:93: UserWarning: Glyph 54924 (\\N{HANGUL SYLLABLE HOE}) missing from current font.\n",
            "  func(*args, **kwargs)\n",
            "c:\\Users\\parkg\\anaconda3\\Lib\\site-packages\\IPython\\core\\events.py:93: UserWarning: Glyph 49688 (\\N{HANGUL SYLLABLE SU}) missing from current font.\n",
            "  func(*args, **kwargs)\n",
            "c:\\Users\\parkg\\anaconda3\\Lib\\site-packages\\IPython\\core\\pylabtools.py:152: UserWarning: Glyph 50948 (\\N{HANGUL SYLLABLE WI}) missing from current font.\n",
            "  fig.canvas.print_figure(bytes_io, **kw)\n",
            "c:\\Users\\parkg\\anaconda3\\Lib\\site-packages\\IPython\\core\\pylabtools.py:152: UserWarning: Glyph 50896 (\\N{HANGUL SYLLABLE WEON}) missing from current font.\n",
            "  fig.canvas.print_figure(bytes_io, **kw)\n",
            "c:\\Users\\parkg\\anaconda3\\Lib\\site-packages\\IPython\\core\\pylabtools.py:152: UserWarning: Glyph 54924 (\\N{HANGUL SYLLABLE HOE}) missing from current font.\n",
            "  fig.canvas.print_figure(bytes_io, **kw)\n",
            "c:\\Users\\parkg\\anaconda3\\Lib\\site-packages\\IPython\\core\\pylabtools.py:152: UserWarning: Glyph 49688 (\\N{HANGUL SYLLABLE SU}) missing from current font.\n",
            "  fig.canvas.print_figure(bytes_io, **kw)\n"
          ]
        },
        {
          "data": {
            "image/png": "[encoded data removed]",
            "text/plain": [
              "<Figure size 640x480 with 1 Axes>"
            ]
          },
          "metadata": {},
          "output_type": "display_data"
        }
      ],
      "source": [
        "member.groupby('위원회수').mean()['법안'].plot.bar()"
      ]
    },
    {
      "cell_type": "markdown",
      "metadata": {},
      "source": [
        "많은 위원회에 참여한다고 해서 법안을 많이 내지는 않았다."
      ]
    }
  ],
  "metadata": {
    "colab": {
      "provenance": []
    },
    "kernelspec": {
      "display_name": "Python 3",
      "name": "python3"
    },
    "language_info": {
      "codemirror_mode": {
        "name": "ipython",
        "version": 3
      },
      "file_extension": ".py",
      "mimetype": "text/x-python",
      "name": "python",
      "nbconvert_exporter": "python",
      "pygments_lexer": "ipython3",
      "version": "3.11.5"
    }
  },
  "nbformat": 4,
  "nbformat_minor": 0
}
