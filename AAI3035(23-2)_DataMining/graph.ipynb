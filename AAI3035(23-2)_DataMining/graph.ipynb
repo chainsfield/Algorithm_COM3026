{
  "cells": [
    {
      "cell_type": "code",
      "execution_count": 613,
      "metadata": {
        "id": "cYxIPgUQQMMw"
      },
      "outputs": [],
      "source": [
        "import pandas as pd\n",
        "import numpy as np\n",
        "import networkx as nx\n",
        "import matplotlib.pyplot as plt"
      ]
    },
    {
      "cell_type": "code",
      "execution_count": 614,
      "metadata": {
        "id": "2WNe3FsGmhtn"
      },
      "outputs": [],
      "source": [
        "import warnings\n",
        "warnings.simplefilter(action = 'ignore', category = FutureWarning) # FutureWarning 제거"
      ]
    },
    {
      "cell_type": "code",
      "execution_count": 615,
      "metadata": {
        "colab": {
          "base_uri": "https://localhost:8080/",
          "height": 301
        },
        "id": "wNDyfaKiRCXy",
        "outputId": "6784f5b1-3080-42ee-b67f-ce46161f24d4"
      },
      "outputs": [
        {
          "data": {
            "text/html": [
              "<div>\n",
              "<style scoped>\n",
              "    .dataframe tbody tr th:only-of-type {\n",
              "        vertical-align: middle;\n",
              "    }\n",
              "\n",
              "    .dataframe tbody tr th {\n",
              "        vertical-align: top;\n",
              "    }\n",
              "\n",
              "    .dataframe thead th {\n",
              "        text-align: right;\n",
              "    }\n",
              "</style>\n",
              "<table border=\"1\" class=\"dataframe\">\n",
              "  <thead>\n",
              "    <tr style=\"text-align: right;\">\n",
              "      <th></th>\n",
              "      <th>이름</th>\n",
              "      <th>한자명</th>\n",
              "      <th>영문명칭</th>\n",
              "      <th>음/양력</th>\n",
              "      <th>생년월일</th>\n",
              "      <th>정당명</th>\n",
              "      <th>선거구</th>\n",
              "      <th>대표 위원회</th>\n",
              "      <th>재선</th>\n",
              "      <th>당선</th>\n",
              "      <th>...</th>\n",
              "      <th>이메일</th>\n",
              "      <th>홈페이지</th>\n",
              "      <th>보좌관</th>\n",
              "      <th>비서관</th>\n",
              "      <th>비서</th>\n",
              "      <th>재직구분</th>\n",
              "      <th>직업</th>\n",
              "      <th>학력</th>\n",
              "      <th>경력</th>\n",
              "      <th>득표수</th>\n",
              "    </tr>\n",
              "  </thead>\n",
              "  <tbody>\n",
              "    <tr>\n",
              "      <th>0</th>\n",
              "      <td>강기윤</td>\n",
              "      <td>姜起潤</td>\n",
              "      <td>KANG GIYUN</td>\n",
              "      <td>양</td>\n",
              "      <td>1960-06-04</td>\n",
              "      <td>국민의힘</td>\n",
              "      <td>경남 창원시성산구</td>\n",
              "      <td>보건복지위원회</td>\n",
              "      <td>재선</td>\n",
              "      <td>제19대, 제21대</td>\n",
              "      <td>...</td>\n",
              "      <td>ggotop@naver.com</td>\n",
              "      <td>http://blog.naver.com/ggotop</td>\n",
              "      <td>한영애</td>\n",
              "      <td>김샛별, 장원종</td>\n",
              "      <td>안효상, 빈자영, 이유진, 김지훈, 조옥자</td>\n",
              "      <td>60001</td>\n",
              "      <td>정당인</td>\n",
              "      <td>창원대학교 대학원 졸업(행정학 박사)</td>\n",
              "      <td>(전)19대 국회의원\\n(현)미래통합당 경남도당 민생위원회 위원장</td>\n",
              "      <td>61,782\\n(47.30)</td>\n",
              "    </tr>\n",
              "  </tbody>\n",
              "</table>\n",
              "<p>1 rows × 24 columns</p>\n",
              "</div>"
            ],
            "text/plain": [
              "    이름  한자명        영문명칭 음/양력        생년월일   정당명        선거구   대표 위원회  재선  \\\n",
              "0  강기윤  姜起潤  KANG GIYUN    양  1960-06-04  국민의힘  경남 창원시성산구  보건복지위원회  재선   \n",
              "\n",
              "           당선  ...               이메일                          홈페이지  보좌관  \\\n",
              "0  제19대, 제21대  ...  ggotop@naver.com  http://blog.naver.com/ggotop  한영애   \n",
              "\n",
              "        비서관                       비서   재직구분   직업                    학력  \\\n",
              "0  김샛별, 장원종  안효상, 빈자영, 이유진, 김지훈, 조옥자  60001  정당인  창원대학교 대학원 졸업(행정학 박사)   \n",
              "\n",
              "                                     경력              득표수  \n",
              "0  (전)19대 국회의원\\n(현)미래통합당 경남도당 민생위원회 위원장  61,782\\n(47.30)  \n",
              "\n",
              "[1 rows x 24 columns]"
            ]
          },
          "execution_count": 615,
          "metadata": {},
          "output_type": "execute_result"
        }
      ],
      "source": [
        "# 국회의원 298명에 대한 정보를 담고 있는 member df, node가 될 예정\n",
        "member = pd.read_excel('./raw_data/member_of_Congress.xlsx')\n",
        "member.head(1)"
      ]
    },
    {
      "cell_type": "code",
      "execution_count": 616,
      "metadata": {
        "colab": {
          "base_uri": "https://localhost:8080/",
          "height": 143
        },
        "id": "xVbTPF6WXYA7",
        "outputId": "93b38c5d-3123-4c9f-b46c-6f7a796cfa25"
      },
      "outputs": [
        {
          "data": {
            "text/html": [
              "<div>\n",
              "<style scoped>\n",
              "    .dataframe tbody tr th:only-of-type {\n",
              "        vertical-align: middle;\n",
              "    }\n",
              "\n",
              "    .dataframe tbody tr th {\n",
              "        vertical-align: top;\n",
              "    }\n",
              "\n",
              "    .dataframe thead th {\n",
              "        text-align: right;\n",
              "    }\n",
              "</style>\n",
              "<table border=\"1\" class=\"dataframe\">\n",
              "  <thead>\n",
              "    <tr style=\"text-align: right;\">\n",
              "      <th></th>\n",
              "      <th>이름</th>\n",
              "      <th>생년월일</th>\n",
              "      <th>정당명</th>\n",
              "      <th>선거구</th>\n",
              "      <th>재선</th>\n",
              "      <th>소속 위원회 목록</th>\n",
              "      <th>성별</th>\n",
              "      <th>학력</th>\n",
              "    </tr>\n",
              "  </thead>\n",
              "  <tbody>\n",
              "    <tr>\n",
              "      <th>0</th>\n",
              "      <td>강기윤(姜起潤)</td>\n",
              "      <td>1960-06-04</td>\n",
              "      <td>국민의힘</td>\n",
              "      <td>경남 창원시성산구</td>\n",
              "      <td>재선</td>\n",
              "      <td>보건복지위원회</td>\n",
              "      <td>남</td>\n",
              "      <td>창원대학교 대학원 졸업(행정학 박사)</td>\n",
              "    </tr>\n",
              "    <tr>\n",
              "      <th>1</th>\n",
              "      <td>강대식(姜大植)</td>\n",
              "      <td>1959-11-02</td>\n",
              "      <td>국민의힘</td>\n",
              "      <td>대구 동구을</td>\n",
              "      <td>초선</td>\n",
              "      <td>국토교통위원회</td>\n",
              "      <td>남</td>\n",
              "      <td>영남대학교 대학원 경영학과 졸업(경영학박사)</td>\n",
              "    </tr>\n",
              "    <tr>\n",
              "      <th>2</th>\n",
              "      <td>강득구(姜得求)</td>\n",
              "      <td>1963-05-27</td>\n",
              "      <td>더불어민주당</td>\n",
              "      <td>경기 안양시만안구</td>\n",
              "      <td>초선</td>\n",
              "      <td>인구위기특별위원회, 교육위원회</td>\n",
              "      <td>남</td>\n",
              "      <td>연세대학교 행정대학원 졸업(행정학석사)</td>\n",
              "    </tr>\n",
              "  </tbody>\n",
              "</table>\n",
              "</div>"
            ],
            "text/plain": [
              "         이름        생년월일     정당명        선거구  재선         소속 위원회 목록 성별  \\\n",
              "0  강기윤(姜起潤)  1960-06-04    국민의힘  경남 창원시성산구  재선           보건복지위원회  남   \n",
              "1  강대식(姜大植)  1959-11-02    국민의힘     대구 동구을  초선           국토교통위원회  남   \n",
              "2  강득구(姜得求)  1963-05-27  더불어민주당  경기 안양시만안구  초선  인구위기특별위원회, 교육위원회  남   \n",
              "\n",
              "                         학력  \n",
              "0      창원대학교 대학원 졸업(행정학 박사)  \n",
              "1  영남대학교 대학원 경영학과 졸업(경영학박사)  \n",
              "2     연세대학교 행정대학원 졸업(행정학석사)  "
            ]
          },
          "execution_count": 616,
          "metadata": {},
          "output_type": "execute_result"
        }
      ],
      "source": [
        "# member df 전처리 과정\n",
        "member.loc[member['이름'] == '양원영', ['이름']] = '양이원영' # 이름 오류 수정\n",
        "member['이름'] = member['이름'] + '(' + member['한자명'] + ')' # primary key인 이름(한자) 생성\n",
        "member.sort_values(by = '이름', inplace = True) # 동명이인의 한자명에 따른 정렬 순서 이상 때문에 정렬 한 번\n",
        "member.reset_index(drop = True, inplace = True) # 정렬에 따른 인덱스 이상 때문에 인덱스 정렬 한 번\n",
        "member = member[['이름','생년월일','정당명','선거구','재선','소속 위원회 목록','성별','학력']]\n",
        "member.head(3) # 필요 없는 데이터 잠깐 지우겠슴다"
      ]
    },
    {
      "cell_type": "code",
      "execution_count": 617,
      "metadata": {
        "colab": {
          "base_uri": "https://localhost:8080/"
        },
        "id": "02G-rKP9aEDU",
        "outputId": "66cce4e9-100b-48da-a890-6ce4e0366b29"
      },
      "outputs": [
        {
          "data": {
            "text/plain": [
              "1    155\n",
              "2     69\n",
              "3     41\n",
              "4     20\n",
              "5     12\n",
              "6      1\n",
              "Name: 당선, dtype: int64"
            ]
          },
          "execution_count": 617,
          "metadata": {},
          "output_type": "execute_result"
        }
      ],
      "source": [
        "# 그래프에서 feature로 활용하기 위해 당선횟수를 숫자로\n",
        "member.rename(columns = {'재선' : '당선'}, inplace = True)\n",
        "member['당선'] = member['당선'].str.replace('초', '1')\n",
        "member['당선'] = member['당선'].str.replace('재', '2')\n",
        "member['당선'] = member['당선'].str.replace('선', '')\n",
        "member['당선'] = member['당선'].apply(pd.to_numeric)\n",
        "member['당선'].value_counts()"
      ]
    },
    {
      "cell_type": "code",
      "execution_count": 618,
      "metadata": {
        "colab": {
          "base_uri": "https://localhost:8080/",
          "height": 143
        },
        "id": "z6KnoyGUfG6F",
        "outputId": "a76fb19a-1119-4384-a279-667152d70bcc"
      },
      "outputs": [
        {
          "data": {
            "text/html": [
              "<div>\n",
              "<style scoped>\n",
              "    .dataframe tbody tr th:only-of-type {\n",
              "        vertical-align: middle;\n",
              "    }\n",
              "\n",
              "    .dataframe tbody tr th {\n",
              "        vertical-align: top;\n",
              "    }\n",
              "\n",
              "    .dataframe thead th {\n",
              "        text-align: right;\n",
              "    }\n",
              "</style>\n",
              "<table border=\"1\" class=\"dataframe\">\n",
              "  <thead>\n",
              "    <tr style=\"text-align: right;\">\n",
              "      <th></th>\n",
              "      <th>이름</th>\n",
              "      <th>나이</th>\n",
              "      <th>정당명</th>\n",
              "      <th>선거구</th>\n",
              "      <th>당선</th>\n",
              "      <th>소속 위원회 목록</th>\n",
              "      <th>성별</th>\n",
              "      <th>학력</th>\n",
              "    </tr>\n",
              "  </thead>\n",
              "  <tbody>\n",
              "    <tr>\n",
              "      <th>0</th>\n",
              "      <td>강기윤(姜起潤)</td>\n",
              "      <td>63</td>\n",
              "      <td>국민의힘</td>\n",
              "      <td>경남 창원시성산구</td>\n",
              "      <td>2</td>\n",
              "      <td>보건복지위원회</td>\n",
              "      <td>남</td>\n",
              "      <td>창원대학교 대학원 졸업(행정학 박사)</td>\n",
              "    </tr>\n",
              "    <tr>\n",
              "      <th>1</th>\n",
              "      <td>강대식(姜大植)</td>\n",
              "      <td>64</td>\n",
              "      <td>국민의힘</td>\n",
              "      <td>대구 동구을</td>\n",
              "      <td>1</td>\n",
              "      <td>국토교통위원회</td>\n",
              "      <td>남</td>\n",
              "      <td>영남대학교 대학원 경영학과 졸업(경영학박사)</td>\n",
              "    </tr>\n",
              "    <tr>\n",
              "      <th>2</th>\n",
              "      <td>강득구(姜得求)</td>\n",
              "      <td>60</td>\n",
              "      <td>더불어민주당</td>\n",
              "      <td>경기 안양시만안구</td>\n",
              "      <td>1</td>\n",
              "      <td>인구위기특별위원회, 교육위원회</td>\n",
              "      <td>남</td>\n",
              "      <td>연세대학교 행정대학원 졸업(행정학석사)</td>\n",
              "    </tr>\n",
              "  </tbody>\n",
              "</table>\n",
              "</div>"
            ],
            "text/plain": [
              "         이름  나이     정당명        선거구  당선         소속 위원회 목록 성별  \\\n",
              "0  강기윤(姜起潤)  63    국민의힘  경남 창원시성산구   2           보건복지위원회  남   \n",
              "1  강대식(姜大植)  64    국민의힘     대구 동구을   1           국토교통위원회  남   \n",
              "2  강득구(姜得求)  60  더불어민주당  경기 안양시만안구   1  인구위기특별위원회, 교육위원회  남   \n",
              "\n",
              "                         학력  \n",
              "0      창원대학교 대학원 졸업(행정학 박사)  \n",
              "1  영남대학교 대학원 경영학과 졸업(경영학박사)  \n",
              "2     연세대학교 행정대학원 졸업(행정학석사)  "
            ]
          },
          "execution_count": 618,
          "metadata": {},
          "output_type": "execute_result"
        }
      ],
      "source": [
        "# 그래프에서 feature로 활용하기 위해 생년월일 to 나이\n",
        "from datetime import datetime\n",
        "\n",
        "member['생년월일'] = member['생년월일'].str.replace('-', '')\n",
        "member['생년월일'] = pd.to_numeric(member['생년월일'])\n",
        "today = int(datetime.now().strftime(\"%Y%m%d\"))\n",
        "member['생년월일'] = (today - member['생년월일'])//10000\n",
        "member.rename(columns = {'생년월일' : '나이'}, inplace = True)\n",
        "member.head(3)"
      ]
    },
    {
      "cell_type": "code",
      "execution_count": 619,
      "metadata": {
        "colab": {
          "base_uri": "https://localhost:8080/"
        },
        "id": "1BCqpquurmFT",
        "outputId": "1fd92d3c-0cee-401f-f4b7-1217884f92eb"
      },
      "outputs": [
        {
          "data": {
            "text/plain": [
              "학사    128\n",
              "석사    102\n",
              "박사     66\n",
              "고졸      2\n",
              "Name: 학력, dtype: int64"
            ]
          },
          "execution_count": 619,
          "metadata": {},
          "output_type": "execute_result"
        }
      ],
      "source": [
        "# 그래프에서 feature로 활용하기 위해 학력 표준화\n",
        "arr = []\n",
        "for edu in member['학력']:\n",
        "  edu = str(edu)\n",
        "  if '박사' in edu and '수료' in edu:\n",
        "    arr.append('석사')\n",
        "  elif '박사' in edu:\n",
        "    arr.append('박사')\n",
        "  elif '수료' in edu and '석사' in edu:\n",
        "    arr.append('학사')\n",
        "  elif '석사' in edu:\n",
        "    arr.append('석사')\n",
        "  elif '중퇴' in edu or '고등학교' in edu:\n",
        "    arr.append('고졸')\n",
        "  else:\n",
        "    arr.append('학사')\n",
        "\n",
        "member['학력'] = arr\n",
        "member['학력'].value_counts()"
      ]
    },
    {
      "cell_type": "code",
      "execution_count": 620,
      "metadata": {
        "colab": {
          "base_uri": "https://localhost:8080/"
        },
        "id": "MiXz5rHHgWbY",
        "outputId": "cfe11d06-c3ee-4a8a-b2fe-06270cff47d3"
      },
      "outputs": [
        {
          "name": "stdout",
          "output_type": "stream",
          "text": [
            "['과학기술정보방송통신위원회', '교육위원회', '국방위원회', '국토교통위원회', '국회 2030 부산세계박람회 유치지원 특별위원회', '국회운영위원회', '기획재정위원회', '기후위기특별위원회', '농림축산식품해양수산위원회', '문화체육관광위원회', '법제사법위원회', '보건복지위원회', '산업통상자원중소벤처기업위원회', '여성가족위원회', '연금개혁특별위원회', '예산결산특별위원회', '외교통일위원회', '윤리특별위원회', '인구위기특별위원회', '정무위원회', '정보위원회', '정치개혁특별위원회', '첨단전략산업특별위원회', '행정안전위원회', '헌법재판소장(이종석)임명동의에관한인사청문특별위원회', '환경노동위원회']\n"
          ]
        }
      ],
      "source": [
        "# 그래프에서 feature로 활용하기 위해 위원회 정리...를 어떻게 할까\n",
        "committee = member['소속 위원회 목록'][member['소속 위원회 목록'].notnull()].str.split(', ')\n",
        "comm = sorted(list(set([data for inner_list in committee for data in inner_list])))\n",
        "print(comm, sep = ' ')"
      ]
    },
    {
      "cell_type": "code",
      "execution_count": 621,
      "metadata": {
        "colab": {
          "base_uri": "https://localhost:8080/",
          "height": 233
        },
        "id": "5RugEurrc1l9",
        "outputId": "665803d1-5574-4dea-b106-bfad354bafe8"
      },
      "outputs": [
        {
          "name": "stderr",
          "output_type": "stream",
          "text": [
            "C:\\Users\\parkg\\AppData\\Local\\Temp\\ipykernel_22104\\64595070.py:5: SettingWithCopyWarning: \n",
            "A value is trying to be set on a copy of a slice from a DataFrame\n",
            "\n",
            "See the caveats in the documentation: https://pandas.pydata.org/pandas-docs/stable/user_guide/indexing.html#returning-a-view-versus-a-copy\n",
            "  member.loc[idx_temp]['위원회'] = 0\n"
          ]
        },
        {
          "data": {
            "text/html": [
              "<div>\n",
              "<style scoped>\n",
              "    .dataframe tbody tr th:only-of-type {\n",
              "        vertical-align: middle;\n",
              "    }\n",
              "\n",
              "    .dataframe tbody tr th {\n",
              "        vertical-align: top;\n",
              "    }\n",
              "\n",
              "    .dataframe thead th {\n",
              "        text-align: right;\n",
              "    }\n",
              "</style>\n",
              "<table border=\"1\" class=\"dataframe\">\n",
              "  <thead>\n",
              "    <tr style=\"text-align: right;\">\n",
              "      <th></th>\n",
              "      <th>이름</th>\n",
              "      <th>나이</th>\n",
              "      <th>정당명</th>\n",
              "      <th>선거구</th>\n",
              "      <th>당선</th>\n",
              "      <th>소속 위원회 목록</th>\n",
              "      <th>성별</th>\n",
              "      <th>학력</th>\n",
              "      <th>위원회</th>\n",
              "    </tr>\n",
              "  </thead>\n",
              "  <tbody>\n",
              "    <tr>\n",
              "      <th>0</th>\n",
              "      <td>강기윤(姜起潤)</td>\n",
              "      <td>63</td>\n",
              "      <td>국민의힘</td>\n",
              "      <td>경남 창원시성산구</td>\n",
              "      <td>2</td>\n",
              "      <td>보건복지위원회</td>\n",
              "      <td>남</td>\n",
              "      <td>박사</td>\n",
              "      <td>1</td>\n",
              "    </tr>\n",
              "    <tr>\n",
              "      <th>1</th>\n",
              "      <td>강대식(姜大植)</td>\n",
              "      <td>64</td>\n",
              "      <td>국민의힘</td>\n",
              "      <td>대구 동구을</td>\n",
              "      <td>1</td>\n",
              "      <td>국토교통위원회</td>\n",
              "      <td>남</td>\n",
              "      <td>박사</td>\n",
              "      <td>1</td>\n",
              "    </tr>\n",
              "    <tr>\n",
              "      <th>2</th>\n",
              "      <td>강득구(姜得求)</td>\n",
              "      <td>60</td>\n",
              "      <td>더불어민주당</td>\n",
              "      <td>경기 안양시만안구</td>\n",
              "      <td>1</td>\n",
              "      <td>인구위기특별위원회, 교육위원회</td>\n",
              "      <td>남</td>\n",
              "      <td>석사</td>\n",
              "      <td>1</td>\n",
              "    </tr>\n",
              "  </tbody>\n",
              "</table>\n",
              "</div>"
            ],
            "text/plain": [
              "         이름  나이     정당명        선거구  당선         소속 위원회 목록 성별  학력  위원회\n",
              "0  강기윤(姜起潤)  63    국민의힘  경남 창원시성산구   2           보건복지위원회  남  박사    1\n",
              "1  강대식(姜大植)  64    국민의힘     대구 동구을   1           국토교통위원회  남  박사    1\n",
              "2  강득구(姜得求)  60  더불어민주당  경기 안양시만안구   1  인구위기특별위원회, 교육위원회  남  석사    1"
            ]
          },
          "execution_count": 621,
          "metadata": {},
          "output_type": "execute_result"
        }
      ],
      "source": [
        "idx_temp = member[member['소속 위원회 목록'].isna()].index[0]\n",
        "for i in member.index:\n",
        "    if i != idx_temp:\n",
        "        member['위원회'] = member.loc[i, '소속 위원회 목록'].count(',') + 1\n",
        "member.loc[idx_temp]['위원회'] = 0\n",
        "member.head(3)"
      ]
    },
    {
      "cell_type": "code",
      "execution_count": 622,
      "metadata": {
        "colab": {
          "base_uri": "https://localhost:8080/",
          "height": 143
        },
        "id": "YRIwbkTu03JD",
        "outputId": "1602c0f0-54ba-47b7-b7ff-f9d112983c67"
      },
      "outputs": [
        {
          "data": {
            "text/html": [
              "<div>\n",
              "<style scoped>\n",
              "    .dataframe tbody tr th:only-of-type {\n",
              "        vertical-align: middle;\n",
              "    }\n",
              "\n",
              "    .dataframe tbody tr th {\n",
              "        vertical-align: top;\n",
              "    }\n",
              "\n",
              "    .dataframe thead th {\n",
              "        text-align: right;\n",
              "    }\n",
              "</style>\n",
              "<table border=\"1\" class=\"dataframe\">\n",
              "  <thead>\n",
              "    <tr style=\"text-align: right;\">\n",
              "      <th></th>\n",
              "      <th>PRC_M2L3N1N0M2L5J1S4Q3R7Q3O5W3V5U3</th>\n",
              "      <th>이용우</th>\n",
              "      <th>더불어민주당</th>\n",
              "      <th>李龍雨</th>\n",
              "      <th>9771184</th>\n",
              "    </tr>\n",
              "  </thead>\n",
              "  <tbody>\n",
              "    <tr>\n",
              "      <th>0</th>\n",
              "      <td>PRC_M2L3N1N0M2L5J1S4Q3R7Q3O5W3V5U3</td>\n",
              "      <td>강훈식</td>\n",
              "      <td>더불어민주당</td>\n",
              "      <td>姜勳植</td>\n",
              "      <td>9771007.0</td>\n",
              "    </tr>\n",
              "    <tr>\n",
              "      <th>1</th>\n",
              "      <td>PRC_M2L3N1N0M2L5J1S4Q3R7Q3O5W3V5U3</td>\n",
              "      <td>김상희</td>\n",
              "      <td>더불어민주당</td>\n",
              "      <td>金相姬</td>\n",
              "      <td>9770527.0</td>\n",
              "    </tr>\n",
              "    <tr>\n",
              "      <th>2</th>\n",
              "      <td>PRC_M2L3N1N0M2L5J1S4Q3R7Q3O5W3V5U3</td>\n",
              "      <td>김한규</td>\n",
              "      <td>더불어민주당</td>\n",
              "      <td>金翰奎</td>\n",
              "      <td>9771296.0</td>\n",
              "    </tr>\n",
              "  </tbody>\n",
              "</table>\n",
              "</div>"
            ],
            "text/plain": [
              "   PRC_M2L3N1N0M2L5J1S4Q3R7Q3O5W3V5U3  이용우  더불어민주당  李龍雨    9771184\n",
              "0  PRC_M2L3N1N0M2L5J1S4Q3R7Q3O5W3V5U3  강훈식  더불어민주당  姜勳植  9771007.0\n",
              "1  PRC_M2L3N1N0M2L5J1S4Q3R7Q3O5W3V5U3  김상희  더불어민주당  金相姬  9770527.0\n",
              "2  PRC_M2L3N1N0M2L5J1S4Q3R7Q3O5W3V5U3  김한규  더불어민주당  金翰奎  9771296.0"
            ]
          },
          "execution_count": 622,
          "metadata": {},
          "output_type": "execute_result"
        }
      ],
      "source": [
        "# 가장 문제인 법안을 함께 작업한 국회의원 state\n",
        "relation_raw = pd.read_csv('./raw_data/scraped_data_3.csv')\n",
        "relation_raw.head(3)"
      ]
    },
    {
      "cell_type": "code",
      "execution_count": 623,
      "metadata": {
        "colab": {
          "base_uri": "https://localhost:8080/",
          "height": 143
        },
        "id": "FJC-FU5NR0JW",
        "outputId": "3b22f44b-09b2-4ddd-80ad-b273fd2fa1a6"
      },
      "outputs": [
        {
          "data": {
            "text/html": [
              "<div>\n",
              "<style scoped>\n",
              "    .dataframe tbody tr th:only-of-type {\n",
              "        vertical-align: middle;\n",
              "    }\n",
              "\n",
              "    .dataframe tbody tr th {\n",
              "        vertical-align: top;\n",
              "    }\n",
              "\n",
              "    .dataframe thead th {\n",
              "        text-align: right;\n",
              "    }\n",
              "</style>\n",
              "<table border=\"1\" class=\"dataframe\">\n",
              "  <thead>\n",
              "    <tr style=\"text-align: right;\">\n",
              "      <th></th>\n",
              "      <th>법안 ID</th>\n",
              "      <th>이름</th>\n",
              "      <th>정당명</th>\n",
              "      <th>한자명</th>\n",
              "      <th>번호</th>\n",
              "    </tr>\n",
              "  </thead>\n",
              "  <tbody>\n",
              "    <tr>\n",
              "      <th>0</th>\n",
              "      <td>PRC_M2L3N1N0M2L5J1S4Q3R7Q3O5W3V5U3</td>\n",
              "      <td>이용우</td>\n",
              "      <td>더불어민주당</td>\n",
              "      <td>李龍雨</td>\n",
              "      <td>9771184</td>\n",
              "    </tr>\n",
              "    <tr>\n",
              "      <th>1</th>\n",
              "      <td>PRC_M2L3N1N0M2L5J1S4Q3R7Q3O5W3V5U3</td>\n",
              "      <td>강훈식</td>\n",
              "      <td>더불어민주당</td>\n",
              "      <td>姜勳植</td>\n",
              "      <td>9771007.0</td>\n",
              "    </tr>\n",
              "    <tr>\n",
              "      <th>2</th>\n",
              "      <td>PRC_M2L3N1N0M2L5J1S4Q3R7Q3O5W3V5U3</td>\n",
              "      <td>김상희</td>\n",
              "      <td>더불어민주당</td>\n",
              "      <td>金相姬</td>\n",
              "      <td>9770527.0</td>\n",
              "    </tr>\n",
              "  </tbody>\n",
              "</table>\n",
              "</div>"
            ],
            "text/plain": [
              "                                법안 ID   이름     정당명  한자명         번호\n",
              "0  PRC_M2L3N1N0M2L5J1S4Q3R7Q3O5W3V5U3  이용우  더불어민주당  李龍雨    9771184\n",
              "1  PRC_M2L3N1N0M2L5J1S4Q3R7Q3O5W3V5U3  강훈식  더불어민주당  姜勳植  9771007.0\n",
              "2  PRC_M2L3N1N0M2L5J1S4Q3R7Q3O5W3V5U3  김상희  더불어민주당  金相姬  9770527.0"
            ]
          },
          "execution_count": 623,
          "metadata": {},
          "output_type": "execute_result"
        }
      ],
      "source": [
        "# 컬럼명이 없어서 전처리\n",
        "tmp1 = ['법안 ID','이름','정당명','한자명','번호']\n",
        "tmp2 = list(relation_raw.columns)\n",
        "tmp3 = pd.DataFrame([tmp2], columns = tmp1)\n",
        "relation_raw.columns = tmp3.columns.copy()\n",
        "relation = pd.concat([tmp3, relation_raw], axis = 0)\n",
        "relation.reset_index(drop = True, inplace = True)\n",
        "relation.dropna(subset = ['이름','한자명'], inplace = True) # 이름이 없는 데이터는 살릴 수 없어 과감히 drop\n",
        "relation.head(3)"
      ]
    },
    {
      "cell_type": "code",
      "execution_count": 624,
      "metadata": {
        "colab": {
          "base_uri": "https://localhost:8080/",
          "height": 143
        },
        "id": "S2m5zhBDVUxo",
        "outputId": "68e9a034-10ae-4292-febf-348b0453f397"
      },
      "outputs": [
        {
          "data": {
            "text/html": [
              "<div>\n",
              "<style scoped>\n",
              "    .dataframe tbody tr th:only-of-type {\n",
              "        vertical-align: middle;\n",
              "    }\n",
              "\n",
              "    .dataframe tbody tr th {\n",
              "        vertical-align: top;\n",
              "    }\n",
              "\n",
              "    .dataframe thead th {\n",
              "        text-align: right;\n",
              "    }\n",
              "</style>\n",
              "<table border=\"1\" class=\"dataframe\">\n",
              "  <thead>\n",
              "    <tr style=\"text-align: right;\">\n",
              "      <th></th>\n",
              "      <th>법안 ID</th>\n",
              "      <th>이름</th>\n",
              "      <th>정당명</th>\n",
              "      <th>번호</th>\n",
              "    </tr>\n",
              "  </thead>\n",
              "  <tbody>\n",
              "    <tr>\n",
              "      <th>0</th>\n",
              "      <td>PRC_M2L3N1N0M2L5J1S4Q3R7Q3O5W3V5U3</td>\n",
              "      <td>이용우(李龍雨)</td>\n",
              "      <td>더불어민주당</td>\n",
              "      <td>9771184</td>\n",
              "    </tr>\n",
              "    <tr>\n",
              "      <th>1</th>\n",
              "      <td>PRC_M2L3N1N0M2L5J1S4Q3R7Q3O5W3V5U3</td>\n",
              "      <td>강훈식(姜勳植)</td>\n",
              "      <td>더불어민주당</td>\n",
              "      <td>9771007.0</td>\n",
              "    </tr>\n",
              "    <tr>\n",
              "      <th>2</th>\n",
              "      <td>PRC_M2L3N1N0M2L5J1S4Q3R7Q3O5W3V5U3</td>\n",
              "      <td>김상희(金相姬)</td>\n",
              "      <td>더불어민주당</td>\n",
              "      <td>9770527.0</td>\n",
              "    </tr>\n",
              "  </tbody>\n",
              "</table>\n",
              "</div>"
            ],
            "text/plain": [
              "                                법안 ID        이름     정당명         번호\n",
              "0  PRC_M2L3N1N0M2L5J1S4Q3R7Q3O5W3V5U3  이용우(李龍雨)  더불어민주당    9771184\n",
              "1  PRC_M2L3N1N0M2L5J1S4Q3R7Q3O5W3V5U3  강훈식(姜勳植)  더불어민주당  9771007.0\n",
              "2  PRC_M2L3N1N0M2L5J1S4Q3R7Q3O5W3V5U3  김상희(金相姬)  더불어민주당  9770527.0"
            ]
          },
          "execution_count": 624,
          "metadata": {},
          "output_type": "execute_result"
        }
      ],
      "source": [
        "# primary key인 이름(한자) 생성\n",
        "relation['이름'] = relation['이름'] + '(' + relation['한자명'] + ')'\n",
        "relation.drop(columns = ['한자명'], inplace = True)\n",
        "relation.drop_duplicates(inplace = True) # 중복 데이터를 제거\n",
        "relation.head(3)"
      ]
    },
    {
      "cell_type": "code",
      "execution_count": 625,
      "metadata": {
        "colab": {
          "base_uri": "https://localhost:8080/"
        },
        "id": "DHx_kqqOwzh4",
        "outputId": "bbef9787-3e17-44fb-8281-c927217c5f15"
      },
      "outputs": [
        {
          "name": "stdout",
          "output_type": "stream",
          "text": [
            "법안의 의원 명수: 323. 실제 의원 명수: 298. 법안에 있는 의원이 아닌 사람 수: 26\n"
          ]
        }
      ],
      "source": [
        "# relation에는 지금은 없는 의원과 이름이 잘못된 의원이 존재\n",
        "name_arr1 = sorted(relation['이름'].unique())\n",
        "name_arr2 = sorted(list(member['이름'].copy()))\n",
        "name_arr3 = []\n",
        "for i in name_arr1:\n",
        "  if i not in name_arr2:\n",
        "    name_arr3.append(i)\n",
        "print(f'법안의 의원 명수: {len(name_arr1)}. 실제 의원 명수: {len(name_arr2)}. 법안에 있는 의원이 아닌 사람 수: {len(name_arr3)}')"
      ]
    },
    {
      "cell_type": "code",
      "execution_count": 626,
      "metadata": {
        "colab": {
          "base_uri": "https://localhost:8080/"
        },
        "id": "u5IClAJ_w4F-",
        "outputId": "d8cf567e-408b-4232-fac4-7bcedc5057ea"
      },
      "outputs": [
        {
          "name": "stdout",
          "output_type": "stream",
          "text": [
            "{'고민정(IOUAiO)': '고민정(高旼廷)', '고용진(高榕진)': '고용진(高榕禛)', '김종민(金鍾民)': '김종민(金鐘民)', '박정하(朴正何)': '박정하(朴正河)', '심상정(沈相정)': '심상정(沈相奵)', '이종성(李鐘成)': '이종성(李鍾成)', '지성호(地成浩)': '지성호(池成浩)'}\n"
          ]
        }
      ],
      "source": [
        "# 이름 고쳐줄 의원들 딕셔너리\n",
        "mem_dict = {}\n",
        "for i in name_arr2:\n",
        "  for j in name_arr3:\n",
        "    if i[0:3] == j[0:3]:\n",
        "      mem_dict[j] = i\n",
        "print(mem_dict, sep = ' ')"
      ]
    },
    {
      "cell_type": "code",
      "execution_count": 627,
      "metadata": {
        "colab": {
          "base_uri": "https://localhost:8080/"
        },
        "id": "0nmwc2iLw6Vt",
        "outputId": "fdc92d34-00a8-4e8b-a8c6-570b6fd9c340"
      },
      "outputs": [
        {
          "name": "stdout",
          "output_type": "stream",
          "text": [
            "['곽상도(郭尙道)', '김선교(金善敎)', '김은혜(金恩慧)', '김진애(金鎭愛)', '김태흠(金泰欽)', '박완수(朴完洙)', '송영길(宋永吉)', '오영훈(吳怜勳)', '윤희숙(尹喜淑)', '이광재(李光宰)', '이규민(李圭閔)', '이낙연(李洛淵)', '이상직(李相稷)', '이영(李永)', '정정순(鄭正淳)', '정찬민(鄭燦敏)', '조태용(趙太庸)', '최강욱(崔康旭)', '홍준표(洪準杓)']\n"
          ]
        }
      ],
      "source": [
        "ban_list = [] # 지금은 없어서 제거해줄 의원들 리스트\n",
        "for i in name_arr3:\n",
        "  if i not in mem_dict:\n",
        "    ban_list.append(i)\n",
        "print(ban_list, sep = ' ')"
      ]
    },
    {
      "cell_type": "code",
      "execution_count": 628,
      "metadata": {
        "colab": {
          "base_uri": "https://localhost:8080/",
          "height": 143
        },
        "id": "jnTGnJOXxI7E",
        "outputId": "b688346e-9cb4-4c7f-8745-fc06dcc78710"
      },
      "outputs": [
        {
          "data": {
            "text/plain": [
              "오영환(吳永煥)    3095\n",
              "양정숙(梁貞淑)    2926\n",
              "김정호(金禎鎬)    2826\n",
              "김병욱(金炳旭)    2820\n",
              "이용빈(李龍彬)    2678\n",
              "            ... \n",
              "이낙연(李洛淵)     125\n",
              "박병석(朴炳錫)      89\n",
              "이재명(李在明)      87\n",
              "강성희(姜聖熙)      48\n",
              "허숙정(許淑湞)       9\n",
              "Name: 이름, Length: 316, dtype: int64"
            ]
          },
          "execution_count": 628,
          "metadata": {},
          "output_type": "execute_result"
        }
      ],
      "source": [
        "relation.reset_index(inplace = True, drop = True)\n",
        "for i in range(len(relation)): # 이름 잘못된 거 처리\n",
        "  if relation['이름'][i] in mem_dict:\n",
        "      relation['이름'][i] = mem_dict[relation['이름'][i]]\n",
        "relation['이름'].value_counts()"
      ]
    },
    {
      "cell_type": "code",
      "execution_count": 629,
      "metadata": {
        "colab": {
          "base_uri": "https://localhost:8080/",
          "height": 175
        },
        "id": "kbUSjOQhyFh8",
        "outputId": "32270509-4a32-4410-85e1-6624f88dea6f"
      },
      "outputs": [
        {
          "data": {
            "text/plain": [
              "오영환(吳永煥)    3095\n",
              "양정숙(梁貞淑)    2926\n",
              "김정호(金禎鎬)    2826\n",
              "김병욱(金炳旭)    2820\n",
              "이용빈(李龍彬)    2678\n",
              "            ... \n",
              "최재형(崔在亨)     131\n",
              "박병석(朴炳錫)      89\n",
              "이재명(李在明)      87\n",
              "강성희(姜聖熙)      48\n",
              "허숙정(許淑湞)       9\n",
              "Name: 이름, Length: 297, dtype: int64"
            ]
          },
          "execution_count": 629,
          "metadata": {},
          "output_type": "execute_result"
        }
      ],
      "source": [
        "relation.set_index('이름', inplace = True) # 인덱스로 처리하면 속도가 빠르다\n",
        "relation.drop(ban_list, axis = 0, inplace = True) # 없는 의원들 제거\n",
        "relation.reset_index(inplace = True)\n",
        "relation['이름'].value_counts()"
      ]
    },
    {
      "cell_type": "code",
      "execution_count": 630,
      "metadata": {
        "colab": {
          "base_uri": "https://localhost:8080/"
        },
        "id": "7xjdFJFiy-2k",
        "outputId": "f471720b-09a9-4b76-961d-4f4f21127f66"
      },
      "outputs": [
        {
          "name": "stdout",
          "output_type": "stream",
          "text": [
            "강기윤(姜起潤) 강대식(姜大植) 강민국(姜旻局) 강민정(姜旼姃) 구자근(具滋根) 권명호(權明浩) 권성동(權性東) 권영세(權寧世) 권은희(權垠希) 김기현(金起炫) 김남국(金南局) 김도읍(金度邑) 김미애(金美愛) 김병욱(金炳旭) 김병욱(金炳旭) 김상훈(金相勳) 김석기(金碩基) 김성원(金成願) 김승수(金承洙) 김영식(金英植) 김예지(金睿智) 김용판(金用判) 김웅(金雄) 김의겸(金宜謙) 김정재(金汀才) 김진표(金振杓) 김태호(金台鎬) 김형동(金亨東) 김홍걸(金弘傑) 김희곤(金熙坤) 김희국(金熙國) 류성걸(柳性杰) 민형배(閔馨培) 박대수(朴大壽) 박대출(朴大出) 박덕흠(朴德欽) 박병석(朴炳錫) 박성민(朴聖敏) 박성중(朴成重) 박수영(朴洙瑩) 박완주(朴完柱) 박진(朴振) 박형수(朴亨修) 배준영(裵俊英) 배현진(裵賢鎭) 백종헌(白宗憲) 서범수(徐範洙) 서병수(徐秉洙) 서일준(徐一俊) 서정숙(徐正淑) 성일종(成一鍾) 송석준(宋錫俊) 송언석(宋彦錫) 신원식(申源湜) 안병길(安炳吉) 양금희(梁琴喜) 양이원영(梁李媛瑛) 양향자(梁香子) 엄태영(嚴泰永) 유경준(兪京濬) 유상범(劉相凡) 유의동(兪義東) 윤관석(尹官石) 윤두현(尹斗鉉) 윤미향(尹美香) 윤상현(尹相現) 윤영석(尹永碩) 윤재옥(尹在玉) 윤주경(尹柱卿) 윤창현(尹暢賢) 윤한홍(尹漢洪) 이달곤(李達坤) 이만희(李晩熙) 이명수(李明洙) 이성만(李成萬) 이양수(李亮壽) 이용(李鏞) 이용호(李容鎬) 이종배(李鍾培) 이종성(李鍾成) 이주환(李周桓) 이채익(李埰益) 이철규(李喆圭) 이태규(李泰珪) 이헌승(李憲昇) 임병헌(林炳憲) 임이자(林利子) 장제원(張濟元) 전봉민(田奉珉) 전주혜(全珠惠) 정경희(丁慶姬) 정동만(鄭東萬) 정운천(鄭雲天) 정점식(鄭点植) 정진석(鄭鎭碩) 정희용(鄭熙溶) 조경태(趙慶泰) 조명희(曺明姬) 조수진(趙修眞) 조해진(曺海珍) 주호영(朱豪英) 지성호(池成浩) 최승재(崔承宰) 최연숙(崔姸淑) 최춘식(崔春植) 최형두(崔炯斗) 추경호(秋慶鎬) 태영호(太永浩) 하영제(河榮帝) 하태경(河泰慶) 한기호(韓起鎬) 한무경(韓茂景) 허은아(許垠娥) 홍문표(洪文杓) 홍석준(洪碩晙) 황보승희(皇甫承希) "
          ]
        }
      ],
      "source": [
        "relation.set_index('이름', inplace = True)\n",
        "for i in member['이름']:\n",
        "    if len(relation.loc[i]['정당명'].unique()) != 1:\n",
        "        print(i, end = ' ')"
      ]
    },
    {
      "cell_type": "code",
      "execution_count": 631,
      "metadata": {
        "colab": {
          "base_uri": "https://localhost:8080/",
          "height": 112
        },
        "id": "RU_rRi0F1-cG",
        "outputId": "a578a2ad-6692-4012-cda3-52e3cb947df4"
      },
      "outputs": [
        {
          "data": {
            "text/html": [
              "<div>\n",
              "<style scoped>\n",
              "    .dataframe tbody tr th:only-of-type {\n",
              "        vertical-align: middle;\n",
              "    }\n",
              "\n",
              "    .dataframe tbody tr th {\n",
              "        vertical-align: top;\n",
              "    }\n",
              "\n",
              "    .dataframe thead th {\n",
              "        text-align: right;\n",
              "    }\n",
              "</style>\n",
              "<table border=\"1\" class=\"dataframe\">\n",
              "  <thead>\n",
              "    <tr style=\"text-align: right;\">\n",
              "      <th></th>\n",
              "      <th>이름</th>\n",
              "      <th>나이</th>\n",
              "      <th>정당명</th>\n",
              "      <th>선거구</th>\n",
              "      <th>당선</th>\n",
              "      <th>소속 위원회 목록</th>\n",
              "      <th>성별</th>\n",
              "      <th>학력</th>\n",
              "      <th>위원회</th>\n",
              "    </tr>\n",
              "  </thead>\n",
              "  <tbody>\n",
              "    <tr>\n",
              "      <th>34</th>\n",
              "      <td>김병욱(金炳旭)</td>\n",
              "      <td>58</td>\n",
              "      <td>더불어민주당</td>\n",
              "      <td>경기 성남시분당구을</td>\n",
              "      <td>2</td>\n",
              "      <td>국토교통위원회, 예산결산특별위원회</td>\n",
              "      <td>남</td>\n",
              "      <td>석사</td>\n",
              "      <td>1</td>\n",
              "    </tr>\n",
              "    <tr>\n",
              "      <th>35</th>\n",
              "      <td>김병욱(金炳旭)</td>\n",
              "      <td>46</td>\n",
              "      <td>국민의힘</td>\n",
              "      <td>경북 포항시남구울릉군</td>\n",
              "      <td>1</td>\n",
              "      <td>과학기술정보방송통신위원회</td>\n",
              "      <td>남</td>\n",
              "      <td>석사</td>\n",
              "      <td>1</td>\n",
              "    </tr>\n",
              "  </tbody>\n",
              "</table>\n",
              "</div>"
            ],
            "text/plain": [
              "          이름  나이     정당명          선거구  당선           소속 위원회 목록 성별  학력  위원회\n",
              "34  김병욱(金炳旭)  58  더불어민주당   경기 성남시분당구을   2  국토교통위원회, 예산결산특별위원회  남  석사    1\n",
              "35  김병욱(金炳旭)  46    국민의힘  경북 포항시남구울릉군   1       과학기술정보방송통신위원회  남  석사    1"
            ]
          },
          "execution_count": 631,
          "metadata": {},
          "output_type": "execute_result"
        }
      ],
      "source": [
        "member[member['이름'].duplicated(keep = False)]"
      ]
    },
    {
      "cell_type": "code",
      "execution_count": 632,
      "metadata": {
        "colab": {
          "base_uri": "https://localhost:8080/",
          "height": 112
        },
        "id": "lR0heI8419ui",
        "outputId": "0c44b9d9-0760-4771-bdd1-d94ab57cc1a8"
      },
      "outputs": [
        {
          "data": {
            "text/html": [
              "<div>\n",
              "<style scoped>\n",
              "    .dataframe tbody tr th:only-of-type {\n",
              "        vertical-align: middle;\n",
              "    }\n",
              "\n",
              "    .dataframe tbody tr th {\n",
              "        vertical-align: top;\n",
              "    }\n",
              "\n",
              "    .dataframe thead th {\n",
              "        text-align: right;\n",
              "    }\n",
              "</style>\n",
              "<table border=\"1\" class=\"dataframe\">\n",
              "  <thead>\n",
              "    <tr style=\"text-align: right;\">\n",
              "      <th></th>\n",
              "      <th>이름</th>\n",
              "      <th>나이</th>\n",
              "      <th>정당명</th>\n",
              "      <th>선거구</th>\n",
              "      <th>당선</th>\n",
              "      <th>소속 위원회 목록</th>\n",
              "      <th>성별</th>\n",
              "      <th>학력</th>\n",
              "      <th>위원회</th>\n",
              "    </tr>\n",
              "  </thead>\n",
              "  <tbody>\n",
              "    <tr>\n",
              "      <th>34</th>\n",
              "      <td>김병욱A(金炳旭)</td>\n",
              "      <td>58</td>\n",
              "      <td>더불어민주당</td>\n",
              "      <td>경기 성남시분당구을</td>\n",
              "      <td>2</td>\n",
              "      <td>국토교통위원회, 예산결산특별위원회</td>\n",
              "      <td>남</td>\n",
              "      <td>석사</td>\n",
              "      <td>1</td>\n",
              "    </tr>\n",
              "    <tr>\n",
              "      <th>35</th>\n",
              "      <td>김병욱B(金炳旭)</td>\n",
              "      <td>46</td>\n",
              "      <td>국민의힘</td>\n",
              "      <td>경북 포항시남구울릉군</td>\n",
              "      <td>1</td>\n",
              "      <td>과학기술정보방송통신위원회</td>\n",
              "      <td>남</td>\n",
              "      <td>석사</td>\n",
              "      <td>1</td>\n",
              "    </tr>\n",
              "  </tbody>\n",
              "</table>\n",
              "</div>"
            ],
            "text/plain": [
              "           이름  나이     정당명          선거구  당선           소속 위원회 목록 성별  학력  위원회\n",
              "34  김병욱A(金炳旭)  58  더불어민주당   경기 성남시분당구을   2  국토교통위원회, 예산결산특별위원회  남  석사    1\n",
              "35  김병욱B(金炳旭)  46    국민의힘  경북 포항시남구울릉군   1       과학기술정보방송통신위원회  남  석사    1"
            ]
          },
          "execution_count": 632,
          "metadata": {},
          "output_type": "execute_result"
        }
      ],
      "source": [
        "idx_temp = member[member['이름'].duplicated(keep = False)].index\n",
        "name_temp1 = member.loc[idx_temp[0], '이름']\n",
        "member.loc[idx_temp[0], '이름'] = name_temp1[0:3] + 'A' + name_temp1[3:]\n",
        "name_temp1 = member.loc[idx_temp[1], '이름']\n",
        "member.loc[idx_temp[1], '이름'] = name_temp1[0:3] + 'B' + name_temp1[3:]\n",
        "member.loc[idx_temp]"
      ]
    },
    {
      "cell_type": "code",
      "execution_count": 633,
      "metadata": {
        "colab": {
          "base_uri": "https://localhost:8080/",
          "height": 53
        },
        "id": "fQBuS9K63GUs",
        "outputId": "93b109d4-425b-4de6-fd05-5fae210d0da0"
      },
      "outputs": [
        {
          "data": {
            "text/html": [
              "<div>\n",
              "<style scoped>\n",
              "    .dataframe tbody tr th:only-of-type {\n",
              "        vertical-align: middle;\n",
              "    }\n",
              "\n",
              "    .dataframe tbody tr th {\n",
              "        vertical-align: top;\n",
              "    }\n",
              "\n",
              "    .dataframe thead th {\n",
              "        text-align: right;\n",
              "    }\n",
              "</style>\n",
              "<table border=\"1\" class=\"dataframe\">\n",
              "  <thead>\n",
              "    <tr style=\"text-align: right;\">\n",
              "      <th></th>\n",
              "      <th>이름</th>\n",
              "      <th>법안 ID</th>\n",
              "      <th>정당명</th>\n",
              "      <th>번호</th>\n",
              "    </tr>\n",
              "  </thead>\n",
              "  <tbody>\n",
              "  </tbody>\n",
              "</table>\n",
              "</div>"
            ],
            "text/plain": [
              "Empty DataFrame\n",
              "Columns: [이름, 법안 ID, 정당명, 번호]\n",
              "Index: []"
            ]
          },
          "execution_count": 633,
          "metadata": {},
          "output_type": "execute_result"
        }
      ],
      "source": [
        "relation.reset_index(inplace = True)\n",
        "relation.loc[(relation['이름'] == '김병욱(金炳旭)') & (relation['정당명'] == '더불어민주당'), '이름'] = '김병욱A(金炳旭)'\n",
        "relation.loc[(relation['이름'] == '김병욱(金炳旭)') & (relation['정당명'] == '무소속'), '정당명'] = '국민의힘'\n",
        "relation.loc[(relation['이름'] == '김병욱(金炳旭)') & (relation['정당명'] == '미래통합당'), '정당명'] = '국민의힘'\n",
        "relation.loc[(relation['이름'] == '김병욱(金炳旭)') & (relation['정당명'] == '국민의힘'), '이름'] = '김병욱B(金炳旭)'\n",
        "relation.loc[relation['이름'] == '김병욱(金炳旭)'].head(3)"
      ]
    },
    {
      "cell_type": "code",
      "execution_count": 634,
      "metadata": {
        "colab": {
          "base_uri": "https://localhost:8080/",
          "height": 175
        },
        "id": "M-_Ym7rtLMXQ",
        "outputId": "abfc32b9-d33a-4ab8-f26a-09f7fe0fd4c0"
      },
      "outputs": [
        {
          "data": {
            "text/html": [
              "<div>\n",
              "<style scoped>\n",
              "    .dataframe tbody tr th:only-of-type {\n",
              "        vertical-align: middle;\n",
              "    }\n",
              "\n",
              "    .dataframe tbody tr th {\n",
              "        vertical-align: top;\n",
              "    }\n",
              "\n",
              "    .dataframe thead th {\n",
              "        text-align: right;\n",
              "    }\n",
              "</style>\n",
              "<table border=\"1\" class=\"dataframe\">\n",
              "  <thead>\n",
              "    <tr style=\"text-align: right;\">\n",
              "      <th></th>\n",
              "      <th>법안 ID</th>\n",
              "      <th>정당명</th>\n",
              "      <th>번호</th>\n",
              "    </tr>\n",
              "    <tr>\n",
              "      <th>이름</th>\n",
              "      <th></th>\n",
              "      <th></th>\n",
              "      <th></th>\n",
              "    </tr>\n",
              "  </thead>\n",
              "  <tbody>\n",
              "    <tr>\n",
              "      <th>이용우(李龍雨)</th>\n",
              "      <td>PRC_M2L3N1N0M2L5J1S4Q3R7Q3O5W3V5U3</td>\n",
              "      <td>더불어민주당</td>\n",
              "      <td>9771184</td>\n",
              "    </tr>\n",
              "    <tr>\n",
              "      <th>강훈식(姜勳植)</th>\n",
              "      <td>PRC_M2L3N1N0M2L5J1S4Q3R7Q3O5W3V5U3</td>\n",
              "      <td>더불어민주당</td>\n",
              "      <td>9771007.0</td>\n",
              "    </tr>\n",
              "    <tr>\n",
              "      <th>김상희(金相姬)</th>\n",
              "      <td>PRC_M2L3N1N0M2L5J1S4Q3R7Q3O5W3V5U3</td>\n",
              "      <td>더불어민주당</td>\n",
              "      <td>9770527.0</td>\n",
              "    </tr>\n",
              "  </tbody>\n",
              "</table>\n",
              "</div>"
            ],
            "text/plain": [
              "                                       법안 ID     정당명         번호\n",
              "이름                                                             \n",
              "이용우(李龍雨)  PRC_M2L3N1N0M2L5J1S4Q3R7Q3O5W3V5U3  더불어민주당    9771184\n",
              "강훈식(姜勳植)  PRC_M2L3N1N0M2L5J1S4Q3R7Q3O5W3V5U3  더불어민주당  9771007.0\n",
              "김상희(金相姬)  PRC_M2L3N1N0M2L5J1S4Q3R7Q3O5W3V5U3  더불어민주당  9770527.0"
            ]
          },
          "execution_count": 634,
          "metadata": {},
          "output_type": "execute_result"
        }
      ],
      "source": [
        "relation.set_index('이름', inplace = True)\n",
        "for i in range(len(member)):\n",
        "    relation.loc[member.loc[i, '이름'], '정당명'] = member.loc[i, '정당명']\n",
        "relation.head(3)"
      ]
    },
    {
      "cell_type": "code",
      "execution_count": 635,
      "metadata": {
        "id": "D9mgRj7X0y_N"
      },
      "outputs": [],
      "source": [
        "for i in member['이름']:\n",
        "    if len(relation.loc[i]['정당명'].unique()) != 1:\n",
        "        print(i, end = ' ')"
      ]
    },
    {
      "cell_type": "code",
      "execution_count": 636,
      "metadata": {
        "colab": {
          "base_uri": "https://localhost:8080/",
          "height": 143
        },
        "id": "gAWCm5wcUgnw",
        "outputId": "82b0d2f1-fac6-4a22-db69-81b24cae771c"
      },
      "outputs": [
        {
          "data": {
            "text/html": [
              "<div>\n",
              "<style scoped>\n",
              "    .dataframe tbody tr th:only-of-type {\n",
              "        vertical-align: middle;\n",
              "    }\n",
              "\n",
              "    .dataframe tbody tr th {\n",
              "        vertical-align: top;\n",
              "    }\n",
              "\n",
              "    .dataframe thead th {\n",
              "        text-align: right;\n",
              "    }\n",
              "</style>\n",
              "<table border=\"1\" class=\"dataframe\">\n",
              "  <thead>\n",
              "    <tr style=\"text-align: right;\">\n",
              "      <th></th>\n",
              "      <th>제목</th>\n",
              "      <th>담당</th>\n",
              "      <th>날짜</th>\n",
              "      <th>임시</th>\n",
              "      <th>임시2</th>\n",
              "      <th>임시3</th>\n",
              "      <th>상태</th>\n",
              "      <th>계류</th>\n",
              "      <th>법안 ID</th>\n",
              "    </tr>\n",
              "  </thead>\n",
              "  <tbody>\n",
              "    <tr>\n",
              "      <th>2125205</th>\n",
              "      <td>자본시장과 금융투자업에 관한 법률 일부개정법률안(이용우의원 등 11인)</td>\n",
              "      <td>의원</td>\n",
              "      <td>2023-10-30</td>\n",
              "      <td>NaN</td>\n",
              "      <td>NaN</td>\n",
              "      <td>NaN</td>\n",
              "      <td>접수</td>\n",
              "      <td>계</td>\n",
              "      <td>PRC_M2L3N1N0M2L5J1S4Q3R7Q3O5W3V5U3</td>\n",
              "    </tr>\n",
              "    <tr>\n",
              "      <th>2125204</th>\n",
              "      <td>공유재산 및 물품 관리법 일부개정법률안(황희의원 등 12인)</td>\n",
              "      <td>의원</td>\n",
              "      <td>2023-10-30</td>\n",
              "      <td>NaN</td>\n",
              "      <td>NaN</td>\n",
              "      <td>NaN</td>\n",
              "      <td>접수</td>\n",
              "      <td>계</td>\n",
              "      <td>PRC_O2T3B1B0Z2Z4F1E3C3Z9Y4H8G7F4M3</td>\n",
              "    </tr>\n",
              "    <tr>\n",
              "      <th>2125203</th>\n",
              "      <td>학교용지 확보 등에 관한 특례법 일부개정법률안(황희의원 등 12인)</td>\n",
              "      <td>의원</td>\n",
              "      <td>2023-10-30</td>\n",
              "      <td>NaN</td>\n",
              "      <td>NaN</td>\n",
              "      <td>NaN</td>\n",
              "      <td>접수</td>\n",
              "      <td>계</td>\n",
              "      <td>PRC_Z2X3W1X0W2R4Q1Y3X4W1V3D3B6I0G7</td>\n",
              "    </tr>\n",
              "  </tbody>\n",
              "</table>\n",
              "</div>"
            ],
            "text/plain": [
              "                                                제목  담당          날짜   임시  임시2  \\\n",
              "2125205    자본시장과 금융투자업에 관한 법률 일부개정법률안(이용우의원 등 11인)  의원  2023-10-30  NaN  NaN   \n",
              "2125204          공유재산 및 물품 관리법 일부개정법률안(황희의원 등 12인)  의원  2023-10-30  NaN  NaN   \n",
              "2125203      학교용지 확보 등에 관한 특례법 일부개정법률안(황희의원 등 12인)  의원  2023-10-30  NaN  NaN   \n",
              "\n",
              "         임시3  상태 계류                               법안 ID  \n",
              "2125205  NaN  접수  계  PRC_M2L3N1N0M2L5J1S4Q3R7Q3O5W3V5U3  \n",
              "2125204  NaN  접수  계  PRC_O2T3B1B0Z2Z4F1E3C3Z9Y4H8G7F4M3  \n",
              "2125203  NaN  접수  계  PRC_Z2X3W1X0W2R4Q1Y3X4W1V3D3B6I0G7  "
            ]
          },
          "execution_count": 636,
          "metadata": {},
          "output_type": "execute_result"
        }
      ],
      "source": [
        "# 아직은 상태 feature만을 가져오기 위한 state\n",
        "custom_column_names = ['제목','담당','날짜','임시','임시2','임시3','상태','계류','법안 ID']\n",
        "state = pd.read_csv('./raw_data/scraped_data.csv', names = custom_column_names, skiprows = 1)\n",
        "state.dropna(subset = ['상태'], inplace = True) # 상태가 없으면 쓸모가 없지요\n",
        "state[state['상태'] == '본희의의결'] = '본회의의결'\n",
        "state.head(3)"
      ]
    },
    {
      "cell_type": "code",
      "execution_count": 637,
      "metadata": {},
      "outputs": [
        {
          "data": {
            "text/plain": [
              "가결 외    17708\n",
              "가결       7665\n",
              "Name: 상태, dtype: int64"
            ]
          },
          "execution_count": 637,
          "metadata": {},
          "output_type": "execute_result"
        }
      ],
      "source": [
        "good = ['공포', '본회의의결', '수정안반영폐기', '대안반영폐기']\n",
        "bad = ['폐기', '정부이송', '본회의불부의', '체계자구심사', '소관위심사', '소관위접수', '철회', '본회의부의안건', '접수']\n",
        "\n",
        "def change_state(x) :\n",
        "  if str(x) in good:\n",
        "    return '가결'\n",
        "  else:\n",
        "    return '가결 외'\n",
        "  \n",
        "state['상태'] = state['상태'].apply(change_state)\n",
        "state['상태'].value_counts()"
      ]
    },
    {
      "cell_type": "code",
      "execution_count": 638,
      "metadata": {
        "colab": {
          "base_uri": "https://localhost:8080/",
          "height": 143
        },
        "id": "QjAIWBCvcYeY",
        "outputId": "8a16f9d8-4924-48bf-c0e2-4d06a55d61f8"
      },
      "outputs": [
        {
          "data": {
            "text/html": [
              "<div>\n",
              "<style scoped>\n",
              "    .dataframe tbody tr th:only-of-type {\n",
              "        vertical-align: middle;\n",
              "    }\n",
              "\n",
              "    .dataframe tbody tr th {\n",
              "        vertical-align: top;\n",
              "    }\n",
              "\n",
              "    .dataframe thead th {\n",
              "        text-align: right;\n",
              "    }\n",
              "</style>\n",
              "<table border=\"1\" class=\"dataframe\">\n",
              "  <thead>\n",
              "    <tr style=\"text-align: right;\">\n",
              "      <th></th>\n",
              "      <th>법안 ID</th>\n",
              "      <th>상태</th>\n",
              "      <th>제목</th>\n",
              "    </tr>\n",
              "  </thead>\n",
              "  <tbody>\n",
              "    <tr>\n",
              "      <th>0</th>\n",
              "      <td>PRC_M2L3N1N0M2L5J1S4Q3R7Q3O5W3V5U3</td>\n",
              "      <td>가결 외</td>\n",
              "      <td>자본시장과 금융투자업에 관한 법률 일부개정법률안(이용우의원 등 11인)</td>\n",
              "    </tr>\n",
              "    <tr>\n",
              "      <th>1</th>\n",
              "      <td>PRC_O2T3B1B0Z2Z4F1E3C3Z9Y4H8G7F4M3</td>\n",
              "      <td>가결 외</td>\n",
              "      <td>공유재산 및 물품 관리법 일부개정법률안(황희의원 등 12인)</td>\n",
              "    </tr>\n",
              "    <tr>\n",
              "      <th>2</th>\n",
              "      <td>PRC_Z2X3W1X0W2R4Q1Y3X4W1V3D3B6I0G7</td>\n",
              "      <td>가결 외</td>\n",
              "      <td>학교용지 확보 등에 관한 특례법 일부개정법률안(황희의원 등 12인)</td>\n",
              "    </tr>\n",
              "  </tbody>\n",
              "</table>\n",
              "</div>"
            ],
            "text/plain": [
              "                                법안 ID    상태  \\\n",
              "0  PRC_M2L3N1N0M2L5J1S4Q3R7Q3O5W3V5U3  가결 외   \n",
              "1  PRC_O2T3B1B0Z2Z4F1E3C3Z9Y4H8G7F4M3  가결 외   \n",
              "2  PRC_Z2X3W1X0W2R4Q1Y3X4W1V3D3B6I0G7  가결 외   \n",
              "\n",
              "                                          제목  \n",
              "0    자본시장과 금융투자업에 관한 법률 일부개정법률안(이용우의원 등 11인)  \n",
              "1          공유재산 및 물품 관리법 일부개정법률안(황희의원 등 12인)  \n",
              "2      학교용지 확보 등에 관한 특례법 일부개정법률안(황희의원 등 12인)  "
            ]
          },
          "execution_count": 638,
          "metadata": {},
          "output_type": "execute_result"
        }
      ],
      "source": [
        "# join 해주기 위해 전처리\n",
        "state_temp = state.loc[:, ['법안 ID','상태','제목']]\n",
        "state_temp.reset_index(inplace = True)\n",
        "state_temp.drop(columns = ['index'], inplace = True)\n",
        "state_temp.head(3)"
      ]
    },
    {
      "cell_type": "code",
      "execution_count": 639,
      "metadata": {
        "colab": {
          "base_uri": "https://localhost:8080/",
          "height": 143
        },
        "id": "I43ZHk88do5g",
        "outputId": "ccb4c594-2857-42c2-b159-232e49029d77"
      },
      "outputs": [
        {
          "data": {
            "text/html": [
              "<div>\n",
              "<style scoped>\n",
              "    .dataframe tbody tr th:only-of-type {\n",
              "        vertical-align: middle;\n",
              "    }\n",
              "\n",
              "    .dataframe tbody tr th {\n",
              "        vertical-align: top;\n",
              "    }\n",
              "\n",
              "    .dataframe thead th {\n",
              "        text-align: right;\n",
              "    }\n",
              "</style>\n",
              "<table border=\"1\" class=\"dataframe\">\n",
              "  <thead>\n",
              "    <tr style=\"text-align: right;\">\n",
              "      <th></th>\n",
              "      <th>이름</th>\n",
              "      <th>법안 ID</th>\n",
              "      <th>정당명</th>\n",
              "      <th>번호</th>\n",
              "      <th>상태</th>\n",
              "      <th>제목</th>\n",
              "    </tr>\n",
              "  </thead>\n",
              "  <tbody>\n",
              "    <tr>\n",
              "      <th>0</th>\n",
              "      <td>이용우(李龍雨)</td>\n",
              "      <td>PRC_M2L3N1N0M2L5J1S4Q3R7Q3O5W3V5U3</td>\n",
              "      <td>더불어민주당</td>\n",
              "      <td>9771184</td>\n",
              "      <td>가결 외</td>\n",
              "      <td>자본시장과 금융투자업에 관한 법률 일부개정법률안(이용우의원 등 11인)</td>\n",
              "    </tr>\n",
              "    <tr>\n",
              "      <th>1</th>\n",
              "      <td>강훈식(姜勳植)</td>\n",
              "      <td>PRC_M2L3N1N0M2L5J1S4Q3R7Q3O5W3V5U3</td>\n",
              "      <td>더불어민주당</td>\n",
              "      <td>9771007.0</td>\n",
              "      <td>가결 외</td>\n",
              "      <td>자본시장과 금융투자업에 관한 법률 일부개정법률안(이용우의원 등 11인)</td>\n",
              "    </tr>\n",
              "    <tr>\n",
              "      <th>2</th>\n",
              "      <td>김상희(金相姬)</td>\n",
              "      <td>PRC_M2L3N1N0M2L5J1S4Q3R7Q3O5W3V5U3</td>\n",
              "      <td>더불어민주당</td>\n",
              "      <td>9770527.0</td>\n",
              "      <td>가결 외</td>\n",
              "      <td>자본시장과 금융투자업에 관한 법률 일부개정법률안(이용우의원 등 11인)</td>\n",
              "    </tr>\n",
              "  </tbody>\n",
              "</table>\n",
              "</div>"
            ],
            "text/plain": [
              "         이름                               법안 ID     정당명         번호    상태  \\\n",
              "0  이용우(李龍雨)  PRC_M2L3N1N0M2L5J1S4Q3R7Q3O5W3V5U3  더불어민주당    9771184  가결 외   \n",
              "1  강훈식(姜勳植)  PRC_M2L3N1N0M2L5J1S4Q3R7Q3O5W3V5U3  더불어민주당  9771007.0  가결 외   \n",
              "2  김상희(金相姬)  PRC_M2L3N1N0M2L5J1S4Q3R7Q3O5W3V5U3  더불어민주당  9770527.0  가결 외   \n",
              "\n",
              "                                          제목  \n",
              "0    자본시장과 금융투자업에 관한 법률 일부개정법률안(이용우의원 등 11인)  \n",
              "1    자본시장과 금융투자업에 관한 법률 일부개정법률안(이용우의원 등 11인)  \n",
              "2    자본시장과 금융투자업에 관한 법률 일부개정법률안(이용우의원 등 11인)  "
            ]
          },
          "execution_count": 639,
          "metadata": {},
          "output_type": "execute_result"
        }
      ],
      "source": [
        "# inner join\n",
        "relation.reset_index(inplace = True)\n",
        "relation_state = pd.merge(relation, state_temp, how = 'inner', on = '법안 ID')\n",
        "relation_state.drop_duplicates(inplace = True) # 중복 데이터를 제거\n",
        "relation_state.reset_index(drop = True, inplace = True)\n",
        "relation_state.head(3)"
      ]
    },
    {
      "cell_type": "code",
      "execution_count": 640,
      "metadata": {},
      "outputs": [
        {
          "data": {
            "text/html": [
              "<div>\n",
              "<style scoped>\n",
              "    .dataframe tbody tr th:only-of-type {\n",
              "        vertical-align: middle;\n",
              "    }\n",
              "\n",
              "    .dataframe tbody tr th {\n",
              "        vertical-align: top;\n",
              "    }\n",
              "\n",
              "    .dataframe thead th {\n",
              "        text-align: right;\n",
              "    }\n",
              "</style>\n",
              "<table border=\"1\" class=\"dataframe\">\n",
              "  <thead>\n",
              "    <tr style=\"text-align: right;\">\n",
              "      <th></th>\n",
              "      <th>이름</th>\n",
              "      <th>가결</th>\n",
              "      <th>가결 외</th>\n",
              "    </tr>\n",
              "  </thead>\n",
              "  <tbody>\n",
              "    <tr>\n",
              "      <th>0</th>\n",
              "      <td>강기윤(姜起潤)</td>\n",
              "      <td>343</td>\n",
              "      <td>893</td>\n",
              "    </tr>\n",
              "    <tr>\n",
              "      <th>1</th>\n",
              "      <td>강대식(姜大植)</td>\n",
              "      <td>306</td>\n",
              "      <td>727</td>\n",
              "    </tr>\n",
              "    <tr>\n",
              "      <th>2</th>\n",
              "      <td>강득구(姜得求)</td>\n",
              "      <td>387</td>\n",
              "      <td>1193</td>\n",
              "    </tr>\n",
              "  </tbody>\n",
              "</table>\n",
              "</div>"
            ],
            "text/plain": [
              "         이름   가결  가결 외\n",
              "0  강기윤(姜起潤)  343   893\n",
              "1  강대식(姜大植)  306   727\n",
              "2  강득구(姜得求)  387  1193"
            ]
          },
          "execution_count": 640,
          "metadata": {},
          "output_type": "execute_result"
        }
      ],
      "source": [
        "tm = pd.DataFrame(relation_state.groupby(['이름','상태'])['법안 ID'].count())\n",
        "tm.reset_index(inplace = True)\n",
        "tm.set_index(['이름'], inplace = True)\n",
        "mem_law = pd.DataFrame(columns = ['이름','가결','가결 외'])\n",
        "mem_law['이름'] = member['이름'].copy()\n",
        "mem_law.set_index(['이름'], inplace = True)\n",
        "for i in member['이름']:\n",
        "    mem_law.loc[i][tm.loc[i]['상태'][0]] = tm.loc[i]['법안 ID'][0]\n",
        "    mem_law.loc[i][tm.loc[i]['상태'][1]] = tm.loc[i]['법안 ID'][1]\n",
        "mem_law.reset_index(inplace = True)\n",
        "mem_law.head(3)"
      ]
    },
    {
      "cell_type": "code",
      "execution_count": 641,
      "metadata": {
        "colab": {
          "base_uri": "https://localhost:8080/",
          "height": 143
        },
        "id": "Efe9eEShzuiv",
        "outputId": "b4021f7c-27d7-422e-e50c-2461f52d7537"
      },
      "outputs": [
        {
          "data": {
            "text/html": [
              "<div>\n",
              "<style scoped>\n",
              "    .dataframe tbody tr th:only-of-type {\n",
              "        vertical-align: middle;\n",
              "    }\n",
              "\n",
              "    .dataframe tbody tr th {\n",
              "        vertical-align: top;\n",
              "    }\n",
              "\n",
              "    .dataframe thead th {\n",
              "        text-align: right;\n",
              "    }\n",
              "</style>\n",
              "<table border=\"1\" class=\"dataframe\">\n",
              "  <thead>\n",
              "    <tr style=\"text-align: right;\">\n",
              "      <th></th>\n",
              "      <th>의원A</th>\n",
              "      <th>의원B</th>\n",
              "      <th>가결</th>\n",
              "      <th>가결 외</th>\n",
              "    </tr>\n",
              "  </thead>\n",
              "  <tbody>\n",
              "    <tr>\n",
              "      <th>0</th>\n",
              "      <td>0</td>\n",
              "      <td>0</td>\n",
              "      <td>0</td>\n",
              "      <td>0</td>\n",
              "    </tr>\n",
              "    <tr>\n",
              "      <th>1</th>\n",
              "      <td>0</td>\n",
              "      <td>0</td>\n",
              "      <td>0</td>\n",
              "      <td>0</td>\n",
              "    </tr>\n",
              "    <tr>\n",
              "      <th>2</th>\n",
              "      <td>0</td>\n",
              "      <td>0</td>\n",
              "      <td>0</td>\n",
              "      <td>0</td>\n",
              "    </tr>\n",
              "  </tbody>\n",
              "</table>\n",
              "</div>"
            ],
            "text/plain": [
              "   의원A  의원B  가결  가결 외\n",
              "0    0    0   0     0\n",
              "1    0    0   0     0\n",
              "2    0    0   0     0"
            ]
          },
          "execution_count": 641,
          "metadata": {},
          "output_type": "execute_result"
        }
      ],
      "source": [
        "num = len(member)\n",
        "myArr = np.zeros((num*(num-1)//2, 4), dtype = int)\n",
        "df_graph = pd.DataFrame(myArr, columns = ['의원A', '의원B', '가결', '가결 외'])\n",
        "df_graph.head(3)"
      ]
    },
    {
      "cell_type": "code",
      "execution_count": 642,
      "metadata": {
        "colab": {
          "base_uri": "https://localhost:8080/",
          "height": 334
        },
        "id": "k8hSNOGfzIqJ",
        "outputId": "73e11b29-e4c0-4ca7-c4ba-dcfd7bf0ee98"
      },
      "outputs": [
        {
          "name": "stderr",
          "output_type": "stream",
          "text": [
            "C:\\Users\\parkg\\AppData\\Local\\Temp\\ipykernel_22104\\4218622639.py:6: SettingWithCopyWarning: \n",
            "A value is trying to be set on a copy of a slice from a DataFrame\n",
            "\n",
            "See the caveats in the documentation: https://pandas.pydata.org/pandas-docs/stable/user_guide/indexing.html#returning-a-view-versus-a-copy\n",
            "  df_graph['의원A'][cnt], df_graph['의원B'][cnt] = member['이름'][i], member['이름'][j]# df_graph에 의원 이름을 인덱스로 넣어주기\n"
          ]
        },
        {
          "data": {
            "text/html": [
              "<div>\n",
              "<style scoped>\n",
              "    .dataframe tbody tr th:only-of-type {\n",
              "        vertical-align: middle;\n",
              "    }\n",
              "\n",
              "    .dataframe tbody tr th {\n",
              "        vertical-align: top;\n",
              "    }\n",
              "\n",
              "    .dataframe thead th {\n",
              "        text-align: right;\n",
              "    }\n",
              "</style>\n",
              "<table border=\"1\" class=\"dataframe\">\n",
              "  <thead>\n",
              "    <tr style=\"text-align: right;\">\n",
              "      <th></th>\n",
              "      <th></th>\n",
              "      <th>가결</th>\n",
              "      <th>가결 외</th>\n",
              "    </tr>\n",
              "    <tr>\n",
              "      <th>의원A</th>\n",
              "      <th>의원B</th>\n",
              "      <th></th>\n",
              "      <th></th>\n",
              "    </tr>\n",
              "  </thead>\n",
              "  <tbody>\n",
              "    <tr>\n",
              "      <th rowspan=\"3\" valign=\"top\">강기윤(姜起潤)</th>\n",
              "      <th>강대식(姜大植)</th>\n",
              "      <td>0</td>\n",
              "      <td>0</td>\n",
              "    </tr>\n",
              "    <tr>\n",
              "      <th>강득구(姜得求)</th>\n",
              "      <td>0</td>\n",
              "      <td>0</td>\n",
              "    </tr>\n",
              "    <tr>\n",
              "      <th>강민국(姜旻局)</th>\n",
              "      <td>0</td>\n",
              "      <td>0</td>\n",
              "    </tr>\n",
              "  </tbody>\n",
              "</table>\n",
              "</div>"
            ],
            "text/plain": [
              "                   가결  가결 외\n",
              "의원A      의원B               \n",
              "강기윤(姜起潤) 강대식(姜大植)   0     0\n",
              "         강득구(姜得求)   0     0\n",
              "         강민국(姜旻局)   0     0"
            ]
          },
          "execution_count": 642,
          "metadata": {},
          "output_type": "execute_result"
        }
      ],
      "source": [
        "# 파이썬스러운 날먹 방법이 분명 있을 것 같은데 생각이 안 난다...\n",
        "df_graph = df_graph.astype({'의원A':'object', '의원B':'object'})\n",
        "cnt = 0\n",
        "for i in range(num):\n",
        "  for j in range(i + 1, num):\n",
        "    df_graph['의원A'][cnt], df_graph['의원B'][cnt] = member['이름'][i], member['이름'][j]# df_graph에 의원 이름을 인덱스로 넣어주기\n",
        "    cnt+=1\n",
        "df_graph.set_index(['의원A', '의원B'], inplace = True) # 속도를 위해 의원 이름을 index로\n",
        "df_graph.head(3)"
      ]
    },
    {
      "cell_type": "code",
      "execution_count": 643,
      "metadata": {
        "colab": {
          "base_uri": "https://localhost:8080/"
        },
        "id": "dJSSBpyCg-qL",
        "outputId": "46849f8d-d273-4725-8631-8db41ac1f078"
      },
      "outputs": [
        {
          "name": "stdout",
          "output_type": "stream",
          "text": [
            "[0, 11, 23, 35, 47, 59, 70, 80, 91, 103, 113, 124, 135, 145, 160, 173, 183, 193, 203, 214, 224, 235, 246, 256, 282, 292, 309, 319, 331, 341, 351, 364, 375, 556, 566, 576, 586, 596, 606, 616, 628, 638, 648, 658, 668, 679, 689, 702, 713, 723, 735, 745, 755, 766, 776, 787, 798, 808, 818, 828, 838, 848, 858, 869, 880, 890, 904, 915, 926, 937, 948, 959, 970, 980, 991, 1001, 1011, 1021, 1031, 1042, 1052, 1062, 1072, 1082, 1093, 1103, 1114, 1115, 1125, 1136, 1146, 1156, 1167, 1179, 1190, 1201, 1213, 1233, 1244, 1256, 1267, 1278, 1289, 1305, 1320, 1330, 1340, 1351, 1366, 1377, 1398, 1409, 1419, 1454, 1468, 1479, 1490, 1501, 1512, 1523, 1534, 1545, 1556, 1567, 1577, 1587, 1598, 1610, 1620, 1630, 1641, 1651, 1663, 1673, 1683, 1693, 1704, 1714, 1724, 1734, 1744, 1754, 1767, 1780, 1790, 1802, 1813, 1823, 1833, 1843, 1844, 1854, 1865, 1875, 1885, 1896, 1907, 1919, 1929, 1941, 1954, 1964, 1979, 1989, 2031, 2041, 2052, 2063, 2073, 2083, 2093, 2103, 2115, 2129, 2139, 2149, 2165, 2175, 2185, 2195, 2207, 2217, 2227, 2237, 2250, 2260, 2273, 2286, 2296, 2306, 2316, 2326, 2336, 2346, 2362, 2372, 2382, 2397, 2409, 2420, 2431, 2441, 2451, 2461, 2471, 2485, 2497, 2507, 2517, 2532, 2547, 2561, 2572, 2585, 2595, 2606, 2616, 2627, 2638, 2648, 2662, 2672, 2682, 2694, 2707, 2718, 2729, 2742, 2752, 2768, 2778, 2793, 2808, 2818, 2828, 2838, 2852, 2863, 2875, 2889, 2905, 2915, 2925, 2935, 2948, 2960, 2973, 2983, 2993, 3004, 3016, 3027, 3050, 3063, 3073, 3086, 3096, 3106, 3116, 3126, 3136, 3148, 3160, 3171, 3185, 3196, 3206, 3220, 3230, 3240, 3251, 3263, 3277, 3287, 3297, 3307, 3320, 3330, 3340, 3350, 3365, 3382, 3392, 3402, 3415, 3425, 3435, 3449, 3459, 3473, 3487, 3497, 3509, 3520, 3532, 3546, 3559, 3578, 3589, 3601, 3613, 3623, 3639, 3651, 3663, 3679, 3691, 3701, 3712, 3722, 3732, 3747, 3760, 3772, 3785, 3798, 3808, 3820, 3848, 3861, 3874, 3884, 3897, 3912, 3924, 3934, 3945, 3956, 3966, 3979, 3989, 4001, 4011, 4023, 4035, 4047, 4059, 4073, 4089, 4102, 4112, 4124, 4138, 4148, 4158, 4168, 4179, 4190, 4200, 4211, 4224, 4235, 4245, 4255, 4268, 4279, 4291, 4303, 4313, 4325, 4335, 4347, 4360, 4372, 4384, 4396, 4408, 4418, 4429, 4439, 4453, 4465, 4477, 4489, 4503, 4521, 4531, 4543, 4553, 4563, 4579, 4589, 4601, 4614, 4628, 4641, 4652, 4674, 4684, 4695, 4705, 4724, 4742, 4754, 4767, 4778, 4788, 4799, 4812, 4822, 4835, 4847, 4859, 4873, 4884, 4896, 4907, 4920, 4931, 4944, 4955, 4965, 4975, 4985, 4995, 5005, 5018, 5029, 5041, 5054, 5068, 5081, 5096, 5110, 5120, 5130, 5141, 5151, 5161, 5171, 5181, 5194, 5207, 5217, 5230, 5264, 5280, 5292, 5302, 5313, 5328, 5338, 5348, 5359, 5372, 5384, 5395, 5405, 5415, 5425, 5437, 5447, 5458, 5478, 5494, 5507, 5522, 5538, 5548, 5563, 5577, 5590, 5603, 5613, 5626, 5639, 5652, 5664, 5677, 5689, 5699, 5712, 5730, 5741, 5752, 5764, 5774, 5786, 5799, 5809, 5820, 5890, 5902, 5912, 5922, 5934, 5945, 5955, 5965, 5975, 5985, 5996, 6006, 6016, 6030, 6040, 6056, 6066, 6077, 6087, 6097, 6110, 6120, 6130, 6140, 6150, 6160, 6170, 6180, 6191, 6201, 6215, 6228, 6241, 6251, 6261, 6271, 6282, 6292, 6304, 6314, 6335, 6347, 6358, 6369, 6379, 6389, 6402, 6412, 6422, 6432, 6443, 6455, 6467, 6477, 6489, 6499, 6509, 6524, 6534, 6544, 6554, 6566, 6576, 6586, 6597, 6611, 6621, 6633, 6643, 6654, 6835, 6848, 6858, 6868, 6878, 6912, 6958, 7005, 7016, 7027, 7037, 7048, 7060, 7073, 7084, 7096, 7108, 7118, 7128, 7138, 7148, 7158, 7173, 7185, 7199, 7266, 7276, 7382, 7393, 7404, 7415, 7426, 7440, 7454, 7468, 7483, 7498, 7513, 7528, 7543, 7558, 7568, 7578, 7590, 7600, 7614, 7625, 7638, 7648, 7658, 7668, 7680, 7690, 7701, 7711, 7721, 7732, 7742, 7752, 7764, 7780, 7792, 7959, 7970, 7987, 7998, 8008, 8023, 8037, 8052, 8067, 8079, 8092, 8102, 8112, 8122, 8132, 8142, 8153, 8163, 8173, 8184, 8195, 8205, 8218, 8228, 8239, 8252, 8262, 8272, 8282, 8293, 8307, 8322, 8335, 8348, 8361, 8371, 8381, 8392, 8404, 8416, 8428, 8438, 8448, 8458, 8468, 8478, 8488, 8498, 8510, 8525, 8535, 8546, 8558, 8574, 8590, 8606, 8622, 8632, 8643, 8654, 8664, 8677, 8698, 8713, 8728, 8743, 8757, 8767, 8778, 8787, 8800, 8810, 8820, 8830, 8842, 8854, 8865, 8876, 8895, 8905, 8918, 8938, 8948, 8958, 8978, 8990, 9003, 9018, 9030, 9040, 9050, 9062, 9075, 9086, 9096, 9110, 9120, 9132, 9145, 9155, 9167, 9177, 9188, 9200, 9210, 9220, 9255, 9268, 9291, 9303, 9314, 9327, 9337, 9352, 9362, 9373, 9383, 9401, 9413, 9424, 9435, 9446, 9458, 9469, 9480, 9491, 9504, 9515, 9527, 9537, 9549, 9561, 9571, 9581, 9597, 9609, 9619, 9635, 9645, 9662, 9673, 9683, 9693, 9707, 9717, 9729, 9740, 9754, 9765, 9782, 9793, 9803, 9817, 9827, 9838, 9848, 9859, 9869, 9883, 9893, 9903, 9914, 9924, 9950, 9961, 9971, 9981, 9992, 10002, 10012, 10022, 10043, 10064, 10101, 10116, 10138, 10152, 10167, 10177, 10198, 10208, 10219, 10234, 10248, 10258, 10269, 10279, 10289, 10299, 10309, 10319, 10329, 10339, 10349, 10360, 10370, 10380, 10403, 10417, 10428, 10439, 10453, 10463, 10477, 10491, 10501, 10516, 10526, 10542, 10553, 10563, 10573, 10583, 10594, 10604, 10616, 10629, 10645, 10656, 10667, 10677, 10689, 10700, 10710, 10720, 10731, 10741, 10751, 10762, 10772, 10782, 10792, 10802, 10812, 10823, 10833, 10843, 10853, 10863, 10874, 10884, 10895, 10905, 10915, 10926, 10936, 10947, 10961, 10972, 10983, 10994, 11004, 11014, 11026, 11040, 11051, 11065, 11076, 11090, 11101, 11111, 11125, 11137, 11153, 11164, 11179, 11190, 11206, 11221, 11231, 11248, 11263, 11275, 11287, 11297, 11307, 11317, 11328, 11338, 11349, 11362, 11372, 11385, 11396, 11407, 11417, 11429, 11441, 11456, 11466, 11476, 11497, 11507, 11517, 11528, 11540, 11550, 11566, 11577, 11593, 11604, 11621, 11638, 11651, 11663, 11674, 11684, 11694, 11706, 11716, 11727, 11739, 11750, 11761, 11771, 11782, 11792, 11802, 11827, 11839, 11854, 11864, 11874, 11889, 11899, 11908, 12186, 12196, 12474, 12752, 12762, 12763, 12774, 12784, 12796, 12808, 12818, 12828, 12839, 12850, 12860, 12872, 12884, 12896, 12906, 12922, 12936, 12948, 12959, 12972, 12996, 13005, 13022, 13033, 13043, 13054, 13064, 13074, 13085, 13095, 13107, 13122, 13134, 13146, 13156, 13169, 13181, 13191, 13201, 13218, 13230, 13240, 13251, 13261, 13272, 13550, 13828, 14106, 14116, 14394, 14672, 14682, 14704, 14714, 14724, 14735, 14747, 14757, 14767, 14777, 14788, 14800, 14812, 14822, 14832, 14844, 14856, 14867, 14878, 14888, 14906, 14921, 14935, 14947, 14957, 14967, 14980, 14993, 15009, 15019, 15029, 15039, 15049, 15059, 15069, 15079, 15089, 15100, 15111, 15123, 15135, 15144, 15156, 15167, 15179, 15204, 15214, 15224, 15234, 15246, 15269, 15281, 15313, 15324, 15335, 15345, 15355, 15365, 15380, 15393, 15403, 15413, 15427, 15438, 15449, 15459, 15469, 15486, 15496, 15506, 15518, 15528, 15544, 15559, 15570, 15581, 15592, 15605, 15616, 15628, 15656, 15823, 15834, 15844, 15854, 15864, 15874, 15884, 15894, 15904, 15917, 15927, 15951, 15963, 15976, 15991, 16002, 16012, 16025, 16035, 16049, 16063, 16077, 16093, 16108, 16118, 16128, 16139, 16149, 16159, 16170, 16180, 16190, 16200, 16210, 16220, 16230, 16240, 16250, 16260, 16270, 16287, 16547, 16556, 16576, 16586, 16597, 16606, 16617, 16640, 16651, 16662, 16674, 16686, 16696, 16707, 16751, 16777, 16800, 16813, 16824, 16838, 16852, 16863, 16874, 16884, 16897, 16907, 16918, 16930, 16940, 16951, 16961, 16971, 16983, 16993, 17003, 17013, 17024, 17034, 17044, 17054, 17065, 17075, 17090, 17104, 17119, 17133, 17147, 17161, 17171, 17181, 17191, 17202, 17213, 17224, 17234, 17244, 17254, 17264, 17275, 17294, 17305, 17315, 17325, 17335, 17345, 17356, 17366, 17380, 17390, 17400, 17412, 17422, 17432, 17445, 17455, 17468, 17481, 17490, 17512, 17522, 17537, 17546, 17557, 17568, 17580, 17592, 17602, 17612, 17622, 17632, 17646, 17658, 17670, 17683, 17693, 17703, 17713, 17731, 17751, 17761, 17773, 17786, 17797, 17807, 17817, 17827, 17838, 17848, 17860, 17870, 17881, 17890, 17900, 17910, 17920, 17931, 17941, 17952, 17964, 17974, 17986, 17996, 18007, 18017, 18028, 18043, 18053, 18063, 18073, 18083, 18095, 18105, 18118, 18129, 18143, 18154, 18164, 18175, 18186, 18196, 18206, 18216, 18226, 18236, 18247, 18257, 18267, 18278, 18288, 18298, 18308, 18319, 18332, 18342, 18355, 18367, 18377, 18388, 18398, 18408, 18425, 18438, 18449, 18459, 18471, 18483, 18495, 18507, 18543, 18554, 18566, 18579, 18590, 18600, 18611, 18621, 18631, 18641, 18651, 18664, 18677, 18691, 18702, 18712, 18724, 18737, 18755, 18765, 18777, 18787, 18799, 18811, 18821, 18830, 18845, 18856, 18866, 18876, 18916, 18926, 18936, 18975, 18989, 18999, 19009, 19021, 19031, 19042, 19052, 19065, 19075, 19085, 19099, 19113, 19123, 19137, 19151, 19161, 19178, 19188, 19201, 19211, 19221, 19234, 19250, 19260, 19270, 19280, 19290, 19301, 19311, 19321, 19332, 19342, 19352, 19362, 19373, 19385, 19395, 19405, 19416, 19426, 19436, 19447, 19458, 19468, 19479, 19489, 19499, 19509, 19519, 19529, 19539, 19550, 19563, 19573, 19585, 19597, 19608, 19619, 19629, 19640, 19650, 19661, 19673, 19683, 19696, 19706, 19716, 19727, 19738, 19750, 19764, 19776, 19786, 19797, 19807, 19817, 19827, 19837, 19849, 19860, 19875, 19886, 19897, 19906, 19917, 19929, 19941, 19953, 19963, 19974, 19984, 19994, 20004, 20014, 20024, 20035, 20045, 20055, 20067, 20079, 20089, 20099, 20112, 20123, 20136, 20153, 20164, 20181, 20194, 20207, 20218, 20229, 20239, 20251, 20261, 20271, 20281, 20291, 20311, 20327, 20340, 20354, 20367, 20377, 20394, 20407, 20420, 20433, 20443, 20458, 20469, 20487, 20497, 20507, 20517, 20527, 20537, 20588, 20605, 20618, 20631, 20646, 20662, 20672, 20686, 20697, 20711, 20722, 20733, 20744, 20754, 20764, 20774, 20784, 20794, 20804, 20815, 20825, 20837, 20848, 20859, 20870, 20881, 20895, 20905, 20917, 20934, 20951, 20967, 20979, 20991, 21002, 21013, 21028, 21040, 21062, 21086, 21109, 21121, 21144, 21159, 21170, 21182, 21198, 21212, 21271, 21282, 21303, 21313, 21330, 21441, 21452, 21473, 21484, 21494, 21504, 21517, 21528, 21541, 21554, 21564, 21574, 21584, 21751, 21761, 21771, 21780, 21793, 21804, 21814, 21829, 21839, 21850, 21866, 21878, 21893, 21908, 21922, 21934, 21945, 21955, 21965, 21975, 21985, 21998, 22008, 22018, 22028, 22039, 22050, 22067, 22077, 22087, 22097, 22107, 22117, 22127, 22139, 22149, 22159, 22170, 22181, 22191, 22208, 22218, 22228, 22238, 22248, 22258, 22269, 22283, 22293, 22303, 22316, 22326, 22336, 22349, 22360, 22371, 22382, 22393, 22416, 22426, 22436, 22446, 22458, 22468, 22478, 22492, 22502, 22512, 22523, 22533, 22544, 22554, 22564, 22577, 22593, 22604, 22615, 22627, 22639, 22650, 22666, 22680, 22691, 22701, 22716, 22730, 22744, 22757, 22772, 22782, 22793, 22803, 22813, 22823, 22833, 22845, 22856, 22867, 22878, 22888, 22901, 22911, 22921, 22931, 22941, 22952, 22962, 22972, 22982, 22993, 23007, 23017, 23028, 23038, 23049, 23059, 23069, 23080, 23090, 23101, 23111, 23121, 23131, 23141, 23152, 23163, 23174, 23184, 23194, 23205, 23215, 23225, 23236, 23247, 23258, 23269, 23281, 23293, 23306, 23318, 23333, 23344, 23354, 23365, 23375, 23387, 23398, 23409, 23422, 23437, 23447, 23457, 23470, 23481, 23491, 23503, 23513, 23525, 23537, 23548, 23558, 23569, 23579, 23589, 23599, 23610, 23625, 23637, 23648, 23661, 23671, 23681, 23691, 23702, 23714, 23724, 23734, 23744, 23755, 23922, 23938, 23948, 23958, 23968, 23981, 23992, 24002, 24012, 24023, 24033, 24043, 24053, 24063, 24077, 24088, 24098, 24108, 24118, 24130, 24140, 24150, 24160, 24171, 24182, 24192, 24202, 24212, 24222, 24232, 24242, 24252, 24262, 24274, 24289, 24299, 24311, 24323, 24332, 24345, 24355, 24368, 24380, 24391, 24403, 24413, 24424, 24434, 24446, 24463, 24481, 24491, 24501, 24514, 24530, 24543, 24555, 24566, 24578, 24588, 24599, 24609, 24621, 24654, 24664, 24676, 24687, 24698, 24710, 24721, 24731, 24741, 24757, 24767, 24777, 24793, 24809, 24836, 24846, 24856, 24866, 24882, 24892, 24902, 24912, 24928, 24938, 24949, 24959, 24970, 24979, 24992, 25002, 25012, 25022, 25032, 25045, 25054, 25065, 25077, 25087, 25105, 25132, 25142, 25151, 25161, 25173, 25183, 25201, 25217, 25227, 25237, 25246, 25256, 25265, 25274, 25283, 25292, 25301, 25310, 25319, 25328, 25337, 25346, 25358, 25374, 25384, 25394, 25408, 25417, 25460, 25479, 25498, 25508, 25521, 25533, 25546, 25555, 25565, 25574, 25584, 25593, 25602, 25611, 25620, 25629, 25638, 25647, 25656, 25666, 25675, 25684, 25697, 25706, 25716, 25724, 25734, 25743, 25753, 25769, 25779, 25789, 25804, 25816, 25828, 25839, 25853, 25870, 25884, 25900, 25916, 25932, 25948, 25958, 25970, 25982, 25991, 26000, 26009, 26018, 26030, 26042, 26055, 26064, 26073, 26082, 26091, 26100, 26109, 26117, 26127, 26145, 26158, 26171, 26215, 26251, 26260, 26270, 26280, 26291, 26300, 26312, 26325, 26336, 26348, 26356, 26366, 26376, 26388, 26397, 26407, 26417, 26428, 26438, 26447, 26456, 26465, 26477, 26487, 26496, 26510, 26519, 26535, 26546, 26556, 26565, 26574, 26583, 26594, 26603, 26612, 26621, 26630, 26639, 26649, 26784, 26794, 26805, 26815, 26824, 26834, 26844, 26853, 26863, 26876, 26890, 26904, 26917, 26927, 26937, 26951, 26963, 26976, 26990, 27005, 27015, 27029, 27043, 27057, 27081, 27094, 27103, 27112, 27125, 27139, 27150, 27159, 27169, 27178, 27187, 27196, 27205, 27214, 27223, 27232, 27241, 27250, 27259, 27271, 27280, 27289, 27298, 27311, 27324, 27334, 27348, 27358, 27368, 27393, 27407, 27418, 27443, 27459, 27469, 27478, 27487, 27497, 27507, 27517, 27527, 27537, 27547, 27557, 27567, 27577, 27591, 27604, 27615, 27624, 27634, 27645, 27655, 27665, 27674, 27684, 27694, 27712, 27730, 27741, 27752, 27762, 27780, 27790, 27800, 27809, 27819, 27830, 27839, 27849, 27863, 27875, 27885, 27894, 27903, 27913, 27927, 27937, 27948, 27957, 27966, 27976, 27986, 28004, 28016, 28029, 28038, 28053, 28062, 28071, 28082, 28093, 28108, 28118, 28130, 28140, 28148, 28164, 28173, 28192, 28200, 28211, 28221, 28231, 28241, 28252, 28262, 28275, 28285, 28296, 28318, 28339, 28349, 28359, 28380, 28395, 28405, 28429, 28438, 28449, 28458, 28468, 28478, 28487, 28496, 28506, 28518, 28529, 28550, 28564, 28578, 28588, 28598, 28607, 28617, 28632, 28643, 28654, 28664, 28675, 28685, 28696, 28706, 28716, 28727, 28737, 28746, 28756, 28767, 28778, 28788, 28797, 28807, 28817, 28829, 28839, 28851, 28874, 28884, 28894, 28904, 28915, 28926, 28935, 28954, 28964, 28974, 28984, 28998, 29009, 29019, 29032, 29043, 29053, 29072, 29082, 29094, 29105, 29115, 29125, 29135, 29153, 29172, 29185, 29197, 29207, 29217, 29228, 29238, 29249, 29260, 29269, 29279, 29288, 29300, 29316, 29328, 29338, 29350, 29358, 29368, 29378, 29387, 29400, 29410, 29424, 29435, 29446, 29455, 29464, 29475, 29485, 29496, 29507, 29518, 29529, 29539, 29549, 29563, 29574, 29586, 29599, 29611, 29625, 29636, 29650, 29662, 29674, 29707, 29718, 29728, 29738, 29749, 29758, 29768, 29777, 29790, 29802, 29815, 29828, 29837, 29846, 29854, 29863, 29873, 29886, 29898, 29911, 29921, 29929, 29943, 29952, 29961, 29971, 29981, 29991, 30001, 30011, 30023, 30033, 30043, 30053, 30062, 30085, 30095, 30107, 30119, 30131, 30146, 30157, 30168, 30181, 30191, 30205, 30226, 30236, 30245, 30254, 30264, 30273, 30282, 30292, 30301, 30315, 30325, 30334, 30348, 30358, 30369, 30379, 30391, 30401, 30411, 30425, 30436, 30444, 30454, 30465, 30475, 30488, 30546, 30559, 30572, 30585, 30598, 30608, 30619, 30635, 30650, 30664, 30678, 30689, 30701, 30753, 30804, 30814, 30824, 30836, 30846, 30856, 30867, 30877, 30887, 30895, 30908, 30918, 30931, 30941, 30953, 30961, 30970, 30981, 30990, 31001, 31011, 31021, 31031, 31041, 31068, 31077, 31087, 31098, 31109, 31116, 31126, 31136, 31163, 31174, 31184, 31194, 31205, 31222, 31232, 31241, 31251, 31267, 31282, 31298, 31309, 31322, 31336, 31346, 31356, 31366, 31376, 31386, 31396, 31407, 31417, 31427, 31439, 31449, 31461, 31471, 31484, 31496, 31506, 31515, 31525, 31535, 31547, 31558, 31569, 31579, 31590, 31600, 31610, 31624, 31634, 31644, 31654, 31664, 31676, 31688, 31698, 31708, 31718, 31729, 31742, 31752, 31762, 31772, 31783, 31793, 31803, 31813, 31824, 31834, 31845, 31856, 31871, 31886, 31896, 31908, 31918, 31929, 31940, 31951, 31962, 31972, 31982, 31992, 32002, 32012, 32021, 32031, 32042, 32053, 32064, 32074, 32083, 32093, 32103, 32114, 32124, 32134, 32145, 32157, 32167, 32179, 32189, 32200, 32210, 32220, 32232, 32244, 32412, 32428, 32438, 32450, 32460, 32470, 32482, 32494, 32506, 32519, 32529, 32540, 32550, 32561, 32729, 32740, 32750, 32760, 32769, 32779, 32789, 32799, 32808, 32820, 32832, 32844, 32856, 32868, 32878, 32886, 32896, 32913, 32923, 32933, 32945, 32957, 32969, 32981, 32991, 33003, 33013, 33026, 33039, 33051, 33061, 33071, 33080, 33100, 33110, 33120, 33130, 33140, 33150, 33160, 33172, 33182, 33192, 33202, 33212, 33222, 33232, 33242, 33253, 33264, 33274, 33284, 33294, 33304, 33314, 33324, 33334, 33344, 33352, 33362, 33371, 33383, 33393, 33403, 33413, 33442, 33452, 33462, 33477, 33493, 33504, 33514, 33523, 33535, 33544, 33558, 33570, 33582, 33592, 33602, 33611, 33622, 33632, 33645, 33658, 33667, 33676, 33717, 33726, 33764, 33774, 33783, 33821, 33859, 33870, 33907, 33917, 33927, 33937, 33947, 33958, 33969, 33981, 34001, 34016, 34026, 34037, 34049, 34084, 34099, 34111, 34125, 34141, 34157, 34167, 34178, 34194, 34204, 34215, 34225, 34235, 34248, 34260, 34270, 34279, 34289, 34300, 34311, 34322, 34331, 34342, 34354, 34366, 34377, 34389, 34400, 34411, 34430, 34440, 34450, 34460, 34470, 34480, 34491, 34500, 34509, 34523, 34572, 34582, 34592, 34602, 34619, 34630, 34642, 34652, 34664, 34675, 34690, 34700, 34711, 34721, 34732, 34788, 34799, 34810, 34820, 34832, 34842, 34851, 34863, 34874, 34883, 34893, 34902, 34914, 34924, 34937, 34947, 34976, 35007, 35017, 35027, 35037, 35047, 35056, 35066, 35103, 35114, 35132, 35145, 35158, 35172, 35183, 35194, 35207, 35216, 35225, 35235, 35244, 35255, 35266, 35279, 35288, 35299, 35311, 35322, 35333, 35343, 35356, 35366, 35380, 35390, 35400, 35411, 35421, 35436, 35445, 35459, 35473, 35483, 35496, 35507, 35517, 35527, 35537, 35545, 35553, 35564, 35575, 35585, 35595, 35605, 35618, 35630, 35642, 35654, 35665, 35677, 35687, 35709, 35719, 35729, 35741, 35751, 35761, 35771, 35784, 35793, 35804, 35815, 35826, 35837, 35846, 35858, 35870, 35881, 35893, 35904, 35918, 35929, 35941, 35953, 35965, 35976, 35986, 36000, 36012, 36023, 36033, 36042, 36055, 36068, 36078, 36091, 36103, 36113, 36124, 36134, 36145, 36156, 36165, 36174, 36184, 36194, 36204, 36212, 36222, 36231, 36240, 36251, 36262, 36273, 36284, 36294, 36331, 36341, 36350, 36360, 36374, 36385, 36396, 36407, 36418, 36429, 36456, 36467, 36478, 36489, 36501, 36512, 36523, 36534, 36546, 36555, 36565, 36577, 36588, 36597, 36610, 36619, 36628, 36637, 36647, 36658, 36668, 36678, 36688, 36699, 36711, 36722, 36733, 36744, 36754, 36766, 36776, 36788, 36797, 36808, 36817, 36826, 36836, 36845, 36853, 36865, 36882, 36893, 36902, 36911, 36923, 36933, 36945, 36958, 36969, 36984, 36993, 37003, 37013, 37023, 37034, 37043, 37060, 37075, 37090, 37107, 37121, 37134, 37147, 37156, 37165, 37176, 37187, 37196, 37208, 37218, 37228, 37237, 37247, 37256, 37270, 37287, 37297, 37309, 37319, 37332, 37342, 37352, 37362, 37372, 37382, 37392, 37403, 37416, 37427, 37441, 37457, 37477, 37487, 37496, 37505, 37514, 37523, 37532, 37554, 37574, 37591, 37609, 37627, 37645, 37662, 37675, 37709, 37738, 37753, 37763, 37773, 37782, 37791, 37801, 37813, 37825, 37837, 37848, 37863, 37872, 37882, 37926, 37936, 37979, 37989, 37999, 38009, 38023, 38033, 38044, 38054, 38064, 38074, 38084, 38095, 38105, 38115, 38126, 38209, 38220, 38243, 38266, 38277, 38288, 38298, 38309, 38324, 38334, 38357, 38380, 38403, 38422, 38433, 38442, 38452, 38462, 38472, 38482, 38491, 38503, 38513, 38524, 38535, 38613, 38624, 38636, 38637, 38638, 38650, 38671, 38692, 38702, 38712, 38726, 38744, 38762, 38783, 38802, 38812, 38827, 38841, 38853, 38863, 38883, 38893, 38906, 38927, 38939, 38952, 38964, 39005, 39018, 39029, 39040, 39048, 39063, 39073, 39084, 39094, 39103, 39113, 39123, 39135, 39146, 39157, 39168, 39201, 39214, 39230, 39245, 39255, 39266, 39276, 39287, 39298, 39309, 39319, 39331, 39341, 39350, 39365, 39376, 39385, 39397, 39406, 39415, 39427, 39440, 39451, 39461, 39470, 39479, 39488, 39497, 39506, 39515, 39525, 39544, 39556, 39570, 39580, 39590, 39602, 39627, 39637, 39647, 39657, 39673, 39683, 39693, 39704, 39715, 39828, 39838, 39848, 39858, 39868, 39879, 39889, 39900, 39909, 39921, 39931, 39946, 39961, 39976, 39987, 39998, 40008, 40018, 40030, 40044, 40067, 40078, 40089, 40103, 40118, 40131, 40140, 40151, 40165, 40175, 40184, 40194, 40203, 40221, 40233, 40246, 40310, 40320, 40344, 40354, 40367, 40377, 40401, 40412, 40424, 40435, 40448, 40460, 40473, 40484, 40495, 40505, 40516, 40526, 40541, 40551, 40561, 40571, 40584, 40596, 40609, 40621, 40633, 40643, 40656, 40674, 40693, 40705, 40717, 40732, 40742, 40757, 40772, 40780, 40802, 40813, 40824, 40836, 40847, 40858, 40868, 40878, 40888, 40901, 40917, 40931, 40942, 40963, 40973, 40987, 40997, 41008, 41018, 41028, 41038, 41048, 41057, 41067, 41077, 41089, 41101, 41111, 41121, 41130, 41141, 41152, 41163, 41174, 41187, 41213, 41222, 41232, 41257, 41266, 41274, 41284, 41301, 41319, 41329, 41341, 41352, 41361, 41374, 41383, 41393, 41402, 41414, 41424, 41434, 41449, 41464, 41478, 41490, 41510, 41552, 41565, 41576, 41587, 41596, 41606, 41616, 41626, 41636, 41649, 41659, 41669, 41684, 41711, 41721, 41733, 41745, 41756, 41766, 41778, 41804, 41816, 41827, 41838, 41853, 41867, 41878, 41899, 41909, 41921, 41931, 41943, 41962, 41972, 41984, 41994, 42005, 42015, 42027, 42040, 42051, 42067, 42086, 42099, 42112, 42122, 42132, 42142, 42152, 42163, 42173, 42185, 42195, 42208, 42221, 42231, 42245, 42259, 42273, 42286, 42296, 42309, 42322, 42338, 42348, 42367, 42377, 42389, 42399, 42433, 42446, 42456, 42467, 42477, 42488, 42501, 42510, 42521, 42533, 42542, 42551, 42563, 42578, 42594, 42603, 42617, 42629, 42641, 42652, 42665, 42676, 42686, 42708, 42721, 42746, 42757, 42767, 42777, 42787, 42802, 42818, 42834, 42844, 42858, 42869, 42889, 42904, 42914, 42924, 42936, 42948, 42964, 42977, 42987, 42997, 43007, 43017, 43027, 43037, 43047, 43057, 43070, 43081, 43094, 43107, 43120, 43130, 43157, 43183, 43194, 43204, 43214, 43224, 43234, 43244, 43255, 43270, 43280, 43294, 43316, 43326, 43345, 43364, 43382, 43401, 43420, 43429, 43448, 43459, 43469, 43480, 43490, 43500, 43510, 43520, 43529, 43539, 43548, 43561, 43570, 43581, 43590, 43608, 43617, 43626, 43641, 43651, 43660, 43669, 43685, 43695, 43715, 43727, 43738, 43755, 43763, 43773, 43783, 43792, 43818, 43828, 43838, 43849, 43860, 43871, 43881, 43900, 43910, 43927, 43938, 43949, 43960, 43979, 43989, 44007, 44021, 44031, 44042, 44052, 44065, 44099, 44109, 44119, 44130, 44142, 44161, 44171, 44195, 44206, 44216, 44226, 44236, 44246, 44256, 44268, 44283, 44298, 44307, 44318, 44328, 44338, 44349, 44367, 44376, 44385, 44409, 44432, 44457, 44481, 44492, 44509, 44533, 44542, 44558, 44573, 44588, 44603, 44612, 44625, 44635, 44650, 44661, 44672, 44688, 44701, 44714, 44725, 44742, 44757, 44769, 44779, 44791, 44803, 44813, 44827, 44842, 44855, 44870, 44886, 44902, 44918, 44938, 44949, 44960, 44970, 44979, 44988, 44999, 45008, 45019, 45029, 45043, 45053, 45066, 45079, 45090, 45103, 45114, 45128, 45140, 45151, 45161, 45171, 45181, 45191, 45202, 45212, 45222, 45232, 45249, 45259, 45270, 45281, 45293, 45305, 45319, 45333, 45343, 45353, 45363, 45373, 45390, 45401, 45411, 45441, 45451, 45467, 45487, 45521, 45539, 45557, 45571, 45582, 45593, 45611, 45622, 45633, 45642, 45652, 45666, 45681, 45692, 45702, 45712, 45727, 45737, 45748, 45758, 45768, 45778, 45789, 45799, 45810, 45820, 45833, 45843, 45856, 45866, 45876, 45889, 45900, 45910, 45927, 45937, 45947, 45961, 45972, 45982, 45992, 46006, 46016, 46029, 46042, 46052, 46062, 46082, 46095, 46105, 46118, 46132, 46150, 46170, 46189, 46198, 46210, 46222, 46234, 46253, 46272, 46282, 46294, 46305, 46315, 46325, 46336, 46348, 46358, 46369, 46381, 46391, 46403, 46415, 46427, 46439, 46449, 46458, 46468, 46478, 46488, 46499, 46509, 46519, 46531, 46543, 46555, 46567, 46577, 46587, 46598, 46612, 46626, 46648, 46663, 46673, 46683, 46694, 46710, 46719, 46736, 46746, 46757, 46767, 46777, 46788, 46798, 46809, 46833, 46854, 46866, 46875, 46887, 46900, 46910, 46921, 46931, 46942, 46950, 46962, 46974, 46984, 46998, 47007, 47016, 47026, 47036, 47045, 47055, 47068, 47080, 47093, 47102, 47116, 47125, 47140, 47151, 47163, 47176, 47187, 47198, 47214, 47224, 47239, 47248, 47259, 47273, 47283, 47293, 47306, 47316, 47326, 47337, 47349, 47360, 47371, 47382, 47418, 47452, 47487, 47514, 47527, 47539, 47552, 47563, 47576, 47591, 47601, 47610, 47621, 47636, 47649, 47659, 47677, 47688, 47697, 47721, 47734, 47751, 47765, 47777, 47790, 47799, 47812, 47828, 47841, 47854, 47866, 47878, 47891, 47901, 47912, 47929, 47941, 47954, 47966, 47980, 47992, 48005, 48014, 48024, 48040, 48057, 48072, 48086, 48096, 48106, 48120, 48130, 48140, 48150, 48163, 48173, 48189, 48202, 48213, 48225, 48241, 48252, 48268, 48278, 48296, 48306, 48315, 48324, 48341, 48352, 48365, 48374, 48383, 48394, 48404, 48417, 48428, 48438, 48448, 48458, 48472, 48483, 48493, 48504, 48514, 48522, 48532, 48542, 48552, 48562, 48580, 48590, 48600, 48617, 48627, 48637, 48647, 48656, 48665, 48674, 48685, 48695, 48705, 48715, 48724, 48734, 48744, 48754, 48764, 48784, 48802, 48812, 48821, 48832, 48841, 48854, 48872, 48890, 48900, 48909, 48918, 48928, 48940, 48950, 48988, 48998, 49008, 49024, 49034, 49047, 49059, 49069, 49082, 49094, 49107, 49118, 49131, 49141, 49151, 49161, 49171, 49181, 49192, 49202, 49213, 49223, 49233, 49243, 49261, 49273, 49285, 49295, 49354, 49370, 49382, 49393, 49405, 49417, 49429, 49441, 49453, 49465, 49477, 49489, 49500, 49510, 49521, 49532, 49543, 49554, 49572, 49591, 49605, 49615, 49623, 49633, 49642, 49652, 49666, 49679, 49689, 49698, 49710, 49720, 49734, 49745, 49755, 49765, 49776, 49785, 49794, 49806, 49817, 49827, 49840, 49852, 49865, 49875, 49884, 49894, 49904, 49916, 49929, 49939, 49947, 49959, 49969, 49978, 49991, 50003, 50014, 50026, 50037, 50049, 50060, 50070, 50081, 50091, 50102, 50113, 50126, 50136, 50146, 50154, 50164, 50174, 50183, 50194, 50204, 50216, 50224, 50234, 50243, 50254, 50268, 50282, 50292, 50303, 50316, 50328, 50339, 50349, 50359, 50374, 50384, 50395, 50405, 50416, 50426, 50440, 50450, 50460, 50470, 50480, 50490, 50502, 50513, 50523, 50534, 50564, 50574, 50585, 50595, 50607, 50618, 50629, 50658, 50670, 50671, 50683, 50694, 50706, 50725, 50734, 50747, 50760, 50773, 50786, 50800, 50811, 50820, 50830, 50840, 50851, 50862, 50871, 50880, 50893, 50903, 50913, 50924, 50943, 50953, 50977, 51001, 51016, 51027, 51038, 51053, 51063, 51073, 51083, 51093, 51103, 51114, 51123, 51133, 51144, 51154, 51163, 51175, 51184, 51194, 51205, 51216, 51225, 51235, 51246, 51256, 51266, 51284, 51295, 51311, 51322, 51332, 51344, 51355, 51365, 51378, 51388, 51399, 51410, 51420, 51430, 51444, 51455, 51466, 51476, 51486, 51496, 51506, 51516, 51529, 51539, 51557, 51568, 51578, 51588, 51599, 51609, 51621, 51636, 51646, 51656, 51667, 51678, 51689, 51700, 51711, 51722, 51732, 51742, 51754, 51764, 51776, 51786, 51800, 51812, 51914, 51925, 51935, 51946, 51955, 51965, 51974, 51984, 51994, 52004, 52015, 52025, 52035, 52046, 52057, 52068, 52079, 52090, 52100, 52111, 52121, 52131, 52141, 52152, 52163, 52174, 52186, 52197, 52207, 52218, 52228, 52242, 52253, 52262, 52277, 52291, 52305, 52315, 52325, 52338, 52348, 52358, 52368, 52378, 52388, 52398, 52410, 52421, 52433, 52444, 52455, 52466, 52479, 52489, 52501, 52512, 52523, 52535, 52545, 52556, 52566, 52575, 52584, 52593, 52604, 52616, 52625, 52635, 52645, 52655, 52665, 52676, 52686, 52697, 52709, 52717, 52727, 52737, 52747, 52762, 52773, 52785, 52796, 52805, 52814, 52824, 52834, 52849, 52859, 52869, 52879, 52889, 52901, 52911, 52921, 52933, 52943, 52953, 52963, 52975, 52988, 53155, 53177, 53192, 53214, 53225, 53236, 53246, 53256, 53266, 53276, 53286, 53296, 53307, 53346, 53362, 53371, 53394, 53405, 53415, 53427, 53437, 53447, 53457, 53502, 53514, 53530, 53543, 53552, 53563, 53575, 53587, 53598, 53609, 53619, 53631, 53643, 53652, 53664, 53674, 53683, 53693, 53702, 53713, 53725, 53737, 53747, 53758, 53770, 53782, 53791, 53801, 53810, 53819, 53831, 53844, 53854, 53865, 53874, 53887, 53897, 53909, 53921, 53932, 53943, 53960, 53970, 53988, 54005, 54018, 54028, 54041, 54054, 54064, 54074, 54083, 54094, 54109, 54125, 54138, 54149, 54160, 54170, 54181, 54191, 54200, 54214, 54229, 54241, 54255, 54269, 54279, 54288, 54297, 54308, 54317, 54326, 54335, 54345, 54354, 54366, 54378, 54390, 54400, 54422, 54433, 54443, 54453, 54466, 54477, 54491, 54501, 54514, 54527, 54537, 54549, 54559, 54569, 54579, 54588, 54598, 54607, 54617, 54631, 54641, 54651, 54688, 54699, 54710, 54721, 54732, 54746, 54760, 54772, 54784, 54796, 54808, 54818, 54828, 54840, 54852, 54903, 54914, 54923, 54933, 54944, 54956, 54967, 54979, 54994, 55004, 55014, 55029, 55041, 55052, 55061, 55071, 55083, 55093, 55104, 55115, 55126, 55138, 55150, 55160, 55170, 55181, 55192, 55205, 55215, 55232, 55242, 55259, 55269, 55285, 55298, 55308, 55316, 55325, 55337, 55350, 55359, 55368, 55380, 55414, 55448, 55482, 55492, 55526, 55538, 55551, 55561, 55573, 55587, 55621, 55630, 55664, 55677, 55688, 55698, 55708, 55719, 55729, 55740, 55751, 55762, 55776, 55790, 55804, 55815, 55825, 55835, 55845, 55853, 55863, 55871, 55879, 55889, 55898, 55908, 55922, 55932, 55942, 55951, 55963, 55974, 55986, 55997, 56007, 56017, 56028, 56040, 56052, 56062, 56073, 56083, 56093, 56103, 56113, 56123, 56132, 56142, 56152, 56162, 56172, 56182, 56193, 56203, 56213, 56228, 56238, 56250, 56260, 56270, 56280, 56289, 56299, 56312, 56322, 56332, 56344, 56353, 56363, 56373, 56383, 56393, 56406, 56417, 56432, 56443, 56454, 56465, 56479, 56492, 56503, 56514, 56524, 56533, 56547, 56558, 56568, 56578, 56591, 56622, 56632, 56643, 56651, 56663, 56673, 56683, 56693, 56703, 56713, 56723, 56734, 56744, 56757, 56767, 56777, 56788, 56798, 56810, 56819, 56831, 56842, 56855, 56868, 56880, 56895, 56908, 56918, 56928, 56939, 56955, 56968, 56978, 56989, 57004, 57019, 57029, 57039, 57051, 57061, 57071, 57081, 57090, 57103, 57113, 57123, 57132, 57142, 57152, 57164, 57174, 57185, 57197, 57208, 57218, 57231, 57244, 57254, 57269, 57279, 57288, 57301, 57311, 57321, 57332, 57341, 57354, 57363, 57373, 57389, 57399, 57409, 57419, 57429, 57438, 57448, 57458, 57469, 57494, 57505, 57516, 57526, 57536, 57551, 57562, 57572, 57585, 57597, 57607, 57618, 57629, 57641, 57651, 57662, 57673, 57686, 57697, 57709, 57719, 57733, 57746, 57756, 57767, 57779, 57793, 57804, 57812, 57823, 57834, 57846, 57857, 57870, 57883, 57896, 57909, 57922, 57935, 57948, 57961, 57974, 57987, 58000, 58013, 58022, 58035, 58048, 58061, 58074, 58085, 58098, 58111, 58124, 58137, 58148, 58161, 58174, 58187, 58200, 58213, 58226, 58239, 58252, 58265, 58278, 58291, 58304, 58317, 58330, 58343, 58356, 58368, 58380, 58390, 58399, 58413, 58424, 58433, 58442, 58452, 58467, 58478, 58493, 58508, 58523, 58538, 58548, 58558, 58568, 58581, 58598, 58607, 58624, 58636, 58645, 58656, 58667, 58680, 58690, 58699, 58709, 58721, 58732, 58748, 58758, 58788, 58802, 58814, 58824, 58834, 58845, 58854, 58865, 58876, 58887, 58899, 58911, 58921, 58931, 58941, 58952, 58965, 58975, 58985, 58996, 59006, 59016, 59028, 59038, 59073, 59085, 59095, 59104, 59113, 59123, 59138, 59160, 59176, 59185, 59194, 59203, 59212, 59221, 59232, 59241, 59253, 59262, 59274, 59285, 59301, 59317, 59329, 59350, 59362, 59373, 59385, 59396, 59405, 59415, 59465, 59474, 59485, 59494, 59503, 59512, 59522, 59533, 59542, 59554, 59564, 59577, 59588, 59597, 59610, 59620, 59631, 59641, 59652, 59661, 59672, 59682, 59770, 59780, 59791, 59802, 59812, 59824, 59833, 59844, 59854, 59865, 59905, 59913, 60010, 60020, 60031, 60045, 60055, 60064, 60075, 60087, 60097, 60109, 60120, 60129, 60143, 60153, 60163, 60173, 60185, 60195, 60206, 60216, 60225, 60236, 60246, 60256, 60266, 60277, 60287, 60298, 60309, 60319, 60329, 60339, 60350, 60360, 60371, 60382, 60401, 60412, 60421, 60432, 60441, 60452, 60462, 60476, 60486, 60499, 60510, 60522, 60533, 60544, 60554, 60565, 60575, 60585, 60595, 60606, 60616, 60628, 60638, 60655, 60664, 60674, 60684, 60695, 60706, 60716, 60742, 60757, 60782, 60792, 60804, 60816, 60829, 60841, 60852, 60863, 60875, 60892, 60907, 60919, 60931, 60943, 60955, 60966, 60978, 60990, 61002, 61014, 61026, 61038, 61050, 61060, 61077, 61092, 61102, 61114, 61126, 61139, 61151, 61164, 61175, 61185, 61195, 61208, 61219, 61231, 61241, 61251, 61262, 61272, 61282, 61292, 61303, 61312, 61322, 61332, 61342, 61352, 61364, 61373, 61384, 61394, 61406, 61418, 61430, 61441, 61451, 61461, 61471, 61481, 61495, 61504, 61516, 61526, 61536, 61546, 61557, 61567, 61579, 61590, 61600, 61610, 61619, 61634, 61648, 61658, 61669, 61730, 61739, 61749, 61765, 61775, 61787, 61799, 61809, 61975, 62141, 62307, 62317, 62482, 62492, 62502, 62511, 62522, 62534, 62546, 62557, 62567, 62577, 62589, 62598, 62608, 62621, 62634, 62644, 62654, 62670, 62681, 62692, 62703, 62714, 62725, 62738, 62746, 62758, 62772, 62784, 62796, 62809, 62821, 62833, 62845, 62855, 62863, 62873, 62882, 62892, 62902, 62912, 62922, 62932, 62942, 62954, 62966, 62976, 62987, 62997, 63009, 63024, 63038, 63049, 63064, 63079, 63089, 63100, 63115, 63126, 63140, 63150, 63161, 63176, 63186, 63201, 63217, 63227, 63236, 63248, 63257, 63268, 63277, 63288, 63298, 63322, 63332, 63342, 63370, 63385, 63401, 63417, 63428, 63438, 63447, 63457, 63467, 63477, 63489, 63500, 63511, 63522, 63532, 63542, 63553, 63566, 63575, 63584, 63593, 63602, 63614, 63627, 63637, 63647, 63662, 63678, 63688, 63700, 63710, 63721, 63730, 63741, 63756, 63770, 63788, 63800, 63822, 63832, 63842, 63851, 63861, 63871, 63880, 63889, 63906, 63922, 63932, 63951, 63970, 63989, 63999, 64018, 64027, 64042, 64055, 64075, 64086, 64103, 64115, 64125, 64135, 64145, 64155, 64164, 64173, 64186, 64207, 64217, 64227, 64237, 64246, 64258, 64268, 64278, 64288, 64298, 64310, 64320, 64331, 64344, 64356, 64365, 64384, 64394, 64405, 64416, 64428, 64437, 64447, 64458, 64470, 64479, 64488, 64498, 64507, 64518, 64532, 64546, 64559, 64571, 64583, 64593, 64609, 64622, 64636, 64651, 64662, 64675, 64685, 64695, 64705, 64714, 64724, 64734, 64746, 64756, 64768, 64777, 64786, 64798, 64824, 64836, 64846, 64863, 64872, 64882, 64896, 64906, 64917, 64927, 64938, 64949, 64960, 64970, 64980, 64996, 65007, 65016, 65026, 65036, 65047, 65084, 65118, 65129, 65166, 65203, 65213, 65224, 65234, 65244, 65253, 65263, 65273, 65287, 65297, 65307, 65316, 65326, 65336, 65345, 65356, 65366, 65375, 65385, 65398, 65413, 65426, 65436, 65446, 65455, 65501, 65516, 65526, 65536, 65546, 65557, 65568, 65579, 65589, 65598, 65608, 65621, 65632, 65643, 65653, 65664, 65674, 65689, 65702, 65715, 65725, 65741, 65756, 65772, 65786, 65799, 65809, 65821, 65832, 65843, 65856, 65866, 65875, 65884, 65894, 65904, 65914, 65933, 65943, 65981, 65991, 66001, 66018, 66029, 66043, 66053, 66070, 66080, 66089, 66098, 66107, 66118, 66129, 66141, 66154, 66164, 66174, 66184, 66194, 66204, 66217, 66227, 66237, 66247, 66273, 66282, 66293, 66303, 66313, 66326, 66337, 66347, 66356, 66370, 66381, 66399, 66416, 66427, 66437, 66446, 66456, 66466, 66476, 66485, 66494, 66504, 66518, 66528, 66537, 66547, 66558, 66575, 66592, 66602, 66615, 66623, 66635, 66645, 66656, 66675, 66687, 66702, 66718, 66728, 66740, 66751, 66760, 66770, 66781, 66791, 66800, 66827, 66836, 66845, 66855, 66867, 66876, 66889, 66899, 66912, 66921, 66931, 66941, 66955, 66965, 66975, 66990, 67000, 67011, 67031, 67041, 67051, 67061, 67072, 67082, 67091, 67100, 67112, 67123, 67134, 67144, 67154, 67165, 67175, 67184, 67193, 67202, 67211, 67220, 67229, 67240, 67250, 67260, 67271, 67282, 67292, 67301, 67310, 67321, 67331, 67344, 67361, 67371, 67381, 67391, 67401, 67412, 67423, 67433, 67442, 67452, 67466, 67476, 67486, 67496, 67506, 67515, 67525, 67539, 67549, 67559, 67570, 67581, 67591, 67601, 67610, 67620, 67631, 67641, 67653, 67664, 67676, 67689, 67699, 67709, 67719, 67730, 67740, 67750, 67758, 67766, 67779, 67790, 67803, 67814, 67827, 67839, 67851, 67860, 67870, 67880, 67889, 67900, 67914, 67928, 67939, 67953, 67965, 67975, 67988, 67997, 68007, 68017, 68027, 68036, 68046, 68056, 68067, 68079, 68089, 68099, 68110, 68121, 68131, 68143, 68155, 68166, 68176, 68187, 68196, 68205, 68214, 68224, 68233, 68242, 68253, 68266, 68278, 68300, 68322, 68332, 68342, 68384, 68396, 68408, 68427, 68438, 68448, 68458, 68468, 68478, 68488, 68498, 68508, 68518, 68528, 68538, 68548, 68564, 68573, 68583, 68594, 68605, 68615, 68627, 68639, 68648, 68662, 68672, 68683, 68694, 68705, 68715, 68726, 68737, 68751, 68761, 68789, 68809, 68826, 68847, 68858, 68869, 68881, 68892, 68903, 68914, 68925, 68936, 68947, 68957, 68968, 68979, 68990, 69001, 69012, 69023, 69034, 69045, 69056, 69070, 69086, 69096, 69107, 69121, 69136, 69150, 69161, 69172, 69185, 69196, 69206, 69216, 69228, 69239, 69250, 69260, 69270, 69280, 69299, 69309, 69320, 69330, 69340, 69354, 69368, 69378, 69388, 69413, 69427, 69437, 69447, 69457, 69469, 69479, 69491, 69502, 69513, 69524, 69534, 69621, 69630, 69640, 69650, 69661, 69672, 69682, 69693, 69704, 69715, 69726, 69737, 69748, 69761, 69771, 69778, 69789, 69800, 69820, 69831, 69844, 69854, 69864, 69875, 69885, 69900, 69933, 69943, 69955, 69969, 69980, 69991, 70002, 70017, 70029, 70039, 70049, 70064, 70074, 70090, 70105, 70116, 70126, 70136, 70146, 70157, 70167, 70178, 70189, 70199, 70209, 70219, 70229, 70240, 70251, 70261, 70271, 70281, 70294, 70304, 70314, 70324, 70336, 70347, 70358, 70371, 70381, 70395, 70409, 70419, 70434, 70444, 70454, 70464, 70476, 70488, 70501, 70511, 70522, 70533, 70544, 70554, 70566, 70580, 70592, 70610, 70620, 70632, 70642, 70652, 70665, 70678, 70689, 70702, 70715, 70725, 70736, 70746, 70757, 70767, 70777, 70788, 70800, 70810, 70822, 70832, 70845, 70907, 70917, 70927, 70939, 70956, 70975, 70985, 70997, 71009, 71019, 71030, 71042, 71060, 71070, 71080, 71094, 71104, 71124, 71135, 71147, 71160, 71171, 71181, 71191, 71202, 71213, 71224, 71236, 71247, 71257, 71267, 71277, 71287, 71297, 71310, 71330, 71350, 71370, 71380, 71391, 71401, 71410, 71420, 71431, 71442, 71452, 71464, 71476, 71490, 71502, 71514, 71524, 71535, 71546, 71556, 71566, 71579, 71589, 71609, 71621, 71641, 71651, 71663, 71672, 71681, 71691, 71701, 71711, 71722, 71732, 71742, 71753, 71763, 71774, 71785, 71798, 71808, 71820, 71830, 71842, 71852, 71864, 71876, 71888, 71898, 71908, 71918, 71928, 71941, 71951, 71963, 71973, 71986, 71996, 72006, 72019, 72185, 72196, 72208, 72220, 72232, 72244, 72255, 72266, 72276, 72286, 72297, 72307, 72321, 72334, 72345, 72356, 72366, 72378, 72389, 72399, 72417, 72428, 72440, 72450, 72461, 72471, 72483, 72493, 72535, 72545, 72555, 72566, 72578, 72588, 72598, 72608, 72618, 72628, 72639, 72651, 72661, 72671, 72681, 72700, 72710, 72728, 72738, 72749, 72759, 72769, 72784, 72794, 72805, 72815, 72826, 72837, 72847, 73029, 73039, 73050, 73061, 73073, 73084, 73094, 73104, 73119, 73129, 73139, 73152, 73168, 73181, 73190, 73200, 73210, 73219, 73230, 73240, 73253, 73265, 73281, 73297, 73308, 73318, 73370, 73381, 73391, 73406, 73421, 73431, 73445, 73457, 73469, 73480, 73494, 73505, 73515, 73525, 73535, 73546, 73558, 73569, 73582, 73592, 73605, 73615, 73627, 73638, 73648, 73716, 73727, 73740, 73751, 73761, 73771, 73786, 73796, 73806, 73816, 73828, 73838, 73849, 73862, 73875, 73885, 73898, 73908, 73927, 73937, 73950, 73960, 73970, 73987, 73999, 74012, 74023, 74033, 74042, 74051, 74060, 74071, 74081, 74092, 74103, 74113, 74124, 74136, 74146, 74156, 74166, 74176, 74186, 74198, 74209, 74222, 74233, 74251, 74264, 74275, 74287, 74301, 74311, 74326, 74336, 74348, 74360, 74371, 74383, 74393, 74405, 74415, 74425, 74438, 74449, 74463, 74474, 74487, 74499, 74509, 74519, 74528, 74538, 74549, 74560, 74571, 74582, 74591, 74601, 74611, 74626, 74637, 74655, 74665, 74677, 74692, 74702, 74712, 74723, 74734, 74744, 74754, 74770, 74782, 74793, 74806, 74816, 74826, 74836, 74846, 74858, 74871, 74882, 74894, 74906, 74917, 74927, 74937, 74947, 74957, 74972, 74982, 74996, 75006, 75016, 75028, 75039, 75049, 75060, 75070, 75081, 75092, 75103, 75113, 75123, 75134, 75144, 75154, 75164, 75174, 75184, 75194, 75204, 75214, 75224, 75234, 75245, 75256, 75290, 75324, 75359, 75369, 75380, 75390, 75401, 75418, 75429, 75440, 75454, 75465, 75476, 75486, 75496, 75508, 75518, 75541, 75551, 75563, 75575, 75587, 75600, 75611, 75622, 75632, 75647, 75658, 75668, 75693, 75703, 75728, 75753, 75766, 75777, 75788, 75799, 75811, 75821, 75831, 75842, 75853, 75864, 75877, 75887, 75898, 75908, 75919, 75930, 75940, 75950, 75974, 75984, 75994, 76006, 76017, 76027, 76042, 76056, 76067, 76087, 76098, 76108, 76118, 76128, 76141, 76154, 76177, 76193, 76217, 76227, 76237, 76260, 76270, 76281, 76291, 76302, 76312, 76323, 76333, 76343, 76356, 76368, 76380, 76392, 76403, 76413, 76425, 76437, 76447, 76460, 76470, 76482, 76493, 76503, 76515, 76526, 76536, 76546, 76556, 76566, 76576, 76586, 76598, 76599, 76600, 76615, 76625, 76636, 76648, 76659, 76669, 76679, 76711, 76721, 76731, 76741, 76751, 76761, 76771, 76781, 76792, 76802, 76814, 76824, 76834, 76846, 76857, 76895, 76967, 76977, 76989, 77002, 77012, 77022, 77033, 77043, 77053, 77065, 77075, 77087, 77097, 77109, 77119, 77129, 77143, 77153, 77163, 77175, 77185, 77196, 77207, 77226, 77236, 77250, 77260, 77270, 77280, 77290, 77306, 77321, 77331, 77348, 77361, 77639, 77917, 78195, 78473, 78484, 78495, 78505, 78516, 78527, 78545, 78555, 78567, 78583, 78594, 78605, 78616, 78627, 78637, 78647, 78657, 78667, 78677, 78687, 78699, 78710, 78720, 78731, 78741, 78753, 78763, 78837, 78847, 78860, 78870, 78882, 78895, 78911, 78921, 78941, 78951, 78961, 78977, 78988, 78998, 79008, 79019, 79029, 79039, 79049, 79059, 79074, 79085, 79095, 79109, 79120, 79132, 79144, 79154, 79168, 79179, 79195, 79208, 79222, 79232, 79242, 79265, 79276, 79287, 79298, 79308, 79318, 79328, 79339, 79350, 79362, 79373, 79383, 79394, 79404, 79415, 79425, 79435, 79446, 79460, 79471, 79481, 79491, 79504, 79516, 79527, 79537, 79548, 79561, 79573, 79583, 79593, 79604, 79614, 79628, 79640, 79650, 79661, 79673, 79683, 79695, 79705, 79715, 79726, 79736, 79748, 79758, 79767, 79778, 79789, 79799, 79809, 79822, 79835, 79847, 79856, 79867, 79878, 79889, 79899, 79910, 79921, 79935, 79949, 79960, 79973, 79984, 79996, 80013, 80031, 80049, 80061, 80079, 80089, 80105, 80116, 80129, 80142, 80154, 80164, 80173, 80185, 80196, 80207, 80220, 80244, 80256, 80268, 80278, 80289, 80299, 80314, 80329, 80338, 80366, 80375, 80385, 80396, 80407, 80419, 80429, 80441, 80452, 80462, 80472, 80486, 80499, 80509, 80524, 80534, 80545, 80555, 80565, 80575, 80586, 80606, 80620, 80632, 80643, 80653, 80665, 80675, 80691, 80702, 80716, 80729, 80740, 80750, 80760, 80769, 80778, 80787, 80802, 80812, 80822, 80832, 80842, 80853, 80864, 80874, 80884, 80894, 80908, 80918, 80928, 81094, 81095, 81096, 81106, 81116, 81126, 81145, 81155, 81173, 81188, 81204, 81215, 81216, 81226, 81238, 81248, 81259, 81268, 81278, 81291, 81304, 81314, 81326, 81336, 81346, 81361, 81374, 81384, 81396, 81407, 81417, 81428, 81438, 81452, 81465, 81476, 81491, 81501, 81515, 81531, 81541, 81551, 81561, 81573, 81585, 81595, 81604, 81614, 81624, 81638, 81651, 81662, 81672, 81682, 81692, 81702, 81712, 81722, 81734, 81746, 81756, 81766, 81776, 81794, 81803, 81815, 81825, 81835, 81845, 81854, 81866, 81878, 81888, 81899, 81910, 81921, 81931, 81941, 81951, 81961, 81971, 81982, 81993, 82003, 82016, 82025, 82043, 82053, 82064, 82074, 82086, 82096, 82109, 82120, 82130, 82140, 82150, 82160, 82169, 82183, 82194, 82204, 82216, 82227, 82237, 82247, 82258, 82268, 82281, 82292, 82303, 82313, 82324, 82437, 82447, 82458, 82469, 82479, 82490, 82500, 82511, 82522, 82533, 82543, 82557, 82572, 82588, 82602, 82613, 82624, 82634, 82646, 82657, 82668, 82678, 82689, 82702, 82721, 82731, 82747, 82759, 82769, 82779, 82790, 82800, 82810, 82822, 82835, 82846, 82856, 82866, 82879, 82890, 82904, 82914, 82924, 82945, 82957, 82979, 82989, 82999, 83019, 83029, 83042, 83063, 83073, 83083, 83097, 83108, 83128, 83138, 83148, 83161, 83181, 83192, 83212, 83223, 83233, 83243, 83253, 83265, 83275, 83285, 83295, 83306, 83323, 83335, 83345, 83357, 83369, 83378, 83388, 83397, 83410, 83420, 83435, 83445, 83465, 83478, 83499, 83510, 83524, 83534, 83544, 83558, 83581, 83614, 83624, 83634, 83644, 83654, 83664, 83674, 83684, 83696, 83708, 83720, 83732, 83747, 83759, 83770, 83788, 83801, 83813, 83827, 83838, 83851, 83863, 83875, 83885, 83898, 83909, 83920, 83931, 83943, 83954, 83964, 83974, 83984, 83994, 84004, 84014, 84025, 84043, 84053, 84066, 84076, 84096, 84109, 84122, 84133, 84143, 84154, 84165, 84177, 84189, 84199, 84209, 84221, 84231, 84241, 84251, 84261, 84273, 84283, 84293, 84303, 84321, 84331, 84342, 84354, 84365, 84385, 84397, 84409, 84422, 84435, 84445, 84455, 84465, 84475, 84485, 84496, 84506, 84520, 84531, 84544, 84560, 84570, 84580, 84591, 84601, 84617, 84628, 84640, 84651, 84661, 84673, 84686, 84700, 84711, 84721, 84731, 84741, 84751, 84761, 84771, 84781, 84792, 84802, 84815, 84826, 84836, 84846, 84857, 84868, 84886, 84898, 84913, 84925, 84935, 84945, 84955, 84984, 85001, 85012, 85021, 85031, 85040, 85050, 85061, 85073, 85082, 85093, 85103, 85113, 85123, 85133, 85143, 85153, 85163, 85174, 85184, 85194, 85206, 85218, 85229, 85241, 85252, 85262, 85272, 85282, 85292, 85302, 85314, 85324, 85335, 85345, 85355, 85369, 85380, 85391, 85403, 85415, 85432, 85443, 85460, 85470, 85481, 85492, 85510, 85521, 85531, 85541, 85551, 85561, 85571, 85582, 85596, 85611, 85654, 85669, 85679, 85694, 85704, 85717, 85730, 85740, 85752, 85761, 85774, 85784, 85795, 85806, 85817, 85827, 85838, 85869, 85879, 85891, 85901, 85912, 85923, 85955, 85984, 86014, 86045, 86077, 86087, 86098, 86108, 86119, 86130, 86140, 86150, 86162, 86172, 86191, 86201, 86212, 86222, 86241, 86251, 86262, 86275, 86285, 86295, 86306, 86317, 86330, 86343, 86354, 86366, 86382, 86393, 86403, 86413, 86425, 86445, 86457, 86467, 86477, 86493, 86503, 86516, 86526, 86538, 86548, 86561, 86573, 86586, 86598, 86610, 86622, 86632, 86643, 86653, 86665, 86678, 86711, 86730, 86739, 86748, 86758, 86823, 86837, 86849, 86860, 86871, 86881, 86894, 86906, 86917, 86926, 86936, 86946, 86956, 86969, 86983, 86996, 87007, 87017, 87027, 87038, 87053, 87063, 87072, 87082, 87107, 87117, 87127, 87140, 87149, 87162, 87173, 87188, 87201, 87212, 87224, 87237, 87249, 87260, 87273, 87310, 87320, 87331, 87346, 87361, 87375, 87386, 87396, 87406, 87420, 87432, 87442, 87451, 87461, 87472, 87483, 87493, 87503, 87513, 87523, 87533, 87546, 87556, 87575, 87590, 87641, 87651, 87661, 87671, 87684, 87700, 87710, 87725, 87742, 87753, 87767, 87778, 87797, 87813, 87827, 87838, 87852, 87866, 87879, 87960, 87971, 87983, 87994, 88024, 88038, 88047, 88059, 88071, 88083, 88093, 88104, 88116, 88125, 88138, 88154, 88165, 88178, 88188, 88208, 88230, 88240, 88250, 88260, 88274, 88286, 88296, 88321, 88333, 88343, 88353, 88363, 88375, 88387, 88401, 88413, 88426, 88438, 88448, 88467, 88478, 88488, 88498, 88508, 88533, 88548, 88558, 88568, 88579, 88591, 88603, 88612, 88622, 88632, 88643, 88654, 88664, 88674, 88684, 88694, 88703, 88884, 89065, 89077, 89087, 89099, 89110, 89123, 89138, 89156, 89166, 89176, 89186, 89197, 89209, 89220, 89234, 89245, 89255, 89267, 89277, 89291, 89301, 89311, 89321, 89331, 89341, 89351, 89380, 89390, 89422, 89431, 89441, 89451, 89463, 89473, 89494, 89504, 89514, 89526, 89538, 89549, 89560, 89573, 89586, 89597, 89607, 89618, 89628, 89639, 89650, 89661, 89674, 89684, 89695, 89706, 89716, 89726, 89736, 89747, 89758, 89808, 89818, 89828, 89840, 89851, 89861, 89873, 89883, 89893, 89903, 89913, 89925, 89935, 89945, 89957, 89975, 89996, 90007, 90020, 90030, 90040, 90050, 90062, 90072, 90082, 90092, 90102, 90112, 90122, 90132, 90142, 90152, 90162, 90172, 90182, 90194, 90204, 90214, 90227, 90242, 90252, 90263, 90275, 90284, 90293, 90302, 90312, 90324, 90334, 90345, 90356, 90366, 90382, 90392, 90407, 90417, 90431, 90442, 90453, 90467, 90478, 90489, 90499, 90510, 90521, 90532, 90542, 90553, 90566, 90579, 90588, 90598, 90609, 90620, 90631, 90642, 90653, 90664, 90675, 90686, 90697, 90707, 90717, 90728, 90910, 90921, 90932, 90943, 90953, 90964, 90974, 90984, 90994, 91004, 91014, 91024, 91034, 91044, 91054, 91064, 91074, 91084, 91094, 91104, 91114, 91124, 91134, 91144, 91154, 91164, 91174, 91184, 91194, 91208, 91226, 91244, 91255, 91265, 91277, 91294, 91307, 91319, 91329, 91339, 91349, 91360, 91371, 91381, 91391, 91402, 91413, 91423, 91433, 91443, 91453, 91464, 91474, 91485, 91495, 91505, 91517, 91529, 91539, 91549, 91561, 91571, 91581, 91591, 91602, 91612, 91624, 91634, 91644, 91654, 91665, 91677, 91688, 91737, 91749, 91761, 91771, 91781, 91793, 91805, 91818, 91831, 91843, 91853, 91905, 91917, 91930, 91948, 91959, 91969, 91981, 92020, 92030, 92040, 92051, 92090, 92129, 92139, 92150, 92190, 92200, 92210, 92220, 92230, 92240, 92252, 92265, 92275, 92287, 92298, 92308, 92319, 92329, 92339, 92363, 92374, 92383, 92394, 92409, 92420, 92433, 92445, 92455, 92465, 92474, 92484, 92504, 92514, 92526, 92537, 92549, 92559, 92569, 92579, 92590, 92601, 92611, 92621, 92631, 92642, 92652, 92662, 92672, 92686, 92703, 92713, 92723, 92733, 92742, 92752, 92764, 92785, 92800, 92812, 92825, 92837, 92851, 92864, 92876, 92886, 92896, 92906, 92919, 92929, 92939, 92954, 92966, 92977, 92987, 92997, 93007, 93017, 93185, 93198, 93208, 93218, 93228, 93238, 93248, 93249, 93259, 93275, 93285, 93298, 93308, 93320, 93333, 93347, 93357, 93369, 93380, 93390, 93401, 93418, 93428, 93438, 93448, 93459, 93469, 93479, 93489, 93499, 93509, 93519, 93529, 93539, 93549, 93563, 93573, 93587, 93597, 93607, 93618, 93630, 93640, 93659, 93669, 93684, 93694, 93715, 93726, 93736, 93747, 93758, 93769, 93780, 93789, 93800, 93810, 93820, 93830, 93841, 93852, 93864, 93877, 93889, 93899, 93910, 93920, 93934, 93944, 93959, 93975, 93985, 93996, 94012, 94035, 94045, 94057, 94068, 94078, 94092, 94101, 94112, 94122, 94132, 94143, 94154, 94166, 94176, 94188, 94200, 94211, 94225, 94236, 94249, 94259, 94270, 94279, 94291, 94308, 94319, 94330, 94342, 94352, 94365, 94385, 94395, 94405, 94415, 94425, 94434, 94445, 94455, 94466, 94476, 94497, 94507, 94517, 94612, 94625, 94635, 94645, 94655, 94665, 94675, 94685, 94705, 94715, 94726, 94737, 94750, 94760, 94770, 94781, 94791, 94801, 94813, 94823, 94833, 94847, 94857, 94871, 94885, 94899, 94915, 94927, 94938, 94947, 94958, 94969, 94984, 94994, 95005, 95015, 95034, 95044, 95064, 95073, 95086, 95098, 95108, 95122, 95132, 95142, 95152, 95247, 95257, 95267, 95277, 95287, 95297, 95313, 95324, 95340, 95351, 95363, 95375, 95386, 95397, 95411, 95422, 95432, 95443, 95453, 95463, 95479, 95490, 95501, 95512, 95522, 95538, 95548, 95559, 95569, 95583, 95595, 95609, 95620, 95630, 95699, 95711, 95721, 95731, 95744, 95754, 95765, 95778, 95817, 95827, 95837, 95846, 95856, 95866, 95876, 95889, 95901, 95911, 96006, 96017, 96029, 96039, 96049, 96058, 96071, 96100, 96112, 96122, 96134, 96147, 96159, 96169, 96179, 96189, 96202, 96212, 96225, 96236, 96246, 96255, 96265, 96274, 96288, 96298, 96312, 96331, 96342, 96352, 96362, 96372, 96383, 96393, 96403, 96413, 96423, 96433, 96445, 96455, 96469, 96481, 96490, 96502, 96521, 96530, 96542, 96561, 96571, 96582, 96592, 96609, 96619, 96629, 96639, 96652, 96662, 96675, 96685, 96695, 96705, 96717, 96727, 96737, 96747, 96757, 96768, 96778, 96789, 96800, 96810, 96820, 96831, 96841, 96851, 96861, 96871, 96881, 96895, 96907, 96919, 96929, 96939, 96950, 96960, 96969, 96981, 96991, 97009, 97019, 97030, 97040, 97050, 97060, 97074, 97089, 97109, 97120, 97130, 97148, 97159, 97173, 97183, 97193, 97204, 97215, 97227, 97239, 97251, 97261, 97271, 97282, 97293, 97307, 97317, 97327, 97340, 97355, 97366, 97376, 97392, 97403, 97413, 97428, 97438, 97449, 97469, 97479, 97489, 97498, 97510, 97520, 97532, 97543, 97553, 97563, 97574, 97583, 97592, 97691, 97701, 97710, 97719, 97728, 97738, 97750, 97760, 97770, 97795, 97807, 97818, 97832, 97842, 97852, 97862, 97874, 97884, 97897, 97909, 97919, 97929, 97959, 97984, 97996, 98006, 98017, 98027, 98039, 98051, 98061, 98071, 98081, 98094, 98106, 98119, 98142, 98155, 98166, 98176, 98189, 98200, 98209, 98220, 98230, 98240, 98250, 98260, 98270, 98280, 98290, 98300, 98310, 98320, 98330, 98340, 98350, 98360, 98370, 98380, 98390, 98405, 98415, 98427, 98437, 98447, 98457, 98469, 98512, 98525, 98560, 98571, 98582, 98592, 98603, 98613, 98623, 98633, 98646, 98658, 98668, 98689, 98712, 98722, 98735, 98748, 98758, 98768, 98778, 98791, 98801, 98811, 98821, 98831, 98841, 98850, 98859, 98868, 98878, 98888, 98898, 98908, 98918, 98930, 98940, 98953, 98963, 98975, 98987, 99013, 99023, 99033, 99044, 99054, 99064, 99075, 99086, 99098, 99109, 99119, 99130, 99140, 99151, 99163, 99178, 99190, 99200, 99212, 99232, 99243, 99253, 99266, 99277, 99288, 99298, 99309, 99319, 99332, 99342, 99352, 99363, 99373, 99383, 99395, 99405, 99415, 99425, 99436, 99452, 99477, 99502, 99515, 99527, 99540, 99550, 99562, 99572, 99583, 99593, 99604, 99616, 99635, 99643, 99654, 99678, 99702, 99726, 99734, 99745, 99757, 99776, 99787, 99819, 99830, 99850, 99859, 99868, 99877, 99886, 99896, 99905, 99917, 99927, 99939, 99950, 99961, 99976, 99986, 99996, 100006, 100016, 100028, 100056, 100066, 100161, 100170, 100179, 100199, 100221, 100231, 100241, 100252, 100261, 100270, 100279, 100288, 100297, 100308, 100318, 100328, 100339, 100349, 100362, 100372, 100383, 100394, 100405, 100416, 100428, 100440, 100448, 100458, 100468, 100476, 100488, 100499, 100514, 100568, 100577, 100588, 100603, 100613, 100624, 100634, 100643, 100692, 100741, 100751, 100761, 100771, 100782, 100799, 100809, 100820, 100829, 100883, 100894, 100954, 100972, 100984, 100995, 101011, 101022, 101033, 101043, 101053, 101083, 101094, 101113, 101132, 101143, 101153, 101164, 101174, 101185, 101203, 101217, 101230, 101240, 101252, 101262, 101272, 101288, 101299, 101310, 101322, 101333, 101344, 101382, 101392, 101402, 101427, 101452, 101481, 101494, 101505, 101515, 101526, 101534, 101545, 101555, 101566, 101576, 101585, 101595, 101604, 101623, 101634, 101644, 101662, 101672, 101691, 101702, 101713, 101811, 101976, 101989, 101999, 102009, 102019, 102030, 102039, 102137, 102147, 102157, 102168, 102179, 102191, 102201, 102212, 102223, 102235, 102247, 102257, 102268, 102278, 102289, 102298, 102308, 102318, 102329, 102339, 102349, 102359, 102369, 102379, 102390, 102400, 102410, 102420, 102430, 102439, 102450, 102460, 102470, 102480, 102490, 102499, 102508, 102517, 102527, 102537, 102546, 102554, 102569, 102593, 102617, 102641, 102651, 102661, 102670, 102680, 102690, 102702, 102711, 102721, 102731, 102741, 102751, 102761, 102772, 102783, 102843, 102853, 102862, 102872, 102884, 102936, 102947, 102957, 102967, 102977, 102991, 103007, 103016, 103024, 103034, 103049, 103059, 103071, 103081, 103092, 103103, 103114, 103125, 103135, 103145, 103155, 103165, 103176, 103188, 103199, 103211, 103222, 103234, 103244, 103254, 103265, 103275, 103290, 103300, 103310, 103320, 103332, 103344, 103353, 103365, 103375, 103385, 103397, 103410, 103420, 103430, 103439, 103448, 103464, 103480, 103510, 103533, 103553, 103563, 103573, 103587, 103597, 103606, 103615, 103626, 103636, 103646, 103661, 103677, 103686, 103696, 103706, 103716, 103726, 103736, 103755, 103763, 103773, 103783, 103792, 103801, 103811, 103821, 103831, 103850, 103861, 103876, 103890, 103902, 103915, 103924, 103936, 103955, 103967, 103977, 103989, 103998, 104009, 104018, 104029, 104040, 104050, 104062, 104071, 104083, 104094, 104104, 104114, 104124, 104136, 104159, 104171, 104186, 104197, 104214, 104225, 104237, 104257, 104266, 104277, 104288, 104297, 104308, 104318, 104329, 104339, 104387, 104396, 104409, 104419, 104430, 104441, 104451, 104573, 104583, 104595, 104605, 104625, 104635, 104655, 104670, 104681, 104689, 104699, 104711, 104732, 104745, 104755, 104768, 104778, 104787, 104803, 104815, 104826, 104836, 104850, 104861, 104873, 104889, 104905, 104917, 104927, 104936, 104949, 104961, 104972, 104980, 104990, 105000, 105009, 105020, 105030, 105043, 105056, 105068, 105081, 105094, 105107, 105117, 105377, 105637, 105697, 105957, 106217, 106230, 106242, 106257, 106268, 106276, 106287, 106299, 106309, 106320, 106332, 106342, 106380, 106390, 106400, 106417, 106427, 106438, 106449, 106460, 106472, 106483, 106494, 106503, 106514, 106525, 106536, 106545, 106555, 106564, 106574, 106584, 106594, 106612, 106631, 106748, 106757, 106769, 106778, 106790, 106801, 106810, 106822, 106832, 106843, 106854, 106864, 106875, 106885, 106903, 106913, 106924, 106935, 106945, 106960, 106970, 106980, 106991, 107001, 107011, 107021, 107033, 107043, 107053, 107068, 107081, 107093, 107103, 107114, 107125, 107134, 107144, 107154, 107164, 107178, 107188, 107198, 107208, 107222, 107237, 107247, 107293, 107303, 107313, 107326, 107336, 107350, 107363, 107374, 107385, 107396, 107407, 107418, 107428, 107440, 107455, 107467, 107479, 107489, 107499, 107512, 107522, 107532, 107542, 107553, 107571, 107581, 107592, 107615, 107638, 107661, 107684, 107695, 107718, 107728, 107738, 107749, 107759, 107770, 107780, 107790, 107800, 107809, 107819, 107830, 107839, 107848, 107849, 107859, 107869, 107870, 107871, 107882, 107894, 107906, 107915, 107925, 107938, 107946, 107947, 107990, 108001, 108002, 108020, 108035, 108046, 108059, 108069, 108078, 108088, 108098, 108110, 108111, 108121, 108131, 108132, 108146, 108160, 108170, 108179, 108189, 108198, 108206, 108216, 108226, 108238, 108252, 108262, 108272, 108282, 108292, 108293, 108303, 108315, 108324, 108334, 108343, 108353, 108364, 108374, 108384, 108393, 108405, 108479, 108498, 108510, 108529, 108542, 108552, 108560, 108569, 108579, 108589, 108600, 108610, 108620, 108629, 108639, 108649, 108659, 108669, 108684, 108694, 108706, 108715, 108726, 108736, 108749, 108764, 108775, 108785, 108798, 108810, 108820, 108828, 108840, 108849, 108861, 108872, 108882, 108892, 108906, 108924, 108938, 108946, 108956, 108966, 108976, 108986, 108996, 109006, 109016, 109026, 109036, 109048, 109056, 109068, 109082, 109091, 109102, 109113, 109123, 109138, 109150, 109163, 109173, 109184, 109205, 109214, 109223, 109232, 109242, 109261, 109271, 109286, 109296, 109310, 109320, 109329, 109339, 109356, 109366, 109376, 109387, 109397, 109408, 109420, 109430, 109440, 109455, 109469, 109483, 109497, 109507, 109519, 109530, 109542, 109554, 109563, 109572, 109582, 109591, 109619, 109647, 109675, 109685, 109695, 109706, 109718, 109727, 109735, 109745, 109759, 109767, 109833, 109841, 109849, 109858, 109868, 109880, 109895, 109912, 109932, 109945, 109956, 109966, 109979, 109991, 110004, 110015, 110025, 110037, 110049, 110060, 110073, 110087, 110100, 110110, 110120, 110134, 110144, 110153, 110162, 110172, 110187, 110198, 110209, 110225, 110241, 110254, 110264, 110274, 110285, 110296, 110304, 110312, 110320, 110330, 110343, 110353, 110371, 110385, 110399, 110414, 110426, 110436, 110449, 110459, 110469, 110480, 110491, 110502, 110514, 110527, 110539, 110553, 110563, 110575, 110584, 110594, 110606, 110622, 110634, 110645, 110655, 110665, 110678, 110689, 110699, 110711, 110724, 110734, 110744, 110755, 110766, 110775, 110786, 110797, 110806, 110817, 110827, 110837, 110847, 110857, 110868, 110881, 110891, 110901, 110912, 110922, 110934, 110943, 110956, 110966, 110975, 110984, 110995, 111005, 111014, 111023, 111034, 111044, 111054, 111065, 111080, 111091, 111103, 111114, 111124, 111134, 111143, 111166, 111178, 111188, 111208, 111229, 111252, 111275, 111298, 111311, 111322, 111333, 111344, 111358, 111370, 111395, 111420, 111429, 111456, 111465, 111475, 111484, 111493, 111504, 111513, 111524, 111535, 111549, 111562, 111574, 111584, 111597, 111610, 111620, 111629, 111637, 111651, 111661, 111679, 111688, 111698, 111709, 111721, 111735, 111746, 111756, 111768, 111780, 111790, 111801, 111812, 111824, 111835, 111846, 111858, 111874, 111884, 111893, 111903, 111913, 111925, 111934, 111944, 111954, 111964, 111974, 111985, 111996, 112008, 112020, 112031, 112044, 112053, 112062, 112074, 112083, 112093, 112104, 112115, 112130, 112140, 112151, 112161, 112173, 112183, 112191, 112199, 112207, 112220, 112229, 112238, 112248, 112261, 112275, 112285, 112294, 112305, 112315, 112325, 112339, 112353, 112363, 112375, 112386, 112401, 112413, 112422, 112432, 112440, 112450, 112459, 112478, 112488, 112496, 112517, 112527, 112538, 112547, 112556, 112565, 112575, 112585, 112599, 112611, 112621, 112633, 112642, 112651, 112662, 112674, 112684, 112695, 112705, 112715, 112725, 112755, 112766, 112776, 112786, 112797, 112807, 112816, 112826, 112855, 112865, 112874, 112967, 112976, 112984, 112994, 113004, 113017, 113028, 113038, 113049, 113061, 113072, 113083, 113093, 113105, 113116, 113128, 113138, 113153, 113162, 113172, 113182, 113196, 113214, 113231, 113242, 113252, 113345, 113356, 113367, 113377, 113386, 113397, 113407, 113417, 113427, 113436, 113454, 113463, 113480, 113494, 113506, 113516, 113525, 113545, 113554, 113565, 113576, 113585, 113594, 113603, 113612, 113621, 113630, 113640, 113651, 113662, 113674, 113696, 113707, 113721, 113735, 113749, 113759, 113768, 113779, 113790, 113810, 113821, 113832, 113844, 113853, 113863, 113873, 113882, 113893, 113904, 113915, 113926, 113939, 113951, 113964, 113976, 113988, 114007, 114019, 114028, 114039, 114048, 114060, 114071, 114083, 114091, 114105, 114115, 114125, 114138, 114146, 114156, 114167, 114178, 114191, 114201, 114211, 114221, 114231, 114240, 114251, 114261, 114272, 114282, 114292, 114302, 114312, 114322, 114337, 114352, 114362, 114383, 114392, 114406, 114418, 114428, 114438, 114448, 114458, 114471, 114481, 114507, 114534, 114545, 114555, 114565, 114590, 114618, 114628, 114655, 114684, 114693, 114703, 114712, 114722, 114732, 114742, 114773, 114782, 114792, 114803, 114812, 114823, 114840, 114869, 114879, 114889, 114901, 114914, 114925, 114935, 114945, 114956, 114967, 114976, 114987, 114996, 115006, 115017, 115025, 115034, 115042, 115051, 115059, 115074, 115082, 115090, 115098, 115108, 115118, 115129, 115139, 115149, 115159, 115168, 115179, 115191, 115206, 115218, 115232, 115242, 115252, 115262, 115273, 115283, 115294, 115318, 115326, 115338, 115348, 115360, 115371, 115381, 115393, 115403, 115413, 115423, 115432, 115444, 115454, 115469, 115479, 115493, 115516, 115528, 115544, 115553, 115562, 115578, 115588, 115601, 115615, 115625, 115635, 115644, 115654, 115664, 115675, 115690, 115755, 115764, 115773, 115782, 115793, 115803, 115815, 115825, 115839, 115849, 115859, 115869, 115878, 115926, 115974, 115988, 115997, 116007, 116017, 116027, 116037, 116048, 116058, 116078, 116087, 116097, 116107, 116117, 116135, 116144, 116153, 116161, 116170, 116186, 116196, 116209, 116218, 116227, 116240, 116252, 116265, 116278, 116291, 116304, 116317, 116330, 116339, 116352, 116365, 116378, 116391, 116404, 116412, 116424, 116444, 116453, 116465, 116477, 116489, 116498, 116507, 116516, 116535, 116543, 116553, 116565, 116574, 116583, 116592, 116603, 116612, 116622, 116632, 116643, 116652, 116662, 116672, 116680, 116690, 116711, 116720, 116729, 116738, 116747, 116759, 116769, 116781, 116791, 116802, 116813, 116825, 116834, 116845, 116855, 116866, 116876, 116886, 116897, 116908, 116918, 116939, 116950, 116959, 116969, 116980, 116990, 117001, 117011, 117023, 117045, 117056, 117066, 117076, 117086, 117098, 117110, 117120, 117130, 117140, 117151, 117162, 117172, 117182, 117193, 117209, 117219, 117229, 117244, 117254, 117264, 117275, 117285, 117295, 117305, 117315, 117331, 117341, 117351, 117361, 117371, 117381, 117391, 117401, 117411, 117423, 117435, 117447, 117458, 117468, 117477, 117489, 117499, 117538, 117548, 117558, 117566, 117577, 117586, 117596, 117606, 117616, 117639, 117649, 117657, 117669, 117680, 117691, 117711, 117723, 117733, 117743, 117753, 117763, 117800, 117811, 117820, 117832, 117842, 117851, 117860, 117881, 117894, 117905, 117917, 117938, 117953, 117968, 117979, 118242, 118505, 118768, 119031, 119294, 119305, 119315, 119325, 119335, 119347, 119359, 119369, 119381, 119391, 119402, 119412, 119422, 119432, 119443, 119452, 119467, 119476, 119485, 119496, 119508, 119518, 119535, 119553, 119563, 119590, 119601, 119612, 119623, 119643, 119664, 119677, 119692, 119703, 119714, 119725, 119735, 119756, 119776, 119788, 119798, 119808, 119823, 119839, 119847, 119865, 119875, 119888, 119901, 119912, 119923, 119939, 119951, 119965, 119978, 119988, 119999, 120009, 120024, 120034, 120043, 120052, 120070, 120083, 120101, 120121, 120130, 120139, 120156, 120165, 120175, 120185, 120195, 120205, 120215, 120238, 120247, 120257, 120267, 120277, 120287, 120295, 120310, 120323, 120333, 120343, 120353, 120365, 120379, 120389, 120404, 120414, 120424, 120434, 120444, 120453, 120466, 120480, 120500, 120510, 120520, 120533, 120563, 120592, 120621, 120631, 120641, 120651, 120662, 120672, 120682, 120691, 120701, 120715, 120725, 120736, 120746, 120756, 120775, 120804, 120833, 120862, 120891, 120920, 120949, 120958, 120968, 120979, 120989, 120999, 121009, 121020, 121030, 121040, 121052, 121062, 121075, 121086, 121097, 121107, 121117, 121130, 121149, 121160, 121171, 121182, 121193, 121203, 121211, 121222, 121230, 121240, 121250, 121261, 121277, 121303, 121313, 121324, 121334, 121345, 121361, 121373, 121386, 121400, 121428, 121452, 121476, 121486, 121499, 121510, 121521, 121540, 121550, 121568, 121578, 121587, 121597, 121606, 121624, 121647, 121657, 121667, 121677, 121688, 121698, 121709, 121721, 121732, 121742, 121752, 121762, 121771, 121782, 121793, 121802, 121812, 121822, 121832, 121844, 121853, 121863, 121873, 121886, 121895, 121907, 121928, 121937, 121958, 121979, 121991, 122000, 122010, 122020, 122030, 122040, 122052, 122061, 122070, 122082, 122092, 122101, 122111, 122120, 122131, 122140, 122150, 122159, 122168, 122178, 122188, 122208, 122219, 122228, 122238, 122248, 122270, 122279, 122291, 122304, 122314, 122326, 122336, 122346, 122356, 122366, 122376, 122387, 122399, 122412, 122420, 122436, 122450, 122459, 122476, 122493, 122519, 122545, 122554, 122564, 122574, 122594, 122607, 122617, 122637, 122647, 122657, 122703, 122713, 122722, 122733, 122743, 122753, 122764, 122784, 122795, 122811, 122822, 122843, 122853, 122863, 122873, 122883, 122893, 122907, 122918, 122928, 122941, 122951, 122963, 122974, 122983, 123004, 123017, 123026, 123035, 123045, 123055, 123065, 123075, 123084, 123094, 123104, 123113, 123122, 123132, 123142, 123153, 123166, 123177, 123187, 123201, 123217, 123230, 123250, 123259, 123270, 123283, 123296, 123310, 123319, 123329, 123340, 123350, 123359, 123369, 123378, 123405, 123415, 123430, 123440, 123450, 123460, 123470, 123481, 123491, 123502, 123512, 123522, 123532, 123541, 123552, 123561, 123571, 123593, 123602, 123612, 123626, 123638, 123652, 123665, 123676, 123684, 123692, 123700, 123710, 123719, 123730, 123739, 123749, 123760, 123782, 123792, 123802, 123812, 123822, 123838, 123848, 123865, 123875, 123884, 123894, 123904, 123914, 123929, 123949, 123962, 123975, 124036, 124051, 124062, 124089, 124106, 124122, 124132, 124143, 124152, 124167, 124178, 124189, 124198, 124317, 124327, 124343, 124356, 124371, 124387, 124400, 124413, 124426, 124438, 124448, 124495, 124506, 124516, 124527, 124538, 124549, 124559, 124570, 124581, 124592, 124603, 124614, 124625, 124636, 124647, 124658, 124669, 124680, 124691, 124703, 124714, 124724, 124734, 124758, 124769, 124781, 124793, 124803, 124814, 124824, 124834, 124843, 124852, 124863, 124873, 124883, 124896, 124908, 124918, 124928, 124939, 124952, 124966, 124981, 124993, 125004, 125017, 125031, 125043, 125053, 125062, 125071, 125081, 125090, 125100, 125110, 125120, 125130, 125144, 125154, 125166, 125176, 125186, 125197, 125208, 125218, 125234, 125258, 125283, 125299, 125312, 125323, 125338, 125349, 125358, 125368, 125380, 125396, 125407, 125419, 125430, 125440, 125451, 125462, 125474, 125483, 125492, 125506, 125516, 125531, 125541, 125551, 125561, 125574, 125584, 125592, 125604, 125617, 125627, 125637, 125647, 125657, 125671, 125683, 125693, 125706, 125716, 125728, 125740, 125752, 125762, 125776, 125786, 125802, 125813, 125825, 125836, 125846, 125856, 125866, 125878, 125888, 125899, 125909, 125928, 125940, 125950, 125960, 125974, 125984, 125994, 126003, 126012, 126023, 126034, 126044, 126053, 126062, 126071, 126080, 126090, 126104, 126114, 126130, 126142, 126159, 126171, 126189, 126206, 126218, 126234, 126244, 126254, 126263, 126273, 126289, 126304, 126321, 126337, 126347, 126360, 126372, 126384, 126393, 126405, 126417, 126427, 126437, 126455, 126464, 126477, 126500, 126513, 126523, 126533, 126543, 126560, 126570, 126580, 126590, 126601, 126612, 126625, 126637, 126648, 126661, 126672, 126683, 126696, 126709, 126720, 126734, 126748, 126788, 126798, 126812, 126851, 126861, 126875, 126886, 126899, 126912, 126923, 126934, 126945, 126955, 126965, 126975, 126984, 126998, 127009, 127019, 127029, 127047, 127063, 127073, 127083, 127096, 127109, 127119, 127128, 127138, 127185, 127198, 127207, 127216, 127230, 127251, 127276, 127286, 127312, 127329, 127340, 127366, 127376, 127386, 127397, 127408, 127419, 127429, 127439, 127452, 127462, 127471, 127487, 127503, 127513, 127527, 127537, 127554, 127566, 127578, 127588, 127598, 127616, 127629, 127646, 127663, 127675, 127692, 127710, 127728, 127744, 127754, 127763, 127777, 127788, 127805, 127815, 127826, 127836, 127847, 127858, 127868, 127881, 127891, 127901, 127911, 127921, 127933, 127945, 127957, 127971, 127981, 127995, 128005, 128015, 128027, 128037, 128050, 128063, 128076, 128089, 128101, 128112, 128122, 128137, 128147, 128157, 128170, 128183, 128195, 128381, 128390, 128400, 128408, 128417, 128426, 128436, 128446, 128459, 128468, 128477, 128486, 128497, 128507, 128517, 128527, 128536, 128546, 128555, 128568, 128598, 128613, 128623, 128634, 128647, 128656, 128669, 128679, 128689, 128701, 128710, 128718, 128730, 128744, 128758, 128766, 128780, 128790, 128800, 128808, 128817, 128825, 128835, 128844, 128856, 128865, 128878, 128891, 128899, 128914, 128926, 128938, 128951, 128962, 128973, 128986, 128999, 129012, 129021, 129031, 129044, 129054, 129064, 129074, 129085, 129100, 129110, 129119, 129127, 129138, 129152, 129167, 129177, 129190, 129207, 129220, 129231, 129242, 129252, 129262, 129277, 129289, 129302, 129317, 129326, 129341, 129351, 129368, 129379, 129389, 129402, 129412, 129422, 129432, 129441, 129452, 129467, 129480, 129497, 129509, 129519, 129531, 129542, 129553, 129569, 129578, 129590, 129603, 129613, 129623, 129634, 129647, 129658, 129668, 129680, 129691, 129702, 129715, 129728, 129738, 129748, 129763, 129781, 129794, 129820, 129830, 129845, 129855, 129870, 129884, 129895, 129906, 129915, 129927, 129955, 129979, 129990, 130012, 130036, 130047, 130171, 130185, 130198, 130207, 130219, 130342, 130362, 130372, 130496, 130621, 130640, 130659, 130679, 130689, 130701, 130722, 130868, 130889, 130900, 130921, 130942, 130954, 130973, 130983, 130992, 131002, 131013, 131049, 131059, 131095, 131131, 131152, 131162, 131173, 131188, 131199, 131209, 131219, 131229, 131239, 131249, 131259, 131269, 131291, 131313, 131324, 131335, 131345, 131367, 131389, 131411, 131421, 131432, 131442, 131452, 131461, 131473, 131486, 131497, 131509, 131519, 131529, 131539, 131549, 131561, 131573, 131585, 131599, 131611, 131621, 131631, 131642, 131652, 131660, 131688, 131716, 131726, 131855, 131863, 131876, 131885, 131895, 131906, 131919, 131933, 131945, 131958, 131969, 131979, 131989, 132001, 132014, 132024, 132050, 132063, 132073, 132089, 132102, 132111, 132121, 132131, 132141, 132151, 132160, 132170, 132202, 132215, 132227, 132237, 132246, 132275, 132286, 132296, 132307, 132320, 132329, 132339, 132349, 132361, 132371, 132379, 132398, 132414, 132423, 132442, 132453, 132467, 132478, 132489, 132499, 132513, 132524, 132534, 132544, 132554, 132564, 132575, 132585, 132595, 132606, 132633, 132644, 132655, 132666, 132684, 132697, 132709, 132723, 132740, 132752, 132761, 132771, 132782, 132793, 132802, 132827, 132837, 132847, 132859, 132872, 132884, 132895, 132905, 132917, 132929, 132940, 132968, 132978, 132993, 133008, 133019, 133029, 133048, 133080, 133091, 133101, 133112, 133123, 133135, 133144, 133184, 133194, 133204, 133214, 133224, 133239, 133263, 133273, 133284, 133299, 133309, 133319, 133332, 133342, 133356, 133366, 133380, 133390, 133401, 133416, 133431, 133449, 133459, 133469, 133479, 133489, 133511, 133520, 133529, 133551, 133566, 133577, 133599, 133614, 133629, 133644, 133655, 133667, 133677, 133687, 133699, 133761, 133774, 133788, 133809, 133819, 133829, 133843, 133854, 133868, 133880, 133890, 133900, 133910, 133920, 133934, 133946, 133957, 133967, 133975, 133988, 133998, 134039, 134047, 134056, 134066, 134076, 134086, 134099, 134109, 134118, 134129, 134147, 134164, 134177, 134187, 134197, 134208, 134230, 134242, 134252, 134265, 134275, 134284, 134295, 134306, 134317, 134326, 134344, 134355, 134365, 134376, 134387, 134402, 134413, 134423, 134523, 134535, 134546, 134556, 134566, 134576, 134586, 134597, 134610, 134620, 134630, 134640, 134650, 134660, 134670, 134689, 134699, 134710, 134729, 134992, 135255, 135518, 135781, 135791, 135802, 135829, 135839, 135855, 135865, 135875, 135886, 135903, 135914, 135924, 135933, 135945, 135954, 135965, 135978, 135992, 136005, 136019, 136029, 136043, 136053, 136063, 136073, 136088, 136103, 136120, 136128, 136139, 136151, 136162, 136172, 136182, 136200, 136220, 136231, 136250, 136261, 136297, 136333, 136362, 136371, 136383, 136393, 136406, 136416, 136426, 136435, 136444, 136453, 136468, 136479, 136489, 136502, 136514, 136525, 136539, 136549, 136561, 136575, 136586, 136605, 136615, 136625, 136637, 136646, 136656, 136668, 136685, 136696, 136708, 136722, 136736, 136748, 136759, 136771, 136780, 136791, 136801, 136813, 136824, 136836, 136846, 136858, 136869, 136881, 136892, 136903, 136915, 136927, 136939, 136952, 136965, 136978, 136989, 136999, 137010, 137022, 137031, 137043, 137055, 137066, 137076, 137088, 137100, 137110, 137123, 137133, 137143, 137153, 137163, 137177, 137188, 137197, 137208, 137218, 137226, 137243, 137254, 137266, 137278, 137343, 137352, 137362, 137372, 137384, 137396, 137406, 137418, 137428, 137437, 137447, 137457, 137467, 137476, 137486, 137496, 137505, 137521, 137532, 137540, 137554, 137564, 137575, 137602, 137622, 137633, 137643, 137653, 137663, 137674, 137684, 137696, 137708, 137718, 137730, 137741, 137754, 137770, 137780, 137790, 137809, 137837, 137853, 137872, 137882, 137893, 137903, 137929, 137939, 137948, 137958, 137968, 137978, 137988, 137999, 138009, 138021, 138032, 138046, 138056, 138066, 138084, 138102, 138118, 138137, 138150, 138160, 138170, 138180, 138191, 138201, 138212, 138222, 138263, 138273, 138291, 138309, 138318, 138326, 138337, 138350, 138519, 138688, 138698, 138710, 138725, 138741, 138750, 138765, 138777, 138836, 138851, 138874, 138884, 138897, 138905, 138918, 138929, 138945, 138959, 138975, 138988, 138998, 139008, 139018, 139033, 139202, 139218, 139227, 139396, 139412, 139429, 139439, 139454, 139469, 139481, 139495, 139506, 139520, 139537, 139550, 139559, 139569, 139579, 139627, 139637, 139647, 139658, 139669, 139679, 139689, 139699, 139711, 139721, 139741, 139752, 139764, 139799, 139834, 139845, 139856, 139867, 139878, 139900, 139919, 139932, 139943, 139961, 139977, 139991, 140001, 140013, 140029, 140039, 140050, 140060, 140071, 140080, 140092, 140102, 140113, 140125, 140135, 140146, 140177, 140187, 140207, 140218, 140232, 140242, 140254, 140265, 140274, 140289, 140302, 140314, 140323, 140333, 140342, 140352, 140368, 140382, 140394, 140406, 140418, 140430, 140442, 140476, 140487, 140497, 140507, 140517, 140527, 140538, 140553, 140563, 140583, 140592, 140602, 140612, 140621, 140632, 140642, 140653, 140665, 140684, 140694, 140705, 140717, 140727, 140737, 140748, 140757, 140772, 140784, 140796, 140807, 140822, 140837, 140850, 140863, 140872, 140890, 140899, 140910, 140921, 140932, 140949, 140961, 140973, 140984, 140992, 141002, 141024, 141035, 141057, 141075, 141087, 141102, 141112, 141122, 141134, 141152, 141167, 141185, 141198, 141209, 141227, 141238, 141246, 141255, 141264, 141276, 141287, 141297, 141308, 141317, 141329, 141341, 141357, 141369, 141381, 141392, 141408, 141422, 141436, 141448, 141460, 141472, 141481, 141491, 141501, 141514, 141529, 141543, 141557, 141567, 141580, 141592, 141603, 141614, 141633, 141648, 141658, 141669, 141681, 141690, 141701, 141712, 141722, 141732, 141746, 141756, 141776, 141790, 141805, 141818, 141844, 141855, 141865, 141875, 141885, 141903, 141915, 141925, 141948, 141967, 141993, 142016, 142031, 142041, 142057, 142069, 142095, 142112, 142138, 142153, 142175, 142184, 142195, 142205, 142217, 142226, 142236, 142246, 142256, 142267, 142277, 142287, 142301, 142311, 142328, 142339, 142355, 142368, 142378, 142387, 142398, 142415, 142433, 142445, 142458, 142468, 142479, 142495, 142510, 142522, 142533, 142548, 142560, 142573, 142584, 142597, 142609, 142622, 142632, 142643, 142659, 142669, 142680, 142692, 142702, 142712, 142722, 142732, 142742, 142752, 142761, 142771, 142791, 142803, 142813, 142823, 142833, 142843, 142853, 142863, 142873, 142893, 142903, 142913, 142923, 142932, 142942, 142958, 142972, 142986, 142996, 143010, 143020, 143034, 143048, 143065, 143078, 143097, 143117, 143131, 143141, 143169, 143191, 143202, 143213, 143223, 143239, 143248, 143284, 143298, 143315, 143331, 143366, 143376, 143386, 143397, 143409, 143419, 143429, 143442, 143463, 143484, 143498, 143513, 143523, 143534, 143551, 143570, 143582, 143594, 143604, 143614, 143624, 143634, 143644, 143654, 143664, 143676, 143686, 143696, 143706, 143716, 143726, 143736, 143746, 143756, 143765, 143778, 143786, 143796, 143808, 143816, 143824, 143835, 143847, 143858, 143869, 143879, 143891, 143901, 143913, 143921, 143929, 143953, 143964, 143976, 143988, 144000, 144010, 144024, 144034, 144059, 144071, 144084, 144093, 144109, 144130, 144148, 144158, 144174, 144187, 144198, 144211, 144225, 144235, 144247, 144257, 144268, 144278, 144291, 144302, 144315, 144328, 144338, 144351, 144362, 144374, 144382, 144400, 144410, 144428, 144438, 144468, 144478, 144488, 144498, 144508, 144517, 144528, 144538, 144551, 144562, 144582, 144594, 144610, 144619, 144629, 144644, 144656, 144676, 144685, 144695, 144705, 144717, 144737, 144757, 144767, 144776, 144788, 144809, 144824, 144838, 144852, 144867, 144881, 144891, 144902, 144912, 144922, 144932, 144944, 144955, 144966, 144977, 144989, 144999, 145014, 145026, 145123, 145134, 145143, 145153, 145163, 145172, 145181, 145190, 145199, 145212, 145232, 145243, 145253, 145268, 145283, 145295, 145305, 145315, 145327, 145350, 145372, 145395, 145417, 145426, 145441, 145451, 145474, 145485, 145494, 145506, 145515, 145525, 145534, 145547, 145557, 145567, 145581, 145597, 145607, 145616, 145627, 145637, 145648, 145659, 145671, 145683, 145693, 145715, 145725, 145735, 145746, 145757, 145768, 145778, 145788, 145799, 145809, 145821, 145832, 145842, 145859, 145874, 145885, 145894, 145905, 145915, 145925, 145935, 145952, 145964, 145974, 145984, 145994, 146008, 146018, 146028, 146038, 146050, 146061, 146073, 146083, 146093, 146103, 146114, 146124, 146136, 146146, 146157, 146167, 146176, 146188, 146208, 146219, 146230, 146240, 146250, 146260, 146270, 146281, 146292, 146304, 146315, 146329, 146337, 146352, 146363, 146374, 146385, 146395, 146410, 146420, 146435, 146445, 146456, 146465, 146496, 146507, 146518, 146528, 146537, 146548, 146559, 146569, 146580, 146594, 146603, 146612, 146623, 146632, 146642, 146653, 146663, 146678, 146690, 146703, 146714, 146723, 146732, 146745, 146757, 146766, 146777, 146788, 146798, 146810, 146819, 146830, 146840, 146850, 146859, 146869, 146882, 146892, 146901, 146911, 146943, 146953, 146967, 146978, 146987, 146999, 147010, 147021, 147032, 147044, 147054, 147066, 147077, 147087, 147103, 147114, 147125, 147139, 147150, 147161, 147172, 147189, 147200, 147211, 147221, 147231, 147248, 147258, 147268, 147279, 147289, 147299, 147310, 147320, 147330, 147339, 147349, 147359, 147371, 147381, 147391, 147404, 147419, 147431, 147441, 147452, 147468, 147477, 147517, 147527, 147540, 147550, 147561, 147619, 147629, 147641, 147651, 147678, 147695, 147703, 147719, 147729, 147743, 147762, 147776, 147785, 147796, 147804, 147814, 147824, 147834, 147844, 147854, 147864, 147874, 147884, 147894, 147904, 147914, 147929, 147939, 147955, 147965, 147975, 147985, 147995, 148004, 148012, 148022, 148032, 148042, 148052, 148062, 148072, 148082, 148092, 148102, 148112, 148122, 148132, 148142, 148152, 148162, 148172, 148182, 148192, 148202, 148212, 148222, 148232, 148240, 148250, 148261, 148274, 148285, 148299, 148308, 148318, 148328, 148338, 148348, 148358, 148368, 148378, 148388, 148404, 148414, 148424, 148436, 148449, 148459, 148470, 148480, 148489, 148499, 148518, 148527, 148537, 148546, 148579, 148590, 148601, 148610, 148618, 148628, 148637, 148645, 148656, 148669, 148680, 148690, 148698, 148707, 148720, 148785, 148793, 148802, 148811, 148821, 148831, 148844, 148854, 148866, 148876, 148892, 148902, 148917, 148927, 148944, 148954, 148964, 148974, 148984, 148994, 149006, 149018, 149030, 149042, 149054, 149066, 149078, 149090, 149102, 149114, 149126, 149138, 149150, 149162, 149174, 149186, 149198, 149210, 149222, 149234, 149246, 149256, 149268, 149280, 149290, 149299, 149310, 149323, 149345, 149355, 149371, 149381, 149409, 149416, 149427, 149438, 149447, 149463, 149485, 149497, 149506, 149517, 149530, 149539, 149553, 149563, 149572, 149585, 149599, 149609, 149620, 149637, 149653, 149663, 149673, 149690, 149700, 149713, 149726, 149739, 149750, 149761, 149772, 149781, 149794, 149807, 149818, 149829, 149840, 149848, 149859, 149869, 149881, 149892, 149901, 149912, 149922, 149933, 149944, 149955, 149969, 149979, 149994, 150009, 150024, 150040, 150049, 150059, 150070, 150081, 150093, 150106, 150117, 150126, 150136, 150156, 150166, 150176, 150185, 150201, 150211, 150222, 150234, 150251, 150278, 150313, 150323, 150332, 150343, 150354, 150365, 150388, 150401, 150411, 150420, 150431, 150442, 150452, 150461, 150472, 150483, 150495, 150506, 150516, 150530, 150541, 150552, 150561, 150573, 150583, 150593, 150603, 150613, 150623, 150632, 150646, 150658, 150669, 150678, 150689, 150702, 150719, 150729, 150738, 150748, 150760, 150787, 150800, 151061, 151322, 151331, 151592, 151853, 151863, 151872, 151882, 151891, 151902, 151910, 151919, 151929, 151940, 151951, 151961, 151972, 151981, 151994, 152007, 152018, 152027, 152036, 152045, 152057, 152071, 152081, 152091, 152108, 152124, 152140, 152158, 152170, 152181, 152191, 152200, 152303, 152312, 152323, 152336, 152346, 152356, 152367, 152379, 152389, 152399, 152408, 152418, 152521, 152531, 152540, 152551, 152561, 152571, 152582, 152596, 152606, 152616, 152626, 152637, 152648, 152658, 152676, 152686, 152696, 152706, 152718, 152728, 152738, 152748, 152758, 152769, 152781, 152794, 152807, 152818, 152828, 152838, 152848, 152862, 152903, 152914, 152924, 152934, 152946, 152956, 152968, 152988, 153000, 153012, 153023, 153034, 153044, 153053, 153062, 153073, 153084, 153092, 153101, 153111, 153121, 153130, 153140, 153153, 153163, 153174, 153185, 153197, 153204, 153214, 153226, 153237, 153247, 153266, 153276, 153287, 153304, 153315, 153326, 153337, 153347, 153369, 153378, 153390, 153402, 153411, 153421, 153431, 153441, 153452, 153461, 153471, 153510, 153522, 153534, 153545, 153557, 153567, 153576, 153585, 153595, 153606, 153617, 153627, 153637, 153647, 153663, 153674, 153683, 153692, 153702, 153714, 153725, 153757, 153781, 153813, 153823, 153833, 153843, 153852, 153864, 153871, 153882, 153896, 153906, 153916, 153926, 153936, 153946, 153956, 153967, 153978, 153989, 154000, 154010, 154021, 154030, 154039, 154049, 154060, 154073, 154084, 154095, 154107, 154118, 154135, 154145, 154155, 154165, 154175, 154185, 154195, 154204, 154214, 154224, 154234, 154243, 154253, 154263, 154273, 154283, 154293, 154303, 154313, 154323, 154333, 154343, 154353, 154363, 154373, 154383, 154393, 154403, 154413, 154423, 154555, 154565, 154575, 154585, 154595, 154605, 154615, 154629, 154641, 154655, 154669, 154682, 154698, 154711, 154724, 154736, 154748, 154760, 154770, 154780, 154789, 154805, 154820, 154833, 154849, 154859, 154870, 154882, 154895, 154911, 154921, 154932, 154941, 154951, 154960, 154969, 154980, 154994, 155005, 155015, 155027, 155036, 155051, 155062, 155072, 155082, 155093, 155102, 155111, 155122, 155133, 155144, 155156, 155170, 155180, 155191, 155203, 155213, 155223, 155235, 155245, 155259, 155268, 155279, 155312, 155322, 155332, 155342, 155352, 155362, 155373, 155384, 155393, 155405, 155414, 155425, 155439, 155474, 155488, 155497, 155507, 155519, 155530, 155542, 155553, 155573, 155584, 155597, 155613, 155622, 155631, 155646, 155660, 155670, 155681, 155690, 155701, 155714, 155726, 155736, 155746, 155756, 155771, 155780, 155798, 155807, 155817, 155826, 155838, 155847, 155855, 155863, 155874, 155884, 155903, 155919, 155930, 155942, 155951, 155962, 155972, 155982, 155991, 156001, 156011, 156021, 156029, 156038, 156048, 156058, 156068, 156078, 156095, 156105, 156113, 156123, 156132, 156141, 156150, 156159, 156169, 156177, 156186, 156195, 156205, 156215, 156227, 156236, 156247, 156259, 156269, 156280, 156289, 156298, 156308, 156319, 156329, 156337, 156345, 156355, 156367, 156377, 156386, 156399, 156408, 156419, 156430, 156444, 156454, 156465, 156477, 156489, 156501, 156514, 156524, 156534, 156544, 156554, 156564, 156573, 156675, 156686, 156697, 156707, 156718, 156729, 156739, 156750, 156760, 156771, 156782, 156792, 156802, 156811, 156822, 156831, 156841, 156850, 156860, 156869, 156878, 156898, 156908, 156918, 156928, 156938, 156948, 156958, 156969, 156979, 156997, 157008, 157018, 157031, 157043, 157053, 157065, 157075, 157084, 157093, 157105, 157114, 157123, 157133, 157143, 157152, 157164, 157176, 157188, 157200, 157212, 157222, 157231, 157241, 157255, 157267, 157278, 157288, 157300, 157309, 157320, 157332, 157342, 157360, 157387, 157399, 157409, 157437, 157449, 157459, 157472, 157485, 157496, 157506, 157515, 157526, 157536, 157548, 157558, 157569, 157580, 157593, 157602, 157614, 157634, 157644, 157654, 157662, 157673, 157684, 157694, 157805, 157818, 157829, 157838, 157848, 157867, 157878, 157889, 157899, 157910, 157920, 157930, 157940, 157953, 157964, 157973, 157983, 157993, 158007, 158017, 158026, 158034, 158044, 158056, 158067, 158077, 158097, 158116, 158128, 158140, 158159, 158178, 158190, 158209, 158229, 158239, 158251, 158261, 158272, 158289, 158301, 158310, 158321, 158335, 158345, 158357, 158368, 158382, 158393, 158404, 158415, 158433, 158478, 158488, 158499, 158519, 158529, 158563, 158573, 158583, 158594, 158609, 158619, 158629, 158639, 158649, 158660, 158671, 158681, 158691, 158715, 158729, 158753, 158764, 158774, 158784, 158810, 158820, 158829, 158840, 158850, 158859, 158882, 158894, 158905, 158915, 158927, 158936, 158947, 158959, 158969, 158979, 158989, 158998, 159014, 159024, 159034, 159045, 159056, 159068, 159079, 159136, 159148, 159158, 159176, 159188, 159201, 159210, 159221, 159231, 159240, 159297, 159313, 159339, 159347, 159357, 159368, 159379, 159390, 159400, 159412, 159423, 159434, 159444, 159453, 159464, 159474, 159484, 159494, 159504, 159513, 159525, 159534, 159549, 159560, 159569, 159580, 159591, 159602, 159611, 159621, 159634, 159647, 159659, 159671, 159683, 159692, 159702, 159711, 159721, 159732, 159742, 159754, 159765, 159776, 159786, 159801, 159811, 159823, 159833, 159843, 159852, 159861, 159871, 159890, 159905, 159914, 159930, 159948, 159959, 159969, 159980, 159990, 160009, 160020, 160030, 160040, 160054, 160080, 160089, 160102, 160128, 160136, 160147, 160159, 160169, 160179, 160310, 160320, 160330, 160340, 160350, 160361, 160373, 160382, 160394, 160404, 160415, 160425, 160435, 160462, 160474, 160486, 160502, 160512, 160523, 160533, 160543, 160554, 160564, 160577, 160587, 160598, 160612, 160626, 160637, 160650, 160665, 160675, 160685, 160695, 160705, 160715, 160733, 160747, 160764, 160783, 160793, 160802, 160812, 160823, 160833, 160843, 160853, 160862, 160872, 160882, 160892, 160901, 160912, 160928, 160938, 160947, 160957, 160966, 160977, 160988, 160996, 161007, 161017, 161036, 161048, 161059, 161069, 161078, 161088, 161098, 161109, 161120, 161138, 161147, 161157, 161166, 161175, 161187, 161199, 161210, 161246, 161261, 161273, 161285, 161377, 161391, 161402, 161410, 161420, 161430, 161440, 161456, 161465, 161480, 161489, 161501, 161511, 161521, 161530, 161539, 161548, 161557, 161567, 161578, 161606, 161616, 161626, 161636, 161646, 161656, 161664, 161674, 161682, 161693, 161704, 161714, 161724, 161733, 161743, 161753, 161762, 161772, 161784, 161800, 161811, 161821, 161831, 161842, 161851, 161861, 161880, 161888, 161897, 161906, 161917, 161931, 161941, 161952, 161965, 161978, 161987, 161998, 162011, 162027, 162039, 162049, 162061, 162071, 162081, 162091, 162101, 162111, 162121, 162133, 162143, 162153, 162163, 162180, 162189, 162200, 162209, 162219, 162229, 162240, 162255, 162270, 162281, 162291, 162305, 162320, 162330, 162339, 162348, 162359, 162368, 162379, 162388, 162398, 162409, 162419, 162432, 162442, 162452, 162462, 162476, 162486, 162509, 162519, 162529, 162551, 162561, 162578, 162589, 162613, 162626, 162636, 162647, 162658, 162666, 162674, 162689, 162700, 162708, 162721, 162731, 162741, 162751, 162761, 162772, 162782, 162795, 162805, 162818, 162828, 162840, 162851, 162861, 162871, 162882, 162892, 162902, 162912, 162922, 162932, 162942, 162954, 162963, 162974, 162983, 162994, 163005, 163016, 163027, 163038, 163048, 163057, 163068, 163095, 163134, 163147, 163157, 163171, 163183, 163193, 163202, 163219, 163228, 163239, 163253, 163267, 163278, 163288, 163298, 163322, 163333, 163348, 163363, 163373, 163383, 163393, 163402, 163412, 163422, 163432, 163442, 163450, 163472, 163482, 163493, 163494, 163504, 163516, 163538, 163550, 163562, 163574, 163575, 163615, 163628, 163640, 163650, 163662, 163676, 163688, 163700, 163712, 163722, 163732, 163744, 163764, 163776, 163786, 163798, 163806, 163818, 163830, 163842, 163854, 163866, 163876, 163885, 163896, 163907, 163916, 163930, 163941, 163951, 163965, 163994, 164004, 164023, 164036, 164048, 164060, 164071, 164079, 164090, 164104, 164114, 164123, 164132, 164141, 164150, 164160, 164170, 164186, 164196, 164212, 164222, 164234, 164245, 164255, 164265, 164275, 164287, 164298, 164308, 164319, 164335, 164346, 164357, 164366, 164375, 164384, 164395, 164405, 164415, 164425, 164436, 164446, 164455, 164466, 164476, 164489, 164497, 164506, 164519, 164537, 164553, 164562, 164572, 164583, 164601, 164612, 164623, 164635, 164649, 164667, 164677, 164688, 164703, 164712, 164724, 164741, 164751, 164762, 164774, 164791, 164803, 164813, 164824, 164837, 164854, 164864, 164882, 164892, 164910, 164921, 164933, 164943, 164953, 164964, 164973, 164985, 165004, 165014, 165025, 165035, 165045, 165056, 165072, 165084, 165097, 165107, 165163, 165184, 165199, 165215, 165227, 165239, 165255, 165264, 165276, 165286, 165300, 165309, 165323, 165332, 165345, 165358, 165369, 165394, 165449, 165461, 165471, 165480, 165490, 165501, 165514, 165528, 165538, 165550, 165560, 165571, 165582, 165592, 165604, 165614, 165624, 165635, 165647, 165656, 165700, 165746, 165757, 165769, 165779, 165789, 165798, 165812, 165823, 165834, 165844, 165854, 165863, 165872, 165882, 165892, 165992, 166004, 166017, 166029, 166042, 166053, 166063, 166075, 166094, 166106, 166122, 166132, 166142, 166151, 166162, 166171, 166181, 166192, 166203, 166214, 166230, 166239, 166248, 166259, 166270, 166279, 166288, 166298, 166313, 166325, 166336, 166345, 166354, 166363, 166372, 166382, 166391, 166402, 166411, 166424, 166432, 166440, 166450, 166461, 166470, 166481, 166491, 166501, 166517, 166527, 166539, 166549, 166560, 166573, 166583, 166594, 166609, 166618, 166634, 166643, 166655, 166665, 166676, 166689, 166699, 166707, 166717, 166727, 166736, 166745, 166754, 166764, 166781, 166791, 166803, 166815, 166826, 166836, 166848, 166862, 166872, 166882, 166892, 166916, 166927, 166939, 166949, 166998, 167008, 167057, 167087, 167097, 167107, 167118, 167129, 167140, 167151, 167160, 167169, 167178, 167187, 167197, 167207, 167220, 167231, 167243, 167252, 167262, 167285, 167295, 167305, 167319, 167332, 167344, 167357, 167367, 167377, 167387, 167657, 167927, 168197, 168206, 168218, 168229, 168239, 168248, 168259, 168269, 168279, 168290, 168304, 168315, 168325, 168336, 168349, 168362, 168372, 168383, 168393, 168403, 168413, 168423, 168433, 168443, 168454, 168464, 168474, 168484, 168492, 168500, 168509, 168519, 168529, 168537, 168551, 168568, 168580, 168594, 168604, 168614, 168622, 168632, 168646, 168656, 168667, 168678, 168692, 168702, 168712, 168722, 168731, 168744, 168756, 168766, 168776, 168786, 168801, 168811, 168823, 168833, 168843, 168855, 168865, 168876, 168885, 168895, 168907, 168917, 168927, 168937, 168949, 168958, 168968, 168979, 168991, 169006, 169016, 169027, 169037, 169047, 169058, 169068, 169085, 169095, 169105, 169114, 169126, 169135, 169143, 169152, 169161, 169170, 169180, 169192, 169202, 169213, 169221, 169229, 169239, 169249, 169266, 169280, 169295, 169304, 169314, 169322, 169332, 169341, 169350, 169360, 169369, 169379, 169389, 169400, 169410, 169426, 169435, 169446, 169456, 169484, 169512, 169522, 169533, 169545, 169557, 169569, 169579, 169588, 169598, 169607, 169617, 169635, 169644, 169654, 169665, 169678, 169701, 169720, 169734, 169744, 169756, 169770, 169781, 169801, 169823, 169841, 169851, 169860, 169871, 169884, 169894, 169907, 169923, 169937, 169948, 169959, 169970, 169982, 169992, 170002, 170013, 170024, 170036, 170047, 170058, 170069, 170091, 170101, 170112, 170122, 170132, 170143, 170153, 170163, 170173, 170183, 170195, 170207, 170217, 170228, 170331, 170341, 170356, 170367, 170381, 170391, 170406, 170419, 170432, 170445, 170454, 170466, 170478, 170489, 170500, 170517, 170528, 170541, 170554, 170569, 170580, 170592, 170604, 170616, 170625, 170641, 170651, 170661, 170673, 170684, 170695, 170705, 170716, 170732, 170747, 170757, 170775, 170793, 170811, 170822, 170840, 170850, 170860, 170872, 170882, 170893, 170905, 170915, 170927, 170939, 170951, 170995, 171039, 171051, 171063, 171073, 171088, 171099, 171119, 171140, 171152, 171172, 171187, 171197, 171207, 171217, 171232, 171242, 171252, 171262, 171272, 171292, 171313, 171333, 171342, 171352, 171362, 171372, 171381, 171391, 171408, 171418, 171428, 171438, 171448, 171462, 171475, 171485, 171495, 171505, 171515, 171525, 171551, 171561, 171571, 171580, 171592, 171610, 171625, 171635, 171660, 171671, 171682, 171691, 171711, 171731, 171751, 171771, 171782, 171796, 171806, 171821, 171832, 171879, 171895, 171905, 171915, 171936, 171957, 171967, 171978, 171987, 171997, 172006, 172015, 172026, 172037, 172061, 172072, 172101, 172112, 172121, 172145, 172155, 172175, 172200, 172217, 172232, 172242, 172262, 172280, 172289, 172302, 172314, 172325, 172337, 172346, 172362, 172383, 172404, 172415, 172426, 172443, 172467, 172485, 172496, 172513, 172526, 172554, 172576, 172594, 172611, 172622, 172634, 172644, 172655, 172665, 172687, 172701, 172711, 172722, 172730, 172749, 172760, 172770, 172781, 172811, 172823, 172832, 172846, 172856, 172868, 172878, 172892, 172909, 172929, 172939, 172950, 172960, 172970, 172980, 172990, 173004, 173015, 173026, 173037, 173048, 173058, 173070, 173079, 173090, 173100, 173110, 173140, 173150, 173160, 173170, 173180, 173192, 173202, 173214, 173224, 173254, 173267, 173295, 173308, 173321, 173331, 173342, 173352, 173362, 173389, 173404, 173419, 173435, 173444, 173460, 173470, 173479, 173491, 173507, 173523, 173542, 173560, 173570, 173589, 173603, 173623, 173637, 173646, 173664, 173676, 173686, 173695, 173729, 173740, 173750, 173763, 173773, 173783, 173792, 173805, 173815, 173826, 173842, 173852, 173867, 173878, 173888, 173899, 173910, 173928, 173939, 173950, 173961, 173970, 174009, 174018, 174028, 174056, 174087, 174103, 174137, 174164, 174193, 174229, 174239, 174249, 174261, 174271, 174281, 174293, 174303, 174321, 174331, 174345, 174355, 174365, 174375, 174385, 174395, 174405, 174416, 174427, 174439, 174452, 174466, 174477, 174497, 174506, 174529, 174552, 174564, 174587, 174597, 174612, 174621, 174634, 174662, 174672, 174693, 174734, 174743, 174772, 174809, 174831, 174854, 174865, 174888, 174911, 174933, 174944, 174961, 174970, 174980, 174990, 175000, 175010, 175020, 175030, 175043, 175053, 175063, 175076, 175088, 175100, 175110, 175124, 175146, 175160, 175180, 175194, 175205, 175217, 175228, 175236, 175258, 175268, 175290, 175302, 175315, 175327, 175339, 175352, 175369, 175386, 175403, 175417, 175428, 175440, 175451, 175462, 175473, 175486, 175499, 175509, 175518, 175527, 175538, 175547, 175556, 175570, 175584, 175678, 175693, 175707, 175717, 175727, 175738, 175766, 175792, 175803, 175815, 175828, 175855, 175866, 175963, 175976, 175992, 176002, 176012, 176027, 176037, 176048, 176058, 176069, 176079, 176090, 176100, 176110, 176119, 176129, 176138, 176190, 176203, 176215, 176225, 176234, 176244, 176254, 176264, 176275, 176289, 176299, 176313, 176323, 176335, 176344, 176353, 176366, 176377, 176388, 176400, 176411, 176421, 176432, 176484, 176494, 176504, 176514, 176541, 176551, 176561, 176571, 176603, 176615, 176626, 176656, 176666, 176676, 176687, 176699, 176710, 176720, 176730, 176741, 176751, 176761, 176773, 176787, 176800, 176813, 176825, 176838, 176852, 176867, 176879, 176890, 176929, 176967, 177006, 177018, 177030, 177039, 177049, 177061, 177070, 177082, 177092, 177106, 177117, 177125, 177140, 177153, 177166, 177181, 177194, 177208, 177221, 177234, 177244, 177256, 177270, 177283, 177304, 177314, 177326, 177336, 177346, 177361, 177374, 177384, 177394, 177437, 177447, 177457, 177467, 177477, 177487, 177500, 177512, 177522, 177532, 177542, 177555, 177565, 177579, 177589, 177601, 177613, 177624, 177634, 177645, 177658, 177673, 177688, 177699, 177719, 177731, 177741, 177751, 177761, 177774, 177796, 177811, 177821, 177832, 177842, 177852, 177862, 177878, 177888, 177899, 177912, 177922, 177932, 177944, 177954, 177964, 177974, 177984, 177994, 178005, 178016, 178027, 178037, 178048, 178059, 178070, 178081, 178091, 178101, 178111, 178124, 178134, 178144, 178170, 178182, 178193, 178204, 178214, 178237, 178247, 178276, 178286, 178296, 178306, 178316, 178327, 178338, 178347, 178358, 178368, 178379, 178389, 178398, 178409, 178420, 178431, 178443, 178459, 178474, 178485, 178495, 178514, 178531, 178544, 178556, 178572, 178583, 178596, 178610, 178625, 178639, 178654, 178664, 178674, 178683, 178692, 178702, 178711, 178721, 178731, 178745, 178773, 178788, 178804, 178818, 178828, 178845, 178856, 178872, 178882, 178892, 178902, 178911, 178923, 178944, 178953, 178972, 178991, 179005, 179015, 179025, 179036, 179051, 179061, 179073, 179091, 179101, 179111, 179122, 179131, 179144, 179159, 179174, 179187, 179197, 179208, 179217, 179227, 179239, 179249, 179261, 179278, 179288, 179298, 179352, 179365, 179376, 179389, 179398, 179411, 179435, 179445, 179488, 179506, 179518, 179528, 179543, 179553, 179567, 179582, 179634, 179651, 179687, 179708, 179716, 179726, 179736, 179746, 179757, 179811, 179821, 179835, 179850, 179860, 179871, 179882, 179893, 179905, 179915, 179926, 179938, 179947, 179957, 179967, 179978, 179991, 180004, 180016, 180027, 180038, 180049, 180059, 180069, 180082, 180092, 180103, 180114, 180125, 180137, 180147, 180159, 180170, 180180, 180190, 180209, 180226, 180247, 180260, 180272, 180284, 180294, 180304, 180315, 180328, 180341, 180353, 180363, 180373, 180385, 180395, 180406, 180430, 180441, 180454, 180466, 180477, 180501, 180513, 180537, 180547, 180559, 180569, 180579, 180590, 180600, 180610, 180620, 180630, 180640, 180650, 180660, 180686, 180696, 180708, 180718, 180729, 180740, 180750, 180762, 180772, 180782, 180792, 180802, 180812, 180822, 180843, 180853, 180863, 180873, 180883, 180894, 180905, 180915, 180925, 180936, 180947, 180956, 180973, 180984, 180995, 181005, 181018, 181031, 181048, 181058, 181081, 181096, 181113, 181129, 181144, 181157, 181167, 181177, 181188, 181200, 181233, 181267, 181277, 181310, 181329, 181343, 181351, 181363, 181393, 181403, 181415, 181425, 181436, 181447, 181457, 181481, 181492, 181504, 181516, 181528, 181540, 181551, 181561, 181571, 181736, 181748, 181774, 181789, 181799, 181810, 181820, 181833, 181846, 181856, 181872, 181886, 181897, 181910, 181923, 181932, 181942, 181953, 181963, 181973, 181984, 182000, 182009, 182018, 182034, 182051, 182061, 182072, 182083, 182104, 182114, 182124, 182135, 182144, 182156, 182166, 182179, 182191, 182201, 182222, 182232, 182243, 182256, 182266, 182278, 182287, 182298, 182308, 182318, 182328, 182342, 182352, 182361, 182371, 182380, 182400, 182414, 182428, 182440, 182452, 182481, 182510, 182539, 182559, 182588, 182613, 182625, 182634, 182649, 182662, 182675, 182682, 182698, 182715, 182726, 182736, 182745, 182754, 182766, 182776, 182786, 182799, 182810, 182819, 182833, 182885, 182901, 182917, 182929, 182952, 183000, 183012, 183024, 183037, 183046, 183055, 183065, 183075, 183084, 183095, 183107, 183125, 183137, 183170, 183202, 183214, 183225, 183249, 183261, 183272, 183283, 183301, 183313, 183325, 183335, 183347, 183356, 183373, 183387, 183399, 183413, 183424, 183435, 183445, 183455, 183465, 183479, 183491, 183503, 183517, 183530, 183539, 183548, 183598, 183609, 183621, 183636, 183647, 183677, 183687, 183697, 183710, 183719, 183729, 183738, 183748, 183761, 183776, 183792, 183803, 183815, 183826, 183842, 183919, 183933, 183956, 183979, 183989, 184011, 184021, 184045, 184055, 184075, 184090, 184125, 184136, 184146, 184157, 184168, 184178, 184189, 184224, 184234, 184247, 184260, 184282, 184291, 184303, 184315, 184334, 184349, 184374, 184384, 184394, 184413, 184432, 184442, 184452, 184462, 184483, 184502, 184511, 184526, 184539, 184553, 184568, 184577, 184589, 184604, 184616, 184631, 184648, 184661, 184703, 184711, 184722, 184735, 184746, 184759, 184771, 184790, 184810, 184830, 184842, 184856, 184873, 184888, 184903, 184917, 184935, 184949, 184962, 184972, 184994, 185014, 185022, 185042, 185056, 185080, 185090, 185104, 185115, 185125, 185135, 185146, 185157, 185176, 185186, 185196, 185208, 185218, 185228, 185239, 185250, 185261, 185272, 185288, 185298, 185309, 185321, 185333, 185343, 185354, 185364, 185375, 185386, 185398, 185409, 185420, 185439, 185450, 185469, 185480, 185493, 185503, 185513, 185523, 185534, 185544, 185555, 185564, 185576, 185603, 185614, 185624, 185636, 185649, 185661, 185673, 185682, 185692, 185702, 185742, 185752, 185765, 185776, 185796, 185811, 185824, 185836, 185849, 185879, 185908, 185923, 185938, 185949, 185959, 185970, 185979, 185989, 186000, 186010, 186028, 186047, 186060, 186082, 186102, 186121, 186135, 186144, 186154, 186165, 186176, 186186, 186196, 186207, 186217, 186228, 186239, 186250, 186259, 186269, 186280, 186291, 186303, 186314, 186324, 186337, 186347, 186357, 186368, 186382, 186395, 186412, 186422, 186433, 186450, 186460, 186470, 186480, 186490, 186504, 186514, 186526, 186539, 186552, 186563, 186574, 186585, 186607, 186618, 186667, 186682, 186692, 186705, 186717, 186734, 186745, 186756, 186766, 186788, 186806, 186823, 186841, 186859, 186870, 186891, 186909, 186921, 186970, 186980, 186998, 187007, 187017, 187027, 187045, 187067, 187097, 187110, 187120, 187132, 187144, 187156, 187166, 187176, 187185, 187195, 187204, 187213, 187224, 187240, 187250, 187260, 187272, 187283, 187297, 187311, 187324, 187338, 187350, 187360, 187373, 187386, 187399, 187410, 187421, 187515, 187609, 187703, 187797, 187891, 187985, 188079, 188173, 188185, 188196, 188211, 188223, 188234, 188244, 188259, 188287, 188300, 188328, 188356, 188369, 188380, 188390, 188400, 188410, 188424, 188438, 188450, 188459, 188468, 188477, 188486, 188500, 188510, 188520, 188529, 188539, 188550, 188561, 188571, 188581, 188591, 188600, 188611, 188622, 188634, 188645, 188655, 188663, 188677, 188689, 188699, 188710, 188720, 188729, 188738, 188749, 188760, 188772, 188785, 188797, 188807, 188822, 188838, 188853, 188862, 188878, 188888, 188897, 188908, 188919, 188928, 188937, 188946, 188960, 188970, 188980, 188990, 189001, 189018, 189028, 189039, 189049, 189058, 189068, 189077, 189086, 189094, 189101, 189111, 189120, 189135, 189148, 189159, 189170, 189180, 189190, 189202, 189212, 189222, 189232, 189242, 189252, 189261, 189330, 189340, 189350, 189360, 189370, 189380, 189390, 189409, 189419, 189429, 189441, 189452, 189463, 189472, 189481, 189492, 189502, 189521, 189537, 189547, 189559, 189575, 189594, 189605, 189616, 189626, 189636, 189648, 189664, 189680, 189689, 189700, 189711, 189722, 189731, 189764, 189774, 189785, 189795, 189804, 189814, 189823, 189832, 189846, 189858, 189871, 189880, 189892, 189901, 189913, 189923, 189933, 189943, 189956, 189969, 190002, 190011, 190044, 190054, 190068, 190081, 190153, 190162, 190172, 190182, 190192, 190204, 190214, 190227, 190238, 190248, 190262, 190270, 190278, 190291, 190299, 190312, 190320, 190330, 190339, 190370, 190382, 190397, 190411, 190425, 190442, 190457, 190467, 190482, 190493, 190503, 190513, 190525, 190572, 190580, 190590, 190599, 190611, 190630, 190640, 190717, 190726, 190737, 190760, 190771, 190802, 190812, 190821, 190831, 190840, 190850, 190862, 190872, 190881, 190892, 190902, 190911, 190933, 190948, 190964, 190976, 190986, 190997, 191007, 191021, 191031, 191041, 191051, 191069, 191087, 191100, 191119, 191130, 191166, 191175, 191184, 191193, 191202, 191213, 191232, 191244, 191259, 191266, 191276, 191290, 191300, 191336, 191371, 191384, 191402, 191412, 191447, 191458, 191494, 191506, 191542, 191554, 191565, 191575, 191586, 191598, 191609, 191618, 191627, 191654, 191671, 191688, 191724, 191734, 191742, 191759, 191776, 191788, 191799, 191809, 191817, 191827, 191836, 191846, 191854, 191866, 191878, 191890, 191900, 191910, 191920, 191930, 191941, 191954, 191968, 191978, 191989, 192000, 192010, 192022, 192033, 192043, 192055, 192067, 192078, 192091, 192103, 192116, 192127, 192139, 192152, 192164, 192180, 192190, 192202, 192214, 192227, 192239, 192252, 192261, 192273, 192289, 192298, 192314, 192324, 192340, 192355, 192365, 192375, 192392, 192405, 192416, 192428, 192439, 192449, 192459, 192471, 192482, 192493, 192503, 192517, 192528, 192537, 192551, 192562, 192573, 192589, 192600, 192614, 192624, 192633, 192648, 192659, 192676, 192688, 192705, 192714, 192724, 192734, 192743, 192753, 192763, 192772, 192782, 192791, 192800, 192809, 192818, 192827, 192836, 192845, 192854, 192863, 192878, 192890, 192902, 192919, 192929, 192939, 192949, 192959, 192971, 192990, 192998, 193008, 193027, 193046, 193055, 193066, 193080, 193091, 193122, 193131, 193142, 193150, 193169, 193178, 193187, 193197, 193205, 193215, 193224, 193234, 193243, 193253, 193264, 193274, 193282, 193293, 193304, 193315, 193325, 193336, 193429, 193444, 193455, 193486, 193495, 193515, 193525, 193534, 193542, 193551, 193560, 193569, 193580, 193590, 193599, 193611, 193621, 193631, 193640, 193652, 193662, 193671, 193684, 193696, 193707, 193716, 193729, 193738, 193755, 193767, 193777, 193787, 193802, 193814, 193829, 193839, 193849, 193864, 193874, 193894, 193903, 193920, 193929, 193944, 193953, 193970, 193980, 193997, 194006, 194015, 194027, 194036, 194045, 194054, 194072, 194081, 194091, 194102, 194112, 194125, 194135, 194149, 194159, 194169, 194180, 194191, 194230, 194239, 194249, 194258, 194268, 194277, 194286, 194295, 194304, 194315, 194325, 194336, 194349, 194364, 194375, 194387, 194398, 194410, 194422, 194434, 194446, 194464, 194477, 194487, 194501, 194512, 194523, 194534, 194544, 194555, 194565, 194576, 194587, 194595, 194603, 194620, 194628, 194637, 194648, 194658, 194668, 194685, 194695, 194709, 194720, 194731, 194741, 194755, 194766, 194777, 194788, 194797, 194808, 194819, 194828, 194837, 194846, 194856, 194866, 194878, 194889, 194918, 194954, 194967, 194977, 194987, 194999, 195010, 195021, 195049, 195071, 195083, 195093, 195103, 195115, 195127, 195140, 195152, 195164, 195177, 195192, 195207, 195223, 195233, 195243, 195255, 195263, 195275, 195288, 195301, 195313, 195323, 195333, 195349, 195363, 195376, 195387, 195397, 195413, 195422, 195431, 195444, 195453, 195466, 195478, 195520, 195530, 195572, 195581, 195596, 195605, 195615, 195625, 195635, 195646, 195655, 195670, 195679, 195689, 195706, 195716, 195728, 195738, 195748, 195758, 195767, 195779, 195790, 195799, 195808, 195818, 195828, 195838, 195851, 195867, 195877, 195891, 195899, 195912, 195922, 195933, 195949, 195959, 195972, 195982, 195991, 196004, 196015, 196027, 196037, 196048, 196061, 196076, 196090, 196103, 196114, 196123, 196136, 196147, 196160, 196170, 196181, 196192, 196202, 196215, 196230, 196240, 196250, 196270, 196315, 196325, 196366, 196374, 196383, 196400, 196410, 196509, 196519, 196530, 196540, 196550, 196559, 196570, 196579, 196591, 196601, 196612, 196622, 196631, 196642, 196651, 196661, 196675, 196690, 196702, 196713, 196724, 196735, 196747, 196757, 196767, 196778, 196790, 196798, 196812, 196826, 196836, 196847, 196857, 196867, 196877, 196886, 196897, 196906, 196915, 196926, 196940, 196950, 196960, 196971, 196982, 196993, 197003, 197012, 197023, 197034, 197043, 197052, 197064, 197075, 197086, 197098, 197113, 197128, 197139, 197153, 197164, 197176, 197187, 197195, 197209, 197219, 197229, 197239, 197248, 197257, 197266, 197275, 197284, 197293, 197308, 197319, 197330, 197342, 197351, 197367, 197375, 197386, 197393, 197404, 197414, 197431, 197448, 197458, 197473, 197485, 197499, 197509, 197519, 197533, 197544, 197572, 197584, 197594, 197609, 197625, 197639, 197652, 197663, 197676, 197687, 197697, 197708, 197718, 197729, 197738, 197750, 197762, 197774, 197782, 197790, 197798, 197807, 197816, 197826, 197836, 197848, 197861, 197871, 197881, 197891, 197901, 197911, 197921, 197931, 197941, 197951, 197964, 197979, 197988, 197998, 198008, 198021, 198031, 198040, 198050, 198059, 198069, 198079, 198089, 198104, 198114, 198124, 198134, 198146, 198158, 198168, 198180, 198192, 198203, 198214, 198226, 198236, 198258, 198268, 198279, 198292, 198302, 198311, 198322, 198332, 198342, 198353, 198363, 198374, 198385, 198397, 198409, 198421, 198433, 198443, 198454, 198465, 198476, 198487, 198500, 198514, 198523, 198537, 198546, 198558, 198570, 198581, 198592, 198603, 198614, 198625, 198635, 198646, 198657, 198668, 198678, 198691, 198699, 198712, 198721, 198731, 198740, 198750, 198760, 198770, 198780, 198790, 198800, 198810, 198820, 198829, 198841, 198850, 198860, 198869, 198880, 198891, 198901, 198911, 198922, 198932, 198942, 198957, 198969, 199022, 199077, 199135, 199144, 199153, 199162, 199173, 199185, 199195, 199211, 199222, 199232, 199241, 199258, 199276, 199285, 199296, 199306, 199315, 199324, 199335, 199345, 199354, 199363, 199372, 199381, 199390, 199400, 199410, 199420, 199432, 199443, 199453, 199464, 199474, 199485, 199495, 199503, 199514, 199538, 199549, 199561, 199574, 199586, 199596, 199607, 199617, 199628, 199639, 199648, 199658, 199667, 199675, 199684, 199694, 199704, 199716, 199726, 199737, 199746, 199756, 199768, 199781, 199793, 199805, 199816, 199828, 199837, 199849, 199860, 199879, 199888, 199902, 199923, 199944, 199965, 199984, 199993, 200003, 200012, 200022, 200033, 200048, 200059, 200073, 200088, 200120, 200132, 200144, 200156, 200167, 200180, 200192, 200203, 200214, 200224, 200233, 200250, 200269, 200287, 200305, 200316, 200325, 200336, 200347, 200357, 200368, 200380, 200391, 200405, 200414, 200423, 200433, 200442, 200452, 200462, 200471, 200480, 200491, 200501, 200514, 200526, 200536, 200548, 200558, 200568, 200578, 200587, 200599, 200609, 200620, 200630, 200640, 200650, 200666, 200676, 200686, 200698, 200712, 200726, 200735, 200758, 200767, 200778, 200788, 200796, 200810, 200829, 200840, 200849, 200858, 200869, 200878, 200889, 200902, 200912, 200926, 200937, 200948, 200962, 200973, 201007, 201016, 201031, 201041, 201050, 201059, 201075, 201083, 201093, 201128, 201138, 201147, 201156, 201164, 201176, 201199, 201222, 201245, 201255, 201278, 201301, 201324, 201347, 201370, 201380, 201403, 201426, 201435, 201446, 201455, 201464, 201475, 201484, 201493, 201503, 201512, 201522, 201531, 201540, 201550, 201559, 201568, 201577, 201586, 201596, 201606, 201616, 201626, 201672, 201718, 201729, 201738, 201747, 201757, 201767, 201779, 201790, 201800, 201811, 201821, 201867, 201913, 201959, 202005, 202051, 202101, 202111, 202121, 202131, 202143, 202153, 202164, 202176, 202187, 202200, 202210, 202220, 202233, 202250, 202260, 202271, 202291, 202302, 202313, 202323, 202334, 202345, 202356, 202367, 202388, 202409, 202420, 202431, 202443, 202454, 202465, 202476, 202487, 202498, 202509, 202520, 202531, 202549, 202562, 202571, 202581, 202603, 202613, 202624, 202634, 202644, 202653, 202666, 202677, 202688, 202700, 202710, 202720, 202730, 202740, 202757, 202769, 202784, 202795, 202805, 202814, 202826, 202836, 202846, 202856, 202868, 202879, 202890, 202902, 202912, 202922, 202931, 202942, 202952, 202961, 202973, 202984, 202994, 203005, 203017, 203033, 203043, 203054, 203065, 203075, 203085, 203096, 203106, 203118, 203129, 203139, 203153, 203166, 203175, 203185, 203196, 203205, 203215, 203225, 203234, 203244, 203263, 203278, 203293, 203304, 203315, 203323, 203332, 203343, 203353, 203363, 203376, 203387, 203406, 203415, 203424, 203433, 203445, 203456, 203469, 203480, 203491, 203502, 203514, 203524, 203534, 203544, 203555, 203565, 203580, 203590, 203600, 203610, 203619, 203630, 203641, 203651, 203666, 203676, 203687, 203698, 203714, 203728, 203738, 203749, 203884, 203893, 203904, 203918, 203928, 203937, 203946, 203958, 203968, 203979, 203989, 204000, 204012, 204021, 204035, 204045, 204053, 204063, 204073, 204082, 204091, 204100, 204110, 204120, 204132, 204142, 204151, 204160, 204171, 204180, 204191, 204200, 204213, 204223, 204233, 204246, 204258, 204268, 204278, 204286, 204295, 204304, 204313, 204322, 204332, 204346, 204356, 204373, 204388, 204399, 204412, 204427, 204438, 204454, 204506, 204517, 204577, 204599, 204609, 204642, 204652, 204662, 204672, 204680, 204690, 204700, 204710, 204722, 204734, 204744, 204755, 204767, 204777, 204789, 204797, 204808, 204822, 204832, 204842, 204856, 204872, 204883, 204892, 204906, 204916, 204951, 204959, 204970, 204979, 204988, 204997, 205008, 205021, 205032, 205043, 205052, 205062, 205081, 205091, 205100, 205112, 205129, 205142, 205152, 205162, 205172, 205183, 205193, 205205, 205217, 205226, 205236, 205249, 205261, 205273, 205283, 205293, 205304, 205313, 205323, 205333, 205344, 205353, 205362, 205372, 205384, 205398, 205411, 205424, 205433, 205442, 205455, 205468, 205480, 205489, 205504, 205536, 205568, 205580, 205589, 205609, 205620, 205631, 205644, 205654, 205664, 205819, 205830, 205841, 205850, 205859, 205869, 205880, 205890, 205901, 205912, 205922, 205933, 205944, 205955, 205966, 205976, 205986, 205994, 206003, 206011, 206022, 206036, 206048, 206058, 206069, 206081, 206101, 206121, 206131, 206142, 206152, 206162, 206171, 206180, 206200, 206219, 206239, 206258, 206272, 206284, 206296, 206304, 206323, 206332, 206355, 206366, 206377, 206388, 206398, 206408, 206426, 206434, 206695, 206956, 207217, 207478, 207487, 207495, 207506, 207518, 207528, 207543, 207552, 207570, 207581, 207593, 207605, 207615, 207627, 207637, 207647, 207657, 207714, 207772, 207832, 207841, 207861, 207876, 207900, 207910, 207925, 207936, 207948, 207965, 207974, 207983, 207994, 208003, 208013, 208023, 208033, 208043, 208053, 208066, 208079, 208094, 208104, 208112, 208121, 208133, 208144, 208159, 208169, 208183, 208194, 208209, 208220, 208230, 208239, 208248, 208261, 208274, 208284, 208294, 208304, 208314, 208325, 208335, 208346, 208365, 208377, 208392, 208401, 208410, 208436, 208446, 208457, 208467, 208477, 208490, 208503, 208513, 208526, 208536, 208546, 208561, 208570, 208585, 208600, 208615, 208624, 208635, 208655, 208665, 208676, 208687, 208697, 208708, 208718, 208729, 208740, 208750, 208761, 208772, 208782, 208791, 208803, 208815, 208824, 208838, 208851, 208861, 208871, 208882, 208893, 208903, 208912, 208923, 208932, 208941, 208951, 208962, 208973, 208985, 208996, 209005, 209015, 209026, 209036, 209045, 209058, 209067, 209079, 209089, 209099, 209109, 209119, 209129, 209165, 209175, 209185, 209195, 209204, 209214, 209226, 209236, 209248, 209258, 209267, 209277, 209288, 209308, 209317, 209334, 209343, 209352, 209361, 209370, 209379, 209389, 209397, 209409, 209419, 209429, 209439, 209449, 209459, 209520, 209530, 209540, 209550, 209560, 209570, 209581, 209591, 209603, 209613, 209623, 209633, 209643, 209652, 209661, 209669, 209680, 209691, 209702, 209712, 209721, 209730, 209739, 209748, 209760, 209769, 209778, 209788, 209797, 209806, 209816, 209825, 209835, 209845, 209855, 209864, 209873, 209882, 209893, 209902, 209911, 209921, 209934, 209944, 209954, 209964, 209974, 209984, 209994, 210002, 210011, 210020, 210028, 210040, 210052, 210064, 210074, 210083, 210093, 210102, 210111, 210120, 210135, 210144, 210153, 210169, 210181, 210200, 210218, 210229, 210239, 210257, 210269, 210279, 210289, 210299, 210309, 210319, 210329, 210338, 210363, 210373, 210382, 210400, 210410, 210422, 210443, 210453, 210465, 210478, 210489, 210503, 210513, 210522, 210540, 210564, 210576, 210585, 210608, 210635, 210646, 210656, 210668, 210678, 210694, 210705, 210714, 210723, 210732, 210742, 210753, 210762, 210771, 210780, 210789, 210798, 210807, 210818, 210828, 210845, 210856, 210870, 210886, 210898, 210908, 210918, 210928, 210944, 210960, 210972, 210984, 210993, 211015, 211025, 211034, 211043, 211052, 211061, 211070, 211080, 211090, 211100, 211111, 211123, 211139, 211158, 211171, 211186, 211197, 211207, 211218, 211228, 211237, 211252, 211266, 211275, 211289, 211305, 211315, 211328, 211337, 211345, 211353, 211362, 211372, 211381, 211390, 211400, 211410, 211421, 211431, 211441, 211451, 211461, 211474, 211484, 211494, 211508, 211526, 211536, 211550, 211561, 211576, 211585, 211596, 211607, 211617, 211626, 211640, 211651, 211662, 211672, 211688, 211698, 211707, 211725, 211739, 211751, 211760, 211770, 211778, 211786, 211797, 211806, 211816, 211828, 211838, 211847, 211863, 211874, 211884, 211896, 211907, 211919, 211929, 211939, 211953, 211964, 211974, 211991, 212001, 212027, 212038, 212048, 212058, 212076, 212103, 212131, 212141, 212150, 212168, 212177, 212187, 212205, 212222, 212244, 212254, 212264, 212274, 212282, 212292, 212302, 212331, 212359, 212375, 212385, 212399, 212409, 212419, 212433, 212446, 212455, 212467, 212478, 212487, 212497, 212506, 212516, 212525, 212534, 212544, 212554, 212564, 212575, 212585, 212595, 212607, 212616, 212631, 212642, 212658, 212669, 212680, 212690, 212705, 212715, 212727, 212740, 212753, 212771, 212787, 212799, 212810, 212823, 212834, 212844, 212855, 212865, 212876, 212886, 212899, 212914, 212927, 212940, 212950, 212960, 212972, 212982, 212994, 213006, 213017, 213030, 213041, 213051, 213069, 213078, 213088, 213118, 213129, 213139, 213150, 213161, 213171, 213184, 213196, 213206, 213217, 213230, 213242, 213255, 213280, 213301, 213324, 213337, 213349, 213359, 213372, 213386, 213396, 213411, 213427, 213437, 213455, 213465, 213477, 213487, 213497, 213519, 213533, 213545, 213555, 213577, 213588, 213598, 213615, 213624, 213639, 213650, 213667, 213681, 213697, 213709, 213720, 213731, 213745, 213758, 213768, 213779, 213789, 213801, 213812, 213822, 213833, 213853, 213863, 213873, 213882, 213892, 213906, 213916, 213931, 213944, 213954, 213966, 213976, 213986, 213996, 214006, 214016, 214026, 214036, 214047, 214058, 214068, 214079, 214090, 214102, 214123, 214133, 214143, 214155, 214167, 214178, 214189, 214199, 214212, 214223, 214279, 214289, 214302, 214312, 214325, 214335, 214349, 214360, 214373, 214384, 214395, 214409, 214419, 214430, 214711, 214992, 215273, 215283, 215293, 215303, 215314, 215325, 215336, 215346, 215358, 215368, 215388, 215404, 215414, 215433, 215452, 215466, 215476, 215486, 215496, 215506, 215516, 215528, 215539, 215549, 215560, 215569, 215579, 215589, 215599, 215612, 215622, 215632, 215643, 215654, 215664, 215677, 215688, 215700, 215710, 215722, 215734, 215744, 215756, 215768, 215778, 215788, 215801, 215813, 215823, 215833, 215894, 215908, 215920, 215930, 215946, 215961, 215971, 216052, 216061, 216074, 216090, 216115, 216150, 216160, 216171, 216183, 216195, 216205, 216215, 216225, 216239, 216253, 216264, 216274, 216284, 216294, 216376, 216391, 216402, 216411, 216421, 216431, 216488, 216502, 216514, 216524, 216541, 216551, 216561, 216576, 216586, 216599, 216610, 216620, 216630, 216643, 216653, 216664, 216676, 216687, 216697, 216709, 216724, 216736, 216747, 216758, 216769, 216780, 216792, 216802, 216818, 216829, 216844, 216854, 216865, 216875, 216891, 216902, 216913, 216923, 216933, 216942, 216952, 216964, 216979, 216989, 217000, 217011, 217021, 217033, 217047, 217057, 217068, 217078, 217088, 217098, 217108, 217118, 217130, 217141, 217152, 217162, 217172, 217184, 217194, 217205, 217216, 217227, 217253, 217265, 217308, 217323, 217333, 217345, 217355, 217371, 217381, 217394, 217409, 217420, 217431, 217443, 217453, 217462, 217472, 217482, 217495, 217515, 217535, 217555, 217565, 217577, 217592, 217602, 217612, 217622, 217635, 217645, 217657, 217668, 217679, 217689, 217699, 217709, 217719, 217731, 217744, 217754, 217765, 217788, 217798, 217808, 217820, 217830, 217839, 217849, 217860, 217871, 217882, 217905, 217916, 217928, 217941, 217951, 217961, 217971, 217982, 217991, 218064, 218075, 218085, 218094, 218105, 218116, 218126, 218137, 218148, 218161, 218170, 218182, 218193, 218204, 218215, 218226, 218236, 218247, 218258, 218268, 218279, 218292, 218303, 218319, 218329, 218343, 218354, 218369, 218381, 218391, 218401, 218411, 218428, 218439, 218456, 218466, 218476, 218488, 218499, 218516, 218533, 218550, 218560, 218570, 218582, 218593, 218605, 218614, 218627, 218636, 218646, 218656, 218666, 218678, 218689, 218701, 218712, 218724, 218734, 218749, 218760, 218770, 218782, 218821, 218848, 218862, 218872, 218882, 218892, 218905, 218915, 218925, 218935, 218945, 218958, 218968, 218982, 218993, 219008, 219023, 219033, 219044, 219057, 219067, 219077, 219091, 219102, 219114, 219126, 219136, 219146, 219156, 219166, 219176, 219186, 219195, 219205, 219216, 219231, 219241, 219251, 219261, 219271, 219280, 219294, 219305, 219314, 219324, 219335, 219345, 219358, 219369, 219380, 219404, 219414, 219429, 219454, 219464, 219474, 219491, 219504, 219513, 219525, 219535, 219545, 219558, 219568, 219579, 219589, 219600, 219612, 219626, 219637, 219650, 219660, 219671, 219680, 219689, 219699, 219709, 219718, 219727, 219738, 219750, 219762, 219778, 219790, 219800, 219812, 219824, 219835, 219847, 219859, 219871, 219908, 219927, 219944, 219960, 219970, 219982, 219992, 220004, 220014, 220024, 220036, 220049, 220059, 220070, 220080, 220090, 220103, 220115, 220128, 220141, 220153, 220167, 220177, 220190, 220202, 220217, 220230, 220243, 220256, 220269, 220282, 220295, 220311, 220328, 220340, 220353, 220366, 220382, 220394, 220407, 220419, 220429, 220443, 220455, 220467, 220482, 220494, 220505, 220516, 220532, 220550, 220564, 220579, 220597, 220614, 220631, 220641, 220651, 220662, 220675, 220689, 220700, 220712, 220729, 220757, 220766, 220777, 220787, 220797, 220808, 220822, 220832, 220843, 220854, 220864, 220876, 220886, 220897, 220910, 220923, 220936, 220946, 220958, 220969, 220980, 220993, 221004, 221014, 221023, 221035, 221047, 221057, 221069, 221079, 221088, 221097, 221106, 221116, 221126, 221136, 221146, 221166, 221176, 221186, 221195, 221204, 221215, 221225, 221236, 221257, 221267, 221280, 221291, 221302, 221312, 221323, 221333, 221343, 221353, 221363, 221398, 221408, 221418, 221428, 221439, 221450, 221462, 221472, 221483, 221495, 221505, 221515, 221529, 221539, 221549, 221559, 221570, 221580, 221592, 221603, 221619, 221631, 221641, 221651, 221661, 221681, 221700, 221721, 221734, 221745, 221754, 221763, 221778, 221793, 221805, 221816, 221831, 221843, 221858, 221869, 221880, 221892, 221902, 221912, 221943, 221955, 221966, 221981, 221991, 222004, 222104, 222115, 222127, 222137, 222152, 222162, 222172, 222182, 222192, 222202, 222214, 222224, 222238, 222253, 222263, 222278, 222288, 222299, 222310, 222371, 222382, 222392, 222402, 222414, 222425, 222437, 222449, 222459, 222469, 222478, 222489, 222501, 222512, 222529, 222542, 222552, 222564, 222586, 222596, 222607, 222618, 222629, 222640, 222661, 222673, 222690, 222701, 222712, 222724, 222737, 222748, 222759, 222772, 222786, 222801, 222811, 222825, 222835, 222845, 222856, 222866, 222876, 222887, 222898, 222910, 222920, 222930, 222944, 222960, 222969, 222979, 222990, 223004, 223018, 223032, 223042, 223057, 223067, 223077, 223089, 223105, 223115, 223126, 223136, 223155, 223165, 223178, 223192, 223202, 223212, 223225, 223238, 223250, 223270, 223286, 223298, 223313, 223328, 223342, 223354, 223364, 223377, 223387, 223398, 223408, 223419, 223429, 223439, 223449, 223460, 223471, 223481, 223497, 223509, 223519, 223529, 223539, 223551, 223561, 223572, 223585, 223597, 223610, 223620, 223640, 223656, 223666, 223676, 223687, 223699, 223709, 223721, 223731, 223741, 223752, 223761, 223774, 223784, 223805, 223816, 223881, 223892, 223902, 223913, 223923, 223935, 223946, 223958, 223969, 223983, 223994, 224005, 224015, 224025, 224035, 224046, 224060, 224072, 224086, 224098, 224108, 224120, 224132, 224143, 224157, 224167, 224187, 224197, 224208, 224225, 224236, 224248, 224261, 224274, 224286, 224296, 224306, 224318, 224328, 224337, 224350, 224365, 224378, 224387, 224400, 224414, 224424, 224436, 224448, 224458, 224468, 224478, 224490, 224504, 224518, 224529, 224539, 224553, 224563, 224576, 224586, 224598, 224623, 224634, 224643, 224657, 224667, 224683, 224695, 224704, 224714, 224724, 224736, 224745, 224760, 224770, 224780, 224790, 224800, 224812, 224825, 224837, 224850, 224860, 224870, 224880, 224890, 224901, 224912, 224923, 224934, 224945, 224956, 224968, 224978, 224991, 225005, 225015, 225027, 225038, 225049, 225061, 225071, 225083, 225096, 225109, 225119, 225129, 225141, 225152, 225184, 225194, 225204, 225217, 225227, 225244, 225268, 225283, 225302, 225319, 225329, 225339, 225349, 225366, 225376, 225386, 225396, 225406, 225417, 225428, 225438, 225448, 225460, 225471, 225484, 225494, 225518, 225542, 225553, 225563, 225573, 225584, 225594, 225605, 225616, 225627, 225637, 225647, 225657, 225669, 225680, 225696, 225712, 225731, 225744, 225754, 225765, 225792, 225801, 225810, 225820, 225834, 225847, 225857, 225880, 225893, 225902, 225914, 225928, 225942, 225956, 225974, 225984, 225993, 226007, 226017, 226027, 226041, 226051, 226071, 226082, 226093, 226103, 226113, 226123, 226133, 226145, 226154, 226165, 226177, 226192, 226204, 226216, 226227, 226237, 226247, 226257, 226268, 226278, 226288, 226298, 226311, 226323, 226333, 226346, 226356, 226366, 226379, 226392, 226403, 226418, 226429, 226441, 226450, 226461, 226472, 226482, 226492, 226504, 226520, 226530, 226542, 226552, 226563, 226573, 226583, 226596, 226606, 226616, 226626, 226637, 226653, 226668, 226680, 226701, 226711, 226721, 226744, 226764, 226780, 226795, 226805, 226815, 226825, 226839, 226850, 226861, 226874, 226884, 226976, 226986, 226996, 227012, 227022, 227032, 227043, 227053, 227068, 227078, 227088, 227098, 227159, 227173, 227190, 227201, 227211, 227223, 227235, 227246, 227257, 227275, 227285, 227305, 227317, 227337, 227347, 227358, 227370, 227380, 227395, 227406, 227420, 227430, 227440, 227454, 227464, 227473, 227483, 227493, 227504, 227515, 227525, 227534, 227548, 227558, 227571, 227581, 227593, 227606, 227617, 227628, 227640, 227671, 227681, 227691, 227701, 227711, 227721, 227739, 227749, 227759, 227769, 227780, 227791, 227803, 227813, 227850, 227860, 227873, 227885, 227895, 227905, 227916, 227927, 227938, 227950, 227962, 227972, 227982, 227996, 228009, 228019, 228029, 228039, 228049, 228058, 228071, 228082, 228092, 228103, 228113, 228124, 228135, 228146, 228158, 228168, 228182, 228264, 228277, 228287, 228300, 228322, 228333, 228343, 228354, 228367, 228383, 228392, 228405, 228417, 228428, 228443, 228456, 228469, 228479, 228493, 228506, 228517, 228528, 228540, 228550, 228561, 228573, 228583, 228592, 228605, 228616, 228628, 228638, 228648, 228658, 228669, 228679, 228690, 228701, 228713, 228723, 228733, 228745, 228761, 228771, 228789, 228800, 228810, 228856, 229024, 229034, 229045, 229055, 229066, 229082, 229092, 229103, 229114, 229126, 229140, 229154, 229169, 229179, 229191, 229201, 229211, 229221, 229231, 229242, 229252, 229262, 229271, 229281, 229293, 229303, 229313, 229323, 229333, 229345, 229355, 229364, 229376, 229395, 229406, 229418, 229428, 229442, 229458, 229476, 229486, 229500, 229510, 229521, 229606, 229617, 229629, 229640, 229658, 229668, 229682, 229692, 229704, 229725, 229746, 229767, 229778, 229789, 229807, 229868, 229883, 229897, 229907, 229918, 229928, 229942, 229955, 229965, 229986, 229996, 230007, 230028, 230038, 230048, 230059, 230070, 230081, 230099, 230110, 230122, 230138, 230148, 230167, 230179, 230190, 230206, 230216, 230232, 230242, 230252, 230263, 230274, 230284, 230318, 230331, 230343, 230352, 230362, 230374, 230385, 230395, 230405, 230419, 230430, 230440, 230450, 230460, 230483, 230506, 230529, 230554, 230564, 230575, 230586, 230596, 230609, 230622, 230635, 230647, 230664, 230675, 230689, 230700, 230710, 230734, 230747, 230761, 230775, 230786, 230797, 230809, 230819, 230829, 231110, 231391, 231672, 231953, 231963, 231976, 231988, 232001, 232011, 232022, 232033, 232044, 232059, 232069, 232084, 232094, 232110, 232119, 232133, 232144, 232162, 232171, 232180, 232192, 232204, 232214, 232227, 232237, 232247, 232261, 232271, 232281, 232291, 232303, 232314, 232327, 232337, 232351, 232364, 232379, 232393, 232407, 232420, 232430, 232440, 232452, 232463, 232475, 232487, 232502, 232512, 232523, 232534, 232543, 232553, 232566, 232576, 232586, 232600, 232610, 232622, 232632, 232642, 232652, 232668, 232678, 232688, 232699, 232709, 232719, 232730, 232740, 232750, 232761, 232771, 232781, 232791, 232825, 232835, 232846, 232856, 232866, 232878, 232890, 232900, 232910, 232920, 232930, 232954, 232965, 232975, 232985, 232995, 233006, 233018, 233028, 233040, 233051, 233063, 233076, 233086, 233096, 233110, 233119, 233132, 233142, 233153, 233163, 233175, 233185, 233194, 233206, 233225, 233245, 233260, 233270, 233280, 233289, 233300, 233310, 233321, 233330, 233340, 233354, 233365, 233375, 233387, 233399, 233410, 233420, 233430, 233440, 233450, 233460, 233471, 233481, 233491, 233501, 233514, 233523, 233533, 233542, 233557, 233567, 233576, 233585, 233595, 233605, 233621, 233632, 233644, 233655, 233669, 233680, 233690, 233700, 233710, 233721, 233733, 233743, 233756, 233771, 233784, 233797, 233815, 233829, 233839, 233849, 233861, 233873, 233883, 233894, 233905, 233916, 233926, 233936, 233950, 233961, 233982, 233997, 234008, 234018, 234030, 234040, 234052, 234062, 234073, 234083, 234125, 234141, 234151, 234161, 234172, 234183, 234195, 234205, 234215, 234225, 234235, 234245, 234258, 234269, 234280, 234292, 234304, 234316, 234327, 234336, 234351, 234364, 234376, 234387, 234398, 234409, 234419, 234430, 234441, 234452, 234462, 234472, 234482, 234492, 234503, 234514, 234524, 234535, 234546, 234556, 234566, 234577, 234587, 234598, 234609, 234619, 234629, 234639, 234650, 234661, 234673, 234683, 234717, 234727, 234737, 234747, 234757, 234767, 234777, 234788, 234800, 234810, 234820, 234830, 234842, 234852, 234866, 234877, 234890, 234902, 234913, 234923, 234938, 234949, 234959, 234971, 234981, 234992, 235005, 235018, 235032, 235046, 235056, 235067, 235077, 235087, 235101, 235118, 235128, 235144, 235154, 235164, 235191, 235201, 235211, 235221, 235233, 235243, 235253, 235263, 235274, 235285, 235294, 235304, 235314, 235324, 235337, 235347, 235365, 235377, 235394, 235408, 235423, 235434, 235445, 235454, 235463, 235472, 235484, 235493, 235513, 235523, 235533, 235544, 235554, 235565, 235575, 235585, 235595, 235605, 235615, 235625, 235635, 235645, 235655, 235666, 235677, 235687, 235697, 235711, 235722, 235732, 235744, 235755, 235766, 235776, 235787, 235799, 235810, 235821, 235831, 235841, 235852, 235864, 235875, 235894, 235904, 235915, 235927, 235938, 235949, 235959, 235974, 235987, 235998, 236008, 236018, 236028, 236038, 236049, 236060, 236070, 236080, 236091, 236111, 236121, 236132, 236142, 236153, 236165, 236176, 236188, 236199, 236209, 236222, 236234, 236245, 236256, 236269, 236279, 236290, 236301, 236312, 236324, 236335, 236347, 236360, 236370, 236381, 236391, 236401, 236416, 236429, 236440, 236451, 236464, 236477, 236492, 236501, 236511, 236524, 236541, 236551, 236562, 236573, 236584, 236594, 236606, 236616, 236629, 236641, 236651, 236661, 236671, 236682, 236697, 236711, 236723, 236733, 236743, 236757, 236774, 236784, 236794, 236804, 236818, 236828, 236838, 236848, 236859, 236870, 236882, 236892, 236904, 236914, 236926, 236938, 236948, 236958, 236968, 236980, 236998, 237010, 237024, 237037, 237048, 237065, 237076, 237086, 237097, 237107, 237120, 237130, 237140, 237152, 237167, 237179, 237196, 237208, 237218, 237228, 237241, 237251, 237261, 237272, 237282, 237292, 237310, 237320, 237330, 237340, 237352, 237362, 237376, 237389, 237399, 237410, 237420, 237430, 237441, 237451, 237461, 237470, 237480, 237492, 237502, 237512, 237522, 237532, 237544, 237556, 237566, 237576, 237588, 237598, 237609, 237619, 237629, 237657, 237667, 237677, 237687, 237697, 237707, 237718, 237728, 237738, 237752, 237762, 237772, 237785, 237795, 237807, 237817, 237827, 237837, 237846, 237858, 237868, 237878, 237888, 237898, 237909, 237919, 237930, 237941, 237952, 237964, 237974, 237986, 237996, 238005, 238006, 238017, 238026, 238045, 238057, 238068, 238078, 238088, 238098, 238108, 238109, 238122, 238132, 238142, 238152, 238163, 238173, 238184, 238194, 238204, 238215, 238216, 238217, 238227, 238236, 238249, 238263, 238276, 238286, 238296, 238313, 238314, 238328, 238338, 238349, 238361, 238371, 238382, 238392, 238402, 238412, 238422, 238432, 238443, 238453, 238463, 238474, 238484, 238494, 238505, 238515, 238525, 238537, 238548, 238562, 238580, 238592, 238604, 238615, 238625, 238637, 238652, 238664, 238689, 238700, 238710, 238721, 238731, 238745, 238755, 238765, 238777, 238788, 238801, 238813, 238824, 238835, 238846, 238857, 238869, 238879, 238889, 238899, 238909, 238921, 238933, 238953, 238964, 238992, 239001, 239012, 239022, 239031, 239046, 239061, 239072, 239082, 239092, 239104, 239115, 239126, 239137, 239148, 239161, 239173, 239186, 239199, 239210, 239220, 239230, 239240, 239249, 239261, 239270, 239279, 239289, 239299, 239317, 239327, 239338, 239348, 239358, 239373, 239382, 239393, 239403, 239413, 239423, 239434, 239447, 239463, 239473, 239483, 239493, 239503, 239513, 239523, 239534, 239544, 239554, 239564, 239580, 239590, 239600, 239611, 239624, 239634, 239644, 239654, 239665, 239677, 239687, 239698, 239709, 239721, 239731, 239741, 239752, 239771, 239782, 239792, 239802, 239812, 239822, 239832, 239842, 239877, 239891, 239904, 239915, 239927, 239938, 239949, 239961, 239971, 239981, 239992, 240006, 240016, 240026, 240037, 240049, 240069, 240079, 240089, 240102, 240114, 240124, 240134, 240144, 240154, 240172, 240185, 240198, 240208, 240225, 240234, 240243, 240258, 240270, 240280, 240294, 240304, 240315, 240326, 240336, 240347, 240359, 240371, 240382, 240393, 240403, 240413, 240426, 240437, 240447, 240457, 240467, 240480, 240489, 240505, 240521, 240531, 240544, 240558, 240571, 240586, 240596, 240608, 240618, 240629, 240639, 240649, 240663, 240674, 240688, 240702, 240716, 240727, 240738, 240748, 240759, 240770, 240780, 240790, 240800, 240811, 240822, 240832, 240842, 240852, 240862, 240874, 240888, 240899, 240909, 240919, 240929, 240940, 240950, 240965, 240977, 240987, 240998, 241010, 241020, 241039, 241053, 241064, 241074, 241085, 241096, 241106, 241116, 241133, 241143, 241160, 241171, 241181, 241191, 241202, 241215, 241227, 241239, 241249, 241259, 241269, 241281, 241291, 241304, 241314, 241325, 241342, 241356, 241378, 241397, 241407, 241422, 241432, 241443, 241455, 241465, 241478, 241490, 241502, 241512, 241523, 241533, 241543, 241553, 241563, 241573, 241584, 241594, 241604, 241614, 241626, 241637, 241648, 241658, 241668, 241679, 241690, 241700, 241710, 241720, 241732, 241742, 241752, 241762, 241778, 241788, 241798, 241808, 241818, 241829, 241839, 241852, 241863, 241873, 241883, 241893, 241904, 241915, 241925, 241936, 241950, 241960, 241971, 241981, 241995, 242009, 242019, 242034, 242048, 242058, 242067, 242077, 242088, 242103, 242115, 242127, 242141, 242160, 242169, 242181, 242195, 242206, 242220, 242230, 242240, 242251, 242261, 242272, 242281, 242291, 242306, 242317, 242327, 242337, 242347, 242358, 242369, 242379, 242390, 242401, 242412, 242424, 242437, 242448, 242459, 242470, 242483, 242493, 242502, 242514, 242524, 242540, 242555, 242566, 242577, 242591, 242604, 242616, 242626, 242638, 242650, 242660, 242673, 242684, 242695, 242705, 242715, 242724, 242734, 242745, 242755, 242766, 242780, 242791, 242801, 242813, 242823, 242834, 242844, 242854, 242865, 242878, 242892, 242903, 242914, 242932, 242950, 242960, 242971, 242980, 242989, 242998, 243009, 243020, 243032, 243044, 243056, 243067, 243077, 243092, 243102, 243112, 243122, 243131, 243141, 243152, 243162, 243174, 243185, 243197, 243206, 243216, 243228, 243242, 243253, 243265, 243276, 243287, 243299, 243309, 243320, 243334, 243352, 243362, 243372, 243388, 243401, 243411, 243421, 243431, 243441, 243451, 243461, 243471, 243481, 243491, 243501, 243511, 243521, 243531, 243541, 243551, 243560, 243572, 243583, 243593, 243608, 243623, 243634, 243647, 243657, 243666, 243679, 243688, 243699, 243709, 243720, 243730, 243739, 243750, 243761, 243770, 243779, 243790, 243803, 243813, 243824, 243834, 243844, 243855, 243865, 243880, 243897, 243908, 243919, 243929, 243939, 243951, 243961, 243972, 243982, 243992, 244001, 244011, 244026, 244037, 244047, 244058, 244070, 244082, 244093, 244105, 244273, 244284, 244294, 244307, 244319, 244331, 244349, 244359, 244369, 244380, 244393, 244404, 244415, 244425, 244435, 244446, 244457, 244466, 244477, 244486, 244496, 244507, 244518, 244531, 244551, 244560, 244569, 244585, 244596, 244608, 244617, 244628, 244638, 244648, 244659, 244670, 244680, 244690, 244700, 244714, 244724, 244735, 244745, 244755, 244766, 244777, 244836, 244846, 244857, 244868, 244878, 244889, 244901, 244921, 244934, 244945, 244955, 244966, 244977, 244987, 245004, 245017, 245030, 245042, 245057, 245068, 245081, 245091, 245101, 245113, 245125, 245136, 245147, 245157, 245168, 245180, 245191, 245201, 245214, 245382, 245406, 245416, 245452, 245462, 245473, 245483, 245494, 245508, 245519, 245531, 245542, 245553, 245564, 245574, 245588, 245602, 245617, 245631, 245643, 245653, 245664, 245674, 245684, 245700, 245712, 245722, 245731, 245740, 245751, 245765, 245783, 245795, 245807, 245819, 245834, 245847, 245857, 245869, 245880, 245892, 245902, 245914, 245924, 245939, 245952, 245964, 245976, 245991, 246006, 246016, 246032, 246045, 246055, 246067, 246077, 246087, 246104, 246115, 246126, 246136, 246148, 246168, 246183, 246193, 246209, 246226, 246237, 246247, 246257, 246267, 246277, 246286, 246299, 246310, 246319, 246330, 246339, 246348, 246357, 246366, 246376, 246386, 246395, 246404, 246414, 246424, 246434, 246448, 246460, 246471, 246484, 246495, 246505, 246536, 246567, 246598, 246629, 246660, 246684, 246694, 246704, 246714, 246724, 246734, 246744, 246754, 246766, 246776, 246785, 246797, 246808, 246819, 246830, 246840, 246851, 246861, 246871, 246880, 246892, 246902, 246932, 246942, 246951, 246961, 246976, 246986, 246997, 247009, 247019, 247029, 247039, 247051, 247063, 247074, 247086, 247098, 247108, 247118, 247129, 247140, 247152, 247164, 247175, 247186, 247202, 247217, 247239, 247261, 247283, 247293, 247304, 247314, 247324, 247334, 247344, 247354, 247364, 247380, 247390, 247400, 247411, 247422, 247434, 247446, 247458, 247468, 247479, 247492, 247504, 247517, 247530, 247542, 247555, 247568, 247580, 247595, 247607, 247714, 247724, 247735, 247745, 247755, 247767, 247779, 247789, 247800, 247811, 247822, 247832, 247842, 247852, 247863, 247876, 247886, 247896, 247906, 247916, 247927, 247937, 247947, 247957, 247968, 247978, 248008, 248038, 248049, 248059, 248071, 248084, 248096, 248108, 248120, 248132, 248142, 248151, 248163, 248174, 248183, 248193, 248208, 248218, 248228, 248238, 248249, 248259, 248269, 248278, 248290, 248300, 248310, 248320, 248330, 248340, 248354, 248369, 248380, 248391, 248402, 248413, 248422, 248431, 248445, 248455, 248623, 248633, 248643, 248655, 248665, 248675, 248685, 248695, 248707, 248717, 248728, 248738, 248748, 248758, 248776, 248787, 248797, 248811, 248825, 248837, 248848, 248858, 248869, 248901, 248911, 248921, 248931, 248942, 248952, 248962, 248972, 248982, 248993, 249003, 249013, 249021, 249039, 249051, 249062, 249072, 249082, 249110, 249290, 249301, 249312, 249322, 249339, 249350, 249360, 249370, 249380, 249390, 249403, 249412, 249422, 249434, 249445, 249456, 249466, 249476, 249489, 249499, 249514, 249528, 249542, 249552, 249564, 249732, 249742, 249910, 249920, 249933, 249951, 249962, 249979, 249996, 250012, 250026, 250037, 250047, 250059, 250069, 250079, 250092, 250104, 250114, 250124, 250134, 250144, 250154, 250165, 250178, 250188, 250203, 250213, 250225, 250239, 250250, 250260, 250270, 250280, 250289, 250301, 250314, 250324, 250335, 250347, 250358, 250368, 250378, 250400, 250422, 250434, 250445, 250457, 250469, 250498, 250508, 250519, 250532, 250543, 250555, 250565, 250575, 250584, 250596, 250606, 250617, 250626, 250635, 250645, 250654, 250665, 250675, 250685, 250695, 250706, 250717, 250727, 250736, 250746, 250756, 250766, 250776, 250787, 250798, 250808, 250818, 250828, 250842, 250852, 250861, 250870, 250880, 250889, 250898, 250907, 250916, 250925, 250936, 250946, 250956, 250966, 250976, 251003, 251013, 251023, 251033, 251043, 251075, 251085, 251096, 251111, 251124, 251135, 251145, 251156, 251166, 251181, 251206, 251220, 251242, 251252, 251264, 251274, 251284, 251294, 251304, 251313, 251323, 251336, 251349, 251359, 251369, 251378, 251388, 251398, 251408, 251418, 251428, 251437, 251450, 251464, 251476, 251488, 251499, 251509, 251520, 251530, 251541, 251551, 251560, 251570, 251580, 251590, 251602, 251612, 251622, 251632, 251644, 251655, 251667, 251678, 251688, 251698, 251708, 251725, 251735, 251745, 251756, 251768, 251778, 251800, 251810, 251821, 251832, 251844, 251854, 251865, 251879, 251891, 251903, 251916, 251928, 251939, 251949, 251965, 251975, 251985, 251995, 252008, 252019, 252038, 252049, 252062, 252081, 252093, 252104, 252119, 252133, 252142, 252152, 252165, 252176, 252186, 252196, 252208, 252218, 252228, 252242, 252254, 252263, 252273, 252285, 252298, 252309, 252319, 252332, 252333, 252347, 252376, 252388, 252398, 252408, 252419, 252437, 252446, 252455, 252465, 252478, 252489, 252499, 252512, 252528, 252538, 252549, 252562, 252574, 252587, 252597, 252607, 252623, 252633, 252646, 252656, 252666, 252678, 252688, 252701, 252715, 252724, 252735, 252745, 252755, 252764, 252778, 252789, 252802, 252814, 252828, 252838, 252850, 252860, 252870, 252880, 252890, 252901, 252912, 252923, 252933, 252944, 252955, 252964, 252974, 252985, 252996, 253006, 253016, 253026, 253038, 253051, 253062, 253073, 253083, 253105, 253114, 253124, 253145, 253174, 253191, 253206, 253215, 253226, 253237, 253247, 253277, 253307, 253336, 253366, 253376, 253389, 253406, 253416, 253426, 253437, 253460, 253470, 253481, 253491, 253501, 253511, 253521, 253535, 253549, 253559, 253568, 253580, 253592, 253603, 253613, 253623, 253638, 253648, 253658, 253668, 253682, 253696, 253710, 253724, 253738, 253752, 253762, 253772, 253782, 253792, 253803, 253813, 253823, 253833, 253844, 253857, 253870, 253880, 253893, 253904, 253914, 253925, 253935, 253945, 253964, 253983, 253992, 254002, 254012, 254024, 254043, 254062, 254086, 254096, 254108, 254119, 254129, 254140, 254160, 254182, 254192, 254202, 254213, 254223, 254235, 254246, 254256, 254266, 254276, 254286, 254297, 254309, 254321, 254331, 254341, 254363, 254372, 254382, 254394, 254404, 254414, 254423, 254433, 254444, 254453, 254566, 254679, 254694, 254704, 254722, 254732, 254743, 254752, 254765, 254776, 254787, 254797, 254817, 254837, 254848, 254862, 254875, 254884, 254904, 254928, 254938, 254948, 254958, 254968, 254978, 254997, 255008, 255018, 255028, 255096, 255110, 255125, 255139, 255150, 255162, 255172, 255192, 255214, 255234, 255255, 255265, 255278, 255289, 255304, 255319, 255333, 255346, 255356, 255366, 255376, 255386, 255396, 255407, 255416, 255426, 255437, 255447, 255457, 255467, 255488, 255499, 255520, 255530, 255540, 255552, 255566, 255580, 255592, 255602, 255612, 255623, 255633, 255644, 255659, 255672, 255686, 255697, 255707, 255820, 255830, 255840, 255851, 255862, 255873, 255884, 255902, 255912, 255926, 255944, 255955, 255999, 256008, 256025, 256041, 256059, 256076, 256093, 256106, 256115, 256125, 256136, 256146, 256157, 256167, 256177, 256186, 256196, 256209, 256219, 256229, 256397, 256407, 256417, 256427, 256440, 256450, 256461, 256478, 256495, 256506, 256516, 256528, 256539, 256555, 256567, 256580, 256590, 256601, 256617, 256631, 256645, 256656, 256667, 256677, 256689, 256700, 256710, 256720, 256730, 256743, 256753, 256766, 256776, 256786, 256954, 256964, 257005, 257015, 257027, 257039, 257049, 257058, 257068, 257080, 257205, 257216, 257232, 257242, 257252, 257262, 257274, 257284, 257294, 257304, 257327, 257337, 257349, 257372, 257384, 257396, 257407, 257417, 257427, 257437, 257448, 257459, 257470, 257481, 257491, 257502, 257513, 257524, 257535, 257546, 257557, 257568, 257579, 257590, 257601, 257613, 257623, 257633, 257648, 257662, 257672, 257685, 257698, 257711, 257721, 257732, 257743, 257756, 257773, 257784, 257796, 257806, 257817, 257830, 257844, 257853, 257863, 257873, 257884, 257894, 257905, 257924, 257934, 257944, 257956, 257966, 257975, 257989, 258000, 258011, 258025, 258035, 258047, 258059, 258075, 258085, 258095, 258105, 258115, 258125, 258136, 258147, 258158, 258168, 258179, 258204, 258217, 258227, 258236, 258517, 258532, 258545, 258555, 258566, 258576, 258587, 258596, 258608, 258618, 258629, 258640, 258650, 258659, 258669, 258679, 258693, 258703, 258713, 258723, 258758, 258783, 258795, 258808, 258819, 258830, 258840, 258852, 258864, 258892, 258906, 258916, 258927, 258940, 258950, 258969, 258990, 259012, 259013, 259024, 259035, 259045, 259057, 259067, 259076, 259086, 259098, 259108, 259117, 259127, 259139, 259148, 259159, 259171, 259184, 259209, 259222, 259235, 259245, 259261, 259271, 259284, 259299, 259310, 259322, 259333, 259342, 259354, 259367, 259377, 259387, 259421, 259431, 259441, 259457, 259468, 259478, 259488, 259498, 259509, 259519, 259529, 259539, 259562, 259573, 259584, 259596, 259607, 259618, 259629, 259639, 259649, 259658, 259668, 259679, 259689, 259705, 259717, 259728, 259738, 259798, 259854, 259864, 259874, 259885, 259895, 259909, 259919, 259930, 259941, 259951, 259962, 259985, 259995, 260005, 260019, 260029, 260040, 260051, 260062, 260072, 260082, 260093, 260102, 260115, 260127, 260137, 260151, 260164, 260176, 260192, 260214, 260236, 260246, 260257, 260268, 260279, 260292, 260310, 260319, 260332, 260347, 260358, 260368, 260377, 260387, 260397, 260407, 260417, 260427, 260440, 260608, 260618, 260629, 260640, 260649, 260661, 260670, 260684, 260694, 260705, 260715, 260725, 260734, 260743, 260758, 260776, 260794, 260805, 260821, 260831, 260841, 260860, 260870, 260880, 260890, 260900, 260911, 260920, 260933, 260943, 260956, 260966, 260976, 260986, 260996, 261009, 261064, 261074, 261084, 261102, 261112, 261129, 261146, 261164, 261173, 261186, 261198, 261209, 261222, 261232, 261243, 261257, 261268, 261280, 261290, 261301, 261310, 261320, 261330, 261342, 261360, 261373, 261387, 261398, 261408, 261422, 261432, 261442, 261452, 261463, 261474, 261484, 261496, 261513, 261534, 261550, 261559, 261568, 261577, 261586, 261596, 261608, 261618, 261628, 261637, 261649, 261659, 261669, 261679, 261687, 261697, 261707, 261723, 261733, 261743, 261753, 261765, 261777, 261790, 261804, 261821, 261830, 261839, 261850, 261859, 261874, 261884, 261902, 261915, 261927, 261937, 261950, 261960, 261970, 261980, 261990, 262000, 262011, 262020, 262032, 262042, 262050, 262061, 262072, 262085, 262095, 262106, 262114, 262126, 262143, 262156, 262166, 262173, 262182, 262194, 262205, 262215, 262227, 262237, 262247, 262264, 262273, 262283, 262293, 262306, 262328, 262341, 262349, 262359, 262369, 262381, 262389, 262399, 262412, 262422, 262436, 262449, 262459, 262468, 262479, 262487, 262501, 262511, 262521, 262531, 262543, 262555, 262574, 262588, 262598, 262608, 262618, 262628, 262637, 262652, 262660, 262669, 262679, 262689, 262699, 262707, 262716, 262726, 262742, 262753, 262763, 262790, 262800, 262812, 262838, 262847, 262874, 262886, 262899, 262909, 262917, 262944, 262955, 262964, 262973, 262982, 262992, 263008, 263019, 263029, 263039, 263048, 263058, 263067, 263077, 263094, 263105, 263117, 263129, 263140, 263152, 263163, 263176, 263186, 263198, 263209, 263222, 263233, 263242, 263252, 263264, 263276, 263291, 263306, 263315, 263330, 263342, 263351, 263364, 263377, 263387, 263398, 263417, 263428, 263438, 263450, 263472, 263481, 263490, 263500, 263510, 263520, 263530, 263540, 263550, 263560, 263570, 263580, 263592, 263602, 263614, 263626, 263639, 263654, 263664, 263678, 263687, 263697, 263707, 263717, 263727, 263736, 263745, 263756, 263770, 263779, 263792, 263804, 263814, 263824, 263834, 263845, 263855, 263866, 263879, 263889, 263901, 263914, 263925, 263936, 263945, 263962, 263974, 263991, 263999, 264007, 264016, 264025, 264042, 264051, 264060, 264070, 264079, 264089, 264101, 264113, 264123, 264132, 264142, 264152, 264162, 264175, 264185, 264196, 264207, 264217, 264229, 264239, 264249, 264262, 264272, 264281, 264290, 264300, 264309, 264319, 264330, 264345, 264356, 264367, 264377, 264419, 264431, 264459, 264473, 264482, 264491, 264506, 264520, 264531, 264540, 264551, 264560, 264568, 264577, 264586, 264596, 264606, 264615, 264624, 264633, 264644, 264658, 264671, 264683, 264700, 264714, 264723, 264732, 264749, 264760, 264775, 264787, 264803, 264817, 264827, 264840, 264851, 264860, 264875, 264884, 264895, 264904, 264918, 264931, 264941, 264956, 264973, 264988, 264999, 265010, 265020, 265030, 265040, 265050, 265063, 265083, 265095, 265111, 265120, 265132, 265145, 265160, 265173, 265184, 265199, 265209, 265219, 265232, 265243, 265256, 265266, 265276, 265287, 265298, 265310, 265326, 265336, 265346, 265358, 265371, 265381, 265390, 265400, 265412, 265423, 265431, 265441, 265453, 265463, 265473, 265484, 265493, 265505, 265517, 265527, 265540, 265550, 265561, 265571, 265581, 265591, 265600, 265609, 265622, 265631, 265640, 265649, 265658, 265669, 265678, 265687, 265696, 265705, 265714, 265723, 265732, 265742, 265752, 265762, 265771, 265782, 265794, 265815, 265827, 265836, 265845, 265854, 265864, 265873, 265882, 265893, 265902, 265912, 265922, 265931, 265939, 265949, 265959, 265968, 265978, 265988, 265998, 266010, 266023, 266034, 266044, 266052, 266062, 266070, 266081, 266096, 266103, 266115, 266125, 266138, 266152, 266166, 266179, 266193, 266204, 266218, 266229, 266239, 266253, 266266, 266275, 266289, 266303, 266313, 266322, 266334, 266345, 266357, 266367, 266376, 266388, 266398, 266409, 266419, 266430, 266443, 266456, 266466, 266491, 266506, 266520, 266531, 266545, 266559, 266573, 266587, 266599, 266612, 266624, 266636, 266646, 266657, 266677, 266691, 266701, 266711, 266720, 266732, 266743, 266754, 266764, 266774, 266785, 266795, 266811, 266822, 266832, 266841, 266849, 266862, 266871, 266880, 266890, 266899, 266917, 266929, 266939, 266947, 266955, 266964, 266973, 266981, 266990, 267003, 267011, 267027, 267037, 267047, 267057, 267091, 267102, 267112, 267122, 267132, 267145, 267158, 267172, 267186, 267199, 267213, 267226, 267239, 267252, 267264, 267273, 267284, 267294, 267303, 267311, 267319, 267329, 267337, 267345, 267353, 267363, 267413, 267423, 267451, 267459, 267487, 267500, 267510, 267518, 267528, 267536, 267548, 267578, 267591, 267601, 267610, 267625, 267634, 267644, 267653, 267663, 267673, 267683, 267692, 267702, 267711, 267720, 267729, 267738, 267747, 267756, 267763, 267774, 267789, 267799, 267810, 267820, 267830, 267852, 267865, 267873, 267883, 267895, 267905, 267914, 267924, 267933, 267943, 267962, 267972, 267991, 268000, 268010, 268024, 268043, 268053, 268071, 268090, 268100, 268111, 268130, 268140, 268150, 268160, 268170, 268180, 268199, 268209, 268221, 268233, 268245, 268257, 268269, 268281, 268293, 268310, 268319, 268328, 268338, 268350, 268359, 268376, 268394, 268412, 268429, 268441, 268453, 268464, 268475, 268486, 268497, 268508, 268519, 268537, 268548, 268566, 268577, 268594, 268611, 268625, 268664, 268678, 268691, 268705, 268721, 268731, 268751, 268762, 268773, 268784, 268796, 268810, 268821, 268835, 268849, 268863, 268877, 268892, 268907, 268922, 268942, 268962, 268979, 268996, 269013, 269028, 269042, 269059, 269077, 269093, 269109, 269125, 269141, 269157, 269170, 269189, 269203, 269213, 269233, 269244, 269255, 269274, 269285, 269297, 269309, 269320, 269331, 269352, 269374, 269383, 269392, 269401, 269420, 269438, 269457, 269472, 269487, 269507, 269516, 269537, 269552, 269570, 269583, 269604, 269615, 269634, 269645, 269654, 269663, 269672, 269681, 269690, 269710, 269725, 269734, 269743, 269752, 269761, 269770, 269779, 269788, 269797, 269806, 269815, 269824, 269833, 269927, 269936, 269953, 269970, 269979, 269988, 270002, 270013, 270022, 270031, 270039, 270049, 270058, 270071, 270084, 270098, 270111, 270124, 270134, 270152, 270170, 270188, 270205, 270222, 270236, 270254, 270264, 270274, 270290, 270304, 270321, 270339, 270351, 270369, 270378, 270396, 270407, 270417, 270428, 270439, 270450, 270462, 270479, 270496, 270513, 270523, 270540, 270553, 270563, 270573, 270586, 270595, 270605, 270622, 270636, 270646, 270661, 270670, 270679, 270689, 270698, 270715, 270723, 270733, 270745, 270762, 270779, 270796, 270807, 270821, 270834, 270847, 270855, 270869, 270882, 270894, 270906, 270915, 270926, 270938, 270949, 270963, 270973, 270987, 270997, 271011, 271025, 271035, 271045, 271052, 271063, 271072, 271087, 271100, 271112, 271122, 271136, 271146, 271156, 271167, 271177, 271186, 271196, 271208, 271223, 271235, 271246, 271256, 271266, 271283, 271294, 271305, 271317, 271329, 271339, 271349, 271357, 271367, 271377, 271387, 271398, 271407, 271417, 271426, 271440, 271450, 271461, 271473, 271482, 271490, 271498, 271508, 271519, 271529, 271539, 271548, 271558, 271567, 271576, 271586, 271601, 271612, 271622, 271640, 271655, 271674, 271686, 271697, 271709, 271718, 271729, 271740, 271751, 271761, 271771, 271782, 271793, 271803, 271813, 271823, 271833, 271843, 271852, 271862, 271874, 271884, 271895, 271904, 271913, 271922, 271931, 271940, 271949, 271958, 271971, 271984, 271993, 272002, 272013, 272025, 272036, 272047, 272057, 272068, 272078, 272088, 272101, 272113, 272122, 272132, 272143, 272153, 272164, 272175, 272185, 272196, 272206, 272227, 272238, 272248, 272258, 272273, 272283, 272293, 272305, 272321, 272332, 272344, 272355, 272364, 272374, 272384, 272394, 272404, 272418, 272435, 272500, 272513, 272526, 272537, 272546, 272557, 272569, 272581, 272591, 272601, 272613, 272624, 272635, 272645, 272655, 272664, 272687, 272696, 272706, 272716, 272732, 272741, 272750, 272760, 272769, 272778, 272787, 272796, 272805, 272819, 272831, 272843, 272852, 272862, 272872, 272885, 272898, 272907, 272918, 272928, 272937, 272946, 272955, 272971, 272980, 272989, 273000, 273011, 273035, 273046, 273070, 273085, 273100, 273110, 273120, 273129, 273141, 273154, 273166, 273181, 273196, 273210, 273225, 273235, 273247, 273256, 273268, 273279, 273290, 273299, 273308, 273319, 273330, 273341, 273352, 273362, 273394, 273405, 273416, 273428, 273438, 273469, 273481, 273491, 273501, 273511, 273525, 273535, 273550, 273560, 273573, 273584, 273593, 273603, 273613, 273622, 273633, 273668, 273677, 273690, 273699, 273709, 273721, 273739, 273750, 273760, 273773, 273785, 273795, 273805, 273806, 273819, 273830, 273839, 273848, 273857, 273867, 273876, 273885, 273898, 273909, 273924, 273934, 273943, 273953, 273962, 273972, 273981, 273991, 274013, 274023, 274034, 274045, 274056, 274067, 274078, 274088, 274098, 274111, 274122, 274136, 274151, 274170, 274189, 274203, 274212, 274223, 274235, 274245, 274255, 274265, 274275, 274284, 274294, 274305, 274317, 274327, 274336, 274346, 274354, 274363, 274376, 274388, 274400, 274410, 274423, 274433, 274443, 274453, 274462, 274471, 274482, 274497, 274506, 274515, 274524, 274534, 274545, 274556, 274565, 274576, 274588, 274597, 274609, 274620, 274636, 274647, 274659, 274668, 274680, 274690, 274709, 274727, 274748, 274758, 274768, 274784, 274800, 274809, 274824, 274837, 274848, 274858, 274870, 274881, 274897, 274907, 274917, 274927, 274941, 274952, 274963, 274972, 274983, 274994, 275003, 275015, 275025, 275035, 275045, 275056, 275069, 275079, 275089, 275105, 275117, 275132, 275149, 275159, 275169, 275179, 275189, 275199, 275209, 275219, 275234, 275249, 275264, 275277, 275290, 275300, 275310, 275324, 275334, 275347, 275357, 275371, 275380, 275390, 275403, 275411, 275432, 275449, 275457, 275467, 275478, 275496, 275507, 275528, 275542, 275552, 275573, 275590, 275600, 275610, 275626, 275640, 275653, 275664, 275685, 275706, 275722, 275732, 275742, 275752, 275761, 275771, 275780, 275789, 275803, 275816, 275826, 275837, 275846, 275858, 275870, 275879, 275889, 275908, 275918, 275927, 275937, 275947, 275965, 275983, 275993, 276003, 276020, 276036, 276053, 276063, 276077, 276090, 276103, 276113, 276128, 276138, 276152, 276164, 276174, 276183, 276196, 276211, 276224, 276236, 276249, 276258, 276268, 276277, 276288, 276301, 276311, 276321, 276331, 276341, 276353, 276362, 276462, 276473, 276484, 276494, 276504, 276514, 276524, 276534, 276543, 276554, 276565, 276575, 276588, 276601, 276614, 276625, 276639, 276652, 276663, 276676, 276687, 276700, 276712, 276724, 276736, 276748, 276758, 276768, 276785, 276800, 276811, 276823, 276836, 276848, 276859, 276870, 276880, 276891, 276900, 276924, 276934, 276946, 276955, 276964, 276976, 276989, 277002, 277012, 277024, 277033, 277044, 277053, 277062, 277073, 277085, 277100, 277111, 277119, 277128, 277138, 277148, 277158, 277168, 277178, 277189, 277201, 277213, 277222, 277230, 277242, 277250, 277260, 277271, 277282, 277292, 277301, 277313, 277324, 277334, 277345, 277355, 277376, 277387, 277398, 277408, 277418, 277428, 277560, 277570, 277579, 277588, 277598, 277608, 277621, 277631, 277641, 277651, 277670, 277691, 277710, 277730, 277740, 277755, 277765, 277820, 277830, 277840, 277852, 277864, 277874, 277885, 277895, 277904, 277917, 277931, 277943, 277956, 277971, 277989, 277999, 278010, 278022, 278039, 278049, 278058, 278069, 278080, 278091, 278102, 278113, 278124, 278135, 278146, 278157, 278168, 278178, 278189, 278200, 278211, 278222, 278233, 278244, 278255, 278266, 278275, 278286, 278303, 278314, 278328, 278341, 278359, 278369, 278383, 278397, 278406, 278417, 278428, 278440, 278459, 278469, 278478, 278492, 278507, 278513, 278524, 278535, 278545, 278558, 278568, 278581, 278591, 278600, 278612, 278625, 278635, 278644, 278685, 278695, 278707, 278716, 278725, 278734, 278744, 278757, 278771, 278781, 278795, 278807, 278817, 278830, 278844, 278856, 278870, 278884, 278896, 278939, 278948, 278958, 278969, 278981, 278990, 279000, 279010, 279020, 279031, 279042, 279052, 279062, 279078, 279089, 279103, 279115, 279124, 279134, 279144, 279158, 279169, 279181, 279191, 279202, 279213, 279260, 279277, 279286, 279298, 279320, 279332, 279348, 279370, 279382, 279393, 279404, 279414, 279428, 279440, 279450, 279461, 279471, 279484, 279494, 279505, 279516, 279530, 279541, 279553, 279563, 279574, 279585, 279601, 279611, 279621, 279637, 279651, 279661, 279671, 279682, 279693, 279704, 279715, 279726, 279735, 279745, 279755, 279769, 279781, 279793, 279803, 279813, 279824, 279834, 279843, 279853, 279863, 279878, 279888, 279903, 279918, 279930, 279942, 279952, 279966, 279977, 279986, 279995, 280004, 280019, 280029, 280038, 280063, 280072, 280083, 280097, 280110, 280120, 280129, 280159, 280173, 280185, 280200, 280210, 280220, 280230, 280240, 280250, 280261, 280272, 280282, 280290, 280300, 280310, 280322, 280332, 280346, 280356, 280367, 280377, 280390, 280399, 280411, 280421, 280432, 280444, 280455, 280466, 280477, 280491, 280499, 280511, 280521, 280531, 280539, 280549, 280561, 280573, 280581, 280590, 280599, 280612, 280622, 280634, 280645, 280657, 280668, 280680, 280690, 280700, 280710, 280720, 280730, 280739, 280749, 280759, 280770, 280780, 280796, 280808, 280818, 280829, 280839, 280860, 280872, 280882, 280890, 280900, 280915, 280926, 280937, 280955, 280966, 280976, 280995, 281005, 281016, 281028, 281039, 281049, 281155, 281165, 281175, 281185, 281194, 281205, 281215, 281225, 281235, 281245, 281255, 281270, 281279, 281290, 281306, 281316, 281342, 281352, 281362, 281373, 281383, 281394, 281404, 281413, 281430, 281439, 281450, 281466, 281476, 281487, 281529, 281538, 281548, 281574, 281583, 281595, 281608, 281619, 281630, 281640, 281651, 281662, 281671, 281680, 281693, 281702, 281714, 281723, 281733, 281742, 281752, 281780, 281791, 281801, 281811, 281821, 281832, 281841, 281852, 281888, 281924, 281935, 281945, 281955, 281967, 281977, 281987, 281998, 282009, 282019, 282030, 282041, 282052, 282064, 282074, 282085, 282095, 282106, 282117, 282127, 282138, 282148, 282161, 282170, 282184, 282195, 282208, 282218, 282230, 282248, 282258, 282268, 282279, 282296, 282309, 282325, 282337, 282349, 282359, 282368, 282378, 282395, 282406, 282416, 282426, 282436, 282446, 282456, 282469, 282479, 282489, 282499, 282509, 282519, 282529, 282539, 282549, 282561, 282571, 282581, 282591, 282601, 282611, 282622, 282634, 282647, 282658, 282668, 282680, 282690, 282704, 282714, 282728, 282742, 282753, 282767, 282780, 282791, 282805, 282819, 282829, 282839, 282849, 282860, 282872, 282882, 282892, 282901, 282912, 282923, 282935, 282946, 282958, 282971, 282981, 282993, 283007, 283018, 283033, 283043, 283054, 283065, 283075, 283085, 283097, 283109, 283121, 283131, 283143, 283153, 283168, 283205, 283267, 283281, 283291, 283302, 283315, 283327, 283338, 283356, 283366, 283387, 283399, 283410, 283420, 283433, 283445, 283455, 283465, 283476, 283491, 283507, 283520, 283530, 283543, 283553, 283565, 283579, 283589, 283599, 283610, 283624, 283641, 283651, 283669, 283684, 283701, 283714, 283724, 283734, 283745, 283756, 283818, 284099, 284380, 284661, 284942, 284953, 284963, 284973, 284983, 284992, 285001, 285013, 285025, 285035, 285046, 285056, 285069, 285082, 285092, 285106, 285117, 285127, 285137, 285148, 285159, 285170, 285186, 285198, 285210, 285221, 285231, 285241, 285251, 285261, 285271, 285281, 285291, 285301, 285312, 285323, 285333, 285343, 285353, 285372, 285383, 285393, 285406, 285415, 285426, 285440, 285449, 285459, 285471, 285480, 285492, 285504, 285514, 285527, 285537, 285549, 285559, 285570, 285580, 285598, 285608, 285626, 285636, 285647, 285656, 285667, 285679, 285688, 285711, 285722, 285735, 285745, 285757, 285768, 285779, 285800, 285811, 285821, 285829, 285841, 285851, 285861, 285870, 285880, 285894, 285907, 285918, 285929, 285938, 285948, 285959, 285969, 285979, 285987, 285998, 286009, 286020, 286030, 286043, 286053, 286066, 286076, 286085, 286096, 286107, 286117, 286126, 286136, 286146, 286158, 286170, 286182, 286194, 286207, 286217, 286226, 286240, 286250, 286264, 286273, 286285, 286295, 286304, 286320, 286332, 286342, 286355, 286365, 286375, 286385, 286396, 286406, 286420, 286441, 286461, 286477, 286488, 286499, 286510, 286521, 286532, 286544, 286554, 286582, 286595, 286610, 286620, 286629, 286639, 286651, 286661, 286671, 286685, 286698, 286714, 286725, 286741, 286753, 286763, 286776, 286786, 286796, 286809, 286820, 286830, 286841, 286852, 286951, 286961, 286971, 286981, 286994, 287015, 287024, 287034, 287047, 287057, 287067, 287076, 287085, 287095, 287111, 287120, 287131, 287142, 287153, 287164, 287177, 287351, 287362, 287374, 287385, 287398, 287408, 287418, 287433, 287443, 287452, 287463, 287472, 287483, 287493, 287503, 287514, 287524, 287535, 287546, 287557, 287567, 287577, 287587, 287598, 287613, 287623, 287634, 287644, 287655, 287665, 287675, 287691, 287701, 287720, 287732, 287744, 287756, 287766, 287778, 287790, 287803, 287817, 287833, 287848, 287859, 287870, 287885, 287895, 287904, 287931, 287940, 287951, 287963, 287976, 287987, 287998, 288010, 288019, 288029, 288040, 288050, 288063, 288073, 288082, 288092, 288103, 288114, 288124, 288196, 288206, 288216, 288225, 288241, 288255, 288267, 288276, 288293, 288312, 288326, 288336, 288361, 288371, 288384, 288395, 288406, 288417, 288428, 288459, 288474, 288495, 288507, 288518, 288529, 288540, 288550, 288560, 288571, 288581, 288591, 288603, 288615, 288628, 288641, 288652, 288662, 288672, 288683, 288693, 288704, 288714, 288725, 288735, 288765, 288800, 288811, 288833, 288843, 288853, 288863, 288874, 288885, 288911, 288925, 288936, 288950, 288963, 288973, 288986, 288996, 289006, 289017, 289030, 289040, 289051, 289061, 289072, 289083, 289093, 289105, 289118, 289133, 289151, 289161, 289172, 289203, 289284, 289295, 289305, 289315, 289325, 289336, 289346, 289356, 289366, 289387, 289405, 289414, 289425, 289437, 289448, 289460, 289470, 289481, 289491, 289500, 289512, 289523, 289533, 289547, 289556, 289566, 289576, 289590, 289600, 289613, 289623, 289636, 289650, 289660, 289671, 289681, 289691, 289701, 289712, 289723, 289733, 289743, 289754, 289766, 289776, 289786, 289796, 289806, 289816, 289828, 289841, 289853, 289873, 289884, 289899, 289911, 289922, 289933, 289945, 289956, 289967, 289978, 289989, 289999, 290009, 290020, 290032, 290043, 290055, 290075, 290085, 290094, 290104, 290114, 290124, 290136, 290149, 290159, 290170, 290180, 290194, 290206, 290217, 290227, 290237, 290247, 290261, 290275, 290288, 290299, 290309, 290319, 290331, 290343, 290355, 290365, 290375, 290385, 290395, 290424, 290433, 290443, 290453, 290463, 290474, 290486, 290499, 290554, 290564, 290574, 290584, 290594, 290605, 290616, 290629, 290640, 290650, 290660, 290670, 290680, 290691, 290703, 290713, 290724, 290734, 290751, 290762, 290772, 290790, 290803, 290817, 290829, 290843, 290853, 290865, 290878, 290888, 290898, 290915, 290926, 290940, 290951, 290962, 290976, 290987, 290997, 291008, 291029, 291050, 291066, 291082, 291098, 291108, 291124, 291135, 291145, 291177, 291211, 291222, 291236, 291258, 291268, 291285, 291297, 291308, 291321, 291331, 291343, 291352, 291362, 291373, 291384, 291393, 291405, 291417, 291429, 291442, 291452, 291462, 291472, 291485, 291495, 291506, 291516, 291526, 291536, 291548, 291560, 291570, 291580, 291590, 291600, 291611, 291622, 291633, 291643, 291653, 291663, 291673, 291683, 291694, 291704, 291714, 291724, 291736, 291747, 291756, 291766, 291781, 291791, 291801, 291811, 291822, 291833, 291843, 291854, 291872, 291882, 291892, 291902, 291914, 291924, 292205, 292486, 292767, 293048, 293061, 293073, 293085, 293095, 293104, 293115, 293127, 293140, 293152, 293164, 293176, 293186, 293196, 293211, 293220, 293230, 293240, 293250, 293267, 293279, 293294, 293310, 293321, 293332, 293354, 293369, 293379, 293389, 293400, 293410, 293421, 293432, 293445, 293456, 293466, 293475, 293486, 293496, 293506, 293517, 293528, 293539, 293549, 293559, 293572, 293586, 293597, 293607, 293617, 293632, 293642, 293657, 293672, 293687, 293697, 293707, 293737, 293750, 293763, 293774, 293784, 293795, 293805, 293815, 293826, 293836, 293847, 293860, 293870, 293881, 293892, 293901, 293912, 293921, 293930, 293941, 293950, 293960, 293970, 293981, 293993, 294004, 294015, 294024, 294036, 294048, 294064, 294076, 294086, 294096, 294106, 294123, 294151, 294161, 294172, 294183, 294193, 294204, 294214, 294225, 294235, 294246, 294257, 294267, 294277, 294287, 294298, 294308, 294320, 294331, 294342, 294352, 294362, 294374, 294384, 294393, 294405, 294415, 294425, 294436, 294449, 294461, 294471, 294482, 294492, 294502, 294513, 294523, 294535, 294544, 294555, 294565, 294577, 294587, 294597, 294607, 294623, 294634, 294644, 294654, 294664, 294677, 294690, 294702, 294714, 294724, 294735, 294745, 294755, 294766, 294777, 294787, 294797, 294807, 294817, 294827, 294837, 294847, 294860, 294870, 294883, 294893, 294906, 294917, 294929, 294938, 294951, 294964, 294979, 294990, 295001, 295018, 295028, 295038, 295049, 295059, 295074, 295249, 295426, 295436, 295446, 295456, 295468, 295479, 295489, 295499, 295509, 295532, 295543, 295557, 295569, 295583, 295597, 295608, 295660, 295673, 295683, 295695, 295704, 295713, 295723, 295732, 295746, 295756, 295768, 295778, 295788, 295798, 295809, 295820, 295832, 295844, 295855, 295865, 295877, 295887, 295897, 295910, 295924, 295936, 295946, 295957, 295968, 295978, 295989, 296002, 296012, 296023, 296038, 296048, 296058, 296068, 296082, 296092, 296102, 296113, 296126, 296135, 296145, 296159, 296169, 296179, 296191, 296200, 296210, 296220, 296229, 296239, 296249, 296262, 296271, 296283, 296292, 296303, 296313, 296322, 296331, 296340, 296352, 296362, 296381, 296390, 296401, 296412, 296422, 296432, 296445, 296456, 296466, 296478, 296488, 296499, 296511, 296523, 296536, 296549, 296559, 296569, 296581, 296600, 296613, 296626, 296636, 296654, 296664, 296674, 296684, 296694, 296704, 296714, 296724, 296734, 296749, 296761, 296770, 296779, 296796, 296811, 296821, 296831, 296841, 296851, 296860, 296870, 296880, 296892, 296903, 296914, 296924, 296944, 296957, 296970, 296983, 296994, 297005, 297018, 297032, 297046, 297056, 297069, 297079, 297089, 297099, 297113, 297137, 297147, 297206, 297217, 297230, 297241, 297250, 297261, 297274, 297283, 297321, 297336, 297348, 297361, 297372, 297382, 297392, 297425, 297437, 297448, 297458, 297468, 297480, 297490, 297500, 297510, 297522, 297532, 297543, 297553, 297563, 297573, 297583, 297599, 297609, 297619, 297629, 297639, 297651, 297662, 297674, 297684, 297697, 297707, 297717, 297731, 297741, 297751, 297761, 297772, 297784, 297794, 297804, 297817, 297830, 297840, 297854, 297865, 297875, 297885, 297899, 297909, 297919, 297929, 297942, 297952, 297962, 297979, 297989, 297999, 298009, 298019, 298029, 298041, 298051, 298061, 298071, 298081, 298091, 298103, 298114, 298126, 298138, 298150, 298163, 298172, 298182, 298193, 298203, 298219, 298232, 298242, 298252, 298263, 298274, 298284, 298296, 298307, 298318, 298328, 298339, 298351, 298361, 298371, 298381, 298391, 298401, 298411, 298421, 298434, 298445, 298455, 298468, 298480, 298490, 298503, 298513, 298524, 298534, 298544, 298555, 298564, 298574, 298584, 298595, 298605, 298615, 298627, 298638, 298649, 298660, 298672, 298684, 298696, 298706, 298718, 298728, 298737, 298750, 298763, 298774, 298785, 298800, 298811, 298822, 298832, 298849, 298863, 298874, 298884, 298894, 298904, 298918, 298928, 298939, 298958, 298970, 298980, 298993, 299006, 299016, 299027, 299035, 299045, 299057, 299067, 299078, 299090, 299100, 299117, 299127, 299137, 299148, 299158, 299168, 299183, 299193, 299206, 299216, 299226, 299258, 299290, 299322, 299332, 299343, 299358, 299368, 299379, 299389, 299399, 299411, 299422, 299434, 299445, 299456, 299467, 299481, 299493, 299513, 299525, 299537, 299548, 299560, 299570, 299580, 299591, 299601, 299611, 299621, 299631, 299642, 299654, 299664, 299674, 299684, 299695, 299705, 299716, 299728, 299739, 299752, 299762, 299772, 299783, 299793, 299803, 299820, 299833, 299843, 299858, 299869, 299879, 299889, 299899, 299909, 299919, 299932, 299942, 299952, 299962, 299972, 299982, 299992, 300002, 300012, 300022, 300032, 300042, 300052, 300062, 300076, 300086, 300096, 300106, 300116, 300126, 300137, 300147, 300158, 300169, 300179, 300198, 300209, 300219, 300230, 300241, 300251, 300262, 300274, 300283, 300297, 300307, 300317, 300327, 300340, 300350, 300360, 300371, 300385, 300395, 300405, 300415, 300425, 300437, 300447, 300457, 300467, 300477, 300488, 300500, 300512, 300523, 300536, 300546, 300558, 300569, 300581, 300595, 300608, 300621, 300634, 300644, 300654, 300664, 300675, 300686, 300698, 300709, 300722, 300732, 300742, 300752, 300762, 300772, 300782, 300793, 300803, 300813, 300823, 300833, 300843, 300854, 300867, 300877, 300887, 300898, 300908, 300918, 300927, 300937, 300947, 300958, 300967, 300977, 300986, 300998, 301007, 301018, 301032, 301041, 301050, 301060, 301073, 301093, 301102, 301112, 301121, 301131, 301146, 301157, 301168, 301177, 301190, 301203, 301214, 301228, 301238, 301253, 301263, 301277, 301294, 301305, 301314, 301325, 301335, 301344, 301354, 301365, 301375, 301385, 301395, 301406, 301416, 301429, 301438, 301451, 301461, 301474, 301484, 301503, 301513, 301523, 301534, 301546, 301556, 301566, 301576, 301587, 301597, 301607, 301617, 301627, 301639, 301650, 301662, 301673, 301684, 301694, 301703, 301712, 301722, 301732, 301742, 301752, 301762, 301782, 301793, 301802, 301812, 301822, 301832, 301846, 301855, 301865, 301875, 301885, 301895, 301905, 301915, 301925, 301937, 301947, 301958, 301968, 301988, 302008, 302021, 302034, 302047, 302060, 302073, 302086, 302099, 302109, 302124, 302134, 302145, 302168, 302334, 302349, 302364, 302374, 302385, 302412, 302423, 302435, 302445, 302460, 302472, 302485, 302495, 302507, 302518, 302531, 302541, 302552, 302562, 302572, 302582, 302592, 302603, 302615, 302625, 302635, 302660, 302670, 302698, 302708, 302718, 302728, 302743, 302753, 302763, 302773, 302783, 302796, 302820, 302830, 302840, 302851, 302863, 302873, 302883, 302920, 302932, 302965, 302975, 302985, 302995, 303004, 303014, 303025, 303036, 303047, 303071, 303082, 303093, 303103, 303113, 303123, 303133, 303143, 303154, 303164, 303174, 303184, 303193, 303204, 303215, 303225, 303236, 303245, 303255, 303265, 303275, 303285, 303295, 303305, 303316, 303326, 303336, 303346, 303362, 303372, 303382, 303394, 303405, 303415, 303425, 303437, 303446, 303455, 303466, 303476, 303486, 303496, 303506, 303516, 303527, 303537, 303547, 303558, 303569, 303581, 303591, 303601, 303612, 303623, 303637, 303648, 303661, 303671, 303682, 303692, 303702, 303712, 303722, 303732, 303742, 303752, 303769, 303779, 303790, 303804, 303815, 303825, 303836, 303847, 303857, 303867, 303877, 303896, 303915, 303926, 303937, 303948, 303968, 303978, 303988, 303998, 304012, 304021, 304029, 304040, 304054, 304071, 304088, 304106, 304126, 304146, 304166, 304184, 304194, 304205, 304216, 304226, 304236, 304246, 304256, 304266, 304276, 304287, 304298, 304309, 304320, 304338, 304349, 304360, 304369, 304382, 304398, 304410, 304420, 304433, 304443, 304459, 304469, 304480, 304494, 304508, 304521, 304535, 304545, 304556, 304566, 304576, 304590, 304601, 304611, 304621, 304631, 304642, 304652, 304663, 304672, 304686, 304696, 304706, 304715, 304726, 304736, 304747, 304757, 304768, 304778, 304788, 304800, 304810, 304820, 304830, 304840, 304850, 304860, 304869, 305036, 305203, 305217, 305384, 305551, 305563, 305730, 305897, 305908, 305918, 305928, 305938, 305953, 305962, 305974, 305984, 305993, 306005, 306017, 306027, 306039, 306050, 306067, 306075, 306089, 306099, 306109, 306119, 306132, 306142, 306152, 306162, 306172, 306182, 306193, 306202, 306221, 306238, 306251, 306263, 306274, 306285, 306296, 306307, 306318, 306333, 306347, 306362, 306372, 306382, 306394, 306405, 306417, 306427, 306437, 306447, 306460, 306473, 306489, 306503, 306514, 306524, 306534, 306546, 306557, 306567, 306578, 306590, 306602, 306614, 306624, 306635, 306645, 306656, 306666, 306675, 306684, 306693, 306718, 306736, 306760, 306770, 306780, 306790, 306800, 306810, 306821, 306831, 306841, 306851, 306861, 306871, 306881, 306891, 306901, 306911, 306921, 306931, 306941, 306951, 306961, 306971, 306983, 306996, 307006, 307022, 307032, 307045, 307059, 307071, 307087, 307103, 307117, 307131, 307140, 307149, 307159, 307173, 307193, 307205, 307215, 307224, 307238, 307250, 307260, 307271, 307281, 307292, 307305, 307473, 307486, 307654, 307663, 307674, 307686, 307696, 307706]\n"
          ]
        }
      ],
      "source": [
        "idx = [0] # 한 법안의 index, idx[i]:idx[i+1]에는 같은 법안을 낸 여러 사람의 명단이 있다.\n",
        "for i in range(len(relation_state)-1):\n",
        "  if relation_state['법안 ID'][i] != relation_state['법안 ID'][i+1]:\n",
        "    idx.append(i+1)\n",
        "idx.append(len(relation_state))\n",
        "print(idx, sep = ' ')"
      ]
    },
    {
      "cell_type": "code",
      "execution_count": 644,
      "metadata": {
        "colab": {
          "base_uri": "https://localhost:8080/",
          "height": 419
        },
        "id": "N4YHI6aXF8v_",
        "outputId": "0fac26a1-288e-4098-d5e6-117578b0454f"
      },
      "outputs": [
        {
          "name": "stdout",
          "output_type": "stream",
          "text": [
            "총 의원 명수: 307706\n",
            "총 법안 개수: 22955\n",
            "0 1 2 3 4 5 6 7 8 9 10 11 12 13 14 15 16 17 18 19 20 21 22 23 24 25 26 27 28 29 30 31 32 33 34 35 36 37 38 39 40 41 42 43 44 45 46 47 48 49 50 51 52 53 54 55 56 57 58 59 60 61 62 63 64 65 66 67 68 69 70 71 72 73 74 75 76 77 78 79 80 81 82 83 84 85 86 87 88 89 90 91 92 93 94 95 96 97 98 99 100 101 102 103 104 105 106 107 108 109 110 111 112 113 114 115 116 117 118 119 120 121 122 123 124 125 126 127 128 129 130 131 132 133 134 135 136 137 138 139 140 141 142 143 144 145 146 147 148 149 150 151 152 153 154 155 156 157 158 159 160 161 162 163 164 165 166 167 168 169 170 171 172 173 174 175 176 177 178 179 180 181 182 183 184 185 186 187 188 189 190 191 192 193 194 195 196 197 198 199 200 201 202 203 204 205 206 207 "
          ]
        }
      ],
      "source": [
        "df_graph.sort_index(inplace = True) # 경고가 자꾸 떠서...\n",
        "print(f'총 의원 명수: {len(relation_state)}') # 총 307,707명의 의원,,,\n",
        "print(f'총 법안 개수: {len(idx)}') # 총 22,956개의 데이터...\n",
        "cnt = 0\n",
        "for i in range(len(idx)-1):\n",
        "    lst = relation_state['이름'][idx[i]:idx[i+1]].copy().sort_values().reset_index(drop = True)\n",
        "    for j in range(len(lst)-1): \n",
        "        for k in range(j+1, len(lst)):\n",
        "            df_graph.loc[(lst[j], lst[k]), [relation_state['상태'][idx[i]]]] += 1\n",
        "    print(cnt, end = ' ')\n",
        "    cnt+=1\n",
        "    if cnt % 1000 == 0:\n",
        "        print()\n",
        "df_graph.to_csv('./raw_data/graph_edge.csv')"
      ]
    },
    {
      "cell_type": "code",
      "execution_count": null,
      "metadata": {
        "id": "49dvpsy8wBIW"
      },
      "outputs": [],
      "source": [
        "graph_edge = pd.read_csv('./raw_data/graph_edge.csv')\n",
        "graph_edge.head(3)"
      ]
    },
    {
      "cell_type": "code",
      "execution_count": null,
      "metadata": {
        "id": "hqqI9zqibeQZ"
      },
      "outputs": [],
      "source": [
        "nx_G = nx.from_pandas_edgelist(graph_edge, source = '의원A', target = '의원B', create_using = nx.Graph())\n",
        "nx_G"
      ]
    },
    {
      "cell_type": "code",
      "execution_count": null,
      "metadata": {
        "id": "ru-XwaohcQVe"
      },
      "outputs": [],
      "source": [
        "nx_G.number_of_edges(), nx_G.number_of_nodes()"
      ]
    },
    {
      "cell_type": "markdown",
      "metadata": {
        "id": "LIu7F-Jz5qEL"
      },
      "source": [
        "1. top 10% 국회의원이 얼마나 전체 상호작용의 얼마에 참여하는가?"
      ]
    },
    {
      "cell_type": "code",
      "execution_count": null,
      "metadata": {
        "id": "he9FAyiS5z0W"
      },
      "outputs": [],
      "source": [
        "df['상호작용'].sort_values(ascending = False)"
      ]
    },
    {
      "cell_type": "code",
      "execution_count": null,
      "metadata": {
        "id": "emyKqOk16MnI"
      },
      "outputs": [],
      "source": [
        "# 상위 10% -> 20%\n",
        "df['상호작용'].sort_values(ascending = False)[:30].sum() / df['상호작용'].sum()"
      ]
    },
    {
      "cell_type": "code",
      "execution_count": null,
      "metadata": {
        "id": "yXTj2EMt6t1j"
      },
      "outputs": [],
      "source": [
        "# 하위 10% -> 3%\n",
        "df['상호작용'].sort_values()[:30].sum() / df['상호작용'].sum()"
      ]
    },
    {
      "cell_type": "markdown",
      "metadata": {
        "id": "kx2AKpm5Wdi6"
      },
      "source": [
        "2. degree of separation?"
      ]
    },
    {
      "cell_type": "code",
      "execution_count": null,
      "metadata": {
        "id": "dNvteliMWZXT"
      },
      "outputs": [],
      "source": [
        "dos = sorted(list(graph_edge.상호작용.value_counts()))\n",
        "print(dos, sep = ' ') # 어...? degree of separation의 평균은 \"1\"...이다..."
      ]
    },
    {
      "cell_type": "markdown",
      "metadata": {
        "id": "Gl5zjKWKYdhc"
      },
      "source": [
        "3. 평균적으로 얼마나 많은 사람들이 법안에 참여하는지?"
      ]
    },
    {
      "cell_type": "code",
      "execution_count": null,
      "metadata": {
        "id": "P8wR3cFQXl69"
      },
      "outputs": [],
      "source": [
        "law = []\n",
        "for i in range(len(idx)-1):\n",
        "  law.append(idx[i+1]-idx[i])\n",
        "print(law, sep = ' ')"
      ]
    },
    {
      "cell_type": "code",
      "execution_count": null,
      "metadata": {
        "id": "PRYsdWRPPtoA"
      },
      "outputs": [],
      "source": [
        "sorted(law, reverse = True)"
      ]
    },
    {
      "cell_type": "code",
      "execution_count": null,
      "metadata": {
        "id": "qIjUmwQD-rJN"
      },
      "outputs": [],
      "source": [
        "relation_state[:][1110:1120]"
      ]
    },
    {
      "cell_type": "code",
      "execution_count": null,
      "metadata": {
        "id": "HpBn4qwh_Ej4"
      },
      "outputs": [],
      "source": [
        "state[state['인덱스'] == 'PRC_I2N3X1L0I1H3H1V7X5J0K2H3V7I5D8']"
      ]
    },
    {
      "cell_type": "code",
      "execution_count": null,
      "metadata": {
        "id": "2VphbmxnYRl-"
      },
      "outputs": [],
      "source": [
        "pd.Series(law).describe()"
      ]
    },
    {
      "cell_type": "code",
      "execution_count": null,
      "metadata": {
        "id": "ycn3wewHqlWD"
      },
      "outputs": [],
      "source": [
        "np.percentile(law, [90, 95, 99])"
      ]
    },
    {
      "cell_type": "code",
      "execution_count": null,
      "metadata": {
        "id": "DI5PvnxRn1FD"
      },
      "outputs": [],
      "source": [
        "cdf = np.arange(1, len(np.sort(law)) + 1) / len(np.sort(law))\n",
        "plt.plot(np.sort(law), cdf)"
      ]
    },
    {
      "cell_type": "markdown",
      "metadata": {
        "id": "9iIbjinsyFKM"
      },
      "source": [
        "4. 초당적 협력"
      ]
    },
    {
      "cell_type": "code",
      "execution_count": null,
      "metadata": {
        "id": "gGnT-DkNzD7B"
      },
      "outputs": [],
      "source": [
        "rel = relation_state.copy()\n",
        "rel.set_index(['인덱스'], inplace = True)\n",
        "rel.head(3)"
      ]
    },
    {
      "cell_type": "code",
      "execution_count": null,
      "metadata": {
        "id": "1JmgkA3gJO2J"
      },
      "outputs": [],
      "source": [
        "chodang = []\n",
        "rel_idx = rel.index.unique()\n",
        "rel_tmp = rel[:]['정당명'].copy()\n",
        "cnt = 0\n",
        "for i in rel_idx:\n",
        "  if type(rel_tmp[i]) != str:\n",
        "    rel_tmp[i].unique()\n",
        "    chodang.append(rel_tmp[i].unique())\n",
        "  else:\n",
        "    chodang.append(list(rel_tmp[i]))\n",
        "  print(cnt, end = ' ')\n",
        "  cnt += 1\n",
        "print(chodang, sep = ' ')"
      ]
    },
    {
      "cell_type": "code",
      "execution_count": null,
      "metadata": {
        "id": "vS8NdK0pODOJ"
      },
      "outputs": [],
      "source": [
        "S = pd.Series(chodang)\n",
        "S.value_counts()"
      ]
    },
    {
      "cell_type": "markdown",
      "metadata": {
        "id": "zq1_iPMQsXZi"
      },
      "source": [
        "5. 의원"
      ]
    },
    {
      "cell_type": "code",
      "execution_count": null,
      "metadata": {
        "id": "v0jTwdrRsY7u"
      },
      "outputs": [],
      "source": [
        "df_temp = pd.merge(member[['이름','정당명']], df, how = 'inner', on = '이름')\n",
        "df_temp.head(3)"
      ]
    },
    {
      "cell_type": "code",
      "execution_count": null,
      "metadata": {
        "id": "vDDRMddOumUn"
      },
      "outputs": [],
      "source": [
        "dang = df_temp.groupby('정당명').mean()\n",
        "dang['pos%'] = dang['positive'] / dang['상호작용']\n",
        "dang['neu%'] = dang['neutral'] / dang['상호작용']\n",
        "dang['neg%'] = dang['negative'] / dang['상호작용']\n",
        "dang['rem%'] = dang['remain'] / dang['상호작용']\n",
        "dang"
      ]
    },
    {
      "cell_type": "markdown",
      "metadata": {
        "id": "SGPh4582wmN5"
      },
      "source": [
        "야당일 수록 계류 대신 의결안이 더 많을 것이다.\n",
        "그렇진 않은걸"
      ]
    },
    {
      "cell_type": "code",
      "execution_count": null,
      "metadata": {
        "id": "0g_n8-CVxUAN"
      },
      "outputs": [],
      "source": [
        "df_temp2 = pd.merge(member[['이름','위원회']], df, how = 'inner', on = '이름')\n",
        "df_temp2.head(3)"
      ]
    },
    {
      "cell_type": "code",
      "execution_count": null,
      "metadata": {
        "id": "B7_GMQ-mxmdL"
      },
      "outputs": [],
      "source": [
        "commi = df_temp2.groupby('위원회').mean()\n",
        "commi['pos%'] = commi['positive'] / commi['상호작용']\n",
        "commi['neu%'] = commi['neutral'] / commi['상호작용']\n",
        "commi['neg%'] = commi['negative'] / commi['상호작용']\n",
        "commi['rem%'] = commi['remain'] / commi['상호작용']\n",
        "commi"
      ]
    },
    {
      "cell_type": "markdown",
      "metadata": {
        "id": "dBGGlAJjyCZh"
      },
      "source": [
        "많은 위원회에 속해 있을 수록 입법 활동을 더 적극적으로 할 것이다.\n",
        "그건 또 아님"
      ]
    }
  ],
  "metadata": {
    "colab": {
      "provenance": []
    },
    "kernelspec": {
      "display_name": "Python 3",
      "name": "python3"
    },
    "language_info": {
      "codemirror_mode": {
        "name": "ipython",
        "version": 3
      },
      "file_extension": ".py",
      "mimetype": "text/x-python",
      "name": "python",
      "nbconvert_exporter": "python",
      "pygments_lexer": "ipython3",
      "version": "3.11.5"
    }
  },
  "nbformat": 4,
  "nbformat_minor": 0
}
